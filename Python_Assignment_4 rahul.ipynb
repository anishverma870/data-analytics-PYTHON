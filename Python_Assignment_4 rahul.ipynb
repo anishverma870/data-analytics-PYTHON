{
 "cells": [
  {
   "cell_type": "markdown",
   "id": "51f3bb8a-ca5f-4bb4-bc64-6aa4c6a9ece7",
   "metadata": {
    "id": "51f3bb8a-ca5f-4bb4-bc64-6aa4c6a9ece7"
   },
   "source": [
    "📖 Story Continuation: The Tuple Team Assignments!\n",
    "\n",
    "With the student list restored, it's time to form teams for the competition! The Tech Club must use Tuples to assign students into teams, ensuring each team has exactly two members.\n",
    "\n",
    "🔢 Python Tuple Challenges\n",
    "\n"
   ]
  },
  {
   "cell_type": "markdown",
   "id": "cae1160e-bc4c-4a7b-b91c-a6660187d71a",
   "metadata": {
    "id": "cae1160e-bc4c-4a7b-b91c-a6660187d71a"
   },
   "source": [
    "1️⃣ Create a tuple named team_1 with the first two students from the student list.\n",
    "\n",
    "# Your code here\n",
    "\n"
   ]
  },
  {
   "cell_type": "code",
   "execution_count": 22,
   "id": "71af915c-f043-4213-a286-74b8a5cec81b",
   "metadata": {},
   "outputs": [],
   "source": [
    "team1 = ('anish','khushi')\n"
   ]
  },
  {
   "cell_type": "markdown",
   "id": "d11d30fb-ccef-4848-9465-13adcaab93c8",
   "metadata": {
    "id": "d11d30fb-ccef-4848-9465-13adcaab93c8"
   },
   "source": [
    "2️⃣ Tuples are immutable! Try changing the second student's name in team_1 and note the error message.\n",
    "\n",
    "# Your code here\n",
    "\n"
   ]
  },
  {
   "cell_type": "code",
   "execution_count": 31,
   "id": "11505ff9-47c2-4066-b702-915203c64a23",
   "metadata": {},
   "outputs": [
    {
     "name": "stdout",
     "output_type": "stream",
     "text": [
      "('anish', 'div')\n"
     ]
    }
   ],
   "source": [
    "list1 = list(team1)\n",
    "list1[1] = 'div'\n",
    "team1 = tuple(list1)\n",
    "print(team1)\n"
   ]
  },
  {
   "cell_type": "markdown",
   "id": "ac06be47-f35a-4627-9d34-0a68eeff5cbb",
   "metadata": {
    "id": "ac06be47-f35a-4627-9d34-0a68eeff5cbb"
   },
   "source": [
    "3️⃣ Convert the team_1 tuple into a list, change the second student's name, and convert it back to a tuple.\n",
    "\n",
    "# Your code here\n"
   ]
  },
  {
   "cell_type": "code",
   "execution_count": null,
   "id": "6210b1aa-fb73-46d1-a0c7-3fe7c3bf19b8",
   "metadata": {},
   "outputs": [],
   "source": [
    "list1 = list(team1)\n",
    "list1[1] = 'div'\n",
    "team1 = tuple(list1)\n",
    "print(team1)\n"
   ]
  },
  {
   "cell_type": "markdown",
   "id": "58163cd3-c3ee-4ab5-b3da-33fee9a9144a",
   "metadata": {
    "id": "58163cd3-c3ee-4ab5-b3da-33fee9a9144a"
   },
   "source": [
    "\n",
    "4️⃣ Create a tuple named all_teams that contains three different teams, each as a tuple.\n",
    "\n",
    "# Your code here\n",
    "\n"
   ]
  },
  {
   "cell_type": "markdown",
   "id": "81bdcb6b-b6d3-40f3-8561-ef39517977c3",
   "metadata": {
    "id": "81bdcb6b-b6d3-40f3-8561-ef39517977c3"
   },
   "source": [
    "#### 5️⃣ Use tuple unpacking to extract the student names from team_1 into separate variables and print them."
   ]
  },
  {
   "cell_type": "markdown",
   "id": "77fa7c69-f9b5-4c85-a122-ffcecee57018",
   "metadata": {
    "id": "77fa7c69-f9b5-4c85-a122-ffcecee57018"
   },
   "source": [
    "# 🏆 Story Conclusion:\n",
    "\n",
    "### With teams successfully assigned using tuples, the Tech Club is now fully prepared for the competition! But another challenge awaits—handling competition scores using dictionaries! 🚀"
   ]
  },
  {
   "cell_type": "markdown",
   "id": "9674d6ce-cf10-40a1-90f8-8683b42c64a8",
   "metadata": {
    "id": "9674d6ce-cf10-40a1-90f8-8683b42c64a8"
   },
   "source": [
    "# 🎉 MISSION COMPLETE!\n",
    "## Great job, Alex! You have successfully helped Greenfield High using Python! 🚀💡"
   ]
  },
  {
   "cell_type": "markdown",
   "id": "7a0e4833-5003-4c90-8d29-b74ac96a9910",
   "metadata": {
    "id": "7a0e4833-5003-4c90-8d29-b74ac96a9910"
   },
   "source": [
    "**(c) Rahul Tiwari**"
   ]
  }
 ],
 "metadata": {
  "colab": {
   "provenance": []
  },
  "kernelspec": {
   "display_name": "Python [conda env:base] *",
   "language": "python",
   "name": "conda-base-py"
  },
  "language_info": {
   "codemirror_mode": {
    "name": "ipython",
    "version": 3
   },
   "file_extension": ".py",
   "mimetype": "text/x-python",
   "name": "python",
   "nbconvert_exporter": "python",
   "pygments_lexer": "ipython3",
   "version": "3.12.7"
  }
 },
 "nbformat": 4,
 "nbformat_minor": 5
}
