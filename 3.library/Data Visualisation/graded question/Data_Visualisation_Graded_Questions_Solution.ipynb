{
  "cells": [
    {
      "cell_type": "markdown",
      "metadata": {
        "id": "gwmXEXvyV5em"
      },
      "source": [
        "## Data Visualisation - Graded Questions\n"
      ]
    },
    {
      "cell_type": "markdown",
      "metadata": {
        "id": "kBAKbXHRV5et"
      },
      "source": [
        "`Note` - *This stub file doesn't contain the conceptual questions asked on the platform*"
      ]
    },
    {
      "cell_type": "markdown",
      "metadata": {
        "id": "fF5ce7HIV5eu"
      },
      "source": [
        "### I) Marks Analysis\n",
        "\n",
        "In the **'Marks.csv'** file, you can find the scores obtained by 200 students in 4 subjects of a standardised test. The different columns - `Score A`, `Score B`, `Score C` and `Score D` indicate the score obtained by a particular student in the respective subjects A, B, C and D.\n",
        "\n",
        "\n",
        "\n",
        "Load the dataset to your notebook and answer the following questions"
      ]
    },
    {
      "cell_type": "code",
      "execution_count": null,
      "metadata": {
        "id": "CQrNu7WsV5ev"
      },
      "outputs": [],
      "source": [
        "#Load the necessary Libraries\n",
        "import pandas as pd\n",
        "import numpy as np\n",
        "import seaborn as sns\n",
        "import matplotlib.pyplot as plt"
      ]
    },
    {
      "cell_type": "code",
      "execution_count": null,
      "metadata": {
        "id": "VlEJWQRuV5ez"
      },
      "outputs": [],
      "source": [
        "#Load the dataset\n",
        "df1 = pd.read_csv('Marks.csv')"
      ]
    },
    {
      "cell_type": "markdown",
      "metadata": {
        "id": "TZZ7HNCUV5e0"
      },
      "source": [
        "**Q1)** Load the dataset and plot a histogram for the `Score A` column by keeping the `number of bins to 6`. Which bin range among the following has the highest frequency?\n",
        "\n",
        "(`Note` - *The bin ranges mentioned in the options are approximate values for the bin ranges that you'll actually get when you plot the histogram*)\n",
        "\n",
        "    a)0-50\n",
        "    b)50-100\n",
        "    c)150-200\n",
        "    d)200-250"
      ]
    },
    {
      "cell_type": "code",
      "execution_count": null,
      "metadata": {
        "id": "OHp6-VapV5e1",
        "outputId": "6fa78942-b283-46ae-883c-d137c74f6f55"
      },
      "outputs": [
        {
          "data": {
            "text/plain": [
              "(array([36., 34., 29., 30., 45., 26.]),\n",
              " array([  0.7       ,  49.98333333,  99.26666667, 148.55      ,\n",
              "        197.83333333, 247.11666667, 296.4       ]),\n",
              " <a list of 6 Patch objects>)"
            ]
          },
          "execution_count": 5,
          "metadata": {},
          "output_type": "execute_result"
        },
        {
          "data": {
            "image/png": "[encoded data removed]",
            "text/plain": [
              "<Figure size 432x288 with 1 Axes>"
            ]
          },
          "metadata": {
            "needs_background": "light"
          },
          "output_type": "display_data"
        }
      ],
      "source": [
        "#Plot a histogram for the marks of Score A and report the approximate range containing the highest frequency.\n",
        "plt.hist(df1['Score A'], bins = 6)"
      ]
    },
    {
      "cell_type": "markdown",
      "metadata": {
        "id": "9Ix-KSG9V5e3"
      },
      "source": [
        "*Ans* - `As you can clearly see the approximate range of 200-250 has the highest frequency`\n",
        "\n",
        "Hence **d) 200-250** is the correct option"
      ]
    },
    {
      "cell_type": "markdown",
      "metadata": {
        "id": "gT_RSf4bV5e4"
      },
      "source": [
        "**Q2)** Plot a box plot for the column `Score C` and choose the correct option.\n",
        "\n",
        "    A - The 25th percentile lies between 20 and 40\n",
        "    B - The 75th percentile lies between 40 and 60\n",
        "    C - The 25th percentile lies between 0 and 20\n",
        "    D - Both B and C"
      ]
    },
    {
      "cell_type": "code",
      "execution_count": null,
      "metadata": {
        "scrolled": true,
        "id": "puSW-s2QV5e4",
        "outputId": "9814df43-e1fb-40c2-851a-d749369ab0e3"
      },
      "outputs": [
        {
          "data": {
            "text/plain": [
              "<matplotlib.axes._subplots.AxesSubplot at 0x20d038fba20>"
            ]
          },
          "execution_count": 6,
          "metadata": {},
          "output_type": "execute_result"
        },
        {
          "data": {
            "image/png": "[encoded data removed]",
            "text/plain": [
              "<Figure size 432x288 with 1 Axes>"
            ]
          },
          "metadata": {
            "needs_background": "light"
          },
          "output_type": "display_data"
        }
      ],
      "source": [
        "#Plotting a box plot for Score C column\n",
        "sns.boxplot(df1['Score C'])"
      ]
    },
    {
      "cell_type": "markdown",
      "metadata": {
        "id": "hw7kg27fV5e5"
      },
      "source": [
        "*Ans* - We can clearly see that the `25th percentile lies between 0 and 20 whereas the 75th percentile lies between 40 and 60`\n",
        "\n",
        "Hence **D) Both B and C** is the correct option"
      ]
    },
    {
      "cell_type": "markdown",
      "metadata": {
        "id": "kgjB1sszV5e6"
      },
      "source": [
        "### II) Superstore Data\n",
        "\n",
        "In the `superstore.csv` file, you have the details of orders purchased in an American online retail store. Load the dataset, observe and analyse the different columns and answer the following questions."
      ]
    },
    {
      "cell_type": "code",
      "execution_count": null,
      "metadata": {
        "id": "RQQpIBZlV5e7"
      },
      "outputs": [],
      "source": [
        "#Load the dataset\n",
        "df2 = pd.read_csv('superstore.csv')"
      ]
    },
    {
      "cell_type": "markdown",
      "metadata": {
        "id": "-dxfGsoUV5e9"
      },
      "source": [
        "**Q3)** Plot a bar chart comparing the average `Discount` across all the `Regions` and report back the `Region` getting the highest average discount\n",
        "\n",
        "**Note** - You need to clean the `Discount` column first\n",
        "\n",
        "    a)Central\n",
        "    b)South\n",
        "    c)West\n",
        "    d)East"
      ]
    },
    {
      "cell_type": "code",
      "execution_count": null,
      "metadata": {
        "id": "fvKl11liV5e9"
      },
      "outputs": [],
      "source": [
        "#Cleaning the discount column\n",
        "df2['Discount']= df2['Discount'].apply(lambda x: float(x[:-1]))"
      ]
    },
    {
      "cell_type": "code",
      "execution_count": null,
      "metadata": {
        "id": "mLfFLILVV5e-",
        "outputId": "b37fef06-54b0-497d-b83a-68ac3b19b4b6"
      },
      "outputs": [
        {
          "data": {
            "text/plain": [
              "<matplotlib.axes._subplots.AxesSubplot at 0x20d03a316a0>"
            ]
          },
          "execution_count": 10,
          "metadata": {},
          "output_type": "execute_result"
        },
        {
          "data": {
            "image/png": "[encoded data removed]",
            "text/plain": [
              "<Figure size 432x288 with 1 Axes>"
            ]
          },
          "metadata": {
            "needs_background": "light"
          },
          "output_type": "display_data"
        }
      ],
      "source": [
        "#Plotting a bar plot \n",
        "sns.barplot(x = 'Region', y = 'Discount', data = df2)"
      ]
    },
    {
      "cell_type": "markdown",
      "metadata": {
        "id": "lEcVxsHMV5e-"
      },
      "source": [
        "You can clearly see that the Central Region has the highest average Discount.\n",
        "\n",
        "Hence **A)Central** is the correct option"
      ]
    },
    {
      "cell_type": "code",
      "execution_count": null,
      "metadata": {
        "id": "RYYFooedV5e_"
      },
      "outputs": [],
      "source": []
    }
  ],
  "metadata": {
    "kernelspec": {
      "display_name": "Python 3",
      "language": "python",
      "name": "python3"
    },
    "language_info": {
      "codemirror_mode": {
        "name": "ipython",
        "version": 3
      },
      "file_extension": ".py",
      "mimetype": "text/x-python",
      "name": "python",
      "nbconvert_exporter": "python",
      "pygments_lexer": "ipython3",
      "version": "3.7.3"
    },
    "colab": {
      "provenance": []
    }
  },
  "nbformat": 4,
  "nbformat_minor": 0
}