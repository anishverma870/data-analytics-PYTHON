{
 "cells": [
  {
   "cell_type": "code",
   "execution_count": 1,
   "id": "851eaf14-2ccf-4de3-81f3-3e1f7efe77ff",
   "metadata": {},
   "outputs": [
    {
     "name": "stdout",
     "output_type": "stream",
     "text": [
      "('Dhawan', 'Sharma', 'Kohli', 'Rahul')\n",
      "('Dhawan', 'Sharma', 'Rahul', 'Kohli')\n",
      "('Dhawan', 'Kohli', 'Sharma', 'Rahul')\n",
      "('Dhawan', 'Kohli', 'Rahul', 'Sharma')\n",
      "('Dhawan', 'Rahul', 'Sharma', 'Kohli')\n",
      "('Dhawan', 'Rahul', 'Kohli', 'Sharma')\n",
      "('Sharma', 'Dhawan', 'Kohli', 'Rahul')\n",
      "('Sharma', 'Dhawan', 'Rahul', 'Kohli')\n",
      "('Sharma', 'Kohli', 'Dhawan', 'Rahul')\n",
      "('Sharma', 'Kohli', 'Rahul', 'Dhawan')\n",
      "('Sharma', 'Rahul', 'Dhawan', 'Kohli')\n",
      "('Sharma', 'Rahul', 'Kohli', 'Dhawan')\n",
      "('Kohli', 'Dhawan', 'Sharma', 'Rahul')\n",
      "('Kohli', 'Dhawan', 'Rahul', 'Sharma')\n",
      "('Kohli', 'Sharma', 'Dhawan', 'Rahul')\n",
      "('Kohli', 'Sharma', 'Rahul', 'Dhawan')\n",
      "('Kohli', 'Rahul', 'Dhawan', 'Sharma')\n",
      "('Kohli', 'Rahul', 'Sharma', 'Dhawan')\n",
      "('Rahul', 'Dhawan', 'Sharma', 'Kohli')\n",
      "('Rahul', 'Dhawan', 'Kohli', 'Sharma')\n",
      "('Rahul', 'Sharma', 'Dhawan', 'Kohli')\n",
      "('Rahul', 'Sharma', 'Kohli', 'Dhawan')\n",
      "('Rahul', 'Kohli', 'Dhawan', 'Sharma')\n",
      "('Rahul', 'Kohli', 'Sharma', 'Dhawan')\n"
     ]
    },
    {
     "data": {
      "text/plain": [
       "('Rahul', 'Kohli', 'Sharma', 'Dhawan')"
      ]
     },
     "execution_count": 1,
     "metadata": {},
     "output_type": "execute_result"
    }
   ],
   "source": [
    "from itertools import permutations\n",
    " \n",
    "#Obtain all permuations of ['Dhawan', 'Sharma', 'Kohli', 'Rahul']\n",
    "p = permutations(['Dhawan', 'Sharma', 'Kohli', 'Rahul'])\n",
    " \n",
    "#Print the acquired permutations\n",
    "for j in list(p):\n",
    "    print (j)\n",
    "\n",
    "#Solution\n",
    "\n",
    "('Dhawan', 'Sharma', 'Kohli', 'Rahul')\n",
    "('Dhawan', 'Sharma', 'Rahul', 'Kohli')\n",
    "('Dhawan', 'Kohli', 'Sharma', 'Rahul')\n",
    "('Dhawan', 'Kohli', 'Rahul', 'Sharma')\n",
    "('Dhawan', 'Rahul', 'Sharma', 'Kohli')\n",
    "('Dhawan', 'Rahul', 'Kohli', 'Sharma')\n",
    "('Sharma', 'Dhawan', 'Kohli', 'Rahul')\n",
    "('Sharma', 'Dhawan', 'Rahul', 'Kohli')\n",
    "('Sharma', 'Kohli', 'Dhawan', 'Rahul')\n",
    "('Sharma', 'Kohli', 'Rahul', 'Dhawan')\n",
    "('Sharma', 'Rahul', 'Dhawan', 'Kohli')\n",
    "('Sharma', 'Rahul', 'Kohli', 'Dhawan')\n",
    "('Kohli', 'Dhawan', 'Sharma', 'Rahul')\n",
    "('Kohli', 'Dhawan', 'Rahul', 'Sharma')\n",
    "('Kohli', 'Sharma', 'Dhawan', 'Rahul')\n",
    "('Kohli', 'Sharma', 'Rahul', 'Dhawan')\n",
    "('Kohli', 'Rahul', 'Dhawan', 'Sharma')\n",
    "('Kohli', 'Rahul', 'Sharma', 'Dhawan')\n",
    "('Rahul', 'Dhawan', 'Sharma', 'Kohli')\n",
    "('Rahul', 'Dhawan', 'Kohli', 'Sharma')\n",
    "('Rahul', 'Sharma', 'Dhawan', 'Kohli')\n",
    "('Rahul', 'Sharma', 'Kohli', 'Dhawan')\n",
    "('Rahul', 'Kohli', 'Dhawan', 'Sharma')\n",
    "('Rahul', 'Kohli', 'Sharma', 'Dhawan')"
   ]
  }
 ],
 "metadata": {
  "kernelspec": {
   "display_name": "Python [conda env:base] *",
   "language": "python",
   "name": "conda-base-py"
  },
  "language_info": {
   "codemirror_mode": {
    "name": "ipython",
    "version": 3
   },
   "file_extension": ".py",
   "mimetype": "text/x-python",
   "name": "python",
   "nbconvert_exporter": "python",
   "pygments_lexer": "ipython3",
   "version": "3.12.7"
  }
 },
 "nbformat": 4,
 "nbformat_minor": 5
}
