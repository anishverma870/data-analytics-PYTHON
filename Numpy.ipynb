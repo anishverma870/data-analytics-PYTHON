{
 "cells": [
  {
   "cell_type": "markdown",
   "id": "93310966-2047-4443-9106-ec9052c29ec9",
   "metadata": {},
   "source": [
    "# Numpy"
   ]
  },
  {
   "cell_type": "code",
   "execution_count": 1,
   "id": "e4527c06-15e8-4d65-a507-d3060652a62b",
   "metadata": {},
   "outputs": [],
   "source": [
    "import numpy as np"
   ]
  },
  {
   "cell_type": "code",
   "execution_count": 4,
   "id": "7d7163eb-ece4-4640-8cef-1a01fbe77402",
   "metadata": {},
   "outputs": [
    {
     "data": {
      "text/plain": [
       "'2.2.3'"
      ]
     },
     "execution_count": 4,
     "metadata": {},
     "output_type": "execute_result"
    }
   ],
   "source": [
    "np.__version__"
   ]
  },
  {
   "cell_type": "markdown",
   "id": "db47f704-121b-4a9f-83a0-ab9038ad6b5a",
   "metadata": {},
   "source": [
    "### creating the empty array"
   ]
  },
  {
   "cell_type": "code",
   "execution_count": 6,
   "id": "48f8a6c5-8f87-4e38-9b55-6fa0fbf51fd9",
   "metadata": {},
   "outputs": [],
   "source": [
    "np_array = np.array([])"
   ]
  },
  {
   "cell_type": "code",
   "execution_count": 7,
   "id": "8ac0126a-53c5-4d30-963f-502332671635",
   "metadata": {},
   "outputs": [
    {
     "data": {
      "text/plain": [
       "array([], dtype=float64)"
      ]
     },
     "execution_count": 7,
     "metadata": {},
     "output_type": "execute_result"
    }
   ],
   "source": [
    "np_array"
   ]
  },
  {
   "cell_type": "markdown",
   "id": "12b5ef41-f22f-4626-b3c5-69692963391a",
   "metadata": {},
   "source": [
    "### creating array from list "
   ]
  },
  {
   "cell_type": "code",
   "execution_count": 9,
   "id": "af408a2b-04c9-44f8-a1d5-45ff1b70aced",
   "metadata": {},
   "outputs": [
    {
     "name": "stdout",
     "output_type": "stream",
     "text": [
      "[1 2 3 4 5 6 7 8 9] <class 'numpy.ndarray'>\n"
     ]
    }
   ],
   "source": [
    "list1 = [1,2,3,4,5,6,7,8,9]\n",
    "cvt_array = np.array(list1)\n",
    "print(cvt_array,type(cvt_array))"
   ]
  },
  {
   "cell_type": "markdown",
   "id": "b901f850-4072-469d-b21c-93b5d8b780cd",
   "metadata": {},
   "source": [
    "### creating array from tuples"
   ]
  },
  {
   "cell_type": "code",
   "execution_count": 11,
   "id": "b7c8aecc-0406-4bd8-a6a9-8dc35ee8f6d5",
   "metadata": {},
   "outputs": [
    {
     "name": "stdout",
     "output_type": "stream",
     "text": [
      "[ 1  2  3  4  5  6  7  8  9 10] <class 'numpy.ndarray'>\n"
     ]
    }
   ],
   "source": [
    "tuple1 = (1,2,3,4,5,6,7,8,9,10)\n",
    "tuple_to_array = np.array(tuple1)\n",
    "print(tuple_to_array,type(tuple_to_array))"
   ]
  },
  {
   "cell_type": "markdown",
   "id": "b88ba040-b370-484a-b271-d8a260d1e67c",
   "metadata": {},
   "source": [
    "## [1,2,3,4,5,6,7,8,9] this are one dimentional array "
   ]
  },
  {
   "cell_type": "markdown",
   "id": "5398a97b-780b-48da-bbdc-0677d72e2d4d",
   "metadata": {},
   "source": [
    "### datatype"
   ]
  },
  {
   "cell_type": "code",
   "execution_count": 14,
   "id": "d69ec3ce-2fb7-4763-9a95-514ca65e916d",
   "metadata": {},
   "outputs": [
    {
     "name": "stdout",
     "output_type": "stream",
     "text": [
      "float64\n"
     ]
    }
   ],
   "source": [
    "float1 = np.array([1.0,2.5,3.6,4.5,1.8,5.2])\n",
    "data_type = float1.dtype\n",
    "print(data_type)"
   ]
  },
  {
   "cell_type": "markdown",
   "id": "4ef81714-2c04-41f7-b148-6aae49f7f633",
   "metadata": {},
   "source": [
    "## string array "
   ]
  },
  {
   "cell_type": "code",
   "execution_count": 16,
   "id": "8909c536-8147-4f4b-9f14-bf9285356632",
   "metadata": {},
   "outputs": [
    {
     "name": "stdout",
     "output_type": "stream",
     "text": [
      "['apple' 'banana' 'mango' 'orange' 'kiwi'] <U6\n"
     ]
    }
   ],
   "source": [
    "str_array = np.array(['apple','banana','mango','orange','kiwi'])\n",
    "print(str_array,str_array.dtype)"
   ]
  },
  {
   "cell_type": "markdown",
   "id": "d04baa2f-38f3-4b0f-8e18-1a5550887c2a",
   "metadata": {},
   "source": [
    "## uppercasting"
   ]
  },
  {
   "cell_type": "code",
   "execution_count": 18,
   "id": "7f35e9d8-3089-4ded-9446-c660ca52f41e",
   "metadata": {},
   "outputs": [
    {
     "name": "stdout",
     "output_type": "stream",
     "text": [
      "<class 'numpy.ndarray'> ['apple' '100' '2.565' 'True']\n"
     ]
    }
   ],
   "source": [
    "str_upper = np.array(['apple',100,2.565,True])\n",
    "print(type(str_upper) ,str_upper) # here all data convert to the string beacause string are more flexiable "
   ]
  },
  {
   "cell_type": "markdown",
   "id": "4cf5f836-52df-4cd4-99d9-edfc060cae01",
   "metadata": {},
   "source": [
    "Notice that in the code given above, numerical values have been converted into strings. This is because arrays can't have mixed types of data. Therefore, NumPy performs what is called upcasting, which is automatic promotion of data types to a higher-level type to ensure that all elements in an operation can be handled consistently. NumPy will upcast the data types to a common type that can accommodate both inputs without loss of information.\n",
    "\n"
   ]
  },
  {
   "cell_type": "markdown",
   "id": "e7214934-c78e-473f-9328-aae8759c9904",
   "metadata": {},
   "source": [
    "### array from set"
   ]
  },
  {
   "cell_type": "code",
   "execution_count": 21,
   "id": "46dcb3b8-ef79-42c5-b294-95458a86a6a5",
   "metadata": {},
   "outputs": [
    {
     "name": "stdout",
     "output_type": "stream",
     "text": [
      "{1.2, 2.3, 1.254, 4.987, 5.6, 1.478} <class 'numpy.ndarray'>\n"
     ]
    }
   ],
   "source": [
    "set1 = {1.2,2.3,5.6,4.987,1.254,1.478}\n",
    "array1 = np.array(set1)\n",
    "print(array1,type(array1))"
   ]
  },
  {
   "cell_type": "code",
   "execution_count": 22,
   "id": "eab54d04-460c-4c07-a996-3af9e7105ec7",
   "metadata": {},
   "outputs": [
    {
     "ename": "IndexError",
     "evalue": "too many indices for array: array is 0-dimensional, but 1 were indexed",
     "output_type": "error",
     "traceback": [
      "\u001b[1;31m---------------------------------------------------------------------------\u001b[0m",
      "\u001b[1;31mIndexError\u001b[0m                                Traceback (most recent call last)",
      "Cell \u001b[1;32mIn[22], line 1\u001b[0m\n\u001b[1;32m----> 1\u001b[0m \u001b[38;5;28mprint\u001b[39m(array1[\u001b[38;5;241m0\u001b[39m])\n",
      "\u001b[1;31mIndexError\u001b[0m: too many indices for array: array is 0-dimensional, but 1 were indexed"
     ]
    }
   ],
   "source": [
    "print(array1[0])"
   ]
  },
  {
   "cell_type": "markdown",
   "id": "a01f1d2e-388b-4d58-86fb-5e52a4fe8191",
   "metadata": {},
   "source": [
    "Notice even though we have created an array from a set, the resulting array retains the curly braces from the set. Further, when we tried to access an element from the resulting array, the interpreter threw the above error.\n",
    "\n",
    "\n",
    "This is mainly because sets in Python are unordered collections of unique elements, whereas NumPy arrays are ordered collections. NumPy creates a zero-dimensional array which cannot be indexed. Hence creating arrays directly from sets is not a common practice, and it's not typically suggested.\n",
    "\n",
    "\n",
    "\n"
   ]
  },
  {
   "cell_type": "markdown",
   "id": "f35ce05f-320d-49fb-aabf-6803b63aa714",
   "metadata": {},
   "source": [
    "## Understanding NumPy Arrays and Mixed Data Types"
   ]
  },
  {
   "cell_type": "markdown",
   "id": "3fcdfff0-7aa0-4ed6-b7e5-d01fdbb29459",
   "metadata": {},
   "source": [
    "\n",
    "NumPy is designed to work with large amounts of numerical data efficiently. One of its key features is that all elements in a NumPy array must have the same data type (e.g., all integers, all floats, or all strings).\n",
    "\n",
    "But what happens when we try to create a NumPy array from a list containing different data types?"
   ]
  },
  {
   "cell_type": "code",
   "execution_count": 44,
   "id": "a9dd3035-1c48-473a-b3dc-9f41668b06af",
   "metadata": {},
   "outputs": [
    {
     "ename": "ValueError",
     "evalue": "setting an array element with a sequence. The requested array has an inhomogeneous shape after 1 dimensions. The detected shape was (5,) + inhomogeneous part.",
     "output_type": "error",
     "traceback": [
      "\u001b[1;31m---------------------------------------------------------------------------\u001b[0m",
      "\u001b[1;31mValueError\u001b[0m                                Traceback (most recent call last)",
      "Cell \u001b[1;32mIn[44], line 2\u001b[0m\n\u001b[0;32m      1\u001b[0m mixedlist \u001b[38;5;241m=\u001b[39m [[\u001b[38;5;241m1\u001b[39m,\u001b[38;5;241m2\u001b[39m,\u001b[38;5;241m3\u001b[39m],\u001b[38;5;124m'\u001b[39m\u001b[38;5;124mapple\u001b[39m\u001b[38;5;124m'\u001b[39m,\u001b[38;5;241m10.245\u001b[39m,\u001b[38;5;241m-\u001b[39m\u001b[38;5;241m5\u001b[39m,\u001b[38;5;28;01mTrue\u001b[39;00m]\n\u001b[1;32m----> 2\u001b[0m ct_array \u001b[38;5;241m=\u001b[39m np\u001b[38;5;241m.\u001b[39marray(mixedlist)\n\u001b[0;32m      3\u001b[0m \u001b[38;5;28mprint\u001b[39m(ct_array)\n",
      "\u001b[1;31mValueError\u001b[0m: setting an array element with a sequence. The requested array has an inhomogeneous shape after 1 dimensions. The detected shape was (5,) + inhomogeneous part."
     ]
    }
   ],
   "source": [
    "mixedlist = [[1,2,3],'apple',10.245,-5,True]\n",
    "ct_array = np.array(mixedlist)\n",
    "print(ct_array)"
   ]
  },
  {
   "cell_type": "markdown",
   "id": "7dfaeee1-7c08-45d3-8fe6-3eac9ddcd1ba",
   "metadata": {},
   "source": [
    "🔴 This gives an error because NumPy expects a consistent data type, but our list contains:\n",
    "\n",
    "A list [2, 3, 1]\n",
    "A string 'New York'\n",
    "A float 5.6\n",
    "An integer -10\n",
    "Another string 'John'\n",
    "These data types are too different for NumPy to convert into a single, uniform array.\n",
    "\n"
   ]
  },
  {
   "cell_type": "markdown",
   "id": "1041bc2f-7aa2-4ccd-8a34-88c2b9ee7860",
   "metadata": {},
   "source": [
    "so the solution is "
   ]
  },
  {
   "cell_type": "code",
   "execution_count": 46,
   "id": "516cf44f-0b5d-4b96-afa0-b82512c80234",
   "metadata": {},
   "outputs": [
    {
     "name": "stdout",
     "output_type": "stream",
     "text": [
      "[list([1, 2, 3]) 'apple' 10.245 -5 True] <class 'numpy.ndarray'>\n"
     ]
    }
   ],
   "source": [
    "ct_array = np.array(object = mixedlist, dtype ='object')\n",
    "print(ct_array, type(ct_array))"
   ]
  },
  {
   "cell_type": "markdown",
   "id": "de4da906-b5d1-43ae-929c-b943beacb18b",
   "metadata": {},
   "source": [
    "To force NumPy to accept different types, we can specify dtype='object'. This tells NumPy to treat every element as a general Python object:"
   ]
  },
  {
   "cell_type": "markdown",
   "id": "756620f3-def8-4025-a7af-7eb170e7ba15",
   "metadata": {},
   "source": [
    "# Multidimensional Arrays"
   ]
  },
  {
   "cell_type": "markdown",
   "id": "01b97848-b11e-4c32-9281-6ac2f4ffbf2a",
   "metadata": {},
   "source": [
    "## creating 2d array "
   ]
  },
  {
   "cell_type": "code",
   "execution_count": null,
   "id": "ac516184-dfc5-424b-ac22-8ca02799d1e2",
   "metadata": {},
   "outputs": [],
   "source": [
    "list_2_dim = [1,2,3],[4,5,6]\n",
    "array_2d  = np.array(list_2_dim)\n",
    "print(array_2d)"
   ]
  },
  {
   "cell_type": "markdown",
   "id": "dbb3862f-ee71-4f41-a741-84927266e046",
   "metadata": {},
   "source": [
    "## creating 3d array "
   ]
  },
  {
   "cell_type": "code",
   "execution_count": null,
   "id": "954703b8-dfe4-4fef-a06f-a83f2836471c",
   "metadata": {},
   "outputs": [],
   "source": [
    "list_3d =[ [[1,2,3],[4,5,6]],[[1,2,3],[4,5,6]],[[1,2,3],[4,5,6]]]\n",
    "array_3d = np.array(list_3d)\n",
    "print(array_3d)"
   ]
  },
  {
   "cell_type": "markdown",
   "id": "6bceb090-22c7-4e20-9325-70fefc306c01",
   "metadata": {},
   "source": [
    "Checking the number of dimensions in an array"
   ]
  },
  {
   "cell_type": "code",
   "execution_count": 48,
   "id": "2b1cdb74-d29d-421b-8f04-6a7371cc4d4d",
   "metadata": {},
   "outputs": [
    {
     "name": "stdout",
     "output_type": "stream",
     "text": [
      "the dimensional of this array is  3\n"
     ]
    }
   ],
   "source": [
    "tem = [\n",
    "    [\n",
    "        [20,24,25,26,29,24],\n",
    "        [24,22,21,27,26,28],\n",
    "        [22,25,24,25,26,27]\n",
    "    ],\n",
    "    [\n",
    "        [25,26,23,24,24,25],\n",
    "        [24,25,26,27,28,29],\n",
    "        [29,21,20,24,26,23]\n",
    "    ]\n",
    "]\n",
    "mk_array = np.array(tem)\n",
    "mk_dim = np.ndim(mk_array)\n",
    "print('the dimensional of this array is ',mk_dim)"
   ]
  },
  {
   "cell_type": "markdown",
   "id": "3c6b409e-a6df-48f4-833c-7084ef489286",
   "metadata": {},
   "source": [
    "### shape"
   ]
  },
  {
   "cell_type": "code",
   "execution_count": 50,
   "id": "afdfd41d-60b4-4167-96f3-2daaac4d0590",
   "metadata": {},
   "outputs": [
    {
     "name": "stdout",
     "output_type": "stream",
     "text": [
      "1D Array:\n",
      "[1 2 3 4 5]\n",
      "Shape: (5,)\n",
      "\n",
      "2D Array:\n",
      "[[1 2 3]\n",
      " [4 5 6]\n",
      " [7 8 9]]\n",
      "Shape: (3, 3)\n",
      "\n",
      "3D Array:\n",
      "[[[ 1  2  3]\n",
      "  [ 4  5  6]]\n",
      "\n",
      " [[ 7  8  9]\n",
      "  [10 11 12]]]\n",
      "Shape: (2, 2, 3)\n"
     ]
    }
   ],
   "source": [
    "# 1D array (Vector)\n",
    "array_1d = np.array([1, 2, 3, 4, 5])\n",
    "print(\"1D Array:\")\n",
    "print(array_1d)\n",
    "print(\"Shape:\", array_1d.shape)\n",
    "\n",
    "# 2D array (Matrix)\n",
    "array_2d = np.array([[1, 2, 3], [4, 5, 6], [7, 8, 9]])\n",
    "print(\"\\n2D Array:\")\n",
    "print(array_2d)\n",
    "print(\"Shape:\", array_2d.shape)\n",
    "\n",
    "# 3D array (Tensor)\n",
    "array_3d = np.array([\n",
    "    [\n",
    "        [1, 2, 3], [4, 5, 6]\n",
    "    ],\n",
    "    [\n",
    "        [7, 8, 9], [10, 11, 12]\n",
    "    ]\n",
    "])\n",
    "print(\"\\n3D Array:\")\n",
    "print(array_3d)\n",
    "print(\"Shape:\", array_3d.shape)"
   ]
  },
  {
   "cell_type": "markdown",
   "id": "66e82474-8940-4715-8bb8-32ea779f503c",
   "metadata": {},
   "source": [
    "simple way to make the array according to there dimensional"
   ]
  },
  {
   "cell_type": "code",
   "execution_count": 52,
   "id": "57639660-8569-4804-b003-29c2688acc3f",
   "metadata": {},
   "outputs": [
    {
     "name": "stdout",
     "output_type": "stream",
     "text": [
      "[[[[1 2 3]]]]\n",
      "(1, 1, 1, 3)\n",
      "4\n"
     ]
    }
   ],
   "source": [
    "var = np.array([1,2,3],ndmin = 4)\n",
    "dimen_array = np.ndim(var)\n",
    "print(var)\n",
    "print(var.shape)\n",
    "print(dimen_array)"
   ]
  },
  {
   "cell_type": "markdown",
   "id": "4e79269d-64b8-495a-a4c1-9aa487902a38",
   "metadata": {},
   "source": [
    "### key difference of ndim and ndmin"
   ]
  },
  {
   "cell_type": "markdown",
   "id": "b869cd04-4aaf-4256-a6e0-c2f78349239d",
   "metadata": {},
   "source": [
    "Use ndim to check how many dimensions an array has.\n"
   ]
  },
  {
   "cell_type": "markdown",
   "id": "6feb0259-aacd-49c7-ac81-62c99bcb2dd4",
   "metadata": {},
   "source": [
    "Use ndmin to force an array to have at least a certain number of dimensions."
   ]
  },
  {
   "cell_type": "code",
   "execution_count": 54,
   "id": "bd6fdb9e-e6a0-401f-8e13-db9132acc867",
   "metadata": {},
   "outputs": [
    {
     "name": "stdout",
     "output_type": "stream",
     "text": [
      "[[2 5 3 4]\n",
      " [1 6 4 2]\n",
      " [7 8 4 1]]\n",
      "2\n",
      "the size func : 12\n",
      "the shape func : (3, 4)\n",
      "3\n",
      "4\n"
     ]
    }
   ],
   "source": [
    "var = np.array([[2, 5, 3, 4], [1, 6, 4, 2], [7, 8, 4, 1]]) \n",
    "var_dim = np.ndim(var)\n",
    "print(var)\n",
    "print(var_dim)\n",
    "print('the size func :',var.size)\n",
    "print('the shape func :',var.shape)\n",
    "print(var.shape[0])\n",
    "print(var.shape[1])"
   ]
  },
  {
   "cell_type": "markdown",
   "id": "88c571e8-0654-411a-a2b5-4228afbd3a2c",
   "metadata": {},
   "source": [
    "# Accessing NumPy Array Elements"
   ]
  },
  {
   "cell_type": "markdown",
   "id": "29ff3f8d-9188-4c5d-8832-3da493a133c6",
   "metadata": {},
   "source": [
    "### Accessing elements in 1-dimensional arrays"
   ]
  },
  {
   "cell_type": "code",
   "execution_count": null,
   "id": "6f4595c2-fb66-45a8-9d42-9dd6f621351f",
   "metadata": {},
   "outputs": [],
   "source": [
    "new = np.array([1,2,3,4,5,6,7,8,9])\n",
    "print(new[0:5])\n",
    "print(new[0:9:2])#act same like the slicing \n",
    "print(new[::-1])\n",
    "print(new[5:0:-1])\n",
    "print(new[-1])\n",
    "print(new[-3])"
   ]
  },
  {
   "cell_type": "markdown",
   "id": "df01b6d1-6bcb-4008-a821-18904d3648c1",
   "metadata": {},
   "source": [
    "## Accessing 2-dimensional arrays"
   ]
  },
  {
   "cell_type": "code",
   "execution_count": null,
   "id": "aafa40fe-3442-4a7b-9594-81ede6df8113",
   "metadata": {},
   "outputs": [],
   "source": [
    "list_new = np.array([\n",
    "    [1,2,3,4],\n",
    "    [5,6,7,8]\n",
    "])\n",
    "print(list_new[0])\n",
    "print(list_new[0][0])\n",
    "print('----------------------')\n",
    "print(list_new[0,2])\n",
    "print(list_new[1])\n",
    "# Accessing the first row\n",
    "print('this is first row',list_new[0,:])\n",
    "# Accessing the second row\n",
    "print('this is second row',list_new[1, :])\n",
    "\n",
    "print(\"---------------------------------------------------------------------------------\")\n",
    "print(\"# Alternative 1\")\n",
    "print(list_new[0,])\n",
    "print('# Alternative 2')\n",
    "print(list_new[0][:])\n",
    "print('# Accessing the last 2 elements of the first row')\n",
    "print(list_new[0,1:])\n",
    "# list_new[row, col_start:col_end] is NumPy slicing to select specific parts of an array.\n",
    "print(list_new[0:,0:2])"
   ]
  },
  {
   "cell_type": "markdown",
   "id": "7eb949ff-8d75-4c90-8b19-41be95ee460e",
   "metadata": {},
   "source": [
    "### Accessing 3-dimensional arrays (depth, rows, columns)"
   ]
  },
  {
   "cell_type": "code",
   "execution_count": null,
   "id": "506c2aba-420b-4475-bfda-15f07a035796",
   "metadata": {},
   "outputs": [],
   "source": [
    "three = np.array([\n",
    "    [\n",
    "        [1,2,3,4],\n",
    "        [5,6,7,8],\n",
    "        [9,10,11,12]\n",
    "    ],\n",
    "    [\n",
    "        [13,14,15,16],\n",
    "        [17,18,19,20],\n",
    "        [21,22,23,24]\n",
    "    ]\n",
    "])\n",
    "print(three.shape)\n",
    "print()\n",
    "print(three[0])\n",
    "print()\n",
    "print(three[1])\n",
    "print('')\n",
    "print(three[1][1])\n",
    "print('(depth, rows, columns)')\n",
    "print('depth pass the which block , rows,columns')\n",
    "print(three[1][1][2])\n",
    "print()\n",
    "print(three[1][0:][0:])\n",
    "print()\n",
    "print(three[1,0:,0:])"
   ]
  },
  {
   "cell_type": "markdown",
   "id": "e842385f-7477-4c49-885c-1c7e370dbdca",
   "metadata": {},
   "source": [
    "#### Accessing elements based on conditions\n",
    "\n"
   ]
  },
  {
   "cell_type": "code",
   "execution_count": 56,
   "id": "8fdb40de-fa2e-40b6-b721-72e938e8e5b8",
   "metadata": {},
   "outputs": [
    {
     "name": "stdout",
     "output_type": "stream",
     "text": [
      "[[False False False False]\n",
      " [ True  True  True  True]]\n"
     ]
    }
   ],
   "source": [
    "liss = np.array([\n",
    "    [1,2,3,4],[5,6,7,8]\n",
    "])\n",
    "cond = liss >=5\n",
    "print(cond)"
   ]
  },
  {
   "cell_type": "markdown",
   "id": "540c0452-370a-4f05-a650-a9c236d9b980",
   "metadata": {},
   "source": [
    "#### if we just want the number which are evven or odd"
   ]
  },
  {
   "cell_type": "code",
   "execution_count": 58,
   "id": "d4eabcd3-cc6c-4f4a-bd72-2c2dce923e09",
   "metadata": {},
   "outputs": [
    {
     "name": "stdout",
     "output_type": "stream",
     "text": [
      "[ 2  4  6  8 10 12 14 16 18]\n",
      "[ 1  5  7  9 11 13 15]\n"
     ]
    }
   ],
   "source": [
    "dig = np.array([\n",
    "    [1,2,4,5,6,7,8,9],[10,11,12,13,14,15,16,18]\n",
    "])\n",
    "even =dig [dig%2 == 0]\n",
    "print(even)\n",
    "odd = dig[dig%2==1]\n",
    "print(odd)"
   ]
  },
  {
   "cell_type": "markdown",
   "id": "2f3284c6-f600-4a5d-b219-9ded8007df15",
   "metadata": {},
   "source": [
    "## Array Manipulations"
   ]
  },
  {
   "cell_type": "markdown",
   "id": "1012f9bf-4372-4368-9a63-7319a668d3a9",
   "metadata": {},
   "source": [
    "### adding the element "
   ]
  },
  {
   "cell_type": "code",
   "execution_count": null,
   "id": "87ef6b0a-c927-4ca8-a606-b85f892f4901",
   "metadata": {},
   "outputs": [],
   "source": [
    "array = np.array([1,2,3])\n",
    "array = np.append(array,4)\n",
    "print(array)"
   ]
  },
  {
   "cell_type": "code",
   "execution_count": 60,
   "id": "8de2aaa3-14b6-4978-b5b0-f7a23d68b463",
   "metadata": {},
   "outputs": [
    {
     "name": "stdout",
     "output_type": "stream",
     "text": [
      "[1 2 3 4 5 6 7]\n"
     ]
    }
   ],
   "source": [
    "array2 = np.array([1,2,3])\n",
    "array2 = np.append(array2,[4,5,6,7])\n",
    "print(array2)"
   ]
  },
  {
   "cell_type": "markdown",
   "id": "0ace7a04-da71-44e4-963e-6d2bc0890d02",
   "metadata": {},
   "source": [
    "### deleted the element "
   ]
  },
  {
   "cell_type": "code",
   "execution_count": null,
   "id": "d2dd60fc-90b9-4f2e-b65d-4d827bc892ac",
   "metadata": {},
   "outputs": [],
   "source": [
    "array3 = np.array([1,2,3,4,5,6,7,8,9])\n",
    "array3 = np.delete(array3,obj = 2) # delete the index number in obj\n",
    "print(array3)"
   ]
  },
  {
   "cell_type": "code",
   "execution_count": null,
   "id": "b5481a06-5210-4745-b25a-ab5579d19340",
   "metadata": {},
   "outputs": [],
   "source": [
    "array4 = np.array([1,2,3,4,5,6,7,8,9])\n",
    "array4 = np.delete(array4,obj = [0,2])# deleted the index number of 0,2\n",
    "print(array4)"
   ]
  },
  {
   "cell_type": "markdown",
   "id": "4d2f3960-54c4-4af5-86b7-6f467b48127e",
   "metadata": {},
   "source": [
    "### Replacing elements "
   ]
  },
  {
   "cell_type": "code",
   "execution_count": null,
   "id": "476eb910-c827-4c63-9b38-76c7180e27be",
   "metadata": {},
   "outputs": [],
   "source": [
    "array5 = np.array([1,2,3,4,5,6,7,8,9])\n",
    "array5[2]=5\n",
    "print(array5)"
   ]
  },
  {
   "cell_type": "code",
   "execution_count": null,
   "id": "0f12e41d-93fa-4d6a-b6e6-07041e033b3c",
   "metadata": {},
   "outputs": [],
   "source": [
    "array6 = np.array([1,2,3,4,5,6,7,8,9])\n",
    "array6[0:2]=[-1,-2]\n",
    "print(array6)"
   ]
  },
  {
   "cell_type": "code",
   "execution_count": null,
   "id": "1a118c49-4819-4727-800d-ad30078490df",
   "metadata": {},
   "outputs": [],
   "source": [
    "array7= np.array([1,2,3,4,5,6,7,8,9])\n",
    "array7[-5:]=[100,200,300,400,500]\n",
    "print(array7)"
   ]
  },
  {
   "cell_type": "markdown",
   "id": "633323d4-472e-4798-83b1-9b4d05d60d82",
   "metadata": {},
   "source": [
    "### Adding elements to 2-dimensional arrays"
   ]
  },
  {
   "cell_type": "code",
   "execution_count": 74,
   "id": "46842026-a89b-4497-a729-90e43101b562",
   "metadata": {},
   "outputs": [
    {
     "name": "stdout",
     "output_type": "stream",
     "text": [
      "[ 1  2  3  4 -1 -2 -3 -4  0]\n"
     ]
    }
   ],
   "source": [
    "arr = np.array([\n",
    "    [1,2,3,4],[-1,-2,-3,-4]\n",
    "])\n",
    "print(np.append(arr,0))"
   ]
  },
  {
   "cell_type": "markdown",
   "id": "0207dc72-56fc-4347-a8e4-42570876ebe3",
   "metadata": {},
   "source": [
    " This is because np.append() treats the array as a flattened 1-dimensional array when appending elements."
   ]
  },
  {
   "cell_type": "markdown",
   "id": "0e762c49-8680-48ea-9cc5-a27594d6ddc3",
   "metadata": {},
   "source": [
    " We will learn how to use the reshape() method in later sections."
   ]
  },
  {
   "cell_type": "markdown",
   "id": "595976c0-b031-460a-b664-5b38810d21be",
   "metadata": {},
   "source": [
    "### Deleting elements from 2-dimensional arrays"
   ]
  },
  {
   "cell_type": "code",
   "execution_count": 80,
   "id": "fbe15630-ca3b-4cc4-9587-ac3cb7e52fdc",
   "metadata": {},
   "outputs": [
    {
     "name": "stdout",
     "output_type": "stream",
     "text": [
      "deleted array: [ 2  3  4 -1 -2 -3 -4]\n"
     ]
    }
   ],
   "source": [
    "arr = np.array([\n",
    "    [1,2,3,4],[-1,-2,-3,-4]\n",
    "])\n",
    "print('deleted array:',np.delete(arr,0)) #pass the index number "
   ]
  },
  {
   "cell_type": "markdown",
   "id": "7ba394bb-c0dc-462a-b3a1-6a42709f12a0",
   "metadata": {},
   "source": [
    "same reason why we goted  same one daimensional array"
   ]
  },
  {
   "cell_type": "code",
   "execution_count": 106,
   "id": "49e2c069-d790-4f62-afc0-343425cfbb13",
   "metadata": {},
   "outputs": [
    {
     "name": "stdout",
     "output_type": "stream",
     "text": [
      "deleted array [[ 2  3  4]\n",
      " [ 6  7  8]\n",
      " [10 11 12]]\n",
      "deleted array [[ 5  6  7  8]\n",
      " [ 9 10 11 12]]\n"
     ]
    }
   ],
   "source": [
    "arr2 = np.array([\n",
    "    [1,2,3,4],\n",
    "    [5,6,7,8],\n",
    "    [9,10,11,12]\n",
    "])\n",
    "print('deleted array',np.delete(arr2,0,axis=1)) # for delete the column \n",
    "print('deleted array',np.delete(arr2,0,axis=0)) #for delete the first rows"
   ]
  },
  {
   "cell_type": "markdown",
   "id": "00d55082-f9d9-4d80-bafc-ee2574b2a7e5",
   "metadata": {},
   "source": [
    "0 → The index of the row to delete (first row)."
   ]
  },
  {
   "cell_type": "markdown",
   "id": "874a3489-fbbe-4f02-bac6-138c1868b98a",
   "metadata": {},
   "source": [
    "axis=0 → Deletes entire row (row-wise deletion)."
   ]
  },
  {
   "cell_type": "code",
   "execution_count": 110,
   "id": "5f071983-473b-45e4-9cf0-88bd96794b45",
   "metadata": {},
   "outputs": [
    {
     "name": "stdout",
     "output_type": "stream",
     "text": [
      "[[ 3  4]\n",
      " [ 7  8]\n",
      " [11 12]]\n"
     ]
    }
   ],
   "source": [
    "print(np.delete(arr2,[0,1],1))  # arr2,[starting index number ,end ]"
   ]
  },
  {
   "cell_type": "markdown",
   "id": "65ce72f1-0fb9-4fa1-9523-c61713ca0ff8",
   "metadata": {},
   "source": [
    "[0, 1] → The indices of the columns to remove."
   ]
  },
  {
   "cell_type": "markdown",
   "id": "68709b19-4167-4480-b3d0-d2e0313cb608",
   "metadata": {},
   "source": [
    "axis=1 → Specifies that the operation should be column-wise (not row-wise).\n",
    "\n"
   ]
  },
  {
   "cell_type": "code",
   "execution_count": 118,
   "id": "3f9a3403-0e12-442a-b2c2-31ce818300f4",
   "metadata": {},
   "outputs": [
    {
     "name": "stdout",
     "output_type": "stream",
     "text": [
      "[[ 1  3]\n",
      " [ 5  7]\n",
      " [ 9 11]]\n"
     ]
    }
   ],
   "source": [
    "print(np.delete(arr2,[1,3],axis=1))"
   ]
  },
  {
   "cell_type": "markdown",
   "id": "530fa93b-78b7-4fc4-9ecd-f66c50c5144f",
   "metadata": {},
   "source": [
    "### Replacing elements in 2-dimensional arrays"
   ]
  },
  {
   "cell_type": "code",
   "execution_count": 123,
   "id": "3f51fd66-0582-444b-9572-e92f46036fc3",
   "metadata": {},
   "outputs": [],
   "source": [
    "arr4 = np.array([\n",
    "    [4,5,6],[7,8,9]\n",
    "])"
   ]
  },
  {
   "cell_type": "code",
   "execution_count": 125,
   "id": "a649c62b-5b29-45c1-b5f6-d0e01c08342c",
   "metadata": {},
   "outputs": [
    {
     "name": "stdout",
     "output_type": "stream",
     "text": [
      "[[1 2 3]\n",
      " [7 8 9]]\n"
     ]
    }
   ],
   "source": [
    "arr4[0]=[1,2,3]\n",
    "print(arr4)"
   ]
  },
  {
   "cell_type": "markdown",
   "id": "e18cb699-f70e-43a5-aefd-44eaed75dd62",
   "metadata": {},
   "source": [
    "#### replacing column wise"
   ]
  },
  {
   "cell_type": "code",
   "execution_count": 134,
   "id": "f8002c58-a532-4171-821a-bf0871635cd7",
   "metadata": {},
   "outputs": [
    {
     "name": "stdout",
     "output_type": "stream",
     "text": [
      "[[0 2 0]\n",
      " [0 5 0]\n",
      " [0 8 0]]\n"
     ]
    }
   ],
   "source": [
    "arr5 = np.array([\n",
    "    [1,2,3,],[4,5,6],[7,8,9]\n",
    "])\n",
    "arr5[:,0]=[0,0,0]\n",
    "arr5[:,2]=[0,0,0]\n",
    "print(arr5)"
   ]
  },
  {
   "cell_type": "code",
   "execution_count": 156,
   "id": "558aca7b-f3b7-439a-8cbd-5ab4a80eb74d",
   "metadata": {},
   "outputs": [
    {
     "name": "stdout",
     "output_type": "stream",
     "text": [
      "[[ 1  2]\n",
      " [ 3  4]\n",
      " [ 5  6]\n",
      " [ 7  8]\n",
      " [10 10]\n",
      " [11 11]\n",
      " [12 12]\n",
      " [13 13]]\n",
      "for columns\n",
      "[[ 1  2 10 10]\n",
      " [ 3  4 11 11]\n",
      " [ 5  6 12 12]\n",
      " [ 7  8 13 13]]\n"
     ]
    }
   ],
   "source": [
    "arrr = np.array([\n",
    "    [1,2],[3,4],[5,6],[7,8]\n",
    "])\n",
    "new_arr  = np.append(arrr,[[10,10],[11,11],[12,12],[13,13]],axis=0) # append always add at the end of the element\n",
    "new_arr2 = np.append(arrr,[[10,10],[11,11],[12,12],[13,13]],axis=1)\n",
    "print(new_arr)\n",
    "print('for columns')\n",
    "print(new_arr2)"
   ]
  },
  {
   "cell_type": "markdown",
   "id": "66a8ee8e-5310-4a11-a064-7a6897c7c20d",
   "metadata": {},
   "source": [
    "# Arithmetic Operations"
   ]
  },
  {
   "cell_type": "markdown",
   "id": "dba6bfae-308f-4b3a-ae16-23949205e3b6",
   "metadata": {},
   "source": [
    "## Performing vector addition with arrays"
   ]
  },
  {
   "cell_type": "code",
   "execution_count": 163,
   "id": "0b1906aa-7b63-4313-a70f-2bb9e04d9349",
   "metadata": {},
   "outputs": [
    {
     "name": "stdout",
     "output_type": "stream",
     "text": [
      "[2 4 6 8]\n"
     ]
    }
   ],
   "source": [
    "v1 = np.array([1,2,3,4])\n",
    "v2 = np.array([1,2,3,4])\n",
    "res = v1+v2\n",
    "print(res)"
   ]
  },
  {
   "cell_type": "code",
   "execution_count": 167,
   "id": "bcce252e-e443-4cc6-b894-20ae5584273c",
   "metadata": {},
   "outputs": [
    {
     "name": "stdout",
     "output_type": "stream",
     "text": [
      "[30 40 50]\n"
     ]
    }
   ],
   "source": [
    "v3 = np.array( [40,50,60])\n",
    "v4 = np.array([10,10,10])\n",
    "res2 = v3-v4\n",
    "print(res2)"
   ]
  },
  {
   "cell_type": "code",
   "execution_count": 169,
   "id": "5f4f64f3-c2c3-42b4-b42b-425c76b27bef",
   "metadata": {},
   "outputs": [
    {
     "name": "stdout",
     "output_type": "stream",
     "text": [
      "[11 12 13 14]\n"
     ]
    }
   ],
   "source": [
    "v1 = np.array([1,2,3,4])\n",
    "fin = v1+10\n",
    "print(fin)"
   ]
  },
  {
   "cell_type": "markdown",
   "id": "2584a78d-b658-4762-92b9-ab5fa05cfbd3",
   "metadata": {},
   "source": [
    "Similar principle is followed when performing addition and subtraction operations on 2-dimensional arrays as well. Consider the following.\n",
    "\n"
   ]
  },
  {
   "cell_type": "code",
   "execution_count": 180,
   "id": "129a6106-c14f-499a-9361-a0ad3ae3cb0d",
   "metadata": {},
   "outputs": [
    {
     "name": "stdout",
     "output_type": "stream",
     "text": [
      "[[20 30]\n",
      " [40 50]]\n",
      "now performing subtract\n",
      "[[ 0 10]\n",
      " [20 30]]\n"
     ]
    }
   ],
   "source": [
    "arr2 = np.array([\n",
    "    [10,20],[30,40]\n",
    "])\n",
    "arr3 = np.array([\n",
    "    [10,10],[10,10]\n",
    "])S\n",
    "add = arr2+arr3\n",
    "print(add)\n",
    "print('now performing subtract')\n",
    "sub = arr2-arr3\n",
    "print(sub)"
   ]
  },
  {
   "cell_type": "code",
   "execution_count": 182,
   "id": "b31faf67-8738-4d2b-b3bd-c0fc0e1f3410",
   "metadata": {},
   "outputs": [
    {
     "name": "stdout",
     "output_type": "stream",
     "text": [
      "[[15 25]\n",
      " [45 55]]\n"
     ]
    }
   ],
   "source": [
    "nw = np.array([\n",
    "    [10,20],[40,50]\n",
    "])\n",
    "sumar = nw+5\n",
    "print(sumar)"
   ]
  },
  {
   "cell_type": "markdown",
   "id": "30dde690-684f-4c5e-b358-90e15bcc6c46",
   "metadata": {},
   "source": [
    "We can also perform the scalar addition on a specific row by accessing that specific row and adding the scalar as shown below."
   ]
  },
  {
   "cell_type": "code",
   "execution_count": 249,
   "id": "94fbe740-e38d-42c9-a224-0fa9627cd7b6",
   "metadata": {},
   "outputs": [
    {
     "data": {
      "text/plain": [
       "array([[11, 12, 13],\n",
       "       [ 4,  5,  6]])"
      ]
     },
     "execution_count": 249,
     "metadata": {},
     "output_type": "execute_result"
    }
   ],
   "source": [
    "var = np.array([\n",
    "    [1,2,3],[4,5,6]\n",
    "])\n",
    "row=var[0:1]=var[0:1]+10 #it is a row wise addition\n",
    "var\n"
   ]
  },
  {
   "cell_type": "code",
   "execution_count": 259,
   "id": "ea1fcfb0-2e6f-4107-8e47-7a2e48a9afc9",
   "metadata": {},
   "outputs": [
    {
     "data": {
      "text/plain": [
       "array([[ 1, 22, 23],\n",
       "       [ 4, 15, 16]])"
      ]
     },
     "execution_count": 259,
     "metadata": {},
     "output_type": "execute_result"
    }
   ],
   "source": [
    "var1 = np.array([\n",
    "    [1,2,3],[4,5,6]\n",
    "])\n",
    "var1[:,1:]=var[:,1:] +10 # it is column wise\n",
    "var1"
   ]
  },
  {
   "cell_type": "code",
   "execution_count": 273,
   "id": "7640c5e5-2b89-4d45-a10c-1f0a7349caed",
   "metadata": {},
   "outputs": [
    {
     "name": "stdout",
     "output_type": "stream",
     "text": [
      "[[[11 22 33]\n",
      "  [44 55 66]\n",
      "  [77 88 99]]\n",
      "\n",
      " [[11 11 11]\n",
      "  [22 22 22]\n",
      "  [33 33 33]]]\n",
      "-------------------------------------------------------------------------------------------------\n",
      "[[[ -9 -18 -27]\n",
      "  [-36 -45 -54]\n",
      "  [-63 -72 -81]]\n",
      "\n",
      " [[  9   9   9]\n",
      "  [ 18  18  18]\n",
      "  [ 27  27  27]]]\n"
     ]
    }
   ],
   "source": [
    "var = np.array([\n",
    "    [\n",
    "        [1,2,3],[4,5,6],[7,8,9]\n",
    "    ],[\n",
    "        [10,10,10],[20,20,20],[30,30,30]\n",
    "    ]\n",
    "])\n",
    "var2 = np.array([\n",
    "    [\n",
    "        [10,20,30],[40,50,60],[70,80,90]\n",
    "    ],[\n",
    "        [1,1,1],[2,2,2],[3,3,3]\n",
    "    ]\n",
    "])\n",
    "addi = var + var2\n",
    "print(addi)\n",
    "print(\"-------------------------------------------------------------------------------------------------\")\n",
    "sub= var-var2\n",
    "print(sub)"
   ]
  },
  {
   "cell_type": "code",
   "execution_count": 279,
   "id": "497ac81f-376f-4aa1-8548-03dca68257aa",
   "metadata": {},
   "outputs": [
    {
     "data": {
      "text/plain": [
       "array([[36, 42]])"
      ]
     },
     "execution_count": 279,
     "metadata": {},
     "output_type": "execute_result"
    }
   ],
   "source": [
    "np_arr = np.array([[[14, 16, 18],\n",
    "                    [20, 22, 24]],\n",
    "                   \n",
    "                   [[26, 28, 30],\n",
    "                    [32, 34, 36]]])\n",
    "new = np_arr[1:,:,0]+10\n",
    "new"
   ]
  },
  {
   "cell_type": "markdown",
   "id": "18f1082f-b57c-49ed-b0cc-2860b04088f2",
   "metadata": {},
   "source": [
    "### Performing multiplication and division with arrays"
   ]
  },
  {
   "cell_type": "code",
   "execution_count": 288,
   "id": "aed30519-af55-4a43-ac48-89890e5d1034",
   "metadata": {},
   "outputs": [
    {
     "data": {
      "text/plain": [
       "array([[[ 100000000000,  200000000000,  300000000000],\n",
       "        [ 400000000000,  500000000000,  600000000000],\n",
       "        [ 700000000000,  800000000000,  900000000000]],\n",
       "\n",
       "       [[1000000000000, 1100000000000, 1200000000000],\n",
       "        [1300000000000, 1400000000000, 1500000000000],\n",
       "        [1600000000000, 1700000000000, 1800000000000]]])"
      ]
     },
     "execution_count": 288,
     "metadata": {},
     "output_type": "execute_result"
    }
   ],
   "source": [
    "varm = np.array([\n",
    "    [\n",
    "        [1,2,3],[4,5,6],[7,8,9]\n",
    "    ],\n",
    "    [\n",
    "        [10,11,12],[13,14,15],[16,17,18]\n",
    "    ]\n",
    "])\n",
    "fin = varm*100000000000\n",
    "fin"
   ]
  },
  {
   "cell_type": "code",
   "execution_count": 296,
   "id": "45de3c67-1d11-4e7b-908e-315be9b450b4",
   "metadata": {},
   "outputs": [
    {
     "data": {
      "text/plain": [
       "array([[[     1,      2,      3],\n",
       "        [     4,      5,      6],\n",
       "        [     7,      8,      9]],\n",
       "\n",
       "       [[    10,     11,     12],\n",
       "        [130000, 140000, 150000],\n",
       "        [    16,     17,     18]]])"
      ]
     },
     "execution_count": 296,
     "metadata": {},
     "output_type": "execute_result"
    }
   ],
   "source": [
    " mul=varm[1,1,:] =varm[1,1,:]*10\n",
    "mul\n",
    "varm"
   ]
  },
  {
   "cell_type": "markdown",
   "id": "15801ea6-8132-4b61-941b-3cc4cb70b452",
   "metadata": {},
   "source": [
    "division"
   ]
  },
  {
   "cell_type": "code",
   "execution_count": 300,
   "id": "01e7db12-cab8-47e0-bbc9-fee3690a2963",
   "metadata": {},
   "outputs": [
    {
     "data": {
      "text/plain": [
       "array([[[5.0e-01, 1.0e+00, 1.5e+00],\n",
       "        [2.0e+00, 2.5e+00, 3.0e+00],\n",
       "        [3.5e+00, 4.0e+00, 4.5e+00]],\n",
       "\n",
       "       [[5.0e+00, 5.5e+00, 6.0e+00],\n",
       "        [6.5e+04, 7.0e+04, 7.5e+04],\n",
       "        [8.0e+00, 8.5e+00, 9.0e+00]]])"
      ]
     },
     "execution_count": 300,
     "metadata": {},
     "output_type": "execute_result"
    }
   ],
   "source": [
    "varm = varm/2\n",
    "varm"
   ]
  },
  {
   "cell_type": "code",
   "execution_count": 303,
   "id": "a015378e-2efb-44dc-8041-a9df9c109b3a",
   "metadata": {},
   "outputs": [
    {
     "data": {
      "text/plain": [
       "array([[-18,  -4],\n",
       "       [-15, -12],\n",
       "       [  3,   4]])"
      ]
     },
     "execution_count": 303,
     "metadata": {},
     "output_type": "execute_result"
    }
   ],
   "source": [
    "arr_1 = np.array([[2, 4], [-3, -2], [1, 1]])\n",
    "arr_2 = np.array([[-9, -1], [5,6], [3,4]])\n",
    "arr_1 * arr_2 "
   ]
  },
  {
   "cell_type": "code",
   "execution_count": 305,
   "id": "71ba9164-9b60-47c0-9006-a894aa04b062",
   "metadata": {},
   "outputs": [
    {
     "data": {
      "text/plain": [
       "array([[ 1,  4],\n",
       "       [ 9, 16]])"
      ]
     },
     "execution_count": 305,
     "metadata": {},
     "output_type": "execute_result"
    }
   ],
   "source": [
    "new_arr=np.array([[1,2],[3,4]])\n",
    "new_arr=new_arr**2\n",
    "new_arr"
   ]
  },
  {
   "cell_type": "markdown",
   "id": "603f1c56-eff3-4b49-bb60-953d937aa62c",
   "metadata": {},
   "source": [
    "## Dimensional Operations"
   ]
  },
  {
   "cell_type": "code",
   "execution_count": 5,
   "id": "08295fff-8074-48fe-843d-5be2b011bbe8",
   "metadata": {},
   "outputs": [
    {
     "name": "stdout",
     "output_type": "stream",
     "text": [
      "the od of 1d array 45\n"
     ]
    }
   ],
   "source": [
    "array_1d  = np.array([1,2,3,4,5,6,7,8,9])\n",
    "sum_arr = array_1d.sum()\n",
    "print('the od of 1d array',sum_arr)"
   ]
  },
  {
   "cell_type": "code",
   "execution_count": 7,
   "id": "5997f867-0d2b-4d46-b4eb-f858f811d699",
   "metadata": {},
   "outputs": [
    {
     "name": "stdout",
     "output_type": "stream",
     "text": [
      "the mean of array 5.0\n"
     ]
    }
   ],
   "source": [
    "mean_arr = array_1d.mean()\n",
    "print('the mean of array',mean_arr)"
   ]
  },
  {
   "cell_type": "markdown",
   "id": "1c322391-5fc6-4b5e-844c-fd7989752b87",
   "metadata": {},
   "source": [
    "Note: In a 1D array, specifying the axis does not change the result because there's only one axis (axis 0).\n",
    "\n"
   ]
  },
  {
   "cell_type": "markdown",
   "id": "07034e26-ca13-4715-bc84-aa527aaed1ef",
   "metadata": {},
   "source": [
    "#### Let us move on to the sum operation for 2D arrays."
   ]
  },
  {
   "cell_type": "code",
   "execution_count": 27,
   "id": "a18d7ee6-e74d-4a22-888e-e1e35acd3294",
   "metadata": {},
   "outputs": [
    {
     "name": "stdout",
     "output_type": "stream",
     "text": [
      "the sum of 2d array 36\n"
     ]
    },
    {
     "data": {
      "text/plain": [
       "array([ 6,  8, 10, 12])"
      ]
     },
     "execution_count": 27,
     "metadata": {},
     "output_type": "execute_result"
    }
   ],
   "source": [
    "array_2d = np.array([\n",
    "    [1,2,3,4],\n",
    "    [5,6,7,8]\n",
    "])\n",
    "sum_arr = array_2d.sum()\n",
    "print('the sum of 2d array',sum_arr)\n",
    "array_2d.sum(axis = 0) # sum with column"
   ]
  },
  {
   "cell_type": "code",
   "execution_count": 25,
   "id": "6ce61864-9261-415a-83ce-bc4064c2460b",
   "metadata": {},
   "outputs": [
    {
     "data": {
      "text/plain": [
       "array([10, 26])"
      ]
     },
     "execution_count": 25,
     "metadata": {},
     "output_type": "execute_result"
    }
   ],
   "source": [
    "array_2d.sum(axis = 1) # sumwith rows"
   ]
  },
  {
   "cell_type": "code",
   "execution_count": 29,
   "id": "2590661f-d20f-4a8e-87e1-96cfb201162b",
   "metadata": {},
   "outputs": [
    {
     "data": {
      "text/plain": [
       "np.int64(40320)"
      ]
     },
     "execution_count": 29,
     "metadata": {},
     "output_type": "execute_result"
    }
   ],
   "source": [
    "array_2d.prod()"
   ]
  },
  {
   "cell_type": "code",
   "execution_count": 31,
   "id": "ce610598-14fc-42fe-9012-91bda25db4a6",
   "metadata": {},
   "outputs": [
    {
     "data": {
      "text/plain": [
       "array([ 5, 12, 21, 32])"
      ]
     },
     "execution_count": 31,
     "metadata": {},
     "output_type": "execute_result"
    }
   ],
   "source": [
    "array_2d.prod(axis = 0) #[1*5,2*6,3*7,4*8]"
   ]
  },
  {
   "cell_type": "code",
   "execution_count": 33,
   "id": "d783a2bc-4fe7-4531-a5da-9c6cd76a970a",
   "metadata": {},
   "outputs": [
    {
     "data": {
      "text/plain": [
       "array([  24, 1680])"
      ]
     },
     "execution_count": 33,
     "metadata": {},
     "output_type": "execute_result"
    }
   ],
   "source": [
    "array_2d.prod(axis = 1) #[1*2*3*4]"
   ]
  },
  {
   "cell_type": "code",
   "execution_count": 35,
   "id": "7553e548-6e1b-4c84-b721-4b4e8e396ccd",
   "metadata": {},
   "outputs": [
    {
     "data": {
      "text/plain": [
       "np.float64(4.5)"
      ]
     },
     "execution_count": 35,
     "metadata": {},
     "output_type": "execute_result"
    }
   ],
   "source": [
    "array_2d.mean()"
   ]
  },
  {
   "cell_type": "code",
   "execution_count": 37,
   "id": "72517ed1-5ee4-430b-8e5c-c1eea5ed1a06",
   "metadata": {},
   "outputs": [
    {
     "data": {
      "text/plain": [
       "array([3., 4., 5., 6.])"
      ]
     },
     "execution_count": 37,
     "metadata": {},
     "output_type": "execute_result"
    }
   ],
   "source": [
    "array_2d.mean(axis = 0) #mean column wise "
   ]
  },
  {
   "cell_type": "code",
   "execution_count": 39,
   "id": "8e972afa-afd7-4a84-a75b-1ae2ca08504f",
   "metadata": {},
   "outputs": [
    {
     "data": {
      "text/plain": [
       "array([2.5, 6.5])"
      ]
     },
     "execution_count": 39,
     "metadata": {},
     "output_type": "execute_result"
    }
   ],
   "source": [
    "array_2d.mean(axis = 1) # mean row wise"
   ]
  },
  {
   "cell_type": "code",
   "execution_count": 41,
   "id": "19d3202d-53d2-49d0-bfd9-fadac12161c7",
   "metadata": {},
   "outputs": [],
   "source": [
    "array_3d = np.array([[[1, 2],\n",
    "                      [3, 4]],\n",
    "\n",
    "                     [[5, 6],\n",
    "                      [7, 8]],\n",
    "\n",
    "                     [[9, 10],\n",
    "                      [11, 12]]])\n"
   ]
  },
  {
   "cell_type": "code",
   "execution_count": 43,
   "id": "20113db6-3cf7-477e-83f9-9a44a308b564",
   "metadata": {},
   "outputs": [
    {
     "data": {
      "text/plain": [
       "np.int64(78)"
      ]
     },
     "execution_count": 43,
     "metadata": {},
     "output_type": "execute_result"
    }
   ],
   "source": [
    "array_3d.sum()"
   ]
  },
  {
   "cell_type": "code",
   "execution_count": 45,
   "id": "3bc2fd35-7c67-45ed-8e1a-1fbf7beab068",
   "metadata": {},
   "outputs": [
    {
     "data": {
      "text/plain": [
       "array([[15, 18],\n",
       "       [21, 24]])"
      ]
     },
     "execution_count": 45,
     "metadata": {},
     "output_type": "execute_result"
    }
   ],
   "source": [
    "array_3d.sum(axis = 0) #New array = [[ (1+5+9),   (2+6+10) ],  \n",
    "                                   # [ (3+7+11),  (4+8+12) ]]    this how its is work \n"
   ]
  },
  {
   "cell_type": "code",
   "execution_count": 51,
   "id": "fefde3f5-c78d-4cc5-bbe8-f657ec61ce18",
   "metadata": {},
   "outputs": [
    {
     "data": {
      "text/plain": [
       "array([[ 4,  6],\n",
       "       [12, 14],\n",
       "       [20, 22]])"
      ]
     },
     "execution_count": 51,
     "metadata": {},
     "output_type": "execute_result"
    }
   ],
   "source": [
    "array_3d.sum(axis = 1)   #First layer:    [[1, 2], [3, 4]]  \n",
    "                    # Sum along rows:  [ (1+3), (2+4) ]  → [4, 6]\n",
    "\n",
    "                    #Second layer:   [[5, 6], [7, 8]]  \n",
    "                   # Sum along rows:  [ (5+7), (6+8) ]  → [12, 14]\n",
    "\n",
    "                   # Third layer:    [[9, 10],[11, 12]] \n",
    "                   # Sum along rows:  [ (9+11), (10+12) ]  → [20, 22]\n"
   ]
  },
  {
   "cell_type": "code",
   "execution_count": 59,
   "id": "20fdeb5e-e5f6-4048-852f-b7d0d7eef363",
   "metadata": {},
   "outputs": [
    {
     "name": "stdout",
     "output_type": "stream",
     "text": [
      "[[ 3  7]\n",
      " [11 15]\n",
      " [19 23]]\n"
     ]
    }
   ],
   "source": [
    "sum_axis_2 = array_3d.sum(axis=2)\n",
    "print(sum_axis_2)"
   ]
  },
  {
   "cell_type": "markdown",
   "id": "afed066a-ebc2-4392-9d2f-3789c6e7bd88",
   "metadata": {},
   "source": [
    "First layer:    [[1, 2],  \n",
    "                 [3, 4]]  \n",
    "Sum along cols:  [ (1+2), (3+4) ]  → [3, 7]\n",
    "\n",
    "Second layer:   [[5, 6],  \n",
    "                 [7, 8]]  \n",
    "Sum along cols:  [ (5+6), (7+8) ]  → [11, 15]\n",
    "\n",
    "Third layer:    [[9, 10],  \n",
    "                 [11, 12]]  \n",
    "Sum along cols:  [ (9+10), (11+12) ]  → [19, 23]\n"
   ]
  },
  {
   "cell_type": "code",
   "execution_count": null,
   "id": "a62212b9-ed1e-4d02-bdfe-55e0dfceaf2d",
   "metadata": {},
   "outputs": [],
   "source": []
  },
  {
   "cell_type": "code",
   "execution_count": null,
   "id": "f29208e3-8a0c-4d3e-bc46-5a37b08bf42a",
   "metadata": {},
   "outputs": [],
   "source": []
  },
  {
   "cell_type": "code",
   "execution_count": null,
   "id": "a678f36a-26d1-42de-931d-e6fb4ec0d429",
   "metadata": {},
   "outputs": [],
   "source": []
  },
  {
   "cell_type": "code",
   "execution_count": null,
   "id": "86d813d3-ba24-465b-9ff0-e1f73de0cacf",
   "metadata": {},
   "outputs": [],
   "source": []
  },
  {
   "cell_type": "code",
   "execution_count": null,
   "id": "00e82fc3-a6a0-475a-a1cf-f18b57c7c9e3",
   "metadata": {},
   "outputs": [],
   "source": []
  },
  {
   "cell_type": "code",
   "execution_count": null,
   "id": "e85f9caf-1693-43ef-9d24-0b2684801295",
   "metadata": {},
   "outputs": [],
   "source": []
  },
  {
   "cell_type": "code",
   "execution_count": null,
   "id": "ff1aaab5-980e-40d8-8d6c-1b3de04ec48b",
   "metadata": {},
   "outputs": [],
   "source": []
  },
  {
   "cell_type": "code",
   "execution_count": null,
   "id": "1623c5ec-ef08-424a-ab00-ebd27fd6795f",
   "metadata": {},
   "outputs": [],
   "source": []
  },
  {
   "cell_type": "code",
   "execution_count": null,
   "id": "92323531-4965-4dda-94a5-f208ce5f9411",
   "metadata": {},
   "outputs": [],
   "source": []
  },
  {
   "cell_type": "code",
   "execution_count": null,
   "id": "51aad1d3-cc3a-4a60-9b52-bb58bb2f27ea",
   "metadata": {},
   "outputs": [],
   "source": []
  },
  {
   "cell_type": "code",
   "execution_count": null,
   "id": "a2ff282f-d138-4c1d-8a9a-341eaedf4539",
   "metadata": {},
   "outputs": [],
   "source": []
  },
  {
   "cell_type": "code",
   "execution_count": null,
   "id": "7ae4e029-fbfc-434e-a851-c85de3e6876e",
   "metadata": {},
   "outputs": [],
   "source": []
  },
  {
   "cell_type": "code",
   "execution_count": null,
   "id": "74e47bdf-fdf5-42be-8825-bed32b2a565d",
   "metadata": {},
   "outputs": [],
   "source": []
  },
  {
   "cell_type": "code",
   "execution_count": null,
   "id": "f693b4f9-086f-4276-9f5a-a60644009ac4",
   "metadata": {},
   "outputs": [],
   "source": []
  },
  {
   "cell_type": "code",
   "execution_count": null,
   "id": "b6a6f118-ad29-41e2-b5e7-f1ca09175950",
   "metadata": {},
   "outputs": [],
   "source": []
  },
  {
   "cell_type": "code",
   "execution_count": null,
   "id": "95949480-37ad-4db0-8969-19a19899666c",
   "metadata": {},
   "outputs": [],
   "source": []
  },
  {
   "cell_type": "code",
   "execution_count": null,
   "id": "30c57e5c-e050-48ce-9a35-28b9b4b95849",
   "metadata": {},
   "outputs": [],
   "source": []
  },
  {
   "cell_type": "code",
   "execution_count": null,
   "id": "1caef27f-1c92-4f33-aeef-a9cee4c7bb19",
   "metadata": {},
   "outputs": [],
   "source": []
  },
  {
   "cell_type": "code",
   "execution_count": null,
   "id": "5542130d-f002-4adf-98d9-70ea75da2396",
   "metadata": {},
   "outputs": [],
   "source": []
  },
  {
   "cell_type": "code",
   "execution_count": null,
   "id": "d02dd014-0ade-4ad2-a513-9a9afe69487a",
   "metadata": {},
   "outputs": [],
   "source": []
  },
  {
   "cell_type": "code",
   "execution_count": null,
   "id": "8f6925b0-4c0f-462c-bbf3-bd539c82fc82",
   "metadata": {},
   "outputs": [],
   "source": []
  }
 ],
 "metadata": {
  "kernelspec": {
   "display_name": "Python [conda env:base] *",
   "language": "python",
   "name": "conda-base-py"
  },
  "language_info": {
   "codemirror_mode": {
    "name": "ipython",
    "version": 3
   },
   "file_extension": ".py",
   "mimetype": "text/x-python",
   "name": "python",
   "nbconvert_exporter": "python",
   "pygments_lexer": "ipython3",
   "version": "3.12.7"
  }
 },
 "nbformat": 4,
 "nbformat_minor": 5
}
