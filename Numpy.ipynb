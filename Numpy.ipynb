{
 "cells": [
  {
   "cell_type": "markdown",
   "id": "93310966-2047-4443-9106-ec9052c29ec9",
   "metadata": {},
   "source": [
    "# Numpy"
   ]
  },
  {
   "cell_type": "code",
   "execution_count": 2,
   "id": "e4527c06-15e8-4d65-a507-d3060652a62b",
   "metadata": {},
   "outputs": [],
   "source": [
    "import numpy as np"
   ]
  },
  {
   "cell_type": "code",
   "execution_count": 4,
   "id": "7d7163eb-ece4-4640-8cef-1a01fbe77402",
   "metadata": {},
   "outputs": [
    {
     "data": {
      "text/plain": [
       "'1.26.4'"
      ]
     },
     "execution_count": 4,
     "metadata": {},
     "output_type": "execute_result"
    }
   ],
   "source": [
    "np.__version__"
   ]
  },
  {
   "cell_type": "markdown",
   "id": "db47f704-121b-4a9f-83a0-ab9038ad6b5a",
   "metadata": {},
   "source": [
    "### creating the empty array"
   ]
  },
  {
   "cell_type": "code",
   "execution_count": 9,
   "id": "48f8a6c5-8f87-4e38-9b55-6fa0fbf51fd9",
   "metadata": {},
   "outputs": [],
   "source": [
    "np_array = np.array([])"
   ]
  },
  {
   "cell_type": "code",
   "execution_count": 11,
   "id": "8ac0126a-53c5-4d30-963f-502332671635",
   "metadata": {},
   "outputs": [
    {
     "data": {
      "text/plain": [
       "array([], dtype=float64)"
      ]
     },
     "execution_count": 11,
     "metadata": {},
     "output_type": "execute_result"
    }
   ],
   "source": [
    "np_array"
   ]
  },
  {
   "cell_type": "markdown",
   "id": "12b5ef41-f22f-4626-b3c5-69692963391a",
   "metadata": {},
   "source": [
    "### creating array from list "
   ]
  },
  {
   "cell_type": "code",
   "execution_count": 18,
   "id": "af408a2b-04c9-44f8-a1d5-45ff1b70aced",
   "metadata": {},
   "outputs": [
    {
     "name": "stdout",
     "output_type": "stream",
     "text": [
      "[1 2 3 4 5 6 7 8 9] <class 'numpy.ndarray'>\n"
     ]
    }
   ],
   "source": [
    "list1 = [1,2,3,4,5,6,7,8,9]\n",
    "cvt_array = np.array(list1)\n",
    "print(cvt_array,type(cvt_array))"
   ]
  },
  {
   "cell_type": "markdown",
   "id": "b901f850-4072-469d-b21c-93b5d8b780cd",
   "metadata": {},
   "source": [
    "### creating array from tuples"
   ]
  },
  {
   "cell_type": "code",
   "execution_count": 25,
   "id": "b7c8aecc-0406-4bd8-a6a9-8dc35ee8f6d5",
   "metadata": {},
   "outputs": [
    {
     "name": "stdout",
     "output_type": "stream",
     "text": [
      "[ 1  2  3  4  5  6  7  8  9 10] <class 'numpy.ndarray'>\n"
     ]
    }
   ],
   "source": [
    "tuple1 = (1,2,3,4,5,6,7,8,9,10)\n",
    "tuple_to_array = np.array(tuple1)\n",
    "print(tuple_to_array,type(tuple_to_array))"
   ]
  },
  {
   "cell_type": "markdown",
   "id": "b88ba040-b370-484a-b271-d8a260d1e67c",
   "metadata": {},
   "source": [
    "## [1,2,3,4,5,6,7,8,9] this are one dimentional array "
   ]
  },
  {
   "cell_type": "markdown",
   "id": "5398a97b-780b-48da-bbdc-0677d72e2d4d",
   "metadata": {},
   "source": [
    "### datatype"
   ]
  },
  {
   "cell_type": "code",
   "execution_count": 30,
   "id": "d69ec3ce-2fb7-4763-9a95-514ca65e916d",
   "metadata": {},
   "outputs": [
    {
     "name": "stdout",
     "output_type": "stream",
     "text": [
      "float64\n"
     ]
    }
   ],
   "source": [
    "float1 = np.array([1.0,2.5,3.6,4.5,1.8,5.2])\n",
    "data_type = float1.dtype\n",
    "print(data_type)"
   ]
  },
  {
   "cell_type": "markdown",
   "id": "4ef81714-2c04-41f7-b148-6aae49f7f633",
   "metadata": {},
   "source": [
    "## string array "
   ]
  },
  {
   "cell_type": "code",
   "execution_count": 36,
   "id": "8909c536-8147-4f4b-9f14-bf9285356632",
   "metadata": {},
   "outputs": [
    {
     "name": "stdout",
     "output_type": "stream",
     "text": [
      "['apple' 'banana' 'mango' 'orange' 'kiwi'] <U6\n"
     ]
    }
   ],
   "source": [
    "str_array = np.array(['apple','banana','mango','orange','kiwi'])\n",
    "print(str_array,str_array.dtype)"
   ]
  },
  {
   "cell_type": "markdown",
   "id": "d04baa2f-38f3-4b0f-8e18-1a5550887c2a",
   "metadata": {},
   "source": [
    "## uppercasting"
   ]
  },
  {
   "cell_type": "code",
   "execution_count": 69,
   "id": "7f35e9d8-3089-4ded-9446-c660ca52f41e",
   "metadata": {},
   "outputs": [
    {
     "name": "stdout",
     "output_type": "stream",
     "text": [
      "<class 'numpy.ndarray'> ['apple' '100' '2.565' 'True']\n"
     ]
    }
   ],
   "source": [
    "str_upper = np.array(['apple',100,2.565,True])\n",
    "print(type(str_upper) ,str_upper) # here all data convert to the string beacause string are more flexiable "
   ]
  },
  {
   "cell_type": "markdown",
   "id": "4cf5f836-52df-4cd4-99d9-edfc060cae01",
   "metadata": {},
   "source": [
    "Notice that in the code given above, numerical values have been converted into strings. This is because arrays can't have mixed types of data. Therefore, NumPy performs what is called upcasting, which is automatic promotion of data types to a higher-level type to ensure that all elements in an operation can be handled consistently. NumPy will upcast the data types to a common type that can accommodate both inputs without loss of information.\n",
    "\n"
   ]
  },
  {
   "cell_type": "markdown",
   "id": "e7214934-c78e-473f-9328-aae8759c9904",
   "metadata": {},
   "source": [
    "### array from set"
   ]
  },
  {
   "cell_type": "code",
   "execution_count": 53,
   "id": "46dcb3b8-ef79-42c5-b294-95458a86a6a5",
   "metadata": {},
   "outputs": [
    {
     "name": "stdout",
     "output_type": "stream",
     "text": [
      "{1.2, 2.3, 1.254, 4.987, 5.6, 1.478} <class 'numpy.ndarray'>\n"
     ]
    }
   ],
   "source": [
    "set1 = {1.2,2.3,5.6,4.987,1.254,1.478}\n",
    "array1 = np.array(set1)\n",
    "print(array1,type(array1))"
   ]
  },
  {
   "cell_type": "code",
   "execution_count": 55,
   "id": "eab54d04-460c-4c07-a996-3af9e7105ec7",
   "metadata": {},
   "outputs": [
    {
     "ename": "IndexError",
     "evalue": "too many indices for array: array is 0-dimensional, but 1 were indexed",
     "output_type": "error",
     "traceback": [
      "\u001b[1;31m---------------------------------------------------------------------------\u001b[0m",
      "\u001b[1;31mIndexError\u001b[0m                                Traceback (most recent call last)",
      "Cell \u001b[1;32mIn[55], line 1\u001b[0m\n\u001b[1;32m----> 1\u001b[0m \u001b[38;5;28mprint\u001b[39m(array1[\u001b[38;5;241m0\u001b[39m])\n",
      "\u001b[1;31mIndexError\u001b[0m: too many indices for array: array is 0-dimensional, but 1 were indexed"
     ]
    }
   ],
   "source": [
    "print(array1[0])"
   ]
  },
  {
   "cell_type": "markdown",
   "id": "a01f1d2e-388b-4d58-86fb-5e52a4fe8191",
   "metadata": {},
   "source": [
    "Notice even though we have created an array from a set, the resulting array retains the curly braces from the set. Further, when we tried to access an element from the resulting array, the interpreter threw the above error.\n",
    "\n",
    "\n",
    "This is mainly because sets in Python are unordered collections of unique elements, whereas NumPy arrays are ordered collections. NumPy creates a zero-dimensional array which cannot be indexed. Hence creating arrays directly from sets is not a common practice, and it's not typically suggested.\n",
    "\n",
    "\n",
    "\n"
   ]
  },
  {
   "cell_type": "markdown",
   "id": "f35ce05f-320d-49fb-aabf-6803b63aa714",
   "metadata": {},
   "source": [
    "## Understanding NumPy Arrays and Mixed Data Types"
   ]
  },
  {
   "cell_type": "markdown",
   "id": "3fcdfff0-7aa0-4ed6-b7e5-d01fdbb29459",
   "metadata": {},
   "source": [
    "\n",
    "NumPy is designed to work with large amounts of numerical data efficiently. One of its key features is that all elements in a NumPy array must have the same data type (e.g., all integers, all floats, or all strings).\n",
    "\n",
    "But what happens when we try to create a NumPy array from a list containing different data types?"
   ]
  },
  {
   "cell_type": "code",
   "execution_count": 60,
   "id": "a9dd3035-1c48-473a-b3dc-9f41668b06af",
   "metadata": {},
   "outputs": [
    {
     "ename": "ValueError",
     "evalue": "setting an array element with a sequence. The requested array has an inhomogeneous shape after 1 dimensions. The detected shape was (5,) + inhomogeneous part.",
     "output_type": "error",
     "traceback": [
      "\u001b[1;31m---------------------------------------------------------------------------\u001b[0m",
      "\u001b[1;31mValueError\u001b[0m                                Traceback (most recent call last)",
      "Cell \u001b[1;32mIn[60], line 2\u001b[0m\n\u001b[0;32m      1\u001b[0m mixedlist \u001b[38;5;241m=\u001b[39m [[\u001b[38;5;241m1\u001b[39m,\u001b[38;5;241m2\u001b[39m,\u001b[38;5;241m3\u001b[39m],\u001b[38;5;124m'\u001b[39m\u001b[38;5;124mapple\u001b[39m\u001b[38;5;124m'\u001b[39m,\u001b[38;5;241m10.245\u001b[39m,\u001b[38;5;241m-\u001b[39m\u001b[38;5;241m5\u001b[39m,\u001b[38;5;28;01mTrue\u001b[39;00m]\n\u001b[1;32m----> 2\u001b[0m ct_array \u001b[38;5;241m=\u001b[39m np\u001b[38;5;241m.\u001b[39marray(mixedlist)\n\u001b[0;32m      3\u001b[0m \u001b[38;5;28mprint\u001b[39m(ct_array)\n",
      "\u001b[1;31mValueError\u001b[0m: setting an array element with a sequence. The requested array has an inhomogeneous shape after 1 dimensions. The detected shape was (5,) + inhomogeneous part."
     ]
    }
   ],
   "source": [
    "mixedlist = [[1,2,3],'apple',10.245,-5,True]\n",
    "ct_array = np.array(mixedlist)\n",
    "print(ct_array)"
   ]
  },
  {
   "cell_type": "markdown",
   "id": "7dfaeee1-7c08-45d3-8fe6-3eac9ddcd1ba",
   "metadata": {},
   "source": [
    "🔴 This gives an error because NumPy expects a consistent data type, but our list contains:\n",
    "\n",
    "A list [2, 3, 1]\n",
    "A string 'New York'\n",
    "A float 5.6\n",
    "An integer -10\n",
    "Another string 'John'\n",
    "These data types are too different for NumPy to convert into a single, uniform array.\n",
    "\n"
   ]
  },
  {
   "cell_type": "markdown",
   "id": "1041bc2f-7aa2-4ccd-8a34-88c2b9ee7860",
   "metadata": {},
   "source": [
    "so the solution is "
   ]
  },
  {
   "cell_type": "code",
   "execution_count": 66,
   "id": "516cf44f-0b5d-4b96-afa0-b82512c80234",
   "metadata": {},
   "outputs": [
    {
     "name": "stdout",
     "output_type": "stream",
     "text": [
      "[list([1, 2, 3]) 'apple' 10.245 -5 True] <class 'numpy.ndarray'>\n"
     ]
    }
   ],
   "source": [
    "ct_array = np.array(object = mixedlist, dtype ='object')\n",
    "print(ct_array, type(ct_array))"
   ]
  },
  {
   "cell_type": "markdown",
   "id": "de4da906-b5d1-43ae-929c-b943beacb18b",
   "metadata": {},
   "source": [
    "To force NumPy to accept different types, we can specify dtype='object'. This tells NumPy to treat every element as a general Python object:"
   ]
  },
  {
   "cell_type": "markdown",
   "id": "756620f3-def8-4025-a7af-7eb170e7ba15",
   "metadata": {},
   "source": [
    "# Multidimensional Arrays"
   ]
  },
  {
   "cell_type": "markdown",
   "id": "01b97848-b11e-4c32-9281-6ac2f4ffbf2a",
   "metadata": {},
   "source": [
    "## creating 2d array "
   ]
  },
  {
   "cell_type": "code",
   "execution_count": 5,
   "id": "ac516184-dfc5-424b-ac22-8ca02799d1e2",
   "metadata": {},
   "outputs": [
    {
     "name": "stdout",
     "output_type": "stream",
     "text": [
      "[[1 2 3]\n",
      " [4 5 6]]\n"
     ]
    }
   ],
   "source": [
    "list_2_dim = [1,2,3],[4,5,6]\n",
    "array_2d  = np.array(list_2_dim)\n",
    "print(array_2d)"
   ]
  },
  {
   "cell_type": "markdown",
   "id": "dbb3862f-ee71-4f41-a741-84927266e046",
   "metadata": {},
   "source": [
    "## creating 3d array "
   ]
  },
  {
   "cell_type": "code",
   "execution_count": 10,
   "id": "954703b8-dfe4-4fef-a06f-a83f2836471c",
   "metadata": {},
   "outputs": [
    {
     "name": "stdout",
     "output_type": "stream",
     "text": [
      "[[[1 2 3]\n",
      "  [4 5 6]]\n",
      "\n",
      " [[1 2 3]\n",
      "  [4 5 6]]\n",
      "\n",
      " [[1 2 3]\n",
      "  [4 5 6]]]\n"
     ]
    }
   ],
   "source": [
    "list_3d =[ [[1,2,3],[4,5,6]],[[1,2,3],[4,5,6]],[[1,2,3],[4,5,6]]]\n",
    "array_3d = np.array(list_3d)\n",
    "print(array_3d)"
   ]
  },
  {
   "cell_type": "markdown",
   "id": "6bceb090-22c7-4e20-9325-70fefc306c01",
   "metadata": {},
   "source": [
    "Checking the number of dimensions in an array"
   ]
  },
  {
   "cell_type": "code",
   "execution_count": 29,
   "id": "2b1cdb74-d29d-421b-8f04-6a7371cc4d4d",
   "metadata": {},
   "outputs": [
    {
     "name": "stdout",
     "output_type": "stream",
     "text": [
      "the dimensional of this array is  3\n"
     ]
    }
   ],
   "source": [
    "tem = [\n",
    "    [\n",
    "        [20,24,25,26,29,24],\n",
    "        [24,22,21,27,26,28],\n",
    "        [22,25,24,25,26,27]\n",
    "    ],\n",
    "    [\n",
    "        [25,26,23,24,24,25],\n",
    "        [24,25,26,27,28,29],\n",
    "        [29,21,20,24,26,23]\n",
    "    ]\n",
    "]\n",
    "mk_array = np.array(tem)\n",
    "mk_dim = np.ndim(mk_array)\n",
    "print('the dimensional of this array is ',mk_dim)"
   ]
  },
  {
   "cell_type": "markdown",
   "id": "3c6b409e-a6df-48f4-833c-7084ef489286",
   "metadata": {},
   "source": [
    "### shape"
   ]
  },
  {
   "cell_type": "code",
   "execution_count": 33,
   "id": "afdfd41d-60b4-4167-96f3-2daaac4d0590",
   "metadata": {},
   "outputs": [
    {
     "name": "stdout",
     "output_type": "stream",
     "text": [
      "1D Array:\n",
      "[1 2 3 4 5]\n",
      "Shape: (5,)\n",
      "\n",
      "2D Array:\n",
      "[[1 2 3]\n",
      " [4 5 6]\n",
      " [7 8 9]]\n",
      "Shape: (3, 3)\n",
      "\n",
      "3D Array:\n",
      "[[[ 1  2  3]\n",
      "  [ 4  5  6]]\n",
      "\n",
      " [[ 7  8  9]\n",
      "  [10 11 12]]]\n",
      "Shape: (2, 2, 3)\n"
     ]
    }
   ],
   "source": [
    "# 1D array (Vector)\n",
    "array_1d = np.array([1, 2, 3, 4, 5])\n",
    "print(\"1D Array:\")\n",
    "print(array_1d)\n",
    "print(\"Shape:\", array_1d.shape)\n",
    "\n",
    "# 2D array (Matrix)\n",
    "array_2d = np.array([[1, 2, 3], [4, 5, 6], [7, 8, 9]])\n",
    "print(\"\\n2D Array:\")\n",
    "print(array_2d)\n",
    "print(\"Shape:\", array_2d.shape)\n",
    "\n",
    "# 3D array (Tensor)\n",
    "array_3d = np.array([\n",
    "    [\n",
    "        [1, 2, 3], [4, 5, 6]\n",
    "    ],\n",
    "    [\n",
    "        [7, 8, 9], [10, 11, 12]\n",
    "    ]\n",
    "])\n",
    "print(\"\\n3D Array:\")\n",
    "print(array_3d)\n",
    "print(\"Shape:\", array_3d.shape)"
   ]
  },
  {
   "cell_type": "markdown",
   "id": "66e82474-8940-4715-8bb8-32ea779f503c",
   "metadata": {},
   "source": [
    "simple way to make the array according to there dimensional"
   ]
  },
  {
   "cell_type": "code",
   "execution_count": 43,
   "id": "57639660-8569-4804-b003-29c2688acc3f",
   "metadata": {},
   "outputs": [
    {
     "name": "stdout",
     "output_type": "stream",
     "text": [
      "[[[[1 2 3]]]]\n",
      "(1, 1, 1, 3)\n",
      "4\n"
     ]
    }
   ],
   "source": [
    "var = np.array([1,2,3],ndmin = 4)\n",
    "dimen_array = np.ndim(var)\n",
    "print(var)\n",
    "print(var.shape)\n",
    "print(dimen_array)"
   ]
  },
  {
   "cell_type": "markdown",
   "id": "4e79269d-64b8-495a-a4c1-9aa487902a38",
   "metadata": {},
   "source": [
    "### key difference of ndim and ndmin"
   ]
  },
  {
   "cell_type": "markdown",
   "id": "b869cd04-4aaf-4256-a6e0-c2f78349239d",
   "metadata": {},
   "source": [
    "Use ndim to check how many dimensions an array has.\n"
   ]
  },
  {
   "cell_type": "markdown",
   "id": "6feb0259-aacd-49c7-ac81-62c99bcb2dd4",
   "metadata": {},
   "source": [
    "Use ndmin to force an array to have at least a certain number of dimensions."
   ]
  },
  {
   "cell_type": "code",
   "execution_count": 5,
   "id": "bd6fdb9e-e6a0-401f-8e13-db9132acc867",
   "metadata": {},
   "outputs": [
    {
     "name": "stdout",
     "output_type": "stream",
     "text": [
      "[[2 5 3 4]\n",
      " [1 6 4 2]\n",
      " [7 8 4 1]]\n",
      "2\n",
      "the size func : 12\n",
      "the shape func : (3, 4)\n",
      "3\n",
      "4\n"
     ]
    }
   ],
   "source": [
    "var = np.array([[2, 5, 3, 4], [1, 6, 4, 2], [7, 8, 4, 1]]) \n",
    "var_dim = np.ndim(var)\n",
    "print(var)\n",
    "print(var_dim)\n",
    "print('the size func :',var.size)\n",
    "print('the shape func :',var.shape)\n",
    "print(var.shape[0])\n",
    "print(var.shape[1])"
   ]
  },
  {
   "cell_type": "markdown",
   "id": "88c571e8-0654-411a-a2b5-4228afbd3a2c",
   "metadata": {},
   "source": [
    "# Accessing NumPy Array Elements"
   ]
  },
  {
   "cell_type": "markdown",
   "id": "29ff3f8d-9188-4c5d-8832-3da493a133c6",
   "metadata": {},
   "source": [
    "### Accessing elements in 1-dimensional arrays"
   ]
  },
  {
   "cell_type": "code",
   "execution_count": 87,
   "id": "6f4595c2-fb66-45a8-9d42-9dd6f621351f",
   "metadata": {},
   "outputs": [
    {
     "name": "stdout",
     "output_type": "stream",
     "text": [
      "[1 2 3 4 5]\n",
      "[1 3 5 7 9]\n",
      "[9 8 7 6 5 4 3 2 1]\n",
      "[6 5 4 3 2]\n",
      "9\n",
      "7\n"
     ]
    }
   ],
   "source": [
    "new = np.array([1,2,3,4,5,6,7,8,9])\n",
    "print(new[0:5])\n",
    "print(new[0:9:2])#act same like the slicing \n",
    "print(new[::-1])\n",
    "print(new[5:0:-1])\n",
    "print(new[-1])\n",
    "print(new[-3])"
   ]
  },
  {
   "cell_type": "markdown",
   "id": "df01b6d1-6bcb-4008-a821-18904d3648c1",
   "metadata": {},
   "source": [
    "## Accessing 2-dimensional arrays"
   ]
  },
  {
   "cell_type": "code",
   "execution_count": 33,
   "id": "aafa40fe-3442-4a7b-9594-81ede6df8113",
   "metadata": {},
   "outputs": [
    {
     "name": "stdout",
     "output_type": "stream",
     "text": [
      "[1 2 3 4]\n",
      "1\n",
      "----------------------\n",
      "3\n",
      "[5 6 7 8]\n",
      "this is first row [1 2 3 4]\n",
      "this is second row [5 6 7 8]\n",
      "---------------------------------------------------------------------------------\n",
      "# Alternative 1\n",
      "[1 2 3 4]\n",
      "# Alternative 2\n",
      "[1 2 3 4]\n",
      "# Accessing the last 2 elements of the first row\n",
      "[2 3 4]\n",
      "[[1 2]\n",
      " [5 6]]\n"
     ]
    }
   ],
   "source": [
    "list_new = np.array([\n",
    "    [1,2,3,4],\n",
    "    [5,6,7,8]\n",
    "])\n",
    "print(list_new[0])\n",
    "print(list_new[0][0])\n",
    "print('----------------------')\n",
    "print(list_new[0,2])\n",
    "print(list_new[1])\n",
    "# Accessing the first row\n",
    "print('this is first row',list_new[0,:])\n",
    "# Accessing the second row\n",
    "print('this is second row',list_new[1, :])\n",
    "\n",
    "print(\"---------------------------------------------------------------------------------\")\n",
    "print(\"# Alternative 1\")\n",
    "print(list_new[0,])\n",
    "print('# Alternative 2')\n",
    "print(list_new[0][:])\n",
    "print('# Accessing the last 2 elements of the first row')\n",
    "print(list_new[0,1:])\n",
    "# list_new[row, col_start:col_end] is NumPy slicing to select specific parts of an array.\n",
    "print(list_new[0:,0:2])"
   ]
  },
  {
   "cell_type": "markdown",
   "id": "7eb949ff-8d75-4c90-8b19-41be95ee460e",
   "metadata": {},
   "source": [
    "### Accessing 3-dimensional arrays (depth, rows, columns)"
   ]
  },
  {
   "cell_type": "code",
   "execution_count": 64,
   "id": "506c2aba-420b-4475-bfda-15f07a035796",
   "metadata": {},
   "outputs": [
    {
     "name": "stdout",
     "output_type": "stream",
     "text": [
      "(2, 3, 4)\n",
      "\n",
      "[[ 1  2  3  4]\n",
      " [ 5  6  7  8]\n",
      " [ 9 10 11 12]]\n",
      "\n",
      "[[13 14 15 16]\n",
      " [17 18 19 20]\n",
      " [21 22 23 24]]\n",
      "\n",
      "[17 18 19 20]\n",
      "(depth, rows, columns)\n",
      "depth pass the which block , rows,columns\n",
      "19\n",
      "\n",
      "[[13 14 15 16]\n",
      " [17 18 19 20]\n",
      " [21 22 23 24]]\n",
      "\n",
      "[[13 14 15 16]\n",
      " [17 18 19 20]\n",
      " [21 22 23 24]]\n"
     ]
    }
   ],
   "source": [
    "three = np.array([\n",
    "    [\n",
    "        [1,2,3,4],\n",
    "        [5,6,7,8],\n",
    "        [9,10,11,12]\n",
    "    ],\n",
    "    [\n",
    "        [13,14,15,16],\n",
    "        [17,18,19,20],\n",
    "        [21,22,23,24]\n",
    "    ]\n",
    "])\n",
    "print(three.shape)\n",
    "print()\n",
    "print(three[0])\n",
    "print()\n",
    "print(three[1])\n",
    "print('')\n",
    "print(three[1][1])\n",
    "print('(depth, rows, columns)')\n",
    "print('depth pass the which block , rows,columns')\n",
    "print(three[1][1][2])\n",
    "print()\n",
    "print(three[1][0:][0:])\n",
    "print()\n",
    "print(three[1,0:,0:])"
   ]
  },
  {
   "cell_type": "markdown",
   "id": "e842385f-7477-4c49-885c-1c7e370dbdca",
   "metadata": {},
   "source": [
    "#### Accessing elements based on conditions\n",
    "\n"
   ]
  },
  {
   "cell_type": "code",
   "execution_count": 69,
   "id": "8fdb40de-fa2e-40b6-b721-72e938e8e5b8",
   "metadata": {},
   "outputs": [
    {
     "name": "stdout",
     "output_type": "stream",
     "text": [
      "[[False False False False]\n",
      " [ True  True  True  True]]\n"
     ]
    }
   ],
   "source": [
    "liss = np.array([\n",
    "    [1,2,3,4],[5,6,7,8]\n",
    "])\n",
    "cond = liss >=5\n",
    "print(cond)"
   ]
  },
  {
   "cell_type": "markdown",
   "id": "540c0452-370a-4f05-a650-a9c236d9b980",
   "metadata": {},
   "source": [
    "#### if we just want the number which are evven or odd"
   ]
  },
  {
   "cell_type": "code",
   "execution_count": 84,
   "id": "d4eabcd3-cc6c-4f4a-bd72-2c2dce923e09",
   "metadata": {},
   "outputs": [
    {
     "name": "stdout",
     "output_type": "stream",
     "text": [
      "[ 2  4  6  8 10 12 14 16 18]\n",
      "[ 1  5  7  9 11 13 15]\n"
     ]
    }
   ],
   "source": [
    "dig = np.array([\n",
    "    [1,2,4,5,6,7,8,9],[10,11,12,13,14,15,16,18]\n",
    "])\n",
    "even =dig [dig%2 == 0]\n",
    "print(even)\n",
    "odd = dig[dig%2==1]\n",
    "print(odd)"
   ]
  },
  {
   "cell_type": "markdown",
   "id": "2f3284c6-f600-4a5d-b219-9ded8007df15",
   "metadata": {},
   "source": [
    "## Array Manipulations"
   ]
  },
  {
   "cell_type": "markdown",
   "id": "1012f9bf-4372-4368-9a63-7319a668d3a9",
   "metadata": {},
   "source": [
    "### adding the element "
   ]
  },
  {
   "cell_type": "code",
   "execution_count": 10,
   "id": "87ef6b0a-c927-4ca8-a606-b85f892f4901",
   "metadata": {},
   "outputs": [
    {
     "name": "stdout",
     "output_type": "stream",
     "text": [
      "[1 2 3 4]\n"
     ]
    }
   ],
   "source": [
    "array = np.array([1,2,3])\n",
    "array = np.append(array,4)\n",
    "print(array)"
   ]
  },
  {
   "cell_type": "code",
   "execution_count": 34,
   "id": "8de2aaa3-14b6-4978-b5b0-f7a23d68b463",
   "metadata": {},
   "outputs": [
    {
     "name": "stdout",
     "output_type": "stream",
     "text": [
      "[1 2 3 4 5 6 7]\n"
     ]
    }
   ],
   "source": [
    "array2 = np.array([1,2,3])\n",
    "array2 = np.append(array2,[4,5,6,7])\n",
    "print(array2)"
   ]
  },
  {
   "cell_type": "markdown",
   "id": "0ace7a04-da71-44e4-963e-6d2bc0890d02",
   "metadata": {},
   "source": [
    "### deleted the element "
   ]
  },
  {
   "cell_type": "code",
   "execution_count": 40,
   "id": "d2dd60fc-90b9-4f2e-b65d-4d827bc892ac",
   "metadata": {},
   "outputs": [
    {
     "name": "stdout",
     "output_type": "stream",
     "text": [
      "[1 2 4 5 6 7 8 9]\n"
     ]
    }
   ],
   "source": [
    "array3 = np.array([1,2,3,4,5,6,7,8,9])\n",
    "array3 = np.delete(array3,obj = 2) # delete the index number in obj\n",
    "print(array3)"
   ]
  },
  {
   "cell_type": "code",
   "execution_count": 44,
   "id": "b5481a06-5210-4745-b25a-ab5579d19340",
   "metadata": {},
   "outputs": [
    {
     "name": "stdout",
     "output_type": "stream",
     "text": [
      "[2 4 5 6 7 8 9]\n"
     ]
    }
   ],
   "source": [
    "array4 = np.array([1,2,3,4,5,6,7,8,9])\n",
    "array4 = np.delete(array4,obj = [0,2])# deleted the index number of 0,2\n",
    "print(array4)"
   ]
  },
  {
   "cell_type": "markdown",
   "id": "4d2f3960-54c4-4af5-86b7-6f467b48127e",
   "metadata": {},
   "source": [
    "### Replacing elements "
   ]
  },
  {
   "cell_type": "code",
   "execution_count": 49,
   "id": "476eb910-c827-4c63-9b38-76c7180e27be",
   "metadata": {},
   "outputs": [
    {
     "name": "stdout",
     "output_type": "stream",
     "text": [
      "[1 2 5 4 5 6 7 8 9]\n"
     ]
    }
   ],
   "source": [
    "array5 = np.array([1,2,3,4,5,6,7,8,9])\n",
    "array5[2]=5\n",
    "print(array5)"
   ]
  },
  {
   "cell_type": "code",
   "execution_count": 51,
   "id": "0f12e41d-93fa-4d6a-b6e6-07041e033b3c",
   "metadata": {},
   "outputs": [
    {
     "name": "stdout",
     "output_type": "stream",
     "text": [
      "[-1 -2  3  4  5  6  7  8  9]\n"
     ]
    }
   ],
   "source": [
    "array6 = np.array([1,2,3,4,5,6,7,8,9])\n",
    "array6[0:2]=[-1,-2]\n",
    "print(array6)"
   ]
  },
  {
   "cell_type": "code",
   "execution_count": 65,
   "id": "1a118c49-4819-4727-800d-ad30078490df",
   "metadata": {},
   "outputs": [
    {
     "name": "stdout",
     "output_type": "stream",
     "text": [
      "[  1   2   3   4 100 200 300 400 500]\n"
     ]
    }
   ],
   "source": [
    "array7= np.array([1,2,3,4,5,6,7,8,9])\n",
    "array7[-5:]=[100,200,300,400,500]\n",
    "print(array7)"
   ]
  },
  {
   "cell_type": "markdown",
   "id": "633323d4-472e-4798-83b1-9b4d05d60d82",
   "metadata": {},
   "source": [
    "### Adding elements to 2-dimensional arrays"
   ]
  },
  {
   "cell_type": "code",
   "execution_count": 70,
   "id": "46842026-a89b-4497-a729-90e43101b562",
   "metadata": {},
   "outputs": [
    {
     "name": "stdout",
     "output_type": "stream",
     "text": [
      "[ 1  2  3  4 -1 -2 -3 -4  0]\n"
     ]
    }
   ],
   "source": [
    "arr = np.array([\n",
    "    [1,2,3,4],[-1,-2,-3,-4]\n",
    "])\n",
    "print(np.append(arr,0))"
   ]
  },
  {
   "cell_type": "markdown",
   "id": "0207dc72-56fc-4347-a8e4-42570876ebe3",
   "metadata": {},
   "source": [
    " This is because np.append() treats the array as a flattened 1-dimensional array when appending elements."
   ]
  },
  {
   "cell_type": "markdown",
   "id": "0e762c49-8680-48ea-9cc5-a27594d6ddc3",
   "metadata": {},
   "source": [
    " We will learn how to use the reshape() method in later sections."
   ]
  },
  {
   "cell_type": "markdown",
   "id": "595976c0-b031-460a-b664-5b38810d21be",
   "metadata": {},
   "source": [
    "### Deleting elements from 2-dimensional arrays"
   ]
  },
  {
   "cell_type": "code",
   "execution_count": 77,
   "id": "fbe15630-ca3b-4cc4-9587-ac3cb7e52fdc",
   "metadata": {},
   "outputs": [
    {
     "name": "stdout",
     "output_type": "stream",
     "text": [
      "deleted array: [ 2  3  4 -1 -2 -3 -4]\n"
     ]
    }
   ],
   "source": [
    "arr = np.array([\n",
    "    [1,2,3,4],[-1,-2,-3,-4]\n",
    "])\n",
    "print('deleted array:',np.delete(arr,0))"
   ]
  },
  {
   "cell_type": "markdown",
   "id": "7ba394bb-c0dc-462a-b3a1-6a42709f12a0",
   "metadata": {},
   "source": [
    "same reason why we goted  same one daimensional array"
   ]
  },
  {
   "cell_type": "code",
   "execution_count": 86,
   "id": "49e2c069-d790-4f62-afc0-343425cfbb13",
   "metadata": {},
   "outputs": [
    {
     "name": "stdout",
     "output_type": "stream",
     "text": [
      "deleted array [[ 5  6  7  8]\n",
      " [ 9 10 11 12]]\n"
     ]
    }
   ],
   "source": [
    "arr2 = np.array([\n",
    "    [1,2,3,4],\n",
    "    [5,6,7,8],\n",
    "    [9,10,11,12]\n",
    "])\n",
    "print('deleted array',np.delete(arr2,0,axis=0))"
   ]
  },
  {
   "cell_type": "code",
   "execution_count": null,
   "id": "39529ec3-e7b1-4172-8933-20f328dbd290",
   "metadata": {},
   "outputs": [],
   "source": []
  },
  {
   "cell_type": "code",
   "execution_count": null,
   "id": "700150a3-1f98-4558-a5aa-3fde7c5cca50",
   "metadata": {},
   "outputs": [],
   "source": []
  },
  {
   "cell_type": "code",
   "execution_count": null,
   "id": "5f071983-473b-45e4-9cf0-88bd96794b45",
   "metadata": {},
   "outputs": [],
   "source": []
  }
 ],
 "metadata": {
  "kernelspec": {
   "display_name": "Python [conda env:base] *",
   "language": "python",
   "name": "conda-base-py"
  },
  "language_info": {
   "codemirror_mode": {
    "name": "ipython",
    "version": 3
   },
   "file_extension": ".py",
   "mimetype": "text/x-python",
   "name": "python",
   "nbconvert_exporter": "python",
   "pygments_lexer": "ipython3",
   "version": "3.12.7"
  }
 },
 "nbformat": 4,
 "nbformat_minor": 5
}
