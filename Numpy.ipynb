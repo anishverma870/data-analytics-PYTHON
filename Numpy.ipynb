{
 "cells": [
  {
   "cell_type": "markdown",
   "id": "93310966-2047-4443-9106-ec9052c29ec9",
   "metadata": {},
   "source": [
    "# Numpy"
   ]
  },
  {
   "cell_type": "code",
   "execution_count": 7,
   "id": "e4527c06-15e8-4d65-a507-d3060652a62b",
   "metadata": {},
   "outputs": [],
   "source": [
    "import numpy as np"
   ]
  },
  {
   "cell_type": "code",
   "execution_count": 4,
   "id": "7d7163eb-ece4-4640-8cef-1a01fbe77402",
   "metadata": {},
   "outputs": [
    {
     "data": {
      "text/plain": [
       "'1.26.4'"
      ]
     },
     "execution_count": 4,
     "metadata": {},
     "output_type": "execute_result"
    }
   ],
   "source": [
    "np.__version__"
   ]
  },
  {
   "cell_type": "markdown",
   "id": "db47f704-121b-4a9f-83a0-ab9038ad6b5a",
   "metadata": {},
   "source": [
    "### creating the empty array"
   ]
  },
  {
   "cell_type": "code",
   "execution_count": 9,
   "id": "48f8a6c5-8f87-4e38-9b55-6fa0fbf51fd9",
   "metadata": {},
   "outputs": [],
   "source": [
    "np_array = np.array([])"
   ]
  },
  {
   "cell_type": "code",
   "execution_count": 11,
   "id": "8ac0126a-53c5-4d30-963f-502332671635",
   "metadata": {},
   "outputs": [
    {
     "data": {
      "text/plain": [
       "array([], dtype=float64)"
      ]
     },
     "execution_count": 11,
     "metadata": {},
     "output_type": "execute_result"
    }
   ],
   "source": [
    "np_array"
   ]
  },
  {
   "cell_type": "markdown",
   "id": "12b5ef41-f22f-4626-b3c5-69692963391a",
   "metadata": {},
   "source": [
    "### creating array from list "
   ]
  },
  {
   "cell_type": "code",
   "execution_count": 18,
   "id": "af408a2b-04c9-44f8-a1d5-45ff1b70aced",
   "metadata": {},
   "outputs": [
    {
     "name": "stdout",
     "output_type": "stream",
     "text": [
      "[1 2 3 4 5 6 7 8 9] <class 'numpy.ndarray'>\n"
     ]
    }
   ],
   "source": [
    "list1 = [1,2,3,4,5,6,7,8,9]\n",
    "cvt_array = np.array(list1)\n",
    "print(cvt_array,type(cvt_array))"
   ]
  },
  {
   "cell_type": "markdown",
   "id": "b901f850-4072-469d-b21c-93b5d8b780cd",
   "metadata": {},
   "source": [
    "### creating array from tuples"
   ]
  },
  {
   "cell_type": "code",
   "execution_count": 25,
   "id": "b7c8aecc-0406-4bd8-a6a9-8dc35ee8f6d5",
   "metadata": {},
   "outputs": [
    {
     "name": "stdout",
     "output_type": "stream",
     "text": [
      "[ 1  2  3  4  5  6  7  8  9 10] <class 'numpy.ndarray'>\n"
     ]
    }
   ],
   "source": [
    "tuple1 = (1,2,3,4,5,6,7,8,9,10)\n",
    "tuple_to_array = np.array(tuple1)\n",
    "print(tuple_to_array,type(tuple_to_array))"
   ]
  },
  {
   "cell_type": "markdown",
   "id": "b88ba040-b370-484a-b271-d8a260d1e67c",
   "metadata": {},
   "source": [
    "## [1,2,3,4,5,6,7,8,9] this are one dimentional array "
   ]
  },
  {
   "cell_type": "markdown",
   "id": "5398a97b-780b-48da-bbdc-0677d72e2d4d",
   "metadata": {},
   "source": [
    "### datatype"
   ]
  },
  {
   "cell_type": "code",
   "execution_count": 30,
   "id": "d69ec3ce-2fb7-4763-9a95-514ca65e916d",
   "metadata": {},
   "outputs": [
    {
     "name": "stdout",
     "output_type": "stream",
     "text": [
      "float64\n"
     ]
    }
   ],
   "source": [
    "float1 = np.array([1.0,2.5,3.6,4.5,1.8,5.2])\n",
    "data_type = float1.dtype\n",
    "print(data_type)"
   ]
  },
  {
   "cell_type": "markdown",
   "id": "4ef81714-2c04-41f7-b148-6aae49f7f633",
   "metadata": {},
   "source": [
    "## string array "
   ]
  },
  {
   "cell_type": "code",
   "execution_count": 36,
   "id": "8909c536-8147-4f4b-9f14-bf9285356632",
   "metadata": {},
   "outputs": [
    {
     "name": "stdout",
     "output_type": "stream",
     "text": [
      "['apple' 'banana' 'mango' 'orange' 'kiwi'] <U6\n"
     ]
    }
   ],
   "source": [
    "str_array = np.array(['apple','banana','mango','orange','kiwi'])\n",
    "print(str_array,str_array.dtype)"
   ]
  },
  {
   "cell_type": "markdown",
   "id": "d04baa2f-38f3-4b0f-8e18-1a5550887c2a",
   "metadata": {},
   "source": [
    "## uppercasting"
   ]
  },
  {
   "cell_type": "code",
   "execution_count": 43,
   "id": "7f35e9d8-3089-4ded-9446-c660ca52f41e",
   "metadata": {},
   "outputs": [
    {
     "name": "stdout",
     "output_type": "stream",
     "text": [
      "<class 'numpy.ndarray'> ['apple' '100' '2.565' 'True']\n"
     ]
    }
   ],
   "source": [
    "str_upper = np.array(['apple',100,2.565,True])\n",
    "print(type(str_upper) ,str_upper) # here all data convert to the string beacause"
   ]
  },
  {
   "cell_type": "code",
   "execution_count": null,
   "id": "9c939feb-1c6d-4725-954d-1e11d7b7813f",
   "metadata": {},
   "outputs": [],
   "source": []
  },
  {
   "cell_type": "code",
   "execution_count": null,
   "id": "e04bfda3-dba1-47b6-9cc7-330d396d2466",
   "metadata": {},
   "outputs": [],
   "source": []
  }
 ],
 "metadata": {
  "kernelspec": {
   "display_name": "Python [conda env:base] *",
   "language": "python",
   "name": "conda-base-py"
  },
  "language_info": {
   "codemirror_mode": {
    "name": "ipython",
    "version": 3
   },
   "file_extension": ".py",
   "mimetype": "text/x-python",
   "name": "python",
   "nbconvert_exporter": "python",
   "pygments_lexer": "ipython3",
   "version": "3.12.7"
  }
 },
 "nbformat": 4,
 "nbformat_minor": 5
}
