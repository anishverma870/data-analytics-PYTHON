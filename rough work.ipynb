{
 "cells": [
  {
   "cell_type": "code",
   "execution_count": 3,
   "id": "417f5f6a-f34e-4142-b7a6-ea06c11b17d2",
   "metadata": {},
   "outputs": [],
   "source": [
    "import numpy as np"
   ]
  },
  {
   "cell_type": "code",
   "execution_count": 5,
   "id": "d669c02e-4d6b-4382-8b0e-807ce68b4fc9",
   "metadata": {},
   "outputs": [],
   "source": [
    "mixed = [[1,2,3,4,5,6],'anish',10,15,True]"
   ]
  },
  {
   "cell_type": "code",
   "execution_count": 7,
   "id": "6cae9b5d-3d7d-4401-9bf6-53e3d32fa35a",
   "metadata": {},
   "outputs": [
    {
     "name": "stdout",
     "output_type": "stream",
     "text": [
      "[list([1, 2, 3, 4, 5, 6]) 'anish' 10 15 True]\n"
     ]
    }
   ],
   "source": [
    "con_array = np.array(object = mixed , dtype ='object' )\n",
    "print(con_array)"
   ]
  },
  {
   "cell_type": "code",
   "execution_count": 9,
   "id": "9f6b8cdb-8cec-416b-95c7-3d90642518d8",
   "metadata": {},
   "outputs": [],
   "source": [
    "lap = np.array(object = mixed,dtype = 'object')"
   ]
  },
  {
   "cell_type": "code",
   "execution_count": 11,
   "id": "68bad416-a2f5-4ad2-bc54-b5a983d7d437",
   "metadata": {},
   "outputs": [
    {
     "name": "stdout",
     "output_type": "stream",
     "text": [
      "[list([1, 2, 3, 4, 5, 6]) 'anish' 10 15 True]\n"
     ]
    }
   ],
   "source": [
    "print(lap)"
   ]
  },
  {
   "cell_type": "code",
   "execution_count": 13,
   "id": "024bccd5-fb94-4558-9a7c-6f0289f071fa",
   "metadata": {},
   "outputs": [],
   "source": [
    "tap = np.array(object = mixed,dtype = 'object')"
   ]
  },
  {
   "cell_type": "code",
   "execution_count": 15,
   "id": "c9374ea9-8593-4bde-9626-c1fc456f114e",
   "metadata": {},
   "outputs": [
    {
     "name": "stdout",
     "output_type": "stream",
     "text": [
      "[list([1, 2, 3, 4, 5, 6]) 'anish' 10 15 True]\n"
     ]
    }
   ],
   "source": [
    "print(tap)"
   ]
  },
  {
   "cell_type": "code",
   "execution_count": 17,
   "id": "d51f7976-9d2f-4f01-8ef8-3dd1b3f08a30",
   "metadata": {},
   "outputs": [
    {
     "name": "stdout",
     "output_type": "stream",
     "text": [
      "[list([1, 2, 3, 4, 5, 6]) 'anish' 10 15 True]\n"
     ]
    }
   ],
   "source": [
    "hop = np.array(object = mixed, dtype = 'object' )\n",
    "print(hop)"
   ]
  },
  {
   "cell_type": "code",
   "execution_count": null,
   "id": "793e372f-9f63-4cfc-89f7-e5093b8b419a",
   "metadata": {},
   "outputs": [],
   "source": []
  },
  {
   "cell_type": "code",
   "execution_count": null,
   "id": "655dbf23-1d62-42f4-a086-3e7a38bcc10a",
   "metadata": {},
   "outputs": [],
   "source": []
  },
  {
   "cell_type": "code",
   "execution_count": null,
   "id": "51025f05-2b00-4f9e-963f-34dfa6c326a4",
   "metadata": {},
   "outputs": [],
   "source": []
  },
  {
   "cell_type": "code",
   "execution_count": null,
   "id": "190d650c-6310-4845-9c28-dbf27f4672a3",
   "metadata": {},
   "outputs": [],
   "source": []
  },
  {
   "cell_type": "code",
   "execution_count": null,
   "id": "6aab5ab6-39db-4cf7-944c-1493c9c142ed",
   "metadata": {},
   "outputs": [],
   "source": []
  },
  {
   "cell_type": "code",
   "execution_count": null,
   "id": "8d6be2c7-0568-4a37-85b8-7ac5dd56f0a3",
   "metadata": {},
   "outputs": [],
   "source": []
  },
  {
   "cell_type": "code",
   "execution_count": null,
   "id": "8a024291-20b4-4fdd-a124-135af633e0e0",
   "metadata": {},
   "outputs": [],
   "source": []
  },
  {
   "cell_type": "code",
   "execution_count": null,
   "id": "a8a95df1-20fb-427c-9272-b92261f3818d",
   "metadata": {},
   "outputs": [],
   "source": []
  }
 ],
 "metadata": {
  "kernelspec": {
   "display_name": "Python [conda env:base] *",
   "language": "python",
   "name": "conda-base-py"
  },
  "language_info": {
   "codemirror_mode": {
    "name": "ipython",
    "version": 3
   },
   "file_extension": ".py",
   "mimetype": "text/x-python",
   "name": "python",
   "nbconvert_exporter": "python",
   "pygments_lexer": "ipython3",
   "version": "3.12.7"
  }
 },
 "nbformat": 4,
 "nbformat_minor": 5
}
