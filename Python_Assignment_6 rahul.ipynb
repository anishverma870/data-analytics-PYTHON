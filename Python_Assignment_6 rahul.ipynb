{
 "cells": [
  {
   "cell_type": "markdown",
   "id": "161967df-e6f5-4306-8ec6-6f0f8b1c14f6",
   "metadata": {
    "id": "161967df-e6f5-4306-8ec6-6f0f8b1c14f6"
   },
   "source": [
    "# 📖 Story Continuation: The Duplicate Entries Mystery!\n",
    "## The coding competition is over, but now there's another problem! The event organizers noticed that some students were accidentally registered multiple times, and some students were missing from the final list of participants.\n",
    "\n",
    "### Principal Williams calls the Tech Club again! Alex, Mia, and Jake must use Python sets to clean up the participant data and ensure every student's participation is properly recorded.\n",
    "\n",
    "#### 🔢 Python Set Challenges\n",
    "##### Each challenge is a real-world problem the Tech Club needs to solve using Python sets.\n",
    "\n",
    "#### 1️⃣ Creating a Set of Participants\n",
    "##### The student registration system recorded duplicate entries. Convert the list of participants into a set to remove duplicates.\n",
    "**participants = [\"Alice\", \"Bob\", \"Charlie\", \"Alice\", \"David\", \"Charlie\", \"Eve\"]**\n"
   ]
  },
  {
   "cell_type": "code",
   "execution_count": 2,
   "id": "dbd179bf-92e1-4b78-b951-7a2cc9ecb577",
   "metadata": {
    "id": "dbd179bf-92e1-4b78-b951-7a2cc9ecb577"
   },
   "outputs": [],
   "source": [
    "participants = [\"Alice\", \"Bob\", \"Charlie\", \"Alice\", \"David\", \"Charlie\", \"Eve\"]"
   ]
  },
  {
   "cell_type": "markdown",
   "id": "20707837-1bf5-42bf-b3b5-75ec100f50f4",
   "metadata": {
    "id": "20707837-1bf5-42bf-b3b5-75ec100f50f4"
   },
   "source": [
    "#### 2️⃣ Adding a Late Entry\n",
    "##### Emma was accidentally left out. Add \"Emma\" to the set.\n"
   ]
  },
  {
   "cell_type": "code",
   "execution_count": 4,
   "id": "e9d9259c-15c6-469d-bbef-f63683958ddc",
   "metadata": {
    "id": "e9d9259c-15c6-469d-bbef-f63683958ddc"
   },
   "outputs": [],
   "source": [
    "participants.append('Emma')"
   ]
  },
  {
   "cell_type": "code",
   "execution_count": 6,
   "id": "c4133431-ab58-416a-9da8-c04e05f278d4",
   "metadata": {},
   "outputs": [
    {
     "name": "stdout",
     "output_type": "stream",
     "text": [
      "['Alice', 'Bob', 'Charlie', 'Alice', 'David', 'Charlie', 'Eve', 'Emma']\n"
     ]
    }
   ],
   "source": [
    "print(participants)"
   ]
  },
  {
   "cell_type": "markdown",
   "id": "2b4bd20c-1898-40ce-919a-5f0f0aeb1526",
   "metadata": {
    "id": "2b4bd20c-1898-40ce-919a-5f0f0aeb1526"
   },
   "source": [
    "#### 3️⃣ Removing a Participant\n",
    "##### Bob couldn't attend the competition. Remove \"Bob\" from the set.\n"
   ]
  },
  {
   "cell_type": "code",
   "execution_count": 8,
   "id": "983d155e-c6cf-4eb7-89b2-49fe497920c0",
   "metadata": {
    "id": "983d155e-c6cf-4eb7-89b2-49fe497920c0"
   },
   "outputs": [],
   "source": [
    "participants.remove('Bob')"
   ]
  },
  {
   "cell_type": "code",
   "execution_count": 10,
   "id": "18206bd9-6a09-4ca2-926d-3cc383463d0f",
   "metadata": {},
   "outputs": [
    {
     "name": "stdout",
     "output_type": "stream",
     "text": [
      "['Alice', 'Charlie', 'Alice', 'David', 'Charlie', 'Eve', 'Emma']\n"
     ]
    }
   ],
   "source": [
    "print(participants)"
   ]
  },
  {
   "cell_type": "markdown",
   "id": "b93bd648-a575-49bb-9f9b-8568350c9fb9",
   "metadata": {
    "id": "b93bd648-a575-49bb-9f9b-8568350c9fb9"
   },
   "source": [
    "#### 4️⃣ Checking for a Student\n",
    "##### Check if \"Alice\" participated in the competition.\n"
   ]
  },
  {
   "cell_type": "code",
   "execution_count": 12,
   "id": "483e9b49-fe69-4bb9-910a-bb00aa480b78",
   "metadata": {
    "id": "483e9b49-fe69-4bb9-910a-bb00aa480b78"
   },
   "outputs": [
    {
     "name": "stdout",
     "output_type": "stream",
     "text": [
      "yess alice participated\n"
     ]
    }
   ],
   "source": [
    "if 'Alice' in participants:\n",
    "    print('yess alice participated')\n",
    "else:\n",
    "    print('not participant')"
   ]
  },
  {
   "cell_type": "markdown",
   "id": "bdde20ba-6c63-42da-9e7f-a5ec008c017e",
   "metadata": {
    "id": "bdde20ba-6c63-42da-9e7f-a5ec008c017e"
   },
   "source": [
    "#### 5️⃣ Finding Common Participants\n",
    "##### The school hosted another AI challenge. Find students who participated in both competitions.\n",
    "**coding_competition = {\"Alice\", \"Charlie\", \"David\", \"Eve\"}**\n",
    "\n",
    "**ai_challenge = {\"Charlie\", \"David\", \"Frank\", \"Grace\"}**\n"
   ]
  },
  {
   "cell_type": "code",
   "execution_count": 30,
   "id": "4c5f0a3f-57af-43c9-b327-4256d347105e",
   "metadata": {},
   "outputs": [
    {
     "name": "stdout",
     "output_type": "stream",
     "text": [
      "this student are participant in both competitions {'Charlie', 'David'}\n"
     ]
    }
   ],
   "source": [
    "coding_competition = {\"Alice\", \"Charlie\", \"David\", \"Eve\"}\n",
    "\n",
    "ai_challenge = {\"Charlie\", \"David\", \"Frank\", \"Grace\"}\n",
    "new = coding_competition.intersection(ai_challenge)\n",
    "print('this student are participant in both competitions',new)"
   ]
  },
  {
   "cell_type": "markdown",
   "id": "85fd7993-4f30-42cc-a696-616f5693e336",
   "metadata": {
    "id": "85fd7993-4f30-42cc-a696-616f5693e336"
   },
   "source": [
    "#### 6️⃣ Finding Unique Participants\n",
    "##### Find students who only participated in the coding competition.\n"
   ]
  },
  {
   "cell_type": "code",
   "execution_count": 32,
   "id": "f9831061-cf8d-40d5-b6a6-1bea7604a59f",
   "metadata": {
    "id": "f9831061-cf8d-40d5-b6a6-1bea7604a59f"
   },
   "outputs": [
    {
     "data": {
      "text/plain": [
       "{'Alice', 'Eve'}"
      ]
     },
     "execution_count": 32,
     "metadata": {},
     "output_type": "execute_result"
    }
   ],
   "source": [
    "coding_competition.difference(ai_challenge)"
   ]
  },
  {
   "cell_type": "markdown",
   "id": "8b0aa95f-2861-4ccd-97c2-e247e776dfcf",
   "metadata": {
    "id": "8b0aa95f-2861-4ccd-97c2-e247e776dfcf"
   },
   "source": [
    "#### 7️⃣ Finding All Participants\n",
    "##### Get a list of all unique participants from both competitions.\n"
   ]
  },
  {
   "cell_type": "code",
   "execution_count": 36,
   "id": "8ae2d475-03a5-452a-9dc4-979cf8904b51",
   "metadata": {
    "id": "8ae2d475-03a5-452a-9dc4-979cf8904b51"
   },
   "outputs": [
    {
     "data": {
      "text/plain": [
       "{'Alice', 'Eve', 'Frank', 'Grace'}"
      ]
     },
     "execution_count": 36,
     "metadata": {},
     "output_type": "execute_result"
    }
   ],
   "source": [
    "coding_competition.symmetric_difference(ai_challenge)"
   ]
  },
  {
   "cell_type": "markdown",
   "id": "6d5d0645-e928-4810-a477-340e9e482d98",
   "metadata": {
    "id": "6d5d0645-e928-4810-a477-340e9e482d98"
   },
   "source": [
    "#### 8️⃣ Checking for Subsets\n",
    "##### The top scorers are a subset of the competition participants. Check if one set is a subset of the other.\n",
    "**top_scorers = {\"Charlie\", \"Eve\"}**\n"
   ]
  },
  {
   "cell_type": "code",
   "execution_count": 46,
   "id": "b1547d26-c8d4-4f9f-891b-cb9e2dfdf886",
   "metadata": {
    "id": "b1547d26-c8d4-4f9f-891b-cb9e2dfdf886"
   },
   "outputs": [
    {
     "name": "stdout",
     "output_type": "stream",
     "text": [
      "true\n"
     ]
    }
   ],
   "source": [
    "top_scorers = {\"Charlie\", \"Eve\"}\n",
    "\n",
    "if top_scorers.issubset(coding_competition) :\n",
    "    print('true')\n",
    "   "
   ]
  },
  {
   "cell_type": "markdown",
   "id": "69d3c1c6-6902-4336-8324-8d15bd36d037",
   "metadata": {
    "id": "69d3c1c6-6902-4336-8324-8d15bd36d037"
   },
   "source": [
    "#### 9️⃣ Checking for Disjoint Sets\n",
    "##### The judges should have no overlap with the participants. Verify if these two sets are disjoint.\n",
    "**judges = {\"Mr. Smith\", \"Ms. Johnson\"}**\n"
   ]
  },
  {
   "cell_type": "code",
   "execution_count": 54,
   "id": "beddd6c1-5d06-4f4d-b835-2dffd0119386",
   "metadata": {
    "id": "beddd6c1-5d06-4f4d-b835-2dffd0119386"
   },
   "outputs": [
    {
     "data": {
      "text/plain": [
       "True"
      ]
     },
     "execution_count": 54,
     "metadata": {},
     "output_type": "execute_result"
    }
   ],
   "source": [
    "judges = {\"Mr. Smith\", \"Ms. Johnson\"}\n",
    "judges.isdisjoint(participants) # if judges and participants has same element then isdisjoint give false"
   ]
  },
  {
   "cell_type": "markdown",
   "id": "2ff43e0b-3a8c-4ca3-ab4b-91bda51184d4",
   "metadata": {
    "id": "2ff43e0b-3a8c-4ca3-ab4b-91bda51184d4"
   },
   "source": [
    "#### 🔟 Finding Students in One Event but Not the Other\n",
    "##### Find students who participated in the AI challenge but not in the coding competition.\n"
   ]
  },
  {
   "cell_type": "code",
   "execution_count": 62,
   "id": "49b3b8eb-bcf0-4b01-a52d-b5e5e9918feb",
   "metadata": {
    "id": "49b3b8eb-bcf0-4b01-a52d-b5e5e9918feb"
   },
   "outputs": [
    {
     "data": {
      "text/plain": [
       "{'Frank', 'Grace'}"
      ]
     },
     "execution_count": 62,
     "metadata": {},
     "output_type": "execute_result"
    }
   ],
   "source": [
    "ai_challenge.difference(coding_competition)"
   ]
  },
  {
   "cell_type": "markdown",
   "id": "dbd54f99-a463-4194-a60c-cc4e1a10edee",
   "metadata": {
    "id": "dbd54f99-a463-4194-a60c-cc4e1a10edee"
   },
   "source": [
    "#### 1️⃣1️⃣ Copying a Set\n",
    "##### Create a copy of the participants set and modify it without changing the original.\n"
   ]
  },
  {
   "cell_type": "code",
   "execution_count": 68,
   "id": "bdbd29c1-8663-4cbc-8f26-42fbbdf3beb7",
   "metadata": {
    "id": "bdbd29c1-8663-4cbc-8f26-42fbbdf3beb7"
   },
   "outputs": [],
   "source": [
    "new_set = participants.copy()"
   ]
  },
  {
   "cell_type": "code",
   "execution_count": 70,
   "id": "4966f253-e483-4bf4-85b4-990bb8f1f2b1",
   "metadata": {},
   "outputs": [
    {
     "data": {
      "text/plain": [
       "['Alice', 'Charlie', 'Alice', 'David', 'Charlie', 'Eve', 'Emma']"
      ]
     },
     "execution_count": 70,
     "metadata": {},
     "output_type": "execute_result"
    }
   ],
   "source": [
    "new_set"
   ]
  },
  {
   "cell_type": "markdown",
   "id": "a39f3a2f-b6b7-45be-ad74-8ae55f700f4e",
   "metadata": {
    "id": "a39f3a2f-b6b7-45be-ad74-8ae55f700f4e"
   },
   "source": [
    "#### 1️⃣2️⃣ Clearing the Participant List\n",
    "##### After recording results, clear the participants set without deleting the variable.\n"
   ]
  },
  {
   "cell_type": "code",
   "execution_count": 72,
   "id": "f0f7b870-8476-4118-82d8-92b2bc54c98b",
   "metadata": {
    "id": "f0f7b870-8476-4118-82d8-92b2bc54c98b"
   },
   "outputs": [],
   "source": [
    "participants.clear()"
   ]
  },
  {
   "cell_type": "code",
   "execution_count": 74,
   "id": "55ba24b8-bc0d-4d21-8533-3f59e2403e65",
   "metadata": {},
   "outputs": [
    {
     "data": {
      "text/plain": [
       "[]"
      ]
     },
     "execution_count": 74,
     "metadata": {},
     "output_type": "execute_result"
    }
   ],
   "source": [
    "participants"
   ]
  },
  {
   "cell_type": "markdown",
   "id": "5edbb5d4-b6fc-49bf-a117-ee653510a9b7",
   "metadata": {
    "id": "5edbb5d4-b6fc-49bf-a117-ee653510a9b7"
   },
   "source": [
    "#### 1️⃣3️⃣ Converting a Set Back to a List\n",
    "##### Convert the participants set back into a list for further processing.\n"
   ]
  },
  {
   "cell_type": "code",
   "execution_count": 76,
   "id": "9197b544-6cca-45a8-b40f-7bf3dc423768",
   "metadata": {
    "id": "9197b544-6cca-45a8-b40f-7bf3dc423768"
   },
   "outputs": [
    {
     "data": {
      "text/plain": [
       "[]"
      ]
     },
     "execution_count": 76,
     "metadata": {},
     "output_type": "execute_result"
    }
   ],
   "source": [
    "list(participants"
   ]
  },
  {
   "cell_type": "markdown",
   "id": "5ff8a48e-14f0-4688-8df9-aa1979067d21",
   "metadata": {
    "id": "5ff8a48e-14f0-4688-8df9-aa1979067d21"
   },
   "source": [
    "#### 1️⃣4️⃣ Set Length\n",
    "##### Find out how many unique students participated in the coding competition.\n"
   ]
  },
  {
   "cell_type": "code",
   "execution_count": null,
   "id": "64b4d738-d5ae-4ab6-8260-60e0ba73ff18",
   "metadata": {},
   "outputs": [],
   "source": [
    "coding_competition = {\"Alice\", \"Charlie\", \"David\", \"Eve\"}\n",
    "\n",
    "ai_challenge = {\"Charlie\", \"David\", \"Frank\", \"Grace\"}"
   ]
  },
  {
   "cell_type": "code",
   "execution_count": 78,
   "id": "9bc50829-b901-40f7-977c-ccea12ca7ef6",
   "metadata": {
    "id": "9bc50829-b901-40f7-977c-ccea12ca7ef6"
   },
   "outputs": [
    {
     "data": {
      "text/plain": [
       "4"
      ]
     },
     "execution_count": 78,
     "metadata": {},
     "output_type": "execute_result"
    }
   ],
   "source": [
    "len(coding_competition)"
   ]
  },
  {
   "cell_type": "markdown",
   "id": "73adcd82-6752-4057-a219-d5ca7276c3ba",
   "metadata": {
    "id": "73adcd82-6752-4057-a219-d5ca7276c3ba"
   },
   "source": [
    "#### 1️⃣5️⃣ Set Operations in a Single Line\n",
    "##### Write a one-liner to:\n",
    "**Find students who participated in both competitions.**\n",
    "\n",
    "**Find students who were only in one competition.**\n"
   ]
  },
  {
   "cell_type": "code",
   "execution_count": 82,
   "id": "6e7ea745-5207-4b49-a5dc-03079b89730b",
   "metadata": {
    "id": "6e7ea745-5207-4b49-a5dc-03079b89730b"
   },
   "outputs": [
    {
     "data": {
      "text/plain": [
       "{'Alice', 'Eve', 'Frank', 'Grace'}"
      ]
     },
     "execution_count": 82,
     "metadata": {},
     "output_type": "execute_result"
    }
   ],
   "source": [
    "coding_competition.symmetric_difference(ai_challenge)"
   ]
  },
  {
   "cell_type": "code",
   "execution_count": 84,
   "id": "cd0cb91b-08c8-419c-9e99-0db6e57c0511",
   "metadata": {},
   "outputs": [
    {
     "data": {
      "text/plain": [
       "{'Charlie', 'David'}"
      ]
     },
     "execution_count": 84,
     "metadata": {},
     "output_type": "execute_result"
    }
   ],
   "source": [
    "coding_competition.intersection(ai_challenge)"
   ]
  },
  {
   "cell_type": "markdown",
   "id": "7beb0bcb-a30a-484a-94e8-c770dbf12977",
   "metadata": {
    "id": "7beb0bcb-a30a-484a-94e8-c770dbf12977"
   },
   "source": [
    "# 🏆 Story Conclusion\n",
    "## After solving these Python set challenges, the Tech Club successfully cleans up the participant data and ensures fair competition results! 🎉"
   ]
  },
  {
   "cell_type": "markdown",
   "id": "5ef4d817-a401-4459-a289-d021817b0b0a",
   "metadata": {
    "id": "5ef4d817-a401-4459-a289-d021817b0b0a"
   },
   "source": [
    "**(c) Rahul Tiwari**"
   ]
  }
 ],
 "metadata": {
  "colab": {
   "provenance": []
  },
  "kernelspec": {
   "display_name": "Python [conda env:base] *",
   "language": "python",
   "name": "conda-base-py"
  },
  "language_info": {
   "codemirror_mode": {
    "name": "ipython",
    "version": 3
   },
   "file_extension": ".py",
   "mimetype": "text/x-python",
   "name": "python",
   "nbconvert_exporter": "python",
   "pygments_lexer": "ipython3",
   "version": "3.12.7"
  }
 },
 "nbformat": 4,
 "nbformat_minor": 5
}
