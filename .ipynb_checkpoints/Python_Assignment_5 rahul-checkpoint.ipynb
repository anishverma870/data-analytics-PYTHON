{
 "cells": [
  {
   "cell_type": "markdown",
   "id": "8fb236f4-4ffa-4786-a900-57218256035b",
   "metadata": {
    "id": "8fb236f4-4ffa-4786-a900-57218256035b"
   },
   "source": [
    "# Next Challenge: Managing Competition Scores with Dictionaries!\n",
    "### Now, it's time for the Python Dictionary Challenges, where they will track and manage scores during the competition. Here are 15 engaging questions that continue the storyline.\n",
    "\n",
    "#### 📖 Story Continuation: The Scoreboard Mystery!\n",
    "##### The coding competition has begun, and the teams are performing well! However, the scoreboard system is malfunctioning, and scores are getting misplaced. Principal Williams calls the Tech Club once again—they must use Python dictionaries to track the scores manually.\n",
    "\n",
    "## 🔢 Python Dictionary Challenges\n",
    "#### 1️⃣ Creating a Scoreboard Dictionary\n",
    "#### Create a dictionary named scoreboard where each team name is the key, and their initial score (0 points) is the value.\n",
    "scoreboard = {\n",
    "    \"Team Alpha\": 0,\n",
    "    \"Team Beta\": 0,\n",
    "    \"Team Gamma\": 0\n",
    "}\n",
    "\n"
   ]
  },
  {
   "cell_type": "code",
   "execution_count": 46,
   "id": "c3a49404-ae22-4131-a116-1b159ccb524f",
   "metadata": {
    "id": "c3a49404-ae22-4131-a116-1b159ccb524f"
   },
   "outputs": [
    {
     "name": "stdout",
     "output_type": "stream",
     "text": [
      "{'Team Alpha': 0, 'Team Beta': 0, 'Team Gamma': 0}\n"
     ]
    }
   ],
   "source": [
    "#Write code here\n",
    "scoreboard = {\n",
    "    'Team Alpha':0,\n",
    "    'Team Beta':0,\n",
    "    'Team Gamma':0\n",
    "}\n",
    "print(scoreboard)"
   ]
  },
  {
   "cell_type": "markdown",
   "id": "c5c92cea-cc8a-4bfd-9ce0-582bfd3e8e4b",
   "metadata": {
    "id": "c5c92cea-cc8a-4bfd-9ce0-582bfd3e8e4b"
   },
   "source": [
    "#### 2️⃣ Updating Scores\n",
    "##### Team Alpha wins a round! Increase their score by 10 points in the dictionary.\n"
   ]
  },
  {
   "cell_type": "code",
   "execution_count": 40,
   "id": "80e526e6-0dbd-4a81-a215-07fb7ce3bfae",
   "metadata": {
    "id": "80e526e6-0dbd-4a81-a215-07fb7ce3bfae"
   },
   "outputs": [
    {
     "name": "stdout",
     "output_type": "stream",
     "text": [
      "{'Team Alpha': 10, 'Team Beta': 0, 'Team Gamma': 0}\n"
     ]
    }
   ],
   "source": [
    "#Write code here\n",
    "scoreboard.update({\n",
    "    'Team Alpha':10\n",
    "})\n",
    "print(scoreboard)"
   ]
  },
  {
   "cell_type": "markdown",
   "id": "956bc5f8-50c6-417f-91e0-66db5f9f5277",
   "metadata": {
    "id": "956bc5f8-50c6-417f-91e0-66db5f9f5277"
   },
   "source": [
    "#### 3️⃣ Checking Scores\n",
    "##### Print the score of Team Beta using dictionary key access.\n"
   ]
  },
  {
   "cell_type": "code",
   "execution_count": 18,
   "id": "e9b654a0-a1f9-4d5d-91d7-ef8b93bdcf16",
   "metadata": {
    "id": "e9b654a0-a1f9-4d5d-91d7-ef8b93bdcf16"
   },
   "outputs": [
    {
     "name": "stdout",
     "output_type": "stream",
     "text": [
      "0\n"
     ]
    }
   ],
   "source": [
    "#Write code here\n",
    "score = scoreboard['Team Beta']\n",
    "print(score)"
   ]
  },
  {
   "cell_type": "markdown",
   "id": "b5ceaa84-544b-487a-b527-19b6f5a0d9c1",
   "metadata": {
    "id": "b5ceaa84-544b-487a-b527-19b6f5a0d9c1"
   },
   "source": [
    "#### 4️⃣ Adding a New Team\n",
    "##### A new team, Team Delta, has joined the competition. Add them to the dictionary with 0 points.\n"
   ]
  },
  {
   "cell_type": "code",
   "execution_count": 20,
   "id": "53df3ed9-ee03-4697-abd5-512ddf22117d",
   "metadata": {
    "id": "53df3ed9-ee03-4697-abd5-512ddf22117d"
   },
   "outputs": [],
   "source": [
    "#Write code here\n",
    "scoreboard.update({\n",
    "    'Team Delta':0\n",
    "})"
   ]
  },
  {
   "cell_type": "code",
   "execution_count": 22,
   "id": "8308a1a1-0788-4c33-a896-472fb2b8f244",
   "metadata": {},
   "outputs": [
    {
     "name": "stdout",
     "output_type": "stream",
     "text": [
      "{'team Alpha': 10, 'team Beta': 0, 'team Gamma': 0, 'team Delta': 0}\n"
     ]
    }
   ],
   "source": [
    "print(scoreboard)"
   ]
  },
  {
   "cell_type": "markdown",
   "id": "064bcf9c-54e7-4c49-a3dd-fe7c426109fa",
   "metadata": {
    "id": "064bcf9c-54e7-4c49-a3dd-fe7c426109fa"
   },
   "source": [
    "#### 5️⃣ Modifying Scores\n",
    "##### Team Gamma received bonus points! Update their score to 15.\n"
   ]
  },
  {
   "cell_type": "code",
   "execution_count": 24,
   "id": "7ea74926-afff-4719-9154-3fd167d64701",
   "metadata": {
    "id": "7ea74926-afff-4719-9154-3fd167d64701"
   },
   "outputs": [],
   "source": [
    "#Write code here\n",
    "scoreboard.update({\n",
    "    'Team Gamma':15\n",
    "})"
   ]
  },
  {
   "cell_type": "code",
   "execution_count": 26,
   "id": "e9ddd997-7239-45ef-a12c-9a3c532fe32c",
   "metadata": {},
   "outputs": [
    {
     "name": "stdout",
     "output_type": "stream",
     "text": [
      "{'team Alpha': 10, 'team Beta': 0, 'team Gamma': 15, 'team Delta': 0}\n"
     ]
    }
   ],
   "source": [
    "print(scoreboard)"
   ]
  },
  {
   "cell_type": "markdown",
   "id": "b63e80fc-eec2-4075-890d-9e2f79a6ec18",
   "metadata": {
    "id": "b63e80fc-eec2-4075-890d-9e2f79a6ec18"
   },
   "source": [
    "#### 6️⃣ Handling Missing Teams\n",
    "##### Mia accidentally tries to check the score of a non-existent team, \"Team Omega\". Use the .get() method to avoid an error and print \"Team not found\" if the team doesn't exist.\n"
   ]
  },
  {
   "cell_type": "code",
   "execution_count": 48,
   "id": "439e9c96-6816-4d32-95fb-1d88a1b2afa2",
   "metadata": {},
   "outputs": [
    {
     "data": {
      "text/plain": [
       "{'Team Alpha': 0, 'Team Beta': 0, 'Team Gamma': 0}"
      ]
     },
     "execution_count": 48,
     "metadata": {},
     "output_type": "execute_result"
    }
   ],
   "source": [
    "scoreboard"
   ]
  },
  {
   "cell_type": "code",
   "execution_count": 52,
   "id": "f7f35024-4243-4408-92e8-627715886373",
   "metadata": {
    "id": "f7f35024-4243-4408-92e8-627715886373"
   },
   "outputs": [
    {
     "name": "stdout",
     "output_type": "stream",
     "text": [
      "found\n"
     ]
    }
   ],
   "source": [
    "#Write code here\n",
    "#team_name = str(input()).capitalize()\n",
    "find = scoreboard.get('Team Beta')\n",
    "if find == 0:\n",
    "    print('found')\n",
    "else :\n",
    "    print('team not find')"
   ]
  },
  {
   "cell_type": "markdown",
   "id": "9288589f-802c-4028-9cce-098f630d0d94",
   "metadata": {
    "id": "9288589f-802c-4028-9cce-098f630d0d94"
   },
   "source": [
    "#### 7️⃣ Removing a Team\n",
    "##### Team Beta left the competition. Remove them from the dictionary.\n"
   ]
  },
  {
   "cell_type": "code",
   "execution_count": 54,
   "id": "bf67afd0-4a6a-4161-9fe0-fa8fd615cb26",
   "metadata": {
    "id": "bf67afd0-4a6a-4161-9fe0-fa8fd615cb26"
   },
   "outputs": [
    {
     "data": {
      "text/plain": [
       "0"
      ]
     },
     "execution_count": 54,
     "metadata": {},
     "output_type": "execute_result"
    }
   ],
   "source": [
    "#Write code here\n",
    "scoreboard.pop('Team Beta')"
   ]
  },
  {
   "cell_type": "code",
   "execution_count": 56,
   "id": "ac4c97a1-be51-499f-a6fe-893b351a8f90",
   "metadata": {},
   "outputs": [
    {
     "data": {
      "text/plain": [
       "{'Team Alpha': 0, 'Team Gamma': 0}"
      ]
     },
     "execution_count": 56,
     "metadata": {},
     "output_type": "execute_result"
    }
   ],
   "source": [
    "scoreboard"
   ]
  },
  {
   "cell_type": "markdown",
   "id": "b2445001-847b-4e2a-b181-04576cf3f1ae",
   "metadata": {
    "id": "b2445001-847b-4e2a-b181-04576cf3f1ae"
   },
   "source": [
    "#### 8️⃣ Checking if a Team Exists\n",
    "##### Write a condition to check if \"Team Alpha\" exists in the dictionary.\n"
   ]
  },
  {
   "cell_type": "code",
   "execution_count": null,
   "id": "f102e83b-e2d0-40bd-8c70-167fc4c8cc57",
   "metadata": {
    "id": "f102e83b-e2d0-40bd-8c70-167fc4c8cc57"
   },
   "outputs": [],
   "source": [
    "#Write code here\n",
    "Team Alpha in "
   ]
  },
  {
   "cell_type": "markdown",
   "id": "b8dbab0f-6763-4176-8dd2-93243cadc3e4",
   "metadata": {
    "id": "b8dbab0f-6763-4176-8dd2-93243cadc3e4"
   },
   "source": [
    "#### 9️⃣ Listing All Teams\n",
    "##### Print all the team names participating in the competition using .keys().\n"
   ]
  },
  {
   "cell_type": "code",
   "execution_count": null,
   "id": "ea5da6e0-71c0-4012-a222-4b15c02b7bf9",
   "metadata": {
    "id": "ea5da6e0-71c0-4012-a222-4b15c02b7bf9"
   },
   "outputs": [],
   "source": [
    "#Write code here"
   ]
  },
  {
   "cell_type": "markdown",
   "id": "166ed139-bc12-4b22-b031-265b1ff08aa0",
   "metadata": {
    "id": "166ed139-bc12-4b22-b031-265b1ff08aa0"
   },
   "source": [
    "#### 🔟 Listing All Scores\n",
    "##### Print all the scores using .values().\n"
   ]
  },
  {
   "cell_type": "code",
   "execution_count": null,
   "id": "0f71544e-ad30-454e-aa67-7ab7cb66e1ac",
   "metadata": {
    "id": "0f71544e-ad30-454e-aa67-7ab7cb66e1ac"
   },
   "outputs": [],
   "source": [
    "#Write code here"
   ]
  },
  {
   "cell_type": "markdown",
   "id": "2fb33608-6d65-4c8e-9418-c15db9299a80",
   "metadata": {
    "id": "2fb33608-6d65-4c8e-9418-c15db9299a80"
   },
   "source": [
    "#### 1️⃣1️⃣ Finding the Leading Team\n",
    "##### Use the .items() method and a loop to find the team with the highest score.\n"
   ]
  },
  {
   "cell_type": "code",
   "execution_count": null,
   "id": "3c767d5b-98d5-496d-8e57-81a1e039ca5b",
   "metadata": {
    "id": "3c767d5b-98d5-496d-8e57-81a1e039ca5b"
   },
   "outputs": [],
   "source": [
    "#Write code here"
   ]
  },
  {
   "cell_type": "markdown",
   "id": "4420a4fa-471f-4923-9a95-ab867c27e7cd",
   "metadata": {
    "id": "4420a4fa-471f-4923-9a95-ab867c27e7cd"
   },
   "source": [
    "#### 1️⃣2️⃣ Sorting Teams by Score\n",
    "##### Display the teams sorted in descending order of their scores.\n"
   ]
  },
  {
   "cell_type": "code",
   "execution_count": null,
   "id": "8ad3454d-cc14-4d83-be6d-ab61e6939914",
   "metadata": {
    "id": "8ad3454d-cc14-4d83-be6d-ab61e6939914"
   },
   "outputs": [],
   "source": [
    "#Write code here"
   ]
  },
  {
   "cell_type": "markdown",
   "id": "287b208d-f705-45eb-b872-9f1237fa8017",
   "metadata": {
    "id": "287b208d-f705-45eb-b872-9f1237fa8017"
   },
   "source": [
    "#### 1️⃣3️⃣ Resetting Scores\n",
    "Principal Williams wants to reset all scores to 0 before the final round. Update all values to 0.\n"
   ]
  },
  {
   "cell_type": "code",
   "execution_count": null,
   "id": "be42977b-1c2a-4d92-857c-96934ee4189f",
   "metadata": {
    "id": "be42977b-1c2a-4d92-857c-96934ee4189f"
   },
   "outputs": [],
   "source": [
    "#Write code here"
   ]
  },
  {
   "cell_type": "markdown",
   "id": "04e33eb4-a019-4970-8c4d-80fe98662826",
   "metadata": {
    "id": "04e33eb4-a019-4970-8c4d-80fe98662826"
   },
   "source": [
    "#### 1️⃣4️⃣ Merging Scoreboards\n",
    "##### The competition has two different rounds stored in separate dictionaries:\n",
    "**round1_scores = {\"Team Alpha\": 10, \"Team Beta\": 5}**\n",
    "\n",
    "**round2_scores = {\"Team Alpha\": 15, \"Team Beta\": 10}**\n",
    "\n",
    "**Merge both into a single dictionary where the values are their total scores.**\n"
   ]
  },
  {
   "cell_type": "code",
   "execution_count": null,
   "id": "a01ffe97-fe1e-4271-af97-da4ebaebd53f",
   "metadata": {
    "id": "a01ffe97-fe1e-4271-af97-da4ebaebd53f"
   },
   "outputs": [],
   "source": [
    "#Write code here"
   ]
  },
  {
   "cell_type": "markdown",
   "id": "22aa7414-d1aa-4cbe-9588-b20db265ac9f",
   "metadata": {
    "id": "22aa7414-d1aa-4cbe-9588-b20db265ac9f"
   },
   "source": [
    "#### 1️⃣5️⃣ Clearing the Scoreboard\n",
    "After the competition ends, clear the dictionary without deleting the variable.\n"
   ]
  },
  {
   "cell_type": "code",
   "execution_count": null,
   "id": "377623f2-a8f8-4eb7-8344-9c8ee3cc8ed1",
   "metadata": {
    "id": "377623f2-a8f8-4eb7-8344-9c8ee3cc8ed1"
   },
   "outputs": [],
   "source": [
    "#Write code here"
   ]
  },
  {
   "cell_type": "markdown",
   "id": "daa9642d-1c8d-49cf-bfe8-a0f3e24b7623",
   "metadata": {
    "id": "daa9642d-1c8d-49cf-bfe8-a0f3e24b7623"
   },
   "source": [
    "🏆 Story Conclusion\n",
    "With the Python dictionary challenges complete, the Tech Club successfully fixes the scoreboard, and the coding competition results are announced smoothly! 🎉"
   ]
  },
  {
   "cell_type": "code",
   "execution_count": null,
   "id": "103ee268-a99d-4b97-b88d-25049e809044",
   "metadata": {
    "id": "103ee268-a99d-4b97-b88d-25049e809044"
   },
   "outputs": [],
   "source": []
  },
  {
   "cell_type": "code",
   "execution_count": null,
   "id": "03291921-242a-4802-9701-643049c41e65",
   "metadata": {
    "id": "03291921-242a-4802-9701-643049c41e65"
   },
   "outputs": [],
   "source": []
  },
  {
   "cell_type": "code",
   "execution_count": null,
   "id": "d28eea2b-631b-4b6f-8d79-ee12601aa3df",
   "metadata": {
    "id": "d28eea2b-631b-4b6f-8d79-ee12601aa3df"
   },
   "outputs": [],
   "source": []
  },
  {
   "cell_type": "code",
   "execution_count": null,
   "id": "775157e7-101c-4661-ba02-e2e18d01e4cb",
   "metadata": {
    "id": "775157e7-101c-4661-ba02-e2e18d01e4cb"
   },
   "outputs": [],
   "source": []
  },
  {
   "cell_type": "code",
   "execution_count": null,
   "id": "45f1392b-c804-4b63-98b7-630279db8f71",
   "metadata": {
    "id": "45f1392b-c804-4b63-98b7-630279db8f71"
   },
   "outputs": [],
   "source": []
  }
 ],
 "metadata": {
  "colab": {
   "provenance": []
  },
  "kernelspec": {
   "display_name": "Python [conda env:base] *",
   "language": "python",
   "name": "conda-base-py"
  },
  "language_info": {
   "codemirror_mode": {
    "name": "ipython",
    "version": 3
   },
   "file_extension": ".py",
   "mimetype": "text/x-python",
   "name": "python",
   "nbconvert_exporter": "python",
   "pygments_lexer": "ipython3",
   "version": "3.12.7"
  }
 },
 "nbformat": 4,
 "nbformat_minor": 5
}
