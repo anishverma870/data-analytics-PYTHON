{
 "cells": [
  {
   "cell_type": "markdown",
   "id": "d49ddc90-44a1-492d-bf23-8062742599a4",
   "metadata": {},
   "source": [
    "#string are immutable in nature it can't be change "
   ]
  },
  {
   "cell_type": "markdown",
   "id": "05d6f24f-748b-4c50-a8d5-26c295354abc",
   "metadata": {},
   "source": [
    "#split function in string"
   ]
  },
  {
   "cell_type": "code",
   "execution_count": 2,
   "id": "353c140b-05ec-4e66-9c4f-acf3a24547b4",
   "metadata": {},
   "outputs": [
    {
     "name": "stdout",
     "output_type": "stream",
     "text": [
      "I\n"
     ]
    }
   ],
   "source": [
    "my_str=  'I find Python programming very interesting!'\n",
    "print(my_str.split()[0]) # .split() = is use for slipt the words ,[] = use for indexing."
   ]
  },
  {
   "cell_type": "markdown",
   "id": "fec51cd7-96f8-4ed5-a067-51d6201b4f1c",
   "metadata": {},
   "source": [
    "#indexing"
   ]
  },
  {
   "cell_type": "code",
   "execution_count": 6,
   "id": "bc0e6cb3-a337-4db7-9e12-fd338a12ad1b",
   "metadata": {},
   "outputs": [
    {
     "name": "stdout",
     "output_type": "stream",
     "text": [
      "h\n",
      "e\n",
      "l\n",
      "l\n",
      "o\n"
     ]
    }
   ],
   "source": [
    "string = \"hello\"\n",
    "print(string[0])\n",
    "print(string[1])\n",
    "print(string[2])\n",
    "print(string[3])\n",
    "print(string[4])"
   ]
  },
  {
   "cell_type": "markdown",
   "id": "643d38dd-8bd9-41b4-800c-20d673ddf9d1",
   "metadata": {},
   "source": [
    "#Slicing strings\n",
    "Slicing lets you extract a substring from a string using the slice operator [:]. \n",
    "We can also perform slicing operations on strings to get a substring of the string over the given range. Here is the syntax for slicing.\n",
    "\n"
   ]
  },
  {
   "cell_type": "code",
   "execution_count": null,
   "id": "bd16f96f-8966-490f-aa05-8556bfdedf2d",
   "metadata": {},
   "outputs": [],
   "source": [
    "string[start:stop:step] # this how slicing work"
   ]
  },
  {
   "cell_type": "code",
   "execution_count": 15,
   "id": "9bd42927-44df-4a97-b3ed-0229e2f4d1b7",
   "metadata": {},
   "outputs": [
    {
     "name": "stdout",
     "output_type": "stream",
     "text": [
      "python\n",
      "pytho\n",
      "python\n",
      "ython\n"
     ]
    }
   ],
   "source": [
    "lang = \"python\"\n",
    "print(lang[0:6]) # the index are limited but in python we pass the over end location like lang[0:100000]\n",
    "print(lang[0:5])\n",
    "print(lang[:6]) #if you dont pass the starting it will take first one by deafault\n",
    "print(lang[1:]) # same if you dont pass the end it will take the last one \n"
   ]
  },
  {
   "cell_type": "code",
   "execution_count": 39,
   "id": "2b76b94b-167b-46ec-a1e5-1ecb8aa72476",
   "metadata": {},
   "outputs": [
    {
     "name": "stdout",
     "output_type": "stream",
     "text": [
      "anishverma\n",
      "aihem\n",
      "asea\n"
     ]
    }
   ],
   "source": [
    "#now using the step \n",
    "lang1 = \"anishverma\"\n",
    "print(lang1[0::1]) # print(lang1[0::1]) the step how to move possitive 1 show left to right and how many step taken like 1\n",
    "print(lang1[0: :2]) # in step section 2 is mention for taken jump once\n",
    "print(lang1[0: :3]) # in step section 3 is mention for taken a jump twice"
   ]
  },
  {
   "cell_type": "code",
   "execution_count": 43,
   "id": "65749408-4c50-40c1-acf6-8a5450632de4",
   "metadata": {},
   "outputs": [
    {
     "name": "stdout",
     "output_type": "stream",
     "text": [
      "C:\\Users\\anish\\OneDrive\\Documents\\GitHub\\practice\n"
     ]
    }
   ],
   "source": [
    "import os\n",
    "cwd = os.getcwd()\n",
    "print(cwd)"
   ]
  },
  {
   "cell_type": "markdown",
   "id": "f9543b2f-6161-4116-ae83-b28d1257cfbf",
   "metadata": {},
   "source": [
    "#reverse slicing "
   ]
  },
  {
   "cell_type": "code",
   "execution_count": 44,
   "id": "989eacd0-8285-4a2e-bdb7-6c08fddde756",
   "metadata": {},
   "outputs": [
    {
     "name": "stdout",
     "output_type": "stream",
     "text": [
      "nohtyp\n"
     ]
    }
   ],
   "source": [
    "name = \"python\"\n",
    "print(name[ : :-1]) #in step section i pass -1 because its start from right to left "
   ]
  },
  {
   "cell_type": "code",
   "execution_count": 49,
   "id": "c258b309-033a-44f9-a260-b789e62b4330",
   "metadata": {},
   "outputs": [
    {
     "name": "stdout",
     "output_type": "stream",
     "text": [
      "nohty\n"
     ]
    }
   ],
   "source": [
    "nam = \"python\"\n",
    "print(nam[5:0:-1])"
   ]
  },
  {
   "cell_type": "code",
   "execution_count": 50,
   "id": "0dba6c06-456d-4d60-83fb-0434574030cd",
   "metadata": {},
   "outputs": [
    {
     "name": "stdout",
     "output_type": "stream",
     "text": [
      "n\n"
     ]
    }
   ],
   "source": [
    "# for count from right to left we use negetive number like -1,-2,and -3\n",
    "name = \"anish\"\n",
    "#if i want to show only n \n",
    "print(name[-4])"
   ]
  },
  {
   "cell_type": "markdown",
   "id": "c6b64078-0344-4a4d-8d04-e1c3de5786e4",
   "metadata": {},
   "source": [
    "#operation on string "
   ]
  },
  {
   "cell_type": "markdown",
   "id": "387e570d-dae3-4dcc-8e07-3db9b2fa23be",
   "metadata": {},
   "source": [
    "    LENGTH"
   ]
  },
  {
   "cell_type": "code",
   "execution_count": 51,
   "id": "1d6a0d01-30e8-4e11-99ae-e131d6110f68",
   "metadata": {},
   "outputs": [
    {
     "name": "stdout",
     "output_type": "stream",
     "text": [
      "the length of my name is : 10\n"
     ]
    }
   ],
   "source": [
    "lenth = \"anishverma\"\n",
    "string_len = len(lenth)\n",
    "print(\"the length of my name is :\",string_len)"
   ]
  },
  {
   "cell_type": "markdown",
   "id": "6e8c57b1-cda3-4cf2-bc46-6a30ea5adc3e",
   "metadata": {},
   "source": [
    "#MEMBERSHIP OPERATER"
   ]
  },
  {
   "cell_type": "code",
   "execution_count": 53,
   "id": "a7cf4ff4-f8aa-425e-a2c4-7097d02ffd73",
   "metadata": {},
   "outputs": [
    {
     "name": "stdout",
     "output_type": "stream",
     "text": [
      "are anish in mem ? True\n"
     ]
    }
   ],
   "source": [
    "mem = \"hi my name is anish verma \"\n",
    "result = \"anish\" in mem\n",
    "print(\"are anish in mem ?\",result)"
   ]
  },
  {
   "cell_type": "markdown",
   "id": "d6bdd0b4-34c6-4920-b5d1-6d9f9997bfa0",
   "metadata": {},
   "source": [
    "#find and index"
   ]
  },
  {
   "cell_type": "code",
   "execution_count": 57,
   "id": "aa85ccad-950f-4f0e-b656-4628d577dcea",
   "metadata": {},
   "outputs": [
    {
     "name": "stdout",
     "output_type": "stream",
     "text": [
      "the first index of o is = 4\n",
      "the index start from = 5\n"
     ]
    }
   ],
   "source": [
    "find = \"helloworld\"\n",
    "index_o = find.index(\"o\") #We use the .index() method to find the index of the character 'o' in the string my_string. In this case, it will return the index of the first 'o' in the string.\n",
    "find_world = find.find(\"world\") #We use the .find() method to find the index of the substring 'World' in the string my_string.\n",
    "print(\"the first index of o is =\",index_o)\n",
    "print(\"the index start from =\",find_world)"
   ]
  },
  {
   "cell_type": "markdown",
   "id": "d0d4266c-1d7b-4246-9f22-ec682ce258c0",
   "metadata": {},
   "source": [
    "#COUNTING"
   ]
  },
  {
   "cell_type": "code",
   "execution_count": 58,
   "id": "29f1a916-a1a4-4262-af60-6e1b52cbd053",
   "metadata": {},
   "outputs": [
    {
     "name": "stdout",
     "output_type": "stream",
     "text": [
      "3\n"
     ]
    }
   ],
   "source": [
    "count1 = \"hello world i am anish verma \"\n",
    "count_a = count1.count(\"a\") # count function count the char how many time its use in string\n",
    "print(count_a)"
   ]
  },
  {
   "cell_type": "markdown",
   "id": "2af978ee-ed69-49a5-83ba-c181d770bff9",
   "metadata": {},
   "source": [
    "#ASCII VALUE"
   ]
  },
  {
   "cell_type": "code",
   "execution_count": 62,
   "id": "8dfef734-1401-466d-9990-a2117b71a7ab",
   "metadata": {},
   "outputs": [
    {
     "name": "stdout",
     "output_type": "stream",
     "text": [
      "the ascii vale of 'o'?= 111\n",
      "the ascii value of 'a'?= 97\n",
      "the ascii value of 'A'?= 65\n"
     ]
    }
   ],
   "source": [
    "asc_1 = ord (\"o\")\n",
    "asc_2 = ord(\"a\")\n",
    "asc_3 = ord(\"A\")\n",
    "\n",
    "print(\"the ascii vale of 'o'?=\",asc_1)\n",
    "print(\"the ascii value of 'a'?=\",asc_2)\n",
    "print(\"the ascii value of 'A'?=\",asc_3)"
   ]
  },
  {
   "cell_type": "markdown",
   "id": "3fa5a3cb-eb8c-46d1-a9f1-084b054baafb",
   "metadata": {},
   "source": [
    "Concatenating strings"
   ]
  },
  {
   "cell_type": "code",
   "execution_count": 63,
   "id": "992f54b3-f05d-47c3-9ee5-f791d5c65016",
   "metadata": {},
   "outputs": [
    {
     "name": "stdout",
     "output_type": "stream",
     "text": [
      "anish verma\n"
     ]
    }
   ],
   "source": [
    "name = \"anish\"\n",
    "ser_name = \"verma\"\n",
    "full_name = name + \" \" +ser_name\n",
    "print(full_name)"
   ]
  },
  {
   "cell_type": "markdown",
   "id": "86401661-a218-4e92-922f-9851ca8a4096",
   "metadata": {},
   "source": [
    "STRIP"
   ]
  },
  {
   "cell_type": "code",
   "execution_count": 64,
   "id": "7b4779a1-98af-4e5b-93dd-0c78a28a6aaa",
   "metadata": {},
   "outputs": [
    {
     "name": "stdout",
     "output_type": "stream",
     "text": [
      "hi my name is anish verma      \n",
      "       hi my name is anish verma\n",
      "hi my name is anish verma\n"
     ]
    }
   ],
   "source": [
    "strip = \"       hi my name is anish verma      \"\n",
    "left_strip = strip.lstrip()\n",
    "right_strip = strip.rstrip()\n",
    "full_strip = strip.strip()\n",
    "print(left_strip)\n",
    "print(right_strip)\n",
    "print(full_strip)"
   ]
  },
  {
   "cell_type": "markdown",
   "id": "d310abb8-3dbb-40bb-8f43-de750b2e0683",
   "metadata": {},
   "source": [
    "REPLACE FUNCTION"
   ]
  },
  {
   "cell_type": "code",
   "execution_count": 65,
   "id": "d199ab87-ba04-43fc-839f-5148ec4fe2f8",
   "metadata": {},
   "outputs": [
    {
     "name": "stdout",
     "output_type": "stream",
     "text": [
      "hi my name is anish verma .\n",
      "hi$my$name$is$anish$sharma$.\n"
     ]
    }
   ],
   "source": [
    "my_string = \"hi my name is anish sharma .\"\n",
    "replace_string = my_string.replace(\"sharma\",\"verma\")\n",
    "replace_space = my_string.replace(\" \",\"$\")\n",
    "print(replace_string)\n",
    "print(replace_space)"
   ]
  },
  {
   "cell_type": "markdown",
   "id": "7a48b1b4-c691-4ed9-aa40-8c35ad89c169",
   "metadata": {},
   "source": [
    "SPLIT THE STRING"
   ]
  },
  {
   "cell_type": "code",
   "execution_count": 66,
   "id": "28768a95-1256-49a7-a87f-9c9c0505d8ac",
   "metadata": {},
   "outputs": [
    {
     "name": "stdout",
     "output_type": "stream",
     "text": [
      "['hi', 'my', 'name', 'is', 'anish', 'verma', ',', 'i', 'am', 'bca', 'student']\n"
     ]
    }
   ],
   "source": [
    "my_string = \"hi my name is anish verma , i am bca student \"\n",
    "split_string = my_string.split()\n",
    "print(split_string)"
   ]
  },
  {
   "cell_type": "markdown",
   "id": "0bcaba96-c28e-496c-b53c-74d4c36e0948",
   "metadata": {},
   "source": [
    "title function = this function capitalize the first letter of the word"
   ]
  },
  {
   "cell_type": "code",
   "execution_count": 67,
   "id": "76b82f04-7b04-4371-82dc-f8e59d185b7f",
   "metadata": {},
   "outputs": [
    {
     "name": "stdout",
     "output_type": "stream",
     "text": [
      "Hi My Name Is Anish Verma \n"
     ]
    }
   ],
   "source": [
    "my_string = \"hi my name is anish verma \"\n",
    "title_string = my_string.title()\n",
    "print(title_string)"
   ]
  },
  {
   "cell_type": "code",
   "execution_count": null,
   "id": "919444a1-cd63-4f99-8316-4d0ea4cc3fc7",
   "metadata": {},
   "outputs": [],
   "source": []
  },
  {
   "cell_type": "code",
   "execution_count": null,
   "id": "4c353dc1-f216-4b60-95ac-9638afcc244a",
   "metadata": {},
   "outputs": [],
   "source": []
  },
  {
   "cell_type": "markdown",
   "id": "f238b43a-7236-485f-8bad-5fe28a032374",
   "metadata": {
    "editable": true,
    "slideshow": {
     "slide_type": ""
    },
    "tags": []
   },
   "source": [
    "LIST\n",
    "Lists in Python are one of the most versatile data structures available. They store an ordered collection of items, which might be of different types. Unlike strings, lists are mutable, which means that their contents can be modified, without having to create a new list. This feature makes them very useful for handling datasets, performing various operations like sorting and searching, and implementing data structures like stacks and queues."
   ]
  },
  {
   "cell_type": "code",
   "execution_count": null,
   "id": "23c464f8-d4dc-4763-86e2-683baac4260d",
   "metadata": {},
   "outputs": [],
   "source": [
    "#Creating an empty list\n",
    "#An empty list is a list that contains no items. Below, the list fruits is an example of an empty list.\n",
    "NAME = []"
   ]
  },
  {
   "cell_type": "code",
   "execution_count": 18,
   "id": "762670f2-dbd6-41fa-93de-a081ab04f007",
   "metadata": {},
   "outputs": [
    {
     "name": "stdout",
     "output_type": "stream",
     "text": [
      "['anish', 'lucky', 'samad', 'kaif']\n",
      "[9, 5, 4, 6, 7, 2, 1]\n"
     ]
    }
   ],
   "source": [
    "name = ['anish','lucky','samad','kaif']\n",
    "num = [9,5,4,6,7,2,1]\n",
    "\n",
    "name_list = list(name)\n",
    "print(name_list)\n",
    "print(list(num))"
   ]
  },
  {
   "cell_type": "code",
   "execution_count": null,
   "id": "0b85d7d5-3e06-4cf3-a111-10b63121d49d",
   "metadata": {},
   "outputs": [],
   "source": [
    "#created nested list"
   ]
  },
  {
   "cell_type": "code",
   "execution_count": 39,
   "id": "458be6b4-507d-47f2-a0a9-d49c92c13208",
   "metadata": {},
   "outputs": [
    {
     "name": "stdout",
     "output_type": "stream",
     "text": [
      "[[1, 2], [3, 4], [5, 6], [7, 8]]\n"
     ]
    }
   ],
   "source": [
    "num = [[1,2],[3,4],[5,6],[7,8]]\n",
    "\n",
    "print(num)"
   ]
  },
  {
   "cell_type": "markdown",
   "id": "5bab7991-e85b-4396-87a5-b74068b61f1e",
   "metadata": {},
   "source": [
    "mixed list "
   ]
  },
  {
   "cell_type": "code",
   "execution_count": 42,
   "id": "66536b4f-8aa8-4943-a7af-f3e5dd9b599c",
   "metadata": {},
   "outputs": [
    {
     "name": "stdout",
     "output_type": "stream",
     "text": [
      "<class 'list'>\n",
      "<class 'str'>\n",
      "<class 'int'>\n",
      "<class 'float'>\n",
      "<class 'bool'>\n",
      "<class 'list'>\n"
     ]
    }
   ],
   "source": [
    "mixed_type = ['anish',120,3.15, True ,[2,5] ]\n",
    "print(type(mixed_type))\n",
    "print(type(mixed_type[0]))\n",
    "print(type(mixed_type[1]))\n",
    "print(type(mixed_type[2]))\n",
    "print(type(mixed_type[3]))\n",
    "print(type(mixed_type[4]))"
   ]
  },
  {
   "cell_type": "markdown",
   "id": "45b2c07c-6c74-4cb3-95f5-0f80c3bfde80",
   "metadata": {},
   "source": [
    "Slicing elements from a list\n",
    "\n",
    "List slicing allows you to extract a specific range of elements from a list. This is done using the syntax [start:stop:step], where start represents the index for the beginning of the slice, stop is the endpoint (not included in the slice), and step is the interval between elements. This technique is crucial for data manipulation and subset extraction without modifying the original list."
   ]
  },
  {
   "cell_type": "code",
   "execution_count": 43,
   "id": "597accee-a871-4458-b684-d83cc7415a22",
   "metadata": {},
   "outputs": [
    {
     "name": "stdout",
     "output_type": "stream",
     "text": [
      "['a', 'n', 'i']\n"
     ]
    }
   ],
   "source": [
    "name = ['a','n','i','s','h']\n",
    "name_slic = name[0:3]\n",
    "print(name_slic)"
   ]
  },
  {
   "cell_type": "markdown",
   "id": "67391149-7150-4b43-aba1-a5288720f8cb",
   "metadata": {},
   "source": [
    "nested slicing"
   ]
  },
  {
   "cell_type": "code",
   "execution_count": 45,
   "id": "0bea354c-e35a-4f22-b774-9a20720d8223",
   "metadata": {},
   "outputs": [
    {
     "name": "stdout",
     "output_type": "stream",
     "text": [
      "[3, 4]\n"
     ]
    }
   ],
   "source": [
    "nested = [[1,2],[3,4],[5,6],[7,8]]\n",
    "nested_slicing = nested[1][0:2]\n",
    "print(nested_slicing)"
   ]
  },
  {
   "cell_type": "code",
   "execution_count": 50,
   "id": "0000e277-aad5-495e-80c5-66ad4d6a5b25",
   "metadata": {},
   "outputs": [
    {
     "name": "stdout",
     "output_type": "stream",
     "text": [
      "[4, 5, 9]\n",
      "lucky\n"
     ]
    }
   ],
   "source": [
    "#another example \n",
    "nested_list = [['ansih','lucky','samad'],[1,2,3,4,5,9],3.145789,[True]]\n",
    "nst_slic = nested_list [0][1]\n",
    "nst_slic1 = nested_list [1][3:]\n",
    "print(nst_slic1)\n",
    "print(nst_slic)"
   ]
  },
  {
   "cell_type": "markdown",
   "id": "59624ac4-eff6-4766-bf7c-a014eb939de8",
   "metadata": {},
   "source": [
    "Finding the length of a list\n",
    "One of the most fundamental operations you can perform on a list is finding out how many elements it contains."
   ]
  },
  {
   "cell_type": "code",
   "execution_count": 1,
   "id": "7ee14f3b-f3d5-4f4f-8c3c-c6ed25c2bc5f",
   "metadata": {},
   "outputs": [
    {
     "name": "stdout",
     "output_type": "stream",
     "text": [
      "10\n"
     ]
    }
   ],
   "source": [
    "my_list = [1,2,3,4,5,6,7,8,9,10]\n",
    "length_list = len(my_list)\n",
    "print(length_list)"
   ]
  },
  {
   "cell_type": "markdown",
   "id": "ad11677d-b510-41b0-a316-fce587bc417b",
   "metadata": {},
   "source": [
    "Finding the largest element in a list\n",
    "Python provides a built-in function, max(), to find the largest element in a list."
   ]
  },
  {
   "cell_type": "code",
   "execution_count": 2,
   "id": "a5288b48-97f5-4e61-84f1-cf382005e011",
   "metadata": {},
   "outputs": [
    {
     "name": "stdout",
     "output_type": "stream",
     "text": [
      "10\n"
     ]
    }
   ],
   "source": [
    "my_list = [1,2,3,4,5,6,7,8,9,10]\n",
    "max_list = max(my_list)\n",
    "print(max_list)"
   ]
  },
  {
   "cell_type": "markdown",
   "id": "e7526517-5174-4af5-b76e-d27ade2e20bc",
   "metadata": {},
   "source": [
    "Find the smallest element in a list\n",
    "Similar to finding the largest element, Python provides a min() function to find the smallest element in a list."
   ]
  },
  {
   "cell_type": "code",
   "execution_count": 3,
   "id": "89284383-1b69-405e-8e10-c5a4e2952543",
   "metadata": {},
   "outputs": [
    {
     "name": "stdout",
     "output_type": "stream",
     "text": [
      "1\n"
     ]
    }
   ],
   "source": [
    "my_list = [1,2,3,4,5,6,7,8,9,10]\n",
    "min_list = min(my_list)\n",
    "print(min_list)"
   ]
  },
  {
   "cell_type": "markdown",
   "id": "a370d00b-59ca-47aa-be00-27ae0978083a",
   "metadata": {},
   "source": [
    "Finding the index of any element in a list\n",
    "\n",
    "To locate the position of a specific element in a list, you can use the .index() method."
   ]
  },
  {
   "cell_type": "code",
   "execution_count": 5,
   "id": "73c3452e-b8c1-42e1-84df-1456c13541ec",
   "metadata": {},
   "outputs": [
    {
     "name": "stdout",
     "output_type": "stream",
     "text": [
      "the index of 6 is :  5\n"
     ]
    }
   ],
   "source": [
    "my_list = [1,2,3,4,5,6,7,8,9,10]\n",
    "index_ele = my_list.index(6)\n",
    "print('the index of 6 is : ',index_ele)"
   ]
  },
  {
   "cell_type": "markdown",
   "id": "e2dcb554-2933-4982-8692-69fdd345170a",
   "metadata": {},
   "source": [
    "Finding the frequency of an element in a list\n",
    "\n",
    "If you need to know how many times a particular element appears in a list, you can use the .count() method."
   ]
  },
  {
   "cell_type": "code",
   "execution_count": 7,
   "id": "3a1c1479-353b-4d77-bb39-9e8588dbd78c",
   "metadata": {},
   "outputs": [
    {
     "name": "stdout",
     "output_type": "stream",
     "text": [
      "4\n"
     ]
    }
   ],
   "source": [
    "my_list = ['anish','lucky','anish','anish','samad','apple','bananna','anish']\n",
    "count_list = my_list.count('anish')\n",
    "print(count_list)"
   ]
  },
  {
   "cell_type": "markdown",
   "id": "3ce198bf-e2c3-461e-9e67-b6c00ef8baf1",
   "metadata": {},
   "source": [
    "Checking whether an element or a list is present in a list\n",
    "\n",
    "You can check for the presence of an element in a list using the in operator."
   ]
  },
  {
   "cell_type": "code",
   "execution_count": 8,
   "id": "21553fcc-1d03-4d88-82ce-2363004b9bd6",
   "metadata": {},
   "outputs": [
    {
     "name": "stdout",
     "output_type": "stream",
     "text": [
      "True\n",
      "False\n"
     ]
    }
   ],
   "source": [
    "my_list = [1,2,3,4,5,6,7,8,9,10]\n",
    "is_1_present = 1 in my_list\n",
    "is_0_present = 0 in my_list\n",
    "print(is_1_present)\n",
    "print(is_0_present)"
   ]
  },
  {
   "cell_type": "markdown",
   "id": "472bb850-84eb-4d4b-a47f-02337e073799",
   "metadata": {},
   "source": [
    "Manipulating lists\n",
    "Adding elements to a list\n",
    "\n",
    "append adds the specified element to the end of the list, effectively increasing its length by one. It takes one argument, which is the element to be appended to the list."
   ]
  },
  {
   "cell_type": "code",
   "execution_count": 11,
   "id": "9f8089e0-f701-4348-a50a-d1cf0cbd92ab",
   "metadata": {},
   "outputs": [
    {
     "name": "stdout",
     "output_type": "stream",
     "text": [
      "['apple', 'banana', 'kiwi', 'orange', 'mango', 'green apple']\n"
     ]
    }
   ],
   "source": [
    "my_fruit = ['apple','banana','kiwi','orange','mango']\n",
    "my_fruit.append('green apple')\n",
    "print(my_fruit)"
   ]
  },
  {
   "cell_type": "markdown",
   "id": "442af2c7-aa8f-438f-a7b8-bc5b23875afe",
   "metadata": {},
   "source": [
    "Deleting the last element from a list\n",
    "\n",
    "The .pop() method removes the last element from a list and returns it."
   ]
  },
  {
   "cell_type": "code",
   "execution_count": 14,
   "id": "b2cb809d-896c-4a67-9798-9dcf9e52bd30",
   "metadata": {},
   "outputs": [
    {
     "name": "stdout",
     "output_type": "stream",
     "text": [
      "mango\n"
     ]
    },
    {
     "data": {
      "text/plain": [
       "['apple', 'banana', 'kiwi', 'orange']"
      ]
     },
     "execution_count": 14,
     "metadata": {},
     "output_type": "execute_result"
    }
   ],
   "source": [
    "my_fruit = ['apple','banana','kiwi','orange','mango']\n",
    "removing = my_fruit.pop() #pop function dont take any specific arrgument and pop fun firstly display and remove the last function\n",
    "print(removing)\n",
    "my_fruit"
   ]
  },
  {
   "cell_type": "markdown",
   "id": "7357104a-04a8-4745-b6c3-44b33943301e",
   "metadata": {},
   "source": [
    "Deleting an element at a specific position\n",
    "\n",
    "You can delete an element at a specific index using the del keyword."
   ]
  },
  {
   "cell_type": "code",
   "execution_count": 32,
   "id": "265926dd-0443-4c6f-958c-94372634710e",
   "metadata": {},
   "outputs": [
    {
     "name": "stdout",
     "output_type": "stream",
     "text": [
      "['apple', 'kiwi', 'orange', 'mango']\n",
      "['apple', 'kiwi', 'orange']\n"
     ]
    }
   ],
   "source": [
    "my_fruit = ['apple','banana','kiwi','orange','mango']\n",
    "del my_fruit[1] # 1 index is banana\n",
    "print(my_fruit)\n",
    "del my_fruit[3] #after remaining the del func delet the 3rd index of the remaing\n",
    "print(my_fruit)"
   ]
  },
  {
   "cell_type": "markdown",
   "id": "5e280a73-2028-4ab8-b904-d7e49b752557",
   "metadata": {},
   "source": [
    "Removing a specific element from a list\n",
    "\n",
    "You can remove a specific element from a list using the .remove() method."
   ]
  },
  {
   "cell_type": "code",
   "execution_count": 33,
   "id": "8585910f-1678-4fe5-96d8-28bab26e98be",
   "metadata": {},
   "outputs": [
    {
     "name": "stdout",
     "output_type": "stream",
     "text": [
      "['apple', 'banana', 'orange', 'mango']\n"
     ]
    }
   ],
   "source": [
    "my_fruit = ['apple','banana','kiwi','orange','mango']\n",
    "my_fruit.remove('kiwi')\n",
    "print(my_fruit)"
   ]
  },
  {
   "cell_type": "markdown",
   "id": "a879e72b-09ae-4f14-92ed-a0be56ae6503",
   "metadata": {},
   "source": [
    "finding the sum of whole element"
   ]
  },
  {
   "cell_type": "code",
   "execution_count": 34,
   "id": "d8475c76-2ee8-493a-b385-45c8fd48d019",
   "metadata": {},
   "outputs": [
    {
     "name": "stdout",
     "output_type": "stream",
     "text": [
      "55\n"
     ]
    }
   ],
   "source": [
    "my_list = [1,2,3,4,5,6,7,8,9,10]\n",
    "sum_of_ele = sum(my_list)\n",
    "print(sum_of_ele)"
   ]
  },
  {
   "cell_type": "markdown",
   "id": "9363e0b0-d993-41f8-80f1-e9adf7e6efb3",
   "metadata": {},
   "source": [
    "finding the average of whole element"
   ]
  },
  {
   "cell_type": "code",
   "execution_count": 35,
   "id": "bbee7f65-5022-451c-a9de-c82992d0b9aa",
   "metadata": {},
   "outputs": [
    {
     "name": "stdout",
     "output_type": "stream",
     "text": [
      "5.5\n"
     ]
    }
   ],
   "source": [
    "my_list = [1,2,3,4,5,6,7,8,9,10]\n",
    "avg_list = sum(my_list) / len(my_list)\n",
    "print(avg_list)"
   ]
  },
  {
   "cell_type": "raw",
   "id": "16d977b2-ea45-4336-b869-a14cd61bfd40",
   "metadata": {},
   "source": [
    "sort the list in accending order"
   ]
  },
  {
   "cell_type": "code",
   "execution_count": 37,
   "id": "f35a4d94-ca79-4578-86df-f277229236af",
   "metadata": {},
   "outputs": [
    {
     "name": "stdout",
     "output_type": "stream",
     "text": [
      "[1, 1, 2, 3, 3, 4, 4, 5, 5, 6, 6, 7, 7, 9, 9]\n",
      "None\n"
     ]
    }
   ],
   "source": [
    "my_list = [5,6,1,7,9,1,3,4,5,7,9,2,4,6,3]\n",
    "my_list.sort()\n",
    "print(my_list)\n",
    "for_reverse = my_list.sort(reverse = True)\n",
    "print(for_reverse)"
   ]
  },
  {
   "cell_type": "raw",
   "id": "be505899-aa99-4751-aa0e-f727943c9611",
   "metadata": {},
   "source": [
    "sort in decending"
   ]
  },
  {
   "cell_type": "code",
   "execution_count": 42,
   "id": "92e8e83d-342d-49fb-9f4e-e276ac48b38e",
   "metadata": {},
   "outputs": [
    {
     "name": "stdout",
     "output_type": "stream",
     "text": [
      "[9, 9, 7, 7, 6, 6, 5, 5, 4, 4, 3, 3, 2, 1, 1]\n"
     ]
    }
   ],
   "source": [
    "my_list = [5,6,1,7,9,1,3,4,5,7,9,2,4,6,3]\n",
    "my_list.sort(reverse = True)\n",
    "print(my_list)"
   ]
  },
  {
   "cell_type": "markdown",
   "id": "e3da6436-5532-48c2-9b88-5e91901f5d6a",
   "metadata": {},
   "source": [
    "Reversing a list\n",
    "\n",
    "Another way to reverse the elements in a list is the .reverse() method. This changes the list in place, meaning it changes the original list rather than creating a new one. "
   ]
  },
  {
   "cell_type": "code",
   "execution_count": 44,
   "id": "ad6c4747-8b17-4686-b352-a2f554d86137",
   "metadata": {},
   "outputs": [
    {
     "name": "stdout",
     "output_type": "stream",
     "text": [
      "[9, 9, 7, 7, 6, 6, 5, 5, 4, 4, 3, 3, 2, 1, 1]\n"
     ]
    }
   ],
   "source": [
    "my_list = [5,6,1,7,9,1,3,4,5,7,9,2,4,6,3]\n",
    "my_list.sort()\n",
    "my_list.reverse()\n",
    "print(my_list)"
   ]
  },
  {
   "cell_type": "markdown",
   "id": "726b09b0-ab32-44a7-97f6-953727844f58",
   "metadata": {},
   "source": [
    "Repeating a list\n",
    "\n",
    "If you want to repeat the elements of a list a certain number of times, you can use the multiplication operator(*)."
   ]
  },
  {
   "cell_type": "code",
   "execution_count": 45,
   "id": "62ae6e21-4c30-4ee9-9269-88cae5b2753f",
   "metadata": {},
   "outputs": [
    {
     "name": "stdout",
     "output_type": "stream",
     "text": [
      "[1, 2, 3, 1, 2, 3, 1, 2, 3]\n"
     ]
    }
   ],
   "source": [
    "my_list = [1,2,3]\n",
    "repeated_list = my_list * 3\n",
    "print(repeated_list)"
   ]
  },
  {
   "cell_type": "markdown",
   "id": "6add99fd-1dea-4599-8611-b69fcd1b9606",
   "metadata": {},
   "source": [
    "Merging two lists\n",
    "\n",
    "You can concatenate two lists simply by using the + operator or the .extend() method. The + operator is used to concatenate two lists together, creating a new list as the result. In this case, the original lists remain unchanged."
   ]
  },
  {
   "cell_type": "code",
   "execution_count": 46,
   "id": "f86583a9-8861-4772-987b-42f3aed2366a",
   "metadata": {},
   "outputs": [
    {
     "name": "stdout",
     "output_type": "stream",
     "text": [
      "[200, 300]\n"
     ]
    }
   ],
   "source": [
    "list_1 = [200]\n",
    "list_2 = [300]\n",
    "final_list = list_1 + list_2\n",
    "print(final_list)"
   ]
  },
  {
   "cell_type": "markdown",
   "id": "1f405949-08e8-42ea-af65-6fffccc6e33e",
   "metadata": {},
   "source": [
    "On the other hand, the .extend() method is used to append all the elements from another iterable (such as a list) to the end of a list. It modifies the original list in place, meaning it changes the original list rather than creating a new one.\n",
    "\n",
    "\n",
    "It takes a single argument, which is an iterable (typically another list), and adds its elements to the end of the list."
   ]
  },
  {
   "cell_type": "code",
   "execution_count": 47,
   "id": "5733c7f0-7645-4d2f-8963-9f1cef5a6b87",
   "metadata": {},
   "outputs": [
    {
     "name": "stdout",
     "output_type": "stream",
     "text": [
      "[200, 300]\n"
     ]
    }
   ],
   "source": [
    "list_1 = [200]\n",
    "list_2 = [300]\n",
    "list_1.extend(list_2)\n",
    "print(list_1)"
   ]
  },
  {
   "cell_type": "markdown",
   "id": "0a05bc73-6f5d-47a3-8bb9-3b26fd378756",
   "metadata": {},
   "source": [
    "Joining substrings\n",
    "\n",
    "Combining substrings into a single string is a common requirement in Python, often achieved using the .join() method. This method takes an iterable, such as a list of strings, and concatenates its elements separated by a string separator.\n",
    "In this example, we demonstrate how to reassemble a list of words into a full sentence, separated by spaces, using .join()."
   ]
  },
  {
   "cell_type": "code",
   "execution_count": 53,
   "id": "32db98b7-dcf8-43bd-bec2-24798d27867c",
   "metadata": {},
   "outputs": [
    {
     "name": "stdout",
     "output_type": "stream",
     "text": [
      "['hi', 'my', 'name', 'is', 'ansih', 'verma']\n",
      "hi my name is ansih verma\n"
     ]
    }
   ],
   "source": [
    "my_string = 'hi my name is ansih verma '\n",
    "split_str = my_string.split()\n",
    "print(split_str)\n",
    "join_list_ele = ' '.join(split_str)\n",
    "print(join_list_ele)\n"
   ]
  },
  {
   "cell_type": "code",
   "execution_count": null,
   "id": "d99e2e26-8d07-48bb-a97b-765c21220578",
   "metadata": {},
   "outputs": [],
   "source": [
    "CLEAR FUNCTION FOR EMPTY LIST"
   ]
  },
  {
   "cell_type": "code",
   "execution_count": 54,
   "id": "9e312297-2922-4579-8959-79f23c0a6360",
   "metadata": {},
   "outputs": [
    {
     "name": "stdout",
     "output_type": "stream",
     "text": [
      "[]\n"
     ]
    }
   ],
   "source": [
    "my_list = [1,2,3,4,5,6,7,8,9,10]\n",
    "my_list.clear()\n",
    "print(my_list)"
   ]
  },
  {
   "cell_type": "markdown",
   "id": "7a18bad7-c93f-4f58-a589-7d67f2614e74",
   "metadata": {},
   "source": [
    "INSER FUNCTION"
   ]
  },
  {
   "cell_type": "code",
   "execution_count": 56,
   "id": "84b5f8a7-eb84-4989-bcb7-4d2dfc43ef71",
   "metadata": {},
   "outputs": [
    {
     "name": "stdout",
     "output_type": "stream",
     "text": [
      "[1, 2, 3, 4, 5, 6, 7, 8, 9, 10]\n"
     ]
    }
   ],
   "source": [
    "my_list = [1,2,3,4,5,7,8,9,10] # i forget 6\n",
    "my_list.insert(5,6) #in insert fuction first you pass the place where want to insert and then pass the value you want\n",
    "print(my_list)"
   ]
  },
  {
   "cell_type": "code",
   "execution_count": null,
   "id": "ea289b8d-d60b-4d44-a252-5d78a881bae9",
   "metadata": {},
   "outputs": [],
   "source": [
    "DICTIONARY"
   ]
  },
  {
   "cell_type": "markdown",
   "id": "47279824-0677-4e94-b818-c30e281896d8",
   "metadata": {},
   "source": [
    "# Dictionaries\n",
    "\n",
    "Dictionaries are mutable and unordered collections of key-value pairs. They are one of the built-in data types in Python and are incredibly versatile for storing and organising data efficiently. You can think of them like a real-life dictionary, where you look up a word (the key) to find its definition (the value). Let’s explore the various ways you can create dictionaries."
   ]
  },
  {
   "cell_type": "code",
   "execution_count": 62,
   "id": "57f4e6a4-5b00-4d23-8cf9-537dec299ed1",
   "metadata": {},
   "outputs": [
    {
     "name": "stdout",
     "output_type": "stream",
     "text": [
      "{'NAME': ['anish', 'lucky', 'samad', 'kaif'], 'age': [22, 23, 24, 56]}\n"
     ]
    }
   ],
   "source": [
    "my_dic = {'NAME':['anish','lucky','samad','kaif'],'age':[22 , 23,24,56]}\n",
    "print(my_dic)"
   ]
  },
  {
   "cell_type": "code",
   "execution_count": 65,
   "id": "ab7480c5-f46e-48be-9c39-b0f3c0665f88",
   "metadata": {},
   "outputs": [
    {
     "name": "stdout",
     "output_type": "stream",
     "text": [
      "{'name': 'anish', 'age': 45, 'salary': 4000.15, 'married': True}\n",
      "<class 'dict'>\n"
     ]
    }
   ],
   "source": [
    "diffValue_dict = {\n",
    "    'name':'anish',\n",
    "    'age': 45,\n",
    "    'salary':4000.15,\n",
    "    'married':True\n",
    "}\n",
    "print(diffValue_dict)\n",
    "print(type(diffValue_dict))"
   ]
  },
  {
   "cell_type": "markdown",
   "id": "4f4fbc37-1239-4afd-bdb3-b525087ebebf",
   "metadata": {},
   "source": [
    "Accessing specific values from dictionaries\n",
    "\n",
    "You can access the value associated with a specific key directly using square brackets []. Let’s see an example of accessing an item from a dictionary.\n",
    "\n"
   ]
  },
  {
   "cell_type": "code",
   "execution_count": 3,
   "id": "c2dc711c-0bc7-4739-bc88-030644dab1ad",
   "metadata": {},
   "outputs": [
    {
     "name": "stdout",
     "output_type": "stream",
     "text": [
      "anish\n"
     ]
    }
   ],
   "source": [
    "my_dict = {\n",
    "    'name':'anish',\n",
    "    'age': '22'\n",
    "}\n",
    "value_f_dict = my_dict['name'] #use list for accessing valuee\n",
    "print(value_f_dict)"
   ]
  },
  {
   "cell_type": "code",
   "execution_count": 6,
   "id": "64651d3a-0c51-4721-968e-2ae5b9f3960b",
   "metadata": {},
   "outputs": [
    {
     "name": "stdout",
     "output_type": "stream",
     "text": [
      "anish\n",
      "22\n"
     ]
    }
   ],
   "source": [
    "my_dict = {\n",
    "    'name':'anish',\n",
    "    'age': 22\n",
    "}\n",
    "my_name = my_dict.get('name')\n",
    "my_age = my_dict.get('age')\n",
    "print(my_name)\n",
    "print(my_age)"
   ]
  },
  {
   "cell_type": "markdown",
   "id": "a16b565b-a606-40cd-a338-ea1fd5194853",
   "metadata": {},
   "source": [
    "Accessing values in nested dictionaries\n",
    "\n",
    "Accessing values in nested dictionaries involves navigating through the layers of the dictionary by using the keys at each level to retrieve the desired value. Let's say we have the following dictionary."
   ]
  },
  {
   "cell_type": "code",
   "execution_count": 8,
   "id": "510969b9-654e-4582-b4e7-4baad0454631",
   "metadata": {},
   "outputs": [
    {
     "name": "stdout",
     "output_type": "stream",
     "text": [
      "22\n"
     ]
    }
   ],
   "source": [
    "my_dict ={\n",
    "    'var_1': {'name':'anish','age':22},\n",
    "    'var' : {'name':'div','age':20}\n",
    "}\n",
    "ac_v1 = my_dict['var_1']['age']\n",
    "print(ac_v1)"
   ]
  },
  {
   "cell_type": "markdown",
   "id": "54433f6e-80b3-490c-baca-0b6242190f63",
   "metadata": {},
   "source": [
    "finding the length of dictionary"
   ]
  },
  {
   "cell_type": "code",
   "execution_count": 9,
   "id": "7a879ad5-82dc-4f10-ac0c-958955597b9e",
   "metadata": {},
   "outputs": [
    {
     "name": "stdout",
     "output_type": "stream",
     "text": [
      "2\n"
     ]
    }
   ],
   "source": [
    "my_dict = {\n",
    "    'name':'anish',\n",
    "    'age':22\n",
    "}\n",
    "len_dict = len(my_dict)\n",
    "print(len_dict)"
   ]
  },
  {
   "cell_type": "markdown",
   "id": "43ff5592-63ec-4f06-a121-0ca88fda1e37",
   "metadata": {},
   "source": [
    "Retrieving keys\n",
    "\n",
    "You can get all the keys from a dictionary using the .keys() method. The .keys() method in Python dictionaries returns a view object that displays a list of all the keys in the dictionary. It does not create a new list but provides a dynamic view of the dictionary's keys. Here's how it works."
   ]
  },
  {
   "cell_type": "code",
   "execution_count": 10,
   "id": "afc68874-2b24-4da5-acbe-a37553b9dfce",
   "metadata": {},
   "outputs": [
    {
     "name": "stdout",
     "output_type": "stream",
     "text": [
      "dict_keys(['name', 'age'])\n"
     ]
    }
   ],
   "source": [
    "my_dict = {\n",
    "    'name':'anish',\n",
    "    'age':22\n",
    "}\n",
    "key = my_dict.keys()\n",
    "print(key)"
   ]
  },
  {
   "cell_type": "markdown",
   "id": "9475e537-557b-4673-8507-396e760d9d51",
   "metadata": {},
   "source": [
    "Retrieving values\n",
    "\n",
    "Similarly, to get all the values from a dictionary, you use the .values() method. The .values() method in Python dictionaries returns a view object that displays a list of all the values in the dictionary. Like .keys(), It does not create a new list; rather, it provides a dynamic view of the dictionary's values. Here's how it works."
   ]
  },
  {
   "cell_type": "code",
   "execution_count": 13,
   "id": "fb469ed8-e23b-4b5b-9eb3-cd1358b66c9d",
   "metadata": {},
   "outputs": [
    {
     "name": "stdout",
     "output_type": "stream",
     "text": [
      "dict_values(['anish', 22])\n"
     ]
    }
   ],
   "source": [
    "my_dict = {\n",
    "    'name':'anish',\n",
    "    'age':22\n",
    "}\n",
    "value = my_dict.values()\n",
    "print(value)"
   ]
  },
  {
   "cell_type": "markdown",
   "id": "de0de9cc-0b88-458a-aed5-1427de142ed6",
   "metadata": {},
   "source": [
    "Obtaining keys corresponding to specific values from a dictionary\n",
    "\n",
    "The .index() method in Python is used to find the index of the first occurrence of a specified value within a list. It is a built-in method available for sequences like lists. The method returns the index of the item if found, or it raises a ValueError if the item is not present in the list. \n",
    "\n"
   ]
  },
  {
   "cell_type": "code",
   "execution_count": 26,
   "id": "299f94e3-6963-4a5f-9bb5-d2f1470362d0",
   "metadata": {},
   "outputs": [
    {
     "name": "stdout",
     "output_type": "stream",
     "text": [
      "['anish', 22, 14500.22, True, ('bca', 'copa')]\n",
      "['name', 'age', 'salary', 'married', 'qualification']\n",
      "0\n",
      "name\n"
     ]
    }
   ],
   "source": [
    "my_dict = {\n",
    "    'name':'anish',\n",
    "    'age':22,\n",
    "    'salary':14500.22,\n",
    "    'married': True,\n",
    "    'qualification':('bca','copa')\n",
    "}\n",
    "key = list(my_dict.keys())\n",
    "value = list(my_dict.values())\n",
    "index = value.index('anish')\n",
    "req_key = key[index]\n",
    "print(value)\n",
    "print(key)\n",
    "print(index)\n",
    "print(req_key)\n"
   ]
  },
  {
   "cell_type": "markdown",
   "id": "8fe519c8-6ecb-4da7-8c38-9927436ab4b8",
   "metadata": {},
   "source": [
    "Comparing dictionaries\n",
    "\n",
    "You can compare dictionaries directly to check if they have identical keys and values. The easiest way to check if two dictionaries are the same (both keys and values) is by using the equality operator (==). A single equals sign (=) is the assignment operator in Python, which can be used to store values in variables, whereas the double equals sign (==) checks for equality and returns a boolean value (True or False).\n"
   ]
  },
  {
   "cell_type": "code",
   "execution_count": 27,
   "id": "2c391eae-3d68-4de1-98f2-6ea334a4d536",
   "metadata": {},
   "outputs": [
    {
     "name": "stdout",
     "output_type": "stream",
     "text": [
      "{'name': 'anish', 'age': 25}\n",
      "{'name': 'samad', 'age': 27}\n",
      "False\n"
     ]
    }
   ],
   "source": [
    "dict_1 ={\n",
    "    'name':'anish',\n",
    "    'age':25\n",
    "}\n",
    "dict_2={\n",
    "    'name':'samad',\n",
    "    'age':27\n",
    "}\n",
    "comp_dict = dict_1 == dict_2\n",
    "print(dict_1)\n",
    "print(dict_2)\n",
    "print(comp_dict)"
   ]
  },
  {
   "cell_type": "markdown",
   "id": "dfc9d032-b4d0-46b4-9033-919575cc4acb",
   "metadata": {},
   "source": [
    "## Manipulating dictionaries\n",
    "Manipulating dictionaries in Python involves various operations to add, update, remove, or retrieve elements. Here are some common operations.\n",
    "\n",
    "\n",
    "\n",
    "Adding new key-value pairs to dictionaries\n",
    "\n",
    "You can expand a dictionary by adding new entries. Adding new key-value pairs to a dictionary in Python is straightforward. You can do it by simply assigning a new value to a new key in the dictionary. Here's an example.\n",
    "\n"
   ]
  },
  {
   "cell_type": "code",
   "execution_count": 30,
   "id": "da3269b4-8903-4048-9633-c7f8680170c4",
   "metadata": {},
   "outputs": [
    {
     "name": "stdout",
     "output_type": "stream",
     "text": [
      "{'name': 'anish', 'age': 45, 'course': 'bca'}\n"
     ]
    }
   ],
   "source": [
    "my_dict = {\n",
    "    'name':'anish',\n",
    "    'age':45\n",
    "}\n",
    "my_dict['course'] = 'bca'\n",
    "print(my_dict)"
   ]
  },
  {
   "cell_type": "markdown",
   "id": "db0b1ab4-5074-485b-8ee2-223e3a925a56",
   "metadata": {},
   "source": [
    "#### update function"
   ]
  },
  {
   "cell_type": "code",
   "execution_count": 32,
   "id": "3f1c09e2-f124-4042-ac25-7a1d0f9bb3f6",
   "metadata": {},
   "outputs": [
    {
     "name": "stdout",
     "output_type": "stream",
     "text": [
      "{'name': 'anish', 'age': 45, 'course': 'bca', 'college': 'ignou'}\n"
     ]
    }
   ],
   "source": [
    "my_dict = {\n",
    "    'name':'anish',\n",
    "    'age':45\n",
    "}\n",
    "my_dict.update({'course':'bca','college':'ignou'})\n",
    "print(my_dict)"
   ]
  },
  {
   "cell_type": "markdown",
   "id": "563abaf6-3b79-4635-bda5-7cc99e5a6b8a",
   "metadata": {},
   "source": [
    "If any of the keys already exist in the original dictionary, their values will be updated to the new ones.\n",
    "\n"
   ]
  },
  {
   "cell_type": "code",
   "execution_count": 33,
   "id": "bbc99cd0-3c1e-44d7-a900-6eae94644a29",
   "metadata": {},
   "outputs": [
    {
     "name": "stdout",
     "output_type": "stream",
     "text": [
      "{'name': 'khushi', 'age': 45, 'course': 'ba'}\n"
     ]
    }
   ],
   "source": [
    "my_dict = {\n",
    "    'name':'anish',\n",
    "    'age':45\n",
    "}\n",
    "my_dict.update({'name':'khushi','course':'ba'})\n",
    "print(my_dict)"
   ]
  },
  {
   "cell_type": "markdown",
   "id": "6a1cc4d5-9857-41db-9690-43ce7e24e91f",
   "metadata": {},
   "source": [
    "setitem function is used for single pair of key value its used for enter the value in dictionary "
   ]
  },
  {
   "cell_type": "code",
   "execution_count": 34,
   "id": "442e0eec-a247-49b4-a194-b98a8f4bddbf",
   "metadata": {},
   "outputs": [
    {
     "name": "stdout",
     "output_type": "stream",
     "text": [
      "{'name': 'anish', 'age': 45, 'eyescolor': 'brown'}\n"
     ]
    }
   ],
   "source": [
    "my_dict = {\n",
    "    'name':'anish',\n",
    "    'age':45\n",
    "}\n",
    "my_dict.__setitem__('eyescolor','brown')\n",
    "print(my_dict)"
   ]
  },
  {
   "cell_type": "markdown",
   "id": "2a994713-180f-4bcd-ba70-b087db1ef60e",
   "metadata": {},
   "source": [
    "diference btw pop and del function"
   ]
  },
  {
   "cell_type": "code",
   "execution_count": 41,
   "id": "5d0df894-99c3-42f6-8011-931a8135a198",
   "metadata": {},
   "outputs": [
    {
     "name": "stdout",
     "output_type": "stream",
     "text": [
      "45\n",
      "{'eyecolor': 'brown'}\n"
     ]
    }
   ],
   "source": [
    "my_dict = {\n",
    "    'name':'anish',\n",
    "    'age':45,\n",
    "    'eyecolor':'brown'\n",
    "}\n",
    "pop_dict = my_dict.pop('age')\n",
    "del my_dict ['name']\n",
    "print(pop_dict)\n",
    "print(my_dict)"
   ]
  },
  {
   "cell_type": "markdown",
   "id": "3fc1ff1a-0fd6-4678-ada2-475643be093f",
   "metadata": {},
   "source": [
    "Merging dictionaries\n",
    "\n",
    "Two or more dictionaries can be merged into one. If you want to merge the second dictionary into the first one, modifying it in place, you can use the update() method.\n",
    "\n"
   ]
  },
  {
   "cell_type": "code",
   "execution_count": 42,
   "id": "bb899398-3b5a-49e0-8aaa-7ad0212828df",
   "metadata": {},
   "outputs": [
    {
     "name": "stdout",
     "output_type": "stream",
     "text": [
      "{'name': 'anish', 'age': 45, 'eyecolor': 'brown', 'course': 'bca', 'collage': 'ignou'}\n"
     ]
    }
   ],
   "source": [
    "my_dict = {\n",
    "    'name':'anish',\n",
    "    'age':45,\n",
    "    'eyecolor':'brown'\n",
    "}\n",
    "my_dict2 = {\n",
    "    'course':'bca',\n",
    "    'collage':'ignou'\n",
    "}\n",
    "my_dict.update(my_dict2)\n",
    "print(my_dict)"
   ]
  },
  {
   "cell_type": "markdown",
   "id": "7fee96b8-6804-43fa-9bd9-a7f8287891da",
   "metadata": {},
   "source": [
    "You can also use the ** operator, which unpacks the contents of dictionaries into a new dictionary. Here is an example."
   ]
  },
  {
   "cell_type": "code",
   "execution_count": 44,
   "id": "db6c87e3-8cc6-4303-8381-0f72f8716047",
   "metadata": {},
   "outputs": [
    {
     "name": "stdout",
     "output_type": "stream",
     "text": [
      "{'name': 'anish', 'age': 45, 'eyecolor': 'brown', 'course': 'bca', 'collage': 'ignou'}\n"
     ]
    }
   ],
   "source": [
    "my_dict = {\n",
    "    'name':'anish',\n",
    "    'age':45,\n",
    "    'eyecolor':'brown'\n",
    "}\n",
    "my_dict2 = {\n",
    "    'course':'bca',\n",
    "    'collage':'ignou'\n",
    "}\n",
    "merge_dict = {**my_dict,**my_dict2}\n",
    "print(merge_dict)"
   ]
  },
  {
   "cell_type": "markdown",
   "id": "c9ce2776-877e-452d-9a44-03d145178ae4",
   "metadata": {},
   "source": [
    "Removing all items from a dictionary\n",
    "\n",
    "The most straightforward methods to remove all items from a dictionary include using the .clear() method or reassigning the dictionary to an empty dictionary. Here's how you can do it. "
   ]
  },
  {
   "cell_type": "code",
   "execution_count": 45,
   "id": "28307e7c-4fee-46ea-8e85-2bc2277484d4",
   "metadata": {},
   "outputs": [
    {
     "name": "stdout",
     "output_type": "stream",
     "text": [
      "{}\n"
     ]
    }
   ],
   "source": [
    "my_dict = {\n",
    "    'name':'anish',\n",
    "    'age':45,\n",
    "    'eyecolor':'brown'\n",
    "}\n",
    "my_dict.clear()\n",
    "print(my_dict)"
   ]
  },
  {
   "cell_type": "markdown",
   "id": "e45c74f5-4f2c-44fb-ac1a-e77a8efc7c64",
   "metadata": {},
   "source": [
    "You can also reassign the variable to a new, empty dictionary. This effectively removes all items."
   ]
  },
  {
   "cell_type": "code",
   "execution_count": 46,
   "id": "2b4bcf41-4406-4715-a00a-56dde06755af",
   "metadata": {},
   "outputs": [
    {
     "name": "stdout",
     "output_type": "stream",
     "text": [
      "{}\n"
     ]
    }
   ],
   "source": [
    "my_dict = {\n",
    "    'name':'anish',\n",
    "    'age':45,\n",
    "    'eyecolor':'brown'\n",
    "}\n",
    "my_dict = {}\n",
    "print(my_dict)"
   ]
  },
  {
   "cell_type": "markdown",
   "id": "3ccedd67-cb9f-4b77-ae07-0875f2504389",
   "metadata": {},
   "source": [
    "Making a copy of a dictionary\n",
    "\n",
    "To make a separate copy of a dictionary, use the .copy() method. This method creates a new dictionary, which is filled with a copy of the references from the original dictionary."
   ]
  },
  {
   "cell_type": "code",
   "execution_count": 47,
   "id": "a3dffcac-df3d-4cca-bd55-b04f08a686d5",
   "metadata": {},
   "outputs": [
    {
     "name": "stdout",
     "output_type": "stream",
     "text": [
      "{'name': 'anish', 'age': 45, 'eyecolor': 'brown'}\n"
     ]
    }
   ],
   "source": [
    "my_dict = {\n",
    "    'name':'anish',\n",
    "    'age':45,\n",
    "    'eyecolor':'brown'\n",
    "}\n",
    "copy_dict = my_dict.copy()\n",
    "print(copy_dict)"
   ]
  },
  {
   "cell_type": "markdown",
   "id": "a473eb25-de2e-470e-a2c1-39fa480b0596",
   "metadata": {},
   "source": [
    "Mathematical and statistical operations\n",
    "\n",
    "\n",
    "Summation of values in a dictionary\n",
    "\n",
    "To find the sum of all values in a dictionary, assuming all your values are numerical (like integers or floats), you can use the sum() function along with the .values() method of the dictionary. Here's an example to illustrate this."
   ]
  },
  {
   "cell_type": "code",
   "execution_count": 51,
   "id": "8795d194-7ba1-48b7-8157-597344384dc3",
   "metadata": {},
   "outputs": [
    {
     "name": "stdout",
     "output_type": "stream",
     "text": [
      "3700\n"
     ]
    }
   ],
   "source": [
    "expense = {\n",
    "    'phone recharege':1200,\n",
    "    'gym fees': 1500,\n",
    "    'petrol':1000\n",
    "}\n",
    "sum_fodict = sum(expense.values())\n",
    "print(sum_fodict)"
   ]
  },
  {
   "cell_type": "markdown",
   "id": "af3dae1c-8125-451c-9cea-c057a3340fef",
   "metadata": {},
   "source": [
    "Maximum and minimum values in a dictionary\n",
    "\n",
    "To find the maximum and minimum values in a dictionary, you can use Python's built-in functions max() and min(), respectively. \n",
    "\n"
   ]
  },
  {
   "cell_type": "code",
   "execution_count": 52,
   "id": "87274809-c668-46bd-871b-0a14a03e5e81",
   "metadata": {},
   "outputs": [
    {
     "name": "stdout",
     "output_type": "stream",
     "text": [
      "1500\n"
     ]
    }
   ],
   "source": [
    "expense = {\n",
    "    'phone recharege':1200,\n",
    "    'gym fees': 1500,\n",
    "    'petrol':1000\n",
    "}\n",
    "max_dict = max(expense.values())\n",
    "print(max_dict)"
   ]
  },
  {
   "cell_type": "markdown",
   "id": "08042721-a5ef-4495-8c7e-f0019b592c86",
   "metadata": {},
   "source": [
    "Sorting dictionary keys and values\n",
    "\n",
    "You can use the sorted() function on the dictionary to get a sorted list of keys and values.\n",
    "\n"
   ]
  },
  {
   "cell_type": "code",
   "execution_count": 54,
   "id": "52556753-7abf-499b-baff-66330b1ecda4",
   "metadata": {},
   "outputs": [
    {
     "name": "stdout",
     "output_type": "stream",
     "text": [
      "['gym fees', 'petrol', 'phone recharege']\n",
      "[1500, 1200, 1000]\n"
     ]
    }
   ],
   "source": [
    "expense = {\n",
    "    'phone recharege':1200,\n",
    "    'gym fees': 1500,\n",
    "    'petrol':1000\n",
    "}\n",
    "sort_key = sorted(expense.keys())\n",
    "sort_value = sorted(expense.values(),reverse = True)\n",
    "print(sort_key)\n",
    "print(sort_value)"
   ]
  },
  {
   "cell_type": "markdown",
   "id": "b118e05b-3c9c-41f3-8964-773985d220fc",
   "metadata": {},
   "source": [
    "Creating dictionaries with common default values using the .fromkeys() method\n",
    "\n",
    "The .fromkeys() method creates a new dictionary from a given sequence of items, assigning each item as a key and a common default value to all keys. Using .fromkeys() allows you to initialise a dictionary efficiently, especially when dealing with uniform initial values across many keys."
   ]
  },
  {
   "cell_type": "code",
   "execution_count": 56,
   "id": "b5ab79ad-6057-4dcc-91f5-7fe52ebd2af9",
   "metadata": {},
   "outputs": [
    {
     "name": "stdout",
     "output_type": "stream",
     "text": [
      "{'b': {10, 20, 30}, 'a': {10, 20, 30}, 'c': {10, 20, 30}}\n"
     ]
    }
   ],
   "source": [
    "a = {'a','b','c'}\n",
    "b = {10,20,30} # its goes to all the key\n",
    "new_dict = dict.fromkeys(a,b)\n",
    "print(new_dict)"
   ]
  },
  {
   "cell_type": "code",
   "execution_count": null,
   "id": "1ac236df-d72e-46b3-8749-d58c48857fe9",
   "metadata": {},
   "outputs": [],
   "source": []
  },
  {
   "cell_type": "code",
   "execution_count": null,
   "id": "f8486cfb-d30c-45ba-a018-c3bfdd14abc7",
   "metadata": {},
   "outputs": [],
   "source": []
  }
 ],
 "metadata": {
  "kernelspec": {
   "display_name": "Python 3 (ipykernel)",
   "language": "python",
   "name": "python3"
  },
  "language_info": {
   "codemirror_mode": {
    "name": "ipython",
    "version": 3
   },
   "file_extension": ".py",
   "mimetype": "text/x-python",
   "name": "python",
   "nbconvert_exporter": "python",
   "pygments_lexer": "ipython3",
   "version": "3.12.7"
  }
 },
 "nbformat": 4,
 "nbformat_minor": 5
}
