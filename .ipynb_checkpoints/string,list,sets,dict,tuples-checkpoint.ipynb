{
 "cells": [
  {
   "cell_type": "markdown",
   "id": "d49ddc90-44a1-492d-bf23-8062742599a4",
   "metadata": {},
   "source": [
    "# string are immutable in nature it can't be change "
   ]
  },
  {
   "cell_type": "markdown",
   "id": "05d6f24f-748b-4c50-a8d5-26c295354abc",
   "metadata": {},
   "source": [
    "#split function in string"
   ]
  },
  {
   "cell_type": "code",
   "execution_count": 2,
   "id": "353c140b-05ec-4e66-9c4f-acf3a24547b4",
   "metadata": {},
   "outputs": [
    {
     "name": "stdout",
     "output_type": "stream",
     "text": [
      "I\n"
     ]
    }
   ],
   "source": [
    "my_str=  'I find Python programming very interesting!'\n",
    "print(my_str.split()[0]) # .split() = is use for slipt the words ,[] = use for indexing."
   ]
  },
  {
   "cell_type": "markdown",
   "id": "fec51cd7-96f8-4ed5-a067-51d6201b4f1c",
   "metadata": {},
   "source": [
    "# indexing"
   ]
  },
  {
   "cell_type": "code",
   "execution_count": 6,
   "id": "bc0e6cb3-a337-4db7-9e12-fd338a12ad1b",
   "metadata": {},
   "outputs": [
    {
     "name": "stdout",
     "output_type": "stream",
     "text": [
      "h\n",
      "e\n",
      "l\n",
      "l\n",
      "o\n"
     ]
    }
   ],
   "source": [
    "string = \"hello\"\n",
    "print(string[0])\n",
    "print(string[1])\n",
    "print(string[2])\n",
    "print(string[3])\n",
    "print(string[4])"
   ]
  },
  {
   "cell_type": "markdown",
   "id": "643d38dd-8bd9-41b4-800c-20d673ddf9d1",
   "metadata": {},
   "source": [
    "#Slicing strings\n",
    "Slicing lets you extract a substring from a string using the slice operator [:]. \n",
    "We can also perform slicing operations on strings to get a substring of the string over the given range. Here is the syntax for slicing.\n",
    "\n"
   ]
  },
  {
   "cell_type": "code",
   "execution_count": null,
   "id": "bd16f96f-8966-490f-aa05-8556bfdedf2d",
   "metadata": {},
   "outputs": [],
   "source": [
    "string[start:stop:step] # this how slicing work"
   ]
  },
  {
   "cell_type": "code",
   "execution_count": 15,
   "id": "9bd42927-44df-4a97-b3ed-0229e2f4d1b7",
   "metadata": {},
   "outputs": [
    {
     "name": "stdout",
     "output_type": "stream",
     "text": [
      "python\n",
      "pytho\n",
      "python\n",
      "ython\n"
     ]
    }
   ],
   "source": [
    "lang = \"python\"\n",
    "print(lang[0:6]) # the index are limited but in python we pass the over end location like lang[0:100000]\n",
    "print(lang[0:5])\n",
    "print(lang[:6]) #if you dont pass the starting it will take first one by deafault\n",
    "print(lang[1:]) # same if you dont pass the end it will take the last one \n"
   ]
  },
  {
   "cell_type": "code",
   "execution_count": 39,
   "id": "2b76b94b-167b-46ec-a1e5-1ecb8aa72476",
   "metadata": {},
   "outputs": [
    {
     "name": "stdout",
     "output_type": "stream",
     "text": [
      "anishverma\n",
      "aihem\n",
      "asea\n"
     ]
    }
   ],
   "source": [
    "#now using the step \n",
    "lang1 = \"anishverma\"\n",
    "print(lang1[0::1]) # print(lang1[0::1]) the step how to move possitive 1 show left to right and how many step taken like 1\n",
    "print(lang1[0: :2]) # in step section 2 is mention for taken jump once\n",
    "print(lang1[0: :3]) # in step section 3 is mention for taken a jump twice"
   ]
  },
  {
   "cell_type": "code",
   "execution_count": 43,
   "id": "65749408-4c50-40c1-acf6-8a5450632de4",
   "metadata": {},
   "outputs": [
    {
     "name": "stdout",
     "output_type": "stream",
     "text": [
      "C:\\Users\\anish\\OneDrive\\Documents\\GitHub\\practice\n"
     ]
    }
   ],
   "source": [
    "import os\n",
    "cwd = os.getcwd()\n",
    "print(cwd)"
   ]
  },
  {
   "cell_type": "markdown",
   "id": "f9543b2f-6161-4116-ae83-b28d1257cfbf",
   "metadata": {},
   "source": [
    "#reverse slicing "
   ]
  },
  {
   "cell_type": "code",
   "execution_count": 44,
   "id": "989eacd0-8285-4a2e-bdb7-6c08fddde756",
   "metadata": {},
   "outputs": [
    {
     "name": "stdout",
     "output_type": "stream",
     "text": [
      "nohtyp\n"
     ]
    }
   ],
   "source": [
    "name = \"python\"\n",
    "print(name[ : :-1]) #in step section i pass -1 because its start from right to left "
   ]
  },
  {
   "cell_type": "code",
   "execution_count": 49,
   "id": "c258b309-033a-44f9-a260-b789e62b4330",
   "metadata": {},
   "outputs": [
    {
     "name": "stdout",
     "output_type": "stream",
     "text": [
      "nohty\n"
     ]
    }
   ],
   "source": [
    "nam = \"python\"\n",
    "print(nam[5:0:-1])"
   ]
  },
  {
   "cell_type": "code",
   "execution_count": 50,
   "id": "0dba6c06-456d-4d60-83fb-0434574030cd",
   "metadata": {},
   "outputs": [
    {
     "name": "stdout",
     "output_type": "stream",
     "text": [
      "n\n"
     ]
    }
   ],
   "source": [
    "# for count from right to left we use negetive number like -1,-2,and -3\n",
    "name = \"anish\"\n",
    "#if i want to show only n \n",
    "print(name[-4])"
   ]
  },
  {
   "cell_type": "markdown",
   "id": "c6b64078-0344-4a4d-8d04-e1c3de5786e4",
   "metadata": {},
   "source": [
    "#operation on string "
   ]
  },
  {
   "cell_type": "markdown",
   "id": "387e570d-dae3-4dcc-8e07-3db9b2fa23be",
   "metadata": {},
   "source": [
    "    LENGTH"
   ]
  },
  {
   "cell_type": "code",
   "execution_count": 51,
   "id": "1d6a0d01-30e8-4e11-99ae-e131d6110f68",
   "metadata": {},
   "outputs": [
    {
     "name": "stdout",
     "output_type": "stream",
     "text": [
      "the length of my name is : 10\n"
     ]
    }
   ],
   "source": [
    "lenth = \"anishverma\"\n",
    "string_len = len(lenth)\n",
    "print(\"the length of my name is :\",string_len)"
   ]
  },
  {
   "cell_type": "markdown",
   "id": "6e8c57b1-cda3-4cf2-bc46-6a30ea5adc3e",
   "metadata": {},
   "source": [
    "#MEMBERSHIP OPERATER"
   ]
  },
  {
   "cell_type": "code",
   "execution_count": 53,
   "id": "a7cf4ff4-f8aa-425e-a2c4-7097d02ffd73",
   "metadata": {},
   "outputs": [
    {
     "name": "stdout",
     "output_type": "stream",
     "text": [
      "are anish in mem ? True\n"
     ]
    }
   ],
   "source": [
    "mem = \"hi my name is anish verma \"\n",
    "result = \"anish\" in mem\n",
    "print(\"are anish in mem ?\",result)"
   ]
  },
  {
   "cell_type": "markdown",
   "id": "d6bdd0b4-34c6-4920-b5d1-6d9f9997bfa0",
   "metadata": {},
   "source": [
    "#find and index"
   ]
  },
  {
   "cell_type": "code",
   "execution_count": 57,
   "id": "aa85ccad-950f-4f0e-b656-4628d577dcea",
   "metadata": {},
   "outputs": [
    {
     "name": "stdout",
     "output_type": "stream",
     "text": [
      "the first index of o is = 4\n",
      "the index start from = 5\n"
     ]
    }
   ],
   "source": [
    "find = \"helloworld\"\n",
    "index_o = find.index(\"o\") #We use the .index() method to find the index of the character 'o' in the string my_string. In this case, it will return the index of the first 'o' in the string.\n",
    "find_world = find.find(\"world\") #We use the .find() method to find the index of the substring 'World' in the string my_string.\n",
    "print(\"the first index of o is =\",index_o)\n",
    "print(\"the index start from =\",find_world)"
   ]
  },
  {
   "cell_type": "markdown",
   "id": "d0d4266c-1d7b-4246-9f22-ec682ce258c0",
   "metadata": {},
   "source": [
    "#COUNTING"
   ]
  },
  {
   "cell_type": "code",
   "execution_count": 58,
   "id": "29f1a916-a1a4-4262-af60-6e1b52cbd053",
   "metadata": {},
   "outputs": [
    {
     "name": "stdout",
     "output_type": "stream",
     "text": [
      "3\n"
     ]
    }
   ],
   "source": [
    "count1 = \"hello world i am anish verma \"\n",
    "count_a = count1.count(\"a\") # count function count the char how many time its use in string\n",
    "print(count_a)"
   ]
  },
  {
   "cell_type": "markdown",
   "id": "2af978ee-ed69-49a5-83ba-c181d770bff9",
   "metadata": {},
   "source": [
    "#ASCII VALUE"
   ]
  },
  {
   "cell_type": "code",
   "execution_count": 62,
   "id": "8dfef734-1401-466d-9990-a2117b71a7ab",
   "metadata": {},
   "outputs": [
    {
     "name": "stdout",
     "output_type": "stream",
     "text": [
      "the ascii vale of 'o'?= 111\n",
      "the ascii value of 'a'?= 97\n",
      "the ascii value of 'A'?= 65\n"
     ]
    }
   ],
   "source": [
    "asc_1 = ord (\"o\")\n",
    "asc_2 = ord(\"a\")\n",
    "asc_3 = ord(\"A\")\n",
    "\n",
    "print(\"the ascii vale of 'o'?=\",asc_1)\n",
    "print(\"the ascii value of 'a'?=\",asc_2)\n",
    "print(\"the ascii value of 'A'?=\",asc_3)"
   ]
  },
  {
   "cell_type": "markdown",
   "id": "3fa5a3cb-eb8c-46d1-a9f1-084b054baafb",
   "metadata": {},
   "source": [
    "Concatenating strings"
   ]
  },
  {
   "cell_type": "code",
   "execution_count": 63,
   "id": "992f54b3-f05d-47c3-9ee5-f791d5c65016",
   "metadata": {},
   "outputs": [
    {
     "name": "stdout",
     "output_type": "stream",
     "text": [
      "anish verma\n"
     ]
    }
   ],
   "source": [
    "name = \"anish\"\n",
    "ser_name = \"verma\"\n",
    "full_name = name + \" \" +ser_name\n",
    "print(full_name)"
   ]
  },
  {
   "cell_type": "markdown",
   "id": "86401661-a218-4e92-922f-9851ca8a4096",
   "metadata": {},
   "source": [
    "STRIP"
   ]
  },
  {
   "cell_type": "code",
   "execution_count": 64,
   "id": "7b4779a1-98af-4e5b-93dd-0c78a28a6aaa",
   "metadata": {},
   "outputs": [
    {
     "name": "stdout",
     "output_type": "stream",
     "text": [
      "hi my name is anish verma      \n",
      "       hi my name is anish verma\n",
      "hi my name is anish verma\n"
     ]
    }
   ],
   "source": [
    "strip = \"       hi my name is anish verma      \"\n",
    "left_strip = strip.lstrip()\n",
    "right_strip = strip.rstrip()\n",
    "full_strip = strip.strip()\n",
    "print(left_strip)\n",
    "print(right_strip)\n",
    "print(full_strip)"
   ]
  },
  {
   "cell_type": "markdown",
   "id": "d310abb8-3dbb-40bb-8f43-de750b2e0683",
   "metadata": {},
   "source": [
    "REPLACE FUNCTION"
   ]
  },
  {
   "cell_type": "code",
   "execution_count": 65,
   "id": "d199ab87-ba04-43fc-839f-5148ec4fe2f8",
   "metadata": {},
   "outputs": [
    {
     "name": "stdout",
     "output_type": "stream",
     "text": [
      "hi my name is anish verma .\n",
      "hi$my$name$is$anish$sharma$.\n"
     ]
    }
   ],
   "source": [
    "my_string = \"hi my name is anish sharma .\"\n",
    "replace_string = my_string.replace(\"sharma\",\"verma\")\n",
    "replace_space = my_string.replace(\" \",\"$\")\n",
    "print(replace_string)\n",
    "print(replace_space)"
   ]
  },
  {
   "cell_type": "markdown",
   "id": "7a48b1b4-c691-4ed9-aa40-8c35ad89c169",
   "metadata": {},
   "source": [
    "SPLIT THE STRING"
   ]
  },
  {
   "cell_type": "code",
   "execution_count": 66,
   "id": "28768a95-1256-49a7-a87f-9c9c0505d8ac",
   "metadata": {},
   "outputs": [
    {
     "name": "stdout",
     "output_type": "stream",
     "text": [
      "['hi', 'my', 'name', 'is', 'anish', 'verma', ',', 'i', 'am', 'bca', 'student']\n"
     ]
    }
   ],
   "source": [
    "my_string = \"hi my name is anish verma , i am bca student \"\n",
    "split_string = my_string.split()\n",
    "print(split_string)"
   ]
  },
  {
   "cell_type": "markdown",
   "id": "0bcaba96-c28e-496c-b53c-74d4c36e0948",
   "metadata": {},
   "source": [
    "title function = this function capitalize the first letter of the word"
   ]
  },
  {
   "cell_type": "code",
   "execution_count": 67,
   "id": "76b82f04-7b04-4371-82dc-f8e59d185b7f",
   "metadata": {},
   "outputs": [
    {
     "name": "stdout",
     "output_type": "stream",
     "text": [
      "Hi My Name Is Anish Verma \n"
     ]
    }
   ],
   "source": [
    "my_string = \"hi my name is anish verma \"\n",
    "title_string = my_string.title()\n",
    "print(title_string)"
   ]
  },
  {
   "cell_type": "code",
   "execution_count": null,
   "id": "919444a1-cd63-4f99-8316-4d0ea4cc3fc7",
   "metadata": {},
   "outputs": [],
   "source": []
  },
  {
   "cell_type": "code",
   "execution_count": null,
   "id": "4c353dc1-f216-4b60-95ac-9638afcc244a",
   "metadata": {},
   "outputs": [],
   "source": []
  },
  {
   "cell_type": "markdown",
   "id": "f238b43a-7236-485f-8bad-5fe28a032374",
   "metadata": {
    "editable": true,
    "slideshow": {
     "slide_type": ""
    },
    "tags": []
   },
   "source": [
    "LIST\n",
    "Lists in Python are one of the most versatile data structures available. They store an ordered collection of items, which might be of different types. Unlike strings, lists are mutable, which means that their contents can be modified, without having to create a new list. This feature makes them very useful for handling datasets, performing various operations like sorting and searching, and implementing data structures like stacks and queues."
   ]
  },
  {
   "cell_type": "code",
   "execution_count": null,
   "id": "23c464f8-d4dc-4763-86e2-683baac4260d",
   "metadata": {},
   "outputs": [],
   "source": [
    "#Creating an empty list\n",
    "#An empty list is a list that contains no items. Below, the list fruits is an example of an empty list.\n",
    "NAME = []"
   ]
  },
  {
   "cell_type": "code",
   "execution_count": 18,
   "id": "762670f2-dbd6-41fa-93de-a081ab04f007",
   "metadata": {},
   "outputs": [
    {
     "name": "stdout",
     "output_type": "stream",
     "text": [
      "['anish', 'lucky', 'samad', 'kaif']\n",
      "[9, 5, 4, 6, 7, 2, 1]\n"
     ]
    }
   ],
   "source": [
    "name = ['anish','lucky','samad','kaif']\n",
    "num = [9,5,4,6,7,2,1]\n",
    "\n",
    "name_list = list(name)\n",
    "print(name_list)\n",
    "print(list(num))"
   ]
  },
  {
   "cell_type": "code",
   "execution_count": null,
   "id": "0b85d7d5-3e06-4cf3-a111-10b63121d49d",
   "metadata": {},
   "outputs": [],
   "source": [
    "#created nested list"
   ]
  },
  {
   "cell_type": "code",
   "execution_count": 39,
   "id": "458be6b4-507d-47f2-a0a9-d49c92c13208",
   "metadata": {},
   "outputs": [
    {
     "name": "stdout",
     "output_type": "stream",
     "text": [
      "[[1, 2], [3, 4], [5, 6], [7, 8]]\n"
     ]
    }
   ],
   "source": [
    "num = [[1,2],[3,4],[5,6],[7,8]]\n",
    "\n",
    "print(num)"
   ]
  },
  {
   "cell_type": "markdown",
   "id": "5bab7991-e85b-4396-87a5-b74068b61f1e",
   "metadata": {},
   "source": [
    "mixed list "
   ]
  },
  {
   "cell_type": "code",
   "execution_count": 42,
   "id": "66536b4f-8aa8-4943-a7af-f3e5dd9b599c",
   "metadata": {},
   "outputs": [
    {
     "name": "stdout",
     "output_type": "stream",
     "text": [
      "<class 'list'>\n",
      "<class 'str'>\n",
      "<class 'int'>\n",
      "<class 'float'>\n",
      "<class 'bool'>\n",
      "<class 'list'>\n"
     ]
    }
   ],
   "source": [
    "mixed_type = ['anish',120,3.15, True ,[2,5] ]\n",
    "print(type(mixed_type))\n",
    "print(type(mixed_type[0]))\n",
    "print(type(mixed_type[1]))\n",
    "print(type(mixed_type[2]))\n",
    "print(type(mixed_type[3]))\n",
    "print(type(mixed_type[4]))"
   ]
  },
  {
   "cell_type": "markdown",
   "id": "45b2c07c-6c74-4cb3-95f5-0f80c3bfde80",
   "metadata": {},
   "source": [
    "Slicing elements from a list\n",
    "\n",
    "List slicing allows you to extract a specific range of elements from a list. This is done using the syntax [start:stop:step], where start represents the index for the beginning of the slice, stop is the endpoint (not included in the slice), and step is the interval between elements. This technique is crucial for data manipulation and subset extraction without modifying the original list."
   ]
  },
  {
   "cell_type": "code",
   "execution_count": 43,
   "id": "597accee-a871-4458-b684-d83cc7415a22",
   "metadata": {},
   "outputs": [
    {
     "name": "stdout",
     "output_type": "stream",
     "text": [
      "['a', 'n', 'i']\n"
     ]
    }
   ],
   "source": [
    "name = ['a','n','i','s','h']\n",
    "name_slic = name[0:3]\n",
    "print(name_slic)"
   ]
  },
  {
   "cell_type": "markdown",
   "id": "67391149-7150-4b43-aba1-a5288720f8cb",
   "metadata": {},
   "source": [
    "nested slicing"
   ]
  },
  {
   "cell_type": "code",
   "execution_count": 45,
   "id": "0bea354c-e35a-4f22-b774-9a20720d8223",
   "metadata": {},
   "outputs": [
    {
     "name": "stdout",
     "output_type": "stream",
     "text": [
      "[3, 4]\n"
     ]
    }
   ],
   "source": [
    "nested = [[1,2],[3,4],[5,6],[7,8]]\n",
    "nested_slicing = nested[1][0:2]\n",
    "print(nested_slicing)"
   ]
  },
  {
   "cell_type": "code",
   "execution_count": 50,
   "id": "0000e277-aad5-495e-80c5-66ad4d6a5b25",
   "metadata": {},
   "outputs": [
    {
     "name": "stdout",
     "output_type": "stream",
     "text": [
      "[4, 5, 9]\n",
      "lucky\n"
     ]
    }
   ],
   "source": [
    "#another example \n",
    "nested_list = [['ansih','lucky','samad'],[1,2,3,4,5,9],3.145789,[True]]\n",
    "nst_slic = nested_list [0][1]\n",
    "nst_slic1 = nested_list [1][3:]\n",
    "print(nst_slic1)\n",
    "print(nst_slic)"
   ]
  },
  {
   "cell_type": "markdown",
   "id": "59624ac4-eff6-4766-bf7c-a014eb939de8",
   "metadata": {},
   "source": [
    "Finding the length of a list\n",
    "One of the most fundamental operations you can perform on a list is finding out how many elements it contains."
   ]
  },
  {
   "cell_type": "code",
   "execution_count": 1,
   "id": "7ee14f3b-f3d5-4f4f-8c3c-c6ed25c2bc5f",
   "metadata": {},
   "outputs": [
    {
     "name": "stdout",
     "output_type": "stream",
     "text": [
      "10\n"
     ]
    }
   ],
   "source": [
    "my_list = [1,2,3,4,5,6,7,8,9,10]\n",
    "length_list = len(my_list)\n",
    "print(length_list)"
   ]
  },
  {
   "cell_type": "markdown",
   "id": "ad11677d-b510-41b0-a316-fce587bc417b",
   "metadata": {},
   "source": [
    "Finding the largest element in a list\n",
    "Python provides a built-in function, max(), to find the largest element in a list."
   ]
  },
  {
   "cell_type": "code",
   "execution_count": 2,
   "id": "a5288b48-97f5-4e61-84f1-cf382005e011",
   "metadata": {},
   "outputs": [
    {
     "name": "stdout",
     "output_type": "stream",
     "text": [
      "10\n"
     ]
    }
   ],
   "source": [
    "my_list = [1,2,3,4,5,6,7,8,9,10]\n",
    "max_list = max(my_list)\n",
    "print(max_list)"
   ]
  },
  {
   "cell_type": "markdown",
   "id": "e7526517-5174-4af5-b76e-d27ade2e20bc",
   "metadata": {},
   "source": [
    "Find the smallest element in a list\n",
    "Similar to finding the largest element, Python provides a min() function to find the smallest element in a list."
   ]
  },
  {
   "cell_type": "code",
   "execution_count": 3,
   "id": "89284383-1b69-405e-8e10-c5a4e2952543",
   "metadata": {},
   "outputs": [
    {
     "name": "stdout",
     "output_type": "stream",
     "text": [
      "1\n"
     ]
    }
   ],
   "source": [
    "my_list = [1,2,3,4,5,6,7,8,9,10]\n",
    "min_list = min(my_list)\n",
    "print(min_list)"
   ]
  },
  {
   "cell_type": "markdown",
   "id": "a370d00b-59ca-47aa-be00-27ae0978083a",
   "metadata": {},
   "source": [
    "Finding the index of any element in a list\n",
    "\n",
    "To locate the position of a specific element in a list, you can use the .index() method."
   ]
  },
  {
   "cell_type": "code",
   "execution_count": 5,
   "id": "73c3452e-b8c1-42e1-84df-1456c13541ec",
   "metadata": {},
   "outputs": [
    {
     "name": "stdout",
     "output_type": "stream",
     "text": [
      "the index of 6 is :  5\n"
     ]
    }
   ],
   "source": [
    "my_list = [1,2,3,4,5,6,7,8,9,10]\n",
    "index_ele = my_list.index(6)\n",
    "print('the index of 6 is : ',index_ele)"
   ]
  },
  {
   "cell_type": "markdown",
   "id": "e2dcb554-2933-4982-8692-69fdd345170a",
   "metadata": {},
   "source": [
    "Finding the frequency of an element in a list\n",
    "\n",
    "If you need to know how many times a particular element appears in a list, you can use the .count() method."
   ]
  },
  {
   "cell_type": "code",
   "execution_count": 7,
   "id": "3a1c1479-353b-4d77-bb39-9e8588dbd78c",
   "metadata": {},
   "outputs": [
    {
     "name": "stdout",
     "output_type": "stream",
     "text": [
      "4\n"
     ]
    }
   ],
   "source": [
    "my_list = ['anish','lucky','anish','anish','samad','apple','bananna','anish']\n",
    "count_list = my_list.count('anish')\n",
    "print(count_list)"
   ]
  },
  {
   "cell_type": "markdown",
   "id": "3ce198bf-e2c3-461e-9e67-b6c00ef8baf1",
   "metadata": {},
   "source": [
    "Checking whether an element or a list is present in a list\n",
    "\n",
    "You can check for the presence of an element in a list using the in operator."
   ]
  },
  {
   "cell_type": "code",
   "execution_count": 8,
   "id": "21553fcc-1d03-4d88-82ce-2363004b9bd6",
   "metadata": {},
   "outputs": [
    {
     "name": "stdout",
     "output_type": "stream",
     "text": [
      "True\n",
      "False\n"
     ]
    }
   ],
   "source": [
    "my_list = [1,2,3,4,5,6,7,8,9,10]\n",
    "is_1_present = 1 in my_list\n",
    "is_0_present = 0 in my_list\n",
    "print(is_1_present)\n",
    "print(is_0_present)"
   ]
  },
  {
   "cell_type": "markdown",
   "id": "472bb850-84eb-4d4b-a47f-02337e073799",
   "metadata": {},
   "source": [
    "Manipulating lists\n",
    "Adding elements to a list\n",
    "\n",
    "append adds the specified element to the end of the list, effectively increasing its length by one. It takes one argument, which is the element to be appended to the list."
   ]
  },
  {
   "cell_type": "code",
   "execution_count": 11,
   "id": "9f8089e0-f701-4348-a50a-d1cf0cbd92ab",
   "metadata": {},
   "outputs": [
    {
     "name": "stdout",
     "output_type": "stream",
     "text": [
      "['apple', 'banana', 'kiwi', 'orange', 'mango', 'green apple']\n"
     ]
    }
   ],
   "source": [
    "my_fruit = ['apple','banana','kiwi','orange','mango']\n",
    "my_fruit.append('green apple')\n",
    "print(my_fruit)"
   ]
  },
  {
   "cell_type": "markdown",
   "id": "442af2c7-aa8f-438f-a7b8-bc5b23875afe",
   "metadata": {},
   "source": [
    "Deleting the last element from a list\n",
    "\n",
    "The .pop() method removes the last element from a list and returns it."
   ]
  },
  {
   "cell_type": "code",
   "execution_count": 14,
   "id": "b2cb809d-896c-4a67-9798-9dcf9e52bd30",
   "metadata": {},
   "outputs": [
    {
     "name": "stdout",
     "output_type": "stream",
     "text": [
      "mango\n"
     ]
    },
    {
     "data": {
      "text/plain": [
       "['apple', 'banana', 'kiwi', 'orange']"
      ]
     },
     "execution_count": 14,
     "metadata": {},
     "output_type": "execute_result"
    }
   ],
   "source": [
    "my_fruit = ['apple','banana','kiwi','orange','mango']\n",
    "removing = my_fruit.pop() #pop function dont take any specific arrgument and pop fun firstly display and remove the last function\n",
    "print(removing)\n",
    "my_fruit"
   ]
  },
  {
   "cell_type": "markdown",
   "id": "7357104a-04a8-4745-b6c3-44b33943301e",
   "metadata": {},
   "source": [
    "Deleting an element at a specific position\n",
    "\n",
    "You can delete an element at a specific index using the del keyword."
   ]
  },
  {
   "cell_type": "code",
   "execution_count": 32,
   "id": "265926dd-0443-4c6f-958c-94372634710e",
   "metadata": {},
   "outputs": [
    {
     "name": "stdout",
     "output_type": "stream",
     "text": [
      "['apple', 'kiwi', 'orange', 'mango']\n",
      "['apple', 'kiwi', 'orange']\n"
     ]
    }
   ],
   "source": [
    "my_fruit = ['apple','banana','kiwi','orange','mango']\n",
    "del my_fruit[1] # 1 index is banana\n",
    "print(my_fruit)\n",
    "del my_fruit[3] #after remaining the del func delet the 3rd index of the remaing\n",
    "print(my_fruit)"
   ]
  },
  {
   "cell_type": "markdown",
   "id": "5e280a73-2028-4ab8-b904-d7e49b752557",
   "metadata": {},
   "source": [
    "Removing a specific element from a list\n",
    "\n",
    "You can remove a specific element from a list using the .remove() method."
   ]
  },
  {
   "cell_type": "code",
   "execution_count": 33,
   "id": "8585910f-1678-4fe5-96d8-28bab26e98be",
   "metadata": {},
   "outputs": [
    {
     "name": "stdout",
     "output_type": "stream",
     "text": [
      "['apple', 'banana', 'orange', 'mango']\n"
     ]
    }
   ],
   "source": [
    "my_fruit = ['apple','banana','kiwi','orange','mango']\n",
    "my_fruit.remove('kiwi')\n",
    "print(my_fruit)"
   ]
  },
  {
   "cell_type": "markdown",
   "id": "a879e72b-09ae-4f14-92ed-a0be56ae6503",
   "metadata": {},
   "source": [
    "finding the sum of whole element"
   ]
  },
  {
   "cell_type": "code",
   "execution_count": 34,
   "id": "d8475c76-2ee8-493a-b385-45c8fd48d019",
   "metadata": {},
   "outputs": [
    {
     "name": "stdout",
     "output_type": "stream",
     "text": [
      "55\n"
     ]
    }
   ],
   "source": [
    "my_list = [1,2,3,4,5,6,7,8,9,10]\n",
    "sum_of_ele = sum(my_list)\n",
    "print(sum_of_ele)"
   ]
  },
  {
   "cell_type": "markdown",
   "id": "9363e0b0-d993-41f8-80f1-e9adf7e6efb3",
   "metadata": {},
   "source": [
    "finding the average of whole element"
   ]
  },
  {
   "cell_type": "code",
   "execution_count": 35,
   "id": "bbee7f65-5022-451c-a9de-c82992d0b9aa",
   "metadata": {},
   "outputs": [
    {
     "name": "stdout",
     "output_type": "stream",
     "text": [
      "5.5\n"
     ]
    }
   ],
   "source": [
    "my_list = [1,2,3,4,5,6,7,8,9,10]\n",
    "avg_list = sum(my_list) / len(my_list)\n",
    "print(avg_list)"
   ]
  },
  {
   "cell_type": "raw",
   "id": "16d977b2-ea45-4336-b869-a14cd61bfd40",
   "metadata": {},
   "source": [
    "sort the list in accending order"
   ]
  },
  {
   "cell_type": "code",
   "execution_count": 37,
   "id": "f35a4d94-ca79-4578-86df-f277229236af",
   "metadata": {},
   "outputs": [
    {
     "name": "stdout",
     "output_type": "stream",
     "text": [
      "[1, 1, 2, 3, 3, 4, 4, 5, 5, 6, 6, 7, 7, 9, 9]\n",
      "None\n"
     ]
    }
   ],
   "source": [
    "my_list = [5,6,1,7,9,1,3,4,5,7,9,2,4,6,3]\n",
    "my_list.sort()\n",
    "print(my_list)\n",
    "for_reverse = my_list.sort(reverse = True)\n",
    "print(for_reverse)"
   ]
  },
  {
   "cell_type": "raw",
   "id": "be505899-aa99-4751-aa0e-f727943c9611",
   "metadata": {},
   "source": [
    "sort in decending"
   ]
  },
  {
   "cell_type": "code",
   "execution_count": 42,
   "id": "92e8e83d-342d-49fb-9f4e-e276ac48b38e",
   "metadata": {},
   "outputs": [
    {
     "name": "stdout",
     "output_type": "stream",
     "text": [
      "[9, 9, 7, 7, 6, 6, 5, 5, 4, 4, 3, 3, 2, 1, 1]\n"
     ]
    }
   ],
   "source": [
    "my_list = [5,6,1,7,9,1,3,4,5,7,9,2,4,6,3]\n",
    "my_list.sort(reverse = True)\n",
    "print(my_list)"
   ]
  },
  {
   "cell_type": "markdown",
   "id": "e3da6436-5532-48c2-9b88-5e91901f5d6a",
   "metadata": {},
   "source": [
    "Reversing a list\n",
    "\n",
    "Another way to reverse the elements in a list is the .reverse() method. This changes the list in place, meaning it changes the original list rather than creating a new one. "
   ]
  },
  {
   "cell_type": "code",
   "execution_count": 44,
   "id": "ad6c4747-8b17-4686-b352-a2f554d86137",
   "metadata": {},
   "outputs": [
    {
     "name": "stdout",
     "output_type": "stream",
     "text": [
      "[9, 9, 7, 7, 6, 6, 5, 5, 4, 4, 3, 3, 2, 1, 1]\n"
     ]
    }
   ],
   "source": [
    "my_list = [5,6,1,7,9,1,3,4,5,7,9,2,4,6,3]\n",
    "my_list.sort()\n",
    "my_list.reverse()\n",
    "print(my_list)"
   ]
  },
  {
   "cell_type": "markdown",
   "id": "726b09b0-ab32-44a7-97f6-953727844f58",
   "metadata": {},
   "source": [
    "Repeating a list\n",
    "\n",
    "If you want to repeat the elements of a list a certain number of times, you can use the multiplication operator(*)."
   ]
  },
  {
   "cell_type": "code",
   "execution_count": 45,
   "id": "62ae6e21-4c30-4ee9-9269-88cae5b2753f",
   "metadata": {},
   "outputs": [
    {
     "name": "stdout",
     "output_type": "stream",
     "text": [
      "[1, 2, 3, 1, 2, 3, 1, 2, 3]\n"
     ]
    }
   ],
   "source": [
    "my_list = [1,2,3]\n",
    "repeated_list = my_list * 3\n",
    "print(repeated_list)"
   ]
  },
  {
   "cell_type": "markdown",
   "id": "6add99fd-1dea-4599-8611-b69fcd1b9606",
   "metadata": {},
   "source": [
    "Merging two lists\n",
    "\n",
    "You can concatenate two lists simply by using the + operator or the .extend() method. The + operator is used to concatenate two lists together, creating a new list as the result. In this case, the original lists remain unchanged."
   ]
  },
  {
   "cell_type": "code",
   "execution_count": 46,
   "id": "f86583a9-8861-4772-987b-42f3aed2366a",
   "metadata": {},
   "outputs": [
    {
     "name": "stdout",
     "output_type": "stream",
     "text": [
      "[200, 300]\n"
     ]
    }
   ],
   "source": [
    "list_1 = [200]\n",
    "list_2 = [300]\n",
    "final_list = list_1 + list_2\n",
    "print(final_list)"
   ]
  },
  {
   "cell_type": "markdown",
   "id": "1f405949-08e8-42ea-af65-6fffccc6e33e",
   "metadata": {},
   "source": [
    "On the other hand, the .extend() method is used to append all the elements from another iterable (such as a list) to the end of a list. It modifies the original list in place, meaning it changes the original list rather than creating a new one.\n",
    "\n",
    "\n",
    "It takes a single argument, which is an iterable (typically another list), and adds its elements to the end of the list."
   ]
  },
  {
   "cell_type": "code",
   "execution_count": 47,
   "id": "5733c7f0-7645-4d2f-8963-9f1cef5a6b87",
   "metadata": {},
   "outputs": [
    {
     "name": "stdout",
     "output_type": "stream",
     "text": [
      "[200, 300]\n"
     ]
    }
   ],
   "source": [
    "list_1 = [200]\n",
    "list_2 = [300]\n",
    "list_1.extend(list_2)\n",
    "print(list_1)"
   ]
  },
  {
   "cell_type": "markdown",
   "id": "0a05bc73-6f5d-47a3-8bb9-3b26fd378756",
   "metadata": {},
   "source": [
    "Joining substrings\n",
    "\n",
    "Combining substrings into a single string is a common requirement in Python, often achieved using the .join() method. This method takes an iterable, such as a list of strings, and concatenates its elements separated by a string separator.\n",
    "In this example, we demonstrate how to reassemble a list of words into a full sentence, separated by spaces, using .join()."
   ]
  },
  {
   "cell_type": "code",
   "execution_count": 53,
   "id": "32db98b7-dcf8-43bd-bec2-24798d27867c",
   "metadata": {},
   "outputs": [
    {
     "name": "stdout",
     "output_type": "stream",
     "text": [
      "['hi', 'my', 'name', 'is', 'ansih', 'verma']\n",
      "hi my name is ansih verma\n"
     ]
    }
   ],
   "source": [
    "my_string = 'hi my name is ansih verma '\n",
    "split_str = my_string.split()\n",
    "print(split_str)\n",
    "join_list_ele = ' '.join(split_str)\n",
    "print(join_list_ele)\n"
   ]
  },
  {
   "cell_type": "code",
   "execution_count": null,
   "id": "d99e2e26-8d07-48bb-a97b-765c21220578",
   "metadata": {},
   "outputs": [],
   "source": [
    "CLEAR FUNCTION FOR EMPTY LIST"
   ]
  },
  {
   "cell_type": "code",
   "execution_count": 54,
   "id": "9e312297-2922-4579-8959-79f23c0a6360",
   "metadata": {},
   "outputs": [
    {
     "name": "stdout",
     "output_type": "stream",
     "text": [
      "[]\n"
     ]
    }
   ],
   "source": [
    "my_list = [1,2,3,4,5,6,7,8,9,10]\n",
    "my_list.clear()\n",
    "print(my_list)"
   ]
  },
  {
   "cell_type": "markdown",
   "id": "7a18bad7-c93f-4f58-a589-7d67f2614e74",
   "metadata": {},
   "source": [
    "INSER FUNCTION"
   ]
  },
  {
   "cell_type": "code",
   "execution_count": 56,
   "id": "84b5f8a7-eb84-4989-bcb7-4d2dfc43ef71",
   "metadata": {},
   "outputs": [
    {
     "name": "stdout",
     "output_type": "stream",
     "text": [
      "[1, 2, 3, 4, 5, 6, 7, 8, 9, 10]\n"
     ]
    }
   ],
   "source": [
    "my_list = [1,2,3,4,5,7,8,9,10] # i forget 6\n",
    "my_list.insert(5,6) #in insert fuction first you pass the place where want to insert and then pass the value you want\n",
    "print(my_list)"
   ]
  },
  {
   "cell_type": "code",
   "execution_count": null,
   "id": "ea289b8d-d60b-4d44-a252-5d78a881bae9",
   "metadata": {},
   "outputs": [],
   "source": [
    "DICTIONARY"
   ]
  },
  {
   "cell_type": "markdown",
   "id": "47279824-0677-4e94-b818-c30e281896d8",
   "metadata": {},
   "source": [
    "# Dictionaries\n",
    "\n",
    "Dictionaries are mutable and unordered collections of key-value pairs. They are one of the built-in data types in Python and are incredibly versatile for storing and organising data efficiently. You can think of them like a real-life dictionary, where you look up a word (the key) to find its definition (the value). Let’s explore the various ways you can create dictionaries."
   ]
  },
  {
   "cell_type": "code",
   "execution_count": 62,
   "id": "57f4e6a4-5b00-4d23-8cf9-537dec299ed1",
   "metadata": {},
   "outputs": [
    {
     "name": "stdout",
     "output_type": "stream",
     "text": [
      "{'NAME': ['anish', 'lucky', 'samad', 'kaif'], 'age': [22, 23, 24, 56]}\n"
     ]
    }
   ],
   "source": [
    "my_dic = {'NAME':['anish','lucky','samad','kaif'],'age':[22 , 23,24,56]}\n",
    "print(my_dic)"
   ]
  },
  {
   "cell_type": "code",
   "execution_count": 65,
   "id": "ab7480c5-f46e-48be-9c39-b0f3c0665f88",
   "metadata": {},
   "outputs": [
    {
     "name": "stdout",
     "output_type": "stream",
     "text": [
      "{'name': 'anish', 'age': 45, 'salary': 4000.15, 'married': True}\n",
      "<class 'dict'>\n"
     ]
    }
   ],
   "source": [
    "diffValue_dict = {\n",
    "    'name':'anish',\n",
    "    'age': 45,\n",
    "    'salary':4000.15,\n",
    "    'married':True\n",
    "}\n",
    "print(diffValue_dict)\n",
    "print(type(diffValue_dict))"
   ]
  },
  {
   "cell_type": "markdown",
   "id": "4f4fbc37-1239-4afd-bdb3-b525087ebebf",
   "metadata": {},
   "source": [
    "Accessing specific values from dictionaries\n",
    "\n",
    "You can access the value associated with a specific key directly using square brackets []. Let’s see an example of accessing an item from a dictionary.\n",
    "\n"
   ]
  },
  {
   "cell_type": "code",
   "execution_count": 3,
   "id": "c2dc711c-0bc7-4739-bc88-030644dab1ad",
   "metadata": {},
   "outputs": [
    {
     "name": "stdout",
     "output_type": "stream",
     "text": [
      "anish\n"
     ]
    }
   ],
   "source": [
    "my_dict = {\n",
    "    'name':'anish',\n",
    "    'age': '22'\n",
    "}\n",
    "value_f_dict = my_dict['name'] #use list for accessing valuee\n",
    "print(value_f_dict)"
   ]
  },
  {
   "cell_type": "code",
   "execution_count": 6,
   "id": "64651d3a-0c51-4721-968e-2ae5b9f3960b",
   "metadata": {},
   "outputs": [
    {
     "name": "stdout",
     "output_type": "stream",
     "text": [
      "anish\n",
      "22\n"
     ]
    }
   ],
   "source": [
    "my_dict = {\n",
    "    'name':'anish',\n",
    "    'age': 22\n",
    "}\n",
    "my_name = my_dict.get('name')\n",
    "my_age = my_dict.get('age')\n",
    "print(my_name)\n",
    "print(my_age)"
   ]
  },
  {
   "cell_type": "markdown",
   "id": "a16b565b-a606-40cd-a338-ea1fd5194853",
   "metadata": {},
   "source": [
    "Accessing values in nested dictionaries\n",
    "\n",
    "Accessing values in nested dictionaries involves navigating through the layers of the dictionary by using the keys at each level to retrieve the desired value. Let's say we have the following dictionary."
   ]
  },
  {
   "cell_type": "code",
   "execution_count": 8,
   "id": "510969b9-654e-4582-b4e7-4baad0454631",
   "metadata": {},
   "outputs": [
    {
     "name": "stdout",
     "output_type": "stream",
     "text": [
      "22\n"
     ]
    }
   ],
   "source": [
    "my_dict ={\n",
    "    'var_1': {'name':'anish','age':22},\n",
    "    'var' : {'name':'div','age':20}\n",
    "}\n",
    "ac_v1 = my_dict['var_1']['age']\n",
    "print(ac_v1)"
   ]
  },
  {
   "cell_type": "markdown",
   "id": "54433f6e-80b3-490c-baca-0b6242190f63",
   "metadata": {},
   "source": [
    "finding the length of dictionary"
   ]
  },
  {
   "cell_type": "code",
   "execution_count": 9,
   "id": "7a879ad5-82dc-4f10-ac0c-958955597b9e",
   "metadata": {},
   "outputs": [
    {
     "name": "stdout",
     "output_type": "stream",
     "text": [
      "2\n"
     ]
    }
   ],
   "source": [
    "my_dict = {\n",
    "    'name':'anish',\n",
    "    'age':22\n",
    "}\n",
    "len_dict = len(my_dict)\n",
    "print(len_dict)"
   ]
  },
  {
   "cell_type": "markdown",
   "id": "43ff5592-63ec-4f06-a121-0ca88fda1e37",
   "metadata": {},
   "source": [
    "Retrieving keys\n",
    "\n",
    "You can get all the keys from a dictionary using the .keys() method. The .keys() method in Python dictionaries returns a view object that displays a list of all the keys in the dictionary. It does not create a new list but provides a dynamic view of the dictionary's keys. Here's how it works."
   ]
  },
  {
   "cell_type": "code",
   "execution_count": 10,
   "id": "afc68874-2b24-4da5-acbe-a37553b9dfce",
   "metadata": {},
   "outputs": [
    {
     "name": "stdout",
     "output_type": "stream",
     "text": [
      "dict_keys(['name', 'age'])\n"
     ]
    }
   ],
   "source": [
    "my_dict = {\n",
    "    'name':'anish',\n",
    "    'age':22\n",
    "}\n",
    "key = my_dict.keys()\n",
    "print(key)"
   ]
  },
  {
   "cell_type": "markdown",
   "id": "9475e537-557b-4673-8507-396e760d9d51",
   "metadata": {},
   "source": [
    "Retrieving values\n",
    "\n",
    "Similarly, to get all the values from a dictionary, you use the .values() method. The .values() method in Python dictionaries returns a view object that displays a list of all the values in the dictionary. Like .keys(), It does not create a new list; rather, it provides a dynamic view of the dictionary's values. Here's how it works."
   ]
  },
  {
   "cell_type": "code",
   "execution_count": 13,
   "id": "fb469ed8-e23b-4b5b-9eb3-cd1358b66c9d",
   "metadata": {},
   "outputs": [
    {
     "name": "stdout",
     "output_type": "stream",
     "text": [
      "dict_values(['anish', 22])\n"
     ]
    }
   ],
   "source": [
    "my_dict = {\n",
    "    'name':'anish',\n",
    "    'age':22\n",
    "}\n",
    "value = my_dict.values()\n",
    "print(value)"
   ]
  },
  {
   "cell_type": "markdown",
   "id": "de0de9cc-0b88-458a-aed5-1427de142ed6",
   "metadata": {},
   "source": [
    "Obtaining keys corresponding to specific values from a dictionary\n",
    "\n",
    "The .index() method in Python is used to find the index of the first occurrence of a specified value within a list. It is a built-in method available for sequences like lists. The method returns the index of the item if found, or it raises a ValueError if the item is not present in the list. \n",
    "\n"
   ]
  },
  {
   "cell_type": "code",
   "execution_count": 26,
   "id": "299f94e3-6963-4a5f-9bb5-d2f1470362d0",
   "metadata": {},
   "outputs": [
    {
     "name": "stdout",
     "output_type": "stream",
     "text": [
      "['anish', 22, 14500.22, True, ('bca', 'copa')]\n",
      "['name', 'age', 'salary', 'married', 'qualification']\n",
      "0\n",
      "name\n"
     ]
    }
   ],
   "source": [
    "my_dict = {\n",
    "    'name':'anish',\n",
    "    'age':22,\n",
    "    'salary':14500.22,\n",
    "    'married': True,\n",
    "    'qualification':('bca','copa')\n",
    "}\n",
    "key = list(my_dict.keys())\n",
    "value = list(my_dict.values())\n",
    "index = value.index('anish')\n",
    "req_key = key[index]\n",
    "print(value)\n",
    "print(key)\n",
    "print(index)\n",
    "print(req_key)\n"
   ]
  },
  {
   "cell_type": "markdown",
   "id": "8fe519c8-6ecb-4da7-8c38-9927436ab4b8",
   "metadata": {},
   "source": [
    "Comparing dictionaries\n",
    "\n",
    "You can compare dictionaries directly to check if they have identical keys and values. The easiest way to check if two dictionaries are the same (both keys and values) is by using the equality operator (==). A single equals sign (=) is the assignment operator in Python, which can be used to store values in variables, whereas the double equals sign (==) checks for equality and returns a boolean value (True or False).\n"
   ]
  },
  {
   "cell_type": "code",
   "execution_count": 27,
   "id": "2c391eae-3d68-4de1-98f2-6ea334a4d536",
   "metadata": {},
   "outputs": [
    {
     "name": "stdout",
     "output_type": "stream",
     "text": [
      "{'name': 'anish', 'age': 25}\n",
      "{'name': 'samad', 'age': 27}\n",
      "False\n"
     ]
    }
   ],
   "source": [
    "dict_1 ={\n",
    "    'name':'anish',\n",
    "    'age':25\n",
    "}\n",
    "dict_2={\n",
    "    'name':'samad',\n",
    "    'age':27\n",
    "}\n",
    "comp_dict = dict_1 == dict_2\n",
    "print(dict_1)\n",
    "print(dict_2)\n",
    "print(comp_dict)"
   ]
  },
  {
   "cell_type": "markdown",
   "id": "dfc9d032-b4d0-46b4-9033-919575cc4acb",
   "metadata": {},
   "source": [
    "## Manipulating dictionaries\n",
    "Manipulating dictionaries in Python involves various operations to add, update, remove, or retrieve elements. Here are some common operations.\n",
    "\n",
    "\n",
    "\n",
    "Adding new key-value pairs to dictionaries\n",
    "\n",
    "You can expand a dictionary by adding new entries. Adding new key-value pairs to a dictionary in Python is straightforward. You can do it by simply assigning a new value to a new key in the dictionary. Here's an example.\n",
    "\n"
   ]
  },
  {
   "cell_type": "code",
   "execution_count": 30,
   "id": "da3269b4-8903-4048-9633-c7f8680170c4",
   "metadata": {},
   "outputs": [
    {
     "name": "stdout",
     "output_type": "stream",
     "text": [
      "{'name': 'anish', 'age': 45, 'course': 'bca'}\n"
     ]
    }
   ],
   "source": [
    "my_dict = {\n",
    "    'name':'anish',\n",
    "    'age':45\n",
    "}\n",
    "my_dict['course'] = 'bca'\n",
    "print(my_dict)"
   ]
  },
  {
   "cell_type": "markdown",
   "id": "db0b1ab4-5074-485b-8ee2-223e3a925a56",
   "metadata": {},
   "source": [
    "#### update function"
   ]
  },
  {
   "cell_type": "code",
   "execution_count": 32,
   "id": "3f1c09e2-f124-4042-ac25-7a1d0f9bb3f6",
   "metadata": {},
   "outputs": [
    {
     "name": "stdout",
     "output_type": "stream",
     "text": [
      "{'name': 'anish', 'age': 45, 'course': 'bca', 'college': 'ignou'}\n"
     ]
    }
   ],
   "source": [
    "my_dict = {\n",
    "    'name':'anish',\n",
    "    'age':45\n",
    "}\n",
    "my_dict.update({'course':'bca','college':'ignou'})\n",
    "print(my_dict)"
   ]
  },
  {
   "cell_type": "markdown",
   "id": "563abaf6-3b79-4635-bda5-7cc99e5a6b8a",
   "metadata": {},
   "source": [
    "If any of the keys already exist in the original dictionary, their values will be updated to the new ones.\n",
    "\n"
   ]
  },
  {
   "cell_type": "code",
   "execution_count": 33,
   "id": "bbc99cd0-3c1e-44d7-a900-6eae94644a29",
   "metadata": {},
   "outputs": [
    {
     "name": "stdout",
     "output_type": "stream",
     "text": [
      "{'name': 'khushi', 'age': 45, 'course': 'ba'}\n"
     ]
    }
   ],
   "source": [
    "my_dict = {\n",
    "    'name':'anish',\n",
    "    'age':45\n",
    "}\n",
    "my_dict.update({'name':'khushi','course':'ba'})\n",
    "print(my_dict)"
   ]
  },
  {
   "cell_type": "markdown",
   "id": "6a1cc4d5-9857-41db-9690-43ce7e24e91f",
   "metadata": {},
   "source": [
    "setitem function is used for single pair of key value its used for enter the value in dictionary "
   ]
  },
  {
   "cell_type": "code",
   "execution_count": 34,
   "id": "442e0eec-a247-49b4-a194-b98a8f4bddbf",
   "metadata": {},
   "outputs": [
    {
     "name": "stdout",
     "output_type": "stream",
     "text": [
      "{'name': 'anish', 'age': 45, 'eyescolor': 'brown'}\n"
     ]
    }
   ],
   "source": [
    "my_dict = {\n",
    "    'name':'anish',\n",
    "    'age':45\n",
    "}\n",
    "my_dict.__setitem__('eyescolor','brown')\n",
    "print(my_dict)"
   ]
  },
  {
   "cell_type": "markdown",
   "id": "2a994713-180f-4bcd-ba70-b087db1ef60e",
   "metadata": {},
   "source": [
    "diference btw pop and del function"
   ]
  },
  {
   "cell_type": "code",
   "execution_count": 41,
   "id": "5d0df894-99c3-42f6-8011-931a8135a198",
   "metadata": {},
   "outputs": [
    {
     "name": "stdout",
     "output_type": "stream",
     "text": [
      "45\n",
      "{'eyecolor': 'brown'}\n"
     ]
    }
   ],
   "source": [
    "my_dict = {\n",
    "    'name':'anish',\n",
    "    'age':45,\n",
    "    'eyecolor':'brown'\n",
    "}\n",
    "pop_dict = my_dict.pop('age')\n",
    "del my_dict ['name']\n",
    "print(pop_dict)\n",
    "print(my_dict)"
   ]
  },
  {
   "cell_type": "markdown",
   "id": "3fc1ff1a-0fd6-4678-ada2-475643be093f",
   "metadata": {},
   "source": [
    "Merging dictionaries\n",
    "\n",
    "Two or more dictionaries can be merged into one. If you want to merge the second dictionary into the first one, modifying it in place, you can use the update() method.\n",
    "\n"
   ]
  },
  {
   "cell_type": "code",
   "execution_count": 42,
   "id": "bb899398-3b5a-49e0-8aaa-7ad0212828df",
   "metadata": {},
   "outputs": [
    {
     "name": "stdout",
     "output_type": "stream",
     "text": [
      "{'name': 'anish', 'age': 45, 'eyecolor': 'brown', 'course': 'bca', 'collage': 'ignou'}\n"
     ]
    }
   ],
   "source": [
    "my_dict = {\n",
    "    'name':'anish',\n",
    "    'age':45,\n",
    "    'eyecolor':'brown'\n",
    "}\n",
    "my_dict2 = {\n",
    "    'course':'bca',\n",
    "    'collage':'ignou'\n",
    "}\n",
    "my_dict.update(my_dict2)\n",
    "print(my_dict)"
   ]
  },
  {
   "cell_type": "markdown",
   "id": "7fee96b8-6804-43fa-9bd9-a7f8287891da",
   "metadata": {},
   "source": [
    "You can also use the ** operator, which unpacks the contents of dictionaries into a new dictionary. Here is an example."
   ]
  },
  {
   "cell_type": "code",
   "execution_count": 44,
   "id": "db6c87e3-8cc6-4303-8381-0f72f8716047",
   "metadata": {},
   "outputs": [
    {
     "name": "stdout",
     "output_type": "stream",
     "text": [
      "{'name': 'anish', 'age': 45, 'eyecolor': 'brown', 'course': 'bca', 'collage': 'ignou'}\n"
     ]
    }
   ],
   "source": [
    "my_dict = {\n",
    "    'name':'anish',\n",
    "    'age':45,\n",
    "    'eyecolor':'brown'\n",
    "}\n",
    "my_dict2 = {\n",
    "    'course':'bca',\n",
    "    'collage':'ignou'\n",
    "}\n",
    "merge_dict = {**my_dict,**my_dict2}\n",
    "print(merge_dict)"
   ]
  },
  {
   "cell_type": "markdown",
   "id": "c9ce2776-877e-452d-9a44-03d145178ae4",
   "metadata": {},
   "source": [
    "Removing all items from a dictionary\n",
    "\n",
    "The most straightforward methods to remove all items from a dictionary include using the .clear() method or reassigning the dictionary to an empty dictionary. Here's how you can do it. "
   ]
  },
  {
   "cell_type": "code",
   "execution_count": 45,
   "id": "28307e7c-4fee-46ea-8e85-2bc2277484d4",
   "metadata": {},
   "outputs": [
    {
     "name": "stdout",
     "output_type": "stream",
     "text": [
      "{}\n"
     ]
    }
   ],
   "source": [
    "my_dict = {\n",
    "    'name':'anish',\n",
    "    'age':45,\n",
    "    'eyecolor':'brown'\n",
    "}\n",
    "my_dict.clear()\n",
    "print(my_dict)"
   ]
  },
  {
   "cell_type": "markdown",
   "id": "e45c74f5-4f2c-44fb-ac1a-e77a8efc7c64",
   "metadata": {},
   "source": [
    "You can also reassign the variable to a new, empty dictionary. This effectively removes all items."
   ]
  },
  {
   "cell_type": "code",
   "execution_count": 46,
   "id": "2b4bcf41-4406-4715-a00a-56dde06755af",
   "metadata": {},
   "outputs": [
    {
     "name": "stdout",
     "output_type": "stream",
     "text": [
      "{}\n"
     ]
    }
   ],
   "source": [
    "my_dict = {\n",
    "    'name':'anish',\n",
    "    'age':45,\n",
    "    'eyecolor':'brown'\n",
    "}\n",
    "my_dict = {}\n",
    "print(my_dict)"
   ]
  },
  {
   "cell_type": "markdown",
   "id": "3ccedd67-cb9f-4b77-ae07-0875f2504389",
   "metadata": {},
   "source": [
    "Making a copy of a dictionary\n",
    "\n",
    "To make a separate copy of a dictionary, use the .copy() method. This method creates a new dictionary, which is filled with a copy of the references from the original dictionary."
   ]
  },
  {
   "cell_type": "code",
   "execution_count": 47,
   "id": "a3dffcac-df3d-4cca-bd55-b04f08a686d5",
   "metadata": {},
   "outputs": [
    {
     "name": "stdout",
     "output_type": "stream",
     "text": [
      "{'name': 'anish', 'age': 45, 'eyecolor': 'brown'}\n"
     ]
    }
   ],
   "source": [
    "my_dict = {\n",
    "    'name':'anish',\n",
    "    'age':45,\n",
    "    'eyecolor':'brown'\n",
    "}\n",
    "copy_dict = my_dict.copy()\n",
    "print(copy_dict)"
   ]
  },
  {
   "cell_type": "markdown",
   "id": "a473eb25-de2e-470e-a2c1-39fa480b0596",
   "metadata": {},
   "source": [
    "Mathematical and statistical operations\n",
    "\n",
    "\n",
    "Summation of values in a dictionary\n",
    "\n",
    "To find the sum of all values in a dictionary, assuming all your values are numerical (like integers or floats), you can use the sum() function along with the .values() method of the dictionary. Here's an example to illustrate this."
   ]
  },
  {
   "cell_type": "code",
   "execution_count": 51,
   "id": "8795d194-7ba1-48b7-8157-597344384dc3",
   "metadata": {},
   "outputs": [
    {
     "name": "stdout",
     "output_type": "stream",
     "text": [
      "3700\n"
     ]
    }
   ],
   "source": [
    "expense = {\n",
    "    'phone recharege':1200,\n",
    "    'gym fees': 1500,\n",
    "    'petrol':1000\n",
    "}\n",
    "sum_fodict = sum(expense.values())\n",
    "print(sum_fodict)"
   ]
  },
  {
   "cell_type": "markdown",
   "id": "af3dae1c-8125-451c-9cea-c057a3340fef",
   "metadata": {},
   "source": [
    "Maximum and minimum values in a dictionary\n",
    "\n",
    "To find the maximum and minimum values in a dictionary, you can use Python's built-in functions max() and min(), respectively. \n",
    "\n"
   ]
  },
  {
   "cell_type": "code",
   "execution_count": 52,
   "id": "87274809-c668-46bd-871b-0a14a03e5e81",
   "metadata": {},
   "outputs": [
    {
     "name": "stdout",
     "output_type": "stream",
     "text": [
      "1500\n"
     ]
    }
   ],
   "source": [
    "expense = {\n",
    "    'phone recharege':1200,\n",
    "    'gym fees': 1500,\n",
    "    'petrol':1000\n",
    "}\n",
    "max_dict = max(expense.values())\n",
    "print(max_dict)"
   ]
  },
  {
   "cell_type": "markdown",
   "id": "08042721-a5ef-4495-8c7e-f0019b592c86",
   "metadata": {},
   "source": [
    "Sorting dictionary keys and values\n",
    "\n",
    "You can use the sorted() function on the dictionary to get a sorted list of keys and values.\n",
    "\n"
   ]
  },
  {
   "cell_type": "code",
   "execution_count": 54,
   "id": "52556753-7abf-499b-baff-66330b1ecda4",
   "metadata": {},
   "outputs": [
    {
     "name": "stdout",
     "output_type": "stream",
     "text": [
      "['gym fees', 'petrol', 'phone recharege']\n",
      "[1500, 1200, 1000]\n"
     ]
    }
   ],
   "source": [
    "expense = {\n",
    "    'phone recharege':1200,\n",
    "    'gym fees': 1500,\n",
    "    'petrol':1000\n",
    "}\n",
    "sort_key = sorted(expense.keys())\n",
    "sort_value = sorted(expense.values(),reverse = True)\n",
    "print(sort_key)\n",
    "print(sort_value)"
   ]
  },
  {
   "cell_type": "markdown",
   "id": "b118e05b-3c9c-41f3-8964-773985d220fc",
   "metadata": {},
   "source": [
    "Creating dictionaries with common default values using the .fromkeys() method\n",
    "\n",
    "The .fromkeys() method creates a new dictionary from a given sequence of items, assigning each item as a key and a common default value to all keys. Using .fromkeys() allows you to initialise a dictionary efficiently, especially when dealing with uniform initial values across many keys."
   ]
  },
  {
   "cell_type": "code",
   "execution_count": 56,
   "id": "b5ab79ad-6057-4dcc-91f5-7fe52ebd2af9",
   "metadata": {},
   "outputs": [
    {
     "name": "stdout",
     "output_type": "stream",
     "text": [
      "{'b': {10, 20, 30}, 'a': {10, 20, 30}, 'c': {10, 20, 30}}\n"
     ]
    }
   ],
   "source": [
    "a = {'a','b','c'}\n",
    "b = {10,20,30} # its goes to all the key\n",
    "new_dict = dict.fromkeys(a,b)\n",
    "print(new_dict)"
   ]
  },
  {
   "cell_type": "markdown",
   "id": "34a8c40d-59e7-4aef-9a7b-5be6af446bb0",
   "metadata": {},
   "source": [
    "# Tuples\n",
    "Tuples are built-in data structures used to store ordered collections of items. They are similar to lists but are immutable, meaning that, once created, their items cannot be changed, added, or removed. This immutability makes tuples a preferable choice for storing data that needs to remain unchanged throughout the lifetime of a program. Now, let's explore the various ways of creating tuples."
   ]
  },
  {
   "cell_type": "markdown",
   "id": "d3624b47-47e5-48cf-905c-3aca4e32b6a3",
   "metadata": {},
   "source": [
    "\n",
    "Creating empty tuples\n",
    "\n",
    "An empty tuple can be created by assigning an empty pair of parentheses to a variable. Here's how you can create one.\n",
    "\n"
   ]
  },
  {
   "cell_type": "code",
   "execution_count": 2,
   "id": "d330cc4a-eae8-4376-a0dd-d87a3d10ada7",
   "metadata": {},
   "outputs": [
    {
     "name": "stdout",
     "output_type": "stream",
     "text": [
      "thish is a empty tuple:::: ()\n"
     ]
    }
   ],
   "source": [
    "my_tuple = ()\n",
    "print('thish is a empty tuple::::',my_tuple)"
   ]
  },
  {
   "cell_type": "code",
   "execution_count": 4,
   "id": "a00a24a6-c04e-406b-9be8-9d0834d4c591",
   "metadata": {},
   "outputs": [
    {
     "name": "stdout",
     "output_type": "stream",
     "text": [
      "('red', 'yellow', 'grenn')\n"
     ]
    },
    {
     "data": {
      "text/plain": [
       "tuple"
      ]
     },
     "execution_count": 4,
     "metadata": {},
     "output_type": "execute_result"
    }
   ],
   "source": [
    "color_tp = ('red','yellow','grenn')\n",
    "print(color_tp)\n",
    "type(color_tp)"
   ]
  },
  {
   "cell_type": "markdown",
   "id": "3e718d2d-7b7e-4d74-820d-3997d32015c5",
   "metadata": {},
   "source": [
    "You can convert a string to a tuple by passing the string as an argument to the tuple() constructor."
   ]
  },
  {
   "cell_type": "code",
   "execution_count": 5,
   "id": "eb873fad-ef39-473a-8417-d7f638085fd0",
   "metadata": {},
   "outputs": [
    {
     "name": "stdout",
     "output_type": "stream",
     "text": [
      "('a', 'n', 'i', 's', 'h')\n"
     ]
    }
   ],
   "source": [
    "my_str = 'anish'\n",
    "tuple_maker = tuple(my_str)\n",
    "print(tuple_maker)"
   ]
  },
  {
   "cell_type": "markdown",
   "id": "4e8cff6c-a57a-4a1d-90a3-9fad4268b3a3",
   "metadata": {},
   "source": [
    "Creating tuples by combining two iterables\n",
    "\n",
    "The zip() function combines items from two or more iterables (such as lists, tuples, etc.) into tuples, with each tuple containing items from all the iterables based on their position. When used with exactly two iterables, the resulting tuples are pairs, which are tuples of two items. "
   ]
  },
  {
   "cell_type": "code",
   "execution_count": 7,
   "id": "f435f8e3-4dd0-42e6-92e1-2b55dfcea6a8",
   "metadata": {},
   "outputs": [
    {
     "name": "stdout",
     "output_type": "stream",
     "text": [
      "((1, 'a'), (2, 'b'), (3, 'c'))\n"
     ]
    }
   ],
   "source": [
    "list1 = [1,2,3]\n",
    "list2 = ['a','b','c']\n",
    "zipped = tuple(zip(list1,list2))\n",
    "print(zipped)"
   ]
  },
  {
   "cell_type": "markdown",
   "id": "9b118b92-d77b-4158-b0b0-e82d308f1c8f",
   "metadata": {},
   "source": [
    "Indexing items inside a nested tuple\n",
    "\n",
    "For nested tuples, you can access inner items by using multiple indices. Here is an example."
   ]
  },
  {
   "cell_type": "code",
   "execution_count": 9,
   "id": "ce995e40-5e24-49b3-b419-e184758b30c7",
   "metadata": {},
   "outputs": [
    {
     "name": "stdout",
     "output_type": "stream",
     "text": [
      "3\n"
     ]
    }
   ],
   "source": [
    "tuple1 = ((1,2),(3,4))\n",
    "indexing = tuple1[1][0]\n",
    "print(indexing)"
   ]
  },
  {
   "cell_type": "markdown",
   "id": "842722e7-f96f-4a68-92ad-692bf53e677e",
   "metadata": {},
   "source": [
    "Slicing items from a tuple\n",
    "\n",
    "As you remember from strings, the syntax for slicing is string_variable[start:stop:step]. In the syntax, start is the index where the slice begins, stop is the index where the slice ends, but it's not included in the result,  and step is the interval between each character to be included in the slice. Here is an example.\n",
    "\n"
   ]
  },
  {
   "cell_type": "code",
   "execution_count": 13,
   "id": "f8486cfb-d30c-45ba-a018-c3bfdd14abc7",
   "metadata": {},
   "outputs": [
    {
     "name": "stdout",
     "output_type": "stream",
     "text": [
      "('yellow', 'green', 'blue')\n",
      "('blue', 'green', 'yellow')\n"
     ]
    }
   ],
   "source": [
    "tuples = ('red','yellow','green','blue','black')\n",
    "slicing = tuples[1:4:1]\n",
    "slic_2 = tuples[3:0:-1]\n",
    "print(slicing)\n",
    "print(slic_2)"
   ]
  },
  {
   "cell_type": "markdown",
   "id": "517e9359-58c7-4b8d-9e71-072404633c4f",
   "metadata": {},
   "source": [
    "Finding lengths of tuples\n",
    "\n",
    "The len() function takes a collection (such as a string, list, or tuple) as its argument and returns the number of items in that collection. Here's how you use len() to find the length of tuples.\n",
    "\n"
   ]
  },
  {
   "cell_type": "code",
   "execution_count": 14,
   "id": "f6dd4949-5eb0-4c7f-a245-52c4dfabf112",
   "metadata": {},
   "outputs": [
    {
     "name": "stdout",
     "output_type": "stream",
     "text": [
      "5\n"
     ]
    }
   ],
   "source": [
    "tuples = ('red','yellow','green','blue','black')\n",
    "length = len(tuples)\n",
    "print(length)"
   ]
  },
  {
   "cell_type": "code",
   "execution_count": 15,
   "id": "9c6e83bf-eeb8-49ae-b6dd-e5e988548d5e",
   "metadata": {},
   "outputs": [
    {
     "name": "stdout",
     "output_type": "stream",
     "text": [
      "5\n"
     ]
    }
   ],
   "source": [
    "nested_tuple = (1, 2, (3, 4), [5, 6], 'Hello')\n",
    "print(len(nested_tuple))\n"
   ]
  },
  {
   "cell_type": "markdown",
   "id": "b7c4b09d-a694-452c-b4cf-a034274115bd",
   "metadata": {},
   "source": [
    "Checking the presence or absence of items in tuples\n",
    "\n",
    "To check the presence or absence of items in tuples, you can use the in and not in operators. These operators are intuitive and efficient for determining whether an item exists within a tuple. \n",
    "\n"
   ]
  },
  {
   "cell_type": "code",
   "execution_count": 17,
   "id": "75343940-cd3a-4d11-b42e-d1c948bc6db6",
   "metadata": {},
   "outputs": [
    {
     "name": "stdout",
     "output_type": "stream",
     "text": [
      "True\n",
      "False\n"
     ]
    }
   ],
   "source": [
    "tuples = ('red','yellow','green','blue','black')\n",
    "print('red'in tuples)\n",
    "print('yellow' not in tuples)"
   ]
  },
  {
   "cell_type": "markdown",
   "id": "ad82aecd-bdf1-451b-96b4-777596e87b21",
   "metadata": {},
   "source": [
    "If the item you're looking for is not in the tuple, it will raise a ValueError. \n",
    "\n"
   ]
  },
  {
   "cell_type": "code",
   "execution_count": 18,
   "id": "d1ff9bc1-f782-48cb-8f8e-45a5e5a86403",
   "metadata": {},
   "outputs": [
    {
     "ename": "ValueError",
     "evalue": "tuple.index(x): x not in tuple",
     "output_type": "error",
     "traceback": [
      "\u001b[1;31m---------------------------------------------------------------------------\u001b[0m",
      "\u001b[1;31mValueError\u001b[0m                                Traceback (most recent call last)",
      "Cell \u001b[1;32mIn[18], line 2\u001b[0m\n\u001b[0;32m      1\u001b[0m color_tuple \u001b[38;5;241m=\u001b[39m (\u001b[38;5;124m'\u001b[39m\u001b[38;5;124mred\u001b[39m\u001b[38;5;124m'\u001b[39m, \u001b[38;5;124m'\u001b[39m\u001b[38;5;124mgreen\u001b[39m\u001b[38;5;124m'\u001b[39m, \u001b[38;5;124m'\u001b[39m\u001b[38;5;124mblue\u001b[39m\u001b[38;5;124m'\u001b[39m)\n\u001b[1;32m----> 2\u001b[0m \u001b[38;5;28mprint\u001b[39m(color_tuple\u001b[38;5;241m.\u001b[39mindex(\u001b[38;5;124m'\u001b[39m\u001b[38;5;124myellow\u001b[39m\u001b[38;5;124m'\u001b[39m))\n",
      "\u001b[1;31mValueError\u001b[0m: tuple.index(x): x not in tuple"
     ]
    }
   ],
   "source": [
    "color_tuple = ('red', 'green', 'blue')\n",
    "print(color_tuple.index('yellow'))  # so we do unpacking the tuple first"
   ]
  },
  {
   "cell_type": "markdown",
   "id": "d2ff2859-e9f0-4fc2-9ba6-58514bd9572c",
   "metadata": {},
   "source": [
    "Unpacking tuples\n",
    "\n",
    "When assigning values from a tuple to variables, commas are used to separate the variables. This process, known as unpacking, allows for parallel assignment. Take a look at the example below.\n",
    "\n"
   ]
  },
  {
   "cell_type": "code",
   "execution_count": 20,
   "id": "2c80eed9-f523-4b5e-b83f-cb00b5651ae8",
   "metadata": {},
   "outputs": [
    {
     "name": "stdout",
     "output_type": "stream",
     "text": [
      "red\n",
      "green\n",
      "blue\n"
     ]
    }
   ],
   "source": [
    "color_tuple = ('red', 'green', 'blue')\n",
    "a,b,c = color_tuple\n",
    "print(a)\n",
    "print(b)\n",
    "print(c)"
   ]
  },
  {
   "cell_type": "markdown",
   "id": "8a6d7993-a2dd-4154-8142-8023c427b613",
   "metadata": {},
   "source": [
    "so if you give extra value for unpacking it show error"
   ]
  },
  {
   "cell_type": "code",
   "execution_count": 21,
   "id": "6890595c-0f28-4f00-8042-139446c1b319",
   "metadata": {},
   "outputs": [
    {
     "ename": "ValueError",
     "evalue": "not enough values to unpack (expected 4, got 3)",
     "output_type": "error",
     "traceback": [
      "\u001b[1;31m---------------------------------------------------------------------------\u001b[0m",
      "\u001b[1;31mValueError\u001b[0m                                Traceback (most recent call last)",
      "Cell \u001b[1;32mIn[21], line 2\u001b[0m\n\u001b[0;32m      1\u001b[0m color_tuple \u001b[38;5;241m=\u001b[39m (\u001b[38;5;124m'\u001b[39m\u001b[38;5;124mred\u001b[39m\u001b[38;5;124m'\u001b[39m, \u001b[38;5;124m'\u001b[39m\u001b[38;5;124mgreen\u001b[39m\u001b[38;5;124m'\u001b[39m, \u001b[38;5;124m'\u001b[39m\u001b[38;5;124mblue\u001b[39m\u001b[38;5;124m'\u001b[39m) \n\u001b[1;32m----> 2\u001b[0m a,b,c,d \u001b[38;5;241m=\u001b[39m color_tuple\n",
      "\u001b[1;31mValueError\u001b[0m: not enough values to unpack (expected 4, got 3)"
     ]
    }
   ],
   "source": [
    "color_tuple = ('red', 'green', 'blue') \n",
    "a,b,c,d = color_tuple\n"
   ]
  },
  {
   "cell_type": "markdown",
   "id": "2b074720-6ffe-4c1c-96f2-22799cddc3f7",
   "metadata": {},
   "source": [
    "Unpacking particular items from tuples\n",
    "\n",
    "Sometimes, you might not be interested in all the items of a tuple. In this case, you can use _ (underscore) as a placeholder for unwanted values during unpacking. Take a look at the example below."
   ]
  },
  {
   "cell_type": "code",
   "execution_count": 23,
   "id": "16778664-be0e-4043-9d4e-d8acd73b320b",
   "metadata": {},
   "outputs": [
    {
     "name": "stdout",
     "output_type": "stream",
     "text": [
      "red blue\n"
     ]
    }
   ],
   "source": [
    "color_tuple = ('red', 'green', 'blue') \n",
    "a,_,c = color_tuple\n",
    "print(a,c)\n"
   ]
  },
  {
   "cell_type": "markdown",
   "id": "527fba32-31e2-47d0-b4c7-492b1be6e7a0",
   "metadata": {},
   "source": [
    "# tuple are immutable\n",
    "so there is no chance to manuplate any data in tuple\n",
    "but we can do from type cast the tuple into list and then menuplat the value and again typecast to the tuple"
   ]
  },
  {
   "cell_type": "code",
   "execution_count": 31,
   "id": "7c879447-83cd-4a27-90da-fd9be2130a7c",
   "metadata": {},
   "outputs": [
    {
     "name": "stdout",
     "output_type": "stream",
     "text": [
      "[1, 2, 3, 4, 5, 6, 7, 8, 10]\n",
      "(1, 2, 3, 4, 5, 6, 7, 8, 10)\n"
     ]
    }
   ],
   "source": [
    "tuples = (1,2,3,4,5,6,7,8,9)\n",
    "chg_list = list(tuples)\n",
    "chg_list[8]=10\n",
    "print(chg_list)\n",
    "new_tuple = tuple(chg_list)\n",
    "tuples = new_tuple\n",
    "print(tuples)\n"
   ]
  },
  {
   "cell_type": "code",
   "execution_count": 32,
   "id": "67723384-d623-4249-8c3a-dea723a36357",
   "metadata": {},
   "outputs": [
    {
     "name": "stdout",
     "output_type": "stream",
     "text": [
      "4\n",
      "3\n",
      "1\n",
      "0\n"
     ]
    }
   ],
   "source": [
    "num_tuple = (1, 2, 3, 4)\n",
    "max_ele = max(num_tuple)\n",
    "print(max_ele) \n",
    "index_of_max = num_tuple .index(max_ele)\n",
    "print(index_of_max )  \n",
    "min_ele = min(num_tuple)\n",
    "print(min_ele)     \n",
    "index_of_min = num_tuple .index(min_ele)\n",
    "print(index_of_min) \n"
   ]
  },
  {
   "cell_type": "code",
   "execution_count": 34,
   "id": "4b88007c-2a3c-448e-aab0-fadafa42b9f0",
   "metadata": {},
   "outputs": [
    {
     "name": "stdout",
     "output_type": "stream",
     "text": [
      "55\n"
     ]
    }
   ],
   "source": [
    "my_tuple = (1,2,3,4,5,6,7,8,9,10)\n",
    "print(sum(my_tuple))"
   ]
  },
  {
   "cell_type": "markdown",
   "id": "37123995-5cb5-4fdf-bdb5-a3e59493e3df",
   "metadata": {},
   "source": [
    "Computing the mean of items in a tuple\n",
    "\n",
    "The mean is calculated by summing all the items in the tuple and then dividing the sum by the number of items in the tuple. Here's a simple example to illustrate this."
   ]
  },
  {
   "cell_type": "code",
   "execution_count": 35,
   "id": "47ff01c6-20a2-41ea-abc8-ef4585d3b189",
   "metadata": {},
   "outputs": [
    {
     "name": "stdout",
     "output_type": "stream",
     "text": [
      "2.5\n"
     ]
    }
   ],
   "source": [
    "num_tuple = (1, 2, 3, 4)\n",
    "mean_value = sum(num_tuple) / len(num_tuple)\n",
    "print(mean_value)"
   ]
  },
  {
   "cell_type": "markdown",
   "id": "b0f5f912-cee4-4d96-8443-936cdb76b6c0",
   "metadata": {},
   "source": [
    "#### sorted "
   ]
  },
  {
   "cell_type": "code",
   "execution_count": 38,
   "id": "1b4bd334-6a6d-4e03-824e-a52237774b58",
   "metadata": {},
   "outputs": [
    {
     "name": "stdout",
     "output_type": "stream",
     "text": [
      "[1, 2, 3, 4, 4, 6, 7, 8, 9]\n"
     ]
    }
   ],
   "source": [
    "sort = (1,8,6,4,9,7,2,3,4)\n",
    "print(sorted(sort))"
   ]
  },
  {
   "cell_type": "markdown",
   "id": "17206ba5-67f9-4891-b352-c93282a3eb8f",
   "metadata": {},
   "source": [
    "Finding the frequency of items in a tuple\n",
    "\n",
    "To find the frequency of items in a tuple, you can use the .count() method. This method can be applied to a tuple and takes an item as an argument, returning the number of times that item appears in the tuple. Here’s an example to illustrate this.\n",
    "\n"
   ]
  },
  {
   "cell_type": "code",
   "execution_count": 40,
   "id": "679683f1-3f0a-4e35-88a3-3a2998a6fffd",
   "metadata": {},
   "outputs": [
    {
     "name": "stdout",
     "output_type": "stream",
     "text": [
      "6\n"
     ]
    }
   ],
   "source": [
    "my_tuples = (1,2,3,4,4,4,4,4,4,5,6,7,8,9)\n",
    "print(my_tuples.count(4))"
   ]
  },
  {
   "cell_type": "markdown",
   "id": "c1173f58-ca4d-4426-8964-0bfce9849b32",
   "metadata": {},
   "source": [
    "# Sets\n",
    "\n",
    "Sets are collections that are unordered and mutable. Sets are defined using curly braces {}. Here’s a breakdown of the key characteristics and operations associated with sets:\n",
    "\n",
    "Unordered: The items in a set do not have a defined order. Set items can appear in a different order every time you use them and cannot be referred to by index or key.\n",
    "\n",
    "Mutable: You can add and remove items from a set after its creation. However, every item in a set must be hashable (proper value and index), and sets can't be used as items in other sets.\n",
    "\n",
    "Sets are useful for storing unique items and performing common set operations like unions, intersections, differences, and symmetric differences.  Now, let's explore the various ways of creating sets."
   ]
  },
  {
   "cell_type": "markdown",
   "id": "b97f7839-f0ce-46d8-8db5-a48e956490c4",
   "metadata": {},
   "source": [
    "Creating an empty set\n",
    "\n",
    "Creating an empty set requires a slightly different approach than creating other empty collections like lists or tuples. To create an empty set, you cannot simply use empty braces {} because this syntax defines an empty dictionary. Instead, you use the set() constructor without any arguments. Here is an example."
   ]
  },
  {
   "cell_type": "code",
   "execution_count": 41,
   "id": "1a7bd8f5-5af8-48f6-92d7-851820157a5c",
   "metadata": {},
   "outputs": [
    {
     "name": "stdout",
     "output_type": "stream",
     "text": [
      "<class 'set'>\n"
     ]
    }
   ],
   "source": [
    "construct_set = set()\n",
    "print(type(construct_set))"
   ]
  },
  {
   "cell_type": "markdown",
   "id": "1279b183-5ff2-4610-a733-621abd605b5d",
   "metadata": {},
   "source": [
    "Creating sets with items\n",
    "\n",
    "You can create a set with multiple items by placing them within curly braces {}, separated by commas. This is similar to defining a list or tuple, except with curly braces. Here is an example.\n",
    "\n"
   ]
  },
  {
   "cell_type": "code",
   "execution_count": 42,
   "id": "6e6a5ede-7187-425b-afda-506067a16933",
   "metadata": {},
   "outputs": [
    {
     "name": "stdout",
     "output_type": "stream",
     "text": [
      "{'red', 'yellow', 'green'}\n"
     ]
    }
   ],
   "source": [
    "color_set = {'red','yellow','green'}\n",
    "print(color_set)"
   ]
  },
  {
   "cell_type": "markdown",
   "id": "a1fc991d-a27c-41fe-b235-3f97432f14fc",
   "metadata": {},
   "source": [
    "Indexing items in a set\n",
    "\n",
    "Attempting to access an item from a set using indexing will result in a TypeError. This is due to the inherent unordered nature of sets. For example:\n",
    "\n"
   ]
  },
  {
   "cell_type": "code",
   "execution_count": 43,
   "id": "258ff256-d99e-4dc5-afb8-cff857c6f067",
   "metadata": {},
   "outputs": [
    {
     "ename": "TypeError",
     "evalue": "'set' object is not subscriptable",
     "output_type": "error",
     "traceback": [
      "\u001b[1;31m---------------------------------------------------------------------------\u001b[0m",
      "\u001b[1;31mTypeError\u001b[0m                                 Traceback (most recent call last)",
      "Cell \u001b[1;32mIn[43], line 2\u001b[0m\n\u001b[0;32m      1\u001b[0m example_set \u001b[38;5;241m=\u001b[39m {\u001b[38;5;241m1\u001b[39m, \u001b[38;5;241m2\u001b[39m, \u001b[38;5;241m3\u001b[39m}\n\u001b[1;32m----> 2\u001b[0m \u001b[38;5;28mprint\u001b[39m(example_set[\u001b[38;5;241m0\u001b[39m])\n",
      "\u001b[1;31mTypeError\u001b[0m: 'set' object is not subscriptable"
     ]
    }
   ],
   "source": [
    "example_set = {1, 2, 3}\n",
    "print(example_set[0])  # This will raise an error"
   ]
  },
  {
   "cell_type": "markdown",
   "id": "a8193ac8-bfbc-448a-bbdd-949f0731a6da",
   "metadata": {},
   "source": [
    "Accessing items from a set by converting it to an iterable such as a list or a tuple\n",
    "\n",
    "Although direct access is not possible, if you need to access items by index, you can convert the set to a list or a tuple. "
   ]
  },
  {
   "cell_type": "code",
   "execution_count": 46,
   "id": "27d47b8b-00d8-4c20-83a7-300b4c17810b",
   "metadata": {},
   "outputs": [
    {
     "name": "stdout",
     "output_type": "stream",
     "text": [
      "samad\n"
     ]
    }
   ],
   "source": [
    "sets = {'anish','samad','div'}\n",
    "con_list = list(sets)  # Output order is unpredictable because sets are unorder\n",
    "print(con_list[0])"
   ]
  },
  {
   "cell_type": "markdown",
   "id": "05cbd9e1-2a63-43a5-93fd-534f0442ac7e",
   "metadata": {},
   "source": [
    "Finding the length of a set\n",
    "\n",
    "To find the length of a set, you use the len() function, which returns the number of items in a set. Sets are collections of unique items, so the length reflects the count of these unique items. Here's how you can do it."
   ]
  },
  {
   "cell_type": "code",
   "execution_count": 47,
   "id": "420fad21-afe2-4096-84de-5fe66d7f9376",
   "metadata": {},
   "outputs": [
    {
     "data": {
      "text/plain": [
       "3"
      ]
     },
     "execution_count": 47,
     "metadata": {},
     "output_type": "execute_result"
    }
   ],
   "source": [
    "sets = {'anish','samad','div'}\n",
    "len(sets)"
   ]
  },
  {
   "cell_type": "markdown",
   "id": "7eaab87b-13a2-4f6b-85a5-5ef0c902c828",
   "metadata": {},
   "source": [
    "Checking the membership of an item in a set\n",
    "\n",
    "Checking if an item is a member of a set is straightforward and efficient. This operation is performed using the in keyword, which returns True if the item exists in the set, and False otherwise. "
   ]
  },
  {
   "cell_type": "code",
   "execution_count": 48,
   "id": "c9eda306-2569-455b-a115-431054358962",
   "metadata": {},
   "outputs": [
    {
     "name": "stdout",
     "output_type": "stream",
     "text": [
      "True\n"
     ]
    }
   ],
   "source": [
    "sets = {'anish','samad','div'}\n",
    "print('anish' in sets)"
   ]
  },
  {
   "cell_type": "code",
   "execution_count": 50,
   "id": "44658510-377d-423a-937c-fea934040eaa",
   "metadata": {},
   "outputs": [
    {
     "name": "stdout",
     "output_type": "stream",
     "text": [
      "{'sourav', 'samad', 'div', 'anish'}\n"
     ]
    }
   ],
   "source": [
    "sets = {'anish','samad','div'}\n",
    "sets.add('sourav')\n",
    "print(sets)"
   ]
  },
  {
   "cell_type": "markdown",
   "id": "3262b66b-dc19-4434-9086-82fd0df83a8d",
   "metadata": {},
   "source": [
    "If the item is already present, the set remains unchanged due to the uniqueness of sets."
   ]
  },
  {
   "cell_type": "code",
   "execution_count": 51,
   "id": "67e807fa-eefa-4068-b4ca-1688680e0c10",
   "metadata": {},
   "outputs": [
    {
     "name": "stdout",
     "output_type": "stream",
     "text": [
      "{'orange', 'apple'}\n"
     ]
    }
   ],
   "source": [
    "example_set = {'apple', 'orange'}\n",
    "example_set.add('apple')\n",
    "print(example_set)"
   ]
  },
  {
   "cell_type": "code",
   "execution_count": 52,
   "id": "2800de18-5d41-4f07-ac12-d36cf3561e78",
   "metadata": {},
   "outputs": [
    {
     "ename": "TypeError",
     "evalue": "unhashable type: 'list'",
     "output_type": "error",
     "traceback": [
      "\u001b[1;31m---------------------------------------------------------------------------\u001b[0m",
      "\u001b[1;31mTypeError\u001b[0m                                 Traceback (most recent call last)",
      "Cell \u001b[1;32mIn[52], line 3\u001b[0m\n\u001b[0;32m      1\u001b[0m example_set \u001b[38;5;241m=\u001b[39m \u001b[38;5;28mset\u001b[39m()\n\u001b[0;32m      2\u001b[0m example_list \u001b[38;5;241m=\u001b[39m [\u001b[38;5;124m'\u001b[39m\u001b[38;5;124mapple\u001b[39m\u001b[38;5;124m'\u001b[39m, \u001b[38;5;124m'\u001b[39m\u001b[38;5;124morange\u001b[39m\u001b[38;5;124m'\u001b[39m, \u001b[38;5;124m'\u001b[39m\u001b[38;5;124mcherry\u001b[39m\u001b[38;5;124m'\u001b[39m, \u001b[38;5;124m'\u001b[39m\u001b[38;5;124mbanana\u001b[39m\u001b[38;5;124m'\u001b[39m]\n\u001b[1;32m----> 3\u001b[0m example_set\u001b[38;5;241m.\u001b[39madd(example_list)\n\u001b[0;32m      4\u001b[0m \u001b[38;5;28mprint\u001b[39m(example_set)\n",
      "\u001b[1;31mTypeError\u001b[0m: unhashable type: 'list'"
     ]
    }
   ],
   "source": [
    "example_set = set()\n",
    "example_list = ['apple', 'orange', 'cherry', 'banana']\n",
    "example_set.add(example_list)\n",
    "print(example_set)"
   ]
  },
  {
   "cell_type": "markdown",
   "id": "1ca8fdfa-5ca4-409d-8dcc-e8cd59460ad6",
   "metadata": {},
   "source": [
    "In the above example, we tried adding the list example_list to the set example_set which raised a TypeError pointing out that the list is an unhashable type.\n",
    "\n",
    "\n",
    "\n",
    "But if we use the .update() function, instead of adding the list to the set, it updates the set with items from the list. "
   ]
  },
  {
   "cell_type": "code",
   "execution_count": 53,
   "id": "cdd5e213-f7c1-4c3b-baa6-e865b76060c1",
   "metadata": {},
   "outputs": [
    {
     "name": "stdout",
     "output_type": "stream",
     "text": [
      "{1, 2, 3, 4, 5, 6, 7, 8, 9}\n"
     ]
    }
   ],
   "source": [
    "setss = set()\n",
    "new_set = {1,2,3,4,5,6,7,8,9}\n",
    "setss.update(new_set)\n",
    "print(new_set)"
   ]
  },
  {
   "cell_type": "markdown",
   "id": "bd76f9f7-376d-42a8-a5b9-9b3809001aad",
   "metadata": {},
   "source": [
    "Removing items from sets\n",
    "\n",
    "To remove an item from a set, you can use either the .remove(), .discard() or .pop() methods. While both .remove() and .discard() serve similar functions, their behaviour differs when the specified item is not present.\n",
    "The .remove() method is used to remove a specific item from the set. If the item is present in the set, it is removed."
   ]
  },
  {
   "cell_type": "code",
   "execution_count": 54,
   "id": "03f8cde0-ae47-426a-a590-2dcbb4c2f478",
   "metadata": {},
   "outputs": [
    {
     "name": "stdout",
     "output_type": "stream",
     "text": [
      "{1, 2, 3, 4, 6, 7, 8, 9}\n"
     ]
    }
   ],
   "source": [
    "new_set = {1,2,3,4,5,6,7,8,9}\n",
    "new_set.remove(5) #the value should be present in sets othervise its show errors\n",
    "print(new_set)"
   ]
  },
  {
   "cell_type": "markdown",
   "id": "8b5e99ae-e8b9-4e50-8c9a-065a6abaa017",
   "metadata": {},
   "source": [
    "The .discard() method is used to remove a specific item from the set. If the item is present in the set, it is removed."
   ]
  },
  {
   "cell_type": "code",
   "execution_count": 55,
   "id": "51c90e61-f037-480d-94c8-8f8317f3eadb",
   "metadata": {},
   "outputs": [
    {
     "name": "stdout",
     "output_type": "stream",
     "text": [
      "{1, 2, 3, 4, 5, 6, 7, 8, 9}\n"
     ]
    }
   ],
   "source": [
    "new_set = {1,2,3,4,5,6,7,8,9}\n",
    "new_set.discard(10) #discard remove the value its no matter its prsent or not\n",
    "print(new_set)"
   ]
  },
  {
   "cell_type": "markdown",
   "id": "ab268a64-6ebb-4ce2-817e-b6d22593dcb5",
   "metadata": {},
   "source": [
    "In this case, 'pear' is not an item of example_set, no error is raised, and the set remains unchanged.\n",
    "\n",
    "\n",
    "\n",
    "Since lists are ordered, the .pop() function is predictable (removing the last item by default), but in the case of sets the function removes items randomly, due to their unordered nature."
   ]
  },
  {
   "cell_type": "code",
   "execution_count": 56,
   "id": "80ab1598-9fbc-469d-b71f-acb0e526ba13",
   "metadata": {},
   "outputs": [
    {
     "name": "stdout",
     "output_type": "stream",
     "text": [
      "apple\n",
      "set()\n"
     ]
    }
   ],
   "source": [
    "example_set = {'apple'}\n",
    "removed_item = example_set.pop() \n",
    "print(removed_item)\n",
    "print(example_set)"
   ]
  },
  {
   "cell_type": "markdown",
   "id": "377b6407-1b95-4468-96e9-656db45afed0",
   "metadata": {},
   "source": [
    "If the set is empty and you try to .pop() an item, a KeyError is raised.\n",
    "\n"
   ]
  },
  {
   "cell_type": "code",
   "execution_count": 57,
   "id": "138ffefd-2232-49a2-96f2-cabb230a1364",
   "metadata": {},
   "outputs": [
    {
     "ename": "KeyError",
     "evalue": "'pop from an empty set'",
     "output_type": "error",
     "traceback": [
      "\u001b[1;31m---------------------------------------------------------------------------\u001b[0m",
      "\u001b[1;31mKeyError\u001b[0m                                  Traceback (most recent call last)",
      "Cell \u001b[1;32mIn[57], line 2\u001b[0m\n\u001b[0;32m      1\u001b[0m example_set \u001b[38;5;241m=\u001b[39m \u001b[38;5;28mset\u001b[39m()\n\u001b[1;32m----> 2\u001b[0m removed_element \u001b[38;5;241m=\u001b[39m example_set\u001b[38;5;241m.\u001b[39mpop() \n\u001b[0;32m      3\u001b[0m \u001b[38;5;28mprint\u001b[39m(removed_element)\n\u001b[0;32m      4\u001b[0m \u001b[38;5;28mprint\u001b[39m(example_set)\n",
      "\u001b[1;31mKeyError\u001b[0m: 'pop from an empty set'"
     ]
    }
   ],
   "source": [
    "example_set = set()\n",
    "removed_element = example_set.pop() \n",
    "print(removed_element)\n",
    "print(example_set)"
   ]
  },
  {
   "cell_type": "markdown",
   "id": "b6bed00b-c635-4506-bb06-fb14b729fbd8",
   "metadata": {},
   "source": [
    "Checking the equality of two sets\n",
    "\n",
    "You can check the equality of two sets using the equality operator ==. Two sets are considered equal if they contain the same items, even if the order of items differs because sets are unordered collections of unique items. Here's how it works."
   ]
  },
  {
   "cell_type": "code",
   "execution_count": 59,
   "id": "ed2ee594-1fd7-498a-b16e-74e580f40099",
   "metadata": {},
   "outputs": [
    {
     "name": "stdout",
     "output_type": "stream",
     "text": [
      "True\n"
     ]
    }
   ],
   "source": [
    "set1 = {1, 2, 3, 3}\n",
    "set2 = {3, 2, 1}\n",
    "print(set1 == set2) \n",
    "#This line compares the two sets, set1 and set2, for equality. Since the two sets contain the same items (1, 2, and 3), the comparison will return True."
   ]
  },
  {
   "cell_type": "markdown",
   "id": "3ac65968-23d1-4a3e-9fbf-009d6a9c0513",
   "metadata": {},
   "source": [
    "Checking if two sets have the same cardinality (number of items)\n",
    "\n",
    "The cardinality of a set is the number of items it contains. Two sets have the same cardinality if they are the same size, even if they contain different items. You can check this using the len() function and the == operator."
   ]
  },
  {
   "cell_type": "code",
   "execution_count": 63,
   "id": "4f2fb66d-08a9-420f-a7cf-d8d6b097c2af",
   "metadata": {},
   "outputs": [
    {
     "name": "stdout",
     "output_type": "stream",
     "text": [
      "3\n",
      "4\n",
      "False\n"
     ]
    }
   ],
   "source": [
    "set1 = {1,2,3}\n",
    "set2 = {4,5,6,7}\n",
    "print(len(set1))\n",
    "print(len(set2))\n",
    "result = len( set1) == len(set2)\n",
    "print(result)"
   ]
  },
  {
   "cell_type": "code",
   "execution_count": 73,
   "id": "2a67af1d-4804-4530-99dd-92fc943a6fe0",
   "metadata": {},
   "outputs": [
    {
     "name": "stdout",
     "output_type": "stream",
     "text": [
      "True\n"
     ]
    }
   ],
   "source": [
    "set1 = {1, 2, 3}\n",
    "set3 = {4, 5, 6, 6}\n",
    "print(len(set1) == len(set3))\n"
   ]
  },
  {
   "cell_type": "markdown",
   "id": "9f2130c8-ea4c-43eb-8ac1-b2406774f179",
   "metadata": {},
   "source": [
    "Here,\n",
    "\n",
    "len(set1) == len(set3), compares the size of set1 and set3. \n",
    "\n",
    "Since both sets contain three unique items each, this comparison evaluates to True. \n",
    "\n",
    "The same is true here, order and multiplicity (the frequency of items) do not affect the result of the operation."
   ]
  },
  {
   "cell_type": "markdown",
   "id": "d8eb731a-3241-4632-9d90-05861a488714",
   "metadata": {},
   "source": [
    "### Subsets\n",
    "\n",
    "A set A is considered a subset of set B if every item of A is also an item of B. Sets provide the .issubset() built-in method to work with subsets. This method checks if all items of a set are present in another set. If this is true, the set is considered a subset of the other. It returns True if the set on which it's called is a subset of the set passed as an argument, otherwise, it returns False. Here is an example."
   ]
  },
  {
   "cell_type": "code",
   "execution_count": 74,
   "id": "a76ff220-b13f-42c8-96df-31fe5b2797f8",
   "metadata": {},
   "outputs": [
    {
     "name": "stdout",
     "output_type": "stream",
     "text": [
      "True\n"
     ]
    }
   ],
   "source": [
    "set1 = {1, 2, 3}\n",
    "subset = {1, 2}\n",
    "print(subset.issubset(set1))"
   ]
  },
  {
   "cell_type": "markdown",
   "id": "6fd6bafc-4208-4685-9f9e-f85e6b939795",
   "metadata": {},
   "source": [
    "Finding the union of sets\n",
    "\n",
    "The union of two or more sets is a new set containing all unique items from the combined sets. The important thing to note about union operations in sets is that they do not allow duplicate values. Sets offer a built-in method and an operator to find the union of sets.\n",
    "\n",
    "\n",
    "\n",
    "You can use the .union() method to combine multiple sets. This method can take any number of arguments and returns a new set containing all unique items."
   ]
  },
  {
   "cell_type": "code",
   "execution_count": 75,
   "id": "ad799f47-bf1d-46e7-a01e-5f54e77ec6a6",
   "metadata": {},
   "outputs": [
    {
     "name": "stdout",
     "output_type": "stream",
     "text": [
      "{1, 2, 3, 4, 5, 6}\n"
     ]
    }
   ],
   "source": [
    "set1 = {1, 2, 3, 3}\n",
    "set3 = {4, 5, 6}\n",
    "print(set1.union(set3)) \n"
   ]
  },
  {
   "cell_type": "markdown",
   "id": "55381dac-3529-4976-aa45-e8b798d3e9a4",
   "metadata": {},
   "source": [
    "Alternatively, you can use the | operator to find the union of two sets. This operator works similarly to the .union() method."
   ]
  },
  {
   "cell_type": "code",
   "execution_count": 76,
   "id": "0d6a030b-9b05-4337-b7d6-ef87c47514b9",
   "metadata": {},
   "outputs": [
    {
     "name": "stdout",
     "output_type": "stream",
     "text": [
      "{1, 2, 3, 4, 5, 6}\n"
     ]
    }
   ],
   "source": [
    "set1 = {1, 2, 3, 3}\n",
    "set3 = {4, 5, 6}\n",
    "print(set1 | set3)"
   ]
  },
  {
   "cell_type": "markdown",
   "id": "7af8125c-a642-419a-9c80-c564d6483e7d",
   "metadata": {},
   "source": [
    "##### Union in Sets in Python\n",
    "The union of two or more sets in Python combines all unique elements from the sets."
   ]
  },
  {
   "cell_type": "markdown",
   "id": "fc557f19-3309-42a4-9cb8-6dd4dfa579ac",
   "metadata": {},
   "source": [
    "\n",
    "Finding the intersection of two sets\n",
    "\n",
    "The intersection of two sets contains only the items that are present in both sets. Sets offer a built-in method and an operator to find intersections.\n",
    "\n",
    "\n",
    "\n",
    "The .intersection() method returns a new set containing the intersection of the original set and another set passed as an argument."
   ]
  },
  {
   "cell_type": "code",
   "execution_count": 78,
   "id": "c3150816-128b-4e38-be20-e24bc4872ee8",
   "metadata": {},
   "outputs": [
    {
     "name": "stdout",
     "output_type": "stream",
     "text": [
      "{2, 3}\n"
     ]
    }
   ],
   "source": [
    "set1 = {1, 2, 3}\n",
    "set4 = {2, 3, 4}\n",
    "print(set1.intersection(set4))"
   ]
  },
  {
   "cell_type": "markdown",
   "id": "270e2a8c-b788-4ff8-b655-114f0354544f",
   "metadata": {},
   "source": [
    "Finding the difference between two sets\n",
    "\n",
    "To find the difference between two sets, you can use the .difference() method or the - operator. The difference between two sets A and B consists of items that are in set A but not in set B. Here's how you can do it."
   ]
  },
  {
   "cell_type": "code",
   "execution_count": 79,
   "id": "1419dfde-86c6-4e75-a4ee-b169ab2931bd",
   "metadata": {},
   "outputs": [
    {
     "name": "stdout",
     "output_type": "stream",
     "text": [
      "{1}\n"
     ]
    }
   ],
   "source": [
    "set1 = {1, 2, 3}\n",
    "set5 = {2, 3}\n",
    "print(set1.difference(set5))\n"
   ]
  },
  {
   "cell_type": "markdown",
   "id": "b4b1c45a-f48a-4cbf-ad71-134321755027",
   "metadata": {},
   "source": [
    "The - operator can also be used to find the difference between sets. It produces the same result as the .difference() method.\n",
    "\n"
   ]
  },
  {
   "cell_type": "code",
   "execution_count": 80,
   "id": "3a95a56e-2fc7-4818-9e21-9f301f29ef20",
   "metadata": {},
   "outputs": [
    {
     "name": "stdout",
     "output_type": "stream",
     "text": [
      "{1}\n"
     ]
    }
   ],
   "source": [
    "set1 = {1, 2, 3}\n",
    "set5 = {2, 3}\n",
    "print((set1 - set5))"
   ]
  },
  {
   "cell_type": "markdown",
   "id": "ad4ad2a4-e941-4686-a2c5-355dc04eef9f",
   "metadata": {},
   "source": [
    "Finding the symmetric difference between two sets\n",
    "\n",
    "To find the symmetric difference between two sets, you can use the .symmetric_difference() method or the ^ operator. The symmetric difference between two sets A and B consists of items that are in either set A or set B, but not in both. In simpler terms, it finds the items that are exclusive to each set. Here's how you can do it.\n",
    "\n"
   ]
  },
  {
   "cell_type": "code",
   "execution_count": 81,
   "id": "6d594653-5634-48d9-9de6-c13eb72e09c2",
   "metadata": {},
   "outputs": [
    {
     "name": "stdout",
     "output_type": "stream",
     "text": [
      "{1, 4}\n"
     ]
    }
   ],
   "source": [
    "set1 = {1, 2, 3}\n",
    "set6 = {2, 3, 4}\n",
    "print(set1.symmetric_difference(set6))"
   ]
  },
  {
   "cell_type": "code",
   "execution_count": null,
   "id": "21ea1b46-d0ee-4ed0-b037-c3b65e42e660",
   "metadata": {},
   "outputs": [],
   "source": []
  },
  {
   "cell_type": "code",
   "execution_count": null,
   "id": "ca43b6f1-be21-4f3e-9bfd-a8594bdf3939",
   "metadata": {},
   "outputs": [],
   "source": []
  },
  {
   "cell_type": "code",
   "execution_count": null,
   "id": "b312f876-394c-4027-a6c8-535b15f69609",
   "metadata": {},
   "outputs": [],
   "source": []
  },
  {
   "cell_type": "code",
   "execution_count": null,
   "id": "6f3035f8-2a42-4a3d-9c3d-ee01f7b80982",
   "metadata": {},
   "outputs": [],
   "source": []
  },
  {
   "cell_type": "code",
   "execution_count": null,
   "id": "3c1698eb-3bdf-44f9-aff2-08ce47fda8d6",
   "metadata": {},
   "outputs": [],
   "source": []
  },
  {
   "cell_type": "code",
   "execution_count": null,
   "id": "71b17410-8a54-4111-a31f-a03cdfa82d25",
   "metadata": {},
   "outputs": [],
   "source": []
  },
  {
   "cell_type": "code",
   "execution_count": null,
   "id": "00d13577-2c86-4f94-85fa-51b5a7297d45",
   "metadata": {},
   "outputs": [],
   "source": []
  },
  {
   "cell_type": "code",
   "execution_count": null,
   "id": "5690d1aa-c849-48b8-b743-ff071e632139",
   "metadata": {},
   "outputs": [],
   "source": []
  },
  {
   "cell_type": "code",
   "execution_count": null,
   "id": "355bbda9-90af-4fd3-be52-2f3cfb9169c7",
   "metadata": {},
   "outputs": [],
   "source": []
  },
  {
   "cell_type": "code",
   "execution_count": null,
   "id": "55e6352f-b8ad-4571-820d-0dfbdc22e283",
   "metadata": {},
   "outputs": [],
   "source": []
  },
  {
   "cell_type": "code",
   "execution_count": null,
   "id": "d8c52daa-4a3c-4ae7-a1ff-9bee36fa0aa1",
   "metadata": {},
   "outputs": [],
   "source": []
  },
  {
   "cell_type": "code",
   "execution_count": null,
   "id": "07c5db39-d636-4737-9678-078f10f09b9e",
   "metadata": {},
   "outputs": [],
   "source": []
  },
  {
   "cell_type": "code",
   "execution_count": null,
   "id": "acbdd4d7-124c-4729-a2d2-1d59e0320c25",
   "metadata": {},
   "outputs": [],
   "source": []
  },
  {
   "cell_type": "code",
   "execution_count": null,
   "id": "5240c3f5-c613-49ef-97eb-9b3ed2d472df",
   "metadata": {},
   "outputs": [],
   "source": []
  }
 ],
 "metadata": {
  "kernelspec": {
   "display_name": "Python 3 (ipykernel)",
   "language": "python",
   "name": "python3"
  },
  "language_info": {
   "codemirror_mode": {
    "name": "ipython",
    "version": 3
   },
   "file_extension": ".py",
   "mimetype": "text/x-python",
   "name": "python",
   "nbconvert_exporter": "python",
   "pygments_lexer": "ipython3",
   "version": "3.12.7"
  }
 },
 "nbformat": 4,
 "nbformat_minor": 5
}
