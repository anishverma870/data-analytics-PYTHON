{
 "cells": [
  {
   "cell_type": "markdown",
   "id": "d49ddc90-44a1-492d-bf23-8062742599a4",
   "metadata": {},
   "source": [
    "#string are immutable in nature it can't be change "
   ]
  },
  {
   "cell_type": "markdown",
   "id": "05d6f24f-748b-4c50-a8d5-26c295354abc",
   "metadata": {},
   "source": [
    "#split function in string"
   ]
  },
  {
   "cell_type": "code",
   "execution_count": 2,
   "id": "353c140b-05ec-4e66-9c4f-acf3a24547b4",
   "metadata": {},
   "outputs": [
    {
     "name": "stdout",
     "output_type": "stream",
     "text": [
      "I\n"
     ]
    }
   ],
   "source": [
    "my_str=  'I find Python programming very interesting!'\n",
    "print(my_str.split()[0]) # .split() = is use for slipt the words ,[] = use for indexing."
   ]
  },
  {
   "cell_type": "markdown",
   "id": "fec51cd7-96f8-4ed5-a067-51d6201b4f1c",
   "metadata": {},
   "source": [
    "#indexing"
   ]
  },
  {
   "cell_type": "code",
   "execution_count": 6,
   "id": "bc0e6cb3-a337-4db7-9e12-fd338a12ad1b",
   "metadata": {},
   "outputs": [
    {
     "name": "stdout",
     "output_type": "stream",
     "text": [
      "h\n",
      "e\n",
      "l\n",
      "l\n",
      "o\n"
     ]
    }
   ],
   "source": [
    "string = \"hello\"\n",
    "print(string[0])\n",
    "print(string[1])\n",
    "print(string[2])\n",
    "print(string[3])\n",
    "print(string[4])"
   ]
  },
  {
   "cell_type": "markdown",
   "id": "643d38dd-8bd9-41b4-800c-20d673ddf9d1",
   "metadata": {},
   "source": [
    "#Slicing strings\n",
    "Slicing lets you extract a substring from a string using the slice operator [:]. \n",
    "We can also perform slicing operations on strings to get a substring of the string over the given range. Here is the syntax for slicing.\n",
    "\n"
   ]
  },
  {
   "cell_type": "code",
   "execution_count": null,
   "id": "bd16f96f-8966-490f-aa05-8556bfdedf2d",
   "metadata": {},
   "outputs": [],
   "source": [
    "string[start:stop:step] # this how slicing work"
   ]
  },
  {
   "cell_type": "code",
   "execution_count": 15,
   "id": "9bd42927-44df-4a97-b3ed-0229e2f4d1b7",
   "metadata": {},
   "outputs": [
    {
     "name": "stdout",
     "output_type": "stream",
     "text": [
      "python\n",
      "pytho\n",
      "python\n",
      "ython\n"
     ]
    }
   ],
   "source": [
    "lang = \"python\"\n",
    "print(lang[0:6]) # the index are limited but in python we pass the over end location like lang[0:100000]\n",
    "print(lang[0:5])\n",
    "print(lang[:6]) #if you dont pass the starting it will take first one by deafault\n",
    "print(lang[1:]) # same if you dont pass the end it will take the last one \n"
   ]
  },
  {
   "cell_type": "code",
   "execution_count": 39,
   "id": "2b76b94b-167b-46ec-a1e5-1ecb8aa72476",
   "metadata": {},
   "outputs": [
    {
     "name": "stdout",
     "output_type": "stream",
     "text": [
      "anishverma\n",
      "aihem\n",
      "asea\n"
     ]
    }
   ],
   "source": [
    "#now using the step \n",
    "lang1 = \"anishverma\"\n",
    "print(lang1[0::1]) # print(lang1[0::1]) the step how to move possitive 1 show left to right and how many step taken like 1\n",
    "print(lang1[0: :2]) # in step section 2 is mention for taken jump once\n",
    "print(lang1[0: :3]) # in step section 3 is mention for taken a jump twice"
   ]
  },
  {
   "cell_type": "code",
   "execution_count": 43,
   "id": "65749408-4c50-40c1-acf6-8a5450632de4",
   "metadata": {},
   "outputs": [
    {
     "name": "stdout",
     "output_type": "stream",
     "text": [
      "C:\\Users\\anish\\OneDrive\\Documents\\GitHub\\practice\n"
     ]
    }
   ],
   "source": [
    "import os\n",
    "cwd = os.getcwd()\n",
    "print(cwd)"
   ]
  },
  {
   "cell_type": "markdown",
   "id": "f9543b2f-6161-4116-ae83-b28d1257cfbf",
   "metadata": {},
   "source": [
    "#reverse slicing "
   ]
  },
  {
   "cell_type": "code",
   "execution_count": 44,
   "id": "989eacd0-8285-4a2e-bdb7-6c08fddde756",
   "metadata": {},
   "outputs": [
    {
     "name": "stdout",
     "output_type": "stream",
     "text": [
      "nohtyp\n"
     ]
    }
   ],
   "source": [
    "name = \"python\"\n",
    "print(name[ : :-1]) #in step section i pass -1 because its start from right to left "
   ]
  },
  {
   "cell_type": "code",
   "execution_count": 49,
   "id": "c258b309-033a-44f9-a260-b789e62b4330",
   "metadata": {},
   "outputs": [
    {
     "name": "stdout",
     "output_type": "stream",
     "text": [
      "nohty\n"
     ]
    }
   ],
   "source": [
    "nam = \"python\"\n",
    "print(nam[5:0:-1])"
   ]
  },
  {
   "cell_type": "code",
   "execution_count": 50,
   "id": "0dba6c06-456d-4d60-83fb-0434574030cd",
   "metadata": {},
   "outputs": [
    {
     "name": "stdout",
     "output_type": "stream",
     "text": [
      "n\n"
     ]
    }
   ],
   "source": [
    "# for count from right to left we use negetive number like -1,-2,and -3\n",
    "name = \"anish\"\n",
    "#if i want to show only n \n",
    "print(name[-4])"
   ]
  },
  {
   "cell_type": "markdown",
   "id": "c6b64078-0344-4a4d-8d04-e1c3de5786e4",
   "metadata": {},
   "source": [
    "#operation on string "
   ]
  },
  {
   "cell_type": "markdown",
   "id": "387e570d-dae3-4dcc-8e07-3db9b2fa23be",
   "metadata": {},
   "source": [
    "    LENGTH"
   ]
  },
  {
   "cell_type": "code",
   "execution_count": 51,
   "id": "1d6a0d01-30e8-4e11-99ae-e131d6110f68",
   "metadata": {},
   "outputs": [
    {
     "name": "stdout",
     "output_type": "stream",
     "text": [
      "the length of my name is : 10\n"
     ]
    }
   ],
   "source": [
    "lenth = \"anishverma\"\n",
    "string_len = len(lenth)\n",
    "print(\"the length of my name is :\",string_len)"
   ]
  },
  {
   "cell_type": "markdown",
   "id": "6e8c57b1-cda3-4cf2-bc46-6a30ea5adc3e",
   "metadata": {},
   "source": [
    "#MEMBERSHIP OPERATER"
   ]
  },
  {
   "cell_type": "code",
   "execution_count": 53,
   "id": "a7cf4ff4-f8aa-425e-a2c4-7097d02ffd73",
   "metadata": {},
   "outputs": [
    {
     "name": "stdout",
     "output_type": "stream",
     "text": [
      "are anish in mem ? True\n"
     ]
    }
   ],
   "source": [
    "mem = \"hi my name is anish verma \"\n",
    "result = \"anish\" in mem\n",
    "print(\"are anish in mem ?\",result)"
   ]
  },
  {
   "cell_type": "markdown",
   "id": "d6bdd0b4-34c6-4920-b5d1-6d9f9997bfa0",
   "metadata": {},
   "source": [
    "#find and index"
   ]
  },
  {
   "cell_type": "code",
   "execution_count": 57,
   "id": "aa85ccad-950f-4f0e-b656-4628d577dcea",
   "metadata": {},
   "outputs": [
    {
     "name": "stdout",
     "output_type": "stream",
     "text": [
      "the first index of o is = 4\n",
      "the index start from = 5\n"
     ]
    }
   ],
   "source": [
    "find = \"helloworld\"\n",
    "index_o = find.index(\"o\") #We use the .index() method to find the index of the character 'o' in the string my_string. In this case, it will return the index of the first 'o' in the string.\n",
    "find_world = find.find(\"world\") #We use the .find() method to find the index of the substring 'World' in the string my_string.\n",
    "print(\"the first index of o is =\",index_o)\n",
    "print(\"the index start from =\",find_world)"
   ]
  },
  {
   "cell_type": "markdown",
   "id": "d0d4266c-1d7b-4246-9f22-ec682ce258c0",
   "metadata": {},
   "source": [
    "#COUNTING"
   ]
  },
  {
   "cell_type": "code",
   "execution_count": 58,
   "id": "29f1a916-a1a4-4262-af60-6e1b52cbd053",
   "metadata": {},
   "outputs": [
    {
     "name": "stdout",
     "output_type": "stream",
     "text": [
      "3\n"
     ]
    }
   ],
   "source": [
    "count1 = \"hello world i am anish verma \"\n",
    "count_a = count1.count(\"a\") # count function count the char how many time its use in string\n",
    "print(count_a)"
   ]
  },
  {
   "cell_type": "markdown",
   "id": "2af978ee-ed69-49a5-83ba-c181d770bff9",
   "metadata": {},
   "source": [
    "#ASCII VALUE"
   ]
  },
  {
   "cell_type": "code",
   "execution_count": 62,
   "id": "8dfef734-1401-466d-9990-a2117b71a7ab",
   "metadata": {},
   "outputs": [
    {
     "name": "stdout",
     "output_type": "stream",
     "text": [
      "the ascii vale of 'o'?= 111\n",
      "the ascii value of 'a'?= 97\n",
      "the ascii value of 'A'?= 65\n"
     ]
    }
   ],
   "source": [
    "asc_1 = ord (\"o\")\n",
    "asc_2 = ord(\"a\")\n",
    "asc_3 = ord(\"A\")\n",
    "\n",
    "print(\"the ascii vale of 'o'?=\",asc_1)\n",
    "print(\"the ascii value of 'a'?=\",asc_2)\n",
    "print(\"the ascii value of 'A'?=\",asc_3)"
   ]
  },
  {
   "cell_type": "markdown",
   "id": "3fa5a3cb-eb8c-46d1-a9f1-084b054baafb",
   "metadata": {},
   "source": [
    "Concatenating strings"
   ]
  },
  {
   "cell_type": "code",
   "execution_count": 63,
   "id": "992f54b3-f05d-47c3-9ee5-f791d5c65016",
   "metadata": {},
   "outputs": [
    {
     "name": "stdout",
     "output_type": "stream",
     "text": [
      "anish verma\n"
     ]
    }
   ],
   "source": [
    "name = \"anish\"\n",
    "ser_name = \"verma\"\n",
    "full_name = name + \" \" +ser_name\n",
    "print(full_name)"
   ]
  },
  {
   "cell_type": "markdown",
   "id": "86401661-a218-4e92-922f-9851ca8a4096",
   "metadata": {},
   "source": [
    "STRIP"
   ]
  },
  {
   "cell_type": "code",
   "execution_count": 64,
   "id": "7b4779a1-98af-4e5b-93dd-0c78a28a6aaa",
   "metadata": {},
   "outputs": [
    {
     "name": "stdout",
     "output_type": "stream",
     "text": [
      "hi my name is anish verma      \n",
      "       hi my name is anish verma\n",
      "hi my name is anish verma\n"
     ]
    }
   ],
   "source": [
    "strip = \"       hi my name is anish verma      \"\n",
    "left_strip = strip.lstrip()\n",
    "right_strip = strip.rstrip()\n",
    "full_strip = strip.strip()\n",
    "print(left_strip)\n",
    "print(right_strip)\n",
    "print(full_strip)"
   ]
  },
  {
   "cell_type": "markdown",
   "id": "d310abb8-3dbb-40bb-8f43-de750b2e0683",
   "metadata": {},
   "source": [
    "REPLACE FUNCTION"
   ]
  },
  {
   "cell_type": "code",
   "execution_count": 65,
   "id": "d199ab87-ba04-43fc-839f-5148ec4fe2f8",
   "metadata": {},
   "outputs": [
    {
     "name": "stdout",
     "output_type": "stream",
     "text": [
      "hi my name is anish verma .\n",
      "hi$my$name$is$anish$sharma$.\n"
     ]
    }
   ],
   "source": [
    "my_string = \"hi my name is anish sharma .\"\n",
    "replace_string = my_string.replace(\"sharma\",\"verma\")\n",
    "replace_space = my_string.replace(\" \",\"$\")\n",
    "print(replace_string)\n",
    "print(replace_space)"
   ]
  },
  {
   "cell_type": "markdown",
   "id": "7a48b1b4-c691-4ed9-aa40-8c35ad89c169",
   "metadata": {},
   "source": [
    "SPLIT THE STRING"
   ]
  },
  {
   "cell_type": "code",
   "execution_count": 66,
   "id": "28768a95-1256-49a7-a87f-9c9c0505d8ac",
   "metadata": {},
   "outputs": [
    {
     "name": "stdout",
     "output_type": "stream",
     "text": [
      "['hi', 'my', 'name', 'is', 'anish', 'verma', ',', 'i', 'am', 'bca', 'student']\n"
     ]
    }
   ],
   "source": [
    "my_string = \"hi my name is anish verma , i am bca student \"\n",
    "split_string = my_string.split()\n",
    "print(split_string)"
   ]
  },
  {
   "cell_type": "markdown",
   "id": "0bcaba96-c28e-496c-b53c-74d4c36e0948",
   "metadata": {},
   "source": [
    "title function = this function capitalize the first letter of the word"
   ]
  },
  {
   "cell_type": "code",
   "execution_count": 67,
   "id": "76b82f04-7b04-4371-82dc-f8e59d185b7f",
   "metadata": {},
   "outputs": [
    {
     "name": "stdout",
     "output_type": "stream",
     "text": [
      "Hi My Name Is Anish Verma \n"
     ]
    }
   ],
   "source": [
    "my_string = \"hi my name is anish verma \"\n",
    "title_string = my_string.title()\n",
    "print(title_string)"
   ]
  },
  {
   "cell_type": "code",
   "execution_count": null,
   "id": "919444a1-cd63-4f99-8316-4d0ea4cc3fc7",
   "metadata": {},
   "outputs": [],
   "source": []
  },
  {
   "cell_type": "code",
   "execution_count": null,
   "id": "4c353dc1-f216-4b60-95ac-9638afcc244a",
   "metadata": {},
   "outputs": [],
   "source": []
  },
  {
   "cell_type": "markdown",
   "id": "f238b43a-7236-485f-8bad-5fe28a032374",
   "metadata": {
    "editable": true,
    "slideshow": {
     "slide_type": ""
    },
    "tags": []
   },
   "source": [
    "LIST\n",
    "Lists in Python are one of the most versatile data structures available. They store an ordered collection of items, which might be of different types. Unlike strings, lists are mutable, which means that their contents can be modified, without having to create a new list. This feature makes them very useful for handling datasets, performing various operations like sorting and searching, and implementing data structures like stacks and queues."
   ]
  },
  {
   "cell_type": "code",
   "execution_count": null,
   "id": "23c464f8-d4dc-4763-86e2-683baac4260d",
   "metadata": {},
   "outputs": [],
   "source": [
    "#Creating an empty list\n",
    "#An empty list is a list that contains no items. Below, the list fruits is an example of an empty list.\n",
    "NAME = []"
   ]
  },
  {
   "cell_type": "code",
   "execution_count": 18,
   "id": "762670f2-dbd6-41fa-93de-a081ab04f007",
   "metadata": {},
   "outputs": [
    {
     "name": "stdout",
     "output_type": "stream",
     "text": [
      "['anish', 'lucky', 'samad', 'kaif']\n",
      "[9, 5, 4, 6, 7, 2, 1]\n"
     ]
    }
   ],
   "source": [
    "name = ['anish','lucky','samad','kaif']\n",
    "num = [9,5,4,6,7,2,1]\n",
    "\n",
    "name_list = list(name)\n",
    "print(name_list)\n",
    "print(list(num))"
   ]
  },
  {
   "cell_type": "code",
   "execution_count": null,
   "id": "0b85d7d5-3e06-4cf3-a111-10b63121d49d",
   "metadata": {},
   "outputs": [],
   "source": [
    "#created nested list"
   ]
  },
  {
   "cell_type": "code",
   "execution_count": 39,
   "id": "458be6b4-507d-47f2-a0a9-d49c92c13208",
   "metadata": {},
   "outputs": [
    {
     "name": "stdout",
     "output_type": "stream",
     "text": [
      "[[1, 2], [3, 4], [5, 6], [7, 8]]\n"
     ]
    }
   ],
   "source": [
    "num = [[1,2],[3,4],[5,6],[7,8]]\n",
    "\n",
    "print(num)"
   ]
  },
  {
   "cell_type": "markdown",
   "id": "5bab7991-e85b-4396-87a5-b74068b61f1e",
   "metadata": {},
   "source": [
    "mixed list "
   ]
  },
  {
   "cell_type": "code",
   "execution_count": 42,
   "id": "66536b4f-8aa8-4943-a7af-f3e5dd9b599c",
   "metadata": {},
   "outputs": [
    {
     "name": "stdout",
     "output_type": "stream",
     "text": [
      "<class 'list'>\n",
      "<class 'str'>\n",
      "<class 'int'>\n",
      "<class 'float'>\n",
      "<class 'bool'>\n",
      "<class 'list'>\n"
     ]
    }
   ],
   "source": [
    "mixed_type = ['anish',120,3.15, True ,[2,5] ]\n",
    "print(type(mixed_type))\n",
    "print(type(mixed_type[0]))\n",
    "print(type(mixed_type[1]))\n",
    "print(type(mixed_type[2]))\n",
    "print(type(mixed_type[3]))\n",
    "print(type(mixed_type[4]))"
   ]
  },
  {
   "cell_type": "markdown",
   "id": "45b2c07c-6c74-4cb3-95f5-0f80c3bfde80",
   "metadata": {},
   "source": [
    "Slicing elements from a list\n",
    "\n",
    "List slicing allows you to extract a specific range of elements from a list. This is done using the syntax [start:stop:step], where start represents the index for the beginning of the slice, stop is the endpoint (not included in the slice), and step is the interval between elements. This technique is crucial for data manipulation and subset extraction without modifying the original list."
   ]
  },
  {
   "cell_type": "code",
   "execution_count": 43,
   "id": "597accee-a871-4458-b684-d83cc7415a22",
   "metadata": {},
   "outputs": [
    {
     "name": "stdout",
     "output_type": "stream",
     "text": [
      "['a', 'n', 'i']\n"
     ]
    }
   ],
   "source": [
    "name = ['a','n','i','s','h']\n",
    "name_slic = name[0:3]\n",
    "print(name_slic)"
   ]
  },
  {
   "cell_type": "markdown",
   "id": "67391149-7150-4b43-aba1-a5288720f8cb",
   "metadata": {},
   "source": [
    "nested slicing"
   ]
  },
  {
   "cell_type": "code",
   "execution_count": 45,
   "id": "0bea354c-e35a-4f22-b774-9a20720d8223",
   "metadata": {},
   "outputs": [
    {
     "name": "stdout",
     "output_type": "stream",
     "text": [
      "[3, 4]\n"
     ]
    }
   ],
   "source": [
    "nested = [[1,2],[3,4],[5,6],[7,8]]\n",
    "nested_slicing = nested[1][0:2]\n",
    "print(nested_slicing)"
   ]
  },
  {
   "cell_type": "code",
   "execution_count": 50,
   "id": "0000e277-aad5-495e-80c5-66ad4d6a5b25",
   "metadata": {},
   "outputs": [
    {
     "name": "stdout",
     "output_type": "stream",
     "text": [
      "[4, 5, 9]\n",
      "lucky\n"
     ]
    }
   ],
   "source": [
    "#another example \n",
    "nested_list = [['ansih','lucky','samad'],[1,2,3,4,5,9],3.145789,[True]]\n",
    "nst_slic = nested_list [0][1]\n",
    "nst_slic1 = nested_list [1][3:]\n",
    "print(nst_slic1)\n",
    "print(nst_slic)"
   ]
  },
  {
   "cell_type": "markdown",
   "id": "59624ac4-eff6-4766-bf7c-a014eb939de8",
   "metadata": {},
   "source": [
    "Finding the length of a list\n",
    "One of the most fundamental operations you can perform on a list is finding out how many elements it contains."
   ]
  },
  {
   "cell_type": "code",
   "execution_count": 1,
   "id": "7ee14f3b-f3d5-4f4f-8c3c-c6ed25c2bc5f",
   "metadata": {},
   "outputs": [
    {
     "name": "stdout",
     "output_type": "stream",
     "text": [
      "10\n"
     ]
    }
   ],
   "source": [
    "my_list = [1,2,3,4,5,6,7,8,9,10]\n",
    "length_list = len(my_list)\n",
    "print(length_list)"
   ]
  },
  {
   "cell_type": "markdown",
   "id": "ad11677d-b510-41b0-a316-fce587bc417b",
   "metadata": {},
   "source": [
    "Finding the largest element in a list\n",
    "Python provides a built-in function, max(), to find the largest element in a list."
   ]
  },
  {
   "cell_type": "code",
   "execution_count": 2,
   "id": "a5288b48-97f5-4e61-84f1-cf382005e011",
   "metadata": {},
   "outputs": [
    {
     "name": "stdout",
     "output_type": "stream",
     "text": [
      "10\n"
     ]
    }
   ],
   "source": [
    "my_list = [1,2,3,4,5,6,7,8,9,10]\n",
    "max_list = max(my_list)\n",
    "print(max_list)"
   ]
  },
  {
   "cell_type": "markdown",
   "id": "e7526517-5174-4af5-b76e-d27ade2e20bc",
   "metadata": {},
   "source": [
    "Find the smallest element in a list\n",
    "Similar to finding the largest element, Python provides a min() function to find the smallest element in a list."
   ]
  },
  {
   "cell_type": "code",
   "execution_count": 3,
   "id": "89284383-1b69-405e-8e10-c5a4e2952543",
   "metadata": {},
   "outputs": [
    {
     "name": "stdout",
     "output_type": "stream",
     "text": [
      "1\n"
     ]
    }
   ],
   "source": [
    "my_list = [1,2,3,4,5,6,7,8,9,10]\n",
    "min_list = min(my_list)\n",
    "print(min_list)"
   ]
  },
  {
   "cell_type": "markdown",
   "id": "a370d00b-59ca-47aa-be00-27ae0978083a",
   "metadata": {},
   "source": [
    "Finding the index of any element in a list\n",
    "\n",
    "To locate the position of a specific element in a list, you can use the .index() method."
   ]
  },
  {
   "cell_type": "code",
   "execution_count": 5,
   "id": "73c3452e-b8c1-42e1-84df-1456c13541ec",
   "metadata": {},
   "outputs": [
    {
     "name": "stdout",
     "output_type": "stream",
     "text": [
      "the index of 6 is :  5\n"
     ]
    }
   ],
   "source": [
    "my_list = [1,2,3,4,5,6,7,8,9,10]\n",
    "index_ele = my_list.index(6)\n",
    "print('the index of 6 is : ',index_ele)"
   ]
  },
  {
   "cell_type": "markdown",
   "id": "e2dcb554-2933-4982-8692-69fdd345170a",
   "metadata": {},
   "source": [
    "Finding the frequency of an element in a list\n",
    "\n",
    "If you need to know how many times a particular element appears in a list, you can use the .count() method."
   ]
  },
  {
   "cell_type": "code",
   "execution_count": 7,
   "id": "3a1c1479-353b-4d77-bb39-9e8588dbd78c",
   "metadata": {},
   "outputs": [
    {
     "name": "stdout",
     "output_type": "stream",
     "text": [
      "4\n"
     ]
    }
   ],
   "source": [
    "my_list = ['anish','lucky','anish','anish','samad','apple','bananna','anish']\n",
    "count_list = my_list.count('anish')\n",
    "print(count_list)"
   ]
  },
  {
   "cell_type": "markdown",
   "id": "3ce198bf-e2c3-461e-9e67-b6c00ef8baf1",
   "metadata": {},
   "source": [
    "Checking whether an element or a list is present in a list\n",
    "\n",
    "You can check for the presence of an element in a list using the in operator."
   ]
  },
  {
   "cell_type": "code",
   "execution_count": 8,
   "id": "21553fcc-1d03-4d88-82ce-2363004b9bd6",
   "metadata": {},
   "outputs": [
    {
     "name": "stdout",
     "output_type": "stream",
     "text": [
      "True\n",
      "False\n"
     ]
    }
   ],
   "source": [
    "my_list = [1,2,3,4,5,6,7,8,9,10]\n",
    "is_1_present = 1 in my_list\n",
    "is_0_present = 0 in my_list\n",
    "print(is_1_present)\n",
    "print(is_0_present)"
   ]
  },
  {
   "cell_type": "markdown",
   "id": "472bb850-84eb-4d4b-a47f-02337e073799",
   "metadata": {},
   "source": [
    "Manipulating lists\n",
    "Adding elements to a list\n",
    "\n",
    "append adds the specified element to the end of the list, effectively increasing its length by one. It takes one argument, which is the element to be appended to the list."
   ]
  },
  {
   "cell_type": "code",
   "execution_count": 11,
   "id": "9f8089e0-f701-4348-a50a-d1cf0cbd92ab",
   "metadata": {},
   "outputs": [
    {
     "name": "stdout",
     "output_type": "stream",
     "text": [
      "['apple', 'banana', 'kiwi', 'orange', 'mango', 'green apple']\n"
     ]
    }
   ],
   "source": [
    "my_fruit = ['apple','banana','kiwi','orange','mango']\n",
    "my_fruit.append('green apple')\n",
    "print(my_fruit)"
   ]
  },
  {
   "cell_type": "markdown",
   "id": "442af2c7-aa8f-438f-a7b8-bc5b23875afe",
   "metadata": {},
   "source": [
    "Deleting the last element from a list\n",
    "\n",
    "The .pop() method removes the last element from a list and returns it."
   ]
  },
  {
   "cell_type": "code",
   "execution_count": 14,
   "id": "b2cb809d-896c-4a67-9798-9dcf9e52bd30",
   "metadata": {},
   "outputs": [
    {
     "name": "stdout",
     "output_type": "stream",
     "text": [
      "mango\n"
     ]
    },
    {
     "data": {
      "text/plain": [
       "['apple', 'banana', 'kiwi', 'orange']"
      ]
     },
     "execution_count": 14,
     "metadata": {},
     "output_type": "execute_result"
    }
   ],
   "source": [
    "my_fruit = ['apple','banana','kiwi','orange','mango']\n",
    "removing = my_fruit.pop() #pop function dont take any specific arrgument and pop fun firstly display and remove the last function\n",
    "print(removing)\n",
    "my_fruit"
   ]
  },
  {
   "cell_type": "markdown",
   "id": "7357104a-04a8-4745-b6c3-44b33943301e",
   "metadata": {},
   "source": [
    "Deleting an element at a specific position\n",
    "\n",
    "You can delete an element at a specific index using the del keyword."
   ]
  },
  {
   "cell_type": "code",
   "execution_count": 32,
   "id": "265926dd-0443-4c6f-958c-94372634710e",
   "metadata": {},
   "outputs": [
    {
     "name": "stdout",
     "output_type": "stream",
     "text": [
      "['apple', 'kiwi', 'orange', 'mango']\n",
      "['apple', 'kiwi', 'orange']\n"
     ]
    }
   ],
   "source": [
    "my_fruit = ['apple','banana','kiwi','orange','mango']\n",
    "del my_fruit[1] # 1 index is banana\n",
    "print(my_fruit)\n",
    "del my_fruit[3] #after remaining the del func delet the 3rd index of the remaing\n",
    "print(my_fruit)"
   ]
  },
  {
   "cell_type": "markdown",
   "id": "5e280a73-2028-4ab8-b904-d7e49b752557",
   "metadata": {},
   "source": [
    "Removing a specific element from a list\n",
    "\n",
    "You can remove a specific element from a list using the .remove() method."
   ]
  },
  {
   "cell_type": "code",
   "execution_count": 33,
   "id": "8585910f-1678-4fe5-96d8-28bab26e98be",
   "metadata": {},
   "outputs": [
    {
     "name": "stdout",
     "output_type": "stream",
     "text": [
      "['apple', 'banana', 'orange', 'mango']\n"
     ]
    }
   ],
   "source": [
    "my_fruit = ['apple','banana','kiwi','orange','mango']\n",
    "my_fruit.remove('kiwi')\n",
    "print(my_fruit)"
   ]
  },
  {
   "cell_type": "markdown",
   "id": "a879e72b-09ae-4f14-92ed-a0be56ae6503",
   "metadata": {},
   "source": [
    "finding the sum of whole element"
   ]
  },
  {
   "cell_type": "code",
   "execution_count": 34,
   "id": "d8475c76-2ee8-493a-b385-45c8fd48d019",
   "metadata": {},
   "outputs": [
    {
     "name": "stdout",
     "output_type": "stream",
     "text": [
      "55\n"
     ]
    }
   ],
   "source": [
    "my_list = [1,2,3,4,5,6,7,8,9,10]\n",
    "sum_of_ele = sum(my_list)\n",
    "print(sum_of_ele)"
   ]
  },
  {
   "cell_type": "markdown",
   "id": "9363e0b0-d993-41f8-80f1-e9adf7e6efb3",
   "metadata": {},
   "source": [
    "finding the average of whole element"
   ]
  },
  {
   "cell_type": "code",
   "execution_count": 35,
   "id": "bbee7f65-5022-451c-a9de-c82992d0b9aa",
   "metadata": {},
   "outputs": [
    {
     "name": "stdout",
     "output_type": "stream",
     "text": [
      "5.5\n"
     ]
    }
   ],
   "source": [
    "my_list = [1,2,3,4,5,6,7,8,9,10]\n",
    "avg_list = sum(my_list) / len(my_list)\n",
    "print(avg_list)"
   ]
  },
  {
   "cell_type": "raw",
   "id": "16d977b2-ea45-4336-b869-a14cd61bfd40",
   "metadata": {},
   "source": [
    "sort the list in accending order"
   ]
  },
  {
   "cell_type": "code",
   "execution_count": 37,
   "id": "f35a4d94-ca79-4578-86df-f277229236af",
   "metadata": {},
   "outputs": [
    {
     "name": "stdout",
     "output_type": "stream",
     "text": [
      "[1, 1, 2, 3, 3, 4, 4, 5, 5, 6, 6, 7, 7, 9, 9]\n",
      "None\n"
     ]
    }
   ],
   "source": [
    "my_list = [5,6,1,7,9,1,3,4,5,7,9,2,4,6,3]\n",
    "my_list.sort()\n",
    "print(my_list)\n",
    "for_reverse = my_list.sort(reverse = True)\n",
    "print(for_reverse)"
   ]
  },
  {
   "cell_type": "raw",
   "id": "be505899-aa99-4751-aa0e-f727943c9611",
   "metadata": {},
   "source": [
    "sort in decending"
   ]
  },
  {
   "cell_type": "code",
   "execution_count": 42,
   "id": "92e8e83d-342d-49fb-9f4e-e276ac48b38e",
   "metadata": {},
   "outputs": [
    {
     "name": "stdout",
     "output_type": "stream",
     "text": [
      "[9, 9, 7, 7, 6, 6, 5, 5, 4, 4, 3, 3, 2, 1, 1]\n"
     ]
    }
   ],
   "source": [
    "my_list = [5,6,1,7,9,1,3,4,5,7,9,2,4,6,3]\n",
    "my_list.sort(reverse = True)\n",
    "print(my_list)"
   ]
  },
  {
   "cell_type": "markdown",
   "id": "e3da6436-5532-48c2-9b88-5e91901f5d6a",
   "metadata": {},
   "source": [
    "Reversing a list\n",
    "\n",
    "Another way to reverse the elements in a list is the .reverse() method. This changes the list in place, meaning it changes the original list rather than creating a new one. "
   ]
  },
  {
   "cell_type": "code",
   "execution_count": 44,
   "id": "ad6c4747-8b17-4686-b352-a2f554d86137",
   "metadata": {},
   "outputs": [
    {
     "name": "stdout",
     "output_type": "stream",
     "text": [
      "[9, 9, 7, 7, 6, 6, 5, 5, 4, 4, 3, 3, 2, 1, 1]\n"
     ]
    }
   ],
   "source": [
    "my_list = [5,6,1,7,9,1,3,4,5,7,9,2,4,6,3]\n",
    "my_list.sort()\n",
    "my_list.reverse()\n",
    "print(my_list)"
   ]
  },
  {
   "cell_type": "markdown",
   "id": "726b09b0-ab32-44a7-97f6-953727844f58",
   "metadata": {},
   "source": [
    "Repeating a list\n",
    "\n",
    "If you want to repeat the elements of a list a certain number of times, you can use the multiplication operator(*)."
   ]
  },
  {
   "cell_type": "code",
   "execution_count": 45,
   "id": "62ae6e21-4c30-4ee9-9269-88cae5b2753f",
   "metadata": {},
   "outputs": [
    {
     "name": "stdout",
     "output_type": "stream",
     "text": [
      "[1, 2, 3, 1, 2, 3, 1, 2, 3]\n"
     ]
    }
   ],
   "source": [
    "my_list = [1,2,3]\n",
    "repeated_list = my_list * 3\n",
    "print(repeated_list)"
   ]
  },
  {
   "cell_type": "markdown",
   "id": "6add99fd-1dea-4599-8611-b69fcd1b9606",
   "metadata": {},
   "source": [
    "Merging two lists\n",
    "\n",
    "You can concatenate two lists simply by using the + operator or the .extend() method. The + operator is used to concatenate two lists together, creating a new list as the result. In this case, the original lists remain unchanged."
   ]
  },
  {
   "cell_type": "code",
   "execution_count": 46,
   "id": "f86583a9-8861-4772-987b-42f3aed2366a",
   "metadata": {},
   "outputs": [
    {
     "name": "stdout",
     "output_type": "stream",
     "text": [
      "[200, 300]\n"
     ]
    }
   ],
   "source": [
    "list_1 = [200]\n",
    "list_2 = [300]\n",
    "final_list = list_1 + list_2\n",
    "print(final_list)"
   ]
  },
  {
   "cell_type": "markdown",
   "id": "1f405949-08e8-42ea-af65-6fffccc6e33e",
   "metadata": {},
   "source": [
    "On the other hand, the .extend() method is used to append all the elements from another iterable (such as a list) to the end of a list. It modifies the original list in place, meaning it changes the original list rather than creating a new one.\n",
    "\n",
    "\n",
    "It takes a single argument, which is an iterable (typically another list), and adds its elements to the end of the list."
   ]
  },
  {
   "cell_type": "code",
   "execution_count": 47,
   "id": "5733c7f0-7645-4d2f-8963-9f1cef5a6b87",
   "metadata": {},
   "outputs": [
    {
     "name": "stdout",
     "output_type": "stream",
     "text": [
      "[200, 300]\n"
     ]
    }
   ],
   "source": [
    "list_1 = [200]\n",
    "list_2 = [300]\n",
    "list_1.extend(list_2)\n",
    "print(list_1)"
   ]
  },
  {
   "cell_type": "markdown",
   "id": "0a05bc73-6f5d-47a3-8bb9-3b26fd378756",
   "metadata": {},
   "source": [
    "Joining substrings\n",
    "\n",
    "Combining substrings into a single string is a common requirement in Python, often achieved using the .join() method. This method takes an iterable, such as a list of strings, and concatenates its elements separated by a string separator.\n",
    "In this example, we demonstrate how to reassemble a list of words into a full sentence, separated by spaces, using .join()."
   ]
  },
  {
   "cell_type": "code",
   "execution_count": 53,
   "id": "32db98b7-dcf8-43bd-bec2-24798d27867c",
   "metadata": {},
   "outputs": [
    {
     "name": "stdout",
     "output_type": "stream",
     "text": [
      "['hi', 'my', 'name', 'is', 'ansih', 'verma']\n",
      "hi my name is ansih verma\n"
     ]
    }
   ],
   "source": [
    "my_string = 'hi my name is ansih verma '\n",
    "split_str = my_string.split()\n",
    "print(split_str)\n",
    "join_list_ele = ' '.join(split_str)\n",
    "print(join_list_ele)\n"
   ]
  },
  {
   "cell_type": "code",
   "execution_count": null,
   "id": "d99e2e26-8d07-48bb-a97b-765c21220578",
   "metadata": {},
   "outputs": [],
   "source": [
    "CLEAR FUNCTION FOR EMPTY LIST"
   ]
  },
  {
   "cell_type": "code",
   "execution_count": 54,
   "id": "9e312297-2922-4579-8959-79f23c0a6360",
   "metadata": {},
   "outputs": [
    {
     "name": "stdout",
     "output_type": "stream",
     "text": [
      "[]\n"
     ]
    }
   ],
   "source": [
    "my_list = [1,2,3,4,5,6,7,8,9,10]\n",
    "my_list.clear()\n",
    "print(my_list)"
   ]
  },
  {
   "cell_type": "markdown",
   "id": "7a18bad7-c93f-4f58-a589-7d67f2614e74",
   "metadata": {},
   "source": [
    "INSER FUNCTION"
   ]
  },
  {
   "cell_type": "code",
   "execution_count": 56,
   "id": "84b5f8a7-eb84-4989-bcb7-4d2dfc43ef71",
   "metadata": {},
   "outputs": [
    {
     "name": "stdout",
     "output_type": "stream",
     "text": [
      "[1, 2, 3, 4, 5, 6, 7, 8, 9, 10]\n"
     ]
    }
   ],
   "source": [
    "my_list = [1,2,3,4,5,7,8,9,10] # i forget 6\n",
    "my_list.insert(5,6) #in insert fuction first you pass the place where want to insert and then pass the value you want\n",
    "print(my_list)"
   ]
  },
  {
   "cell_type": "code",
   "execution_count": null,
   "id": "c9228012-c2b9-44ae-b79c-e0a6350f3111",
   "metadata": {},
   "outputs": [],
   "source": []
  },
  {
   "cell_type": "code",
   "execution_count": null,
   "id": "74df6fbe-0f2d-44c6-8b83-1c8fc43dc345",
   "metadata": {},
   "outputs": [],
   "source": []
  },
  {
   "cell_type": "code",
   "execution_count": null,
   "id": "fb469ed8-e23b-4b5b-9eb3-cd1358b66c9d",
   "metadata": {},
   "outputs": [],
   "source": []
  },
  {
   "cell_type": "code",
   "execution_count": null,
   "id": "a6b0476a-74b8-4d5b-a224-e611231f72d5",
   "metadata": {},
   "outputs": [],
   "source": []
  },
  {
   "cell_type": "code",
   "execution_count": null,
   "id": "299f94e3-6963-4a5f-9bb5-d2f1470362d0",
   "metadata": {},
   "outputs": [],
   "source": []
  },
  {
   "cell_type": "code",
   "execution_count": null,
   "id": "d13f105e-e905-4ce7-811e-eeff691cfac2",
   "metadata": {},
   "outputs": [],
   "source": []
  },
  {
   "cell_type": "code",
   "execution_count": null,
   "id": "db6c87e3-8cc6-4303-8381-0f72f8716047",
   "metadata": {},
   "outputs": [],
   "source": []
  }
 ],
 "metadata": {
  "kernelspec": {
   "display_name": "Python 3 (ipykernel)",
   "language": "python",
   "name": "python3"
  },
  "language_info": {
   "codemirror_mode": {
    "name": "ipython",
    "version": 3
   },
   "file_extension": ".py",
   "mimetype": "text/x-python",
   "name": "python",
   "nbconvert_exporter": "python",
   "pygments_lexer": "ipython3",
   "version": "3.12.7"
  }
 },
 "nbformat": 4,
 "nbformat_minor": 5
}
