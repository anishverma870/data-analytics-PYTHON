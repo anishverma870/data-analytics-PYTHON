{
 "cells": [
  {
   "cell_type": "markdown",
   "id": "838748ae-c289-4503-81a3-48586435b400",
   "metadata": {},
   "source": [
    "# CONDITIONALS "
   ]
  },
  {
   "cell_type": "code",
   "execution_count": null,
   "id": "dc003699-84f0-4b92-9e6b-c72037561591",
   "metadata": {},
   "outputs": [],
   "source": [
    "#if statement\n",
    "#if-else statement\n",
    "#if-elif-else statement\n",
    "#match-case statement (introduced in Python 3.10)"
   ]
  },
  {
   "cell_type": "code",
   "execution_count": 5,
   "id": "24cf02e3-e388-4151-adf4-3d03ef0fe6a5",
   "metadata": {},
   "outputs": [
    {
     "name": "stdout",
     "output_type": "stream",
     "text": [
      "its cold\n"
     ]
    }
   ],
   "source": [
    "temp = 19\n",
    "\n",
    "if temp > 20:\n",
    "    print('temperature is hot ')\n",
    "else: \n",
    "    print('its cold')\n"
   ]
  },
  {
   "cell_type": "markdown",
   "id": "c0e74589-c4a9-4312-9035-8c7672434732",
   "metadata": {},
   "source": [
    "### Compound conditions"
   ]
  },
  {
   "cell_type": "code",
   "execution_count": 6,
   "id": "71d06ad4-e557-4f2c-9677-6b9f669bc796",
   "metadata": {},
   "outputs": [
    {
     "name": "stdout",
     "output_type": "stream",
     "text": [
      "its getting hot\n"
     ]
    }
   ],
   "source": [
    "is_sunny = True\n",
    "temp = 28\n",
    "if is_sunny and temp > 20 :\n",
    "    print('its getting hot')"
   ]
  },
  {
   "cell_type": "markdown",
   "id": "2b470456-e068-4cfb-980b-5b1aa01d3b49",
   "metadata": {},
   "source": [
    "#### Conditions on variables"
   ]
  },
  {
   "cell_type": "code",
   "execution_count": 13,
   "id": "5a548f30-035f-40a9-a547-8a16df7a0948",
   "metadata": {},
   "outputs": [
    {
     "name": "stdin",
     "output_type": "stream",
     "text": [
      "enter the name  anish\n"
     ]
    },
    {
     "name": "stdout",
     "output_type": "stream",
     "text": [
      "the char are less the 10 char\n"
     ]
    }
   ],
   "source": [
    "name = str(input('enter the name '))\n",
    "if len (name ) >= 10 :\n",
    "    print('the char are more then and equal to 10')\n",
    "else :\n",
    "    print('the char are less the 10 char')"
   ]
  },
  {
   "cell_type": "markdown",
   "id": "a877a4e4-262c-4391-8567-1a5240bc1cd4",
   "metadata": {},
   "source": [
    "### NESTED IF STATEMENTS"
   ]
  },
  {
   "cell_type": "code",
   "execution_count": 3,
   "id": "22c75aab-d6a4-42d3-a56a-471d9e4bd7d3",
   "metadata": {},
   "outputs": [
    {
     "name": "stdin",
     "output_type": "stream",
     "text": [
      "enter your credit score  700\n",
      "enter your income 200\n"
     ]
    },
    {
     "name": "stdout",
     "output_type": "stream",
     "text": [
      "inceficient balance\n"
     ]
    }
   ],
   "source": [
    "credit_score = int(input('enter your credit score '))\n",
    "income = int(input('enter your income'))\n",
    "if credit_score >= 600 :\n",
    "    if income > 20000:\n",
    "        print(\"credit card approved \")\n",
    "    else:\n",
    "        print('inceficient income')\n",
    "else:\n",
    "    print('incefeceint credit score')"
   ]
  },
  {
   "cell_type": "markdown",
   "id": "944aee73-bebb-4ad3-ba68-ca7df9fbc384",
   "metadata": {},
   "source": [
    "## MATCH CASE STATEMENT"
   ]
  },
  {
   "cell_type": "code",
   "execution_count": 7,
   "id": "6368126d-1763-4ab7-b2fd-34271eaf23be",
   "metadata": {},
   "outputs": [
    {
     "name": "stdin",
     "output_type": "stream",
     "text": [
      " 6\n"
     ]
    },
    {
     "name": "stdout",
     "output_type": "stream",
     "text": [
      "saturday\n"
     ]
    }
   ],
   "source": [
    "weeks_day = int(input())\n",
    "match weeks_day :\n",
    "    case 1 :\n",
    "        print('monday')\n",
    "    case 2 :\n",
    "        print(\"tuesday\")\n",
    "    case 3 :\n",
    "        print('wednesday')\n",
    "    case 4 :\n",
    "        print('thursday')\n",
    "    case 5 :\n",
    "        print('friday ')\n",
    "    case 6 :\n",
    "        print('saturday')\n",
    "    case 7 :\n",
    "        print('sunday')"
   ]
  },
  {
   "cell_type": "markdown",
   "id": "f8f02311-68ca-4457-bf28-cd4bbe4a47aa",
   "metadata": {},
   "source": [
    "### ELIF STATEMENT "
   ]
  },
  {
   "cell_type": "code",
   "execution_count": 11,
   "id": "c2a054a9-586f-48ef-a318-ab1affeef58b",
   "metadata": {},
   "outputs": [
    {
     "name": "stdin",
     "output_type": "stream",
     "text": [
      " 41111111\n"
     ]
    },
    {
     "name": "stdout",
     "output_type": "stream",
     "text": [
      "the tax applied  6166666.649999999\n"
     ]
    }
   ],
   "source": [
    "salary = int(input())\n",
    "if salary <= 20000 :\n",
    "    print(\"no tax are applied\")\n",
    "elif salary >20000 and salary <=30000 :\n",
    "    print('the tax are applied',salary * 0.05)\n",
    "elif salary > 30000 and salary <=40000 :\n",
    "    print('the tax are applied ',salary * 0.10)\n",
    "elif salary > 40000 :\n",
    "    print('the tax applied ',salary * 0.15)\n",
    "else:\n",
    "    print(\"enter your salry\")"
   ]
  },
  {
   "cell_type": "markdown",
   "id": "4c7892c1-bd38-4cf7-90ff-39e25220f39e",
   "metadata": {},
   "source": [
    "# LOOPS"
   ]
  },
  {
   "cell_type": "markdown",
   "id": "7456532a-fe76-4984-a95f-04400d3314df",
   "metadata": {},
   "source": [
    "### while loop"
   ]
  },
  {
   "cell_type": "markdown",
   "id": "762c8796-c90d-4711-98c8-2ac5c5a638d3",
   "metadata": {},
   "source": [
    "The while loop\n",
    "\n",
    "A while loop in Python repeatedly executes a target statement as long as a given condition remains true. It's one of the simplest forms of looping structures in Python and serves as the basis for more complex iterations. The general form of a while loop is:"
   ]
  },
  {
   "cell_type": "code",
   "execution_count": null,
   "id": "f687cee1-692b-4e9a-9102-17926201e59c",
   "metadata": {},
   "outputs": [],
   "source": [
    "while condition: \n",
    "\n",
    "    # execute code block "
   ]
  },
  {
   "cell_type": "code",
   "execution_count": 3,
   "id": "279a7dd5-9aa6-465e-8524-d8b10b0003d4",
   "metadata": {},
   "outputs": [
    {
     "name": "stdout",
     "output_type": "stream",
     "text": [
      "4\n",
      "3\n",
      "2\n",
      "1\n",
      "0\n"
     ]
    }
   ],
   "source": [
    "\n",
    "num = 5\n",
    "while num > 0 :\n",
    "    num = num - 1\n",
    "    print(num)"
   ]
  },
  {
   "cell_type": "code",
   "execution_count": 13,
   "id": "d28cb5c0-77ce-4fb0-a9b7-831942facd90",
   "metadata": {},
   "outputs": [
    {
     "name": "stdout",
     "output_type": "stream",
     "text": [
      "a b c d e f g h i j k l m n o p q r s t u v w x y z "
     ]
    }
   ],
   "source": [
    "# while loop for the write the alphabets \n",
    "alpha = \"a\"\n",
    "while alpha <= \"z\" :\n",
    "    print(alpha ,end=\" \")\n",
    "    alpha = chr(ord(alpha )+ 1)"
   ]
  },
  {
   "cell_type": "code",
   "execution_count": 20,
   "id": "f65104d0-b12e-4f92-874b-51a5f2e11a97",
   "metadata": {},
   "outputs": [
    {
     "name": "stdout",
     "output_type": "stream",
     "text": [
      "a\n",
      "n\n",
      "i\n",
      "s\n",
      "h\n"
     ]
    }
   ],
   "source": [
    "my_str = 'anish'\n",
    "index = 0\n",
    "while index < len(my_str):\n",
    "    \n",
    "    print(my_str[index])\n",
    "    index = index + 1\n",
    "      "
   ]
  },
  {
   "cell_type": "code",
   "execution_count": 19,
   "id": "687a3dc2-9f45-4cb1-a2cb-a892c9a1eed9",
   "metadata": {},
   "outputs": [
    {
     "name": "stdout",
     "output_type": "stream",
     "text": [
      "a\n",
      "n\n",
      "i\n",
      "s\n",
      "h\n"
     ]
    }
   ],
   "source": [
    "my_str = 'anish'\n",
    "index = 0\n",
    "\n",
    "while index < len(my_str):\n",
    "    print(my_str[index])  # Print before incrementing index\n",
    "    index = index + 1  # Move to the next character\n"
   ]
  },
  {
   "cell_type": "code",
   "execution_count": 23,
   "id": "f632ff4f-8911-4556-952e-1105d05617bb",
   "metadata": {},
   "outputs": [
    {
     "name": "stdout",
     "output_type": "stream",
     "text": [
      "1\n",
      "2\n"
     ]
    }
   ],
   "source": [
    "#print number 1 to hundred\n",
    "i = 1\n",
    "while i <= 100:\n",
    "    print(i)\n",
    "    i = i +1 \n"
   ]
  },
  {
   "cell_type": "code",
   "execution_count": 2,
   "id": "fe95ecdb-e7cb-490d-84fe-1ea8b964ae4f",
   "metadata": {},
   "outputs": [
    {
     "name": "stdout",
     "output_type": "stream",
     "text": [
      "100\n",
      "99\n"
     ]
    }
   ],
   "source": [
    "#print the num from 100 to 1\n",
    "i = 100\n",
    "while i >= 1:\n",
    "    print(i)\n",
    "    i = i-1"
   ]
  },
  {
   "cell_type": "code",
   "execution_count": 7,
   "id": "46abdc5a-5d7b-45a8-a37b-b2ecb95eca9b",
   "metadata": {},
   "outputs": [
    {
     "name": "stdin",
     "output_type": "stream",
     "text": [
      "enter the number 2\n"
     ]
    },
    {
     "name": "stdout",
     "output_type": "stream",
     "text": [
      "2\n",
      "4\n",
      "6\n",
      "8\n",
      "10\n",
      "12\n",
      "14\n",
      "16\n",
      "18\n",
      "20\n"
     ]
    }
   ],
   "source": [
    "# print the n num of table\n",
    "num = int(input(\"enter the number\"))\n",
    "\n",
    "i = 1\n",
    "while i <= 10:\n",
    "    print(num * i)\n",
    "    i = i + 1\n"
   ]
  },
  {
   "cell_type": "code",
   "execution_count": 12,
   "id": "b06bd3df-fce7-4b24-b654-8039fcfaefce",
   "metadata": {},
   "outputs": [
    {
     "name": "stdout",
     "output_type": "stream",
     "text": [
      "1\n",
      "23\n",
      "4\n",
      "5\n",
      "6\n",
      "42\n",
      "1\n",
      "5\n",
      "4\n",
      "82\n",
      "1\n",
      "3\n",
      "45\n"
     ]
    }
   ],
   "source": [
    "# print the num from list \n",
    "list1 = [1,23,4,5,6,42,1,5,4,82,1,3,45]\n",
    "i = 0\n",
    "while i <= len(list1)-1:\n",
    "    print(list1[i])\n",
    "    i = i+1"
   ]
  },
  {
   "cell_type": "code",
   "execution_count": 1,
   "id": "7c254fa2-ffb8-4dc7-8301-13f71483fe90",
   "metadata": {},
   "outputs": [
    {
     "name": "stdin",
     "output_type": "stream",
     "text": [
      "enter the number  7\n"
     ]
    },
    {
     "name": "stdout",
     "output_type": "stream",
     "text": [
      "found the your num at  6 index\n",
      "found the your num at  8 index\n"
     ]
    }
   ],
   "source": [
    "# search the x value of the tuple\n",
    "tupe = (1,2,3,4,5,6,7,89,7,4,1,5,2)\n",
    "x = int(input('enter the number '))\n",
    "i = 0\n",
    "while i <= len(tupe) - 1:\n",
    "    if tupe[i] == x:\n",
    "        print('found the your num at ', i  ,'index')\n",
    "    i = i+1"
   ]
  },
  {
   "cell_type": "markdown",
   "id": "b4f7df9f-3fd5-4dd5-814a-aebd317abfb5",
   "metadata": {},
   "source": [
    "### break statement"
   ]
  },
  {
   "cell_type": "code",
   "execution_count": 10,
   "id": "6aa9f652-f31a-42c5-9e39-1d2df4a370cf",
   "metadata": {},
   "outputs": [
    {
     "name": "stdout",
     "output_type": "stream",
     "text": [
      "0\n",
      "1\n",
      "2\n",
      "3\n",
      "4\n",
      "5\n",
      "6\n",
      "7\n",
      "8\n",
      "9\n",
      "10\n"
     ]
    }
   ],
   "source": [
    "i = 0\n",
    "while True :\n",
    "    print(i)\n",
    "    i = i +1\n",
    "    if i > 10: # idhar ulta isliye use kiya kyuki break statement use krna tha\n",
    "        break"
   ]
  },
  {
   "cell_type": "markdown",
   "id": "0673d36c-ed78-4741-8026-aa1bdc94d1bd",
   "metadata": {},
   "source": [
    "### continue statement "
   ]
  },
  {
   "cell_type": "code",
   "execution_count": 15,
   "id": "1ef10b72-536a-49b0-8194-3c9993cd8df4",
   "metadata": {},
   "outputs": [
    {
     "name": "stdout",
     "output_type": "stream",
     "text": [
      "0\n",
      "1\n",
      "2\n",
      "4\n",
      "5\n",
      "6\n",
      "7\n",
      "8\n",
      "9\n",
      "10\n",
      "11\n"
     ]
    }
   ],
   "source": [
    "i = 0\n",
    "while i <= 11:\n",
    "    if (i == 3):nn # here the 3 skip and continue to the lo\n",
    "        i = i+1\n",
    "        continue\n",
    "    print(i)\n",
    "    i = i+1"
   ]
  },
  {
   "cell_type": "markdown",
   "id": "ff42b03b-7a51-4366-8a69-f6dad171e892",
   "metadata": {},
   "source": [
    "### NESTED WHILE LOOP"
   ]
  },
  {
   "cell_type": "code",
   "execution_count": 17,
   "id": "8444ddb4-2923-40b7-8757-0f2d715bc35e",
   "metadata": {},
   "outputs": [
    {
     "name": "stdout",
     "output_type": "stream",
     "text": [
      "(0,0)\n",
      "(0,1)\n",
      "(0,2)\n",
      "(0,3)\n",
      "(1,0)\n",
      "(1,1)\n",
      "(1,2)\n",
      "(1,3)\n",
      "(2,0)\n",
      "(2,1)\n",
      "(2,2)\n",
      "(2,3)\n",
      "(3,0)\n",
      "(3,1)\n",
      "(3,2)\n",
      "(3,3)\n"
     ]
    }
   ],
   "source": [
    "#print row and column \n",
    "raw = 0\n",
    "while raw <= 3:\n",
    "    col = 0\n",
    "    while col <= 3:\n",
    "        print(f\"({raw},{col})\")\n",
    "        col = col + 1 \n",
    "    raw = raw + 1\n",
    "        "
   ]
  },
  {
   "cell_type": "code",
   "execution_count": 19,
   "id": "aa22e2f3-52ea-41c7-83b3-339ef2a57493",
   "metadata": {},
   "outputs": [
    {
     "name": "stdout",
     "output_type": "stream",
     "text": [
      "anish\n",
      "nish\n",
      "ish\n",
      "sh\n",
      "h\n"
     ]
    }
   ],
   "source": [
    "word = 'anish'\n",
    "while word: print(word); word = word[1:]\n",
    "\n",
    "\n",
    "#Execution Steps:\n",
    "#word = 'anish', so the loop starts.\n",
    "#First iteration: Prints \"anish\", then updates word to \"nish\".\n",
    "#Second iteration: Prints \"nish\", then updates word to \"ish\".\n",
    "#Third iteration: Prints \"ish\", then updates word to \"sh\".\n",
    "#Fourth iteration: Prints \"sh\", then updates word to \"h\".\n",
    "#Fifth iteration: Prints \"h\", then updates word to an empty string (\"\").\n",
    "#Now word is empty (\"\"), so the loop terminates."
   ]
  },
  {
   "cell_type": "code",
   "execution_count": 23,
   "id": "c5c2ec7f-5923-4fd2-92a4-4bfcfb9ad07f",
   "metadata": {},
   "outputs": [
    {
     "name": "stdout",
     "output_type": "stream",
     "text": [
      "gopu\n",
      "govind\n",
      "goapal\n",
      "gori\n",
      "aman\n",
      "rahul\n",
      "vedansh\n",
      "khshi\n",
      "anish\n"
     ]
    }
   ],
   "source": [
    "list1 = ['anish','khshi','vedansh','rahul','aman','gori','goapal','govind','gopu']\n",
    "while list1:print(list1.pop())"
   ]
  },
  {
   "cell_type": "markdown",
   "id": "6eb49ce1-cae5-4f82-b428-783221f4dbef",
   "metadata": {},
   "source": [
    "# FOR LOOP "
   ]
  },
  {
   "cell_type": "code",
   "execution_count": 35,
   "id": "89fa5904-cdbe-4c27-a512-a555f0b7c7f4",
   "metadata": {},
   "outputs": [
    {
     "name": "stdout",
     "output_type": "stream",
     "text": [
      "anish\n",
      "              ['anish', 'khshi', 'vedansh', 'rahul', 'aman', 'gori', 'goapal', 'govind', 'gopu']\n",
      "khshi\n",
      "              ['anish', 'khshi', 'vedansh', 'rahul', 'aman', 'gori', 'goapal', 'govind', 'gopu']\n",
      "vedansh\n",
      "              ['anish', 'khshi', 'vedansh', 'rahul', 'aman', 'gori', 'goapal', 'govind', 'gopu']\n",
      "rahul\n",
      "              ['anish', 'khshi', 'vedansh', 'rahul', 'aman', 'gori', 'goapal', 'govind', 'gopu']\n",
      "aman\n",
      "              ['anish', 'khshi', 'vedansh', 'rahul', 'aman', 'gori', 'goapal', 'govind', 'gopu']\n",
      "gori\n",
      "              ['anish', 'khshi', 'vedansh', 'rahul', 'aman', 'gori', 'goapal', 'govind', 'gopu']\n",
      "goapal\n",
      "              ['anish', 'khshi', 'vedansh', 'rahul', 'aman', 'gori', 'goapal', 'govind', 'gopu']\n",
      "govind\n",
      "              ['anish', 'khshi', 'vedansh', 'rahul', 'aman', 'gori', 'goapal', 'govind', 'gopu']\n",
      "gopu\n",
      "              ['anish', 'khshi', 'vedansh', 'rahul', 'aman', 'gori', 'goapal', 'govind', 'gopu']\n"
     ]
    }
   ],
   "source": [
    "list1 = ['anish','khshi','vedansh','rahul','aman','gori','goapal','govind','gopu']\n",
    "for i in list1:\n",
    "    print(i) #this is print iteration \n",
    "    print(\"             \",list1)"
   ]
  },
  {
   "cell_type": "code",
   "execution_count": 36,
   "id": "2f45062b-8117-4de5-af02-28c91a1da7ac",
   "metadata": {},
   "outputs": [
    {
     "name": "stdout",
     "output_type": "stream",
     "text": [
      "0\n",
      "1\n",
      "2\n",
      "3\n",
      "4\n",
      "5\n"
     ]
    }
   ],
   "source": [
    "# use of range \n",
    "for i in range(6): # its start from 0 by default and exclude last digit like in this 6\n",
    "    print(i)"
   ]
  },
  {
   "cell_type": "code",
   "execution_count": 40,
   "id": "43126832-63c9-4bc4-9640-ebd5b09229bd",
   "metadata": {},
   "outputs": [
    {
     "name": "stdout",
     "output_type": "stream",
     "text": [
      "1*1 =1\n",
      "1*2 =2\n",
      "1*3 =3\n",
      "2*1 =2\n",
      "2*2 =4\n",
      "2*3 =6\n",
      "3*1 =3\n",
      "3*2 =6\n",
      "3*3 =9\n"
     ]
    }
   ],
   "source": [
    "for i in range(1,4):\n",
    "    for j in range(1,4):\n",
    "        print(f'{i}*{j} ={i*j}' )"
   ]
  },
  {
   "cell_type": "markdown",
   "id": "4cce4d31-365a-43e8-918b-069c72856ff6",
   "metadata": {},
   "source": [
    "### break statement for loop"
   ]
  },
  {
   "cell_type": "code",
   "execution_count": 51,
   "id": "afb63a47-6e42-4d23-9c44-6926e7cbe0fc",
   "metadata": {},
   "outputs": [
    {
     "name": "stdin",
     "output_type": "stream",
     "text": [
      " charlie  \n"
     ]
    },
    {
     "name": "stdout",
     "output_type": "stream",
     "text": [
      "the searching for Charlie in 34431 \n"
     ]
    }
   ],
   "source": [
    "names = {'Aravind': 26765, 'Charlie': 34431, 'Dinesh': 65587, 'Parveen': 45809, 'Ram': 87987, 'Subhadra': 54019, 'Zareena': 21298}\n",
    "rqd_name = str(input()).capitalize().strip()\n",
    "\n",
    "for i in names.keys() :\n",
    "    if i == rqd_name:\n",
    "        print(f'the searching for {i} in {names[i]} ')\n",
    "        break"
   ]
  },
  {
   "cell_type": "code",
   "execution_count": 52,
   "id": "335c0f75-fd8d-4d85-8f5b-e7a46c0c3dc0",
   "metadata": {},
   "outputs": [
    {
     "name": "stdout",
     "output_type": "stream",
     "text": [
      "73250\n"
     ]
    }
   ],
   "source": [
    "total_salse = 0\n",
    "sales_values = {'Q1': 15546, 'Q2': 17623, 'Q3': 21109, 'Q4': 18972}\n",
    "for i in sales_values.values():\n",
    "    total_salse = total_salse + i \n",
    "print(total_salse)\n"
   ]
  },
  {
   "cell_type": "code",
   "execution_count": 1,
   "id": "ae37ca50-8069-4912-a174-19615660987c",
   "metadata": {},
   "outputs": [
    {
     "name": "stdout",
     "output_type": "stream",
     "text": [
      "[0, 3, 6]\n"
     ]
    }
   ],
   "source": [
    "input_list = [0, 1, 2, 3, 4, 5, 6] \n",
    "output_list = [] \n",
    "for x in input_list:  \n",
    "    if x%3 == 0:    \n",
    "      output_list.append(x) \n",
    "\n",
    "print(output_list)"
   ]
  },
  {
   "cell_type": "markdown",
   "id": "0ce1eb2b-ef00-4091-91fd-4cbc68c299ff",
   "metadata": {},
   "source": [
    "## List Comprehensions"
   ]
  },
  {
   "cell_type": "code",
   "execution_count": 6,
   "id": "245dd491-7334-40f9-8d0d-6b26fc4e5fa1",
   "metadata": {},
   "outputs": [
    {
     "name": "stdout",
     "output_type": "stream",
     "text": [
      "[2, 3, 4, 5, 6, 7, 8, 9, 10, 11]\n"
     ]
    }
   ],
   "source": [
    "list1 = [1,2,3,4,5,6,7,8,9,10]\n",
    "new_list =[ i+1 for i in list1] # this is used for less line of code used the format is [kya krna hai,kiske liye krna hai,kismein krna hai]\n",
    "print(new_list)"
   ]
  },
  {
   "cell_type": "code",
   "execution_count": 14,
   "id": "e7bb071c-d8d4-47d3-af74-f9aeaef62002",
   "metadata": {},
   "outputs": [
    {
     "name": "stdout",
     "output_type": "stream",
     "text": [
      "[600, 525, 665, 445, 370, 560, 575]\n"
     ]
    }
   ],
   "source": [
    "daily_sales = [120, 105, 133, 89, 74, 112, 115]\n",
    "rate_val = 5\n",
    "sales = [val * rate_val for val in daily_sales]\n",
    "print(sales)"
   ]
  },
  {
   "cell_type": "markdown",
   "id": "a6e36e57-b68a-495f-8326-4d8831ca24ae",
   "metadata": {},
   "source": [
    "## Dictionary comprehensions"
   ]
  },
  {
   "cell_type": "code",
   "execution_count": null,
   "id": "a07baad8-7aa8-4269-890d-0f05f8cb7e9b",
   "metadata": {},
   "outputs": [],
   "source": [
    "#yeh kal complete krna hai "
   ]
  },
  {
   "cell_type": "code",
   "execution_count": null,
   "id": "6a64beae-81b5-4bdb-84ce-a302e45bb76f",
   "metadata": {},
   "outputs": [],
   "source": []
  },
  {
   "cell_type": "code",
   "execution_count": null,
   "id": "5dc206ae-a654-446e-ae05-024965442220",
   "metadata": {},
   "outputs": [],
   "source": []
  },
  {
   "cell_type": "markdown",
   "id": "44832a73-15fa-4a85-9aab-6dc57cd7411f",
   "metadata": {},
   "source": [
    "#  FUNCTIONS"
   ]
  },
  {
   "cell_type": "markdown",
   "id": "a42a3944-d9b7-486a-a372-2e7e6de01256",
   "metadata": {},
   "source": [
    "### PRE DEFINED FUNCTION"
   ]
  },
  {
   "cell_type": "markdown",
   "id": "1b0491de-44e9-470a-9509-b57c6fc7fe32",
   "metadata": {},
   "source": [
    "Built-in functions in Python are pre-defined and readily available in any Python environment. They allow programmers to perform a wide range of tasks from data manipulation to mathematical computations efficiently and effectively. These functions help streamline coding by reducing repetitive code and enhancing readability. Consider built-in functions as tools in a tool kit. Just as a screwdriver or a hammer is readily available to perform tasks without building a new tool, built-in functions are ready to use for common programming tasks.\n",
    "\n"
   ]
  },
  {
   "cell_type": "code",
   "execution_count": 27,
   "id": "7bb111d1-fbea-4716-bb20-a4ff72cd6a91",
   "metadata": {},
   "outputs": [
    {
     "name": "stdout",
     "output_type": "stream",
     "text": [
      "\n"
     ]
    },
    {
     "data": {
      "text/plain": [
       "98"
      ]
     },
     "execution_count": 27,
     "metadata": {},
     "output_type": "execute_result"
    }
   ],
   "source": [
    "print() #1\n",
    "len('anish') #2\n",
    "ord('b') #3\n",
    "# and many more"
   ]
  },
  {
   "cell_type": "markdown",
   "id": "534d800e-2f06-454f-a87a-1fc5aa5ca0b1",
   "metadata": {},
   "source": [
    "## USER DEFINED FUNCTION"
   ]
  },
  {
   "cell_type": "markdown",
   "id": "bdceb1e1-b90b-465f-b76e-98cfcdd499df",
   "metadata": {},
   "source": [
    "User-defined functions are blocks of code designed by the programmer to perform particular actions. They help in breaking down complex problems into simpler, reusable parts, improving code readability and maintainability.\n",
    "\n",
    "Think of user-defined functions like custom kitchen gadgets designed for specific cooking needs that standard utensils can't meet. Just as a special pastry cutter might be designed to create perfect shapes that regular knives can't, user-defined functions perform specific tasks tailored to your program's requirements."
   ]
  },
  {
   "cell_type": "code",
   "execution_count": 36,
   "id": "a82f1779-ac42-4889-9140-9f42332bb09b",
   "metadata": {},
   "outputs": [
    {
     "name": "stdout",
     "output_type": "stream",
     "text": [
      "hi i am anish verma \n",
      "hi i am anish verma \n"
     ]
    }
   ],
   "source": [
    "def anish():\n",
    "    print('hi i am anish verma ')\n",
    "\n",
    "anish()\n",
    "anish() # calling function "
   ]
  },
  {
   "cell_type": "code",
   "execution_count": 38,
   "id": "b856918b-1438-4034-bd61-76f3f592cdee",
   "metadata": {},
   "outputs": [
    {
     "name": "stdin",
     "output_type": "stream",
     "text": [
      " 5\n",
      " 5\n"
     ]
    },
    {
     "name": "stdout",
     "output_type": "stream",
     "text": [
      "10\n"
     ]
    }
   ],
   "source": [
    "def add() :\n",
    "    a = int(input())\n",
    "    b = int(input())\n",
    "    add1 = a + b\n",
    "    print(add1)\n",
    "\n",
    "\n",
    "add()"
   ]
  },
  {
   "cell_type": "markdown",
   "id": "52398eb7-0d0a-476c-820b-156a484a146f",
   "metadata": {},
   "source": [
    "#### Global scope"
   ]
  },
  {
   "cell_type": "markdown",
   "id": "618ada2a-55ab-4f5f-b605-4d1d97b59b72",
   "metadata": {},
   "source": [
    "variables declared outside any function are in the global scope. This means they can be accessed anywhere in your program, both inside and outside of functions.\n",
    "\n"
   ]
  },
  {
   "cell_type": "code",
   "execution_count": null,
   "id": "7324671b-810f-459c-bbbe-10f144f1a7f8",
   "metadata": {},
   "outputs": [],
   "source": [
    "global_variable = 10 # Declare a global variable\n",
    "\n",
    "\n",
    "\n",
    "def some_function():\n",
    "\n",
    "  print(global_variable) # Access the global variable inside a function"
   ]
  },
  {
   "cell_type": "markdown",
   "id": "f5c4cb2a-4b4e-49c6-8264-acc91d41f790",
   "metadata": {},
   "source": [
    "### Local scope"
   ]
  },
  {
   "cell_type": "markdown",
   "id": "f1f37ba2-ede2-4c1a-8788-a6803b2a1bd3",
   "metadata": {},
   "source": [
    "Variables declared inside any function are in the local scope. This means they can be accessed anywhere in your program, but only inside the functions."
   ]
  },
  {
   "cell_type": "code",
   "execution_count": 45,
   "id": "a7f50848-fc5e-4c82-adf0-718fc9b60df4",
   "metadata": {},
   "outputs": [
    {
     "name": "stdout",
     "output_type": "stream",
     "text": [
      "5\n"
     ]
    }
   ],
   "source": [
    "def another_function():\n",
    "\n",
    "  local_variable = 5 # Declare a local variable\n",
    "\n",
    "  print(local_variable) # Print the local variable\n",
    "\n",
    "\n",
    "\n",
    "another_function() # Call the function to see the output"
   ]
  },
  {
   "cell_type": "code",
   "execution_count": null,
   "id": "0626c531-9f7a-47b2-ae9a-326edf3e79f2",
   "metadata": {},
   "outputs": [],
   "source": []
  },
  {
   "cell_type": "code",
   "execution_count": null,
   "id": "e79efa90-b155-4383-b8a2-0d7af2ea79bf",
   "metadata": {},
   "outputs": [],
   "source": []
  },
  {
   "cell_type": "code",
   "execution_count": null,
   "id": "4596f15e-7d7b-4823-9076-8abf578d1296",
   "metadata": {},
   "outputs": [],
   "source": []
  },
  {
   "cell_type": "code",
   "execution_count": null,
   "id": "3393285b-259c-4d35-9b30-7131f465557e",
   "metadata": {},
   "outputs": [],
   "source": []
  }
 ],
 "metadata": {
  "kernelspec": {
   "display_name": "Python [conda env:base] *",
   "language": "python",
   "name": "conda-base-py"
  },
  "language_info": {
   "codemirror_mode": {
    "name": "ipython",
    "version": 3
   },
   "file_extension": ".py",
   "mimetype": "text/x-python",
   "name": "python",
   "nbconvert_exporter": "python",
   "pygments_lexer": "ipython3",
   "version": "3.12.7"
  }
 },
 "nbformat": 4,
 "nbformat_minor": 5
}
