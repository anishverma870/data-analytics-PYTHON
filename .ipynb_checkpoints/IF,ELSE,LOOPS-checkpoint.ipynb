{
 "cells": [
  {
   "cell_type": "markdown",
   "id": "838748ae-c289-4503-81a3-48586435b400",
   "metadata": {},
   "source": [
    "# CONDITIONALS "
   ]
  },
  {
   "cell_type": "code",
   "execution_count": null,
   "id": "dc003699-84f0-4b92-9e6b-c72037561591",
   "metadata": {},
   "outputs": [],
   "source": [
    "#if statement\n",
    "#if-else statement\n",
    "#if-elif-else statement\n",
    "#match-case statement (introduced in Python 3.10)"
   ]
  },
  {
   "cell_type": "code",
   "execution_count": 5,
   "id": "24cf02e3-e388-4151-adf4-3d03ef0fe6a5",
   "metadata": {},
   "outputs": [
    {
     "name": "stdout",
     "output_type": "stream",
     "text": [
      "its cold\n"
     ]
    }
   ],
   "source": [
    "temp = 19\n",
    "\n",
    "if temp > 20:\n",
    "    print('temperature is hot ')\n",
    "else: \n",
    "    print('its cold')\n"
   ]
  },
  {
   "cell_type": "markdown",
   "id": "c0e74589-c4a9-4312-9035-8c7672434732",
   "metadata": {},
   "source": [
    "### Compound conditions"
   ]
  },
  {
   "cell_type": "code",
   "execution_count": 6,
   "id": "71d06ad4-e557-4f2c-9677-6b9f669bc796",
   "metadata": {},
   "outputs": [
    {
     "name": "stdout",
     "output_type": "stream",
     "text": [
      "its getting hot\n"
     ]
    }
   ],
   "source": [
    "is_sunny = True\n",
    "temp = 28\n",
    "if is_sunny and temp > 20 :\n",
    "    print('its getting hot')"
   ]
  },
  {
   "cell_type": "markdown",
   "id": "2b470456-e068-4cfb-980b-5b1aa01d3b49",
   "metadata": {},
   "source": [
    "#### Conditions on variables"
   ]
  },
  {
   "cell_type": "code",
   "execution_count": 13,
   "id": "5a548f30-035f-40a9-a547-8a16df7a0948",
   "metadata": {},
   "outputs": [
    {
     "name": "stdin",
     "output_type": "stream",
     "text": [
      "enter the name  anish\n"
     ]
    },
    {
     "name": "stdout",
     "output_type": "stream",
     "text": [
      "the char are less the 10 char\n"
     ]
    }
   ],
   "source": [
    "name = str(input('enter the name '))\n",
    "if len (name ) >= 10 :\n",
    "    print('the char are more then and equal to 10')\n",
    "else :\n",
    "    print('the char are less the 10 char')"
   ]
  },
  {
   "cell_type": "markdown",
   "id": "a877a4e4-262c-4391-8567-1a5240bc1cd4",
   "metadata": {},
   "source": [
    "### NESTED IF STATEMENTS"
   ]
  },
  {
   "cell_type": "code",
   "execution_count": 3,
   "id": "22c75aab-d6a4-42d3-a56a-471d9e4bd7d3",
   "metadata": {},
   "outputs": [
    {
     "name": "stdin",
     "output_type": "stream",
     "text": [
      "enter your credit score  700\n",
      "enter your income 200\n"
     ]
    },
    {
     "name": "stdout",
     "output_type": "stream",
     "text": [
      "inceficient balance\n"
     ]
    }
   ],
   "source": [
    "credit_score = int(input('enter your credit score '))\n",
    "income = int(input('enter your income'))\n",
    "if credit_score >= 600 :\n",
    "    if income > 20000:\n",
    "        print(\"credit card approved \")\n",
    "    else:\n",
    "        print('inceficient income')\n",
    "else:\n",
    "    print('incefeceint credit score')"
   ]
  },
  {
   "cell_type": "markdown",
   "id": "944aee73-bebb-4ad3-ba68-ca7df9fbc384",
   "metadata": {},
   "source": [
    "## MATCH CASE STATEMENT"
   ]
  },
  {
   "cell_type": "code",
   "execution_count": 7,
   "id": "6368126d-1763-4ab7-b2fd-34271eaf23be",
   "metadata": {},
   "outputs": [
    {
     "name": "stdin",
     "output_type": "stream",
     "text": [
      " 6\n"
     ]
    },
    {
     "name": "stdout",
     "output_type": "stream",
     "text": [
      "saturday\n"
     ]
    }
   ],
   "source": [
    "weeks_day = int(input())\n",
    "match weeks_day :\n",
    "    case 1 :\n",
    "        print('monday')\n",
    "    case 2 :\n",
    "        print(\"tuesday\")\n",
    "    case 3 :\n",
    "        print('wednesday')\n",
    "    case 4 :\n",
    "        print('thursday')\n",
    "    case 5 :\n",
    "        print('friday ')\n",
    "    case 6 :\n",
    "        print('saturday')\n",
    "    case 7 :\n",
    "        print('sunday')"
   ]
  },
  {
   "cell_type": "markdown",
   "id": "f8f02311-68ca-4457-bf28-cd4bbe4a47aa",
   "metadata": {},
   "source": [
    "### ELIF STATEMENT "
   ]
  },
  {
   "cell_type": "code",
   "execution_count": 11,
   "id": "c2a054a9-586f-48ef-a318-ab1affeef58b",
   "metadata": {},
   "outputs": [
    {
     "name": "stdin",
     "output_type": "stream",
     "text": [
      " 41111111\n"
     ]
    },
    {
     "name": "stdout",
     "output_type": "stream",
     "text": [
      "the tax applied  6166666.649999999\n"
     ]
    }
   ],
   "source": [
    "salary = int(input())\n",
    "if salary <= 20000 :\n",
    "    print(\"no tax are applied\")\n",
    "elif salary >20000 and salary <=30000 :\n",
    "    print('the tax are applied',salary * 0.05)\n",
    "elif salary > 30000 and salary <=40000 :\n",
    "    print('the tax are applied ',salary * 0.10)\n",
    "elif salary > 40000 :\n",
    "    print('the tax applied ',salary * 0.15)\n",
    "else:\n",
    "    print(\"enter your salry\")"
   ]
  },
  {
   "cell_type": "markdown",
   "id": "4c7892c1-bd38-4cf7-90ff-39e25220f39e",
   "metadata": {},
   "source": [
    "# LOOPS"
   ]
  },
  {
   "cell_type": "markdown",
   "id": "7456532a-fe76-4984-a95f-04400d3314df",
   "metadata": {},
   "source": [
    "### while loop"
   ]
  },
  {
   "cell_type": "markdown",
   "id": "762c8796-c90d-4711-98c8-2ac5c5a638d3",
   "metadata": {},
   "source": [
    "The while loop\n",
    "\n",
    "A while loop in Python repeatedly executes a target statement as long as a given condition remains true. It's one of the simplest forms of looping structures in Python and serves as the basis for more complex iterations. The general form of a while loop is:"
   ]
  },
  {
   "cell_type": "code",
   "execution_count": null,
   "id": "f687cee1-692b-4e9a-9102-17926201e59c",
   "metadata": {},
   "outputs": [],
   "source": [
    "while condition: \n",
    "\n",
    "    # execute code block "
   ]
  },
  {
   "cell_type": "code",
   "execution_count": 3,
   "id": "279a7dd5-9aa6-465e-8524-d8b10b0003d4",
   "metadata": {},
   "outputs": [
    {
     "name": "stdout",
     "output_type": "stream",
     "text": [
      "4\n",
      "3\n",
      "2\n",
      "1\n",
      "0\n"
     ]
    }
   ],
   "source": [
    "\n",
    "num = 5\n",
    "while num > 0 :\n",
    "    num = num - 1\n",
    "    print(num)"
   ]
  },
  {
   "cell_type": "code",
   "execution_count": 13,
   "id": "d28cb5c0-77ce-4fb0-a9b7-831942facd90",
   "metadata": {},
   "outputs": [
    {
     "name": "stdout",
     "output_type": "stream",
     "text": [
      "a b c d e f g h i j k l m n o p q r s t u v w x y z "
     ]
    }
   ],
   "source": [
    "# while loop for the write the alphabets \n",
    "alpha = \"a\"\n",
    "while alpha <= \"z\" :\n",
    "    print(alpha ,end=\" \")\n",
    "    alpha = chr(ord(alpha )+ 1)"
   ]
  },
  {
   "cell_type": "code",
   "execution_count": 20,
   "id": "f65104d0-b12e-4f92-874b-51a5f2e11a97",
   "metadata": {},
   "outputs": [
    {
     "name": "stdout",
     "output_type": "stream",
     "text": [
      "a\n",
      "n\n",
      "i\n",
      "s\n",
      "h\n"
     ]
    }
   ],
   "source": [
    "my_str = 'anish'\n",
    "index = 0\n",
    "while index < len(my_str):\n",
    "    \n",
    "    print(my_str[index])\n",
    "    index = index + 1\n",
    "      "
   ]
  },
  {
   "cell_type": "code",
   "execution_count": 19,
   "id": "687a3dc2-9f45-4cb1-a2cb-a892c9a1eed9",
   "metadata": {},
   "outputs": [
    {
     "name": "stdout",
     "output_type": "stream",
     "text": [
      "a\n",
      "n\n",
      "i\n",
      "s\n",
      "h\n"
     ]
    }
   ],
   "source": [
    "my_str = 'anish'\n",
    "index = 0\n",
    "\n",
    "while index < len(my_str):\n",
    "    print(my_str[index])  # Print before incrementing index\n",
    "    index = index + 1  # Move to the next character\n"
   ]
  },
  {
   "cell_type": "code",
   "execution_count": 23,
   "id": "f632ff4f-8911-4556-952e-1105d05617bb",
   "metadata": {},
   "outputs": [
    {
     "name": "stdout",
     "output_type": "stream",
     "text": [
      "1\n",
      "2\n"
     ]
    }
   ],
   "source": [
    "#print number 1 to hundred\n",
    "i = 1\n",
    "while i <= 100:\n",
    "    print(i)\n",
    "    i = i +1 \n"
   ]
  },
  {
   "cell_type": "code",
   "execution_count": 2,
   "id": "fe95ecdb-e7cb-490d-84fe-1ea8b964ae4f",
   "metadata": {},
   "outputs": [
    {
     "name": "stdout",
     "output_type": "stream",
     "text": [
      "100\n",
      "99\n"
     ]
    }
   ],
   "source": [
    "#print the num from 100 to 1\n",
    "i = 100\n",
    "while i >= 1:\n",
    "    print(i)\n",
    "    i = i-1"
   ]
  },
  {
   "cell_type": "code",
   "execution_count": 7,
   "id": "46abdc5a-5d7b-45a8-a37b-b2ecb95eca9b",
   "metadata": {},
   "outputs": [
    {
     "name": "stdin",
     "output_type": "stream",
     "text": [
      "enter the number 2\n"
     ]
    },
    {
     "name": "stdout",
     "output_type": "stream",
     "text": [
      "2\n",
      "4\n",
      "6\n",
      "8\n",
      "10\n",
      "12\n",
      "14\n",
      "16\n",
      "18\n",
      "20\n"
     ]
    }
   ],
   "source": [
    "# print the n num of table\n",
    "num = int(input(\"enter the number\"))\n",
    "\n",
    "i = 1\n",
    "while i <= 10:\n",
    "    print(num * i)\n",
    "    i = i + 1\n"
   ]
  },
  {
   "cell_type": "code",
   "execution_count": 12,
   "id": "b06bd3df-fce7-4b24-b654-8039fcfaefce",
   "metadata": {},
   "outputs": [
    {
     "name": "stdout",
     "output_type": "stream",
     "text": [
      "1\n",
      "23\n",
      "4\n",
      "5\n",
      "6\n",
      "42\n",
      "1\n",
      "5\n",
      "4\n",
      "82\n",
      "1\n",
      "3\n",
      "45\n"
     ]
    }
   ],
   "source": [
    "# print the num from list \n",
    "list1 = [1,23,4,5,6,42,1,5,4,82,1,3,45]\n",
    "i = 0\n",
    "while i <= len(list1)-1:\n",
    "    print(list1[i])\n",
    "    i = i+1"
   ]
  },
  {
   "cell_type": "code",
   "execution_count": 1,
   "id": "7c254fa2-ffb8-4dc7-8301-13f71483fe90",
   "metadata": {},
   "outputs": [
    {
     "name": "stdin",
     "output_type": "stream",
     "text": [
      "enter the number  7\n"
     ]
    },
    {
     "name": "stdout",
     "output_type": "stream",
     "text": [
      "found the your num at  6 index\n",
      "found the your num at  8 index\n"
     ]
    }
   ],
   "source": [
    "# search the x value of the tuple\n",
    "tupe = (1,2,3,4,5,6,7,89,7,4,1,5,2)\n",
    "x = int(input('enter the number '))\n",
    "i = 0\n",
    "while i <= len(tupe) - 1:\n",
    "    if tupe[i] == x:\n",
    "        print('found the your num at ', i  ,'index')\n",
    "    i = i+1"
   ]
  },
  {
   "cell_type": "markdown",
   "id": "b4f7df9f-3fd5-4dd5-814a-aebd317abfb5",
   "metadata": {},
   "source": [
    "### break statement"
   ]
  },
  {
   "cell_type": "code",
   "execution_count": 10,
   "id": "6aa9f652-f31a-42c5-9e39-1d2df4a370cf",
   "metadata": {},
   "outputs": [
    {
     "name": "stdout",
     "output_type": "stream",
     "text": [
      "0\n",
      "1\n",
      "2\n",
      "3\n",
      "4\n",
      "5\n",
      "6\n",
      "7\n",
      "8\n",
      "9\n",
      "10\n"
     ]
    }
   ],
   "source": [
    "i = 0\n",
    "while True :\n",
    "    print(i)\n",
    "    i = i +1\n",
    "    if i > 10: # idhar ulta isliye use kiya kyuki break statement use krna tha\n",
    "        break"
   ]
  },
  {
   "cell_type": "markdown",
   "id": "0673d36c-ed78-4741-8026-aa1bdc94d1bd",
   "metadata": {},
   "source": [
    "### continue statement "
   ]
  },
  {
   "cell_type": "code",
   "execution_count": 15,
   "id": "1ef10b72-536a-49b0-8194-3c9993cd8df4",
   "metadata": {},
   "outputs": [
    {
     "name": "stdout",
     "output_type": "stream",
     "text": [
      "0\n",
      "1\n",
      "2\n",
      "4\n",
      "5\n",
      "6\n",
      "7\n",
      "8\n",
      "9\n",
      "10\n",
      "11\n"
     ]
    }
   ],
   "source": [
    "i = 0\n",
    "while i <= 11:\n",
    "    if (i == 3):nn # here the 3 skip and continue to the lo\n",
    "        i = i+1\n",
    "        continue\n",
    "    print(i)\n",
    "    i = i+1"
   ]
  },
  {
   "cell_type": "markdown",
   "id": "ff42b03b-7a51-4366-8a69-f6dad171e892",
   "metadata": {},
   "source": [
    "### NESTED WHILE LOOP"
   ]
  },
  {
   "cell_type": "code",
   "execution_count": 17,
   "id": "8444ddb4-2923-40b7-8757-0f2d715bc35e",
   "metadata": {},
   "outputs": [
    {
     "name": "stdout",
     "output_type": "stream",
     "text": [
      "(0,0)\n",
      "(0,1)\n",
      "(0,2)\n",
      "(0,3)\n",
      "(1,0)\n",
      "(1,1)\n",
      "(1,2)\n",
      "(1,3)\n",
      "(2,0)\n",
      "(2,1)\n",
      "(2,2)\n",
      "(2,3)\n",
      "(3,0)\n",
      "(3,1)\n",
      "(3,2)\n",
      "(3,3)\n"
     ]
    }
   ],
   "source": [
    "#print row and column \n",
    "raw = 0\n",
    "while raw <= 3:\n",
    "    col = 0\n",
    "    while col <= 3:\n",
    "        print(f\"({raw},{col})\")\n",
    "        col = col + 1 \n",
    "    raw = raw + 1\n",
    "        "
   ]
  },
  {
   "cell_type": "code",
   "execution_count": 19,
   "id": "aa22e2f3-52ea-41c7-83b3-339ef2a57493",
   "metadata": {},
   "outputs": [
    {
     "name": "stdout",
     "output_type": "stream",
     "text": [
      "anish\n",
      "nish\n",
      "ish\n",
      "sh\n",
      "h\n"
     ]
    }
   ],
   "source": [
    "word = 'anish'\n",
    "while word: print(word); word = word[1:]\n",
    "\n",
    "\n",
    "#Execution Steps:\n",
    "#word = 'anish', so the loop starts.\n",
    "#First iteration: Prints \"anish\", then updates word to \"nish\".\n",
    "#Second iteration: Prints \"nish\", then updates word to \"ish\".\n",
    "#Third iteration: Prints \"ish\", then updates word to \"sh\".\n",
    "#Fourth iteration: Prints \"sh\", then updates word to \"h\".\n",
    "#Fifth iteration: Prints \"h\", then updates word to an empty string (\"\").\n",
    "#Now word is empty (\"\"), so the loop terminates."
   ]
  },
  {
   "cell_type": "code",
   "execution_count": 23,
   "id": "c5c2ec7f-5923-4fd2-92a4-4bfcfb9ad07f",
   "metadata": {},
   "outputs": [
    {
     "name": "stdout",
     "output_type": "stream",
     "text": [
      "gopu\n",
      "govind\n",
      "goapal\n",
      "gori\n",
      "aman\n",
      "rahul\n",
      "vedansh\n",
      "khshi\n",
      "anish\n"
     ]
    }
   ],
   "source": [
    "list1 = ['anish','khshi','vedansh','rahul','aman','gori','goapal','govind','gopu']\n",
    "while list1:print(list1.pop())"
   ]
  },
  {
   "cell_type": "markdown",
   "id": "6eb49ce1-cae5-4f82-b428-783221f4dbef",
   "metadata": {},
   "source": [
    "# FOR LOOP "
   ]
  },
  {
   "cell_type": "code",
   "execution_count": 35,
   "id": "89fa5904-cdbe-4c27-a512-a555f0b7c7f4",
   "metadata": {},
   "outputs": [
    {
     "name": "stdout",
     "output_type": "stream",
     "text": [
      "anish\n",
      "              ['anish', 'khshi', 'vedansh', 'rahul', 'aman', 'gori', 'goapal', 'govind', 'gopu']\n",
      "khshi\n",
      "              ['anish', 'khshi', 'vedansh', 'rahul', 'aman', 'gori', 'goapal', 'govind', 'gopu']\n",
      "vedansh\n",
      "              ['anish', 'khshi', 'vedansh', 'rahul', 'aman', 'gori', 'goapal', 'govind', 'gopu']\n",
      "rahul\n",
      "              ['anish', 'khshi', 'vedansh', 'rahul', 'aman', 'gori', 'goapal', 'govind', 'gopu']\n",
      "aman\n",
      "              ['anish', 'khshi', 'vedansh', 'rahul', 'aman', 'gori', 'goapal', 'govind', 'gopu']\n",
      "gori\n",
      "              ['anish', 'khshi', 'vedansh', 'rahul', 'aman', 'gori', 'goapal', 'govind', 'gopu']\n",
      "goapal\n",
      "              ['anish', 'khshi', 'vedansh', 'rahul', 'aman', 'gori', 'goapal', 'govind', 'gopu']\n",
      "govind\n",
      "              ['anish', 'khshi', 'vedansh', 'rahul', 'aman', 'gori', 'goapal', 'govind', 'gopu']\n",
      "gopu\n",
      "              ['anish', 'khshi', 'vedansh', 'rahul', 'aman', 'gori', 'goapal', 'govind', 'gopu']\n"
     ]
    }
   ],
   "source": [
    "list1 = ['anish','khshi','vedansh','rahul','aman','gori','goapal','govind','gopu']\n",
    "for i in list1:\n",
    "    print(i) #this is print iteration \n",
    "    print(\"             \",list1)"
   ]
  },
  {
   "cell_type": "code",
   "execution_count": 36,
   "id": "2f45062b-8117-4de5-af02-28c91a1da7ac",
   "metadata": {},
   "outputs": [
    {
     "name": "stdout",
     "output_type": "stream",
     "text": [
      "0\n",
      "1\n",
      "2\n",
      "3\n",
      "4\n",
      "5\n"
     ]
    }
   ],
   "source": [
    "# use of range \n",
    "for i in range(6): # its start from 0 by default and exclude last digit like in this 6\n",
    "    print(i)"
   ]
  },
  {
   "cell_type": "code",
   "execution_count": 40,
   "id": "43126832-63c9-4bc4-9640-ebd5b09229bd",
   "metadata": {},
   "outputs": [
    {
     "name": "stdout",
     "output_type": "stream",
     "text": [
      "1*1 =1\n",
      "1*2 =2\n",
      "1*3 =3\n",
      "2*1 =2\n",
      "2*2 =4\n",
      "2*3 =6\n",
      "3*1 =3\n",
      "3*2 =6\n",
      "3*3 =9\n"
     ]
    }
   ],
   "source": [
    "for i in range(1,4):\n",
    "    for j in range(1,4):\n",
    "        print(f'{i}*{j} ={i*j}' )"
   ]
  },
  {
   "cell_type": "markdown",
   "id": "4cce4d31-365a-43e8-918b-069c72856ff6",
   "metadata": {},
   "source": [
    "### break statement for loop"
   ]
  },
  {
   "cell_type": "code",
   "execution_count": 51,
   "id": "afb63a47-6e42-4d23-9c44-6926e7cbe0fc",
   "metadata": {},
   "outputs": [
    {
     "name": "stdin",
     "output_type": "stream",
     "text": [
      " charlie  \n"
     ]
    },
    {
     "name": "stdout",
     "output_type": "stream",
     "text": [
      "the searching for Charlie in 34431 \n"
     ]
    }
   ],
   "source": [
    "names = {'Aravind': 26765, 'Charlie': 34431, 'Dinesh': 65587, 'Parveen': 45809, 'Ram': 87987, 'Subhadra': 54019, 'Zareena': 21298}\n",
    "rqd_name = str(input()).capitalize().strip()\n",
    "\n",
    "for i in names.keys() :\n",
    "    if i == rqd_name:\n",
    "        print(f'the searching for {i} in {names[i]} ')\n",
    "        break"
   ]
  },
  {
   "cell_type": "code",
   "execution_count": 52,
   "id": "335c0f75-fd8d-4d85-8f5b-e7a46c0c3dc0",
   "metadata": {},
   "outputs": [
    {
     "name": "stdout",
     "output_type": "stream",
     "text": [
      "73250\n"
     ]
    }
   ],
   "source": [
    "total_salse = 0\n",
    "sales_values = {'Q1': 15546, 'Q2': 17623, 'Q3': 21109, 'Q4': 18972}\n",
    "for i in sales_values.values():\n",
    "    total_salse = total_salse + i \n",
    "print(total_salse)\n"
   ]
  },
  {
   "cell_type": "code",
   "execution_count": 1,
   "id": "ae37ca50-8069-4912-a174-19615660987c",
   "metadata": {},
   "outputs": [
    {
     "name": "stdout",
     "output_type": "stream",
     "text": [
      "[0, 3, 6]\n"
     ]
    }
   ],
   "source": [
    "input_list = [0, 1, 2, 3, 4, 5, 6] \n",
    "output_list = [] \n",
    "for x in input_list:  \n",
    "    if x%3 == 0:    \n",
    "      output_list.append(x) \n",
    "\n",
    "print(output_list)"
   ]
  },
  {
   "cell_type": "markdown",
   "id": "0ce1eb2b-ef00-4091-91fd-4cbc68c299ff",
   "metadata": {},
   "source": [
    "## List Comprehensions"
   ]
  },
  {
   "cell_type": "code",
   "execution_count": 6,
   "id": "245dd491-7334-40f9-8d0d-6b26fc4e5fa1",
   "metadata": {},
   "outputs": [
    {
     "name": "stdout",
     "output_type": "stream",
     "text": [
      "[2, 3, 4, 5, 6, 7, 8, 9, 10, 11]\n"
     ]
    }
   ],
   "source": [
    "list1 = [1,2,3,4,5,6,7,8,9,10]\n",
    "new_list =[ i+1 for i in list1] # this is used for less line of code used the format is [kya krna hai,kiske liye krna hai,kismein krna hai]\n",
    "print(new_list)"
   ]
  },
  {
   "cell_type": "code",
   "execution_count": 14,
   "id": "e7bb071c-d8d4-47d3-af74-f9aeaef62002",
   "metadata": {},
   "outputs": [
    {
     "name": "stdout",
     "output_type": "stream",
     "text": [
      "[600, 525, 665, 445, 370, 560, 575]\n"
     ]
    }
   ],
   "source": [
    "daily_sales = [120, 105, 133, 89, 74, 112, 115]\n",
    "rate_val = 5\n",
    "sales = [val * rate_val for val in daily_sales]\n",
    "print(sales)"
   ]
  },
  {
   "cell_type": "code",
   "execution_count": 75,
   "id": "f7605fb7-6185-4def-981d-bcb405f109c1",
   "metadata": {},
   "outputs": [
    {
     "name": "stdout",
     "output_type": "stream",
     "text": [
      "[1, 4, 9, 16, 25, 36, 49, 64, 81]\n"
     ]
    }
   ],
   "source": [
    "def square(x):\n",
    "    return x**2\n",
    "\n",
    "mylist = [1,2,3,4,5,6,7,8,9]\n",
    "newlist = [square(i) for i in mylist]\n",
    "print(newlist)"
   ]
  },
  {
   "cell_type": "code",
   "execution_count": null,
   "id": "9fa0cdce-b1bb-4ee6-9485-88e8fb07ba5b",
   "metadata": {},
   "outputs": [],
   "source": [
    "mylist = [1,2,3,4,5,6,7,8,9]\n",
    "newlist = [i ** 2 for i in mylist]\n",
    "print(newlist)"
   ]
  },
  {
   "cell_type": "markdown",
   "id": "a6e36e57-b68a-495f-8326-4d8831ca24ae",
   "metadata": {},
   "source": [
    "## Dictionary comprehensions"
   ]
  },
  {
   "cell_type": "code",
   "execution_count": null,
   "id": "a07baad8-7aa8-4269-890d-0f05f8cb7e9b",
   "metadata": {},
   "outputs": [],
   "source": [
    "#yeh kal complete krna hai "
   ]
  },
  {
   "cell_type": "code",
   "execution_count": null,
   "id": "6a64beae-81b5-4bdb-84ce-a302e45bb76f",
   "metadata": {},
   "outputs": [],
   "source": []
  },
  {
   "cell_type": "code",
   "execution_count": null,
   "id": "5dc206ae-a654-446e-ae05-024965442220",
   "metadata": {},
   "outputs": [],
   "source": []
  },
  {
   "cell_type": "markdown",
   "id": "44832a73-15fa-4a85-9aab-6dc57cd7411f",
   "metadata": {},
   "source": [
    "#  FUNCTIONS"
   ]
  },
  {
   "cell_type": "markdown",
   "id": "a42a3944-d9b7-486a-a372-2e7e6de01256",
   "metadata": {},
   "source": [
    "### PRE DEFINED FUNCTION"
   ]
  },
  {
   "cell_type": "markdown",
   "id": "1b0491de-44e9-470a-9509-b57c6fc7fe32",
   "metadata": {},
   "source": [
    "Built-in functions in Python are pre-defined and readily available in any Python environment. They allow programmers to perform a wide range of tasks from data manipulation to mathematical computations efficiently and effectively. These functions help streamline coding by reducing repetitive code and enhancing readability. Consider built-in functions as tools in a tool kit. Just as a screwdriver or a hammer is readily available to perform tasks without building a new tool, built-in functions are ready to use for common programming tasks.\n",
    "\n"
   ]
  },
  {
   "cell_type": "code",
   "execution_count": 27,
   "id": "7bb111d1-fbea-4716-bb20-a4ff72cd6a91",
   "metadata": {},
   "outputs": [
    {
     "name": "stdout",
     "output_type": "stream",
     "text": [
      "\n"
     ]
    },
    {
     "data": {
      "text/plain": [
       "98"
      ]
     },
     "execution_count": 27,
     "metadata": {},
     "output_type": "execute_result"
    }
   ],
   "source": [
    "print() #1\n",
    "len('anish') #2\n",
    "ord('b') #3\n",
    "# and many more"
   ]
  },
  {
   "cell_type": "markdown",
   "id": "534d800e-2f06-454f-a87a-1fc5aa5ca0b1",
   "metadata": {},
   "source": [
    "## USER DEFINED FUNCTION"
   ]
  },
  {
   "cell_type": "markdown",
   "id": "bdceb1e1-b90b-465f-b76e-98cfcdd499df",
   "metadata": {},
   "source": [
    "User-defined functions are blocks of code designed by the programmer to perform particular actions. They help in breaking down complex problems into simpler, reusable parts, improving code readability and maintainability.\n",
    "\n",
    "Think of user-defined functions like custom kitchen gadgets designed for specific cooking needs that standard utensils can't meet. Just as a special pastry cutter might be designed to create perfect shapes that regular knives can't, user-defined functions perform specific tasks tailored to your program's requirements."
   ]
  },
  {
   "cell_type": "code",
   "execution_count": 36,
   "id": "a82f1779-ac42-4889-9140-9f42332bb09b",
   "metadata": {},
   "outputs": [
    {
     "name": "stdout",
     "output_type": "stream",
     "text": [
      "hi i am anish verma \n",
      "hi i am anish verma \n"
     ]
    }
   ],
   "source": [
    "def anish():\n",
    "    print('hi i am anish verma ')\n",
    "\n",
    "anish()\n",
    "anish() # calling function "
   ]
  },
  {
   "cell_type": "code",
   "execution_count": 38,
   "id": "b856918b-1438-4034-bd61-76f3f592cdee",
   "metadata": {},
   "outputs": [
    {
     "name": "stdin",
     "output_type": "stream",
     "text": [
      " 5\n",
      " 5\n"
     ]
    },
    {
     "name": "stdout",
     "output_type": "stream",
     "text": [
      "10\n"
     ]
    }
   ],
   "source": [
    "def add() :\n",
    "    a = int(input())\n",
    "    b = int(input())\n",
    "    add1 = a + b\n",
    "    print(add1)\n",
    "\n",
    "\n",
    "add()"
   ]
  },
  {
   "cell_type": "markdown",
   "id": "52398eb7-0d0a-476c-820b-156a484a146f",
   "metadata": {},
   "source": [
    "#### Global scope"
   ]
  },
  {
   "cell_type": "markdown",
   "id": "618ada2a-55ab-4f5f-b605-4d1d97b59b72",
   "metadata": {},
   "source": [
    "variables declared outside any function are in the global scope. This means they can be accessed anywhere in your program, both inside and outside of functions.\n",
    "\n"
   ]
  },
  {
   "cell_type": "code",
   "execution_count": null,
   "id": "7324671b-810f-459c-bbbe-10f144f1a7f8",
   "metadata": {},
   "outputs": [],
   "source": [
    "global_variable = 10 # Declare a global variable\n",
    "\n",
    "\n",
    "\n",
    "def some_function():\n",
    "\n",
    "  print(global_variable) # Access the global variable inside a function"
   ]
  },
  {
   "cell_type": "markdown",
   "id": "f5c4cb2a-4b4e-49c6-8264-acc91d41f790",
   "metadata": {},
   "source": [
    "### Local scope"
   ]
  },
  {
   "cell_type": "markdown",
   "id": "f1f37ba2-ede2-4c1a-8788-a6803b2a1bd3",
   "metadata": {},
   "source": [
    "Variables declared inside any function are in the local scope. This means they can be accessed anywhere in your program, but only inside the functions."
   ]
  },
  {
   "cell_type": "code",
   "execution_count": 45,
   "id": "a7f50848-fc5e-4c82-adf0-718fc9b60df4",
   "metadata": {},
   "outputs": [
    {
     "name": "stdout",
     "output_type": "stream",
     "text": [
      "5\n"
     ]
    }
   ],
   "source": [
    "def another_function():\n",
    "\n",
    "  local_variable = 5 # Declare a local variable\n",
    "\n",
    "  print(local_variable) # Print the local variable\n",
    "\n",
    "\n",
    "\n",
    "another_function() # Call the function to see the output"
   ]
  },
  {
   "cell_type": "markdown",
   "id": "491aee12-6f65-4ecc-9f67-4156ef084c61",
   "metadata": {},
   "source": [
    "Let's explore what happens when we try to access a variable with local scope outside its defining function in Python."
   ]
  },
  {
   "cell_type": "code",
   "execution_count": 2,
   "id": "e79efa90-b155-4383-b8a2-0d7af2ea79bf",
   "metadata": {},
   "outputs": [
    {
     "ename": "NameError",
     "evalue": "name 'names' is not defined",
     "output_type": "error",
     "traceback": [
      "\u001b[1;31m---------------------------------------------------------------------------\u001b[0m",
      "\u001b[1;31mNameError\u001b[0m                                 Traceback (most recent call last)",
      "Cell \u001b[1;32mIn[2], line 5\u001b[0m\n\u001b[0;32m      2\u001b[0m     names \u001b[38;5;241m=\u001b[39m \u001b[38;5;124m'\u001b[39m\u001b[38;5;124manish\u001b[39m\u001b[38;5;124m'\u001b[39m \u001b[38;5;66;03m# local variable\u001b[39;00m\n\u001b[0;32m      3\u001b[0m     \u001b[38;5;28mprint\u001b[39m(names)\n\u001b[1;32m----> 5\u001b[0m \u001b[38;5;28mprint\u001b[39m(names)\n",
      "\u001b[1;31mNameError\u001b[0m: name 'names' is not defined"
     ]
    }
   ],
   "source": [
    "def name():\n",
    "    names = 'anish' # local variable\n",
    "    print(names)\n",
    "\n",
    "print(names)"
   ]
  },
  {
   "cell_type": "markdown",
   "id": "719c2bd1-5f4f-4eee-bc2d-036af06bf628",
   "metadata": {},
   "source": [
    "Let's demonstrate how to modify a global variable inside a function using the global keyword.\n",
    "\n"
   ]
  },
  {
   "cell_type": "code",
   "execution_count": 11,
   "id": "3393285b-259c-4d35-9b30-7131f465557e",
   "metadata": {},
   "outputs": [
    {
     "name": "stdout",
     "output_type": "stream",
     "text": [
      "verma\n",
      "anish\n"
     ]
    }
   ],
   "source": [
    "my_name  = \"anish\"\n",
    "def name():\n",
    "    my_name = 'verma'\n",
    "    print(my_name)\n",
    "\n",
    "name()\n",
    "print(my_name)"
   ]
  },
  {
   "cell_type": "markdown",
   "id": "4a250791-7193-461e-a9cd-1ef5fe2fbf65",
   "metadata": {},
   "source": [
    "## Returning values"
   ]
  },
  {
   "cell_type": "markdown",
   "id": "e72d4a53-9f0b-4330-94c2-08d97621c138",
   "metadata": {},
   "source": [
    "In Python, functions are not limited to performing actions; they can also send back, or return, values to the caller using the return statement. This is fundamental for reusing and manipulating results generated within functions.\n",
    "\n",
    "Think of a function as a vending machine. You select a button (call a function), and it returns an item (a value). Just as a vending machine can give out a single item or a combo pack, a function can return one value or multiple values bundled together."
   ]
  },
  {
   "cell_type": "code",
   "execution_count": 21,
   "id": "093bb0a2-0300-48db-b023-97dbd24fc1ad",
   "metadata": {},
   "outputs": [
    {
     "data": {
      "text/plain": [
       "25"
      ]
     },
     "execution_count": 21,
     "metadata": {},
     "output_type": "execute_result"
    }
   ],
   "source": [
    "def square():\n",
    "    num = 5\n",
    "    sqr = num ** 2\n",
    "    return sqr\n",
    "\n",
    "\n",
    "square()\n"
   ]
  },
  {
   "cell_type": "code",
   "execution_count": 27,
   "id": "ced4927a-c5ad-41fb-b5ea-9d3926c2c03a",
   "metadata": {},
   "outputs": [
    {
     "data": {
      "text/plain": [
       "(1.6454, ' anish verma')"
      ]
     },
     "execution_count": 27,
     "metadata": {},
     "output_type": "execute_result"
    }
   ],
   "source": [
    "def example():\n",
    "    a = 1.6454\n",
    "    b = ' anish verma'\n",
    "    return a ,  b \n",
    "\n",
    "example()\n",
    "# answer comes in tuples "
   ]
  },
  {
   "cell_type": "code",
   "execution_count": 29,
   "id": "e8f43f62-3ae7-48de-b0e7-8149ac3af71b",
   "metadata": {},
   "outputs": [
    {
     "name": "stdout",
     "output_type": "stream",
     "text": [
      "1.6454 <class 'float'>\n",
      " anish verma <class 'str'>\n"
     ]
    }
   ],
   "source": [
    "float_val,string_val = example() # unpacking the function\n",
    "print(float_val,type(float_val))\n",
    "print(string_val,type(string_val))"
   ]
  },
  {
   "cell_type": "markdown",
   "id": "199b7306-eb59-4a0b-b68a-552ebd920e2e",
   "metadata": {},
   "source": [
    "## Functions with parameters\n"
   ]
  },
  {
   "cell_type": "markdown",
   "id": "554d3e14-02b6-4dd3-86d1-0dbdb35f5a1f",
   "metadata": {},
   "source": [
    "Functions with parameters significantly enhance the flexibility and reusability of code in Python. By allowing dynamic inputs, they enable programmers to use the same function in various contexts, adjusting behaviour as needed without altering the core logic. This modularity aids in organising complex codebases, making them easier to manage, debug, and extend. Overall, parameterised functions streamline development and improve code maintainability, helping developers efficiently tackle diverse programming challenges.\n",
    "\n"
   ]
  },
  {
   "cell_type": "code",
   "execution_count": 74,
   "id": "00892c26-9901-4db9-856e-f6de423170cb",
   "metadata": {},
   "outputs": [
    {
     "data": {
      "text/plain": [
       "-5"
      ]
     },
     "execution_count": 74,
     "metadata": {},
     "output_type": "execute_result"
    }
   ],
   "source": [
    "def calculater(x,y,operation):\n",
    "    if operation == 'add':\n",
    "        return x + y\n",
    "\n",
    "    elif operation == 'sub':\n",
    "        return x-y\n",
    "\n",
    "calculater(10,15,'sub')"
   ]
  },
  {
   "cell_type": "code",
   "execution_count": 83,
   "id": "19c0007c-05ab-47dd-97b2-37b16ea21b0a",
   "metadata": {},
   "outputs": [
    {
     "name": "stdin",
     "output_type": "stream",
     "text": [
      " 15\n",
      " 42\n",
      " multy\n"
     ]
    },
    {
     "name": "stdout",
     "output_type": "stream",
     "text": [
      "630\n"
     ]
    },
    {
     "ename": "TypeError",
     "evalue": "calculater() missing 3 required positional arguments: 'x', 'y', and 'operation'",
     "output_type": "error",
     "traceback": [
      "\u001b[1;31m---------------------------------------------------------------------------\u001b[0m",
      "\u001b[1;31mTypeError\u001b[0m                                 Traceback (most recent call last)",
      "Cell \u001b[1;32mIn[83], line 23\u001b[0m\n\u001b[0;32m     21\u001b[0m operation \u001b[38;5;241m=\u001b[39m \u001b[38;5;28mstr\u001b[39m(\u001b[38;5;28minput\u001b[39m())\u001b[38;5;241m.\u001b[39mlower()\u001b[38;5;241m.\u001b[39mstrip()\n\u001b[0;32m     22\u001b[0m \u001b[38;5;28mprint\u001b[39m( calculater(x,y,operation))\n\u001b[1;32m---> 23\u001b[0m help(calculater())\n",
      "\u001b[1;31mTypeError\u001b[0m: calculater() missing 3 required positional arguments: 'x', 'y', and 'operation'"
     ]
    }
   ],
   "source": [
    "\"\"\" \n",
    "pass two numbers\n",
    ": for addition use add\n",
    ":for subtraction use sub\n",
    ":for division use div\n",
    ":for multiplication use multy \"\"\"\n",
    "def calculater(x,y,operation):\n",
    "    \n",
    "    if operation == 'add':\n",
    "        return x + y\n",
    "\n",
    "    elif operation == 'sub':\n",
    "        return x-y\n",
    "    elif operation == 'div':\n",
    "        return x/y\n",
    "    elif operation == 'multy':\n",
    "        return x*y\n",
    "\n",
    "x = int(input())\n",
    "y = int(input())\n",
    "operation = str(input()).lower().strip()\n",
    "print( calculater(x,y,operation))\n",
    "help(calculater())"
   ]
  },
  {
   "cell_type": "markdown",
   "id": "12ab275d-989b-4701-8a4d-e3d76cc605c9",
   "metadata": {},
   "source": [
    "Let's define a function mean that calculates the average of numbers in a list."
   ]
  },
  {
   "cell_type": "code",
   "execution_count": 2,
   "id": "6cbf30b2-20f4-4f01-8403-58df83dac0d3",
   "metadata": {},
   "outputs": [
    {
     "name": "stdout",
     "output_type": "stream",
     "text": [
      "10.5\n"
     ]
    }
   ],
   "source": [
    "def mean(data):\n",
    "    return sum(data) / len(data)\n",
    "\n",
    "my_data =[1, 2, 3, 4, 5, 6, 7, 8, 9, 10, 11, 12, 13, 14, 15, 16, 17, 18, 19, 20]\n",
    "print(mean(my_data))"
   ]
  },
  {
   "cell_type": "code",
   "execution_count": 14,
   "id": "e36ec279-46e2-494f-a085-08f56fbbfa6c",
   "metadata": {},
   "outputs": [
    {
     "name": "stdout",
     "output_type": "stream",
     "text": [
      "user information\n",
      "NAME :Ranjiv Alvester\n",
      "AGE :25\n",
      "EMAIL :ranjiv@example.com\n"
     ]
    }
   ],
   "source": [
    "def user(user_info):\n",
    "    print('user information')\n",
    "    for key , val in user_info.items() :\n",
    "        print(f\"{key.upper() } :{val}\")\n",
    "\n",
    "user_data = {\"name\": \"Ranjiv Alvester\", \"age\": 25, \"email\": \"ranjiv@example.com\"}\n",
    "user(user_data)\n"
   ]
  },
  {
   "cell_type": "markdown",
   "id": "31d7ff15-6b3e-4851-81a9-2654589ce668",
   "metadata": {},
   "source": [
    "## Lambda functions"
   ]
  },
  {
   "cell_type": "markdown",
   "id": "a033b1a4-1e82-49b5-adf2-34e5f4b44380",
   "metadata": {},
   "source": [
    "Lambda functions, or anonymous functions, are small, created with the lambda keyword in Python. They don't have a formal name and are ideal for when you need a quick function without the overhead of defining a full function with def."
   ]
  },
  {
   "cell_type": "code",
   "execution_count": 32,
   "id": "e2818fdb-3d4e-4c61-9606-59a0a82e0ff2",
   "metadata": {},
   "outputs": [
    {
     "name": "stdout",
     "output_type": "stream",
     "text": [
      "200000\n"
     ]
    }
   ],
   "source": [
    "\n",
    "double = lambda x : x * 2\n",
    "print(double(100000))\n"
   ]
  },
  {
   "cell_type": "code",
   "execution_count": 34,
   "id": "8d9fa1ef-b3ce-4511-b55f-6ce00f34bd62",
   "metadata": {},
   "outputs": [
    {
     "name": "stdout",
     "output_type": "stream",
     "text": [
      "50\n"
     ]
    }
   ],
   "source": [
    "add = lambda x,y : x+y\n",
    "print(add(20,30))"
   ]
  },
  {
   "cell_type": "code",
   "execution_count": 36,
   "id": "7e487269-4589-40f7-991c-42e4a66f0e39",
   "metadata": {},
   "outputs": [
    {
     "data": {
      "text/plain": [
       "'ANISH'"
      ]
     },
     "execution_count": 36,
     "metadata": {},
     "output_type": "execute_result"
    }
   ],
   "source": [
    "srtt = lambda string : string.upper()\n",
    "srtt('anish')"
   ]
  },
  {
   "cell_type": "markdown",
   "id": "4c261be0-a7c0-4fc7-b60c-c87a52c19716",
   "metadata": {},
   "source": [
    "## DOCSTRING "
   ]
  },
  {
   "cell_type": "code",
   "execution_count": 43,
   "id": "4a4643c3-7ae9-43ac-916c-f32d18270372",
   "metadata": {},
   "outputs": [
    {
     "name": "stdout",
     "output_type": "stream",
     "text": [
      " the user pass x and y and the function return the addition of both argument\n"
     ]
    }
   ],
   "source": [
    "def add (x , y ):\n",
    "    \n",
    "    \"\"\" the user pass x and y and the function return the addition of both argument\"\"\"\n",
    "    return x + y\n",
    "print(add.__doc__)"
   ]
  },
  {
   "cell_type": "markdown",
   "id": "3f61df1a-d834-4fef-9182-ad3bf31bcde0",
   "metadata": {},
   "source": [
    "## Higher-order functions"
   ]
  },
  {
   "cell_type": "markdown",
   "id": "3996b51a-9576-40b5-8100-0fd3a2f0053c",
   "metadata": {},
   "source": [
    "Higher-order functions are a fundamental concept in Python, emphasising the language's capability to treat functions as first-class objects. This means that functions can be passed as arguments to other functions, returned as values, and assigned to variables, much like any other data type such as integers or strings."
   ]
  },
  {
   "cell_type": "code",
   "execution_count": 50,
   "id": "7a253bcd-a661-49be-a63d-160fcfd7d6de",
   "metadata": {},
   "outputs": [
    {
     "name": "stdout",
     "output_type": "stream",
     "text": [
      "\n",
      "\n",
      "    Apply a binary operation on two operands.\n",
      "\n",
      "    Parameters:\n",
      "\n",
      "    - operation: A binary function taking two arguments\n",
      "\n",
      "    - x, y: Operands on which the operation is applied\n",
      "\n",
      "    Returns:\n",
      "\n",
      "    The result of applying the operation on x and y\n",
      "\n",
      "    \n"
     ]
    }
   ],
   "source": [
    "def apply_operation(operation, x, y):\n",
    "\n",
    "    \"\"\"\n",
    "\n",
    "    Apply a binary operation on two operands.\n",
    "\n",
    "    Parameters:\n",
    "\n",
    "    - operation: A binary function taking two arguments\n",
    "\n",
    "    - x, y: Operands on which the operation is applied\n",
    "\n",
    "    Returns:\n",
    "\n",
    "    The result of applying the operation on x and y\n",
    "\n",
    "    \"\"\"\n",
    "\n",
    "print(apply_operation.__doc__)"
   ]
  },
  {
   "cell_type": "markdown",
   "id": "d40ca75c-0267-4054-9e1f-aaf3217e9095",
   "metadata": {},
   "source": [
    "## map fuction "
   ]
  },
  {
   "cell_type": "code",
   "execution_count": 73,
   "id": "e3cc0cbb-1d2c-49fa-9850-e58311012781",
   "metadata": {},
   "outputs": [
    {
     "name": "stdout",
     "output_type": "stream",
     "text": [
      "[1, 4, 9, 16, 25, 36, 49, 64, 81]\n"
     ]
    }
   ],
   "source": [
    "def square(x):\n",
    "    return x**2\n",
    "\n",
    "mylist = [1,2,3,4,5,6,7,8,9]\n",
    "newlist = map(square,mylist)\n",
    "squarelist = list(newlist)\n",
    "print(squarelist)\n"
   ]
  },
  {
   "cell_type": "code",
   "execution_count": 63,
   "id": "777bab64-2a27-45c0-b08b-a79ac088dd85",
   "metadata": {},
   "outputs": [
    {
     "name": "stdout",
     "output_type": "stream",
     "text": [
      "[1, 4, 9, 16, 25, 36, 49, 64, 81]\n"
     ]
    }
   ],
   "source": []
  },
  {
   "cell_type": "markdown",
   "id": "c6509232-105a-402e-9e5f-007d808a8687",
   "metadata": {},
   "source": [
    "### RANDOM PRACTICES"
   ]
  },
  {
   "cell_type": "markdown",
   "id": "4595c1ef-7661-4f68-80b1-b393e963f9a5",
   "metadata": {},
   "source": [
    "PRINT THE ELEMENT OF LIST USING LOOP"
   ]
  },
  {
   "cell_type": "code",
   "execution_count": 21,
   "id": "32f4b3db-6031-4c7b-bc86-534ca06a9cc3",
   "metadata": {},
   "outputs": [
    {
     "name": "stdout",
     "output_type": "stream",
     "text": [
      "1\n",
      "3\n",
      "4\n",
      "5\n",
      "5\n",
      "6\n",
      "7\n",
      "8\n",
      "9\n",
      "21\n",
      "25\n",
      "41\n",
      "45\n",
      "54\n",
      "54\n",
      "54\n",
      " found 88\n"
     ]
    }
   ],
   "source": [
    "list1 = [1,25,45,7,8,95,665,3,21,4,54,6,5,88,9,54,5,41,54]\n",
    "list1.sort()\n",
    "for i in list1:\n",
    "    if i == 88:\n",
    "        print(' found',i)\n",
    "        break\n",
    "    print(i)\n",
    "    "
   ]
  },
  {
   "cell_type": "markdown",
   "id": "df9a3224-7032-4824-bc58-820132cd49cb",
   "metadata": {},
   "source": [
    "SEARCH X IN TUPLE USING TUPLE"
   ]
  },
  {
   "cell_type": "code",
   "execution_count": 60,
   "id": "740056f2-bd3a-433f-965b-6539a62e8a05",
   "metadata": {},
   "outputs": [
    {
     "name": "stdin",
     "output_type": "stream",
     "text": [
      " 5\n"
     ]
    },
    {
     "name": "stdout",
     "output_type": "stream",
     "text": [
      "1\n",
      "2\n",
      "4\n",
      "5\n",
      "founded at the index of  3\n",
      "6\n",
      "4\n",
      "1\n",
      "5\n",
      "founded at the index of  7\n",
      "2\n",
      "4\n",
      "5\n",
      "founded at the index of  10\n",
      "7\n",
      "8\n",
      "56\n",
      "6\n"
     ]
    }
   ],
   "source": [
    "tup = (1,2,4,5,6,4,1,5,2,4,5,7,8,56,6)\n",
    "x = int(input())\n",
    "idx = 0\n",
    "for i in tup :\n",
    "        print(i)\n",
    "        if i == x:\n",
    "            print('founded at the index of ',idx )\n",
    "        idx = idx +1"
   ]
  },
  {
   "cell_type": "markdown",
   "id": "02f5f231-8602-4af6-a91e-b5610f0738a6",
   "metadata": {},
   "source": [
    "## RANG "
   ]
  },
  {
   "cell_type": "code",
   "execution_count": 69,
   "id": "74030e56-7bf4-438a-9741-499b8de239e8",
   "metadata": {},
   "outputs": [
    {
     "name": "stdout",
     "output_type": "stream",
     "text": [
      "range(0, 1)\n",
      "range(0, 5)\n"
     ]
    }
   ],
   "source": [
    "print(range(1)) # range ko hum   esse print nhi kr wa sakte hai \n",
    "print(range(5))# rang ko print krwane ke liye loop lagana padega\n"
   ]
  },
  {
   "cell_type": "code",
   "execution_count": 77,
   "id": "9d74ded3-ab9e-428a-bad7-791178ad160b",
   "metadata": {},
   "outputs": [
    {
     "name": "stdout",
     "output_type": "stream",
     "text": [
      "0\n",
      "1\n",
      "2\n",
      "3\n",
      "4\n",
      "5\n",
      "1\n",
      "2\n",
      "3\n",
      "4\n"
     ]
    }
   ],
   "source": [
    "for i in  range(6):\n",
    "    print(i)\n",
    "\n",
    "for i in range(1,5):\n",
    "    print(i)"
   ]
  },
  {
   "cell_type": "code",
   "execution_count": 81,
   "id": "91033bdf-2f01-4cca-a58d-cf6e57d3d123",
   "metadata": {},
   "outputs": [
    {
     "name": "stdout",
     "output_type": "stream",
     "text": [
      "1\n",
      "3\n",
      "5\n",
      "7\n",
      "9\n"
     ]
    }
   ],
   "source": [
    "for i in range(1,10,2):\n",
    "    print(i)"
   ]
  },
  {
   "cell_type": "code",
   "execution_count": null,
   "id": "bbac1745-5c57-401a-9a5e-1ff86d674bd2",
   "metadata": {},
   "outputs": [],
   "source": []
  }
 ],
 "metadata": {
  "kernelspec": {
   "display_name": "Python [conda env:base] *",
   "language": "python",
   "name": "conda-base-py"
  },
  "language_info": {
   "codemirror_mode": {
    "name": "ipython",
    "version": 3
   },
   "file_extension": ".py",
   "mimetype": "text/x-python",
   "name": "python",
   "nbconvert_exporter": "python",
   "pygments_lexer": "ipython3",
   "version": "3.12.7"
  }
 },
 "nbformat": 4,
 "nbformat_minor": 5
}
