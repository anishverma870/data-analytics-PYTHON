{
 "cells": [
  {
   "cell_type": "code",
   "execution_count": 1,
   "id": "e10cefb2-d093-44dc-a6ff-1f972f50ad07",
   "metadata": {},
   "outputs": [
    {
     "name": "stdout",
     "output_type": "stream",
     "text": [
      "C:\\Users\\anish\\OneDrive\\Documents\\GitHub\\data-analytics-PYTHON\n"
     ]
    }
   ],
   "source": [
    "import os \n",
    "cs = os.getcwd()\n",
    "print(cs)\n"
   ]
  },
  {
   "cell_type": "code",
   "execution_count": 23,
   "id": "7a5fb886-cbf3-404d-9b7a-fc980117172c",
   "metadata": {},
   "outputs": [
    {
     "name": "stdin",
     "output_type": "stream",
     "text": [
      "ENTER THE PORTFOLIO NUMBER :- 1\n",
      "ENTER THE NAME OF THE STOCKS :- apple.inc\n",
      "ENTER THE INITIAL PRICE OF APPLE.INC:- 100\n",
      "ENTER THE CURRENT STOCK PRICE OF APPLE.INC :- 200\n"
     ]
    },
    {
     "name": "stdout",
     "output_type": "stream",
     "text": [
      "\n",
      " overall price is -100.00%\n"
     ]
    }
   ],
   "source": [
    "def stockportfolio():\n",
    "    '''this is the portfolio analyxer \n",
    "    the first input you give portfolio number then \n",
    "    secound you give name of the stock \n",
    "    third you give initial price \n",
    "    forth you current price\n",
    "    '''\n",
    "\n",
    "\n",
    "num = int(input('ENTER THE PORTFOLIO NUMBER :-'))\n",
    "\n",
    "total_initial_stock = 0\n",
    "total_current_stock = 0\n",
    "\n",
    "for _ in range(num):\n",
    "    prt_name = str(input('ENTER THE NAME OF THE STOCKS :-')).upper().strip()\n",
    "    initial_price = int(input(f'ENTER THE INITIAL PRICE OF {prt_name}:-'))\n",
    "    current_price = int(input(f'ENTER THE CURRENT STOCK PRICE OF {prt_name} :-'))\n",
    "\n",
    "    \n",
    "    total_initial_stock = total_initial_stock + initial_price\n",
    "    total_current_stock = total_current_stock + current_price\n",
    "\n",
    "overall_price = (total_initial_stock - total_current_stock)*100/total_initial_stock\n",
    "\n",
    "if overall_price > 0 :\n",
    "    print('\\n the overall price is {:+.2f}%'.format (overall_price))\n",
    "elif overall_price < 0 :\n",
    "    print('\\n overall price is {:-.2f}%'.format(overall_price))\n",
    "else :\n",
    "    print('\\n overall performace is {:-.2f}%'.format(overall_price))"
   ]
  },
  {
   "cell_type": "code",
   "execution_count": null,
   "id": "6d839b22-ca58-4276-a380-968d3c0bc8b0",
   "metadata": {},
   "outputs": [],
   "source": []
  },
  {
   "cell_type": "code",
   "execution_count": null,
   "id": "7e9986de-0412-4c83-8f4c-925e452e6cf4",
   "metadata": {},
   "outputs": [],
   "source": []
  },
  {
   "cell_type": "code",
   "execution_count": null,
   "id": "8e5b44b3-f443-41f4-a69b-f61b6f639e8f",
   "metadata": {},
   "outputs": [],
   "source": []
  },
  {
   "cell_type": "code",
   "execution_count": null,
   "id": "792076e7-a8c0-4270-9ce9-c5e4e8cf677c",
   "metadata": {},
   "outputs": [],
   "source": []
  },
  {
   "cell_type": "code",
   "execution_count": null,
   "id": "cba1ce7c-f164-4cf4-91db-a7809854a71d",
   "metadata": {},
   "outputs": [],
   "source": []
  },
  {
   "cell_type": "code",
   "execution_count": null,
   "id": "c7142188-2027-4b72-a1af-e6e1354d3c93",
   "metadata": {},
   "outputs": [],
   "source": []
  },
  {
   "cell_type": "code",
   "execution_count": null,
   "id": "82c14a6f-3058-491f-9ae2-b354fb5b81aa",
   "metadata": {},
   "outputs": [],
   "source": []
  },
  {
   "cell_type": "code",
   "execution_count": null,
   "id": "d6d82625-5b8d-497a-9228-7f5b45508e12",
   "metadata": {},
   "outputs": [],
   "source": []
  },
  {
   "cell_type": "code",
   "execution_count": null,
   "id": "a9ef5f94-76d8-43a2-9552-350b24676382",
   "metadata": {},
   "outputs": [],
   "source": []
  },
  {
   "cell_type": "code",
   "execution_count": null,
   "id": "a840858c-f64d-4edb-88e4-acfc06c5d992",
   "metadata": {},
   "outputs": [],
   "source": []
  },
  {
   "cell_type": "code",
   "execution_count": null,
   "id": "d4979eb6-9c01-4864-b473-b63d5f990efe",
   "metadata": {},
   "outputs": [],
   "source": []
  },
  {
   "cell_type": "code",
   "execution_count": null,
   "id": "05ff28f5-c893-45e1-8613-67220a62edb6",
   "metadata": {},
   "outputs": [],
   "source": []
  },
  {
   "cell_type": "code",
   "execution_count": null,
   "id": "b9d7445b-0d05-4d23-8ae8-124f86e27a42",
   "metadata": {},
   "outputs": [],
   "source": []
  },
  {
   "cell_type": "code",
   "execution_count": null,
   "id": "8b4c6b0b-9702-417a-851d-fc7a3eb0f048",
   "metadata": {},
   "outputs": [],
   "source": []
  }
 ],
 "metadata": {
  "kernelspec": {
   "display_name": "Python [conda env:base] *",
   "language": "python",
   "name": "conda-base-py"
  },
  "language_info": {
   "codemirror_mode": {
    "name": "ipython",
    "version": 3
   },
   "file_extension": ".py",
   "mimetype": "text/x-python",
   "name": "python",
   "nbconvert_exporter": "python",
   "pygments_lexer": "ipython3",
   "version": "3.12.7"
  }
 },
 "nbformat": 4,
 "nbformat_minor": 5
}
