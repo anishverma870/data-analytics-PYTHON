{
 "cells": [
  {
   "cell_type": "code",
   "execution_count": 33,
   "id": "48dadbbc-ab47-458b-af75-2bcef2e0cc5a",
   "metadata": {},
   "outputs": [
    {
     "name": "stdout",
     "output_type": "stream",
     "text": [
      "✅ Data Loaded Successfully\n"
     ]
    }
   ],
   "source": [
    "import os\n",
    "import json\n",
    "import pandas as pd\n",
    "import re\n",
    "\n",
    "# File paths\n",
    "csv_file = \"C:\\\\Users\\\\anish\\\\OneDrive\\\\Documents\\\\GitHub\\\\mainfolder\\\\sales_data.csv\"\n",
    "json_folder = \"C:\\\\Users\\\\anish\\\\OneDrive\\\\Documents\\\\GitHub\\\\mainfolder\\\\product_details\"\n",
    "txt_folder = \"C:\\\\Users\\\\anish\\\\OneDrive\\\\Documents\\\\GitHub\\\\mainfolder\\\\product_descriptions\"\n",
    "\n",
    "def load_sales_data(csv_file):\n",
    "    \"\"\"Load sales data from a CSV file and return as a DataFrame.\"\"\"\n",
    "    if os.path.exists(csv_file):\n",
    "        return pd.read_csv(csv_file)\n",
    "    else:\n",
    "        return pd.DataFrame(columns=[\"Product_SKU\"] + [f\"Day{i}\" for i in range(1, 15)])\n",
    "\n",
    "def load_product_details(json_folder):\n",
    "    \"\"\"Load product details from JSON files.\"\"\"\n",
    "    product_details = {}\n",
    "    if os.path.exists(json_folder):\n",
    "        for filename in os.listdir(json_folder):\n",
    "            if filename.startswith(\"details_\") and filename.endswith('.json'):\n",
    "                sku = filename.replace(\"details_\", \"\").replace('.json', '')\n",
    "                with open(os.path.join(json_folder, filename), 'r', encoding='utf-8') as file:\n",
    "                    product_details[sku] = json.load(file)\n",
    "    return product_details\n",
    "\n",
    "def load_product_descriptions(txt_folder):\n",
    "    \"\"\"Load product descriptions from text files.\"\"\"\n",
    "    product_descriptions = {}\n",
    "    if os.path.exists(txt_folder):\n",
    "        for filename in os.listdir(txt_folder):\n",
    "            if filename.startswith(\"description_\") and filename.endswith('.txt'):\n",
    "                sku = filename.replace(\"description_\", \"\").replace('.txt', '')\n",
    "                with open(os.path.join(txt_folder, filename), 'r', encoding='utf-8') as file:\n",
    "                    product_descriptions[sku] = file.read().strip()\n",
    "    return product_descriptions\n",
    "\n",
    "def load_data():\n",
    "    \"\"\"Load all required data files into structured formats.\"\"\"\n",
    "    sales_data = load_sales_data(csv_file)\n",
    "    product_details = load_product_details(json_folder)\n",
    "    product_descriptions = load_product_descriptions(txt_folder)\n",
    "    return sales_data, product_details, product_descriptions\n",
    "\n",
    "# Load initial data\n",
    "sales_data, product_details, product_descriptions = load_data()\n",
    "print(\"✅ Data Loaded Successfully\")\n"
   ]
  },
  {
   "cell_type": "code",
   "execution_count": 35,
   "id": "6b0e1797-6ea7-452c-9f8e-bb7ef7c681ae",
   "metadata": {},
   "outputs": [
    {
     "data": {
      "text/plain": [
       "(       Product_SKU  Day1  Day2  Day3  Day4  Day5  Day6  Day7  Day8  Day9  \\\n",
       " 0    AISJDKFJW93NJ    10    12    15    18    20    22    25    28    26   \n",
       " 1    DJKFIEI432FIE     8    10    12    15    20    18    14    13    17   \n",
       " 2   GGOENEBJ079499    15    18    22    25    28    20    17    23    19   \n",
       " 3    HJSKNWK429DJE    30    32    35    38    40    42    45    48    50   \n",
       " 4    JFKL3940NFKLJ    18    20    22    25    28    30    32    35    38   \n",
       " 5    LKDFJ49LSDJKL    25    28    30    32    35    38    42    40    37   \n",
       " 6    MWKDI3JFK39SL    30    35    40    45    50    42    37    38    41   \n",
       " 7    NEKFJOWE9FDIW    12    15    18    20    22    24    21    23    25   \n",
       " 8    OWEJL398FWJLK    20    22    25    28    30    32    35    38    36   \n",
       " 9    XPLFJW2490XJN     5     8     9    12    15    10    14    16    20   \n",
       " 10   CMWKCILOP27KF    10     0     0     0     0     0     0     0     0   \n",
       " 11   CMWKCILOP27KS    10    12    13    14    15    16    17    18    19   \n",
       " \n",
       "     Day10  Day11  Day12  Day13  Day14  \n",
       " 0      30     32     29     27     24  \n",
       " 1      10      8     11     14     16  \n",
       " 2      21     24     27     18     20  \n",
       " 3      52     55     53     49     47  \n",
       " 4      36     33     29     26     24  \n",
       " 5      34     36     31     29     27  \n",
       " 6      36     33     39     40     44  \n",
       " 7      28     30     27     26     29  \n",
       " 8      33     29     26     24     27  \n",
       " 9      18     22     25     19     21  \n",
       " 10      0      0      0      0      0  \n",
       " 11     20     21     22     23     24  ,\n",
       " {'AISJDKFJW93NJ': {'product_name': 'Wall Art Print',\n",
       "   'brand': 'ArtCraft',\n",
       "   'model': 'NatureCanvas-1001',\n",
       "   'specifications': 'Canvas print, Ready to hang',\n",
       "   'price': '$49.99',\n",
       "   'availability': 'In stock'},\n",
       "  'CMWKCILOP27KF': {'product_name': 'Pokemon Card',\n",
       "   'brand': 'GameFreak',\n",
       "   'price': ' $1.99',\n",
       "   'availability': 'In stock'},\n",
       "  'CMWKCILOP27KS': {'product_name': 'samsang A35',\n",
       "   'brand': 'samsang',\n",
       "   'model': 'A35',\n",
       "   'specifications': 'blue color',\n",
       "   'price': '500$',\n",
       "   'availability': 'in stock'},\n",
       "  'DJKFIEI432FIE': {'product_name': \"Men's Running Shoes\",\n",
       "   'brand': 'RunFit',\n",
       "   'model': 'SpeedX-500',\n",
       "   'specifications': 'Size 10, Lightweight design, Breathable material',\n",
       "   'price': '$79.99',\n",
       "   'availability': 'In stock'},\n",
       "  'GGOENEBJ079499': {'product_name': 'Smartphone',\n",
       "   'brand': 'XYZ Electronics',\n",
       "   'model': 'ABC-2000',\n",
       "   'specifications': '6.5-inch display, 128GB storage, 16MP camera',\n",
       "   'price': '$499.99',\n",
       "   'availability': 'In stock'},\n",
       "  'HJSKNWK429DJE': {'product_name': 'Wireless Earbuds',\n",
       "   'brand': 'SoundSync',\n",
       "   'model': 'TunePro-2022',\n",
       "   'specifications': 'Bluetooth 5.0, 20 hours battery life, Touch controls',\n",
       "   'price': '$89.99',\n",
       "   'availability': 'In stock'},\n",
       "  'JFKL3940NFKLJ': {'product_name': 'Resistance Bands Set',\n",
       "   'brand': 'FitFlex',\n",
       "   'model': 'StrengthPro-300',\n",
       "   'specifications': '5 bands, Varying resistance levels, Portable',\n",
       "   'price': '$34.99',\n",
       "   'availability': 'In stock'},\n",
       "  'LKDFJ49LSDJKL': {'product_name': 'Anti-Aging Face Cream',\n",
       "   'brand': 'GlowBeauty',\n",
       "   'model': 'AgeDefy-300',\n",
       "   'specifications': 'Natural ingredients, Hydrating formula',\n",
       "   'price': '$39.99',\n",
       "   'availability': 'In stock'},\n",
       "  'MWKDI3JFK39SL': {'product_name': 'Fictional Novel',\n",
       "   'brand': 'BestBooks',\n",
       "   'model': None,\n",
       "   'specifications': 'Paperback, 300 pages',\n",
       "   'price': '$14.99',\n",
       "   'availability': 'In stock'},\n",
       "  'NEKFJOWE9FDIW': {'product_name': 'Board Game',\n",
       "   'brand': 'FamilyFun',\n",
       "   'model': 'GameNight-2022',\n",
       "   'specifications': '2-6 players, Ages 8 and up',\n",
       "   'price': '$29.99',\n",
       "   'availability': 'In stock'},\n",
       "  'OWEJL398FWJLK': {'product_name': 'Yoga Mat',\n",
       "   'brand': 'ZenFitness',\n",
       "   'model': 'EcoMat-500',\n",
       "   'specifications': 'Non-slip, 6mm thickness, Eco-friendly material',\n",
       "   'price': '$19.99',\n",
       "   'availability': 'In stock'},\n",
       "  'XPLFJW2490XJN': {'product_name': 'Robot Vacuum Cleaner',\n",
       "   'brand': 'CleanTech',\n",
       "   'model': 'AutoSweep-9000',\n",
       "   'specifications': 'Smart navigation, HEPA filter, 90 minutes runtime',\n",
       "   'price': '$249.99',\n",
       "   'availability': 'In stock'}},\n",
       " {'AISJDKFJW93NJ': \"Transform your living space with ArtCraft's NatureCanvas-1001 Wall Art Print.\\nThis canvas print, ready to hang, brings the beauty of nature into your home.\\nWith dimensions of 16 x 20 inches and a 4.6/5 stars rating, it's a stunning addition to your decor, creating a focal point that captures attention and sparks conversation.\",\n",
       "  'CMWKCILOP27KF': 'Original Pokemon TCG Pikachu card high quality',\n",
       "  'CMWKCILOP27KS': 'CMWKCILOP27KS',\n",
       "  'DJKFIEI432FIE': \"Elevate your running experience with the RunFit SpeedX-500 Men's Running Shoes.\\nDesigned for performance, these shoes feature a lightweight design, breathable material, and are available in vibrant Red, Blue, and classic Black.\\nWhether you're a seasoned runner or just starting, these shoes provide comfort and support for every stride, ensuring you reach new milestones effortlessly.\",\n",
       "  'GGOENEBJ079499': 'Dive into the future with the XYZ Electronics Smartphone, model ABC-2000.\\nBoasting a 6.5-inch display, 128GB storage, and a 16MP camera, this powerful device redefines the smartphone experience.\\nWith a sleek design and available in Black, Silver, and Blue, it combines cutting-edge technology with style, ensuring you stay connected in the most sophisticated way possible.',\n",
       "  'HJSKNWK429DJE': \"Immerse yourself in superior audio quality with SoundSync's TunePro-2022 Wireless Earbuds.\\nFeaturing Bluetooth 5.0, 20 hours of battery life, and touch controls, these earbuds deliver a seamless and immersive listening experience.\\nAvailable in Black and White, they combine style with functionality for music lovers on the go. \\nWith a 4.7/5 stars rating, they stand out as a top choice in the realm of wireless audio.\",\n",
       "  'JFKL3940NFKLJ': \"Embrace versatility in your workouts with FitFlex's StrengthPro-300 Resistance Bands Set.\\nWith 5 bands offering varying resistance levels and portability, this set is your go-to for effective strength training.\\nAvailable in Red, Yellow, and Blue, it caters to different fitness levels and adds a dynamic dimension to your exercise routine.\",\n",
       "  'LKDFJ49LSDJKL': \"Rediscover youthful radiance with GlowBeauty's AgeDefy-300 Anti-Aging Face Cream.\\nFormulated with natural ingredients and a hydrating formula, this skincare essential rejuvenates and nourishes your skin, leaving you with a vibrant and refreshed complexion.\\nWith a stellar 4.7/5 stars rating, it's a must-have for those embracing the journey to ageless beauty.\",\n",
       "  'MWKDI3JFK39SL': \"Immerse yourself in the world of storytelling with BestBooks' Fictional Novel.\\nThis paperback, spanning 300 pages, promises a captivating journey through the pages of an engaging narrative.\\nIdeal for avid readers seeking an escape, this novel, with a 4.6/5 stars rating, is a testament to its ability to weave a compelling tale that keeps you hooked until the last page.\",\n",
       "  'NEKFJOWE9FDIW': \"Unleash the fun with FamilyFun's GameNight-2022 Board Game.\\nDesigned for 2-6 players and suitable for ages 8 and up, this exciting game promises laughter and bonding moments for the entire family.\\nWith a 4.4/5 stars rating, it's a testament to its ability to turn any ordinary night into an extraordinary game night filled with friendly competition and shared joy.\",\n",
       "  'OWEJL398FWJLK': \"Elevate your yoga practice with ZenFitness' EcoMat-500 Yoga Mat.\\nFeaturing a non-slip surface, 6mm thickness, and eco-friendly materials, this high-quality mat provides the perfect foundation for your workouts.\\nAvailable in Purple, Green, and Blue, it not only enhances your comfort but also adds a touch of serenity to your exercise routine.\",\n",
       "  'XPLFJW2490XJN': 'Introducing the CleanTech AutoSweep-9000 Robot Vacuum Cleaner – your smart companion for automated cleaning.\\nWith smart navigation, a HEPA filter, and a runtime of 90 minutes, this efficient device takes care of your cleaning needs.\\nAvailable in White and Silver, it blends seamlessly into your home, making cleanliness a hassle-free experience.'})"
      ]
     },
     "execution_count": 35,
     "metadata": {},
     "output_type": "execute_result"
    }
   ],
   "source": [
    "load_data()"
   ]
  },
  {
   "cell_type": "code",
   "execution_count": 31,
   "id": "2d104af8-dca4-4929-9986-e79e0023cb19",
   "metadata": {},
   "outputs": [
    {
     "name": "stdout",
     "output_type": "stream",
     "text": [
      "🔄 Ready to update data\n"
     ]
    }
   ],
   "source": [
    "def validate_sku(sku):\n",
    "    \"\"\"Validate SKU: It should be exactly 13 characters, alphanumeric, and uppercase.\"\"\"\n",
    "    return bool(re.fullmatch(r\"[A-Z0-9]{13}\", sku))\n",
    "\n",
    "def validate_sales_data(data):\n",
    "    \"\"\"Validate sales data: It should be 14 whole numbers separated by spaces.\"\"\"\n",
    "    numbers = data.split()\n",
    "    return len(numbers) == 14 and all(num.isdigit() for num in numbers)\n",
    "\n",
    "def update_sales_data():\n",
    "    \"\"\"Update or add sales data for a product SKU.\"\"\"\n",
    "    global sales_data\n",
    "    \n",
    "    sku = input(\"Enter Product Sales SKU: \").strip()\n",
    "    if not validate_sku(sku):\n",
    "        print(\"❌ Invalid SKU! It should be exactly 13 characters, alphanumeric, and uppercase.\")\n",
    "        return\n",
    "    \n",
    "    if sku in sales_data[\"Product_SKU\"].values:\n",
    "        choice = input(\"This SKU ID is found. Do you want to update the data? (yes/no): \").strip().lower()\n",
    "        if choice != 'yes':\n",
    "            return\n",
    "        day = input(\"Enter specific day to update (1-14) or press Enter to update all days: \")\n",
    "        if day:\n",
    "            day = int(day)\n",
    "            sales = int(input(f\"Enter sales data for Day {day}: \"))\n",
    "            sales_data.loc[sales_data[\"Product_SKU\"] == sku, f\"Day{day}\"] = sales\n",
    "        else:\n",
    "            sales_data_input = input(\"Enter sales data for all 14 days (separated by spaces): \")\n",
    "            if not validate_sales_data(sales_data_input):\n",
    "                print(\"❌ Invalid sales data! It should contain exactly 14 whole numbers separated by spaces.\")\n",
    "                return\n",
    "            sales_list = list(map(int, sales_data_input.split()))\n",
    "            for i in range(1, 15):\n",
    "                sales_data.loc[sales_data[\"Product_SKU\"] == sku, f\"Day{i}\"] = sales_list[i-1]\n",
    "    else:\n",
    "        choice = input(\"This SKU ID is not found. Do you want to add new data? (yes/no): \").strip().lower()\n",
    "        if choice != 'yes':\n",
    "            return\n",
    "        sales_data_input = input(\"Enter sales data for all 14 days (separated by spaces): \")\n",
    "        if not validate_sales_data(sales_data_input):\n",
    "            print(\"❌ Invalid sales data! It should contain exactly 14 whole numbers separated by spaces.\")\n",
    "            return\n",
    "        new_row = {\"Product_SKU\": sku}\n",
    "        sales_list = list(map(int, sales_data_input.split()))\n",
    "        for i in range(1, 15):\n",
    "            new_row[f\"Day{i}\"] = sales_list[i-1]\n",
    "        sales_data = pd.concat([sales_data, pd.DataFrame([new_row])], ignore_index=True)\n",
    "\n",
    "    print(\"✅ Sales data updated successfully!\")\n",
    "\n",
    "def update_product_details():\n",
    "    \"\"\"Update or add product details in JSON format.\"\"\"\n",
    "    sku = input(\"Enter Product Detail SKU: \").strip()\n",
    "    if not validate_sku(sku):\n",
    "        print(\"❌ Invalid SKU!\")\n",
    "        return\n",
    "    \n",
    "    details = {\n",
    "        \"product_name\": input(\"Enter Product Name: \"),\n",
    "        \"brand\": input(\"Enter Brand: \"),\n",
    "        \"model\": input(\"Enter Model: \"),\n",
    "        \"specifications\": input(\"Enter Specifications: \"),\n",
    "        \"price\": input(\"Enter Price: \"),\n",
    "        \"availability\": input(\"Enter Availability: \")\n",
    "    }\n",
    "    \n",
    "    product_details[sku] = details\n",
    "    print(\"✅ Product details updated successfully!\")\n",
    "\n",
    "def update_product_description():\n",
    "    \"\"\"Update or add product description in a text file.\"\"\"\n",
    "    sku = input(\"Enter Product Description SKU: \").strip()\n",
    "    if not validate_sku(sku):\n",
    "        print(\"❌ Invalid SKU!\")\n",
    "        return\n",
    "    \n",
    "    product_descriptions[sku] = input(\"Enter Product Description: \")\n",
    "    print(\"✅ Product description updated successfully!\")\n",
    "\n",
    "\n",
    "def update():\n",
    "    \"\"\"Calls all update functions for sales, product details, and descriptions.\"\"\"\n",
    "    update_sales_data()\n",
    "    update_product_details()\n",
    "    update_product_description()\n",
    "\n",
    "# Call update function when needed\n",
    "print(\"🔄 Ready to update data\")\n"
   ]
  },
  {
   "cell_type": "code",
   "execution_count": null,
   "id": "17687b7e-17df-4319-93e1-bdd6b70317bd",
   "metadata": {},
   "outputs": [],
   "source": []
  },
  {
   "cell_type": "code",
   "execution_count": null,
   "id": "2d309534-aff5-4c9d-89c7-374b69962ded",
   "metadata": {},
   "outputs": [],
   "source": []
  },
  {
   "cell_type": "code",
   "execution_count": 14,
   "id": "3278b414-ff49-4f88-84fa-6990e1374aba",
   "metadata": {},
   "outputs": [
    {
     "name": "stdout",
     "output_type": "stream",
     "text": [
      "📂 Ready to dump data\n"
     ]
    }
   ],
   "source": [
    "def dump_data():\n",
    "    \"\"\"Dump updated data into files, ensuring the correct folder structure.\"\"\"\n",
    "    \n",
    "    # Define main folder path\n",
    "    main_folder = \"C:\\\\Users\\\\anish\\\\OneDrive\\\\Documents\\\\GitHub\\\\mainfolder\"\n",
    "\n",
    "    # Ensure main folder exists\n",
    "    os.makedirs(main_folder, exist_ok=True)\n",
    "    \n",
    "    # Save sales data\n",
    "    sales_data.to_csv(os.path.join(main_folder, \"sales_data.csv\"), index=False)\n",
    "    print(\"✅ Sales data successfully written to CSV.\")\n",
    "\n",
    "    # Ensure subfolders exist\n",
    "    product_details_folder = os.path.join(main_folder, \"product_details\")\n",
    "    product_descriptions_folder = os.path.join(main_folder, \"product_descriptions\")\n",
    "    os.makedirs(product_details_folder, exist_ok=True)\n",
    "    os.makedirs(product_descriptions_folder, exist_ok=True)\n",
    "\n",
    "    # Save product details\n",
    "    for sku, details in product_details.items():\n",
    "        with open(os.path.join(product_details_folder, f\"details_{sku}.json\"), \"w\", encoding=\"utf-8\") as json_file:\n",
    "            json.dump(details, json_file, indent=4)\n",
    "    print(\"✅ Product details successfully written to JSON files.\")\n",
    "\n",
    "    # Save product descriptions\n",
    "    for sku, description in product_descriptions.items():\n",
    "        with open(os.path.join(product_descriptions_folder, f\"description_{sku}.txt\"), \"w\", encoding=\"utf-8\") as txt_file:\n",
    "            txt_file.write(description)\n",
    "    print(\"✅ Product descriptions successfully written to text files.\")\n",
    "\n",
    "# Call dump_data() when needed\n",
    "print(\"📂 Ready to dump data\")\n"
   ]
  },
  {
   "cell_type": "code",
   "execution_count": 49,
   "id": "b52ed3fe-d83a-4b70-87f0-2276ed7cb0b3",
   "metadata": {},
   "outputs": [
    {
     "name": "stdout",
     "output_type": "stream",
     "text": [
      "✅ Data Loaded Successfully\n"
     ]
    },
    {
     "name": "stdin",
     "output_type": "stream",
     "text": [
      "Do you want to update the data :- (yes/no) yes\n",
      "Enter Product Sales SKU:  CMWKCILOP27KH\n",
      "This SKU ID is not found. Do you want to add new data? (yes/no):  YES\n",
      "Enter sales data for all 14 days (separated by spaces):  1 2 3 4 5 6 7 8 9 10 11 12 13 14\n"
     ]
    },
    {
     "name": "stdout",
     "output_type": "stream",
     "text": [
      "✅ Sales data updated successfully!\n"
     ]
    },
    {
     "name": "stdin",
     "output_type": "stream",
     "text": [
      "Enter Product Detail SKU:  CMWKCILOP27KH\n",
      "Enter Product Name:  samsang a35\n",
      "Enter Brand:  samsang\n",
      "Enter Model:  a35\n",
      "Enter Specifications:  best phone\n",
      "Enter Price:  500$\n",
      "Enter Availability:  in stock\n"
     ]
    },
    {
     "name": "stdout",
     "output_type": "stream",
     "text": [
      "✅ Product details updated successfully!\n"
     ]
    },
    {
     "name": "stdin",
     "output_type": "stream",
     "text": [
      "Enter Product Description SKU:  CMWKCILOP27KH\n",
      "Enter Product Description:  this phone has 50 mp camera with  6gb of ram\n"
     ]
    },
    {
     "name": "stdout",
     "output_type": "stream",
     "text": [
      "✅ Product description updated successfully!\n",
      "update successfully\n",
      "✅ Sales data successfully written to CSV.\n",
      "✅ Product details successfully written to JSON files.\n",
      "✅ Product descriptions successfully written to text files.\n"
     ]
    }
   ],
   "source": [
    "def main ():\n",
    "    \n",
    "    load_data()\n",
    "print('✅ Data Loaded Successfully')\n",
    "up = input('Do you want to update the data :- (yes/no)').strip().lower()\n",
    "if up == 'yes':\n",
    "    update()\n",
    "    print('update successfully')\n",
    "else:\n",
    "    print('thank you !!!!!!')\n",
    "\n",
    "    \n",
    "dump_data()\n",
    "    \n",
    "    "
   ]
  },
  {
   "cell_type": "code",
   "execution_count": null,
   "id": "2b3c00f7-a627-43d8-b72a-7ec62c468b3a",
   "metadata": {},
   "outputs": [],
   "source": []
  },
  {
   "cell_type": "code",
   "execution_count": null,
   "id": "811e58b1-64f0-447a-9888-501501847c08",
   "metadata": {},
   "outputs": [],
   "source": []
  },
  {
   "cell_type": "code",
   "execution_count": null,
   "id": "e961fd58-ec8a-41be-8532-ebd271297420",
   "metadata": {},
   "outputs": [],
   "source": []
  },
  {
   "cell_type": "code",
   "execution_count": null,
   "id": "b95075fd-89a9-49a3-8533-523b560f8d90",
   "metadata": {},
   "outputs": [],
   "source": []
  },
  {
   "cell_type": "code",
   "execution_count": null,
   "id": "1b93cff6-ff5f-4e5f-81da-49e7d55be3ac",
   "metadata": {},
   "outputs": [],
   "source": []
  },
  {
   "cell_type": "code",
   "execution_count": null,
   "id": "1cb7bedc-2de1-4c3a-8e19-7c9737cb79a9",
   "metadata": {},
   "outputs": [],
   "source": []
  },
  {
   "cell_type": "code",
   "execution_count": null,
   "id": "ecba858f-77b4-4b1a-af46-e78ad57d5f8e",
   "metadata": {},
   "outputs": [],
   "source": []
  },
  {
   "cell_type": "code",
   "execution_count": null,
   "id": "e0a3ae4d-40d1-4517-b805-58a2cf8c117d",
   "metadata": {},
   "outputs": [],
   "source": []
  },
  {
   "cell_type": "code",
   "execution_count": null,
   "id": "58e550b8-a5c4-47f9-963d-e4cdcb0596e0",
   "metadata": {},
   "outputs": [],
   "source": []
  },
  {
   "cell_type": "code",
   "execution_count": null,
   "id": "8e47b230-4b43-480f-8d86-6cb45ba66a01",
   "metadata": {},
   "outputs": [],
   "source": []
  }
 ],
 "metadata": {
  "kernelspec": {
   "display_name": "Python [conda env:base] *",
   "language": "python",
   "name": "conda-base-py"
  },
  "language_info": {
   "codemirror_mode": {
    "name": "ipython",
    "version": 3
   },
   "file_extension": ".py",
   "mimetype": "text/x-python",
   "name": "python",
   "nbconvert_exporter": "python",
   "pygments_lexer": "ipython3",
   "version": "3.12.7"
  }
 },
 "nbformat": 4,
 "nbformat_minor": 5
}
