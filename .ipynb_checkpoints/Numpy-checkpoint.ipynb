{
 "cells": [
  {
   "cell_type": "markdown",
   "id": "93310966-2047-4443-9106-ec9052c29ec9",
   "metadata": {},
   "source": [
    "# Numpy"
   ]
  },
  {
   "cell_type": "raw",
   "id": "6e2119df-7e9f-4f0f-9555-2bd07fa137a1",
   "metadata": {},
   "source": []
  },
  {
   "cell_type": "code",
   "execution_count": 2,
   "id": "e4527c06-15e8-4d65-a507-d3060652a62b",
   "metadata": {},
   "outputs": [],
   "source": [
    "import numpy as np"
   ]
  },
  {
   "cell_type": "code",
   "execution_count": 4,
   "id": "7d7163eb-ece4-4640-8cef-1a01fbe77402",
   "metadata": {},
   "outputs": [
    {
     "data": {
      "text/plain": [
       "'1.26.4'"
      ]
     },
     "execution_count": 4,
     "metadata": {},
     "output_type": "execute_result"
    }
   ],
   "source": [
    "np.__version__"
   ]
  },
  {
   "cell_type": "code",
   "execution_count": 8,
   "id": "2e4b4eff-bb44-4d75-9b54-de623d77cc78",
   "metadata": {},
   "outputs": [
    {
     "name": "stdout",
     "output_type": "stream",
     "text": [
      "Requirement already satisfied: numpy in c:\\users\\anish\\anaconda3\\lib\\site-packages (1.26.4)Note: you may need to restart the kernel to use updated packages.\n",
      "\n",
      "Collecting numpy\n",
      "  Downloading numpy-2.2.3-cp312-cp312-win_amd64.whl.metadata (60 kB)\n",
      "Downloading numpy-2.2.3-cp312-cp312-win_amd64.whl (12.6 MB)\n",
      "   ---------------------------------------- 0.0/12.6 MB ? eta -:--:--\n",
      "   - -------------------------------------- 0.5/12.6 MB 2.4 MB/s eta 0:00:06\n",
      "   --- ------------------------------------ 1.0/12.6 MB 2.5 MB/s eta 0:00:05\n",
      "   ---- ----------------------------------- 1.6/12.6 MB 2.5 MB/s eta 0:00:05\n",
      "   ------ --------------------------------- 2.1/12.6 MB 2.5 MB/s eta 0:00:05\n",
      "   -------- ------------------------------- 2.6/12.6 MB 2.5 MB/s eta 0:00:04\n",
      "   --------- ------------------------------ 3.1/12.6 MB 2.5 MB/s eta 0:00:04\n",
      "   ----------- ---------------------------- 3.7/12.6 MB 2.5 MB/s eta 0:00:04\n",
      "   ------------- -------------------------- 4.2/12.6 MB 2.5 MB/s eta 0:00:04\n",
      "   -------------- ------------------------- 4.7/12.6 MB 2.5 MB/s eta 0:00:04\n",
      "   ---------------- ----------------------- 5.2/12.6 MB 2.5 MB/s eta 0:00:03\n",
      "   ------------------ --------------------- 5.8/12.6 MB 2.5 MB/s eta 0:00:03\n",
      "   ------------------- -------------------- 6.3/12.6 MB 2.5 MB/s eta 0:00:03\n",
      "   --------------------- ------------------ 6.8/12.6 MB 2.5 MB/s eta 0:00:03\n",
      "   ------------------------ --------------- 7.6/12.6 MB 2.5 MB/s eta 0:00:03\n",
      "   ------------------------ --------------- 7.9/12.6 MB 2.5 MB/s eta 0:00:02\n",
      "   -------------------------- ------------- 8.4/12.6 MB 2.5 MB/s eta 0:00:02\n",
      "   ---------------------------- ----------- 8.9/12.6 MB 2.5 MB/s eta 0:00:02\n",
      "   ----------------------------- ---------- 9.4/12.6 MB 2.5 MB/s eta 0:00:02\n",
      "   ------------------------------- -------- 10.0/12.6 MB 2.5 MB/s eta 0:00:02\n",
      "   --------------------------------- ------ 10.5/12.6 MB 2.5 MB/s eta 0:00:01\n",
      "   ---------------------------------- ----- 11.0/12.6 MB 2.5 MB/s eta 0:00:01\n",
      "   ------------------------------------ --- 11.5/12.6 MB 2.5 MB/s eta 0:00:01\n",
      "   ------------------------------------ --- 11.5/12.6 MB 2.5 MB/s eta 0:00:01\n",
      "   ------------------------------------ --- 11.5/12.6 MB 2.5 MB/s eta 0:00:01\n",
      "   ------------------------------------ --- 11.5/12.6 MB 2.5 MB/s eta 0:00:01\n",
      "   -------------------------------------- - 12.1/12.6 MB 2.2 MB/s eta 0:00:01\n",
      "   ---------------------------------------  12.3/12.6 MB 2.2 MB/s eta 0:00:01\n",
      "   ---------------------------------------  12.3/12.6 MB 2.2 MB/s eta 0:00:01\n",
      "   ---------------------------------------- 12.6/12.6 MB 2.0 MB/s eta 0:00:00\n",
      "Installing collected packages: numpy\n",
      "  Attempting uninstall: numpy\n",
      "    Found existing installation: numpy 1.26.4\n",
      "    Uninstalling numpy-1.26.4:\n",
      "      Successfully uninstalled numpy-1.26.4\n",
      "Successfully installed numpy-2.2.3\n"
     ]
    },
    {
     "name": "stderr",
     "output_type": "stream",
     "text": [
      "ERROR: pip's dependency resolver does not currently take into account all the packages that are installed. This behaviour is the source of the following dependency conflicts.\n",
      "contourpy 1.2.0 requires numpy<2.0,>=1.20, but you have numpy 2.2.3 which is incompatible.\n",
      "gensim 4.3.3 requires numpy<2.0,>=1.18.5, but you have numpy 2.2.3 which is incompatible.\n",
      "numba 0.60.0 requires numpy<2.1,>=1.22, but you have numpy 2.2.3 which is incompatible.\n"
     ]
    }
   ],
   "source": [
    "pip install --upgrade numpy\n"
   ]
  },
  {
   "cell_type": "code",
   "execution_count": 10,
   "id": "48f8a6c5-8f87-4e38-9b55-6fa0fbf51fd9",
   "metadata": {},
   "outputs": [
    {
     "data": {
      "text/plain": [
       "'1.26.4'"
      ]
     },
     "execution_count": 10,
     "metadata": {},
     "output_type": "execute_result"
    }
   ],
   "source": [
    "np.__version__"
   ]
  },
  {
   "cell_type": "code",
   "execution_count": null,
   "id": "8ac0126a-53c5-4d30-963f-502332671635",
   "metadata": {},
   "outputs": [],
   "source": []
  },
  {
   "cell_type": "code",
   "execution_count": null,
   "id": "32546443-fabc-4dd4-a6ef-868b391106c1",
   "metadata": {},
   "outputs": [],
   "source": []
  },
  {
   "cell_type": "code",
   "execution_count": null,
   "id": "af408a2b-04c9-44f8-a1d5-45ff1b70aced",
   "metadata": {},
   "outputs": [],
   "source": []
  }
 ],
 "metadata": {
  "kernelspec": {
   "display_name": "Python [conda env:base] *",
   "language": "python",
   "name": "conda-base-py"
  },
  "language_info": {
   "codemirror_mode": {
    "name": "ipython",
    "version": 3
   },
   "file_extension": ".py",
   "mimetype": "text/x-python",
   "name": "python",
   "nbconvert_exporter": "python",
   "pygments_lexer": "ipython3",
   "version": "3.12.7"
  }
 },
 "nbformat": 4,
 "nbformat_minor": 5
}
