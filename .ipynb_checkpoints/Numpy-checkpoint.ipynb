{
 "cells": [
  {
   "cell_type": "markdown",
   "id": "93310966-2047-4443-9106-ec9052c29ec9",
   "metadata": {},
   "source": [
    "# Numpy"
   ]
  },
  {
   "cell_type": "code",
   "execution_count": 7,
   "id": "e4527c06-15e8-4d65-a507-d3060652a62b",
   "metadata": {},
   "outputs": [],
   "source": [
    "import numpy as np"
   ]
  },
  {
   "cell_type": "code",
   "execution_count": 4,
   "id": "7d7163eb-ece4-4640-8cef-1a01fbe77402",
   "metadata": {},
   "outputs": [
    {
     "data": {
      "text/plain": [
       "'1.26.4'"
      ]
     },
     "execution_count": 4,
     "metadata": {},
     "output_type": "execute_result"
    }
   ],
   "source": [
    "np.__version__"
   ]
  },
  {
   "cell_type": "markdown",
   "id": "db47f704-121b-4a9f-83a0-ab9038ad6b5a",
   "metadata": {},
   "source": [
    "### creating the empty array"
   ]
  },
  {
   "cell_type": "code",
   "execution_count": 9,
   "id": "48f8a6c5-8f87-4e38-9b55-6fa0fbf51fd9",
   "metadata": {},
   "outputs": [],
   "source": [
    "np_array = np.array([])"
   ]
  },
  {
   "cell_type": "code",
   "execution_count": 11,
   "id": "8ac0126a-53c5-4d30-963f-502332671635",
   "metadata": {},
   "outputs": [
    {
     "data": {
      "text/plain": [
       "array([], dtype=float64)"
      ]
     },
     "execution_count": 11,
     "metadata": {},
     "output_type": "execute_result"
    }
   ],
   "source": [
    "np_array"
   ]
  },
  {
   "cell_type": "markdown",
   "id": "12b5ef41-f22f-4626-b3c5-69692963391a",
   "metadata": {},
   "source": [
    "### creating array from list "
   ]
  },
  {
   "cell_type": "code",
   "execution_count": 18,
   "id": "af408a2b-04c9-44f8-a1d5-45ff1b70aced",
   "metadata": {},
   "outputs": [
    {
     "name": "stdout",
     "output_type": "stream",
     "text": [
      "[1 2 3 4 5 6 7 8 9] <class 'numpy.ndarray'>\n"
     ]
    }
   ],
   "source": [
    "list1 = [1,2,3,4,5,6,7,8,9]\n",
    "cvt_array = np.array(list1)\n",
    "print(cvt_array,type(cvt_array))"
   ]
  },
  {
   "cell_type": "markdown",
   "id": "b901f850-4072-469d-b21c-93b5d8b780cd",
   "metadata": {},
   "source": [
    "### creating array from tuples"
   ]
  },
  {
   "cell_type": "code",
   "execution_count": 25,
   "id": "b7c8aecc-0406-4bd8-a6a9-8dc35ee8f6d5",
   "metadata": {},
   "outputs": [
    {
     "name": "stdout",
     "output_type": "stream",
     "text": [
      "[ 1  2  3  4  5  6  7  8  9 10] <class 'numpy.ndarray'>\n"
     ]
    }
   ],
   "source": [
    "tuple1 = (1,2,3,4,5,6,7,8,9,10)\n",
    "tuple_to_array = np.array(tuple1)\n",
    "print(tuple_to_array,type(tuple_to_array))"
   ]
  },
  {
   "cell_type": "markdown",
   "id": "b88ba040-b370-484a-b271-d8a260d1e67c",
   "metadata": {},
   "source": [
    "## [1,2,3,4,5,6,7,8,9] this are one dimentional array "
   ]
  },
  {
   "cell_type": "markdown",
   "id": "5398a97b-780b-48da-bbdc-0677d72e2d4d",
   "metadata": {},
   "source": [
    "### datatype"
   ]
  },
  {
   "cell_type": "code",
   "execution_count": 30,
   "id": "d69ec3ce-2fb7-4763-9a95-514ca65e916d",
   "metadata": {},
   "outputs": [
    {
     "name": "stdout",
     "output_type": "stream",
     "text": [
      "float64\n"
     ]
    }
   ],
   "source": [
    "float1 = np.array([1.0,2.5,3.6,4.5,1.8,5.2])\n",
    "data_type = float1.dtype\n",
    "print(data_type)"
   ]
  },
  {
   "cell_type": "markdown",
   "id": "4ef81714-2c04-41f7-b148-6aae49f7f633",
   "metadata": {},
   "source": [
    "## string array "
   ]
  },
  {
   "cell_type": "code",
   "execution_count": 36,
   "id": "8909c536-8147-4f4b-9f14-bf9285356632",
   "metadata": {},
   "outputs": [
    {
     "name": "stdout",
     "output_type": "stream",
     "text": [
      "['apple' 'banana' 'mango' 'orange' 'kiwi'] <U6\n"
     ]
    }
   ],
   "source": [
    "str_array = np.array(['apple','banana','mango','orange','kiwi'])\n",
    "print(str_array,str_array.dtype)"
   ]
  },
  {
   "cell_type": "markdown",
   "id": "d04baa2f-38f3-4b0f-8e18-1a5550887c2a",
   "metadata": {},
   "source": [
    "## uppercasting"
   ]
  },
  {
   "cell_type": "code",
   "execution_count": 69,
   "id": "7f35e9d8-3089-4ded-9446-c660ca52f41e",
   "metadata": {},
   "outputs": [
    {
     "name": "stdout",
     "output_type": "stream",
     "text": [
      "<class 'numpy.ndarray'> ['apple' '100' '2.565' 'True']\n"
     ]
    }
   ],
   "source": [
    "str_upper = np.array(['apple',100,2.565,True])\n",
    "print(type(str_upper) ,str_upper) # here all data convert to the string beacause string are more flexiable "
   ]
  },
  {
   "cell_type": "markdown",
   "id": "4cf5f836-52df-4cd4-99d9-edfc060cae01",
   "metadata": {},
   "source": [
    "Notice that in the code given above, numerical values have been converted into strings. This is because arrays can't have mixed types of data. Therefore, NumPy performs what is called upcasting, which is automatic promotion of data types to a higher-level type to ensure that all elements in an operation can be handled consistently. NumPy will upcast the data types to a common type that can accommodate both inputs without loss of information.\n",
    "\n"
   ]
  },
  {
   "cell_type": "markdown",
   "id": "e7214934-c78e-473f-9328-aae8759c9904",
   "metadata": {},
   "source": [
    "### array from set"
   ]
  },
  {
   "cell_type": "code",
   "execution_count": 53,
   "id": "46dcb3b8-ef79-42c5-b294-95458a86a6a5",
   "metadata": {},
   "outputs": [
    {
     "name": "stdout",
     "output_type": "stream",
     "text": [
      "{1.2, 2.3, 1.254, 4.987, 5.6, 1.478} <class 'numpy.ndarray'>\n"
     ]
    }
   ],
   "source": [
    "set1 = {1.2,2.3,5.6,4.987,1.254,1.478}\n",
    "array1 = np.array(set1)\n",
    "print(array1,type(array1))"
   ]
  },
  {
   "cell_type": "code",
   "execution_count": 55,
   "id": "eab54d04-460c-4c07-a996-3af9e7105ec7",
   "metadata": {},
   "outputs": [
    {
     "ename": "IndexError",
     "evalue": "too many indices for array: array is 0-dimensional, but 1 were indexed",
     "output_type": "error",
     "traceback": [
      "\u001b[1;31m---------------------------------------------------------------------------\u001b[0m",
      "\u001b[1;31mIndexError\u001b[0m                                Traceback (most recent call last)",
      "Cell \u001b[1;32mIn[55], line 1\u001b[0m\n\u001b[1;32m----> 1\u001b[0m \u001b[38;5;28mprint\u001b[39m(array1[\u001b[38;5;241m0\u001b[39m])\n",
      "\u001b[1;31mIndexError\u001b[0m: too many indices for array: array is 0-dimensional, but 1 were indexed"
     ]
    }
   ],
   "source": [
    "print(array1[0])"
   ]
  },
  {
   "cell_type": "markdown",
   "id": "a01f1d2e-388b-4d58-86fb-5e52a4fe8191",
   "metadata": {},
   "source": [
    "Notice even though we have created an array from a set, the resulting array retains the curly braces from the set. Further, when we tried to access an element from the resulting array, the interpreter threw the above error.\n",
    "\n",
    "\n",
    "This is mainly because sets in Python are unordered collections of unique elements, whereas NumPy arrays are ordered collections. NumPy creates a zero-dimensional array which cannot be indexed. Hence creating arrays directly from sets is not a common practice, and it's not typically suggested.\n",
    "\n",
    "\n",
    "\n"
   ]
  },
  {
   "cell_type": "markdown",
   "id": "f35ce05f-320d-49fb-aabf-6803b63aa714",
   "metadata": {},
   "source": [
    "## Understanding NumPy Arrays and Mixed Data Types"
   ]
  },
  {
   "cell_type": "markdown",
   "id": "3fcdfff0-7aa0-4ed6-b7e5-d01fdbb29459",
   "metadata": {},
   "source": [
    "\n",
    "NumPy is designed to work with large amounts of numerical data efficiently. One of its key features is that all elements in a NumPy array must have the same data type (e.g., all integers, all floats, or all strings).\n",
    "\n",
    "But what happens when we try to create a NumPy array from a list containing different data types?"
   ]
  },
  {
   "cell_type": "code",
   "execution_count": 60,
   "id": "a9dd3035-1c48-473a-b3dc-9f41668b06af",
   "metadata": {},
   "outputs": [
    {
     "ename": "ValueError",
     "evalue": "setting an array element with a sequence. The requested array has an inhomogeneous shape after 1 dimensions. The detected shape was (5,) + inhomogeneous part.",
     "output_type": "error",
     "traceback": [
      "\u001b[1;31m---------------------------------------------------------------------------\u001b[0m",
      "\u001b[1;31mValueError\u001b[0m                                Traceback (most recent call last)",
      "Cell \u001b[1;32mIn[60], line 2\u001b[0m\n\u001b[0;32m      1\u001b[0m mixedlist \u001b[38;5;241m=\u001b[39m [[\u001b[38;5;241m1\u001b[39m,\u001b[38;5;241m2\u001b[39m,\u001b[38;5;241m3\u001b[39m],\u001b[38;5;124m'\u001b[39m\u001b[38;5;124mapple\u001b[39m\u001b[38;5;124m'\u001b[39m,\u001b[38;5;241m10.245\u001b[39m,\u001b[38;5;241m-\u001b[39m\u001b[38;5;241m5\u001b[39m,\u001b[38;5;28;01mTrue\u001b[39;00m]\n\u001b[1;32m----> 2\u001b[0m ct_array \u001b[38;5;241m=\u001b[39m np\u001b[38;5;241m.\u001b[39marray(mixedlist)\n\u001b[0;32m      3\u001b[0m \u001b[38;5;28mprint\u001b[39m(ct_array)\n",
      "\u001b[1;31mValueError\u001b[0m: setting an array element with a sequence. The requested array has an inhomogeneous shape after 1 dimensions. The detected shape was (5,) + inhomogeneous part."
     ]
    }
   ],
   "source": [
    "mixedlist = [[1,2,3],'apple',10.245,-5,True]\n",
    "ct_array = np.array(mixedlist)\n",
    "print(ct_array)"
   ]
  },
  {
   "cell_type": "markdown",
   "id": "7dfaeee1-7c08-45d3-8fe6-3eac9ddcd1ba",
   "metadata": {},
   "source": [
    "🔴 This gives an error because NumPy expects a consistent data type, but our list contains:\n",
    "\n",
    "A list [2, 3, 1]\n",
    "A string 'New York'\n",
    "A float 5.6\n",
    "An integer -10\n",
    "Another string 'John'\n",
    "These data types are too different for NumPy to convert into a single, uniform array.\n",
    "\n"
   ]
  },
  {
   "cell_type": "markdown",
   "id": "1041bc2f-7aa2-4ccd-8a34-88c2b9ee7860",
   "metadata": {},
   "source": [
    "so the solution is "
   ]
  },
  {
   "cell_type": "code",
   "execution_count": 66,
   "id": "516cf44f-0b5d-4b96-afa0-b82512c80234",
   "metadata": {},
   "outputs": [
    {
     "name": "stdout",
     "output_type": "stream",
     "text": [
      "[list([1, 2, 3]) 'apple' 10.245 -5 True] <class 'numpy.ndarray'>\n"
     ]
    }
   ],
   "source": [
    "ct_array = np.array(object = mixedlist, dtype ='object')\n",
    "print(ct_array, type(ct_array))"
   ]
  },
  {
   "cell_type": "markdown",
   "id": "de4da906-b5d1-43ae-929c-b943beacb18b",
   "metadata": {},
   "source": [
    "To force NumPy to accept different types, we can specify dtype='object'. This tells NumPy to treat every element as a general Python object:"
   ]
  },
  {
   "cell_type": "code",
   "execution_count": null,
   "id": "6e9ef880-850d-4ce7-8cc7-184432a94e58",
   "metadata": {},
   "outputs": [],
   "source": []
  }
 ],
 "metadata": {
  "kernelspec": {
   "display_name": "Python [conda env:base] *",
   "language": "python",
   "name": "conda-base-py"
  },
  "language_info": {
   "codemirror_mode": {
    "name": "ipython",
    "version": 3
   },
   "file_extension": ".py",
   "mimetype": "text/x-python",
   "name": "python",
   "nbconvert_exporter": "python",
   "pygments_lexer": "ipython3",
   "version": "3.12.7"
  }
 },
 "nbformat": 4,
 "nbformat_minor": 5
}
