{
 "cells": [
  {
   "cell_type": "markdown",
   "id": "b92b1295-6272-4884-843c-c6ad1b00a1c2",
   "metadata": {},
   "source": [
    "# **LIST**"
   ]
  },
  {
   "cell_type": "markdown",
   "id": "8f2adea0-15ba-47c7-8ee7-a161df2dd7c1",
   "metadata": {},
   "source": [
    "🧠 What is a List in Python?\n",
    "A list is a mutable, ordered collection that can store elements of different data types.\n",
    "\n",
    "\n",
    "my_list = [10, 20, 30, \"Python\", True]\n",
    "\n",
    "✅ Mutable = You can change it (add, remove, update values)\n",
    "\n",
    "\n",
    "✅ Ordered = Keeps the same order you insert elements\n",
    "\n",
    "\n"
   ]
  },
  {
   "cell_type": "code",
   "execution_count": 27,
   "id": "664c8a0c-22c4-4bf1-ad19-962e202a7ef8",
   "metadata": {},
   "outputs": [
    {
     "name": "stdout",
     "output_type": "stream",
     "text": [
      "[1, 2, 3, 4, 50]\n"
     ]
    }
   ],
   "source": [
    "#append()\n",
    "lst = [1,2,3,4]\n",
    "lst.append(50)\n",
    "print(lst)"
   ]
  },
  {
   "cell_type": "code",
   "execution_count": 29,
   "id": "9f0b9289-08e4-40bf-803d-d85c2a29108a",
   "metadata": {},
   "outputs": [
    {
     "data": {
      "text/plain": [
       "[1, 2, 3, 4, 50, 60, 70, 80]"
      ]
     },
     "execution_count": 29,
     "metadata": {},
     "output_type": "execute_result"
    }
   ],
   "source": [
    "#extend()\n",
    "lst2 = [60,70,80]\n",
    "lst.extend(lst2)\n",
    "lst"
   ]
  },
  {
   "cell_type": "code",
   "execution_count": 33,
   "id": "63a99cc8-8fb2-41cb-817b-0ab9e6581737",
   "metadata": {},
   "outputs": [
    {
     "name": "stdout",
     "output_type": "stream",
     "text": [
      "[1, 2, 5000, 3, 4, 5]\n"
     ]
    }
   ],
   "source": [
    "#insert(index,value)\n",
    "inst = [1,2,3,4,5]\n",
    "inst.insert(2,5000)\n",
    "print(inst)\n"
   ]
  },
  {
   "cell_type": "code",
   "execution_count": 37,
   "id": "1e53e4db-ad7e-4151-afa0-82a01b6fa7bd",
   "metadata": {},
   "outputs": [
    {
     "name": "stdout",
     "output_type": "stream",
     "text": [
      "[1, 2, 4, 5, 6]\n"
     ]
    }
   ],
   "source": [
    "#remove(value)\n",
    "rem = [1,2,3,4,5,6]\n",
    "rem.remove(3)\n",
    "print(rem)"
   ]
  },
  {
   "cell_type": "code",
   "execution_count": 41,
   "id": "41afe49b-d06a-4a48-87a3-8cd38daeed08",
   "metadata": {},
   "outputs": [
    {
     "data": {
      "text/plain": [
       "3"
      ]
     },
     "execution_count": 41,
     "metadata": {},
     "output_type": "execute_result"
    }
   ],
   "source": [
    "#pop(index)\n",
    "pop = [1,2,3,4,5,6]\n",
    "pop.pop(2)\n"
   ]
  },
  {
   "cell_type": "code",
   "execution_count": 45,
   "id": "8dcbfce4-24df-47c0-ae99-bbd4157b9006",
   "metadata": {},
   "outputs": [
    {
     "name": "stdout",
     "output_type": "stream",
     "text": [
      "[]\n"
     ]
    }
   ],
   "source": [
    "#clear()\n",
    "cl = ['please help me this clear function of the list clearing me ']\n",
    "cl.clear()\n",
    "print(cl)"
   ]
  },
  {
   "cell_type": "code",
   "execution_count": 49,
   "id": "8df1857b-2cf0-42ed-9a2c-58387daa6e36",
   "metadata": {},
   "outputs": [
    {
     "data": {
      "text/plain": [
       "1"
      ]
     },
     "execution_count": 49,
     "metadata": {},
     "output_type": "execute_result"
    }
   ],
   "source": [
    "#index(value)\n",
    "name = ['anish','khushi','vanshu']\n",
    "name.index('khushi')"
   ]
  },
  {
   "cell_type": "code",
   "execution_count": 61,
   "id": "022b0fb2-75bc-4e20-9a97-096472188ada",
   "metadata": {},
   "outputs": [
    {
     "name": "stdout",
     "output_type": "stream",
     "text": [
      "4\n",
      "4\n",
      "5\n",
      "1\n"
     ]
    }
   ],
   "source": [
    "#count(value)\n",
    "co = [1,2,3,1,2,3,2,3,1,1,2,3,3,0]\n",
    "print(co.count(1))\n",
    "print(co.count(2))\n",
    "print(co.count(3))\n",
    "print(co.count(0))\n"
   ]
  },
  {
   "cell_type": "code",
   "execution_count": 69,
   "id": "d5135ffe-5670-4500-906c-7fc2a2d7684a",
   "metadata": {},
   "outputs": [
    {
     "data": {
      "text/plain": [
       "[1, 3, 4, 5, 5, 7, 8, 9]"
      ]
     },
     "execution_count": 69,
     "metadata": {},
     "output_type": "execute_result"
    }
   ],
   "source": [
    "# sort() default asending\n",
    "sort = [1,5,4,9,3,5,7,8]\n",
    "sort.sort()\n",
    "sort"
   ]
  },
  {
   "cell_type": "code",
   "execution_count": 77,
   "id": "36b04156-a3da-4e07-8eaa-8b045605d0df",
   "metadata": {},
   "outputs": [
    {
     "name": "stdout",
     "output_type": "stream",
     "text": [
      "[62, 8, 5, 4, 4, 3, 2, 1, 1]\n"
     ]
    }
   ],
   "source": [
    "# sort() decending\n",
    "lis = [2,3,4,5,62,1,4,8,1]\n",
    "lis.sort(reverse=True)\n",
    "print(lis)"
   ]
  },
  {
   "cell_type": "code",
   "execution_count": 83,
   "id": "63248fc7-9d5c-4a1f-ac6d-c2c63395bc1d",
   "metadata": {},
   "outputs": [
    {
     "name": "stdout",
     "output_type": "stream",
     "text": [
      "this is sorted :- [1, 2, 2, 3, 4, 5, 6, 7, 8, 9, 12, 45]\n",
      "[1, 2, 45, 9, 5, 4, 7, 8, 2, 12, 3, 6]\n"
     ]
    }
   ],
   "source": [
    "#sorted() Returns a new sorted list without changing the original\n",
    "sott = [1,2,45,9,5,4,7,8,2,12,3,6]\n",
    "print('this is sorted :-',sorted(sott))\n",
    "print(sott)"
   ]
  },
  {
   "cell_type": "code",
   "execution_count": 95,
   "id": "879698da-8080-4e28-9ffe-4751cb94dc4c",
   "metadata": {},
   "outputs": [
    {
     "data": {
      "text/plain": [
       "[6, 3, 12, 2, 8, 7, 4, 5, 9, 45, 2, 1]"
      ]
     },
     "execution_count": 95,
     "metadata": {},
     "output_type": "execute_result"
    }
   ],
   "source": [
    "#reverse()\n",
    "sott.reverse()\n",
    "sott"
   ]
  },
  {
   "cell_type": "code",
   "execution_count": 99,
   "id": "0b9ad7e7-48a9-4e55-a7d6-e4ec66925ebc",
   "metadata": {},
   "outputs": [
    {
     "data": {
      "text/plain": [
       "['anish', 'verma']"
      ]
     },
     "execution_count": 99,
     "metadata": {},
     "output_type": "execute_result"
    }
   ],
   "source": [
    "#copy() Creates a shallow copy of the list.\n",
    "nam = ['anish','verma']\n",
    "new_nam =nam.copy()\n",
    "new_nam"
   ]
  },
  {
   "cell_type": "code",
   "execution_count": 101,
   "id": "697bf4d2-0ed8-44c8-bdf1-faf946df3b22",
   "metadata": {},
   "outputs": [
    {
     "data": {
      "text/plain": [
       "12"
      ]
     },
     "execution_count": 101,
     "metadata": {},
     "output_type": "execute_result"
    }
   ],
   "source": [
    "#len()\n",
    "len(sott)"
   ]
  },
  {
   "cell_type": "code",
   "execution_count": 117,
   "id": "cf43b25a-b940-4091-b8d0-14d9fd80aa54",
   "metadata": {},
   "outputs": [
    {
     "name": "stdout",
     "output_type": "stream",
     "text": [
      "60\n",
      "1\n"
     ]
    }
   ],
   "source": [
    "#max()/min()\n",
    "print(max([1,2,3,4,5,60]))\n",
    "print(min([1,2,3,4,5,60]))"
   ]
  },
  {
   "cell_type": "code",
   "execution_count": 119,
   "id": "b0e54209-9700-42f7-8002-a1beb120e4f4",
   "metadata": {},
   "outputs": [
    {
     "data": {
      "text/plain": [
       "45"
      ]
     },
     "execution_count": 119,
     "metadata": {},
     "output_type": "execute_result"
    }
   ],
   "source": [
    "# sum()\n",
    "add = [1,2,3,4,5,6,7,8,9]\n",
    "sum(add)"
   ]
  },
  {
   "cell_type": "code",
   "execution_count": 125,
   "id": "346dc9d5-4571-4bf2-8f10-a9100ae1258f",
   "metadata": {},
   "outputs": [
    {
     "name": "stdout",
     "output_type": "stream",
     "text": [
      "True\n",
      "True\n"
     ]
    }
   ],
   "source": [
    "#membership operators\n",
    "print(5 in [1,2,3,5])\n",
    "print(5 not in [1,2,34])"
   ]
  },
  {
   "cell_type": "markdown",
   "id": "7f3b6252-f327-4d35-b7a3-857f48c04c7f",
   "metadata": {},
   "source": [
    "# **TUPLE**"
   ]
  },
  {
   "cell_type": "markdown",
   "id": "0fe2d440-56ed-4251-aba9-184e53b8d746",
   "metadata": {},
   "source": [
    "🔷 What is a Tuple?\n",
    "\n",
    "A tuple is an ordered, immutable collection of elements.\n",
    "\n",
    "\n",
    "t = (10, 20, 30)\n",
    "\n",
    "✅ Ordered → Elements are stored in a specific sequence\n",
    "\n",
    "❌ Immutable → You cannot change, add, or remove elements after creation"
   ]
  },
  {
   "cell_type": "code",
   "execution_count": 139,
   "id": "87503e23-1495-475e-90dd-6317a9cf7951",
   "metadata": {},
   "outputs": [],
   "source": [
    "t = (5,)\n",
    "t1 =(5)"
   ]
  },
  {
   "cell_type": "code",
   "execution_count": 141,
   "id": "704690b9-448b-4b78-a4ef-da84628114fb",
   "metadata": {},
   "outputs": [
    {
     "name": "stdout",
     "output_type": "stream",
     "text": [
      "<class 'tuple'>\n",
      "<class 'int'>\n"
     ]
    }
   ],
   "source": [
    "print(type(t))\n",
    "print(type(t1))"
   ]
  },
  {
   "cell_type": "code",
   "execution_count": 145,
   "id": "9277e1f3-5ab2-44db-9c56-0ac5e3a74c61",
   "metadata": {},
   "outputs": [
    {
     "name": "stdout",
     "output_type": "stream",
     "text": [
      "3\n",
      "10\n"
     ]
    }
   ],
   "source": [
    "# count() & index()\n",
    "tuples = (2,3,4,5,5,5,6,6,6,4,1)\n",
    "print(tuples.count(5))\n",
    "print(tuples.index(1))"
   ]
  },
  {
   "cell_type": "code",
   "execution_count": 147,
   "id": "47fa304f-72a0-4dde-9caf-2ba4e7a7531a",
   "metadata": {},
   "outputs": [
    {
     "name": "stdout",
     "output_type": "stream",
     "text": [
      "3\n",
      "5\n",
      "1\n",
      "9\n",
      "[1, 3, 5]\n"
     ]
    }
   ],
   "source": [
    "# other functions\n",
    "t = (5, 1, 3)\n",
    "\n",
    "print(len(t))     # 3\n",
    "print(max(t))     # 5\n",
    "print(min(t))     # 1\n",
    "print(sum(t))     # 9\n",
    "print(sorted(t))  # [1, 3, 5] → returns a **list**\n"
   ]
  },
  {
   "cell_type": "code",
   "execution_count": 149,
   "id": "7f61672e-b351-4ed9-8338-2714fdd555f4",
   "metadata": {},
   "outputs": [
    {
     "name": "stdout",
     "output_type": "stream",
     "text": [
      "10\n",
      "50\n",
      "(20, 30, 40)\n",
      "(50, 40, 30, 20, 10)\n"
     ]
    }
   ],
   "source": [
    "# slicing in tuples\n",
    "t = (10, 20, 30, 40, 50)\n",
    "\n",
    "print(t[0])      # 10\n",
    "print(t[-1])     # 50\n",
    "print(t[1:4])    # (20, 30, 40)\n",
    "print(t[::-1])   # (50, 40, 30, 20, 10)\n"
   ]
  },
  {
   "cell_type": "code",
   "execution_count": 1,
   "id": "d6f61f06-ef83-406b-898d-9fe77c7c35be",
   "metadata": {},
   "outputs": [
    {
     "name": "stdout",
     "output_type": "stream",
     "text": [
      "10\n",
      "20\n",
      "30\n"
     ]
    }
   ],
   "source": [
    "# packing and unpacking\n",
    "pack = (10,20,30)\n",
    "a,b,c = pack\n",
    "print(a)\n",
    "print(b)\n",
    "print(c)"
   ]
  },
  {
   "cell_type": "markdown",
   "id": "ec13ee9b-a678-4d25-b45a-2d3098093ed5",
   "metadata": {},
   "source": [
    "# **DICTIONARY**"
   ]
  },
  {
   "cell_type": "code",
   "execution_count": 1,
   "id": "06972dc6-273c-47e0-9563-3dabfc279f47",
   "metadata": {},
   "outputs": [],
   "source": [
    "dict1 = {'a': 1000, 'b': 2146161, 'c': 600000}"
   ]
  },
  {
   "cell_type": "code",
   "execution_count": 4,
   "id": "2a398ef6-e81c-4219-9a7d-e7e2b6b1bd8e",
   "metadata": {},
   "outputs": [],
   "source": [
    "# other way to create dictionary \n",
    "dic = dict(name='anish',age=22)"
   ]
  },
  {
   "cell_type": "code",
   "execution_count": 6,
   "id": "3039afa2-d2ec-4a41-baa5-405079b2ca72",
   "metadata": {},
   "outputs": [
    {
     "data": {
      "text/plain": [
       "{'name': 'anish', 'age': 22}"
      ]
     },
     "execution_count": 6,
     "metadata": {},
     "output_type": "execute_result"
    }
   ],
   "source": [
    "dic"
   ]
  },
  {
   "cell_type": "code",
   "execution_count": 10,
   "id": "bbf9ce14-7ce5-4692-abe4-ded8e3607f18",
   "metadata": {},
   "outputs": [
    {
     "data": {
      "text/plain": [
       "{}"
      ]
     },
     "execution_count": 10,
     "metadata": {},
     "output_type": "execute_result"
    }
   ],
   "source": [
    "# clear() -Removes all items from the dictionary.\n",
    "dic.clear()\n",
    "dic"
   ]
  },
  {
   "cell_type": "code",
   "execution_count": 18,
   "id": "01c2afb3-100c-4b8c-b507-b5d260c74534",
   "metadata": {},
   "outputs": [
    {
     "data": {
      "text/plain": [
       "{'name': 'anish', 'age': 22, 'phone_no': 9818727396}"
      ]
     },
     "execution_count": 18,
     "metadata": {},
     "output_type": "execute_result"
    }
   ],
   "source": [
    "# copy() -Returns a shallow copy of the dictionary.\n",
    "newdic = {'name':'anish','age':22,'phone_no':9818727396}\n",
    "copydict = newdic.copy()\n",
    "copydict"
   ]
  },
  {
   "cell_type": "code",
   "execution_count": 22,
   "id": "3e0767aa-e698-4554-a9cc-68ff6032435c",
   "metadata": {},
   "outputs": [
    {
     "data": {
      "text/plain": [
       "dict"
      ]
     },
     "execution_count": 22,
     "metadata": {},
     "output_type": "execute_result"
    }
   ],
   "source": [
    "type(copydict)"
   ]
  },
  {
   "cell_type": "code",
   "execution_count": 36,
   "id": "76cfb0a0-1795-401f-b835-00c6d156ec71",
   "metadata": {},
   "outputs": [
    {
     "data": {
      "text/plain": [
       "{'a': None, 'b': None, 'c': None, 'd': None, 'e': None}"
      ]
     },
     "execution_count": 36,
     "metadata": {},
     "output_type": "execute_result"
    }
   ],
   "source": [
    "# fromkey() -Creates a new dictionary from a sequence of keys and a single value.\n",
    "key = ['a','b','c','d','e']\n",
    "dict2 = dict.fromkeys(key,None)\n",
    "dict2"
   ]
  },
  {
   "cell_type": "code",
   "execution_count": 56,
   "id": "22a4bd5a-b571-4298-b1e7-5d4be50c1679",
   "metadata": {},
   "outputs": [
    {
     "name": "stdout",
     "output_type": "stream",
     "text": [
      "{'a': 1000, 'b': 2146161, 'c': 600000}\n",
      "1000\n",
      "None\n"
     ]
    }
   ],
   "source": [
    "# get(key,default) - Returns the value for key, or default if key not found.\n",
    "\n",
    "print(dict1)\n",
    "print(dict1.get('a'))\n",
    "print(dict1.get('d',None)) "
   ]
  },
  {
   "cell_type": "code",
   "execution_count": 62,
   "id": "1293d62b-8205-48c5-9b60-f991e4b66af5",
   "metadata": {},
   "outputs": [
    {
     "name": "stdout",
     "output_type": "stream",
     "text": [
      "{'a': 1000, 'b': 2146161, 'c': 600000}\n"
     ]
    },
    {
     "data": {
      "text/plain": [
       "dict_items([('a', 1000), ('b', 2146161), ('c', 600000)])"
      ]
     },
     "execution_count": 62,
     "metadata": {},
     "output_type": "execute_result"
    }
   ],
   "source": [
    "#items() - Returns a view object of dictionary's key-value pairs.\n",
    "print(dict1)\n",
    "dict1.items()"
   ]
  },
  {
   "cell_type": "code",
   "execution_count": 66,
   "id": "b7f5e6cf-95f8-4a0e-a417-6736cde59cad",
   "metadata": {},
   "outputs": [
    {
     "name": "stdout",
     "output_type": "stream",
     "text": [
      "{'a': 1000, 'b': 2146161, 'c': 600000}\n"
     ]
    },
    {
     "data": {
      "text/plain": [
       "dict_keys(['a', 'b', 'c'])"
      ]
     },
     "execution_count": 66,
     "metadata": {},
     "output_type": "execute_result"
    }
   ],
   "source": [
    "#keys() - Returns a view object of dictionary's keys.\n",
    "print(dict1)\n",
    "dict1.keys()"
   ]
  },
  {
   "cell_type": "code",
   "execution_count": 68,
   "id": "711c834d-0013-46ea-8773-f91a95b89191",
   "metadata": {},
   "outputs": [
    {
     "name": "stdout",
     "output_type": "stream",
     "text": [
      "{'a': 1000, 'b': 2146161, 'c': 600000}\n"
     ]
    },
    {
     "data": {
      "text/plain": [
       "dict_values([1000, 2146161, 600000])"
      ]
     },
     "execution_count": 68,
     "metadata": {},
     "output_type": "execute_result"
    }
   ],
   "source": [
    "#values()\n",
    "print(dict1)\n",
    "dict1.values()"
   ]
  },
  {
   "cell_type": "code",
   "execution_count": 78,
   "id": "e41467fb-b8c4-49c8-8887-fa1c8be2a169",
   "metadata": {},
   "outputs": [
    {
     "name": "stdout",
     "output_type": "stream",
     "text": [
      "{'a': 1000, 'b': 2146161, 'c': 600000}\n",
      "{'b': 2146161, 'c': 600000}\n"
     ]
    }
   ],
   "source": [
    "#pop(key,default)-Removes the key and returns its value. If key not found, returns default.\n",
    "print(dict1)\n",
    "dict1.pop('a')\n",
    "print(dict1)"
   ]
  },
  {
   "cell_type": "code",
   "execution_count": 11,
   "id": "83b440f9-10d2-4c08-b511-d1c58c389d39",
   "metadata": {},
   "outputs": [
    {
     "ename": "KeyError",
     "evalue": "'popitem(): dictionary is empty'",
     "output_type": "error",
     "traceback": [
      "\u001b[1;31m---------------------------------------------------------------------------\u001b[0m",
      "\u001b[1;31mKeyError\u001b[0m                                  Traceback (most recent call last)",
      "Cell \u001b[1;32mIn[11], line 2\u001b[0m\n\u001b[0;32m      1\u001b[0m \u001b[38;5;66;03m#popitem()-Removes and returns the last inserted key-value pair (LIFO).\u001b[39;00m\n\u001b[1;32m----> 2\u001b[0m dict1\u001b[38;5;241m.\u001b[39mpopitem()\n",
      "\u001b[1;31mKeyError\u001b[0m: 'popitem(): dictionary is empty'"
     ]
    }
   ],
   "source": [
    "#popitem()-Removes and returns the last inserted key-value pair (LIFO).\n",
    "dict1.popitem()"
   ]
  },
  {
   "cell_type": "code",
   "execution_count": 13,
   "id": "563ccb1e-ecdb-4179-b867-b1270cc9cdef",
   "metadata": {},
   "outputs": [
    {
     "name": "stdout",
     "output_type": "stream",
     "text": [
      "1\n",
      "200\n",
      "{'a': 1, 'b': 200}\n"
     ]
    }
   ],
   "source": [
    "# setdefault(key, default)\n",
    "my_dict = {'a': 1}\n",
    "print(my_dict.setdefault('a', 100))  # 1\n",
    "print(my_dict.setdefault('b', 200))  # 200\n",
    "print(my_dict)  # {'a': 1, 'b': 200}\n"
   ]
  },
  {
   "cell_type": "code",
   "execution_count": 21,
   "id": "b48ccb2e-85b3-437d-a7b4-c75ede55936a",
   "metadata": {},
   "outputs": [
    {
     "name": "stdout",
     "output_type": "stream",
     "text": [
      "{'a': 100, 'b': 200}\n"
     ]
    }
   ],
   "source": [
    "#update([other_dict])\n",
    "\n",
    "d1 = {'a':100}\n",
    "d2 = {'b':200}\n",
    "d1.update(d2)\n",
    "print(d1)"
   ]
  },
  {
   "cell_type": "code",
   "execution_count": 29,
   "id": "58883f42-4146-4740-956e-ef1cd3d72f63",
   "metadata": {},
   "outputs": [
    {
     "name": "stdout",
     "output_type": "stream",
     "text": [
      "{'a': 1, 'b': 200}\n",
      "True\n",
      "False\n"
     ]
    }
   ],
   "source": [
    "# in keyword\n",
    "print(my_dict)\n",
    "print('a' in my_dict)\n",
    "print(200 in my_dict)"
   ]
  },
  {
   "cell_type": "code",
   "execution_count": 31,
   "id": "064076e9-b35a-4b63-af03-27ab764f51ea",
   "metadata": {},
   "outputs": [
    {
     "name": "stdout",
     "output_type": "stream",
     "text": [
      "2\n"
     ]
    }
   ],
   "source": [
    "# len()-Returns number of key-value pairs.\n",
    "print(len(my_dict))"
   ]
  },
  {
   "cell_type": "code",
   "execution_count": 35,
   "id": "d3f7ba28-1fc8-4e6a-a6eb-b78ccfa5df26",
   "metadata": {},
   "outputs": [
    {
     "name": "stdout",
     "output_type": "stream",
     "text": [
      "{'a': 1, 'b': 200}\n",
      "{'b': 200}\n"
     ]
    }
   ],
   "source": [
    "# del() -Deletes a key-value pair or the entire dictionary.\n",
    "print(my_dict)\n",
    "del my_dict['a']\n",
    "print(my_dict)"
   ]
  },
  {
   "cell_type": "code",
   "execution_count": 37,
   "id": "e0361e67-6f66-41e3-96c6-7e5cc62dfe8d",
   "metadata": {},
   "outputs": [
    {
     "name": "stdout",
     "output_type": "stream",
     "text": [
      "{0: 0, 1: 1, 2: 4, 3: 9, 4: 16, 5: 25, 6: 36, 7: 49, 8: 64, 9: 81}\n"
     ]
    }
   ],
   "source": [
    "#Dictionary Comprehension\n",
    "com_dict = {x:x*x for x in range(10)}\n",
    "print(com_dict)"
   ]
  },
  {
   "cell_type": "markdown",
   "id": "6b49d878-acea-4631-9b7c-4b113402a4f2",
   "metadata": {},
   "source": [
    "# **SETS**"
   ]
  },
  {
   "cell_type": "markdown",
   "id": "b87fe480-7341-4707-b722-45af14969d8c",
   "metadata": {},
   "source": [
    "\n",
    "Feature\tDescription\n",
    "\n",
    "Unordered\t------- No indexing or ordering\n",
    "\n",
    "Unique values ---------\tDuplicates are automatically removed\n",
    "\n",
    "Mutable\t-----------Can add/remove elements\n",
    "\n",
    "Can’t have mutable elements -------------\tYou can't use lists or dicts inside a set"
   ]
  },
  {
   "cell_type": "code",
   "execution_count": 53,
   "id": "09831779-96a0-463f-a903-1fc13e161bf5",
   "metadata": {},
   "outputs": [
    {
     "name": "stdout",
     "output_type": "stream",
     "text": [
      "{1, 2, 3, 4}\n"
     ]
    }
   ],
   "source": [
    "# no duplicate\n",
    "my_set = {1,2,3,4,4,4,}\n",
    "print(my_set)"
   ]
  },
  {
   "cell_type": "code",
   "execution_count": 55,
   "id": "32c64269-b101-4ec6-90e4-8350e426a86e",
   "metadata": {},
   "outputs": [],
   "source": [
    "# Using curly braces\n",
    "my_sets = {1, 2, 3}\n",
    "\n",
    "# Using set() constructor\n",
    "my_sets2 = set([4, 5, 6])\n"
   ]
  },
  {
   "cell_type": "code",
   "execution_count": 59,
   "id": "c662b9ef-896e-4fa9-84b5-948ffb63d339",
   "metadata": {},
   "outputs": [
    {
     "name": "stdout",
     "output_type": "stream",
     "text": [
      "{50000000, 1, 2, 3, 4, 5, 50}\n"
     ]
    }
   ],
   "source": [
    "#add() – Adds a single element\n",
    "s = {1,2,3,4,5,50}\n",
    "s.add(50000000)\n",
    "print(s)"
   ]
  },
  {
   "cell_type": "code",
   "execution_count": 113,
   "id": "a6d28c75-459b-4196-ba7b-360b3b039507",
   "metadata": {},
   "outputs": [
    {
     "name": "stdout",
     "output_type": "stream",
     "text": [
      "{1, 2, 'is', 'this', 40, 'list', 60.2, 30}\n"
     ]
    }
   ],
   "source": [
    "# update() – Adds multiple elements\n",
    "s1 = {1,2,30}\n",
    "s1.update(['this','is','list'],{40,60.20})\n",
    "print(s1)"
   ]
  },
  {
   "cell_type": "code",
   "execution_count": 119,
   "id": "afad5f89-a911-4d1b-8068-7ae4392b0951",
   "metadata": {},
   "outputs": [
    {
     "name": "stdout",
     "output_type": "stream",
     "text": [
      "{1, 2, 'this', 40, 'list', 60.2, 30}\n"
     ]
    },
    {
     "ename": "KeyError",
     "evalue": "'is'",
     "output_type": "error",
     "traceback": [
      "\u001b[1;31m---------------------------------------------------------------------------\u001b[0m",
      "\u001b[1;31mKeyError\u001b[0m                                  Traceback (most recent call last)",
      "Cell \u001b[1;32mIn[119], line 3\u001b[0m\n\u001b[0;32m      1\u001b[0m \u001b[38;5;66;03m#remove() – Removes an element (error if not present)\u001b[39;00m\n\u001b[0;32m      2\u001b[0m \u001b[38;5;28mprint\u001b[39m(s1)\n\u001b[1;32m----> 3\u001b[0m s1\u001b[38;5;241m.\u001b[39mremove(\u001b[38;5;124m'\u001b[39m\u001b[38;5;124mis\u001b[39m\u001b[38;5;124m'\u001b[39m)\n\u001b[0;32m      4\u001b[0m \u001b[38;5;28mprint\u001b[39m(s1)\n",
      "\u001b[1;31mKeyError\u001b[0m: 'is'"
     ]
    }
   ],
   "source": [
    "#remove() – Removes an element (error if not present)\n",
    "print(s1)\n",
    "s1.remove('is')\n",
    "print(s1)"
   ]
  },
  {
   "cell_type": "code",
   "execution_count": 151,
   "id": "4d157a59-581d-40b2-98ff-926a69e6a981",
   "metadata": {},
   "outputs": [
    {
     "name": "stdout",
     "output_type": "stream",
     "text": [
      "{1, 2, 3, 4, 5}\n"
     ]
    }
   ],
   "source": [
    "#discard() – Removes an element (no error if not present)\n",
    "s2 = {1,2,3,4,5}\n",
    "s2.discard(6000)\n",
    "print(s2)"
   ]
  },
  {
   "cell_type": "code",
   "execution_count": 153,
   "id": "2f095b61-deac-404d-bf92-834c16578b19",
   "metadata": {},
   "outputs": [
    {
     "name": "stdout",
     "output_type": "stream",
     "text": [
      "{1, 2, 3, 4, 5}\n",
      "{2, 3, 4, 5}\n"
     ]
    }
   ],
   "source": [
    "#pop() – Removes and returns a random item\n",
    "print(s2)\n",
    "s2.pop()\n",
    "print(s2)"
   ]
  },
  {
   "cell_type": "code",
   "execution_count": 155,
   "id": "44c72e29-f7c9-4469-878d-f98272bc2f95",
   "metadata": {},
   "outputs": [
    {
     "name": "stdout",
     "output_type": "stream",
     "text": [
      "{2, 3, 4, 5}\n",
      "set()\n"
     ]
    }
   ],
   "source": [
    "#clear() – Removes all elements\n",
    "print(s2)\n",
    "s2.clear()\n",
    "print(s2)"
   ]
  },
  {
   "cell_type": "code",
   "execution_count": null,
   "id": "5f02fcbf-cdac-4166-8a8b-dbc7df2d387c",
   "metadata": {},
   "outputs": [],
   "source": []
  },
  {
   "cell_type": "code",
   "execution_count": null,
   "id": "bf138276-1857-4dc3-9ab3-c838244f9f53",
   "metadata": {},
   "outputs": [],
   "source": []
  },
  {
   "cell_type": "code",
   "execution_count": null,
   "id": "4005f6db-fb4f-47d9-b85f-6f63e99af7d7",
   "metadata": {},
   "outputs": [],
   "source": []
  },
  {
   "cell_type": "code",
   "execution_count": null,
   "id": "fd5031f0-f6cc-4153-ab5a-1fd24bb545d8",
   "metadata": {},
   "outputs": [],
   "source": []
  },
  {
   "cell_type": "code",
   "execution_count": null,
   "id": "d701550f-3051-41fd-a2ad-bd4dd3e72766",
   "metadata": {},
   "outputs": [],
   "source": []
  },
  {
   "cell_type": "code",
   "execution_count": null,
   "id": "7d23f08c-63ed-4977-8c90-205bfa8068fc",
   "metadata": {},
   "outputs": [],
   "source": []
  },
  {
   "cell_type": "code",
   "execution_count": null,
   "id": "f1524db2-8187-4cc1-9f98-4cc91712819f",
   "metadata": {},
   "outputs": [],
   "source": []
  },
  {
   "cell_type": "code",
   "execution_count": null,
   "id": "9e37ee03-5aef-42d0-968e-588d19b3e17c",
   "metadata": {},
   "outputs": [],
   "source": []
  },
  {
   "cell_type": "code",
   "execution_count": null,
   "id": "de3b604f-7bf1-4746-97ed-4b6e15c14296",
   "metadata": {},
   "outputs": [],
   "source": []
  },
  {
   "cell_type": "code",
   "execution_count": null,
   "id": "25768bb1-8b70-4730-82c3-863162909511",
   "metadata": {},
   "outputs": [],
   "source": []
  },
  {
   "cell_type": "code",
   "execution_count": null,
   "id": "ea820fa3-f198-4c36-a524-4aeb87698183",
   "metadata": {},
   "outputs": [],
   "source": []
  },
  {
   "cell_type": "code",
   "execution_count": null,
   "id": "e323819e-145d-4ba9-964f-7c1abd5f87a8",
   "metadata": {},
   "outputs": [],
   "source": []
  },
  {
   "cell_type": "code",
   "execution_count": null,
   "id": "fbb5a5c0-48c9-440c-9a6a-676596322268",
   "metadata": {},
   "outputs": [],
   "source": []
  },
  {
   "cell_type": "code",
   "execution_count": null,
   "id": "bb85ae3c-b15e-4dac-97f1-67d7a74ba201",
   "metadata": {},
   "outputs": [],
   "source": []
  },
  {
   "cell_type": "code",
   "execution_count": null,
   "id": "16befb85-9d32-49cc-ba02-0ac344aba6bb",
   "metadata": {},
   "outputs": [],
   "source": []
  },
  {
   "cell_type": "code",
   "execution_count": null,
   "id": "a59ad810-8425-4d68-8a77-ba1bfcc0702f",
   "metadata": {},
   "outputs": [],
   "source": []
  },
  {
   "cell_type": "code",
   "execution_count": null,
   "id": "2e608290-676f-4e9c-aae9-ed8efdddf395",
   "metadata": {},
   "outputs": [],
   "source": []
  },
  {
   "cell_type": "code",
   "execution_count": null,
   "id": "0d274c43-16fe-40dd-a0a5-c07500281f08",
   "metadata": {},
   "outputs": [],
   "source": []
  },
  {
   "cell_type": "code",
   "execution_count": null,
   "id": "f42e3403-cd50-43f3-ae2b-4691a8bf9b4e",
   "metadata": {},
   "outputs": [],
   "source": []
  },
  {
   "cell_type": "code",
   "execution_count": null,
   "id": "7876212d-9ae9-4a4d-94bb-3da093c29589",
   "metadata": {},
   "outputs": [],
   "source": []
  },
  {
   "cell_type": "code",
   "execution_count": null,
   "id": "dc5523a9-99f6-4f37-a814-531e7ead2ce3",
   "metadata": {},
   "outputs": [],
   "source": []
  },
  {
   "cell_type": "code",
   "execution_count": null,
   "id": "e000750f-6609-4b25-985d-a1a08a043a4f",
   "metadata": {},
   "outputs": [],
   "source": []
  },
  {
   "cell_type": "code",
   "execution_count": null,
   "id": "c39d8c08-5f17-4a6c-ae38-d3b864470b4c",
   "metadata": {},
   "outputs": [],
   "source": []
  },
  {
   "cell_type": "code",
   "execution_count": null,
   "id": "661a993d-3b2d-4638-88c3-24f6a802df41",
   "metadata": {},
   "outputs": [],
   "source": []
  },
  {
   "cell_type": "code",
   "execution_count": null,
   "id": "ecec6dab-76da-4ae1-b63a-f7de65f5b928",
   "metadata": {},
   "outputs": [],
   "source": []
  },
  {
   "cell_type": "code",
   "execution_count": null,
   "id": "bc8a18fa-8ac2-429d-a38d-5a0f1bb66264",
   "metadata": {},
   "outputs": [],
   "source": []
  },
  {
   "cell_type": "code",
   "execution_count": null,
   "id": "afd06f2b-233f-41d8-9dd1-b9b861133d34",
   "metadata": {},
   "outputs": [],
   "source": []
  },
  {
   "cell_type": "code",
   "execution_count": null,
   "id": "428ca004-d000-48d5-9ae5-0ad80b869442",
   "metadata": {},
   "outputs": [],
   "source": []
  },
  {
   "cell_type": "code",
   "execution_count": null,
   "id": "629749d5-e9e9-4d46-b818-4622a33d08b6",
   "metadata": {},
   "outputs": [],
   "source": []
  },
  {
   "cell_type": "code",
   "execution_count": null,
   "id": "4e9926f5-2dcb-4b37-8867-d8fe9766321e",
   "metadata": {},
   "outputs": [],
   "source": []
  }
 ],
 "metadata": {
  "kernelspec": {
   "display_name": "Python [conda env:base] *",
   "language": "python",
   "name": "conda-base-py"
  },
  "language_info": {
   "codemirror_mode": {
    "name": "ipython",
    "version": 3
   },
   "file_extension": ".py",
   "mimetype": "text/x-python",
   "name": "python",
   "nbconvert_exporter": "python",
   "pygments_lexer": "ipython3",
   "version": "3.12.7"
  }
 },
 "nbformat": 4,
 "nbformat_minor": 5
}
