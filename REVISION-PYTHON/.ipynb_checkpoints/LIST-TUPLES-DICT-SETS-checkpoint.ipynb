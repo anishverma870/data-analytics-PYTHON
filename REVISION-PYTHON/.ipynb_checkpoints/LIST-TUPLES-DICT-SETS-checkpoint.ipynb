{
 "cells": [
  {
   "cell_type": "markdown",
   "id": "b92b1295-6272-4884-843c-c6ad1b00a1c2",
   "metadata": {},
   "source": [
    "# **LIST**"
   ]
  },
  {
   "cell_type": "markdown",
   "id": "8f2adea0-15ba-47c7-8ee7-a161df2dd7c1",
   "metadata": {},
   "source": [
    "🧠 What is a List in Python?\n",
    "A list is a mutable, ordered collection that can store elements of different data types.\n",
    "\n",
    "\n",
    "my_list = [10, 20, 30, \"Python\", True]\n",
    "\n",
    "✅ Mutable = You can change it (add, remove, update values)\n",
    "\n",
    "\n",
    "✅ Ordered = Keeps the same order you insert elements\n",
    "\n",
    "\n"
   ]
  },
  {
   "cell_type": "code",
   "execution_count": 27,
   "id": "664c8a0c-22c4-4bf1-ad19-962e202a7ef8",
   "metadata": {},
   "outputs": [
    {
     "name": "stdout",
     "output_type": "stream",
     "text": [
      "[1, 2, 3, 4, 50]\n"
     ]
    }
   ],
   "source": [
    "#append()\n",
    "lst = [1,2,3,4]\n",
    "lst.append(50)\n",
    "print(lst)"
   ]
  },
  {
   "cell_type": "code",
   "execution_count": 29,
   "id": "9f0b9289-08e4-40bf-803d-d85c2a29108a",
   "metadata": {},
   "outputs": [
    {
     "data": {
      "text/plain": [
       "[1, 2, 3, 4, 50, 60, 70, 80]"
      ]
     },
     "execution_count": 29,
     "metadata": {},
     "output_type": "execute_result"
    }
   ],
   "source": [
    "#extend()\n",
    "lst2 = [60,70,80]\n",
    "lst.extend(lst2)\n",
    "lst"
   ]
  },
  {
   "cell_type": "code",
   "execution_count": 33,
   "id": "63a99cc8-8fb2-41cb-817b-0ab9e6581737",
   "metadata": {},
   "outputs": [
    {
     "name": "stdout",
     "output_type": "stream",
     "text": [
      "[1, 2, 5000, 3, 4, 5]\n"
     ]
    }
   ],
   "source": [
    "#insert(index,value)\n",
    "inst = [1,2,3,4,5]\n",
    "inst.insert(2,5000)\n",
    "print(inst)\n"
   ]
  },
  {
   "cell_type": "code",
   "execution_count": 37,
   "id": "1e53e4db-ad7e-4151-afa0-82a01b6fa7bd",
   "metadata": {},
   "outputs": [
    {
     "name": "stdout",
     "output_type": "stream",
     "text": [
      "[1, 2, 4, 5, 6]\n"
     ]
    }
   ],
   "source": [
    "#remove(value)\n",
    "rem = [1,2,3,4,5,6]\n",
    "rem.remove(3)\n",
    "print(rem)"
   ]
  },
  {
   "cell_type": "code",
   "execution_count": 41,
   "id": "41afe49b-d06a-4a48-87a3-8cd38daeed08",
   "metadata": {},
   "outputs": [
    {
     "data": {
      "text/plain": [
       "3"
      ]
     },
     "execution_count": 41,
     "metadata": {},
     "output_type": "execute_result"
    }
   ],
   "source": [
    "#pop(index)\n",
    "pop = [1,2,3,4,5,6]\n",
    "pop.pop(2)\n"
   ]
  },
  {
   "cell_type": "code",
   "execution_count": 45,
   "id": "8dcbfce4-24df-47c0-ae99-bbd4157b9006",
   "metadata": {},
   "outputs": [
    {
     "name": "stdout",
     "output_type": "stream",
     "text": [
      "[]\n"
     ]
    }
   ],
   "source": [
    "#clear()\n",
    "cl = ['please help me this clear function of the list clearing me ']\n",
    "cl.clear()\n",
    "print(cl)"
   ]
  },
  {
   "cell_type": "code",
   "execution_count": 49,
   "id": "8df1857b-2cf0-42ed-9a2c-58387daa6e36",
   "metadata": {},
   "outputs": [
    {
     "data": {
      "text/plain": [
       "1"
      ]
     },
     "execution_count": 49,
     "metadata": {},
     "output_type": "execute_result"
    }
   ],
   "source": [
    "#index(value)\n",
    "name = ['anish','khushi','vanshu']\n",
    "name.index('khushi')"
   ]
  },
  {
   "cell_type": "code",
   "execution_count": 61,
   "id": "022b0fb2-75bc-4e20-9a97-096472188ada",
   "metadata": {},
   "outputs": [
    {
     "name": "stdout",
     "output_type": "stream",
     "text": [
      "4\n",
      "4\n",
      "5\n",
      "1\n"
     ]
    }
   ],
   "source": [
    "#count(value)\n",
    "co = [1,2,3,1,2,3,2,3,1,1,2,3,3,0]\n",
    "print(co.count(1))\n",
    "print(co.count(2))\n",
    "print(co.count(3))\n",
    "print(co.count(0))\n"
   ]
  },
  {
   "cell_type": "code",
   "execution_count": 69,
   "id": "d5135ffe-5670-4500-906c-7fc2a2d7684a",
   "metadata": {},
   "outputs": [
    {
     "data": {
      "text/plain": [
       "[1, 3, 4, 5, 5, 7, 8, 9]"
      ]
     },
     "execution_count": 69,
     "metadata": {},
     "output_type": "execute_result"
    }
   ],
   "source": [
    "# sort() default asending\n",
    "sort = [1,5,4,9,3,5,7,8]\n",
    "sort.sort()\n",
    "sort"
   ]
  },
  {
   "cell_type": "code",
   "execution_count": 77,
   "id": "36b04156-a3da-4e07-8eaa-8b045605d0df",
   "metadata": {},
   "outputs": [
    {
     "name": "stdout",
     "output_type": "stream",
     "text": [
      "[62, 8, 5, 4, 4, 3, 2, 1, 1]\n"
     ]
    }
   ],
   "source": [
    "# sort() decending\n",
    "lis = [2,3,4,5,62,1,4,8,1]\n",
    "lis.sort(reverse=True)\n",
    "print(lis)"
   ]
  },
  {
   "cell_type": "code",
   "execution_count": 83,
   "id": "63248fc7-9d5c-4a1f-ac6d-c2c63395bc1d",
   "metadata": {},
   "outputs": [
    {
     "name": "stdout",
     "output_type": "stream",
     "text": [
      "this is sorted :- [1, 2, 2, 3, 4, 5, 6, 7, 8, 9, 12, 45]\n",
      "[1, 2, 45, 9, 5, 4, 7, 8, 2, 12, 3, 6]\n"
     ]
    }
   ],
   "source": [
    "#sorted() Returns a new sorted list without changing the original\n",
    "sott = [1,2,45,9,5,4,7,8,2,12,3,6]\n",
    "print('this is sorted :-',sorted(sott))\n",
    "print(sott)"
   ]
  },
  {
   "cell_type": "code",
   "execution_count": 95,
   "id": "879698da-8080-4e28-9ffe-4751cb94dc4c",
   "metadata": {},
   "outputs": [
    {
     "data": {
      "text/plain": [
       "[6, 3, 12, 2, 8, 7, 4, 5, 9, 45, 2, 1]"
      ]
     },
     "execution_count": 95,
     "metadata": {},
     "output_type": "execute_result"
    }
   ],
   "source": [
    "#reverse()\n",
    "sott.reverse()\n",
    "sott"
   ]
  },
  {
   "cell_type": "code",
   "execution_count": 99,
   "id": "0b9ad7e7-48a9-4e55-a7d6-e4ec66925ebc",
   "metadata": {},
   "outputs": [
    {
     "data": {
      "text/plain": [
       "['anish', 'verma']"
      ]
     },
     "execution_count": 99,
     "metadata": {},
     "output_type": "execute_result"
    }
   ],
   "source": [
    "#copy() Creates a shallow copy of the list.\n",
    "nam = ['anish','verma']\n",
    "new_nam =nam.copy()\n",
    "new_nam"
   ]
  },
  {
   "cell_type": "code",
   "execution_count": 101,
   "id": "697bf4d2-0ed8-44c8-bdf1-faf946df3b22",
   "metadata": {},
   "outputs": [
    {
     "data": {
      "text/plain": [
       "12"
      ]
     },
     "execution_count": 101,
     "metadata": {},
     "output_type": "execute_result"
    }
   ],
   "source": [
    "#len()\n",
    "len(sott)"
   ]
  },
  {
   "cell_type": "code",
   "execution_count": 117,
   "id": "cf43b25a-b940-4091-b8d0-14d9fd80aa54",
   "metadata": {},
   "outputs": [
    {
     "name": "stdout",
     "output_type": "stream",
     "text": [
      "60\n",
      "1\n"
     ]
    }
   ],
   "source": [
    "#max()/min()\n",
    "print(max([1,2,3,4,5,60]))\n",
    "print(min([1,2,3,4,5,60]))"
   ]
  },
  {
   "cell_type": "code",
   "execution_count": 119,
   "id": "b0e54209-9700-42f7-8002-a1beb120e4f4",
   "metadata": {},
   "outputs": [
    {
     "data": {
      "text/plain": [
       "45"
      ]
     },
     "execution_count": 119,
     "metadata": {},
     "output_type": "execute_result"
    }
   ],
   "source": [
    "# sum()\n",
    "add = [1,2,3,4,5,6,7,8,9]\n",
    "sum(add)"
   ]
  },
  {
   "cell_type": "code",
   "execution_count": 125,
   "id": "346dc9d5-4571-4bf2-8f10-a9100ae1258f",
   "metadata": {},
   "outputs": [
    {
     "name": "stdout",
     "output_type": "stream",
     "text": [
      "True\n",
      "True\n"
     ]
    }
   ],
   "source": [
    "#membership operators\n",
    "print(5 in [1,2,3,5])\n",
    "print(5 not in [1,2,34])"
   ]
  },
  {
   "cell_type": "markdown",
   "id": "7f3b6252-f327-4d35-b7a3-857f48c04c7f",
   "metadata": {},
   "source": [
    "# **TUPLE**"
   ]
  },
  {
   "cell_type": "markdown",
   "id": "0fe2d440-56ed-4251-aba9-184e53b8d746",
   "metadata": {},
   "source": [
    "🔷 What is a Tuple?\n",
    "\n",
    "A tuple is an ordered, immutable collection of elements.\n",
    "\n",
    "\n",
    "t = (10, 20, 30)\n",
    "\n",
    "✅ Ordered → Elements are stored in a specific sequence\n",
    "\n",
    "❌ Immutable → You cannot change, add, or remove elements after creation"
   ]
  },
  {
   "cell_type": "code",
   "execution_count": 139,
   "id": "87503e23-1495-475e-90dd-6317a9cf7951",
   "metadata": {},
   "outputs": [],
   "source": [
    "t = (5,)\n",
    "t1 =(5)"
   ]
  },
  {
   "cell_type": "code",
   "execution_count": 141,
   "id": "704690b9-448b-4b78-a4ef-da84628114fb",
   "metadata": {},
   "outputs": [
    {
     "name": "stdout",
     "output_type": "stream",
     "text": [
      "<class 'tuple'>\n",
      "<class 'int'>\n"
     ]
    }
   ],
   "source": [
    "print(type(t))\n",
    "print(type(t1))"
   ]
  },
  {
   "cell_type": "code",
   "execution_count": 145,
   "id": "9277e1f3-5ab2-44db-9c56-0ac5e3a74c61",
   "metadata": {},
   "outputs": [
    {
     "name": "stdout",
     "output_type": "stream",
     "text": [
      "3\n",
      "10\n"
     ]
    }
   ],
   "source": [
    "# count() & index()\n",
    "tuples = (2,3,4,5,5,5,6,6,6,4,1)\n",
    "print(tuples.count(5))\n",
    "print(tuples.index(1))"
   ]
  },
  {
   "cell_type": "code",
   "execution_count": 147,
   "id": "47fa304f-72a0-4dde-9caf-2ba4e7a7531a",
   "metadata": {},
   "outputs": [
    {
     "name": "stdout",
     "output_type": "stream",
     "text": [
      "3\n",
      "5\n",
      "1\n",
      "9\n",
      "[1, 3, 5]\n"
     ]
    }
   ],
   "source": [
    "# other functions\n",
    "t = (5, 1, 3)\n",
    "\n",
    "print(len(t))     # 3\n",
    "print(max(t))     # 5\n",
    "print(min(t))     # 1\n",
    "print(sum(t))     # 9\n",
    "print(sorted(t))  # [1, 3, 5] → returns a **list**\n"
   ]
  },
  {
   "cell_type": "code",
   "execution_count": 149,
   "id": "7f61672e-b351-4ed9-8338-2714fdd555f4",
   "metadata": {},
   "outputs": [
    {
     "name": "stdout",
     "output_type": "stream",
     "text": [
      "10\n",
      "50\n",
      "(20, 30, 40)\n",
      "(50, 40, 30, 20, 10)\n"
     ]
    }
   ],
   "source": [
    "# slicing in tuples\n",
    "t = (10, 20, 30, 40, 50)\n",
    "\n",
    "print(t[0])      # 10\n",
    "print(t[-1])     # 50\n",
    "print(t[1:4])    # (20, 30, 40)\n",
    "print(t[::-1])   # (50, 40, 30, 20, 10)\n"
   ]
  },
  {
   "cell_type": "code",
   "execution_count": 157,
   "id": "d6f61f06-ef83-406b-898d-9fe77c7c35be",
   "metadata": {},
   "outputs": [
    {
     "name": "stdout",
     "output_type": "stream",
     "text": [
      "10\n",
      "20\n",
      "30\n"
     ]
    }
   ],
   "source": [
    "# packing and unpacking\n",
    "pack = (10,20,30)\n",
    "a,b,c = pack\n",
    "print(a)\n",
    "print(b)\n",
    "print(c)"
   ]
  }
 ],
 "metadata": {
  "kernelspec": {
   "display_name": "Python [conda env:base] *",
   "language": "python",
   "name": "conda-base-py"
  },
  "language_info": {
   "codemirror_mode": {
    "name": "ipython",
    "version": 3
   },
   "file_extension": ".py",
   "mimetype": "text/x-python",
   "name": "python",
   "nbconvert_exporter": "python",
   "pygments_lexer": "ipython3",
   "version": "3.12.7"
  }
 },
 "nbformat": 4,
 "nbformat_minor": 5
}
