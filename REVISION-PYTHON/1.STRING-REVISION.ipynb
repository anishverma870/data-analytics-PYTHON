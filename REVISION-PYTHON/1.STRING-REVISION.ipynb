{
 "cells": [
  {
   "cell_type": "markdown",
   "id": "813924fe-a2b6-4291-9327-4abf07cf4b7a",
   "metadata": {},
   "source": [
    "# STRING"
   ]
  },
  {
   "cell_type": "code",
   "execution_count": 14,
   "id": "31623218-817c-40ca-8ec5-3c208cc76597",
   "metadata": {},
   "outputs": [],
   "source": [
    "s = ' hello World '"
   ]
  },
  {
   "cell_type": "code",
   "execution_count": 16,
   "id": "28a1f093-2309-40c8-8181-8727765e6d39",
   "metadata": {},
   "outputs": [
    {
     "data": {
      "text/plain": [
       "13"
      ]
     },
     "execution_count": 16,
     "metadata": {},
     "output_type": "execute_result"
    }
   ],
   "source": [
    "#length:Returns the length of the string\n",
    "\n",
    "len(s)"
   ]
  },
  {
   "cell_type": "code",
   "execution_count": 18,
   "id": "94e11f55-f7bb-4def-8ae5-b3e69112fac5",
   "metadata": {},
   "outputs": [
    {
     "data": {
      "text/plain": [
       "' hello world '"
      ]
     },
     "execution_count": 18,
     "metadata": {},
     "output_type": "execute_result"
    }
   ],
   "source": [
    "# lower :Converts the string to lowercase\n",
    "\n",
    "s.lower()"
   ]
  },
  {
   "cell_type": "code",
   "execution_count": 20,
   "id": "5cb385d3-601a-4174-8216-0c75da651257",
   "metadata": {},
   "outputs": [
    {
     "data": {
      "text/plain": [
       "' HELLO WORLD '"
      ]
     },
     "execution_count": 20,
     "metadata": {},
     "output_type": "execute_result"
    }
   ],
   "source": [
    "#upper :Converts the string to uppercase\n",
    "\n",
    "s.upper()"
   ]
  },
  {
   "cell_type": "code",
   "execution_count": 22,
   "id": "81383c69-75cf-4e30-a853-0bc91db8e63a",
   "metadata": {},
   "outputs": [
    {
     "data": {
      "text/plain": [
       "' Hello World '"
      ]
     },
     "execution_count": 22,
     "metadata": {},
     "output_type": "execute_result"
    }
   ],
   "source": [
    "#title :Converts the first character of each word to uppercase\n",
    "\n",
    "s.title()"
   ]
  },
  {
   "cell_type": "code",
   "execution_count": 28,
   "id": "fc643ad0-3743-4d50-a4df-cb5b647b2e0b",
   "metadata": {},
   "outputs": [
    {
     "data": {
      "text/plain": [
       "' hello world '"
      ]
     },
     "execution_count": 28,
     "metadata": {},
     "output_type": "execute_result"
    }
   ],
   "source": [
    "#Capitalizes: the first letter of the string\n",
    "s.capitalize()"
   ]
  },
  {
   "cell_type": "code",
   "execution_count": 34,
   "id": "ea2b80df-d91f-48be-9aa8-b40a004a22be",
   "metadata": {},
   "outputs": [
    {
     "name": "stdout",
     "output_type": "stream",
     "text": [
      "hello World\n",
      "hello World \n",
      " hello World\n"
     ]
    }
   ],
   "source": [
    "#strip :Removes leading and trailing whitespaces\n",
    "#lstrip :Removes starting whitespaces\n",
    "#rstrip :Removes ending whitespaces\n",
    "print(s.strip())\n",
    "print(s.lstrip())\n",
    "print(s.rstrip())"
   ]
  },
  {
   "cell_type": "code",
   "execution_count": 55,
   "id": "e57e03d0-c14b-4968-904d-326ccb6550bd",
   "metadata": {},
   "outputs": [
    {
     "data": {
      "text/plain": [
       "' hello universe '"
      ]
     },
     "execution_count": 55,
     "metadata": {},
     "output_type": "execute_result"
    }
   ],
   "source": [
    "#replace : Replaces part of the string\n",
    "s.replace('World','universe')"
   ]
  },
  {
   "cell_type": "code",
   "execution_count": 57,
   "id": "fe4e8818-e559-4357-99e7-747c307309c5",
   "metadata": {},
   "outputs": [
    {
     "data": {
      "text/plain": [
       "2"
      ]
     },
     "execution_count": 57,
     "metadata": {},
     "output_type": "execute_result"
    }
   ],
   "source": [
    "#find :Returns the first index of the substring, else -1\n",
    "s.find('e')"
   ]
  },
  {
   "cell_type": "code",
   "execution_count": 61,
   "id": "6864a806-e85d-433a-8141-9b1782112d21",
   "metadata": {},
   "outputs": [
    {
     "data": {
      "text/plain": [
       "3"
      ]
     },
     "execution_count": 61,
     "metadata": {},
     "output_type": "execute_result"
    }
   ],
   "source": [
    "#count :Counts the occurrences of a substring\n",
    "s.count('l')"
   ]
  },
  {
   "cell_type": "code",
   "execution_count": 74,
   "id": "401ab1a7-d7b8-4fcd-8c38-2d08500f9d94",
   "metadata": {},
   "outputs": [
    {
     "data": {
      "text/plain": [
       "True"
      ]
     },
     "execution_count": 74,
     "metadata": {},
     "output_type": "execute_result"
    }
   ],
   "source": [
    "#startwith :Returns True if string starts with prefix\n",
    "\n",
    "s.startswith(' h')"
   ]
  },
  {
   "cell_type": "code",
   "execution_count": 76,
   "id": "9c45dc08-03b8-4bf8-b3cd-8391582dc97f",
   "metadata": {},
   "outputs": [
    {
     "data": {
      "text/plain": [
       "True"
      ]
     },
     "execution_count": 76,
     "metadata": {},
     "output_type": "execute_result"
    }
   ],
   "source": [
    "#endwith : Returns True if string end with prefix\n",
    "s.endswith('d ')"
   ]
  },
  {
   "cell_type": "code",
   "execution_count": 80,
   "id": "b7fac1fe-3340-4677-9f62-0fb88ab218bf",
   "metadata": {},
   "outputs": [
    {
     "data": {
      "text/plain": [
       "['hello', 'World']"
      ]
     },
     "execution_count": 80,
     "metadata": {},
     "output_type": "execute_result"
    }
   ],
   "source": [
    "#split:Splits the string into a list\n",
    "s.split()"
   ]
  },
  {
   "cell_type": "code",
   "execution_count": 88,
   "id": "40958ea1-8df4-4e78-840b-5688a6fecad0",
   "metadata": {},
   "outputs": [
    {
     "name": "stdout",
     "output_type": "stream",
     "text": [
      "False\n",
      "False\n",
      "False\n",
      "False\n",
      "False\n"
     ]
    }
   ],
   "source": [
    "print(s.isalpha()) #Returns True if all characters are alphabetic\n",
    "print(s.isdigit()) #Returns True if all characters are digits\n",
    "print(s.isalnum()) #Returns True if all characters are alphanumeric\n",
    "print(s.isnumeric())#Returns True if string contains only numerics\n",
    "print(s.isspace())# Returns True if string contains only whitespace"
   ]
  },
  {
   "cell_type": "code",
   "execution_count": 100,
   "id": "c0d854e3-c150-4005-87ea-13ff45f17eaf",
   "metadata": {},
   "outputs": [
    {
     "data": {
      "text/plain": [
       "('', ' ', 'hello World ')"
      ]
     },
     "execution_count": 100,
     "metadata": {},
     "output_type": "execute_result"
    }
   ],
   "source": [
    "s.partition(' ') #Splits string into 3 parts: before, sep, after"
   ]
  },
  {
   "cell_type": "code",
   "execution_count": 114,
   "id": "51b1ae3b-4e72-44fa-9843-6ffdcc74ce9c",
   "metadata": {},
   "outputs": [
    {
     "data": {
      "text/plain": [
       "'       hello World       '"
      ]
     },
     "execution_count": 114,
     "metadata": {},
     "output_type": "execute_result"
    }
   ],
   "source": [
    "s.center(25) #Centers the string with spaces"
   ]
  },
  {
   "cell_type": "code",
   "execution_count": 116,
   "id": "e61a973c-03e0-4b84-9c0d-77adec2bb1a9",
   "metadata": {},
   "outputs": [
    {
     "data": {
      "text/plain": [
       "7"
      ]
     },
     "execution_count": 116,
     "metadata": {},
     "output_type": "execute_result"
    }
   ],
   "source": [
    "s.index('W') #Same as find but throws error if not found"
   ]
  },
  {
   "cell_type": "code",
   "execution_count": null,
   "id": "f6130593-a775-4282-b287-3a98ea30e120",
   "metadata": {},
   "outputs": [],
   "source": []
  },
  {
   "cell_type": "code",
   "execution_count": null,
   "id": "a8d77778-2962-4c8e-a5ce-1a6531618b98",
   "metadata": {},
   "outputs": [],
   "source": []
  },
  {
   "cell_type": "code",
   "execution_count": null,
   "id": "d0c2486d-1d8f-4984-bb8d-2da525b3cd2a",
   "metadata": {},
   "outputs": [],
   "source": []
  },
  {
   "cell_type": "code",
   "execution_count": null,
   "id": "60821ef8-6250-4ac6-a7fd-b4b4035514cc",
   "metadata": {},
   "outputs": [],
   "source": []
  },
  {
   "cell_type": "code",
   "execution_count": null,
   "id": "6a211a0f-949e-4478-ad05-6fea87745fb0",
   "metadata": {},
   "outputs": [],
   "source": []
  },
  {
   "cell_type": "code",
   "execution_count": null,
   "id": "2a2d3690-70d3-424d-817f-0fea790112e2",
   "metadata": {},
   "outputs": [],
   "source": []
  },
  {
   "cell_type": "code",
   "execution_count": null,
   "id": "80a01278-862f-439f-b3a1-4633ea3efcf4",
   "metadata": {},
   "outputs": [],
   "source": []
  },
  {
   "cell_type": "code",
   "execution_count": null,
   "id": "a1ba78fd-f321-442f-b19b-94a690d4e6e7",
   "metadata": {},
   "outputs": [],
   "source": []
  },
  {
   "cell_type": "code",
   "execution_count": null,
   "id": "5e0ef785-75d5-47cd-a216-76c7d96ec326",
   "metadata": {},
   "outputs": [],
   "source": []
  },
  {
   "cell_type": "code",
   "execution_count": null,
   "id": "d41bbb19-7ca8-487d-965c-cda85f7e5e36",
   "metadata": {},
   "outputs": [],
   "source": []
  },
  {
   "cell_type": "code",
   "execution_count": null,
   "id": "d962d8ad-3914-4648-93a7-5b52cc9889cc",
   "metadata": {},
   "outputs": [],
   "source": []
  },
  {
   "cell_type": "code",
   "execution_count": null,
   "id": "62ac1187-4030-44d9-a9f8-cc0b6172bcea",
   "metadata": {},
   "outputs": [],
   "source": []
  },
  {
   "cell_type": "code",
   "execution_count": null,
   "id": "6c624889-ab70-4582-bb79-a79f488320bd",
   "metadata": {},
   "outputs": [],
   "source": []
  },
  {
   "cell_type": "code",
   "execution_count": null,
   "id": "62d8705f-bd1f-4f9a-812b-fad79677aa87",
   "metadata": {},
   "outputs": [],
   "source": []
  },
  {
   "cell_type": "code",
   "execution_count": null,
   "id": "2fb1eafe-0d51-4dc7-9d58-d3ea5dc53d29",
   "metadata": {},
   "outputs": [],
   "source": []
  }
 ],
 "metadata": {
  "kernelspec": {
   "display_name": "Python [conda env:base] *",
   "language": "python",
   "name": "conda-base-py"
  },
  "language_info": {
   "codemirror_mode": {
    "name": "ipython",
    "version": 3
   },
   "file_extension": ".py",
   "mimetype": "text/x-python",
   "name": "python",
   "nbconvert_exporter": "python",
   "pygments_lexer": "ipython3",
   "version": "3.12.7"
  }
 },
 "nbformat": 4,
 "nbformat_minor": 5
}
