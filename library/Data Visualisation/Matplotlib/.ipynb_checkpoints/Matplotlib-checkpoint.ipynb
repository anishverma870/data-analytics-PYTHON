{
 "cells": [
  {
   "cell_type": "markdown",
   "id": "5f381d09-f575-47bd-88d1-f6b089573333",
   "metadata": {},
   "source": [
    "# MATPLOTLIB"
   ]
  },
  {
   "cell_type": "markdown",
   "id": "c4b3d8cb-b888-4ce5-9fd5-5bcb3aa0668f",
   "metadata": {},
   "source": [
    "# _________________________"
   ]
  },
  {
   "cell_type": "markdown",
   "id": "f016e2e2-2366-4eed-a71d-aa72776e0486",
   "metadata": {},
   "source": [
    "Numerical Data: Quantitative data represented by numbers. Example: Height, CGPA.\n",
    "\n",
    "Categorical Data: Data that can be grouped into categories and represented by names or labels. Example: Gender (Male/Female).\n",
    "\n"
   ]
  },
  {
   "cell_type": "markdown",
   "id": "a5ffba14-6f84-47c5-9a83-ca7f7a5fd854",
   "metadata": {},
   "source": [
    "### Types of Graphs and their implementation in Matplotlib:"
   ]
  },
  {
   "cell_type": "markdown",
   "id": "026e148d-5478-4670-9361-ddda0f0c3446",
   "metadata": {},
   "source": [
    "Bar Graph: Used to visualise numerical features across multiple categories.\n",
    "\n",
    "Scatter Plot: To find patterns or connections between two quantitative variables, use a scatter plot.\n",
    "\n",
    "Line Chart: Depicts trends of variables over time.\n",
    "\n",
    "Histogram: Data distribution is represented by a histogram, which groups data into bins."
   ]
  },
  {
   "cell_type": "markdown",
   "id": "65257549-1634-41f9-8dd5-db0211029ce4",
   "metadata": {},
   "source": [
    "### Advanced Visualisations (Matplotlib):"
   ]
  },
  {
   "cell_type": "markdown",
   "id": "f5a8f8d4-47bd-4b05-9c57-06dd7086f5d0",
   "metadata": {},
   "source": [
    "Boxplot: Shows the continuous data's quartile distribution.\n",
    "\n",
    "Subplots: Multiple graphs can be shown in a single plot object.\n",
    "\n",
    "Customisation in Matplotlib: Customisation techniques such as modifying figure size, color, axis labels, rotation of tick values, and more.\n",
    "\n",
    "Heatmaps: Display data using color intensities to represent magnitude.\n",
    "\n",
    "Distplot: Combines a histogram and a KDE plot in Seaborn."
   ]
  },
  {
   "cell_type": "markdown",
   "id": "e229f192-2f10-4864-a8a8-3ab1a19ad5da",
   "metadata": {},
   "source": [
    "## “There are three kinds of lies: lies, damned lies, and statistics.”\n",
    "                                             - Mark Twain"
   ]
  },
  {
   "cell_type": "markdown",
   "id": "0f57965d-4a63-4e92-aa19-2266918d0b64",
   "metadata": {},
   "source": [
    "Numerical data\n",
    "\n",
    "Numerical data are the quantitative data which is represented in the form of numbers.\n",
    "\n",
    "Example: The height, and CGPA of a student in a student dataset\n",
    "\n",
    "\n",
    "Categorical data\n",
    "\n",
    "Categorical data is the data that can be grouped into a category and identified with names/labels.\n",
    "\n",
    "Example: The gender of a student in the student database, as it can be categorised into Male or Female"
   ]
  },
  {
   "cell_type": "markdown",
   "id": "2917c162-e864-49c0-96ac-762399830d2f",
   "metadata": {},
   "source": [
    "Matplotlib provides various types of charts for visualizing data. Below are the most commonly used charts, their uses, and when to use them:  \n",
    "\n",
    "### 1. **Line Chart (`plt.plot()`)**  \n",
    "   - **Use:** Shows trends over time.  \n",
    "   - **When to Use:** When analyzing time series data (e.g., stock prices, temperature changes).  \n",
    "\n",
    "### 2. **Bar Chart (`plt.bar()`, `plt.barh()`)**  \n",
    "   - **Use:** Compares categorical data.  \n",
    "   - **When to Use:** When showing comparisons between different groups (e.g., sales of products, population of countries).  \n",
    "\n",
    "### 3. **Histogram (`plt.hist()`)**  \n",
    "   - **Use:** Shows frequency distribution of numerical data.  \n",
    "   - **When to Use:** When analyzing the distribution of data (e.g., exam scores, age distribution).  \n",
    "\n",
    "### 4. **Scatter Plot (`plt.scatter()`)**  \n",
    "   - **Use:** Displays relationships between two numerical variables.  \n",
    "   - **When to Use:** When identifying correlations between variables (e.g., height vs. weight, marketing spend vs. revenue).  \n",
    "\n",
    "### 5. **Pie Chart (`plt.pie()`)**  \n",
    "   - **Use:** Shows the proportion of categories.  \n",
    "   - **When to Use:** When displaying percentage distributions (e.g., market share, budget allocations).  \n",
    "\n",
    "### 6. **Box Plot (`plt.boxplot()`)**  \n",
    "   - **Use:** Shows data distribution and outliers.  \n",
    "   - **When to Use:** When analyzing the spread and skewness of data (e.g., salaries in a company, exam scores).  \n",
    "\n",
    "### 7. **Area Chart (`plt.fill_between()`)**  \n",
    "   - **Use:** Similar to a line chart but fills the area below the line.  \n",
    "   - **When to Use:** When showing cumulative trends (e.g., revenue growth over years).  \n",
    "\n",
    "### 8. **Heatmap (Using `seaborn.heatmap()`)**  \n",
    "   - **Use:** Represents data in matrix form with colors.  \n",
    "   - **When to Use:** When analyzing correlation matrices or geographical data (e.g., weather heatmaps, crime rates in different regions).  \n",
    "\n",
    "### 9. **Stacked Bar Chart (`plt.bar(..., stacked=True)`)**  \n",
    "   - **Use:** Shows the composition of categorical data.  \n",
    "   - **When to Use:** When analyzing subcategories within a main category (e.g., sales by region and product type).  \n",
    "\n",
    "### 10. **Violin Plot (`seaborn.violinplot()`)**  \n",
    "   - **Use:** Similar to a box plot but shows the full distribution of data.  \n",
    "   - **When to Use:** When comparing multiple distributions (e.g., test scores of students from different schools).  \n",
    "\n",
    "### 11. **Bubble Chart (`plt.scatter()` with varying size)**  \n",
    "   - **Use:** Extension of a scatter plot with a third variable represented by size.  \n",
    "   - **When to Use:** When analyzing relationships with three variables (e.g., GDP vs. life expectancy with population size).  \n",
    "\n",
    "Would you like a code example for any of these? 😊"
   ]
  },
  {
   "cell_type": "markdown",
   "id": "7aae3edf-5057-4c73-937a-7e434ffa6123",
   "metadata": {},
   "source": [
    "### Different Scenarios   Useful Graphs\n",
    "\n",
    "Categorical data compositionBar  ===  plot, Pie chart\n",
    "\n",
    "Data distribution   ===  Histogram, scatter plot, box Plot\n",
    "\n",
    "Statistical summary such as mean, median and outliers   ===    Box plot\n",
    "\n",
    "Comparison of categorical values     ===  Bar chart\n",
    "\n",
    "Value comparison over time  ===  Line Chart"
   ]
  },
  {
   "cell_type": "markdown",
   "id": "c9ce33ae-9554-40bc-8dd0-e51416e81413",
   "metadata": {},
   "source": [
    "### LINK  - for graph\n",
    "'https://blog.hubspot.com/marketing/types-of-graphs-for-data-visualization'"
   ]
  },
  {
   "cell_type": "markdown",
   "id": "c0b7eee3-d59d-43c9-8189-2a362f37acbc",
   "metadata": {},
   "source": [
    "### LINK - How to Choose a Chart Type:\n",
    "'https://towardsdatascience.com/data-visualization-101-how-to-choose-a-chart-type-9b8830e558d6/#:~:text=If%20you%20want%20to%20compare%20values%2C%20use%20a%20pie%20chart,bar%20chart%2C%20or%20scatter%20plot.hat-are-the-advantages-of-numpy-over-regular-python-lists'"
   ]
  },
  {
   "cell_type": "code",
   "execution_count": 1,
   "id": "eb1642ad-8046-46bd-a4a1-88ca1db2c222",
   "metadata": {},
   "outputs": [],
   "source": [
    "import matplotlib.pyplot as plt"
   ]
  },
  {
   "cell_type": "markdown",
   "id": "5f908940-7fe8-44a3-95b1-7ab9c1db1541",
   "metadata": {},
   "source": [
    "# Plot Creation using Matplotlib\n",
    "\n"
   ]
  },
  {
   "cell_type": "code",
   "execution_count": 4,
   "id": "f3ff93ed-2857-41a2-8f12-aedc0eb89a36",
   "metadata": {},
   "outputs": [],
   "source": [
    "data = {\n",
    "    'c':10,\n",
    "    'c++':40,\n",
    "    'java':60,\n",
    "    'python':80\n",
    "}"
   ]
  },
  {
   "cell_type": "code",
   "execution_count": 10,
   "id": "40d32dba-327e-49be-8eac-306470b6fd8b",
   "metadata": {},
   "outputs": [],
   "source": [
    "key = data.keys()"
   ]
  },
  {
   "cell_type": "code",
   "execution_count": 12,
   "id": "c866b6ae-5586-4cd4-9e10-4dcfa6c366bd",
   "metadata": {},
   "outputs": [],
   "source": [
    "values = data.values()"
   ]
  },
  {
   "cell_type": "markdown",
   "id": "d82dd1a1-5904-44f5-976b-2bea108dbaff",
   "metadata": {},
   "source": [
    "#### plot chart"
   ]
  },
  {
   "cell_type": "markdown",
   "id": "b0524d6e-80b4-4e2c-9a79-3595f9bff004",
   "metadata": {},
   "source": [
    "### BAR CHART"
   ]
  },
  {
   "cell_type": "code",
   "execution_count": 19,
   "id": "a6b7278b-4036-4dcf-9336-ffab7f600175",
   "metadata": {},
   "outputs": [
    {
     "data": {
      "text/plain": [
       "<BarContainer object of 4 artists>"
      ]
     },
     "execution_count": 19,
     "metadata": {},
     "output_type": "execute_result"
    },
    {
     "data": {
      "image/png": "[encoded data removed]",
      "text/plain": [
       "<Figure size 640x480 with 1 Axes>"
      ]
     },
     "metadata": {},
     "output_type": "display_data"
    }
   ],
   "source": [
    "plt.bar(key,values)"
   ]
  },
  {
   "cell_type": "markdown",
   "id": "14e5086e-be49-4d40-8554-4e2de25dccd3",
   "metadata": {},
   "source": [
    "#### Set the size of the figure/bar"
   ]
  },
  {
   "cell_type": "code",
   "execution_count": 32,
   "id": "ead3b275-748c-47f9-883c-92655351620c",
   "metadata": {},
   "outputs": [
    {
     "data": {
      "text/plain": [
       "<BarContainer object of 4 artists>"
      ]
     },
     "execution_count": 32,
     "metadata": {},
     "output_type": "execute_result"
    },
    {
     "data": {
      "image/png": "[encoded data removed]",
      "text/plain": [
       "<Figure size 1000x500 with 1 Axes>"
      ]
     },
     "metadata": {},
     "output_type": "display_data"
    }
   ],
   "source": [
    "plt.figure(figsize=(10,5)) # Set the size of the figure/bar\n",
    "plt.xlabel('LANGUAGE') # x-axis label\n",
    "plt.ylabel('USER') # y-axis label\n",
    "plt.title('LANGUAGE VS USER') # Title for the graph\n",
    "plt.xticks(rotation = 24) # Rotate the tick value by 45 degrees on x-axis\n",
    "plt.yticks(rotation = 45) # Rotate the tick value by 45 degrees on y-axis\n",
    "plt.bar(key,values)"
   ]
  },
  {
   "cell_type": "markdown",
   "id": "45abedcd-5585-4222-be29-7433b445ce61",
   "metadata": {},
   "source": [
    "### Colour for the graph\n",
    "\n",
    "### Center alignment of the graph \n",
    "\n",
    "### Edge colour - Blue"
   ]
  },
  {
   "cell_type": "code",
   "execution_count": 50,
   "id": "486ac07c-29d9-4df8-85bd-375ffef62b78",
   "metadata": {},
   "outputs": [
    {
     "data": {
      "text/plain": [
       "<BarContainer object of 4 artists>"
      ]
     },
     "execution_count": 50,
     "metadata": {},
     "output_type": "execute_result"
    },
    {
     "data": {
      "image/png": "[encoded data removed]",
      "text/plain": [
       "<Figure size 640x480 with 1 Axes>"
      ]
     },
     "metadata": {},
     "output_type": "display_data"
    }
   ],
   "source": [
    "plt.title('language vs user',loc = 'center')\n",
    "plt.bar(key,values,color = 'red',align='center',edgecolor = 'black')"
   ]
  },
  {
   "cell_type": "markdown",
   "id": "b8281e12-2e64-4aa3-b9e6-6b2889ebbaee",
   "metadata": {},
   "source": [
    "### Set the font colour and size of the labels - fontdict "
   ]
  },
  {
   "cell_type": "code",
   "execution_count": 61,
   "id": "30d16803-4815-439d-91c7-b944033a2147",
   "metadata": {},
   "outputs": [
    {
     "data": {
      "text/plain": [
       "<BarContainer object of 4 artists>"
      ]
     },
     "execution_count": 61,
     "metadata": {},
     "output_type": "execute_result"
    },
    {
     "data": {
      "image/png": "[encoded data removed]",
      "text/plain": [
       "<Figure size 640x480 with 1 Axes>"
      ]
     },
     "metadata": {},
     "output_type": "display_data"
    }
   ],
   "source": [
    "plt.xlabel('LAnGUAGE',fontdict = {'color':'purple','size':12})\n",
    "plt.ylabel('USER',fontdict = {'color':'yellow','size':'30'})\n",
    "plt.bar(key,values,color = 'black',align = 'center',edgecolor='red')"
   ]
  },
  {
   "cell_type": "markdown",
   "id": "9198e5d4-dd1e-41b6-8fda-df896c6c98af",
   "metadata": {},
   "source": [
    "### SCATTER PLOT"
   ]
  },
  {
   "cell_type": "code",
   "execution_count": 70,
   "id": "288bc4dc-7b1e-4f13-9c8c-216a586f7e65",
   "metadata": {},
   "outputs": [],
   "source": [
    "age = [18,19,20,21,22,24,25]\n",
    "marks = [40,23,60,40,80,52,10]"
   ]
  },
  {
   "cell_type": "code",
   "execution_count": 76,
   "id": "f4f08260-5451-41b3-b45a-ea9319e28863",
   "metadata": {},
   "outputs": [
    {
     "data": {
      "image/png": "[encoded data removed]",
      "text/plain": [
       "<Figure size 640x480 with 1 Axes>"
      ]
     },
     "metadata": {},
     "output_type": "display_data"
    }
   ],
   "source": [
    "plt.scatter(age,marks)\n",
    "plt.show()"
   ]
  },
  {
   "cell_type": "code",
   "execution_count": 108,
   "id": "1f6bfeae-98e2-419a-b095-716aef9c8e5c",
   "metadata": {},
   "outputs": [
    {
     "data": {
      "text/plain": [
       "<matplotlib.collections.PathCollection at 0x1d601165070>"
      ]
     },
     "execution_count": 108,
     "metadata": {},
     "output_type": "execute_result"
    },
    {
     "data": {
      "image/png": "[encoded data removed]",
      "text/plain": [
       "<Figure size 1000x500 with 1 Axes>"
      ]
     },
     "metadata": {},
     "output_type": "display_data"
    }
   ],
   "source": [
    "plt.figure(figsize=(10,5))\n",
    "plt.title('AGES AND MARKS OF THE STUDENT ',color = 'red')\n",
    "plt.xticks(rotation = 45)\n",
    "plt.yticks(rotation = 45)\n",
    "plt.xlabel('AGES',fontdict={'color':'yellow','size':20})\n",
    "plt.ylabel('MARKS',fontdict = {'color':'orange','size':20} )\n",
    "plt.scatter(age,marks,color = 'red',edgecolor = 'yellow')"
   ]
  },
  {
   "cell_type": "markdown",
   "id": "7084da9c-7f34-47a5-86a1-b37e6bd99f24",
   "metadata": {},
   "source": [
    "## LINE CHART"
   ]
  },
  {
   "cell_type": "code",
   "execution_count": 111,
   "id": "14ba62b3-ed90-484c-9313-4501fcf3479a",
   "metadata": {},
   "outputs": [],
   "source": [
    "import numpy as np"
   ]
  },
  {
   "cell_type": "code",
   "execution_count": 113,
   "id": "da1ccd47-8ae1-4db8-8659-4f6653bf153e",
   "metadata": {},
   "outputs": [],
   "source": [
    "x =  np.arange(1,100)"
   ]
  },
  {
   "cell_type": "code",
   "execution_count": 115,
   "id": "f183f0bb-9a7a-4a6d-aeb6-4067eba2c5b1",
   "metadata": {},
   "outputs": [],
   "source": [
    "y = x**2"
   ]
  },
  {
   "cell_type": "code",
   "execution_count": 127,
   "id": "59888441-6834-45b8-8fbc-dbd546682ed4",
   "metadata": {},
   "outputs": [
    {
     "data": {
      "image/png": "[encoded data removed]",
      "text/plain": [
       "<Figure size 640x480 with 1 Axes>"
      ]
     },
     "metadata": {},
     "output_type": "display_data"
    }
   ],
   "source": [
    "plt.plot(x,y)\n",
    "plt.grid()\n",
    "plt.show()"
   ]
  },
  {
   "cell_type": "code",
   "execution_count": null,
   "id": "2add2d01-ad95-4716-9f93-afca29a54068",
   "metadata": {},
   "outputs": [],
   "source": [
    "\n",
    "\n"
   ]
  },
  {
   "cell_type": "code",
   "execution_count": null,
   "id": "1a2051c0-1b46-4a2f-a296-6097cdb5334b",
   "metadata": {},
   "outputs": [],
   "source": []
  },
  {
   "cell_type": "code",
   "execution_count": null,
   "id": "527cab90-2a49-4dfc-96f8-647a5e2dff1b",
   "metadata": {},
   "outputs": [],
   "source": []
  },
  {
   "cell_type": "code",
   "execution_count": null,
   "id": "05ad41eb-d567-4b19-a6a4-330674ceb19e",
   "metadata": {},
   "outputs": [],
   "source": []
  },
  {
   "cell_type": "code",
   "execution_count": null,
   "id": "263bca52-2eee-47dd-b2da-611aab52b403",
   "metadata": {},
   "outputs": [],
   "source": []
  },
  {
   "cell_type": "code",
   "execution_count": null,
   "id": "70f4072e-29b5-43a3-8444-ad972281bfa4",
   "metadata": {},
   "outputs": [],
   "source": []
  },
  {
   "cell_type": "code",
   "execution_count": null,
   "id": "f753d572-7ee1-453c-b57a-137698d343b0",
   "metadata": {},
   "outputs": [],
   "source": []
  },
  {
   "cell_type": "code",
   "execution_count": null,
   "id": "afcdfa86-aa95-4ac4-8cd1-27218c604543",
   "metadata": {},
   "outputs": [],
   "source": []
  },
  {
   "cell_type": "code",
   "execution_count": null,
   "id": "f3c6a9e6-789a-490c-8caa-72f7d26e8f32",
   "metadata": {},
   "outputs": [],
   "source": []
  },
  {
   "cell_type": "code",
   "execution_count": null,
   "id": "1a2485a9-6560-4f95-81ac-a313537da9ea",
   "metadata": {},
   "outputs": [],
   "source": []
  },
  {
   "cell_type": "code",
   "execution_count": null,
   "id": "a11d95b9-0bc4-4c1b-acdc-2744d833f78b",
   "metadata": {},
   "outputs": [],
   "source": []
  },
  {
   "cell_type": "code",
   "execution_count": null,
   "id": "dd31408b-78da-4288-bd8c-2f1f7f752e92",
   "metadata": {},
   "outputs": [],
   "source": []
  },
  {
   "cell_type": "code",
   "execution_count": null,
   "id": "f276f58e-227a-4be1-aee0-acf25bb88fb0",
   "metadata": {},
   "outputs": [],
   "source": []
  },
  {
   "cell_type": "code",
   "execution_count": null,
   "id": "7c3ddd7d-0f1b-4a13-8a44-a40a939f1258",
   "metadata": {},
   "outputs": [],
   "source": []
  },
  {
   "cell_type": "code",
   "execution_count": null,
   "id": "63c64d3c-5e65-4a3c-ad0d-4369d062e902",
   "metadata": {},
   "outputs": [],
   "source": []
  },
  {
   "cell_type": "code",
   "execution_count": null,
   "id": "236d5b94-98d1-409f-85c4-93e0f3579d06",
   "metadata": {},
   "outputs": [],
   "source": []
  },
  {
   "cell_type": "code",
   "execution_count": null,
   "id": "2d023284-ecb8-46e7-947d-64ee710d602f",
   "metadata": {},
   "outputs": [],
   "source": []
  },
  {
   "cell_type": "code",
   "execution_count": null,
   "id": "9c9e7c2a-a9e7-4765-bb6c-2a6bea90b04c",
   "metadata": {},
   "outputs": [],
   "source": []
  },
  {
   "cell_type": "code",
   "execution_count": null,
   "id": "46d5cc5a-3361-4ea1-8778-16ce3b41df52",
   "metadata": {},
   "outputs": [],
   "source": []
  },
  {
   "cell_type": "code",
   "execution_count": null,
   "id": "112738f7-755a-4ff5-bc1f-cfd48b3dbe21",
   "metadata": {},
   "outputs": [],
   "source": []
  },
  {
   "cell_type": "code",
   "execution_count": null,
   "id": "94adb1fd-a3cb-4d62-aac9-5763a0ab3869",
   "metadata": {},
   "outputs": [],
   "source": []
  },
  {
   "cell_type": "code",
   "execution_count": null,
   "id": "2c44f471-ad53-4355-864b-5f8f96f33dd5",
   "metadata": {},
   "outputs": [],
   "source": []
  },
  {
   "cell_type": "code",
   "execution_count": null,
   "id": "128f30ea-d70c-41c4-ad31-ec5b9a260d59",
   "metadata": {},
   "outputs": [],
   "source": []
  },
  {
   "cell_type": "code",
   "execution_count": null,
   "id": "c9068117-3e9e-41dd-8330-33f1c2be20a0",
   "metadata": {},
   "outputs": [],
   "source": []
  },
  {
   "cell_type": "code",
   "execution_count": null,
   "id": "3d668b74-52a2-474e-9268-2a0965d33f72",
   "metadata": {},
   "outputs": [],
   "source": []
  },
  {
   "cell_type": "code",
   "execution_count": null,
   "id": "2c8888a4-af37-40bf-ad70-03a31ad104d1",
   "metadata": {},
   "outputs": [],
   "source": []
  },
  {
   "cell_type": "code",
   "execution_count": null,
   "id": "abe6d186-bad0-4874-b750-6a832d04a0a0",
   "metadata": {},
   "outputs": [],
   "source": []
  },
  {
   "cell_type": "code",
   "execution_count": null,
   "id": "00c9b9ba-25ca-4fd1-9c96-406ae00c0702",
   "metadata": {},
   "outputs": [],
   "source": []
  },
  {
   "cell_type": "code",
   "execution_count": null,
   "id": "c664bbe0-7b53-4677-9511-a5c90b66af8a",
   "metadata": {},
   "outputs": [],
   "source": []
  },
  {
   "cell_type": "code",
   "execution_count": null,
   "id": "24e19914-70fa-4809-b6ff-5ddd1db9ac3e",
   "metadata": {},
   "outputs": [],
   "source": []
  },
  {
   "cell_type": "code",
   "execution_count": null,
   "id": "a1963724-c962-492d-8aa5-cd7bb9c59d34",
   "metadata": {},
   "outputs": [],
   "source": []
  },
  {
   "cell_type": "code",
   "execution_count": null,
   "id": "98457fb5-3028-4a33-8697-d5ac9907341d",
   "metadata": {},
   "outputs": [],
   "source": []
  },
  {
   "cell_type": "code",
   "execution_count": null,
   "id": "1aabe7e6-ec74-47ce-a0b7-704fc40d85f5",
   "metadata": {},
   "outputs": [],
   "source": []
  },
  {
   "cell_type": "code",
   "execution_count": null,
   "id": "45e74bc7-4f78-42c4-be75-58e5abe6db5b",
   "metadata": {},
   "outputs": [],
   "source": []
  },
  {
   "cell_type": "code",
   "execution_count": null,
   "id": "b5d3e51d-89fd-4fab-9545-a3cff4ce541f",
   "metadata": {},
   "outputs": [],
   "source": []
  },
  {
   "cell_type": "code",
   "execution_count": null,
   "id": "d849e41f-7784-463b-93d0-5634abf6398f",
   "metadata": {},
   "outputs": [],
   "source": []
  },
  {
   "cell_type": "code",
   "execution_count": null,
   "id": "b61856f7-9f94-428c-9974-664b78b5cdad",
   "metadata": {},
   "outputs": [],
   "source": []
  },
  {
   "cell_type": "code",
   "execution_count": null,
   "id": "14d6ce4a-3eac-41c5-88c6-366c2d1739c3",
   "metadata": {},
   "outputs": [],
   "source": []
  },
  {
   "cell_type": "code",
   "execution_count": null,
   "id": "a2de09d8-b728-4ff8-8efb-c334d11a59a4",
   "metadata": {},
   "outputs": [],
   "source": []
  },
  {
   "cell_type": "code",
   "execution_count": null,
   "id": "bd419ba4-34df-4784-958b-e86fea47f684",
   "metadata": {},
   "outputs": [],
   "source": []
  },
  {
   "cell_type": "code",
   "execution_count": null,
   "id": "6b13465b-75e5-43a2-a746-7e971288bdf4",
   "metadata": {},
   "outputs": [],
   "source": []
  },
  {
   "cell_type": "code",
   "execution_count": null,
   "id": "9f9568a7-9f08-4493-adba-232ec80ebd09",
   "metadata": {},
   "outputs": [],
   "source": []
  },
  {
   "cell_type": "code",
   "execution_count": null,
   "id": "8b59d70b-17f5-4bbd-828a-c886d4e412c8",
   "metadata": {},
   "outputs": [],
   "source": []
  },
  {
   "cell_type": "code",
   "execution_count": null,
   "id": "b3483778-44c0-4f2b-b24f-2e23181b001f",
   "metadata": {},
   "outputs": [],
   "source": []
  },
  {
   "cell_type": "code",
   "execution_count": null,
   "id": "a889767e-97e2-4dce-9af3-3dcc952ace29",
   "metadata": {},
   "outputs": [],
   "source": []
  },
  {
   "cell_type": "code",
   "execution_count": null,
   "id": "4f7f9e7e-4d67-4f87-91ab-83100116edc3",
   "metadata": {},
   "outputs": [],
   "source": []
  },
  {
   "cell_type": "code",
   "execution_count": null,
   "id": "a61ddb50-e9e7-4e55-a00c-d7f51ecb85c0",
   "metadata": {},
   "outputs": [],
   "source": []
  },
  {
   "cell_type": "code",
   "execution_count": null,
   "id": "b14f75c9-2c2b-4f12-96c7-87dd0774a93f",
   "metadata": {},
   "outputs": [],
   "source": []
  },
  {
   "cell_type": "code",
   "execution_count": null,
   "id": "7c3b2689-5393-4831-a3f5-2e66a774f8d7",
   "metadata": {},
   "outputs": [],
   "source": []
  },
  {
   "cell_type": "code",
   "execution_count": null,
   "id": "0a00264a-80d7-405c-8c31-89c0b29c45ab",
   "metadata": {},
   "outputs": [],
   "source": []
  },
  {
   "cell_type": "code",
   "execution_count": null,
   "id": "0ba89a3e-6bd4-42fa-addb-535f2feb437e",
   "metadata": {},
   "outputs": [],
   "source": []
  },
  {
   "cell_type": "code",
   "execution_count": null,
   "id": "992b6c4c-2e87-43b9-8917-dbd07802fdac",
   "metadata": {},
   "outputs": [],
   "source": []
  },
  {
   "cell_type": "code",
   "execution_count": null,
   "id": "bd378f57-95af-4ef5-b219-05dc270a9d0e",
   "metadata": {},
   "outputs": [],
   "source": []
  },
  {
   "cell_type": "code",
   "execution_count": null,
   "id": "e9c87b56-8b5f-4e15-828a-ebd3a296dc12",
   "metadata": {},
   "outputs": [],
   "source": []
  },
  {
   "cell_type": "code",
   "execution_count": null,
   "id": "6d24493d-257c-4bcd-be4b-cbbf0161dc0e",
   "metadata": {},
   "outputs": [],
   "source": []
  },
  {
   "cell_type": "code",
   "execution_count": null,
   "id": "280f6067-7dc4-4dd0-bac0-81663e8e401c",
   "metadata": {},
   "outputs": [],
   "source": []
  },
  {
   "cell_type": "code",
   "execution_count": null,
   "id": "66a0c64f-918c-4860-8d2b-38b230ed548c",
   "metadata": {},
   "outputs": [],
   "source": []
  },
  {
   "cell_type": "code",
   "execution_count": null,
   "id": "46cbbbf7-cb17-4fa9-96a2-27d075fcc9fc",
   "metadata": {},
   "outputs": [],
   "source": []
  },
  {
   "cell_type": "code",
   "execution_count": null,
   "id": "82113280-6db7-405a-b42c-65e8de045032",
   "metadata": {},
   "outputs": [],
   "source": []
  },
  {
   "cell_type": "code",
   "execution_count": null,
   "id": "e61efbe5-d70b-4941-a3c6-904555188cf5",
   "metadata": {},
   "outputs": [],
   "source": []
  },
  {
   "cell_type": "code",
   "execution_count": null,
   "id": "753c8bfe-edd5-45c4-91a9-c64777896bb8",
   "metadata": {},
   "outputs": [],
   "source": []
  },
  {
   "cell_type": "code",
   "execution_count": null,
   "id": "30606777-b809-499c-8acf-8e596e4e3aea",
   "metadata": {},
   "outputs": [],
   "source": []
  },
  {
   "cell_type": "code",
   "execution_count": null,
   "id": "0c5ed91f-2d05-4b8f-9505-0bc813cd1c05",
   "metadata": {},
   "outputs": [],
   "source": []
  },
  {
   "cell_type": "code",
   "execution_count": null,
   "id": "db6a8525-f213-427f-8151-bd1bfb0a750d",
   "metadata": {},
   "outputs": [],
   "source": []
  },
  {
   "cell_type": "code",
   "execution_count": null,
   "id": "26326f58-3726-4705-9f17-02db04fb8f9a",
   "metadata": {},
   "outputs": [],
   "source": []
  },
  {
   "cell_type": "code",
   "execution_count": null,
   "id": "df53fff9-114d-4889-b218-f9937b8cb61d",
   "metadata": {},
   "outputs": [],
   "source": []
  },
  {
   "cell_type": "code",
   "execution_count": null,
   "id": "e93298f8-dbcf-4552-9a39-f1d70f23238d",
   "metadata": {},
   "outputs": [],
   "source": []
  },
  {
   "cell_type": "code",
   "execution_count": null,
   "id": "0da08697-d9d0-4fb9-892c-fdd845b715c3",
   "metadata": {},
   "outputs": [],
   "source": []
  },
  {
   "cell_type": "code",
   "execution_count": null,
   "id": "1dc12419-8a6e-4c2d-bf5f-366f1bc3a66e",
   "metadata": {},
   "outputs": [],
   "source": []
  },
  {
   "cell_type": "code",
   "execution_count": null,
   "id": "a0934b33-1a39-4efc-ad3a-997901635c7e",
   "metadata": {},
   "outputs": [],
   "source": []
  },
  {
   "cell_type": "code",
   "execution_count": null,
   "id": "5f754ad4-0acf-4440-875f-fd26ea827638",
   "metadata": {},
   "outputs": [],
   "source": []
  },
  {
   "cell_type": "code",
   "execution_count": null,
   "id": "fe56b2b6-4d5a-4b58-95bc-f5b11d02de87",
   "metadata": {},
   "outputs": [],
   "source": []
  },
  {
   "cell_type": "code",
   "execution_count": null,
   "id": "b4832bb8-6305-4455-acf2-c0ca9bc7c9c6",
   "metadata": {},
   "outputs": [],
   "source": []
  },
  {
   "cell_type": "code",
   "execution_count": null,
   "id": "10712951-dc22-4a54-88fd-962a9a18b2e0",
   "metadata": {},
   "outputs": [],
   "source": []
  },
  {
   "cell_type": "code",
   "execution_count": null,
   "id": "7811ffd8-5c78-44b8-8959-f04d3bf9667a",
   "metadata": {},
   "outputs": [],
   "source": []
  },
  {
   "cell_type": "code",
   "execution_count": null,
   "id": "4c8b9976-450c-45f0-a70d-9d6f8ac9f828",
   "metadata": {},
   "outputs": [],
   "source": []
  },
  {
   "cell_type": "code",
   "execution_count": null,
   "id": "a6d88a8f-2f0a-43f6-82a4-d6fa42047e28",
   "metadata": {},
   "outputs": [],
   "source": []
  },
  {
   "cell_type": "code",
   "execution_count": null,
   "id": "07a40cce-462b-4e75-b664-116cfcb8c01e",
   "metadata": {},
   "outputs": [],
   "source": []
  },
  {
   "cell_type": "code",
   "execution_count": null,
   "id": "216376dd-7ae2-4843-9464-0c8253933fdb",
   "metadata": {},
   "outputs": [],
   "source": []
  },
  {
   "cell_type": "code",
   "execution_count": null,
   "id": "b41ac8fe-5719-45f7-ac00-2e1df7598981",
   "metadata": {},
   "outputs": [],
   "source": []
  },
  {
   "cell_type": "code",
   "execution_count": null,
   "id": "15f6eacd-ec45-4f63-aa9f-d3b17c274885",
   "metadata": {},
   "outputs": [],
   "source": []
  },
  {
   "cell_type": "code",
   "execution_count": null,
   "id": "bc59c3da-9b90-44b3-9199-47aef64fcb86",
   "metadata": {},
   "outputs": [],
   "source": []
  },
  {
   "cell_type": "code",
   "execution_count": null,
   "id": "98517a4b-aa2a-4adb-88a4-7d195871f85a",
   "metadata": {},
   "outputs": [],
   "source": []
  },
  {
   "cell_type": "code",
   "execution_count": null,
   "id": "bc907cd5-0626-4429-84fd-ca3b987a6bdc",
   "metadata": {},
   "outputs": [],
   "source": []
  },
  {
   "cell_type": "code",
   "execution_count": null,
   "id": "1edb0080-bc08-4a9c-920d-f99bd00bf014",
   "metadata": {},
   "outputs": [],
   "source": []
  },
  {
   "cell_type": "code",
   "execution_count": null,
   "id": "f220f3e6-5f09-4d3b-a11a-2f6ba62578f4",
   "metadata": {},
   "outputs": [],
   "source": []
  },
  {
   "cell_type": "code",
   "execution_count": null,
   "id": "37d5e1ec-540c-427c-992a-520bca667f4a",
   "metadata": {},
   "outputs": [],
   "source": []
  },
  {
   "cell_type": "code",
   "execution_count": null,
   "id": "e97b3d01-3d6d-4986-a494-4f71ee7438b2",
   "metadata": {},
   "outputs": [],
   "source": []
  },
  {
   "cell_type": "code",
   "execution_count": null,
   "id": "ea19ee5e-e4af-4149-8a78-701d333350e2",
   "metadata": {},
   "outputs": [],
   "source": []
  },
  {
   "cell_type": "code",
   "execution_count": null,
   "id": "551afbf9-8a0e-4e8f-93c7-39816b303f78",
   "metadata": {},
   "outputs": [],
   "source": []
  },
  {
   "cell_type": "code",
   "execution_count": null,
   "id": "0f6da99d-f958-4fd9-8a53-1c80871b4565",
   "metadata": {},
   "outputs": [],
   "source": []
  },
  {
   "cell_type": "code",
   "execution_count": null,
   "id": "18fb7a6c-262c-4b90-a5c8-227e041bbb1a",
   "metadata": {},
   "outputs": [],
   "source": []
  },
  {
   "cell_type": "code",
   "execution_count": null,
   "id": "53a67d22-aabd-429e-9158-a84dde97d4d0",
   "metadata": {},
   "outputs": [],
   "source": []
  },
  {
   "cell_type": "code",
   "execution_count": null,
   "id": "296da5fc-156d-46fe-81f0-36616a28e374",
   "metadata": {},
   "outputs": [],
   "source": []
  },
  {
   "cell_type": "code",
   "execution_count": null,
   "id": "cacee4f0-ebab-4047-b930-8c200ffc4a8d",
   "metadata": {},
   "outputs": [],
   "source": []
  },
  {
   "cell_type": "code",
   "execution_count": null,
   "id": "87ce8da4-ad12-42b7-9895-5500458069a5",
   "metadata": {},
   "outputs": [],
   "source": []
  },
  {
   "cell_type": "code",
   "execution_count": null,
   "id": "94e9303b-7fbd-4115-b019-c755b54075c8",
   "metadata": {},
   "outputs": [],
   "source": []
  },
  {
   "cell_type": "code",
   "execution_count": null,
   "id": "be99c82a-1769-48d9-8162-210802843656",
   "metadata": {},
   "outputs": [],
   "source": []
  },
  {
   "cell_type": "code",
   "execution_count": null,
   "id": "72272205-687d-4897-a9a9-628f8c14c940",
   "metadata": {},
   "outputs": [],
   "source": []
  },
  {
   "cell_type": "code",
   "execution_count": null,
   "id": "b63681cc-873d-424e-81f0-83f94c3d088e",
   "metadata": {},
   "outputs": [],
   "source": []
  },
  {
   "cell_type": "code",
   "execution_count": null,
   "id": "caa4e7d2-b4ac-43b7-8da9-4956ab4a91bf",
   "metadata": {},
   "outputs": [],
   "source": []
  },
  {
   "cell_type": "code",
   "execution_count": null,
   "id": "0cc8b007-6fc8-4986-af39-7dbb0bb4fca1",
   "metadata": {},
   "outputs": [],
   "source": []
  },
  {
   "cell_type": "code",
   "execution_count": null,
   "id": "fb202b2b-b670-4162-84b5-300f3799d804",
   "metadata": {},
   "outputs": [],
   "source": []
  },
  {
   "cell_type": "code",
   "execution_count": null,
   "id": "d2259784-3b15-407e-9192-b67dc3794187",
   "metadata": {},
   "outputs": [],
   "source": []
  },
  {
   "cell_type": "code",
   "execution_count": null,
   "id": "6c871690-9c1f-4d3f-aa12-167d25ac4a0b",
   "metadata": {},
   "outputs": [],
   "source": []
  },
  {
   "cell_type": "code",
   "execution_count": null,
   "id": "2537ee30-2a31-459a-9805-85a893bfc7c5",
   "metadata": {},
   "outputs": [],
   "source": []
  },
  {
   "cell_type": "code",
   "execution_count": null,
   "id": "3d1e4863-15aa-4b7e-aee1-8a7026539cc2",
   "metadata": {},
   "outputs": [],
   "source": []
  },
  {
   "cell_type": "code",
   "execution_count": null,
   "id": "d646d0ba-4fa4-4947-b107-ed21f24f2c51",
   "metadata": {},
   "outputs": [],
   "source": []
  },
  {
   "cell_type": "code",
   "execution_count": null,
   "id": "b29b3016-c70f-4858-a3b6-76eaa88ea94e",
   "metadata": {},
   "outputs": [],
   "source": []
  },
  {
   "cell_type": "code",
   "execution_count": null,
   "id": "a6946277-9941-49c7-9326-6ead5c7df886",
   "metadata": {},
   "outputs": [],
   "source": []
  }
 ],
 "metadata": {
  "kernelspec": {
   "display_name": "Python [conda env:base] *",
   "language": "python",
   "name": "conda-base-py"
  },
  "language_info": {
   "codemirror_mode": {
    "name": "ipython",
    "version": 3
   },
   "file_extension": ".py",
   "mimetype": "text/x-python",
   "name": "python",
   "nbconvert_exporter": "python",
   "pygments_lexer": "ipython3",
   "version": "3.12.7"
  }
 },
 "nbformat": 4,
 "nbformat_minor": 5
}
