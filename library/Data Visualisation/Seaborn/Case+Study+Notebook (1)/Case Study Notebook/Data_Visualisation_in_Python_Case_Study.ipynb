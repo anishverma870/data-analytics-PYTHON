{
 "cells": [
  {
   "cell_type": "markdown",
   "metadata": {
    "id": "iT4D_4peT1Ju"
   },
   "source": [
    "# Google Playstore Case Study"
   ]
  },
  {
   "cell_type": "markdown",
   "metadata": {
    "id": "QOdldP9aT1Jz"
   },
   "source": [
    "In this module you’ll be learning data visualisation with the help of a case study. This will enable you to understand how visualisation aids you in solving business problems."
   ]
  },
  {
   "cell_type": "markdown",
   "metadata": {
    "id": "d8nq1eO_T1J0"
   },
   "source": [
    "**Problem Statement**\n",
    "\n",
    "The team at Google Play Store wants to develop a feature that would enable them to boost visibility for the most promising apps. Now, this analysis would require a preliminary understanding of the features that define a well-performing app. You can ask questions like:\n",
    "- Does a higher size or price necessarily mean that an app would perform better than the other apps?\n",
    "- Or does a higher number of installs give a clear picture of which app would have a better rating than others?\n"
   ]
  },
  {
   "cell_type": "markdown",
   "metadata": {
    "id": "exclYC_2T1J1"
   },
   "source": [
    "\n",
    "\n",
    "### Section 1 - Data Visualisation using Histograms"
   ]
  },
  {
   "cell_type": "code",
   "execution_count": 7,
   "metadata": {
    "id": "GXiyWSfbT1J2"
   },
   "outputs": [],
   "source": [
    "#import the libraries\n",
    "import numpy as np\n",
    "import pandas as pd \n",
    "import matplotlib.pyplot as plt\n",
    "import seaborn as sb"
   ]
  },
  {
   "cell_type": "code",
   "execution_count": 8,
   "metadata": {
    "id": "ybPXjvdfT1J4"
   },
   "outputs": [],
   "source": [
    "#read the dataset and check the first five rows\n",
    "inp0 =pd.read_csv('googleplaystore_clean.csv')\n"
   ]
  },
  {
   "cell_type": "code",
   "execution_count": 9,
   "metadata": {
    "id": "sSmEjW2HT1J4"
   },
   "outputs": [
    {
     "data": {
      "text/html": [
       "<div>\n",
       "<style scoped>\n",
       "    .dataframe tbody tr th:only-of-type {\n",
       "        vertical-align: middle;\n",
       "    }\n",
       "\n",
       "    .dataframe tbody tr th {\n",
       "        vertical-align: top;\n",
       "    }\n",
       "\n",
       "    .dataframe thead th {\n",
       "        text-align: right;\n",
       "    }\n",
       "</style>\n",
       "<table border=\"1\" class=\"dataframe\">\n",
       "  <thead>\n",
       "    <tr style=\"text-align: right;\">\n",
       "      <th></th>\n",
       "      <th>Unnamed: 0</th>\n",
       "      <th>App</th>\n",
       "      <th>Category</th>\n",
       "      <th>Rating</th>\n",
       "      <th>Reviews</th>\n",
       "      <th>Size</th>\n",
       "      <th>Installs</th>\n",
       "      <th>Type</th>\n",
       "      <th>Price</th>\n",
       "      <th>Content Rating</th>\n",
       "      <th>Genres</th>\n",
       "      <th>Last Updated</th>\n",
       "      <th>Current Ver</th>\n",
       "      <th>Android Ver</th>\n",
       "      <th>Cleaned_Size</th>\n",
       "    </tr>\n",
       "  </thead>\n",
       "  <tbody>\n",
       "    <tr>\n",
       "      <th>0</th>\n",
       "      <td>0</td>\n",
       "      <td>Photo Editor &amp; Candy Camera &amp; Grid &amp; ScrapBook</td>\n",
       "      <td>ART_AND_DESIGN</td>\n",
       "      <td>4.1</td>\n",
       "      <td>159</td>\n",
       "      <td>19.00</td>\n",
       "      <td>10000</td>\n",
       "      <td>Free</td>\n",
       "      <td>0.0</td>\n",
       "      <td>Everyone</td>\n",
       "      <td>Art &amp; Design</td>\n",
       "      <td>January 7, 2018</td>\n",
       "      <td>1.0.0</td>\n",
       "      <td>4.0.3 and up</td>\n",
       "      <td>19.0</td>\n",
       "    </tr>\n",
       "    <tr>\n",
       "      <th>1</th>\n",
       "      <td>1</td>\n",
       "      <td>Coloring book moana</td>\n",
       "      <td>ART_AND_DESIGN</td>\n",
       "      <td>3.9</td>\n",
       "      <td>967</td>\n",
       "      <td>14.00</td>\n",
       "      <td>500000</td>\n",
       "      <td>Free</td>\n",
       "      <td>0.0</td>\n",
       "      <td>Everyone</td>\n",
       "      <td>Art &amp; Design;Pretend Play</td>\n",
       "      <td>January 15, 2018</td>\n",
       "      <td>2.0.0</td>\n",
       "      <td>4.0.3 and up</td>\n",
       "      <td>14.0</td>\n",
       "    </tr>\n",
       "    <tr>\n",
       "      <th>2</th>\n",
       "      <td>2</td>\n",
       "      <td>U Launcher Lite – FREE Live Cool Themes, Hide ...</td>\n",
       "      <td>ART_AND_DESIGN</td>\n",
       "      <td>4.7</td>\n",
       "      <td>87510</td>\n",
       "      <td>8.70</td>\n",
       "      <td>5000000</td>\n",
       "      <td>Free</td>\n",
       "      <td>0.0</td>\n",
       "      <td>Everyone</td>\n",
       "      <td>Art &amp; Design</td>\n",
       "      <td>August 1, 2018</td>\n",
       "      <td>1.2.4</td>\n",
       "      <td>4.0.3 and up</td>\n",
       "      <td>8.7</td>\n",
       "    </tr>\n",
       "    <tr>\n",
       "      <th>3</th>\n",
       "      <td>3</td>\n",
       "      <td>Sketch - Draw &amp; Paint</td>\n",
       "      <td>ART_AND_DESIGN</td>\n",
       "      <td>4.5</td>\n",
       "      <td>215644</td>\n",
       "      <td>25.00</td>\n",
       "      <td>50000000</td>\n",
       "      <td>Free</td>\n",
       "      <td>0.0</td>\n",
       "      <td>Teen</td>\n",
       "      <td>Art &amp; Design</td>\n",
       "      <td>June 8, 2018</td>\n",
       "      <td>Varies with device</td>\n",
       "      <td>4.2 and up</td>\n",
       "      <td>25.0</td>\n",
       "    </tr>\n",
       "    <tr>\n",
       "      <th>4</th>\n",
       "      <td>4</td>\n",
       "      <td>Pixel Draw - Number Art Coloring Book</td>\n",
       "      <td>ART_AND_DESIGN</td>\n",
       "      <td>4.3</td>\n",
       "      <td>967</td>\n",
       "      <td>2.80</td>\n",
       "      <td>100000</td>\n",
       "      <td>Free</td>\n",
       "      <td>0.0</td>\n",
       "      <td>Everyone</td>\n",
       "      <td>Art &amp; Design;Creativity</td>\n",
       "      <td>June 20, 2018</td>\n",
       "      <td>1.1</td>\n",
       "      <td>4.4 and up</td>\n",
       "      <td>2.8</td>\n",
       "    </tr>\n",
       "    <tr>\n",
       "      <th>...</th>\n",
       "      <td>...</td>\n",
       "      <td>...</td>\n",
       "      <td>...</td>\n",
       "      <td>...</td>\n",
       "      <td>...</td>\n",
       "      <td>...</td>\n",
       "      <td>...</td>\n",
       "      <td>...</td>\n",
       "      <td>...</td>\n",
       "      <td>...</td>\n",
       "      <td>...</td>\n",
       "      <td>...</td>\n",
       "      <td>...</td>\n",
       "      <td>...</td>\n",
       "      <td>...</td>\n",
       "    </tr>\n",
       "    <tr>\n",
       "      <th>7724</th>\n",
       "      <td>10833</td>\n",
       "      <td>Chemin (fr)</td>\n",
       "      <td>BOOKS_AND_REFERENCE</td>\n",
       "      <td>4.8</td>\n",
       "      <td>44</td>\n",
       "      <td>83.35</td>\n",
       "      <td>1000</td>\n",
       "      <td>Free</td>\n",
       "      <td>0.0</td>\n",
       "      <td>Everyone</td>\n",
       "      <td>Books &amp; Reference</td>\n",
       "      <td>March 23, 2014</td>\n",
       "      <td>0.8</td>\n",
       "      <td>2.2 and up</td>\n",
       "      <td>619.0</td>\n",
       "    </tr>\n",
       "    <tr>\n",
       "      <th>7725</th>\n",
       "      <td>10834</td>\n",
       "      <td>FR Calculator</td>\n",
       "      <td>FAMILY</td>\n",
       "      <td>4.0</td>\n",
       "      <td>7</td>\n",
       "      <td>2.60</td>\n",
       "      <td>500</td>\n",
       "      <td>Free</td>\n",
       "      <td>0.0</td>\n",
       "      <td>Everyone</td>\n",
       "      <td>Education</td>\n",
       "      <td>June 18, 2017</td>\n",
       "      <td>1.0.0</td>\n",
       "      <td>4.1 and up</td>\n",
       "      <td>2.6</td>\n",
       "    </tr>\n",
       "    <tr>\n",
       "      <th>7726</th>\n",
       "      <td>10836</td>\n",
       "      <td>Sya9a Maroc - FR</td>\n",
       "      <td>FAMILY</td>\n",
       "      <td>4.5</td>\n",
       "      <td>38</td>\n",
       "      <td>53.00</td>\n",
       "      <td>5000</td>\n",
       "      <td>Free</td>\n",
       "      <td>0.0</td>\n",
       "      <td>Everyone</td>\n",
       "      <td>Education</td>\n",
       "      <td>July 25, 2017</td>\n",
       "      <td>1.48</td>\n",
       "      <td>4.1 and up</td>\n",
       "      <td>53.0</td>\n",
       "    </tr>\n",
       "    <tr>\n",
       "      <th>7727</th>\n",
       "      <td>10837</td>\n",
       "      <td>Fr. Mike Schmitz Audio Teachings</td>\n",
       "      <td>FAMILY</td>\n",
       "      <td>5.0</td>\n",
       "      <td>4</td>\n",
       "      <td>3.60</td>\n",
       "      <td>100</td>\n",
       "      <td>Free</td>\n",
       "      <td>0.0</td>\n",
       "      <td>Everyone</td>\n",
       "      <td>Education</td>\n",
       "      <td>July 6, 2018</td>\n",
       "      <td>1.0</td>\n",
       "      <td>4.1 and up</td>\n",
       "      <td>3.6</td>\n",
       "    </tr>\n",
       "    <tr>\n",
       "      <th>7728</th>\n",
       "      <td>10840</td>\n",
       "      <td>iHoroscope - 2018 Daily Horoscope &amp; Astrology</td>\n",
       "      <td>LIFESTYLE</td>\n",
       "      <td>4.5</td>\n",
       "      <td>398307</td>\n",
       "      <td>19.00</td>\n",
       "      <td>10000000</td>\n",
       "      <td>Free</td>\n",
       "      <td>0.0</td>\n",
       "      <td>Everyone</td>\n",
       "      <td>Lifestyle</td>\n",
       "      <td>July 25, 2018</td>\n",
       "      <td>Varies with device</td>\n",
       "      <td>Varies with device</td>\n",
       "      <td>19.0</td>\n",
       "    </tr>\n",
       "  </tbody>\n",
       "</table>\n",
       "<p>7729 rows × 15 columns</p>\n",
       "</div>"
      ],
      "text/plain": [
       "      Unnamed: 0                                                App  \\\n",
       "0              0     Photo Editor & Candy Camera & Grid & ScrapBook   \n",
       "1              1                                Coloring book moana   \n",
       "2              2  U Launcher Lite – FREE Live Cool Themes, Hide ...   \n",
       "3              3                              Sketch - Draw & Paint   \n",
       "4              4              Pixel Draw - Number Art Coloring Book   \n",
       "...          ...                                                ...   \n",
       "7724       10833                                        Chemin (fr)   \n",
       "7725       10834                                      FR Calculator   \n",
       "7726       10836                                   Sya9a Maroc - FR   \n",
       "7727       10837                   Fr. Mike Schmitz Audio Teachings   \n",
       "7728       10840      iHoroscope - 2018 Daily Horoscope & Astrology   \n",
       "\n",
       "                 Category  Rating  Reviews   Size  Installs  Type  Price  \\\n",
       "0          ART_AND_DESIGN     4.1      159  19.00     10000  Free    0.0   \n",
       "1          ART_AND_DESIGN     3.9      967  14.00    500000  Free    0.0   \n",
       "2          ART_AND_DESIGN     4.7    87510   8.70   5000000  Free    0.0   \n",
       "3          ART_AND_DESIGN     4.5   215644  25.00  50000000  Free    0.0   \n",
       "4          ART_AND_DESIGN     4.3      967   2.80    100000  Free    0.0   \n",
       "...                   ...     ...      ...    ...       ...   ...    ...   \n",
       "7724  BOOKS_AND_REFERENCE     4.8       44  83.35      1000  Free    0.0   \n",
       "7725               FAMILY     4.0        7   2.60       500  Free    0.0   \n",
       "7726               FAMILY     4.5       38  53.00      5000  Free    0.0   \n",
       "7727               FAMILY     5.0        4   3.60       100  Free    0.0   \n",
       "7728            LIFESTYLE     4.5   398307  19.00  10000000  Free    0.0   \n",
       "\n",
       "     Content Rating                     Genres      Last Updated  \\\n",
       "0          Everyone               Art & Design   January 7, 2018   \n",
       "1          Everyone  Art & Design;Pretend Play  January 15, 2018   \n",
       "2          Everyone               Art & Design    August 1, 2018   \n",
       "3              Teen               Art & Design      June 8, 2018   \n",
       "4          Everyone    Art & Design;Creativity     June 20, 2018   \n",
       "...             ...                        ...               ...   \n",
       "7724       Everyone          Books & Reference    March 23, 2014   \n",
       "7725       Everyone                  Education     June 18, 2017   \n",
       "7726       Everyone                  Education     July 25, 2017   \n",
       "7727       Everyone                  Education      July 6, 2018   \n",
       "7728       Everyone                  Lifestyle     July 25, 2018   \n",
       "\n",
       "             Current Ver         Android Ver  Cleaned_Size  \n",
       "0                  1.0.0        4.0.3 and up          19.0  \n",
       "1                  2.0.0        4.0.3 and up          14.0  \n",
       "2                  1.2.4        4.0.3 and up           8.7  \n",
       "3     Varies with device          4.2 and up          25.0  \n",
       "4                    1.1          4.4 and up           2.8  \n",
       "...                  ...                 ...           ...  \n",
       "7724                 0.8          2.2 and up         619.0  \n",
       "7725               1.0.0          4.1 and up           2.6  \n",
       "7726                1.48          4.1 and up          53.0  \n",
       "7727                 1.0          4.1 and up           3.6  \n",
       "7728  Varies with device  Varies with device          19.0  \n",
       "\n",
       "[7729 rows x 15 columns]"
      ]
     },
     "execution_count": 9,
     "metadata": {},
     "output_type": "execute_result"
    }
   ],
   "source": [
    "#Check the shape of the dataframe\n",
    "inp0"
   ]
  },
  {
   "cell_type": "markdown",
   "metadata": {
    "id": "nrmEHT5WT1KV"
   },
   "source": [
    "### Histograms\n",
    "\n",
    "Histograms can also be used in conjuction with boxplots for data cleaning and data handling purposes. You can use it to check the spread of a numeric variable. Histograms generally work by bucketing the entire range of values that a particular variable takes to specific __bins__. After that, it uses vertical bars to denote the total number of records in a specific bin, which is also known as its __frequency__.\n"
   ]
  },
  {
   "cell_type": "markdown",
   "metadata": {
    "id": "3-1qSv8lT1KV"
   },
   "source": [
    "![Histogram](images\\Histogram.png)"
   ]
  },
  {
   "cell_type": "markdown",
   "metadata": {
    "id": "Df1JHMTjT1KW"
   },
   "source": [
    "You can adjust the number of bins to improve its granularity"
   ]
  },
  {
   "cell_type": "markdown",
   "metadata": {
    "id": "Sg-tDTjET1KW"
   },
   "source": [
    "![Bins change](images\\Granular.png)"
   ]
  },
  {
   "cell_type": "markdown",
   "metadata": {
    "id": "o4PCSjxUT1KX"
   },
   "source": [
    "You'll be using plt.hist() to plot a histogram. Check out its official documentation:https://matplotlib.org/3.1.1/api/_as_gen/matplotlib.pyplot.hist.html"
   ]
  },
  {
   "cell_type": "code",
   "execution_count": 15,
   "metadata": {
    "id": "Z1WMSkBjT1KX"
   },
   "outputs": [
    {
     "data": {
      "image/png": "[encoded data removed]",
      "text/plain": [
       "<Figure size 640x480 with 1 Axes>"
      ]
     },
     "metadata": {},
     "output_type": "display_data"
    }
   ],
   "source": [
    "#Create a histogram of the Reviews\n",
    "plt.hist(inp0.Reviews)\n",
    "plt.show()"
   ]
  },
  {
   "cell_type": "code",
   "execution_count": 16,
   "metadata": {},
   "outputs": [
    {
     "data": {
      "text/plain": [
       "(7689, 15)"
      ]
     },
     "execution_count": 16,
     "metadata": {},
     "output_type": "execute_result"
    }
   ],
   "source": [
    "inp1 = inp0[inp0.Installs <= 100000000]\n",
    "inp1.shape"
   ]
  },
  {
   "cell_type": "code",
   "execution_count": 17,
   "metadata": {
    "id": "4Ep1_bDZT1KX"
   },
   "outputs": [
    {
     "data": {
      "text/plain": [
       "{'whiskers': [<matplotlib.lines.Line2D at 0x14ebc9582c0>,\n",
       "  <matplotlib.lines.Line2D at 0x14ebc9585f0>],\n",
       " 'caps': [<matplotlib.lines.Line2D at 0x14ebc9588c0>,\n",
       "  <matplotlib.lines.Line2D at 0x14ebc958bf0>],\n",
       " 'boxes': [<matplotlib.lines.Line2D at 0x14ebc923fb0>],\n",
       " 'medians': [<matplotlib.lines.Line2D at 0x14ebc958ef0>],\n",
       " 'fliers': [<matplotlib.lines.Line2D at 0x14ebc9591f0>],\n",
       " 'means': []}"
      ]
     },
     "execution_count": 17,
     "metadata": {},
     "output_type": "execute_result"
    },
    {
     "data": {
      "image/png": "[encoded data removed]",
      "text/plain": [
       "<Figure size 640x480 with 1 Axes>"
      ]
     },
     "metadata": {},
     "output_type": "display_data"
    }
   ],
   "source": [
    "#Create a boxplot of the Reviews column\n",
    "\n",
    "plt.boxplot(inp0.Reviews)"
   ]
  },
  {
   "cell_type": "code",
   "execution_count": 18,
   "metadata": {
    "id": "8quB4ty8T1KY"
   },
   "outputs": [
    {
     "data": {
      "text/plain": [
       "(44, 15)"
      ]
     },
     "execution_count": 18,
     "metadata": {},
     "output_type": "execute_result"
    }
   ],
   "source": [
    "#Check records with 1 million reviews\n",
    "inp0[inp0.Reviews>=10000000].shape"
   ]
  },
  {
   "cell_type": "code",
   "execution_count": 19,
   "metadata": {
    "id": "6I-i8M6wT1KY"
   },
   "outputs": [
    {
     "data": {
      "text/html": [
       "<div>\n",
       "<style scoped>\n",
       "    .dataframe tbody tr th:only-of-type {\n",
       "        vertical-align: middle;\n",
       "    }\n",
       "\n",
       "    .dataframe tbody tr th {\n",
       "        vertical-align: top;\n",
       "    }\n",
       "\n",
       "    .dataframe thead th {\n",
       "        text-align: right;\n",
       "    }\n",
       "</style>\n",
       "<table border=\"1\" class=\"dataframe\">\n",
       "  <thead>\n",
       "    <tr style=\"text-align: right;\">\n",
       "      <th></th>\n",
       "      <th>Unnamed: 0</th>\n",
       "      <th>App</th>\n",
       "      <th>Category</th>\n",
       "      <th>Rating</th>\n",
       "      <th>Reviews</th>\n",
       "      <th>Size</th>\n",
       "      <th>Installs</th>\n",
       "      <th>Type</th>\n",
       "      <th>Price</th>\n",
       "      <th>Content Rating</th>\n",
       "      <th>Genres</th>\n",
       "      <th>Last Updated</th>\n",
       "      <th>Current Ver</th>\n",
       "      <th>Android Ver</th>\n",
       "      <th>Cleaned_Size</th>\n",
       "    </tr>\n",
       "  </thead>\n",
       "  <tbody>\n",
       "    <tr>\n",
       "      <th>270</th>\n",
       "      <td>378</td>\n",
       "      <td>UC Browser - Fast Download Private &amp; Secure</td>\n",
       "      <td>COMMUNICATION</td>\n",
       "      <td>4.5</td>\n",
       "      <td>17712922</td>\n",
       "      <td>40.00</td>\n",
       "      <td>500000000</td>\n",
       "      <td>Free</td>\n",
       "      <td>0.0</td>\n",
       "      <td>Teen</td>\n",
       "      <td>Communication</td>\n",
       "      <td>August 2, 2018</td>\n",
       "      <td>12.8.5.1121</td>\n",
       "      <td>4.0 and up</td>\n",
       "      <td>40.0</td>\n",
       "    </tr>\n",
       "    <tr>\n",
       "      <th>287</th>\n",
       "      <td>420</td>\n",
       "      <td>UC Browser - Fast Download Private &amp; Secure</td>\n",
       "      <td>COMMUNICATION</td>\n",
       "      <td>4.5</td>\n",
       "      <td>17714850</td>\n",
       "      <td>40.00</td>\n",
       "      <td>500000000</td>\n",
       "      <td>Free</td>\n",
       "      <td>0.0</td>\n",
       "      <td>Teen</td>\n",
       "      <td>Communication</td>\n",
       "      <td>August 2, 2018</td>\n",
       "      <td>12.8.5.1121</td>\n",
       "      <td>4.0 and up</td>\n",
       "      <td>40.0</td>\n",
       "    </tr>\n",
       "    <tr>\n",
       "      <th>1139</th>\n",
       "      <td>1654</td>\n",
       "      <td>Subway Surfers</td>\n",
       "      <td>GAME</td>\n",
       "      <td>4.5</td>\n",
       "      <td>27722264</td>\n",
       "      <td>76.00</td>\n",
       "      <td>1000000000</td>\n",
       "      <td>Free</td>\n",
       "      <td>0.0</td>\n",
       "      <td>Everyone 10+</td>\n",
       "      <td>Arcade</td>\n",
       "      <td>July 12, 2018</td>\n",
       "      <td>1.90.0</td>\n",
       "      <td>4.1 and up</td>\n",
       "      <td>76.0</td>\n",
       "    </tr>\n",
       "    <tr>\n",
       "      <th>1140</th>\n",
       "      <td>1655</td>\n",
       "      <td>Candy Crush Saga</td>\n",
       "      <td>GAME</td>\n",
       "      <td>4.4</td>\n",
       "      <td>22426677</td>\n",
       "      <td>74.00</td>\n",
       "      <td>500000000</td>\n",
       "      <td>Free</td>\n",
       "      <td>0.0</td>\n",
       "      <td>Everyone</td>\n",
       "      <td>Casual</td>\n",
       "      <td>July 5, 2018</td>\n",
       "      <td>1.129.0.2</td>\n",
       "      <td>4.1 and up</td>\n",
       "      <td>74.0</td>\n",
       "    </tr>\n",
       "    <tr>\n",
       "      <th>1144</th>\n",
       "      <td>1660</td>\n",
       "      <td>Clash Royale</td>\n",
       "      <td>GAME</td>\n",
       "      <td>4.6</td>\n",
       "      <td>23133508</td>\n",
       "      <td>83.35</td>\n",
       "      <td>100000000</td>\n",
       "      <td>Free</td>\n",
       "      <td>0.0</td>\n",
       "      <td>Everyone 10+</td>\n",
       "      <td>Strategy</td>\n",
       "      <td>June 27, 2018</td>\n",
       "      <td>2.3.2</td>\n",
       "      <td>4.1 and up</td>\n",
       "      <td>97.0</td>\n",
       "    </tr>\n",
       "    <tr>\n",
       "      <th>1146</th>\n",
       "      <td>1662</td>\n",
       "      <td>Pou</td>\n",
       "      <td>GAME</td>\n",
       "      <td>4.3</td>\n",
       "      <td>10485308</td>\n",
       "      <td>24.00</td>\n",
       "      <td>500000000</td>\n",
       "      <td>Free</td>\n",
       "      <td>0.0</td>\n",
       "      <td>Everyone</td>\n",
       "      <td>Casual</td>\n",
       "      <td>May 25, 2018</td>\n",
       "      <td>1.4.77</td>\n",
       "      <td>4.0 and up</td>\n",
       "      <td>24.0</td>\n",
       "    </tr>\n",
       "    <tr>\n",
       "      <th>1154</th>\n",
       "      <td>1670</td>\n",
       "      <td>Clash of Clans</td>\n",
       "      <td>GAME</td>\n",
       "      <td>4.6</td>\n",
       "      <td>44891723</td>\n",
       "      <td>83.35</td>\n",
       "      <td>100000000</td>\n",
       "      <td>Free</td>\n",
       "      <td>0.0</td>\n",
       "      <td>Everyone 10+</td>\n",
       "      <td>Strategy</td>\n",
       "      <td>July 15, 2018</td>\n",
       "      <td>10.322.16</td>\n",
       "      <td>4.1 and up</td>\n",
       "      <td>98.0</td>\n",
       "    </tr>\n",
       "    <tr>\n",
       "      <th>1158</th>\n",
       "      <td>1675</td>\n",
       "      <td>8 Ball Pool</td>\n",
       "      <td>GAME</td>\n",
       "      <td>4.5</td>\n",
       "      <td>14198297</td>\n",
       "      <td>52.00</td>\n",
       "      <td>100000000</td>\n",
       "      <td>Free</td>\n",
       "      <td>0.0</td>\n",
       "      <td>Everyone</td>\n",
       "      <td>Sports</td>\n",
       "      <td>July 31, 2018</td>\n",
       "      <td>4.0.0</td>\n",
       "      <td>4.0.3 and up</td>\n",
       "      <td>52.0</td>\n",
       "    </tr>\n",
       "    <tr>\n",
       "      <th>1175</th>\n",
       "      <td>1700</td>\n",
       "      <td>Subway Surfers</td>\n",
       "      <td>GAME</td>\n",
       "      <td>4.5</td>\n",
       "      <td>27723193</td>\n",
       "      <td>76.00</td>\n",
       "      <td>1000000000</td>\n",
       "      <td>Free</td>\n",
       "      <td>0.0</td>\n",
       "      <td>Everyone 10+</td>\n",
       "      <td>Arcade</td>\n",
       "      <td>July 12, 2018</td>\n",
       "      <td>1.90.0</td>\n",
       "      <td>4.1 and up</td>\n",
       "      <td>76.0</td>\n",
       "    </tr>\n",
       "    <tr>\n",
       "      <th>1177</th>\n",
       "      <td>1702</td>\n",
       "      <td>Pou</td>\n",
       "      <td>GAME</td>\n",
       "      <td>4.3</td>\n",
       "      <td>10485334</td>\n",
       "      <td>24.00</td>\n",
       "      <td>500000000</td>\n",
       "      <td>Free</td>\n",
       "      <td>0.0</td>\n",
       "      <td>Everyone</td>\n",
       "      <td>Casual</td>\n",
       "      <td>May 25, 2018</td>\n",
       "      <td>1.4.77</td>\n",
       "      <td>4.0 and up</td>\n",
       "      <td>24.0</td>\n",
       "    </tr>\n",
       "    <tr>\n",
       "      <th>1178</th>\n",
       "      <td>1703</td>\n",
       "      <td>8 Ball Pool</td>\n",
       "      <td>GAME</td>\n",
       "      <td>4.5</td>\n",
       "      <td>14198602</td>\n",
       "      <td>52.00</td>\n",
       "      <td>100000000</td>\n",
       "      <td>Free</td>\n",
       "      <td>0.0</td>\n",
       "      <td>Everyone</td>\n",
       "      <td>Sports</td>\n",
       "      <td>July 31, 2018</td>\n",
       "      <td>4.0.0</td>\n",
       "      <td>4.0.3 and up</td>\n",
       "      <td>52.0</td>\n",
       "    </tr>\n",
       "    <tr>\n",
       "      <th>1179</th>\n",
       "      <td>1704</td>\n",
       "      <td>Clash of Clans</td>\n",
       "      <td>GAME</td>\n",
       "      <td>4.6</td>\n",
       "      <td>44891723</td>\n",
       "      <td>83.35</td>\n",
       "      <td>100000000</td>\n",
       "      <td>Free</td>\n",
       "      <td>0.0</td>\n",
       "      <td>Everyone 10+</td>\n",
       "      <td>Strategy</td>\n",
       "      <td>July 15, 2018</td>\n",
       "      <td>10.322.16</td>\n",
       "      <td>4.1 and up</td>\n",
       "      <td>98.0</td>\n",
       "    </tr>\n",
       "    <tr>\n",
       "      <th>1180</th>\n",
       "      <td>1705</td>\n",
       "      <td>Candy Crush Saga</td>\n",
       "      <td>GAME</td>\n",
       "      <td>4.4</td>\n",
       "      <td>22428456</td>\n",
       "      <td>74.00</td>\n",
       "      <td>500000000</td>\n",
       "      <td>Free</td>\n",
       "      <td>0.0</td>\n",
       "      <td>Everyone</td>\n",
       "      <td>Casual</td>\n",
       "      <td>July 5, 2018</td>\n",
       "      <td>1.129.0.2</td>\n",
       "      <td>4.1 and up</td>\n",
       "      <td>74.0</td>\n",
       "    </tr>\n",
       "    <tr>\n",
       "      <th>1192</th>\n",
       "      <td>1721</td>\n",
       "      <td>Clash Royale</td>\n",
       "      <td>GAME</td>\n",
       "      <td>4.6</td>\n",
       "      <td>23134775</td>\n",
       "      <td>83.35</td>\n",
       "      <td>100000000</td>\n",
       "      <td>Free</td>\n",
       "      <td>0.0</td>\n",
       "      <td>Everyone 10+</td>\n",
       "      <td>Strategy</td>\n",
       "      <td>June 27, 2018</td>\n",
       "      <td>2.3.2</td>\n",
       "      <td>4.1 and up</td>\n",
       "      <td>97.0</td>\n",
       "    </tr>\n",
       "    <tr>\n",
       "      <th>1215</th>\n",
       "      <td>1750</td>\n",
       "      <td>Subway Surfers</td>\n",
       "      <td>GAME</td>\n",
       "      <td>4.5</td>\n",
       "      <td>27724094</td>\n",
       "      <td>76.00</td>\n",
       "      <td>1000000000</td>\n",
       "      <td>Free</td>\n",
       "      <td>0.0</td>\n",
       "      <td>Everyone 10+</td>\n",
       "      <td>Arcade</td>\n",
       "      <td>July 12, 2018</td>\n",
       "      <td>1.90.0</td>\n",
       "      <td>4.1 and up</td>\n",
       "      <td>76.0</td>\n",
       "    </tr>\n",
       "    <tr>\n",
       "      <th>1216</th>\n",
       "      <td>1751</td>\n",
       "      <td>Candy Crush Saga</td>\n",
       "      <td>GAME</td>\n",
       "      <td>4.4</td>\n",
       "      <td>22428456</td>\n",
       "      <td>74.00</td>\n",
       "      <td>500000000</td>\n",
       "      <td>Free</td>\n",
       "      <td>0.0</td>\n",
       "      <td>Everyone</td>\n",
       "      <td>Casual</td>\n",
       "      <td>July 5, 2018</td>\n",
       "      <td>1.129.0.2</td>\n",
       "      <td>4.1 and up</td>\n",
       "      <td>74.0</td>\n",
       "    </tr>\n",
       "    <tr>\n",
       "      <th>1219</th>\n",
       "      <td>1755</td>\n",
       "      <td>8 Ball Pool</td>\n",
       "      <td>GAME</td>\n",
       "      <td>4.5</td>\n",
       "      <td>14200344</td>\n",
       "      <td>52.00</td>\n",
       "      <td>100000000</td>\n",
       "      <td>Free</td>\n",
       "      <td>0.0</td>\n",
       "      <td>Everyone</td>\n",
       "      <td>Sports</td>\n",
       "      <td>July 31, 2018</td>\n",
       "      <td>4.0.0</td>\n",
       "      <td>4.0.3 and up</td>\n",
       "      <td>52.0</td>\n",
       "    </tr>\n",
       "    <tr>\n",
       "      <th>1222</th>\n",
       "      <td>1764</td>\n",
       "      <td>Pokémon GO</td>\n",
       "      <td>GAME</td>\n",
       "      <td>4.1</td>\n",
       "      <td>10424925</td>\n",
       "      <td>83.35</td>\n",
       "      <td>100000000</td>\n",
       "      <td>Free</td>\n",
       "      <td>0.0</td>\n",
       "      <td>Everyone</td>\n",
       "      <td>Adventure</td>\n",
       "      <td>July 23, 2018</td>\n",
       "      <td>0.111.3</td>\n",
       "      <td>4.4 and up</td>\n",
       "      <td>85.0</td>\n",
       "    </tr>\n",
       "    <tr>\n",
       "      <th>1291</th>\n",
       "      <td>1842</td>\n",
       "      <td>Candy Crush Saga</td>\n",
       "      <td>GAME</td>\n",
       "      <td>4.4</td>\n",
       "      <td>22429716</td>\n",
       "      <td>74.00</td>\n",
       "      <td>500000000</td>\n",
       "      <td>Free</td>\n",
       "      <td>0.0</td>\n",
       "      <td>Everyone</td>\n",
       "      <td>Casual</td>\n",
       "      <td>July 5, 2018</td>\n",
       "      <td>1.129.0.2</td>\n",
       "      <td>4.1 and up</td>\n",
       "      <td>74.0</td>\n",
       "    </tr>\n",
       "    <tr>\n",
       "      <th>1293</th>\n",
       "      <td>1844</td>\n",
       "      <td>8 Ball Pool</td>\n",
       "      <td>GAME</td>\n",
       "      <td>4.5</td>\n",
       "      <td>14200550</td>\n",
       "      <td>52.00</td>\n",
       "      <td>100000000</td>\n",
       "      <td>Free</td>\n",
       "      <td>0.0</td>\n",
       "      <td>Everyone</td>\n",
       "      <td>Sports</td>\n",
       "      <td>July 31, 2018</td>\n",
       "      <td>4.0.0</td>\n",
       "      <td>4.0.3 and up</td>\n",
       "      <td>52.0</td>\n",
       "    </tr>\n",
       "    <tr>\n",
       "      <th>1315</th>\n",
       "      <td>1869</td>\n",
       "      <td>Candy Crush Saga</td>\n",
       "      <td>GAME</td>\n",
       "      <td>4.4</td>\n",
       "      <td>22430188</td>\n",
       "      <td>74.00</td>\n",
       "      <td>500000000</td>\n",
       "      <td>Free</td>\n",
       "      <td>0.0</td>\n",
       "      <td>Everyone</td>\n",
       "      <td>Casual</td>\n",
       "      <td>July 5, 2018</td>\n",
       "      <td>1.129.0.2</td>\n",
       "      <td>4.1 and up</td>\n",
       "      <td>74.0</td>\n",
       "    </tr>\n",
       "    <tr>\n",
       "      <th>1317</th>\n",
       "      <td>1871</td>\n",
       "      <td>8 Ball Pool</td>\n",
       "      <td>GAME</td>\n",
       "      <td>4.5</td>\n",
       "      <td>14201891</td>\n",
       "      <td>52.00</td>\n",
       "      <td>100000000</td>\n",
       "      <td>Free</td>\n",
       "      <td>0.0</td>\n",
       "      <td>Everyone</td>\n",
       "      <td>Sports</td>\n",
       "      <td>July 31, 2018</td>\n",
       "      <td>4.0.0</td>\n",
       "      <td>4.0.3 and up</td>\n",
       "      <td>52.0</td>\n",
       "    </tr>\n",
       "    <tr>\n",
       "      <th>1318</th>\n",
       "      <td>1872</td>\n",
       "      <td>Subway Surfers</td>\n",
       "      <td>GAME</td>\n",
       "      <td>4.5</td>\n",
       "      <td>27725352</td>\n",
       "      <td>76.00</td>\n",
       "      <td>1000000000</td>\n",
       "      <td>Free</td>\n",
       "      <td>0.0</td>\n",
       "      <td>Everyone 10+</td>\n",
       "      <td>Arcade</td>\n",
       "      <td>July 12, 2018</td>\n",
       "      <td>1.90.0</td>\n",
       "      <td>4.1 and up</td>\n",
       "      <td>76.0</td>\n",
       "    </tr>\n",
       "    <tr>\n",
       "      <th>1322</th>\n",
       "      <td>1878</td>\n",
       "      <td>Clash Royale</td>\n",
       "      <td>GAME</td>\n",
       "      <td>4.6</td>\n",
       "      <td>23136735</td>\n",
       "      <td>83.35</td>\n",
       "      <td>100000000</td>\n",
       "      <td>Free</td>\n",
       "      <td>0.0</td>\n",
       "      <td>Everyone 10+</td>\n",
       "      <td>Strategy</td>\n",
       "      <td>June 27, 2018</td>\n",
       "      <td>2.3.2</td>\n",
       "      <td>4.1 and up</td>\n",
       "      <td>97.0</td>\n",
       "    </tr>\n",
       "    <tr>\n",
       "      <th>1323</th>\n",
       "      <td>1879</td>\n",
       "      <td>Clash of Clans</td>\n",
       "      <td>GAME</td>\n",
       "      <td>4.6</td>\n",
       "      <td>44893888</td>\n",
       "      <td>83.35</td>\n",
       "      <td>100000000</td>\n",
       "      <td>Free</td>\n",
       "      <td>0.0</td>\n",
       "      <td>Everyone 10+</td>\n",
       "      <td>Strategy</td>\n",
       "      <td>July 15, 2018</td>\n",
       "      <td>10.322.16</td>\n",
       "      <td>4.1 and up</td>\n",
       "      <td>98.0</td>\n",
       "    </tr>\n",
       "    <tr>\n",
       "      <th>1329</th>\n",
       "      <td>1885</td>\n",
       "      <td>Pou</td>\n",
       "      <td>GAME</td>\n",
       "      <td>4.3</td>\n",
       "      <td>10486018</td>\n",
       "      <td>24.00</td>\n",
       "      <td>500000000</td>\n",
       "      <td>Free</td>\n",
       "      <td>0.0</td>\n",
       "      <td>Everyone</td>\n",
       "      <td>Casual</td>\n",
       "      <td>May 25, 2018</td>\n",
       "      <td>1.4.77</td>\n",
       "      <td>4.0 and up</td>\n",
       "      <td>24.0</td>\n",
       "    </tr>\n",
       "    <tr>\n",
       "      <th>1335</th>\n",
       "      <td>1893</td>\n",
       "      <td>Yes day</td>\n",
       "      <td>GAME</td>\n",
       "      <td>4.5</td>\n",
       "      <td>10055521</td>\n",
       "      <td>83.35</td>\n",
       "      <td>100000000</td>\n",
       "      <td>Free</td>\n",
       "      <td>0.0</td>\n",
       "      <td>Everyone</td>\n",
       "      <td>Casual</td>\n",
       "      <td>June 28, 2018</td>\n",
       "      <td>1_39_93</td>\n",
       "      <td>4.0.3 and up</td>\n",
       "      <td>94.0</td>\n",
       "    </tr>\n",
       "    <tr>\n",
       "      <th>1350</th>\n",
       "      <td>1917</td>\n",
       "      <td>Subway Surfers</td>\n",
       "      <td>GAME</td>\n",
       "      <td>4.5</td>\n",
       "      <td>27725352</td>\n",
       "      <td>76.00</td>\n",
       "      <td>1000000000</td>\n",
       "      <td>Free</td>\n",
       "      <td>0.0</td>\n",
       "      <td>Everyone 10+</td>\n",
       "      <td>Arcade</td>\n",
       "      <td>July 12, 2018</td>\n",
       "      <td>1.90.0</td>\n",
       "      <td>4.1 and up</td>\n",
       "      <td>76.0</td>\n",
       "    </tr>\n",
       "    <tr>\n",
       "      <th>1361</th>\n",
       "      <td>1932</td>\n",
       "      <td>Shadow Fight 2</td>\n",
       "      <td>GAME</td>\n",
       "      <td>4.6</td>\n",
       "      <td>10979062</td>\n",
       "      <td>83.35</td>\n",
       "      <td>100000000</td>\n",
       "      <td>Free</td>\n",
       "      <td>0.0</td>\n",
       "      <td>Everyone 10+</td>\n",
       "      <td>Action</td>\n",
       "      <td>July 2, 2018</td>\n",
       "      <td>1.9.38</td>\n",
       "      <td>3.0 and up</td>\n",
       "      <td>88.0</td>\n",
       "    </tr>\n",
       "    <tr>\n",
       "      <th>1388</th>\n",
       "      <td>1966</td>\n",
       "      <td>Candy Crush Saga</td>\n",
       "      <td>GAME</td>\n",
       "      <td>4.4</td>\n",
       "      <td>22430188</td>\n",
       "      <td>74.00</td>\n",
       "      <td>500000000</td>\n",
       "      <td>Free</td>\n",
       "      <td>0.0</td>\n",
       "      <td>Everyone</td>\n",
       "      <td>Casual</td>\n",
       "      <td>July 5, 2018</td>\n",
       "      <td>1.129.0.2</td>\n",
       "      <td>4.1 and up</td>\n",
       "      <td>74.0</td>\n",
       "    </tr>\n",
       "    <tr>\n",
       "      <th>1392</th>\n",
       "      <td>1970</td>\n",
       "      <td>8 Ball Pool</td>\n",
       "      <td>GAME</td>\n",
       "      <td>4.5</td>\n",
       "      <td>14201604</td>\n",
       "      <td>52.00</td>\n",
       "      <td>100000000</td>\n",
       "      <td>Free</td>\n",
       "      <td>0.0</td>\n",
       "      <td>Everyone</td>\n",
       "      <td>Sports</td>\n",
       "      <td>July 31, 2018</td>\n",
       "      <td>4.0.0</td>\n",
       "      <td>4.0.3 and up</td>\n",
       "      <td>52.0</td>\n",
       "    </tr>\n",
       "    <tr>\n",
       "      <th>2281</th>\n",
       "      <td>3239</td>\n",
       "      <td>Cache Cleaner-DU Speed Booster (booster &amp; clea...</td>\n",
       "      <td>TOOLS</td>\n",
       "      <td>4.5</td>\n",
       "      <td>12759663</td>\n",
       "      <td>15.00</td>\n",
       "      <td>100000000</td>\n",
       "      <td>Free</td>\n",
       "      <td>0.0</td>\n",
       "      <td>Everyone</td>\n",
       "      <td>Tools</td>\n",
       "      <td>July 25, 2018</td>\n",
       "      <td>3.1.2</td>\n",
       "      <td>4.0 and up</td>\n",
       "      <td>15.0</td>\n",
       "    </tr>\n",
       "    <tr>\n",
       "      <th>2668</th>\n",
       "      <td>3879</td>\n",
       "      <td>Pou</td>\n",
       "      <td>FAMILY</td>\n",
       "      <td>4.3</td>\n",
       "      <td>10483141</td>\n",
       "      <td>24.00</td>\n",
       "      <td>500000000</td>\n",
       "      <td>Free</td>\n",
       "      <td>0.0</td>\n",
       "      <td>Everyone</td>\n",
       "      <td>Casual</td>\n",
       "      <td>May 25, 2018</td>\n",
       "      <td>1.4.77</td>\n",
       "      <td>4.0 and up</td>\n",
       "      <td>24.0</td>\n",
       "    </tr>\n",
       "    <tr>\n",
       "      <th>2679</th>\n",
       "      <td>3896</td>\n",
       "      <td>Subway Surfers</td>\n",
       "      <td>GAME</td>\n",
       "      <td>4.5</td>\n",
       "      <td>27711703</td>\n",
       "      <td>76.00</td>\n",
       "      <td>1000000000</td>\n",
       "      <td>Free</td>\n",
       "      <td>0.0</td>\n",
       "      <td>Everyone 10+</td>\n",
       "      <td>Arcade</td>\n",
       "      <td>July 12, 2018</td>\n",
       "      <td>1.90.0</td>\n",
       "      <td>4.1 and up</td>\n",
       "      <td>76.0</td>\n",
       "    </tr>\n",
       "    <tr>\n",
       "      <th>2686</th>\n",
       "      <td>3908</td>\n",
       "      <td>Pokémon GO</td>\n",
       "      <td>GAME</td>\n",
       "      <td>4.1</td>\n",
       "      <td>10421284</td>\n",
       "      <td>83.35</td>\n",
       "      <td>100000000</td>\n",
       "      <td>Free</td>\n",
       "      <td>0.0</td>\n",
       "      <td>Everyone</td>\n",
       "      <td>Adventure</td>\n",
       "      <td>July 23, 2018</td>\n",
       "      <td>0.111.3</td>\n",
       "      <td>4.4 and up</td>\n",
       "      <td>85.0</td>\n",
       "    </tr>\n",
       "    <tr>\n",
       "      <th>2721</th>\n",
       "      <td>3953</td>\n",
       "      <td>8 Ball Pool</td>\n",
       "      <td>SPORTS</td>\n",
       "      <td>4.5</td>\n",
       "      <td>14184910</td>\n",
       "      <td>52.00</td>\n",
       "      <td>100000000</td>\n",
       "      <td>Free</td>\n",
       "      <td>0.0</td>\n",
       "      <td>Everyone</td>\n",
       "      <td>Sports</td>\n",
       "      <td>July 31, 2018</td>\n",
       "      <td>4.0.0</td>\n",
       "      <td>4.0.3 and up</td>\n",
       "      <td>52.0</td>\n",
       "    </tr>\n",
       "    <tr>\n",
       "      <th>2736</th>\n",
       "      <td>3971</td>\n",
       "      <td>UC Browser - Fast Download Private &amp; Secure</td>\n",
       "      <td>COMMUNICATION</td>\n",
       "      <td>4.5</td>\n",
       "      <td>17712922</td>\n",
       "      <td>40.00</td>\n",
       "      <td>500000000</td>\n",
       "      <td>Free</td>\n",
       "      <td>0.0</td>\n",
       "      <td>Teen</td>\n",
       "      <td>Communication</td>\n",
       "      <td>August 2, 2018</td>\n",
       "      <td>12.8.5.1121</td>\n",
       "      <td>4.0 and up</td>\n",
       "      <td>40.0</td>\n",
       "    </tr>\n",
       "    <tr>\n",
       "      <th>2739</th>\n",
       "      <td>3975</td>\n",
       "      <td>Hay Day</td>\n",
       "      <td>FAMILY</td>\n",
       "      <td>4.5</td>\n",
       "      <td>10053186</td>\n",
       "      <td>83.35</td>\n",
       "      <td>100000000</td>\n",
       "      <td>Free</td>\n",
       "      <td>0.0</td>\n",
       "      <td>Everyone</td>\n",
       "      <td>Casual</td>\n",
       "      <td>June 28, 2018</td>\n",
       "      <td>1_39_93</td>\n",
       "      <td>4.0.3 and up</td>\n",
       "      <td>94.0</td>\n",
       "    </tr>\n",
       "    <tr>\n",
       "      <th>2748</th>\n",
       "      <td>3986</td>\n",
       "      <td>Clash of Clans</td>\n",
       "      <td>FAMILY</td>\n",
       "      <td>4.6</td>\n",
       "      <td>44881447</td>\n",
       "      <td>83.35</td>\n",
       "      <td>100000000</td>\n",
       "      <td>Free</td>\n",
       "      <td>0.0</td>\n",
       "      <td>Everyone 10+</td>\n",
       "      <td>Strategy</td>\n",
       "      <td>July 15, 2018</td>\n",
       "      <td>10.322.16</td>\n",
       "      <td>4.1 and up</td>\n",
       "      <td>98.0</td>\n",
       "    </tr>\n",
       "    <tr>\n",
       "      <th>2749</th>\n",
       "      <td>3987</td>\n",
       "      <td>Clash Royale</td>\n",
       "      <td>FAMILY</td>\n",
       "      <td>4.6</td>\n",
       "      <td>23125280</td>\n",
       "      <td>83.35</td>\n",
       "      <td>100000000</td>\n",
       "      <td>Free</td>\n",
       "      <td>0.0</td>\n",
       "      <td>Everyone 10+</td>\n",
       "      <td>Strategy</td>\n",
       "      <td>June 27, 2018</td>\n",
       "      <td>2.3.2</td>\n",
       "      <td>4.1 and up</td>\n",
       "      <td>97.0</td>\n",
       "    </tr>\n",
       "    <tr>\n",
       "      <th>2754</th>\n",
       "      <td>3994</td>\n",
       "      <td>Candy Crush Saga</td>\n",
       "      <td>FAMILY</td>\n",
       "      <td>4.4</td>\n",
       "      <td>22419455</td>\n",
       "      <td>74.00</td>\n",
       "      <td>500000000</td>\n",
       "      <td>Free</td>\n",
       "      <td>0.0</td>\n",
       "      <td>Everyone</td>\n",
       "      <td>Casual</td>\n",
       "      <td>July 5, 2018</td>\n",
       "      <td>1.129.0.2</td>\n",
       "      <td>4.1 and up</td>\n",
       "      <td>74.0</td>\n",
       "    </tr>\n",
       "    <tr>\n",
       "      <th>5643</th>\n",
       "      <td>7937</td>\n",
       "      <td>Shadow Fight 2</td>\n",
       "      <td>GAME</td>\n",
       "      <td>4.6</td>\n",
       "      <td>10981850</td>\n",
       "      <td>83.35</td>\n",
       "      <td>100000000</td>\n",
       "      <td>Free</td>\n",
       "      <td>0.0</td>\n",
       "      <td>Everyone 10+</td>\n",
       "      <td>Action</td>\n",
       "      <td>July 2, 2018</td>\n",
       "      <td>1.9.38</td>\n",
       "      <td>3.0 and up</td>\n",
       "      <td>88.0</td>\n",
       "    </tr>\n",
       "    <tr>\n",
       "      <th>6356</th>\n",
       "      <td>8894</td>\n",
       "      <td>Cache Cleaner-DU Speed Booster (booster &amp; clea...</td>\n",
       "      <td>TOOLS</td>\n",
       "      <td>4.5</td>\n",
       "      <td>12759815</td>\n",
       "      <td>15.00</td>\n",
       "      <td>100000000</td>\n",
       "      <td>Free</td>\n",
       "      <td>0.0</td>\n",
       "      <td>Everyone</td>\n",
       "      <td>Tools</td>\n",
       "      <td>July 25, 2018</td>\n",
       "      <td>3.1.2</td>\n",
       "      <td>4.0 and up</td>\n",
       "      <td>15.0</td>\n",
       "    </tr>\n",
       "    <tr>\n",
       "      <th>6358</th>\n",
       "      <td>8896</td>\n",
       "      <td>DU Battery Saver - Battery Charger &amp; Battery Life</td>\n",
       "      <td>TOOLS</td>\n",
       "      <td>4.5</td>\n",
       "      <td>13479633</td>\n",
       "      <td>14.00</td>\n",
       "      <td>100000000</td>\n",
       "      <td>Free</td>\n",
       "      <td>0.0</td>\n",
       "      <td>Everyone</td>\n",
       "      <td>Tools</td>\n",
       "      <td>June 5, 2018</td>\n",
       "      <td>4.8.7.8</td>\n",
       "      <td>4.0 and up</td>\n",
       "      <td>14.0</td>\n",
       "    </tr>\n",
       "  </tbody>\n",
       "</table>\n",
       "</div>"
      ],
      "text/plain": [
       "      Unnamed: 0                                                App  \\\n",
       "270          378        UC Browser - Fast Download Private & Secure   \n",
       "287          420        UC Browser - Fast Download Private & Secure   \n",
       "1139        1654                                     Subway Surfers   \n",
       "1140        1655                                   Candy Crush Saga   \n",
       "1144        1660                                       Clash Royale   \n",
       "1146        1662                                                Pou   \n",
       "1154        1670                                     Clash of Clans   \n",
       "1158        1675                                        8 Ball Pool   \n",
       "1175        1700                                     Subway Surfers   \n",
       "1177        1702                                                Pou   \n",
       "1178        1703                                        8 Ball Pool   \n",
       "1179        1704                                     Clash of Clans   \n",
       "1180        1705                                   Candy Crush Saga   \n",
       "1192        1721                                       Clash Royale   \n",
       "1215        1750                                     Subway Surfers   \n",
       "1216        1751                                   Candy Crush Saga   \n",
       "1219        1755                                        8 Ball Pool   \n",
       "1222        1764                                         Pokémon GO   \n",
       "1291        1842                                   Candy Crush Saga   \n",
       "1293        1844                                        8 Ball Pool   \n",
       "1315        1869                                   Candy Crush Saga   \n",
       "1317        1871                                        8 Ball Pool   \n",
       "1318        1872                                     Subway Surfers   \n",
       "1322        1878                                       Clash Royale   \n",
       "1323        1879                                     Clash of Clans   \n",
       "1329        1885                                                Pou   \n",
       "1335        1893                                            Yes day   \n",
       "1350        1917                                     Subway Surfers   \n",
       "1361        1932                                     Shadow Fight 2   \n",
       "1388        1966                                   Candy Crush Saga   \n",
       "1392        1970                                        8 Ball Pool   \n",
       "2281        3239  Cache Cleaner-DU Speed Booster (booster & clea...   \n",
       "2668        3879                                                Pou   \n",
       "2679        3896                                     Subway Surfers   \n",
       "2686        3908                                         Pokémon GO   \n",
       "2721        3953                                        8 Ball Pool   \n",
       "2736        3971        UC Browser - Fast Download Private & Secure   \n",
       "2739        3975                                            Hay Day   \n",
       "2748        3986                                     Clash of Clans   \n",
       "2749        3987                                       Clash Royale   \n",
       "2754        3994                                   Candy Crush Saga   \n",
       "5643        7937                                     Shadow Fight 2   \n",
       "6356        8894  Cache Cleaner-DU Speed Booster (booster & clea...   \n",
       "6358        8896  DU Battery Saver - Battery Charger & Battery Life   \n",
       "\n",
       "           Category  Rating   Reviews   Size    Installs  Type  Price  \\\n",
       "270   COMMUNICATION     4.5  17712922  40.00   500000000  Free    0.0   \n",
       "287   COMMUNICATION     4.5  17714850  40.00   500000000  Free    0.0   \n",
       "1139           GAME     4.5  27722264  76.00  1000000000  Free    0.0   \n",
       "1140           GAME     4.4  22426677  74.00   500000000  Free    0.0   \n",
       "1144           GAME     4.6  23133508  83.35   100000000  Free    0.0   \n",
       "1146           GAME     4.3  10485308  24.00   500000000  Free    0.0   \n",
       "1154           GAME     4.6  44891723  83.35   100000000  Free    0.0   \n",
       "1158           GAME     4.5  14198297  52.00   100000000  Free    0.0   \n",
       "1175           GAME     4.5  27723193  76.00  1000000000  Free    0.0   \n",
       "1177           GAME     4.3  10485334  24.00   500000000  Free    0.0   \n",
       "1178           GAME     4.5  14198602  52.00   100000000  Free    0.0   \n",
       "1179           GAME     4.6  44891723  83.35   100000000  Free    0.0   \n",
       "1180           GAME     4.4  22428456  74.00   500000000  Free    0.0   \n",
       "1192           GAME     4.6  23134775  83.35   100000000  Free    0.0   \n",
       "1215           GAME     4.5  27724094  76.00  1000000000  Free    0.0   \n",
       "1216           GAME     4.4  22428456  74.00   500000000  Free    0.0   \n",
       "1219           GAME     4.5  14200344  52.00   100000000  Free    0.0   \n",
       "1222           GAME     4.1  10424925  83.35   100000000  Free    0.0   \n",
       "1291           GAME     4.4  22429716  74.00   500000000  Free    0.0   \n",
       "1293           GAME     4.5  14200550  52.00   100000000  Free    0.0   \n",
       "1315           GAME     4.4  22430188  74.00   500000000  Free    0.0   \n",
       "1317           GAME     4.5  14201891  52.00   100000000  Free    0.0   \n",
       "1318           GAME     4.5  27725352  76.00  1000000000  Free    0.0   \n",
       "1322           GAME     4.6  23136735  83.35   100000000  Free    0.0   \n",
       "1323           GAME     4.6  44893888  83.35   100000000  Free    0.0   \n",
       "1329           GAME     4.3  10486018  24.00   500000000  Free    0.0   \n",
       "1335           GAME     4.5  10055521  83.35   100000000  Free    0.0   \n",
       "1350           GAME     4.5  27725352  76.00  1000000000  Free    0.0   \n",
       "1361           GAME     4.6  10979062  83.35   100000000  Free    0.0   \n",
       "1388           GAME     4.4  22430188  74.00   500000000  Free    0.0   \n",
       "1392           GAME     4.5  14201604  52.00   100000000  Free    0.0   \n",
       "2281          TOOLS     4.5  12759663  15.00   100000000  Free    0.0   \n",
       "2668         FAMILY     4.3  10483141  24.00   500000000  Free    0.0   \n",
       "2679           GAME     4.5  27711703  76.00  1000000000  Free    0.0   \n",
       "2686           GAME     4.1  10421284  83.35   100000000  Free    0.0   \n",
       "2721         SPORTS     4.5  14184910  52.00   100000000  Free    0.0   \n",
       "2736  COMMUNICATION     4.5  17712922  40.00   500000000  Free    0.0   \n",
       "2739         FAMILY     4.5  10053186  83.35   100000000  Free    0.0   \n",
       "2748         FAMILY     4.6  44881447  83.35   100000000  Free    0.0   \n",
       "2749         FAMILY     4.6  23125280  83.35   100000000  Free    0.0   \n",
       "2754         FAMILY     4.4  22419455  74.00   500000000  Free    0.0   \n",
       "5643           GAME     4.6  10981850  83.35   100000000  Free    0.0   \n",
       "6356          TOOLS     4.5  12759815  15.00   100000000  Free    0.0   \n",
       "6358          TOOLS     4.5  13479633  14.00   100000000  Free    0.0   \n",
       "\n",
       "     Content Rating         Genres    Last Updated  Current Ver   Android Ver  \\\n",
       "270            Teen  Communication  August 2, 2018  12.8.5.1121    4.0 and up   \n",
       "287            Teen  Communication  August 2, 2018  12.8.5.1121    4.0 and up   \n",
       "1139   Everyone 10+         Arcade   July 12, 2018       1.90.0    4.1 and up   \n",
       "1140       Everyone         Casual    July 5, 2018    1.129.0.2    4.1 and up   \n",
       "1144   Everyone 10+       Strategy   June 27, 2018        2.3.2    4.1 and up   \n",
       "1146       Everyone         Casual    May 25, 2018       1.4.77    4.0 and up   \n",
       "1154   Everyone 10+       Strategy   July 15, 2018    10.322.16    4.1 and up   \n",
       "1158       Everyone         Sports   July 31, 2018        4.0.0  4.0.3 and up   \n",
       "1175   Everyone 10+         Arcade   July 12, 2018       1.90.0    4.1 and up   \n",
       "1177       Everyone         Casual    May 25, 2018       1.4.77    4.0 and up   \n",
       "1178       Everyone         Sports   July 31, 2018        4.0.0  4.0.3 and up   \n",
       "1179   Everyone 10+       Strategy   July 15, 2018    10.322.16    4.1 and up   \n",
       "1180       Everyone         Casual    July 5, 2018    1.129.0.2    4.1 and up   \n",
       "1192   Everyone 10+       Strategy   June 27, 2018        2.3.2    4.1 and up   \n",
       "1215   Everyone 10+         Arcade   July 12, 2018       1.90.0    4.1 and up   \n",
       "1216       Everyone         Casual    July 5, 2018    1.129.0.2    4.1 and up   \n",
       "1219       Everyone         Sports   July 31, 2018        4.0.0  4.0.3 and up   \n",
       "1222       Everyone      Adventure   July 23, 2018      0.111.3    4.4 and up   \n",
       "1291       Everyone         Casual    July 5, 2018    1.129.0.2    4.1 and up   \n",
       "1293       Everyone         Sports   July 31, 2018        4.0.0  4.0.3 and up   \n",
       "1315       Everyone         Casual    July 5, 2018    1.129.0.2    4.1 and up   \n",
       "1317       Everyone         Sports   July 31, 2018        4.0.0  4.0.3 and up   \n",
       "1318   Everyone 10+         Arcade   July 12, 2018       1.90.0    4.1 and up   \n",
       "1322   Everyone 10+       Strategy   June 27, 2018        2.3.2    4.1 and up   \n",
       "1323   Everyone 10+       Strategy   July 15, 2018    10.322.16    4.1 and up   \n",
       "1329       Everyone         Casual    May 25, 2018       1.4.77    4.0 and up   \n",
       "1335       Everyone         Casual   June 28, 2018      1_39_93  4.0.3 and up   \n",
       "1350   Everyone 10+         Arcade   July 12, 2018       1.90.0    4.1 and up   \n",
       "1361   Everyone 10+         Action    July 2, 2018       1.9.38    3.0 and up   \n",
       "1388       Everyone         Casual    July 5, 2018    1.129.0.2    4.1 and up   \n",
       "1392       Everyone         Sports   July 31, 2018        4.0.0  4.0.3 and up   \n",
       "2281       Everyone          Tools   July 25, 2018        3.1.2    4.0 and up   \n",
       "2668       Everyone         Casual    May 25, 2018       1.4.77    4.0 and up   \n",
       "2679   Everyone 10+         Arcade   July 12, 2018       1.90.0    4.1 and up   \n",
       "2686       Everyone      Adventure   July 23, 2018      0.111.3    4.4 and up   \n",
       "2721       Everyone         Sports   July 31, 2018        4.0.0  4.0.3 and up   \n",
       "2736           Teen  Communication  August 2, 2018  12.8.5.1121    4.0 and up   \n",
       "2739       Everyone         Casual   June 28, 2018      1_39_93  4.0.3 and up   \n",
       "2748   Everyone 10+       Strategy   July 15, 2018    10.322.16    4.1 and up   \n",
       "2749   Everyone 10+       Strategy   June 27, 2018        2.3.2    4.1 and up   \n",
       "2754       Everyone         Casual    July 5, 2018    1.129.0.2    4.1 and up   \n",
       "5643   Everyone 10+         Action    July 2, 2018       1.9.38    3.0 and up   \n",
       "6356       Everyone          Tools   July 25, 2018        3.1.2    4.0 and up   \n",
       "6358       Everyone          Tools    June 5, 2018      4.8.7.8    4.0 and up   \n",
       "\n",
       "      Cleaned_Size  \n",
       "270           40.0  \n",
       "287           40.0  \n",
       "1139          76.0  \n",
       "1140          74.0  \n",
       "1144          97.0  \n",
       "1146          24.0  \n",
       "1154          98.0  \n",
       "1158          52.0  \n",
       "1175          76.0  \n",
       "1177          24.0  \n",
       "1178          52.0  \n",
       "1179          98.0  \n",
       "1180          74.0  \n",
       "1192          97.0  \n",
       "1215          76.0  \n",
       "1216          74.0  \n",
       "1219          52.0  \n",
       "1222          85.0  \n",
       "1291          74.0  \n",
       "1293          52.0  \n",
       "1315          74.0  \n",
       "1317          52.0  \n",
       "1318          76.0  \n",
       "1322          97.0  \n",
       "1323          98.0  \n",
       "1329          24.0  \n",
       "1335          94.0  \n",
       "1350          76.0  \n",
       "1361          88.0  \n",
       "1388          74.0  \n",
       "1392          52.0  \n",
       "2281          15.0  \n",
       "2668          24.0  \n",
       "2679          76.0  \n",
       "2686          85.0  \n",
       "2721          52.0  \n",
       "2736          40.0  \n",
       "2739          94.0  \n",
       "2748          98.0  \n",
       "2749          97.0  \n",
       "2754          74.0  \n",
       "5643          88.0  \n",
       "6356          15.0  \n",
       "6358          14.0  "
      ]
     },
     "execution_count": 19,
     "metadata": {},
     "output_type": "execute_result"
    }
   ],
   "source": [
    "#Drop the above records\n",
    "inp0.drop(inp0[inp0['Reviews']<10000000].index)\n"
   ]
  },
  {
   "cell_type": "code",
   "execution_count": 20,
   "metadata": {},
   "outputs": [
    {
     "data": {
      "text/plain": [
       "(7729, 15)"
      ]
     },
     "execution_count": 20,
     "metadata": {},
     "output_type": "execute_result"
    }
   ],
   "source": [
    "inp0.shape"
   ]
  },
  {
   "cell_type": "code",
   "execution_count": 213,
   "metadata": {},
   "outputs": [
    {
     "data": {
      "text/plain": [
       "(array([2757., 1292.,  936.,  610.,  499.,  372.,  261.,  200.,  179.,\n",
       "         623.]),\n",
       " array([ 1.   ,  9.235, 17.47 , 25.705, 33.94 , 42.175, 50.41 , 58.645,\n",
       "        66.88 , 75.115, 83.35 ]),\n",
       " <BarContainer object of 10 artists>)"
      ]
     },
     "execution_count": 213,
     "metadata": {},
     "output_type": "execute_result"
    },
    {
     "data": {
      "image/png": "[encoded data removed]",
      "text/plain": [
       "<Figure size 400x200 with 1 Axes>"
      ]
     },
     "metadata": {},
     "output_type": "display_data"
    }
   ],
   "source": [
    "plt.figure(figsize=(4,2))\n",
    "\n",
    "plt.hist(inp0.Size,bins=10)\n"
   ]
  },
  {
   "cell_type": "code",
   "execution_count": 22,
   "metadata": {},
   "outputs": [
    {
     "data": {
      "image/png": "[encoded data removed]",
      "text/plain": [
       "<Figure size 500x300 with 1 Axes>"
      ]
     },
     "metadata": {},
     "output_type": "display_data"
    }
   ],
   "source": [
    "plt.figure(figsize=(5,3))\n",
    "plt.boxplot(inp0.Size)\n",
    "plt.show()"
   ]
  },
  {
   "cell_type": "code",
   "execution_count": 23,
   "metadata": {
    "id": "Sr-vuh9PT1KY"
   },
   "outputs": [],
   "source": [
    "#Question - Create a histogram again and check the peaks\n",
    "\n"
   ]
  },
  {
   "cell_type": "code",
   "execution_count": 24,
   "metadata": {
    "id": "d-C-qDlWT1KZ"
   },
   "outputs": [],
   "source": [
    "#Question - Create a box plot for the Installs column and report back the IQR\n",
    "\n",
    "\n"
   ]
  },
  {
   "cell_type": "code",
   "execution_count": 25,
   "metadata": {
    "id": "04eVNzt2T1KZ"
   },
   "outputs": [],
   "source": [
    "#Question - CLean the Installs by removing all the apps having more than or equal to 100 million installs"
   ]
  },
  {
   "cell_type": "code",
   "execution_count": 26,
   "metadata": {
    "id": "z92cZcWET1KZ"
   },
   "outputs": [],
   "source": [
    "#Plot a histogram for Size as well.\n"
   ]
  },
  {
   "cell_type": "code",
   "execution_count": 27,
   "metadata": {
    "id": "o7bHpPUCT1Ka"
   },
   "outputs": [],
   "source": [
    "#Question - Create a boxplot for the Size column and report back the median value"
   ]
  },
  {
   "cell_type": "markdown",
   "metadata": {
    "id": "7NjablDxT1Ka"
   },
   "source": [
    "### Section 2 - Data Visualisation with Seaborn"
   ]
  },
  {
   "cell_type": "markdown",
   "metadata": {
    "id": "S6is9lE2T1Ka"
   },
   "source": [
    "Seaborn is Python library to create statistical graphs easily. It is built on top of matplotlib and closely integrated with pandas.\n",
    "\n",
    "_Functionalities of Seaborn_ :\n",
    "\n",
    "- Dataset oriented API\n",
    "- Analysing univariate and bivariate distributions\n",
    "- Automatic estimation and plotting of  linear regression models\n",
    "- Convenient views for complex datasets\n",
    "- Concise control over style\n",
    "- Colour palettes\n"
   ]
  },
  {
   "cell_type": "code",
   "execution_count": 30,
   "metadata": {
    "id": "V7DAL1XOT1Kb"
   },
   "outputs": [],
   "source": [
    "#import the necessary libraries\n",
    "import numpy as np \n",
    "import pandas as pd\n",
    "import matplotlib.pyplot as plt\n",
    "import seaborn as sb"
   ]
  },
  {
   "cell_type": "code",
   "execution_count": 31,
   "metadata": {},
   "outputs": [],
   "source": [
    "import warnings\n",
    "warnings.filterwarnings('ignore')"
   ]
  },
  {
   "cell_type": "markdown",
   "metadata": {
    "id": "6ZZhcLKQT1Kb"
   },
   "source": [
    "#### Distribution Plots"
   ]
  },
  {
   "cell_type": "markdown",
   "metadata": {
    "id": "5u4zc1VtT1Kc"
   },
   "source": [
    "A distribution plot is pretty similar to the histogram functionality in matplotlib. Instead of a frequency plot, it plots an approximate probability density for that rating bucket. And the curve (or the __KDE__) that gets drawn over the distribution is the approximate probability density curve.\n",
    "\n",
    "The following is an example of a distribution plot. Notice that now instead of frequency on the left axis, it has the density for each bin or bucket."
   ]
  },
  {
   "cell_type": "markdown",
   "metadata": {
    "id": "QSX2rsq3T1Kc"
   },
   "source": [
    "![Distplot](images\\Distplot.png)"
   ]
  },
  {
   "cell_type": "markdown",
   "metadata": {
    "id": "Ne1Q5FsPT1Kc"
   },
   "source": [
    "You'll be using sns.distplot for plotting a distribution plot. Check out its official documentation: https://seaborn.pydata.org/generated/seaborn.distplot.html"
   ]
  },
  {
   "cell_type": "code",
   "execution_count": 207,
   "metadata": {
    "id": "7wh1rBDHT1Kg"
   },
   "outputs": [
    {
     "data": {
      "image/png": "[encoded data removed]",
      "text/plain": [
       "<Figure size 400x200 with 1 Axes>"
      ]
     },
     "metadata": {},
     "output_type": "display_data"
    }
   ],
   "source": [
    "#Create a distribution plot for rating\n",
    "plt.figure(figsize=(4,2))\n",
    "\n",
    "sb.distplot(inp0.Rating)\n",
    "plt.show()"
   ]
  },
  {
   "cell_type": "code",
   "execution_count": 205,
   "metadata": {
    "id": "TVWZsmYST1Kh"
   },
   "outputs": [
    {
     "data": {
      "image/png": "[encoded data removed]",
      "text/plain": [
       "<Figure size 400x200 with 1 Axes>"
      ]
     },
     "metadata": {},
     "output_type": "display_data"
    }
   ],
   "source": [
    "#Change the number of bins\n",
    "plt.figure(figsize=(4,2))\n",
    "\n",
    "sb.distplot(inp0.Rating,bins=20)\n",
    "plt.show()\n"
   ]
  },
  {
   "cell_type": "code",
   "execution_count": 203,
   "metadata": {},
   "outputs": [
    {
     "data": {
      "image/png": "[encoded data removed]",
      "text/plain": [
       "<Figure size 400x200 with 1 Axes>"
      ]
     },
     "metadata": {},
     "output_type": "display_data"
    }
   ],
   "source": [
    "# change the position of plot\n",
    "plt.figure(figsize=(4,2))\n",
    "\n",
    "sb.distplot(inp0.Rating,bins=40,vertical=True)\n",
    "plt.show()"
   ]
  },
  {
   "cell_type": "code",
   "execution_count": 201,
   "metadata": {
    "id": "rNJE4lCaT1Kh"
   },
   "outputs": [
    {
     "data": {
      "image/png": "[encoded data removed]",
      "text/plain": [
       "<Figure size 400x200 with 1 Axes>"
      ]
     },
     "metadata": {},
     "output_type": "display_data"
    }
   ],
   "source": [
    "#Change the colour of bins to green\n",
    "plt.figure(figsize=(4,2))\n",
    "\n",
    "sb.distplot(inp0.Rating,bins=20,color = 'red')\n",
    "plt.show()"
   ]
  },
  {
   "cell_type": "code",
   "execution_count": 199,
   "metadata": {
    "id": "tKNwEmznT1Ki"
   },
   "outputs": [
    {
     "data": {
      "image/png": "[encoded data removed]",
      "text/plain": [
       "<Figure size 400x200 with 1 Axes>"
      ]
     },
     "metadata": {},
     "output_type": "display_data"
    }
   ],
   "source": [
    "#Apply matplotlib functionalities\n",
    "plt.figure(figsize=(4,2))\n",
    "\n",
    "sb.distplot(inp0.Rating,bins=20,color = 'red')\n",
    "plt.title('RATING PLOT',color = 'blue',size = 20)\n",
    "plt.show()\n"
   ]
  },
  {
   "cell_type": "markdown",
   "metadata": {
    "id": "zOS10QhZT1Ki"
   },
   "source": [
    "# Styling Options\n",
    "\n",
    "One of the biggest advantages of using Seaborn is that you can retain its aesthetic properties and also the Matplotlib functionalities to perform additional customisations. Before we continue with our case study analysis, let’s study some styling options that are available in Seaborn."
   ]
  },
  {
   "cell_type": "markdown",
   "metadata": {
    "id": "eo2TBAO6T1Ki"
   },
   "source": [
    "-  Check out the official documentation:https://seaborn.pydata.org/generated/seaborn.set_style.html"
   ]
  },
  {
   "cell_type": "code",
   "execution_count": 197,
   "metadata": {
    "id": "zfS_xHvqT1Kj"
   },
   "outputs": [
    {
     "data": {
      "image/png": "[encoded data removed]",
      "text/plain": [
       "<Figure size 400x200 with 1 Axes>"
      ]
     },
     "metadata": {},
     "output_type": "display_data"
    }
   ],
   "source": [
    "#Check all the styling options\n",
    "plt.figure(figsize=(4,2))\n",
    "sb.set_style('dark')\n",
    "sb.distplot(inp0.Rating,bins=20,color = 'red')\n",
    "plt.title('RATING PLOT',color = 'blue',size = 20)\n",
    "plt.show()\n"
   ]
  },
  {
   "cell_type": "code",
   "execution_count": 217,
   "metadata": {},
   "outputs": [
    {
     "data": {
      "image/png": "[encoded data removed]",
      "text/plain": [
       "<Figure size 400x200 with 1 Axes>"
      ]
     },
     "metadata": {},
     "output_type": "display_data"
    }
   ],
   "source": [
    "plt.figure(figsize=(4,2))\n",
    "\n",
    "sb.set_style('white')\n",
    "sb.distplot(inp0.Rating,bins=20,color = 'red')\n",
    "plt.title('RATING PLOT',color = 'blue',size = 20)\n",
    "plt.show()"
   ]
  },
  {
   "cell_type": "markdown",
   "metadata": {},
   "source": [
    "### check the available style in matplotlib and use in seaborn"
   ]
  },
  {
   "cell_type": "code",
   "execution_count": 224,
   "metadata": {},
   "outputs": [
    {
     "data": {
      "text/plain": [
       "['Solarize_Light2',\n",
       " '_classic_test_patch',\n",
       " '_mpl-gallery',\n",
       " '_mpl-gallery-nogrid',\n",
       " 'bmh',\n",
       " 'classic',\n",
       " 'dark_background',\n",
       " 'fast',\n",
       " 'fivethirtyeight',\n",
       " 'ggplot',\n",
       " 'grayscale',\n",
       " 'petroff10',\n",
       " 'seaborn-v0_8',\n",
       " 'seaborn-v0_8-bright',\n",
       " 'seaborn-v0_8-colorblind',\n",
       " 'seaborn-v0_8-dark',\n",
       " 'seaborn-v0_8-dark-palette',\n",
       " 'seaborn-v0_8-darkgrid',\n",
       " 'seaborn-v0_8-deep',\n",
       " 'seaborn-v0_8-muted',\n",
       " 'seaborn-v0_8-notebook',\n",
       " 'seaborn-v0_8-paper',\n",
       " 'seaborn-v0_8-pastel',\n",
       " 'seaborn-v0_8-poster',\n",
       " 'seaborn-v0_8-talk',\n",
       " 'seaborn-v0_8-ticks',\n",
       " 'seaborn-v0_8-white',\n",
       " 'seaborn-v0_8-whitegrid',\n",
       " 'tableau-colorblind10']"
      ]
     },
     "execution_count": 224,
     "metadata": {},
     "output_type": "execute_result"
    }
   ],
   "source": [
    "plt.style.available"
   ]
  },
  {
   "cell_type": "code",
   "execution_count": 232,
   "metadata": {},
   "outputs": [
    {
     "data": {
      "image/png": "[encoded data removed]",
      "text/plain": [
       "<Figure size 200x100 with 1 Axes>"
      ]
     },
     "metadata": {},
     "output_type": "display_data"
    }
   ],
   "source": [
    "plt.figure(figsize=(2,1))\n",
    "plt.style.use('tableau-colorblind10')\n",
    "sb.distplot(inp0.Rating,bins=20,color = 'red')\n",
    "plt.title('RATING PLOT',color = 'blue',size = 20)\n",
    "plt.show()"
   ]
  },
  {
   "cell_type": "code",
   "execution_count": 238,
   "metadata": {},
   "outputs": [
    {
     "data": {
      "image/png": "[encoded data removed]",
      "text/plain": [
       "<Figure size 400x200 with 1 Axes>"
      ]
     },
     "metadata": {},
     "output_type": "display_data"
    }
   ],
   "source": [
    "plt.figure(figsize=(4,2))\n",
    "plt.style.use('ggplot')\n",
    "sb.distplot(inp0.Rating,bins=20,color = 'red')\n",
    "plt.title('RATING PLOT',color = 'blue',size = 20)\n",
    "plt.show()"
   ]
  },
  {
   "cell_type": "code",
   "execution_count": 242,
   "metadata": {},
   "outputs": [
    {
     "data": {
      "image/png": "[encoded data removed]",
      "text/plain": [
       "<Figure size 400x200 with 1 Axes>"
      ]
     },
     "metadata": {},
     "output_type": "display_data"
    }
   ],
   "source": [
    "plt.figure(figsize=(4,2))\n",
    "plt.style.use('dark_background')\n",
    "sb.distplot(inp0.Rating,bins=20,color = 'red')\n",
    "plt.title('RATING PLOT',color = 'blue',size = 20)\n",
    "plt.show()"
   ]
  },
  {
   "cell_type": "markdown",
   "metadata": {},
   "source": [
    "## restart the style in matplolib"
   ]
  },
  {
   "cell_type": "code",
   "execution_count": 302,
   "metadata": {},
   "outputs": [],
   "source": [
    "plt.style.use('default')\n",
    "%matplotlib inline"
   ]
  },
  {
   "cell_type": "code",
   "execution_count": 257,
   "metadata": {
    "id": "0AAJf8SkT1Kj"
   },
   "outputs": [
    {
     "data": {
      "text/html": [
       "<div>\n",
       "<style scoped>\n",
       "    .dataframe tbody tr th:only-of-type {\n",
       "        vertical-align: middle;\n",
       "    }\n",
       "\n",
       "    .dataframe tbody tr th {\n",
       "        vertical-align: top;\n",
       "    }\n",
       "\n",
       "    .dataframe thead th {\n",
       "        text-align: right;\n",
       "    }\n",
       "</style>\n",
       "<table border=\"1\" class=\"dataframe\">\n",
       "  <thead>\n",
       "    <tr style=\"text-align: right;\">\n",
       "      <th></th>\n",
       "      <th>Unnamed: 0</th>\n",
       "      <th>App</th>\n",
       "      <th>Category</th>\n",
       "      <th>Rating</th>\n",
       "      <th>Reviews</th>\n",
       "      <th>Size</th>\n",
       "      <th>Installs</th>\n",
       "      <th>Type</th>\n",
       "      <th>Price</th>\n",
       "      <th>Content Rating</th>\n",
       "      <th>Genres</th>\n",
       "      <th>Last Updated</th>\n",
       "      <th>Current Ver</th>\n",
       "      <th>Android Ver</th>\n",
       "      <th>Cleaned_Size</th>\n",
       "    </tr>\n",
       "  </thead>\n",
       "  <tbody>\n",
       "    <tr>\n",
       "      <th>0</th>\n",
       "      <td>0</td>\n",
       "      <td>Photo Editor &amp; Candy Camera &amp; Grid &amp; ScrapBook</td>\n",
       "      <td>ART_AND_DESIGN</td>\n",
       "      <td>4.1</td>\n",
       "      <td>159</td>\n",
       "      <td>19.00</td>\n",
       "      <td>10000</td>\n",
       "      <td>Free</td>\n",
       "      <td>0.0</td>\n",
       "      <td>Everyone</td>\n",
       "      <td>Art &amp; Design</td>\n",
       "      <td>January 7, 2018</td>\n",
       "      <td>1.0.0</td>\n",
       "      <td>4.0.3 and up</td>\n",
       "      <td>19.0</td>\n",
       "    </tr>\n",
       "    <tr>\n",
       "      <th>1</th>\n",
       "      <td>1</td>\n",
       "      <td>Coloring book moana</td>\n",
       "      <td>ART_AND_DESIGN</td>\n",
       "      <td>3.9</td>\n",
       "      <td>967</td>\n",
       "      <td>14.00</td>\n",
       "      <td>500000</td>\n",
       "      <td>Free</td>\n",
       "      <td>0.0</td>\n",
       "      <td>Everyone</td>\n",
       "      <td>Art &amp; Design;Pretend Play</td>\n",
       "      <td>January 15, 2018</td>\n",
       "      <td>2.0.0</td>\n",
       "      <td>4.0.3 and up</td>\n",
       "      <td>14.0</td>\n",
       "    </tr>\n",
       "    <tr>\n",
       "      <th>2</th>\n",
       "      <td>2</td>\n",
       "      <td>U Launcher Lite – FREE Live Cool Themes, Hide ...</td>\n",
       "      <td>ART_AND_DESIGN</td>\n",
       "      <td>4.7</td>\n",
       "      <td>87510</td>\n",
       "      <td>8.70</td>\n",
       "      <td>5000000</td>\n",
       "      <td>Free</td>\n",
       "      <td>0.0</td>\n",
       "      <td>Everyone</td>\n",
       "      <td>Art &amp; Design</td>\n",
       "      <td>August 1, 2018</td>\n",
       "      <td>1.2.4</td>\n",
       "      <td>4.0.3 and up</td>\n",
       "      <td>8.7</td>\n",
       "    </tr>\n",
       "    <tr>\n",
       "      <th>3</th>\n",
       "      <td>3</td>\n",
       "      <td>Sketch - Draw &amp; Paint</td>\n",
       "      <td>ART_AND_DESIGN</td>\n",
       "      <td>4.5</td>\n",
       "      <td>215644</td>\n",
       "      <td>25.00</td>\n",
       "      <td>50000000</td>\n",
       "      <td>Free</td>\n",
       "      <td>0.0</td>\n",
       "      <td>Teen</td>\n",
       "      <td>Art &amp; Design</td>\n",
       "      <td>June 8, 2018</td>\n",
       "      <td>Varies with device</td>\n",
       "      <td>4.2 and up</td>\n",
       "      <td>25.0</td>\n",
       "    </tr>\n",
       "    <tr>\n",
       "      <th>4</th>\n",
       "      <td>4</td>\n",
       "      <td>Pixel Draw - Number Art Coloring Book</td>\n",
       "      <td>ART_AND_DESIGN</td>\n",
       "      <td>4.3</td>\n",
       "      <td>967</td>\n",
       "      <td>2.80</td>\n",
       "      <td>100000</td>\n",
       "      <td>Free</td>\n",
       "      <td>0.0</td>\n",
       "      <td>Everyone</td>\n",
       "      <td>Art &amp; Design;Creativity</td>\n",
       "      <td>June 20, 2018</td>\n",
       "      <td>1.1</td>\n",
       "      <td>4.4 and up</td>\n",
       "      <td>2.8</td>\n",
       "    </tr>\n",
       "    <tr>\n",
       "      <th>...</th>\n",
       "      <td>...</td>\n",
       "      <td>...</td>\n",
       "      <td>...</td>\n",
       "      <td>...</td>\n",
       "      <td>...</td>\n",
       "      <td>...</td>\n",
       "      <td>...</td>\n",
       "      <td>...</td>\n",
       "      <td>...</td>\n",
       "      <td>...</td>\n",
       "      <td>...</td>\n",
       "      <td>...</td>\n",
       "      <td>...</td>\n",
       "      <td>...</td>\n",
       "      <td>...</td>\n",
       "    </tr>\n",
       "    <tr>\n",
       "      <th>7724</th>\n",
       "      <td>10833</td>\n",
       "      <td>Chemin (fr)</td>\n",
       "      <td>BOOKS_AND_REFERENCE</td>\n",
       "      <td>4.8</td>\n",
       "      <td>44</td>\n",
       "      <td>83.35</td>\n",
       "      <td>1000</td>\n",
       "      <td>Free</td>\n",
       "      <td>0.0</td>\n",
       "      <td>Everyone</td>\n",
       "      <td>Books &amp; Reference</td>\n",
       "      <td>March 23, 2014</td>\n",
       "      <td>0.8</td>\n",
       "      <td>2.2 and up</td>\n",
       "      <td>619.0</td>\n",
       "    </tr>\n",
       "    <tr>\n",
       "      <th>7725</th>\n",
       "      <td>10834</td>\n",
       "      <td>FR Calculator</td>\n",
       "      <td>FAMILY</td>\n",
       "      <td>4.0</td>\n",
       "      <td>7</td>\n",
       "      <td>2.60</td>\n",
       "      <td>500</td>\n",
       "      <td>Free</td>\n",
       "      <td>0.0</td>\n",
       "      <td>Everyone</td>\n",
       "      <td>Education</td>\n",
       "      <td>June 18, 2017</td>\n",
       "      <td>1.0.0</td>\n",
       "      <td>4.1 and up</td>\n",
       "      <td>2.6</td>\n",
       "    </tr>\n",
       "    <tr>\n",
       "      <th>7726</th>\n",
       "      <td>10836</td>\n",
       "      <td>Sya9a Maroc - FR</td>\n",
       "      <td>FAMILY</td>\n",
       "      <td>4.5</td>\n",
       "      <td>38</td>\n",
       "      <td>53.00</td>\n",
       "      <td>5000</td>\n",
       "      <td>Free</td>\n",
       "      <td>0.0</td>\n",
       "      <td>Everyone</td>\n",
       "      <td>Education</td>\n",
       "      <td>July 25, 2017</td>\n",
       "      <td>1.48</td>\n",
       "      <td>4.1 and up</td>\n",
       "      <td>53.0</td>\n",
       "    </tr>\n",
       "    <tr>\n",
       "      <th>7727</th>\n",
       "      <td>10837</td>\n",
       "      <td>Fr. Mike Schmitz Audio Teachings</td>\n",
       "      <td>FAMILY</td>\n",
       "      <td>5.0</td>\n",
       "      <td>4</td>\n",
       "      <td>3.60</td>\n",
       "      <td>100</td>\n",
       "      <td>Free</td>\n",
       "      <td>0.0</td>\n",
       "      <td>Everyone</td>\n",
       "      <td>Education</td>\n",
       "      <td>July 6, 2018</td>\n",
       "      <td>1.0</td>\n",
       "      <td>4.1 and up</td>\n",
       "      <td>3.6</td>\n",
       "    </tr>\n",
       "    <tr>\n",
       "      <th>7728</th>\n",
       "      <td>10840</td>\n",
       "      <td>iHoroscope - 2018 Daily Horoscope &amp; Astrology</td>\n",
       "      <td>LIFESTYLE</td>\n",
       "      <td>4.5</td>\n",
       "      <td>398307</td>\n",
       "      <td>19.00</td>\n",
       "      <td>10000000</td>\n",
       "      <td>Free</td>\n",
       "      <td>0.0</td>\n",
       "      <td>Everyone</td>\n",
       "      <td>Lifestyle</td>\n",
       "      <td>July 25, 2018</td>\n",
       "      <td>Varies with device</td>\n",
       "      <td>Varies with device</td>\n",
       "      <td>19.0</td>\n",
       "    </tr>\n",
       "  </tbody>\n",
       "</table>\n",
       "<p>7729 rows × 15 columns</p>\n",
       "</div>"
      ],
      "text/plain": [
       "      Unnamed: 0                                                App  \\\n",
       "0              0     Photo Editor & Candy Camera & Grid & ScrapBook   \n",
       "1              1                                Coloring book moana   \n",
       "2              2  U Launcher Lite – FREE Live Cool Themes, Hide ...   \n",
       "3              3                              Sketch - Draw & Paint   \n",
       "4              4              Pixel Draw - Number Art Coloring Book   \n",
       "...          ...                                                ...   \n",
       "7724       10833                                        Chemin (fr)   \n",
       "7725       10834                                      FR Calculator   \n",
       "7726       10836                                   Sya9a Maroc - FR   \n",
       "7727       10837                   Fr. Mike Schmitz Audio Teachings   \n",
       "7728       10840      iHoroscope - 2018 Daily Horoscope & Astrology   \n",
       "\n",
       "                 Category  Rating  Reviews   Size  Installs  Type  Price  \\\n",
       "0          ART_AND_DESIGN     4.1      159  19.00     10000  Free    0.0   \n",
       "1          ART_AND_DESIGN     3.9      967  14.00    500000  Free    0.0   \n",
       "2          ART_AND_DESIGN     4.7    87510   8.70   5000000  Free    0.0   \n",
       "3          ART_AND_DESIGN     4.5   215644  25.00  50000000  Free    0.0   \n",
       "4          ART_AND_DESIGN     4.3      967   2.80    100000  Free    0.0   \n",
       "...                   ...     ...      ...    ...       ...   ...    ...   \n",
       "7724  BOOKS_AND_REFERENCE     4.8       44  83.35      1000  Free    0.0   \n",
       "7725               FAMILY     4.0        7   2.60       500  Free    0.0   \n",
       "7726               FAMILY     4.5       38  53.00      5000  Free    0.0   \n",
       "7727               FAMILY     5.0        4   3.60       100  Free    0.0   \n",
       "7728            LIFESTYLE     4.5   398307  19.00  10000000  Free    0.0   \n",
       "\n",
       "     Content Rating                     Genres      Last Updated  \\\n",
       "0          Everyone               Art & Design   January 7, 2018   \n",
       "1          Everyone  Art & Design;Pretend Play  January 15, 2018   \n",
       "2          Everyone               Art & Design    August 1, 2018   \n",
       "3              Teen               Art & Design      June 8, 2018   \n",
       "4          Everyone    Art & Design;Creativity     June 20, 2018   \n",
       "...             ...                        ...               ...   \n",
       "7724       Everyone          Books & Reference    March 23, 2014   \n",
       "7725       Everyone                  Education     June 18, 2017   \n",
       "7726       Everyone                  Education     July 25, 2017   \n",
       "7727       Everyone                  Education      July 6, 2018   \n",
       "7728       Everyone                  Lifestyle     July 25, 2018   \n",
       "\n",
       "             Current Ver         Android Ver  Cleaned_Size  \n",
       "0                  1.0.0        4.0.3 and up          19.0  \n",
       "1                  2.0.0        4.0.3 and up          14.0  \n",
       "2                  1.2.4        4.0.3 and up           8.7  \n",
       "3     Varies with device          4.2 and up          25.0  \n",
       "4                    1.1          4.4 and up           2.8  \n",
       "...                  ...                 ...           ...  \n",
       "7724                 0.8          2.2 and up         619.0  \n",
       "7725               1.0.0          4.1 and up           2.6  \n",
       "7726                1.48          4.1 and up          53.0  \n",
       "7727                 1.0          4.1 and up           3.6  \n",
       "7728  Varies with device  Varies with device          19.0  \n",
       "\n",
       "[7729 rows x 15 columns]"
      ]
     },
     "execution_count": 257,
     "metadata": {},
     "output_type": "execute_result"
    }
   ],
   "source": [
    "inp0"
   ]
  },
  {
   "cell_type": "markdown",
   "metadata": {
    "id": "fZdnBPbFT1Kj"
   },
   "source": [
    "#### Pie-Chart and Bar Chart"
   ]
  },
  {
   "cell_type": "markdown",
   "metadata": {
    "id": "pdCZlyipT1Kk"
   },
   "source": [
    "For analysing how a numeric variable changes across several categories of a categorical variable you utilise either a pie chart or a box plot"
   ]
  },
  {
   "cell_type": "markdown",
   "metadata": {
    "id": "1ygQSkbpT1Kk"
   },
   "source": [
    "For example, if you want to visualise the responses of a marketing campaign, you can use the following views:"
   ]
  },
  {
   "cell_type": "markdown",
   "metadata": {
    "id": "WU9SIqA2T1Kk"
   },
   "source": [
    "![PieChart](images\\pie.png)"
   ]
  },
  {
   "cell_type": "markdown",
   "metadata": {
    "id": "egMrhN8sT1Kl"
   },
   "source": [
    "![barChart](images\\bar.png)"
   ]
  },
  {
   "cell_type": "markdown",
   "metadata": {
    "id": "ga2_3CrCT1Kl"
   },
   "source": [
    "- You'll be using the pandas method of plotting both a pie chart and a bar chart. Check out their official documentations:\n",
    "   - https://pandas.pydata.org/pandas-docs/stable/reference/api/pandas.DataFrame.plot.bar.html\n",
    "   - https://pandas.pydata.org/pandas-docs/stable/reference/api/pandas.DataFrame.plot.pie.html"
   ]
  },
  {
   "cell_type": "code",
   "execution_count": 275,
   "metadata": {},
   "outputs": [
    {
     "name": "stdout",
     "output_type": "stream",
     "text": [
      "<class 'pandas.core.frame.DataFrame'>\n",
      "Index: 7726 entries, 0 to 7728\n",
      "Data columns (total 15 columns):\n",
      " #   Column          Non-Null Count  Dtype  \n",
      "---  ------          --------------  -----  \n",
      " 0   Unnamed: 0      7726 non-null   int64  \n",
      " 1   App             7726 non-null   object \n",
      " 2   Category        7726 non-null   object \n",
      " 3   Rating          7726 non-null   float64\n",
      " 4   Reviews         7726 non-null   int64  \n",
      " 5   Size            7726 non-null   float64\n",
      " 6   Installs        7726 non-null   int64  \n",
      " 7   Type            7726 non-null   object \n",
      " 8   Price           7726 non-null   float64\n",
      " 9   Content Rating  7726 non-null   object \n",
      " 10  Genres          7726 non-null   object \n",
      " 11  Last Updated    7726 non-null   object \n",
      " 12  Current Ver     7726 non-null   object \n",
      " 13  Android Ver     7726 non-null   object \n",
      " 14  Cleaned_Size    7726 non-null   float64\n",
      "dtypes: float64(4), int64(3), object(8)\n",
      "memory usage: 965.8+ KB\n"
     ]
    }
   ],
   "source": [
    "inp0.info()"
   ]
  },
  {
   "cell_type": "code",
   "execution_count": 265,
   "metadata": {
    "id": "rHz-IYi_T1Kl"
   },
   "outputs": [
    {
     "data": {
      "text/plain": [
       "Content Rating\n",
       "Everyone           6172\n",
       "Teen                868\n",
       "Mature 17+          368\n",
       "Everyone 10+        318\n",
       "Adults only 18+       2\n",
       "Unrated               1\n",
       "Name: count, dtype: int64"
      ]
     },
     "execution_count": 265,
     "metadata": {},
     "output_type": "execute_result"
    }
   ],
   "source": [
    "#Analyse the Content Rating column\n",
    "inp0['Content Rating'].value_counts()"
   ]
  },
  {
   "cell_type": "code",
   "execution_count": 271,
   "metadata": {
    "id": "_Eu6xfQbT1Km"
   },
   "outputs": [],
   "source": [
    "#Remove the rows with values which are less represented\n",
    "inp0=inp0[~inp0['Content Rating'].isin(['Adults only 18+','Unrated'])]\n"
   ]
  },
  {
   "cell_type": "code",
   "execution_count": 273,
   "metadata": {
    "id": "aIx3aaRQT1Km"
   },
   "outputs": [
    {
     "data": {
      "text/plain": [
       "Content Rating\n",
       "Everyone        6172\n",
       "Teen             868\n",
       "Mature 17+       368\n",
       "Everyone 10+     318\n",
       "Name: count, dtype: int64"
      ]
     },
     "execution_count": 273,
     "metadata": {},
     "output_type": "execute_result"
    }
   ],
   "source": [
    "inp0['Content Rating'].value_counts()"
   ]
  },
  {
   "cell_type": "code",
   "execution_count": 285,
   "metadata": {},
   "outputs": [],
   "source": [
    "#Reset the index\n",
    "inp0.reset_index(inplace=True,drop=True)"
   ]
  },
  {
   "cell_type": "code",
   "execution_count": 54,
   "metadata": {
    "id": "l0ROava3T1Km"
   },
   "outputs": [],
   "source": [
    "#Check the apps belonging to different categories of Content Rating\n"
   ]
  },
  {
   "cell_type": "code",
   "execution_count": 304,
   "metadata": {
    "id": "y0bs03nCT1Kn"
   },
   "outputs": [
    {
     "data": {
      "image/png": "[encoded data removed]",
      "text/plain": [
       "<Figure size 640x480 with 1 Axes>"
      ]
     },
     "metadata": {},
     "output_type": "display_data"
    }
   ],
   "source": [
    "#Plot a pie chart\n",
    "plt.pie(inp0['Content Rating'].value_counts())\n",
    "plt.show()"
   ]
  },
  {
   "cell_type": "code",
   "execution_count": 310,
   "metadata": {},
   "outputs": [
    {
     "data": {
      "image/png": "[encoded data removed]",
      "text/plain": [
       "<Figure size 640x480 with 1 Axes>"
      ]
     },
     "metadata": {},
     "output_type": "display_data"
    }
   ],
   "source": [
    "inp0['Content Rating'].value_counts().plot.pie()\n",
    "plt.show()"
   ]
  },
  {
   "cell_type": "code",
   "execution_count": 328,
   "metadata": {
    "id": "tGTd3eB8T1Kn"
   },
   "outputs": [
    {
     "data": {
      "image/png": "[encoded data removed]",
      "text/plain": [
       "<Figure size 400x200 with 1 Axes>"
      ]
     },
     "metadata": {},
     "output_type": "display_data"
    }
   ],
   "source": [
    "#Plot a bar chart\n",
    "plt.figure(figsize=(4,2))\n",
    "inp0['Content Rating'].value_counts().plot.bar()\n",
    "plt.show()"
   ]
  },
  {
   "cell_type": "code",
   "execution_count": 344,
   "metadata": {},
   "outputs": [
    {
     "data": {
      "image/png": "[encoded data removed]",
      "text/plain": [
       "<Figure size 400x200 with 1 Axes>"
      ]
     },
     "metadata": {},
     "output_type": "display_data"
    }
   ],
   "source": [
    "plt.figure(figsize=(4,2))\n",
    "color = ['red','blue','green','yellow']\n",
    "\n",
    "inp0['Content Rating'].value_counts().plot.barh(color = color )\n",
    "plt.legend()\n",
    "plt.show()"
   ]
  },
  {
   "cell_type": "code",
   "execution_count": 346,
   "metadata": {},
   "outputs": [
    {
     "data": {
      "text/html": [
       "<div>\n",
       "<style scoped>\n",
       "    .dataframe tbody tr th:only-of-type {\n",
       "        vertical-align: middle;\n",
       "    }\n",
       "\n",
       "    .dataframe tbody tr th {\n",
       "        vertical-align: top;\n",
       "    }\n",
       "\n",
       "    .dataframe thead th {\n",
       "        text-align: right;\n",
       "    }\n",
       "</style>\n",
       "<table border=\"1\" class=\"dataframe\">\n",
       "  <thead>\n",
       "    <tr style=\"text-align: right;\">\n",
       "      <th></th>\n",
       "      <th>Unnamed: 0</th>\n",
       "      <th>App</th>\n",
       "      <th>Category</th>\n",
       "      <th>Rating</th>\n",
       "      <th>Reviews</th>\n",
       "      <th>Size</th>\n",
       "      <th>Installs</th>\n",
       "      <th>Type</th>\n",
       "      <th>Price</th>\n",
       "      <th>Content Rating</th>\n",
       "      <th>Genres</th>\n",
       "      <th>Last Updated</th>\n",
       "      <th>Current Ver</th>\n",
       "      <th>Android Ver</th>\n",
       "      <th>Cleaned_Size</th>\n",
       "    </tr>\n",
       "  </thead>\n",
       "  <tbody>\n",
       "    <tr>\n",
       "      <th>0</th>\n",
       "      <td>0</td>\n",
       "      <td>Photo Editor &amp; Candy Camera &amp; Grid &amp; ScrapBook</td>\n",
       "      <td>ART_AND_DESIGN</td>\n",
       "      <td>4.1</td>\n",
       "      <td>159</td>\n",
       "      <td>19.00</td>\n",
       "      <td>10000</td>\n",
       "      <td>Free</td>\n",
       "      <td>0.0</td>\n",
       "      <td>Everyone</td>\n",
       "      <td>Art &amp; Design</td>\n",
       "      <td>January 7, 2018</td>\n",
       "      <td>1.0.0</td>\n",
       "      <td>4.0.3 and up</td>\n",
       "      <td>19.0</td>\n",
       "    </tr>\n",
       "    <tr>\n",
       "      <th>1</th>\n",
       "      <td>1</td>\n",
       "      <td>Coloring book moana</td>\n",
       "      <td>ART_AND_DESIGN</td>\n",
       "      <td>3.9</td>\n",
       "      <td>967</td>\n",
       "      <td>14.00</td>\n",
       "      <td>500000</td>\n",
       "      <td>Free</td>\n",
       "      <td>0.0</td>\n",
       "      <td>Everyone</td>\n",
       "      <td>Art &amp; Design;Pretend Play</td>\n",
       "      <td>January 15, 2018</td>\n",
       "      <td>2.0.0</td>\n",
       "      <td>4.0.3 and up</td>\n",
       "      <td>14.0</td>\n",
       "    </tr>\n",
       "    <tr>\n",
       "      <th>2</th>\n",
       "      <td>2</td>\n",
       "      <td>U Launcher Lite – FREE Live Cool Themes, Hide ...</td>\n",
       "      <td>ART_AND_DESIGN</td>\n",
       "      <td>4.7</td>\n",
       "      <td>87510</td>\n",
       "      <td>8.70</td>\n",
       "      <td>5000000</td>\n",
       "      <td>Free</td>\n",
       "      <td>0.0</td>\n",
       "      <td>Everyone</td>\n",
       "      <td>Art &amp; Design</td>\n",
       "      <td>August 1, 2018</td>\n",
       "      <td>1.2.4</td>\n",
       "      <td>4.0.3 and up</td>\n",
       "      <td>8.7</td>\n",
       "    </tr>\n",
       "    <tr>\n",
       "      <th>3</th>\n",
       "      <td>3</td>\n",
       "      <td>Sketch - Draw &amp; Paint</td>\n",
       "      <td>ART_AND_DESIGN</td>\n",
       "      <td>4.5</td>\n",
       "      <td>215644</td>\n",
       "      <td>25.00</td>\n",
       "      <td>50000000</td>\n",
       "      <td>Free</td>\n",
       "      <td>0.0</td>\n",
       "      <td>Teen</td>\n",
       "      <td>Art &amp; Design</td>\n",
       "      <td>June 8, 2018</td>\n",
       "      <td>Varies with device</td>\n",
       "      <td>4.2 and up</td>\n",
       "      <td>25.0</td>\n",
       "    </tr>\n",
       "    <tr>\n",
       "      <th>4</th>\n",
       "      <td>4</td>\n",
       "      <td>Pixel Draw - Number Art Coloring Book</td>\n",
       "      <td>ART_AND_DESIGN</td>\n",
       "      <td>4.3</td>\n",
       "      <td>967</td>\n",
       "      <td>2.80</td>\n",
       "      <td>100000</td>\n",
       "      <td>Free</td>\n",
       "      <td>0.0</td>\n",
       "      <td>Everyone</td>\n",
       "      <td>Art &amp; Design;Creativity</td>\n",
       "      <td>June 20, 2018</td>\n",
       "      <td>1.1</td>\n",
       "      <td>4.4 and up</td>\n",
       "      <td>2.8</td>\n",
       "    </tr>\n",
       "    <tr>\n",
       "      <th>...</th>\n",
       "      <td>...</td>\n",
       "      <td>...</td>\n",
       "      <td>...</td>\n",
       "      <td>...</td>\n",
       "      <td>...</td>\n",
       "      <td>...</td>\n",
       "      <td>...</td>\n",
       "      <td>...</td>\n",
       "      <td>...</td>\n",
       "      <td>...</td>\n",
       "      <td>...</td>\n",
       "      <td>...</td>\n",
       "      <td>...</td>\n",
       "      <td>...</td>\n",
       "      <td>...</td>\n",
       "    </tr>\n",
       "    <tr>\n",
       "      <th>7721</th>\n",
       "      <td>10833</td>\n",
       "      <td>Chemin (fr)</td>\n",
       "      <td>BOOKS_AND_REFERENCE</td>\n",
       "      <td>4.8</td>\n",
       "      <td>44</td>\n",
       "      <td>83.35</td>\n",
       "      <td>1000</td>\n",
       "      <td>Free</td>\n",
       "      <td>0.0</td>\n",
       "      <td>Everyone</td>\n",
       "      <td>Books &amp; Reference</td>\n",
       "      <td>March 23, 2014</td>\n",
       "      <td>0.8</td>\n",
       "      <td>2.2 and up</td>\n",
       "      <td>619.0</td>\n",
       "    </tr>\n",
       "    <tr>\n",
       "      <th>7722</th>\n",
       "      <td>10834</td>\n",
       "      <td>FR Calculator</td>\n",
       "      <td>FAMILY</td>\n",
       "      <td>4.0</td>\n",
       "      <td>7</td>\n",
       "      <td>2.60</td>\n",
       "      <td>500</td>\n",
       "      <td>Free</td>\n",
       "      <td>0.0</td>\n",
       "      <td>Everyone</td>\n",
       "      <td>Education</td>\n",
       "      <td>June 18, 2017</td>\n",
       "      <td>1.0.0</td>\n",
       "      <td>4.1 and up</td>\n",
       "      <td>2.6</td>\n",
       "    </tr>\n",
       "    <tr>\n",
       "      <th>7723</th>\n",
       "      <td>10836</td>\n",
       "      <td>Sya9a Maroc - FR</td>\n",
       "      <td>FAMILY</td>\n",
       "      <td>4.5</td>\n",
       "      <td>38</td>\n",
       "      <td>53.00</td>\n",
       "      <td>5000</td>\n",
       "      <td>Free</td>\n",
       "      <td>0.0</td>\n",
       "      <td>Everyone</td>\n",
       "      <td>Education</td>\n",
       "      <td>July 25, 2017</td>\n",
       "      <td>1.48</td>\n",
       "      <td>4.1 and up</td>\n",
       "      <td>53.0</td>\n",
       "    </tr>\n",
       "    <tr>\n",
       "      <th>7724</th>\n",
       "      <td>10837</td>\n",
       "      <td>Fr. Mike Schmitz Audio Teachings</td>\n",
       "      <td>FAMILY</td>\n",
       "      <td>5.0</td>\n",
       "      <td>4</td>\n",
       "      <td>3.60</td>\n",
       "      <td>100</td>\n",
       "      <td>Free</td>\n",
       "      <td>0.0</td>\n",
       "      <td>Everyone</td>\n",
       "      <td>Education</td>\n",
       "      <td>July 6, 2018</td>\n",
       "      <td>1.0</td>\n",
       "      <td>4.1 and up</td>\n",
       "      <td>3.6</td>\n",
       "    </tr>\n",
       "    <tr>\n",
       "      <th>7725</th>\n",
       "      <td>10840</td>\n",
       "      <td>iHoroscope - 2018 Daily Horoscope &amp; Astrology</td>\n",
       "      <td>LIFESTYLE</td>\n",
       "      <td>4.5</td>\n",
       "      <td>398307</td>\n",
       "      <td>19.00</td>\n",
       "      <td>10000000</td>\n",
       "      <td>Free</td>\n",
       "      <td>0.0</td>\n",
       "      <td>Everyone</td>\n",
       "      <td>Lifestyle</td>\n",
       "      <td>July 25, 2018</td>\n",
       "      <td>Varies with device</td>\n",
       "      <td>Varies with device</td>\n",
       "      <td>19.0</td>\n",
       "    </tr>\n",
       "  </tbody>\n",
       "</table>\n",
       "<p>7726 rows × 15 columns</p>\n",
       "</div>"
      ],
      "text/plain": [
       "      Unnamed: 0                                                App  \\\n",
       "0              0     Photo Editor & Candy Camera & Grid & ScrapBook   \n",
       "1              1                                Coloring book moana   \n",
       "2              2  U Launcher Lite – FREE Live Cool Themes, Hide ...   \n",
       "3              3                              Sketch - Draw & Paint   \n",
       "4              4              Pixel Draw - Number Art Coloring Book   \n",
       "...          ...                                                ...   \n",
       "7721       10833                                        Chemin (fr)   \n",
       "7722       10834                                      FR Calculator   \n",
       "7723       10836                                   Sya9a Maroc - FR   \n",
       "7724       10837                   Fr. Mike Schmitz Audio Teachings   \n",
       "7725       10840      iHoroscope - 2018 Daily Horoscope & Astrology   \n",
       "\n",
       "                 Category  Rating  Reviews   Size  Installs  Type  Price  \\\n",
       "0          ART_AND_DESIGN     4.1      159  19.00     10000  Free    0.0   \n",
       "1          ART_AND_DESIGN     3.9      967  14.00    500000  Free    0.0   \n",
       "2          ART_AND_DESIGN     4.7    87510   8.70   5000000  Free    0.0   \n",
       "3          ART_AND_DESIGN     4.5   215644  25.00  50000000  Free    0.0   \n",
       "4          ART_AND_DESIGN     4.3      967   2.80    100000  Free    0.0   \n",
       "...                   ...     ...      ...    ...       ...   ...    ...   \n",
       "7721  BOOKS_AND_REFERENCE     4.8       44  83.35      1000  Free    0.0   \n",
       "7722               FAMILY     4.0        7   2.60       500  Free    0.0   \n",
       "7723               FAMILY     4.5       38  53.00      5000  Free    0.0   \n",
       "7724               FAMILY     5.0        4   3.60       100  Free    0.0   \n",
       "7725            LIFESTYLE     4.5   398307  19.00  10000000  Free    0.0   \n",
       "\n",
       "     Content Rating                     Genres      Last Updated  \\\n",
       "0          Everyone               Art & Design   January 7, 2018   \n",
       "1          Everyone  Art & Design;Pretend Play  January 15, 2018   \n",
       "2          Everyone               Art & Design    August 1, 2018   \n",
       "3              Teen               Art & Design      June 8, 2018   \n",
       "4          Everyone    Art & Design;Creativity     June 20, 2018   \n",
       "...             ...                        ...               ...   \n",
       "7721       Everyone          Books & Reference    March 23, 2014   \n",
       "7722       Everyone                  Education     June 18, 2017   \n",
       "7723       Everyone                  Education     July 25, 2017   \n",
       "7724       Everyone                  Education      July 6, 2018   \n",
       "7725       Everyone                  Lifestyle     July 25, 2018   \n",
       "\n",
       "             Current Ver         Android Ver  Cleaned_Size  \n",
       "0                  1.0.0        4.0.3 and up          19.0  \n",
       "1                  2.0.0        4.0.3 and up          14.0  \n",
       "2                  1.2.4        4.0.3 and up           8.7  \n",
       "3     Varies with device          4.2 and up          25.0  \n",
       "4                    1.1          4.4 and up           2.8  \n",
       "...                  ...                 ...           ...  \n",
       "7721                 0.8          2.2 and up         619.0  \n",
       "7722               1.0.0          4.1 and up           2.6  \n",
       "7723                1.48          4.1 and up          53.0  \n",
       "7724                 1.0          4.1 and up           3.6  \n",
       "7725  Varies with device  Varies with device          19.0  \n",
       "\n",
       "[7726 rows x 15 columns]"
      ]
     },
     "execution_count": 346,
     "metadata": {},
     "output_type": "execute_result"
    }
   ],
   "source": [
    "inp0"
   ]
  },
  {
   "cell_type": "code",
   "execution_count": 368,
   "metadata": {
    "id": "6t9klZ0ET1Ko"
   },
   "outputs": [
    {
     "data": {
      "image/png": "[encoded data removed]",
      "text/plain": [
       "<Figure size 640x480 with 1 Axes>"
      ]
     },
     "metadata": {},
     "output_type": "display_data"
    },
    {
     "name": "stdout",
     "output_type": "stream",
     "text": [
      "4.4 and up\n"
     ]
    }
   ],
   "source": [
    "#Question - Plot a bar plot for checking the 4th highest Android version type\n",
    "high = inp0['Android Ver'].value_counts()\n",
    "high.plot.bar()\n",
    "\n",
    "plt.show()\n",
    "fourth_highest = high.index[3]\n",
    "print(fourth_highest)"
   ]
  },
  {
   "cell_type": "markdown",
   "metadata": {
    "id": "UhQVEFpbT1Ko"
   },
   "source": [
    "# Scatter Plots"
   ]
  },
  {
   "cell_type": "markdown",
   "metadata": {
    "id": "GWGilHEPT1Ko"
   },
   "source": [
    "Scatterplots are perhaps one of the most commonly used as well one of the most powerful visualisations you can use in the field of machine learning. They are pretty crucial in revealing relationships between the data points and you can generally deduce some sort of trends in the data with the help of a scatter plot."
   ]
  },
  {
   "cell_type": "markdown",
   "metadata": {
    "id": "tgQMfQMuT1Kp"
   },
   "source": [
    "![Scatterplot](images\\scatter.png)"
   ]
  },
  {
   "cell_type": "markdown",
   "metadata": {
    "id": "1KHvgRnAT1Kp"
   },
   "source": [
    "- They're pretty useful in regression problems to check whether a linear trend exists in the data or not. For example, in the image below, creating a linear model in the first case makes far more sense since a clear straight line trend is visible."
   ]
  },
  {
   "cell_type": "markdown",
   "metadata": {
    "id": "Z5iRk9FkT1Kp"
   },
   "source": [
    "![Scatterplot-Reg](images\\regression3.png)"
   ]
  },
  {
   "cell_type": "markdown",
   "metadata": {
    "id": "9mCsCp24T1Kq"
   },
   "source": [
    "- Also, they help in observing __naturally occuring clusters__. In the following image, the marks of students in Maths and Biology has been plotted.You can clearly group the students to 4 clusters now. Cluster 1 are students who score very well in Biology but very poorly in Maths, Cluster 2 are students who score equally well in both the subjects and so on."
   ]
  },
  {
   "cell_type": "markdown",
   "metadata": {
    "id": "4FYIaGrdT1Kq"
   },
   "source": [
    "![Scatter-Clusters](images\\Clusters.png)"
   ]
  },
  {
   "cell_type": "markdown",
   "metadata": {
    "id": "fZRbeASFT1Kq"
   },
   "source": [
    "**Note**: You'll be studying about both Regression and Clustering in greater detail in the machine learning modules"
   ]
  },
  {
   "cell_type": "markdown",
   "metadata": {
    "id": "46F0htwwT1Kr"
   },
   "source": [
    "You'll be using **sns.jointplot()** for creating a scatter plot. Check out its documentation:\n",
    "https://seaborn.pydata.org/generated/seaborn.jointplot.html"
   ]
  },
  {
   "cell_type": "code",
   "execution_count": 371,
   "metadata": {},
   "outputs": [
    {
     "data": {
      "text/html": [
       "<div>\n",
       "<style scoped>\n",
       "    .dataframe tbody tr th:only-of-type {\n",
       "        vertical-align: middle;\n",
       "    }\n",
       "\n",
       "    .dataframe tbody tr th {\n",
       "        vertical-align: top;\n",
       "    }\n",
       "\n",
       "    .dataframe thead th {\n",
       "        text-align: right;\n",
       "    }\n",
       "</style>\n",
       "<table border=\"1\" class=\"dataframe\">\n",
       "  <thead>\n",
       "    <tr style=\"text-align: right;\">\n",
       "      <th></th>\n",
       "      <th>Unnamed: 0</th>\n",
       "      <th>App</th>\n",
       "      <th>Category</th>\n",
       "      <th>Rating</th>\n",
       "      <th>Reviews</th>\n",
       "      <th>Size</th>\n",
       "      <th>Installs</th>\n",
       "      <th>Type</th>\n",
       "      <th>Price</th>\n",
       "      <th>Content Rating</th>\n",
       "      <th>Genres</th>\n",
       "      <th>Last Updated</th>\n",
       "      <th>Current Ver</th>\n",
       "      <th>Android Ver</th>\n",
       "      <th>Cleaned_Size</th>\n",
       "    </tr>\n",
       "  </thead>\n",
       "  <tbody>\n",
       "    <tr>\n",
       "      <th>0</th>\n",
       "      <td>0</td>\n",
       "      <td>Photo Editor &amp; Candy Camera &amp; Grid &amp; ScrapBook</td>\n",
       "      <td>ART_AND_DESIGN</td>\n",
       "      <td>4.1</td>\n",
       "      <td>159</td>\n",
       "      <td>19.0</td>\n",
       "      <td>10000</td>\n",
       "      <td>Free</td>\n",
       "      <td>0.0</td>\n",
       "      <td>Everyone</td>\n",
       "      <td>Art &amp; Design</td>\n",
       "      <td>January 7, 2018</td>\n",
       "      <td>1.0.0</td>\n",
       "      <td>4.0.3 and up</td>\n",
       "      <td>19.0</td>\n",
       "    </tr>\n",
       "    <tr>\n",
       "      <th>1</th>\n",
       "      <td>1</td>\n",
       "      <td>Coloring book moana</td>\n",
       "      <td>ART_AND_DESIGN</td>\n",
       "      <td>3.9</td>\n",
       "      <td>967</td>\n",
       "      <td>14.0</td>\n",
       "      <td>500000</td>\n",
       "      <td>Free</td>\n",
       "      <td>0.0</td>\n",
       "      <td>Everyone</td>\n",
       "      <td>Art &amp; Design;Pretend Play</td>\n",
       "      <td>January 15, 2018</td>\n",
       "      <td>2.0.0</td>\n",
       "      <td>4.0.3 and up</td>\n",
       "      <td>14.0</td>\n",
       "    </tr>\n",
       "    <tr>\n",
       "      <th>2</th>\n",
       "      <td>2</td>\n",
       "      <td>U Launcher Lite – FREE Live Cool Themes, Hide ...</td>\n",
       "      <td>ART_AND_DESIGN</td>\n",
       "      <td>4.7</td>\n",
       "      <td>87510</td>\n",
       "      <td>8.7</td>\n",
       "      <td>5000000</td>\n",
       "      <td>Free</td>\n",
       "      <td>0.0</td>\n",
       "      <td>Everyone</td>\n",
       "      <td>Art &amp; Design</td>\n",
       "      <td>August 1, 2018</td>\n",
       "      <td>1.2.4</td>\n",
       "      <td>4.0.3 and up</td>\n",
       "      <td>8.7</td>\n",
       "    </tr>\n",
       "    <tr>\n",
       "      <th>3</th>\n",
       "      <td>3</td>\n",
       "      <td>Sketch - Draw &amp; Paint</td>\n",
       "      <td>ART_AND_DESIGN</td>\n",
       "      <td>4.5</td>\n",
       "      <td>215644</td>\n",
       "      <td>25.0</td>\n",
       "      <td>50000000</td>\n",
       "      <td>Free</td>\n",
       "      <td>0.0</td>\n",
       "      <td>Teen</td>\n",
       "      <td>Art &amp; Design</td>\n",
       "      <td>June 8, 2018</td>\n",
       "      <td>Varies with device</td>\n",
       "      <td>4.2 and up</td>\n",
       "      <td>25.0</td>\n",
       "    </tr>\n",
       "    <tr>\n",
       "      <th>4</th>\n",
       "      <td>4</td>\n",
       "      <td>Pixel Draw - Number Art Coloring Book</td>\n",
       "      <td>ART_AND_DESIGN</td>\n",
       "      <td>4.3</td>\n",
       "      <td>967</td>\n",
       "      <td>2.8</td>\n",
       "      <td>100000</td>\n",
       "      <td>Free</td>\n",
       "      <td>0.0</td>\n",
       "      <td>Everyone</td>\n",
       "      <td>Art &amp; Design;Creativity</td>\n",
       "      <td>June 20, 2018</td>\n",
       "      <td>1.1</td>\n",
       "      <td>4.4 and up</td>\n",
       "      <td>2.8</td>\n",
       "    </tr>\n",
       "  </tbody>\n",
       "</table>\n",
       "</div>"
      ],
      "text/plain": [
       "   Unnamed: 0                                                App  \\\n",
       "0           0     Photo Editor & Candy Camera & Grid & ScrapBook   \n",
       "1           1                                Coloring book moana   \n",
       "2           2  U Launcher Lite – FREE Live Cool Themes, Hide ...   \n",
       "3           3                              Sketch - Draw & Paint   \n",
       "4           4              Pixel Draw - Number Art Coloring Book   \n",
       "\n",
       "         Category  Rating  Reviews  Size  Installs  Type  Price  \\\n",
       "0  ART_AND_DESIGN     4.1      159  19.0     10000  Free    0.0   \n",
       "1  ART_AND_DESIGN     3.9      967  14.0    500000  Free    0.0   \n",
       "2  ART_AND_DESIGN     4.7    87510   8.7   5000000  Free    0.0   \n",
       "3  ART_AND_DESIGN     4.5   215644  25.0  50000000  Free    0.0   \n",
       "4  ART_AND_DESIGN     4.3      967   2.8    100000  Free    0.0   \n",
       "\n",
       "  Content Rating                     Genres      Last Updated  \\\n",
       "0       Everyone               Art & Design   January 7, 2018   \n",
       "1       Everyone  Art & Design;Pretend Play  January 15, 2018   \n",
       "2       Everyone               Art & Design    August 1, 2018   \n",
       "3           Teen               Art & Design      June 8, 2018   \n",
       "4       Everyone    Art & Design;Creativity     June 20, 2018   \n",
       "\n",
       "          Current Ver   Android Ver  Cleaned_Size  \n",
       "0               1.0.0  4.0.3 and up          19.0  \n",
       "1               2.0.0  4.0.3 and up          14.0  \n",
       "2               1.2.4  4.0.3 and up           8.7  \n",
       "3  Varies with device    4.2 and up          25.0  \n",
       "4                 1.1    4.4 and up           2.8  "
      ]
     },
     "execution_count": 371,
     "metadata": {},
     "output_type": "execute_result"
    }
   ],
   "source": [
    "inp0.head(5)"
   ]
  },
  {
   "cell_type": "code",
   "execution_count": 393,
   "metadata": {
    "id": "XtyKDVQUT1Kr"
   },
   "outputs": [
    {
     "data": {
      "image/png": "[encoded data removed]",
      "text/plain": [
       "<Figure size 640x480 with 1 Axes>"
      ]
     },
     "metadata": {},
     "output_type": "display_data"
    }
   ],
   "source": [
    "###Size vs Rating\n",
    "\n",
    "##Plot a scatter-plot in the matplotlib way between Size and Rating\n",
    "color = ['red','green']\n",
    "plt.scatter(inp0.Size,inp0.Rating)\n",
    "plt.xlabel('size')\n",
    "plt.ylabel('Rating')\n",
    "plt.show()"
   ]
  },
  {
   "cell_type": "code",
   "execution_count": 413,
   "metadata": {
    "id": "utoeQSNDT1Ks"
   },
   "outputs": [
    {
     "data": {
      "image/png": "[encoded data removed]",
      "text/plain": [
       "<Figure size 600x600 with 3 Axes>"
      ]
     },
     "metadata": {},
     "output_type": "display_data"
    }
   ],
   "source": [
    "### Plot the same thing now using a jointplot\n",
    "sb.jointplot(x =inp0.Size,y = inp0.Rating ,kind='kde',color='g')\n",
    "plt.show()"
   ]
  },
  {
   "cell_type": "code",
   "execution_count": 69,
   "metadata": {
    "id": "FDPpZ8Q1T1Ks"
   },
   "outputs": [],
   "source": [
    "## Plot a jointplot for Price and Rating\n"
   ]
  },
  {
   "cell_type": "markdown",
   "metadata": {
    "id": "OIzoCg8pT1Kt"
   },
   "source": [
    "# Reg Plots\n",
    "\n",
    "- These are an extension to the jointplots, where a regression line is added to the view"
   ]
  },
  {
   "cell_type": "code",
   "execution_count": 430,
   "metadata": {},
   "outputs": [],
   "source": [
    "plt.style.use('default')"
   ]
  },
  {
   "cell_type": "code",
   "execution_count": 432,
   "metadata": {
    "id": "rRwyXd7cT1Kt"
   },
   "outputs": [
    {
     "data": {
      "image/png": "[encoded data removed]",
      "text/plain": [
       "<Figure size 600x600 with 3 Axes>"
      ]
     },
     "metadata": {},
     "output_type": "display_data"
    }
   ],
   "source": [
    "##Plot a reg plot for Price and Rating and observe the trend\n",
    "sb.jointplot(x = inp0.Price,y = inp0.Rating)\n",
    "plt.show()"
   ]
  },
  {
   "cell_type": "markdown",
   "metadata": {},
   "source": [
    "### regration analysis"
   ]
  },
  {
   "cell_type": "code",
   "execution_count": 441,
   "metadata": {
    "id": "96qDOJe4T1Ku"
   },
   "outputs": [
    {
     "data": {
      "image/png": "[encoded data removed]",
      "text/plain": [
       "<Figure size 600x600 with 3 Axes>"
      ]
     },
     "metadata": {},
     "output_type": "display_data"
    }
   ],
   "source": [
    "## Question - Plot a reg plot for Price and Rating again for only the paid apps.\n",
    "sb.jointplot(x = inp0.Price,y=inp0.Rating,kind='reg')\n",
    "plt.show()"
   ]
  },
  {
   "cell_type": "markdown",
   "metadata": {
    "id": "oPurX1OET1Ku"
   },
   "source": [
    "**Pair Plots**"
   ]
  },
  {
   "cell_type": "markdown",
   "metadata": {
    "id": "AZQAMIRpT1Ku"
   },
   "source": [
    " - When you have several numeric variables, making multiple scatter plots becomes rather tedious. Therefore, a pair plot visualisation is preferred where all the scatter plots are in a single view in the form of a matrix\n",
    " - For the non-diagonal views, it plots a **scatter plot** between 2 numeric variables\n",
    " - For the diagonal views, it plots a **histogram**"
   ]
  },
  {
   "cell_type": "markdown",
   "metadata": {
    "id": "xQQBzml6T1Kv"
   },
   "source": [
    "Pair Plots help in identifying the trends between a target variable and the predictor variables pretty quickly. For example, say you want to predict how your company’s profits are affected by three different factors. In order to choose which you created a pair plot containing profits and the three different factors as the variables. Here are the scatterplots of profits vs the three variables that you obtained from the pair plot."
   ]
  },
  {
   "cell_type": "markdown",
   "metadata": {
    "id": "JYHYyF1qT1Kv"
   },
   "source": [
    "![Pairplots](images\\pairplots2.png)"
   ]
  },
  {
   "cell_type": "markdown",
   "metadata": {
    "id": "ix5mxquQT1Kv"
   },
   "source": [
    "It is clearly visible that the left-most factor is the most prominently related to the profits, given how linearly scattered the points are and how randomly scattered the rest two factors are."
   ]
  },
  {
   "cell_type": "markdown",
   "metadata": {
    "id": "oWLBQTRWT1Kw"
   },
   "source": [
    "You'll be using **sns.pairplot()** for this visualisation. Check out its official documentation:https://seaborn.pydata.org/generated/seaborn.pairplot.html"
   ]
  },
  {
   "cell_type": "markdown",
   "metadata": {},
   "source": [
    "### pair plot"
   ]
  },
  {
   "cell_type": "code",
   "execution_count": 454,
   "metadata": {},
   "outputs": [
    {
     "data": {
      "text/html": [
       "<div>\n",
       "<style scoped>\n",
       "    .dataframe tbody tr th:only-of-type {\n",
       "        vertical-align: middle;\n",
       "    }\n",
       "\n",
       "    .dataframe tbody tr th {\n",
       "        vertical-align: top;\n",
       "    }\n",
       "\n",
       "    .dataframe thead th {\n",
       "        text-align: right;\n",
       "    }\n",
       "</style>\n",
       "<table border=\"1\" class=\"dataframe\">\n",
       "  <thead>\n",
       "    <tr style=\"text-align: right;\">\n",
       "      <th></th>\n",
       "      <th>Unnamed: 0</th>\n",
       "      <th>App</th>\n",
       "      <th>Category</th>\n",
       "      <th>Rating</th>\n",
       "      <th>Reviews</th>\n",
       "      <th>Size</th>\n",
       "      <th>Installs</th>\n",
       "      <th>Type</th>\n",
       "      <th>Price</th>\n",
       "      <th>Content Rating</th>\n",
       "      <th>Genres</th>\n",
       "      <th>Last Updated</th>\n",
       "      <th>Current Ver</th>\n",
       "      <th>Android Ver</th>\n",
       "      <th>Cleaned_Size</th>\n",
       "    </tr>\n",
       "  </thead>\n",
       "  <tbody>\n",
       "    <tr>\n",
       "      <th>0</th>\n",
       "      <td>0</td>\n",
       "      <td>Photo Editor &amp; Candy Camera &amp; Grid &amp; ScrapBook</td>\n",
       "      <td>ART_AND_DESIGN</td>\n",
       "      <td>4.1</td>\n",
       "      <td>159</td>\n",
       "      <td>19.0</td>\n",
       "      <td>10000</td>\n",
       "      <td>Free</td>\n",
       "      <td>0.0</td>\n",
       "      <td>Everyone</td>\n",
       "      <td>Art &amp; Design</td>\n",
       "      <td>January 7, 2018</td>\n",
       "      <td>1.0.0</td>\n",
       "      <td>4.0.3 and up</td>\n",
       "      <td>19.0</td>\n",
       "    </tr>\n",
       "    <tr>\n",
       "      <th>1</th>\n",
       "      <td>1</td>\n",
       "      <td>Coloring book moana</td>\n",
       "      <td>ART_AND_DESIGN</td>\n",
       "      <td>3.9</td>\n",
       "      <td>967</td>\n",
       "      <td>14.0</td>\n",
       "      <td>500000</td>\n",
       "      <td>Free</td>\n",
       "      <td>0.0</td>\n",
       "      <td>Everyone</td>\n",
       "      <td>Art &amp; Design;Pretend Play</td>\n",
       "      <td>January 15, 2018</td>\n",
       "      <td>2.0.0</td>\n",
       "      <td>4.0.3 and up</td>\n",
       "      <td>14.0</td>\n",
       "    </tr>\n",
       "    <tr>\n",
       "      <th>2</th>\n",
       "      <td>2</td>\n",
       "      <td>U Launcher Lite – FREE Live Cool Themes, Hide ...</td>\n",
       "      <td>ART_AND_DESIGN</td>\n",
       "      <td>4.7</td>\n",
       "      <td>87510</td>\n",
       "      <td>8.7</td>\n",
       "      <td>5000000</td>\n",
       "      <td>Free</td>\n",
       "      <td>0.0</td>\n",
       "      <td>Everyone</td>\n",
       "      <td>Art &amp; Design</td>\n",
       "      <td>August 1, 2018</td>\n",
       "      <td>1.2.4</td>\n",
       "      <td>4.0.3 and up</td>\n",
       "      <td>8.7</td>\n",
       "    </tr>\n",
       "    <tr>\n",
       "      <th>3</th>\n",
       "      <td>3</td>\n",
       "      <td>Sketch - Draw &amp; Paint</td>\n",
       "      <td>ART_AND_DESIGN</td>\n",
       "      <td>4.5</td>\n",
       "      <td>215644</td>\n",
       "      <td>25.0</td>\n",
       "      <td>50000000</td>\n",
       "      <td>Free</td>\n",
       "      <td>0.0</td>\n",
       "      <td>Teen</td>\n",
       "      <td>Art &amp; Design</td>\n",
       "      <td>June 8, 2018</td>\n",
       "      <td>Varies with device</td>\n",
       "      <td>4.2 and up</td>\n",
       "      <td>25.0</td>\n",
       "    </tr>\n",
       "    <tr>\n",
       "      <th>4</th>\n",
       "      <td>4</td>\n",
       "      <td>Pixel Draw - Number Art Coloring Book</td>\n",
       "      <td>ART_AND_DESIGN</td>\n",
       "      <td>4.3</td>\n",
       "      <td>967</td>\n",
       "      <td>2.8</td>\n",
       "      <td>100000</td>\n",
       "      <td>Free</td>\n",
       "      <td>0.0</td>\n",
       "      <td>Everyone</td>\n",
       "      <td>Art &amp; Design;Creativity</td>\n",
       "      <td>June 20, 2018</td>\n",
       "      <td>1.1</td>\n",
       "      <td>4.4 and up</td>\n",
       "      <td>2.8</td>\n",
       "    </tr>\n",
       "  </tbody>\n",
       "</table>\n",
       "</div>"
      ],
      "text/plain": [
       "   Unnamed: 0                                                App  \\\n",
       "0           0     Photo Editor & Candy Camera & Grid & ScrapBook   \n",
       "1           1                                Coloring book moana   \n",
       "2           2  U Launcher Lite – FREE Live Cool Themes, Hide ...   \n",
       "3           3                              Sketch - Draw & Paint   \n",
       "4           4              Pixel Draw - Number Art Coloring Book   \n",
       "\n",
       "         Category  Rating  Reviews  Size  Installs  Type  Price  \\\n",
       "0  ART_AND_DESIGN     4.1      159  19.0     10000  Free    0.0   \n",
       "1  ART_AND_DESIGN     3.9      967  14.0    500000  Free    0.0   \n",
       "2  ART_AND_DESIGN     4.7    87510   8.7   5000000  Free    0.0   \n",
       "3  ART_AND_DESIGN     4.5   215644  25.0  50000000  Free    0.0   \n",
       "4  ART_AND_DESIGN     4.3      967   2.8    100000  Free    0.0   \n",
       "\n",
       "  Content Rating                     Genres      Last Updated  \\\n",
       "0       Everyone               Art & Design   January 7, 2018   \n",
       "1       Everyone  Art & Design;Pretend Play  January 15, 2018   \n",
       "2       Everyone               Art & Design    August 1, 2018   \n",
       "3           Teen               Art & Design      June 8, 2018   \n",
       "4       Everyone    Art & Design;Creativity     June 20, 2018   \n",
       "\n",
       "          Current Ver   Android Ver  Cleaned_Size  \n",
       "0               1.0.0  4.0.3 and up          19.0  \n",
       "1               2.0.0  4.0.3 and up          14.0  \n",
       "2               1.2.4  4.0.3 and up           8.7  \n",
       "3  Varies with device    4.2 and up          25.0  \n",
       "4                 1.1    4.4 and up           2.8  "
      ]
     },
     "execution_count": 454,
     "metadata": {},
     "output_type": "execute_result"
    }
   ],
   "source": [
    "inp0.head()"
   ]
  },
  {
   "cell_type": "code",
   "execution_count": 456,
   "metadata": {
    "id": "hqXCEWhdT1Kw"
   },
   "outputs": [
    {
     "data": {
      "image/png": "[encoded data removed]",
      "text/plain": [
       "<Figure size 1000x1000 with 20 Axes>"
      ]
     },
     "metadata": {},
     "output_type": "display_data"
    }
   ],
   "source": [
    "\n",
    "## Create a pair plot for Reviews, Size, Price and Rating\n",
    "sb.pairplot(inp0[['Reviews','Cleaned_Size','Price','Rating']])\n",
    "plt.show()"
   ]
  },
  {
   "cell_type": "markdown",
   "metadata": {
    "id": "pOU8orYPT1Kw"
   },
   "source": [
    "**Bar Charts Revisited**"
   ]
  },
  {
   "cell_type": "markdown",
   "metadata": {
    "id": "G5e4I6GST1Kx"
   },
   "source": [
    "- Here, you'll be using bar charts once again, this time using the **sns.barplot()** function. Check out its official documentation:https://seaborn.pydata.org/generated/seaborn.barplot.html\n",
    "- You can modify the **estimator** parameter to change the aggregation value of your barplot"
   ]
  },
  {
   "cell_type": "code",
   "execution_count": 82,
   "metadata": {
    "id": "FWRJbOw4T1Kx"
   },
   "outputs": [],
   "source": [
    "##Plot a bar plot of Content Rating vs Average Rating\n"
   ]
  },
  {
   "cell_type": "code",
   "execution_count": 83,
   "metadata": {
    "id": "TXkxiW0XT1Ky"
   },
   "outputs": [],
   "source": [
    "##Plot the bar plot again with Median Rating\n"
   ]
  },
  {
   "cell_type": "code",
   "execution_count": 84,
   "metadata": {
    "id": "0yb7RR_iT1Ky"
   },
   "outputs": [],
   "source": [
    "##Plot the above bar plot using the estimator parameter\n",
    "\n"
   ]
  },
  {
   "cell_type": "code",
   "execution_count": 85,
   "metadata": {
    "id": "llh3BshWT1Ky"
   },
   "outputs": [],
   "source": [
    "##Plot the bar plot with only the 5th percentile of Ratings\n"
   ]
  },
  {
   "cell_type": "code",
   "execution_count": 86,
   "metadata": {
    "id": "Ad0uadQKT1Kz"
   },
   "outputs": [],
   "source": [
    "##Question - Plot the bar plot with the minimum Rating\n"
   ]
  },
  {
   "cell_type": "markdown",
   "metadata": {
    "id": "6fmzlXE5T1Kz"
   },
   "source": [
    "__Box Plots Revisited__\n",
    "\n",
    "- Apart from outlier analysis, box plots are great at comparing the spread and analysing a numerical variable across several categories\n",
    "- Here you'll be using **sns.boxplot()** function to plot the visualisation. Check out its documentation: https://seaborn.pydata.org/generated/seaborn.boxplot.html\n",
    "\n",
    "\n"
   ]
  },
  {
   "cell_type": "code",
   "execution_count": 88,
   "metadata": {
    "id": "mYf_gu_ST1Kz"
   },
   "outputs": [],
   "source": [
    "##Plot a box plot of Rating vs Content Rating\n"
   ]
  },
  {
   "cell_type": "code",
   "execution_count": 89,
   "metadata": {
    "id": "S--koA5qT1K0"
   },
   "outputs": [],
   "source": [
    "##Question - Plot a box plot for the Rating column only\n"
   ]
  },
  {
   "cell_type": "code",
   "execution_count": 90,
   "metadata": {
    "id": "AYH0fbORT1K0"
   },
   "outputs": [],
   "source": [
    "##Question - Plot a box plot of Ratings across the 4 most popular Genres\n"
   ]
  },
  {
   "cell_type": "markdown",
   "metadata": {
    "id": "VpT1IPAIT1K1"
   },
   "source": [
    "#### Heat Maps"
   ]
  },
  {
   "cell_type": "markdown",
   "metadata": {
    "id": "8NcjppcoT1K1"
   },
   "source": [
    "Heat mapsutilise the concept of using colours and colour intensities to visualise a range of values. You must have seen heat maps in cricket or football broadcasts on television to denote the players’ areas of strength and weakness."
   ]
  },
  {
   "cell_type": "markdown",
   "metadata": {
    "id": "9Z67Yi_wT1K1"
   },
   "source": [
    "![HeatMap](images\\heatmap1.png)"
   ]
  },
  {
   "cell_type": "markdown",
   "metadata": {
    "id": "8bbGH_h8T1K1"
   },
   "source": [
    "- In python, you can create a heat map whenever you have a rectangular grid or table of numbers analysing any two features"
   ]
  },
  {
   "cell_type": "markdown",
   "metadata": {
    "id": "MPaG0QG7T1K2"
   },
   "source": [
    "![heatmap2](images\\heatmap2.png)"
   ]
  },
  {
   "cell_type": "markdown",
   "metadata": {
    "id": "uLzEiNVpT1K2"
   },
   "source": [
    "- You'll be using **sns.heatmap()** to plot the visualisation. Checkout its official documentation :https://seaborn.pydata.org/generated/seaborn.heatmap.html"
   ]
  },
  {
   "cell_type": "code",
   "execution_count": 97,
   "metadata": {
    "id": "9PQClkrhT1K2"
   },
   "outputs": [],
   "source": [
    "##Ratings vs Size vs Content Rating\n",
    "\n",
    "##Prepare buckets for the Size column using pd.qcut\n",
    "\n"
   ]
  },
  {
   "cell_type": "code",
   "execution_count": 98,
   "metadata": {
    "id": "Mrl9YSKCT1K3"
   },
   "outputs": [],
   "source": [
    "##Create a pivot table for Size_buckets and Content Rating with values set to Rating\n"
   ]
  },
  {
   "cell_type": "code",
   "execution_count": 99,
   "metadata": {
    "id": "XB9L-d89T1K3"
   },
   "outputs": [],
   "source": [
    "##Change the aggregation to median\n"
   ]
  },
  {
   "cell_type": "code",
   "execution_count": 100,
   "metadata": {
    "id": "g4S33q3AT1K3"
   },
   "outputs": [],
   "source": [
    "##Change the aggregation to 20th percentile\n"
   ]
  },
  {
   "cell_type": "code",
   "execution_count": 101,
   "metadata": {
    "id": "wjqrn5kDT1K4"
   },
   "outputs": [],
   "source": [
    "##Store the pivot table in a separate variable\n"
   ]
  },
  {
   "cell_type": "code",
   "execution_count": 102,
   "metadata": {
    "id": "gOUTD_L7T1K4"
   },
   "outputs": [],
   "source": [
    "##Plot a heat map\n"
   ]
  },
  {
   "cell_type": "code",
   "execution_count": 103,
   "metadata": {
    "id": "xGx79PT5T1K4"
   },
   "outputs": [],
   "source": [
    "##Apply customisations\n"
   ]
  },
  {
   "cell_type": "code",
   "execution_count": 104,
   "metadata": {
    "id": "yXyyMVvDT1K5"
   },
   "outputs": [],
   "source": [
    "##Question - Replace Content Rating with Review_buckets in the above heat map\n",
    "##Keep the aggregation at minimum value for Rating\n"
   ]
  },
  {
   "cell_type": "markdown",
   "metadata": {
    "id": "vV7S6jKET1K5"
   },
   "source": [
    "### Section 3: Additional Visualisations"
   ]
  },
  {
   "cell_type": "markdown",
   "metadata": {
    "id": "K8gWNdVxT1K5"
   },
   "source": [
    "#### Line Plots"
   ]
  },
  {
   "cell_type": "markdown",
   "metadata": {
    "id": "hG08lwB6T1K6"
   },
   "source": [
    "- A line plot tries to observe trends using time dependent data.\n",
    "-  For this part, you'll be using **pd.to_datetime()** function. Check out its documentation:https://pandas.pydata.org/pandas-docs/stable/reference/api/pandas.to_datetime.html\n"
   ]
  },
  {
   "cell_type": "code",
   "execution_count": 108,
   "metadata": {
    "id": "6IE1BeG_T1K6"
   },
   "outputs": [],
   "source": [
    "## Extract the month from the Last Updated Date\n",
    "\n"
   ]
  },
  {
   "cell_type": "code",
   "execution_count": 109,
   "metadata": {
    "id": "sNFvuwAmT1K6"
   },
   "outputs": [],
   "source": [
    "## Find the average Rating across all the months\n",
    "\n"
   ]
  },
  {
   "cell_type": "code",
   "execution_count": 110,
   "metadata": {
    "id": "ifHVeB3rT1K7"
   },
   "outputs": [],
   "source": [
    "## Plot a line graph\n",
    "\n"
   ]
  },
  {
   "cell_type": "markdown",
   "metadata": {
    "id": "OYudsT_IT1K7"
   },
   "source": [
    "#### Stacked Bar Charts"
   ]
  },
  {
   "cell_type": "markdown",
   "metadata": {
    "id": "0BXntML1T1K7"
   },
   "source": [
    "- A stacked bar chart breaks down each bar of the bar chart on the basis of a different category\n",
    "- For example, for the Campaign Response bar chart you saw earlier, the stacked bar chart is also showing the Gender bifurcation as well"
   ]
  },
  {
   "cell_type": "markdown",
   "metadata": {
    "id": "LGlBPCz6T1K8"
   },
   "source": [
    "![Stacked](images\\stacked.png)"
   ]
  },
  {
   "cell_type": "code",
   "execution_count": 114,
   "metadata": {
    "id": "5cIJ8PkWT1K8"
   },
   "outputs": [],
   "source": [
    "## Create a pivot table for Content Rating and updated Month with the values set to Installs\n"
   ]
  },
  {
   "cell_type": "code",
   "execution_count": 115,
   "metadata": {
    "id": "KKGvbQ2OT1K8"
   },
   "outputs": [],
   "source": [
    "##Store the table in a separate variable\n"
   ]
  },
  {
   "cell_type": "code",
   "execution_count": 116,
   "metadata": {
    "id": "LV7w4GfwT1K9"
   },
   "outputs": [],
   "source": [
    "##Plot the stacked bar chart.\n"
   ]
  },
  {
   "cell_type": "code",
   "execution_count": 117,
   "metadata": {
    "id": "2q4SJncFT1K9"
   },
   "outputs": [],
   "source": [
    "##Plot the stacked bar chart again wrt to the proportions.\n",
    "\n"
   ]
  },
  {
   "cell_type": "markdown",
   "metadata": {
    "id": "VuMY6-bTT1K9"
   },
   "source": [
    "#### Plotly"
   ]
  },
  {
   "cell_type": "markdown",
   "metadata": {
    "id": "fJ6miO-jT1K-"
   },
   "source": [
    "Plotly is a Python library used for creating interactive visual charts. You can take a look at how you can use it to create aesthetic looking plots with a lot of user-friendly functionalities like hover, zoom, etc."
   ]
  },
  {
   "cell_type": "markdown",
   "metadata": {
    "id": "chaz_hBoT1K-"
   },
   "source": [
    "Check out this link for installation and documentation:https://plot.ly/python/getting-started/"
   ]
  },
  {
   "cell_type": "code",
   "execution_count": 121,
   "metadata": {
    "id": "tpVzQZDlT1K-"
   },
   "outputs": [],
   "source": [
    "#Install plotly\n"
   ]
  },
  {
   "cell_type": "code",
   "execution_count": 122,
   "metadata": {
    "id": "kOqdO_DKT1K_"
   },
   "outputs": [],
   "source": [
    "#Take the table you want to plot in a separate variable\n"
   ]
  },
  {
   "cell_type": "code",
   "execution_count": 123,
   "metadata": {
    "id": "yXigSMg_T1K_"
   },
   "outputs": [],
   "source": [
    "#Import the plotly libraries\n"
   ]
  },
  {
   "cell_type": "code",
   "execution_count": 124,
   "metadata": {
    "id": "BaVZMKzHT1LA"
   },
   "outputs": [],
   "source": [
    "#Prepare the plot\n"
   ]
  }
 ],
 "metadata": {
  "colab": {
   "provenance": []
  },
  "kernelspec": {
   "display_name": "Python [conda env:base] *",
   "language": "python",
   "name": "conda-base-py"
  },
  "language_info": {
   "codemirror_mode": {
    "name": "ipython",
    "version": 3
   },
   "file_extension": ".py",
   "mimetype": "text/x-python",
   "name": "python",
   "nbconvert_exporter": "python",
   "pygments_lexer": "ipython3",
   "version": "3.12.7"
  }
 },
 "nbformat": 4,
 "nbformat_minor": 4
}
