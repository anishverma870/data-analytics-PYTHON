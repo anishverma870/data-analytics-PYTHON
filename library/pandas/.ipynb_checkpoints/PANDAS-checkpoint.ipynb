{
 "cells": [
  {
   "cell_type": "markdown",
   "id": "4da56fbe-ea8d-4699-be18-c9b2515a276a",
   "metadata": {},
   "source": [
    "# Pandas!"
   ]
  },
  {
   "cell_type": "code",
   "execution_count": 1,
   "id": "8e1ecf46-ce62-494e-bdaa-5ccd6780ff97",
   "metadata": {},
   "outputs": [],
   "source": [
    "import pandas as pd"
   ]
  },
  {
   "cell_type": "markdown",
   "id": "c53d88c4-25a2-40aa-8d0c-6a02a5247225",
   "metadata": {},
   "source": [
    "1. Series\n",
    "A Series is a one-dimensional labeled array.\n",
    "\n",
    "It can hold any data type (integers, floats, strings, etc.).\n",
    "\n",
    "It has an index that labels each element.\n",
    "\n",
    "Think of it as a column in an Excel sheet or a single list with labels."
   ]
  },
  {
   "cell_type": "markdown",
   "id": "77ebfe8e-a605-4836-9949-d9e5e37cdcf3",
   "metadata": {},
   "source": [
    "## series"
   ]
  },
  {
   "cell_type": "code",
   "execution_count": 7,
   "id": "661e56bb-7a47-463b-8250-a99da4a2d2a2",
   "metadata": {},
   "outputs": [],
   "source": [
    "# my_series = pd.Series(data,indeex,name)"
   ]
  },
  {
   "cell_type": "code",
   "execution_count": 8,
   "id": "62a4bc5a-b4fb-4cb3-818d-9b552fd401c1",
   "metadata": {},
   "outputs": [],
   "source": [
    "new_Series = pd.Series(dtype = int)"
   ]
  },
  {
   "cell_type": "code",
   "execution_count": 9,
   "id": "24e9ab66-de47-4125-b3d5-c50e89b7711b",
   "metadata": {},
   "outputs": [
    {
     "data": {
      "text/plain": [
       "Series([], dtype: int64)"
      ]
     },
     "execution_count": 9,
     "metadata": {},
     "output_type": "execute_result"
    }
   ],
   "source": [
    "new_Series"
   ]
  },
  {
   "cell_type": "markdown",
   "id": "8a2d5b55-e259-4dff-bd32-634606ce042a",
   "metadata": {},
   "source": [
    "In this example, we're creating an empty series using Pandas. It's like reserving a spot for data, but for now, it's empty. We're telling Pandas that we want it to be a series of whole numbers (dtype = 'int'). It's like setting up a container in advance, even though we haven't put anything in it yet. This can be useful when we plan to add data later on.\n",
    "\n"
   ]
  },
  {
   "cell_type": "markdown",
   "id": "af6f490d-4f14-4d41-bf8b-b7d0e53fe21f",
   "metadata": {},
   "source": [
    "#### example"
   ]
  },
  {
   "cell_type": "code",
   "execution_count": 12,
   "id": "d59361f1-371d-4ac5-bae3-b23be8cc1399",
   "metadata": {},
   "outputs": [],
   "source": [
    "production_data =  [1000,1100,1200,1300,1400,1500,1600]"
   ]
  },
  {
   "cell_type": "code",
   "execution_count": 13,
   "id": "a1199f27-8608-4c1e-ba72-c150c811880a",
   "metadata": {},
   "outputs": [],
   "source": [
    "prodection_day = ['day1','day2','day3','day4','day5','day6','day7',]"
   ]
  },
  {
   "cell_type": "code",
   "execution_count": 14,
   "id": "88a0d7c4-edb9-4272-9a6d-6718703c3b94",
   "metadata": {},
   "outputs": [],
   "source": [
    "my_series = pd.Series(data = production_data,index=prodection_day,name='production details')"
   ]
  },
  {
   "cell_type": "code",
   "execution_count": 15,
   "id": "b81de239-1e7a-4889-9038-e38bc38647d7",
   "metadata": {},
   "outputs": [
    {
     "data": {
      "text/plain": [
       "day1    1000\n",
       "day2    1100\n",
       "day3    1200\n",
       "day4    1300\n",
       "day5    1400\n",
       "day6    1500\n",
       "day7    1600\n",
       "Name: production details, dtype: int64"
      ]
     },
     "execution_count": 15,
     "metadata": {},
     "output_type": "execute_result"
    }
   ],
   "source": [
    "my_series"
   ]
  },
  {
   "cell_type": "code",
   "execution_count": 16,
   "id": "61a432db-7ba5-4467-b3fb-a873bb674281",
   "metadata": {},
   "outputs": [
    {
     "ename": "ValueError",
     "evalue": "Length of values (6) does not match length of index (7)",
     "output_type": "error",
     "traceback": [
      "\u001b[1;31m---------------------------------------------------------------------------\u001b[0m",
      "\u001b[1;31mValueError\u001b[0m                                Traceback (most recent call last)",
      "Cell \u001b[1;32mIn[16], line 1\u001b[0m\n\u001b[1;32m----> 1\u001b[0m daily_prodection \u001b[38;5;241m=\u001b[39m pd\u001b[38;5;241m.\u001b[39mSeries(data \u001b[38;5;241m=\u001b[39m production_data[\u001b[38;5;241m1\u001b[39m:],index \u001b[38;5;241m=\u001b[39m prodection_day,name \u001b[38;5;241m=\u001b[39m \u001b[38;5;124m'\u001b[39m\u001b[38;5;124mproduction detail\u001b[39m\u001b[38;5;124m'\u001b[39m)\n",
      "File \u001b[1;32m~\\anaconda3\\Lib\\site-packages\\pandas\\core\\series.py:575\u001b[0m, in \u001b[0;36mSeries.__init__\u001b[1;34m(self, data, index, dtype, name, copy, fastpath)\u001b[0m\n\u001b[0;32m    573\u001b[0m     index \u001b[38;5;241m=\u001b[39m default_index(\u001b[38;5;28mlen\u001b[39m(data))\n\u001b[0;32m    574\u001b[0m \u001b[38;5;28;01melif\u001b[39;00m is_list_like(data):\n\u001b[1;32m--> 575\u001b[0m     com\u001b[38;5;241m.\u001b[39mrequire_length_match(data, index)\n\u001b[0;32m    577\u001b[0m \u001b[38;5;66;03m# create/copy the manager\u001b[39;00m\n\u001b[0;32m    578\u001b[0m \u001b[38;5;28;01mif\u001b[39;00m \u001b[38;5;28misinstance\u001b[39m(data, (SingleBlockManager, SingleArrayManager)):\n",
      "File \u001b[1;32m~\\anaconda3\\Lib\\site-packages\\pandas\\core\\common.py:573\u001b[0m, in \u001b[0;36mrequire_length_match\u001b[1;34m(data, index)\u001b[0m\n\u001b[0;32m    569\u001b[0m \u001b[38;5;250m\u001b[39m\u001b[38;5;124;03m\"\"\"\u001b[39;00m\n\u001b[0;32m    570\u001b[0m \u001b[38;5;124;03mCheck the length of data matches the length of the index.\u001b[39;00m\n\u001b[0;32m    571\u001b[0m \u001b[38;5;124;03m\"\"\"\u001b[39;00m\n\u001b[0;32m    572\u001b[0m \u001b[38;5;28;01mif\u001b[39;00m \u001b[38;5;28mlen\u001b[39m(data) \u001b[38;5;241m!=\u001b[39m \u001b[38;5;28mlen\u001b[39m(index):\n\u001b[1;32m--> 573\u001b[0m     \u001b[38;5;28;01mraise\u001b[39;00m \u001b[38;5;167;01mValueError\u001b[39;00m(\n\u001b[0;32m    574\u001b[0m         \u001b[38;5;124m\"\u001b[39m\u001b[38;5;124mLength of values \u001b[39m\u001b[38;5;124m\"\u001b[39m\n\u001b[0;32m    575\u001b[0m         \u001b[38;5;124mf\u001b[39m\u001b[38;5;124m\"\u001b[39m\u001b[38;5;124m(\u001b[39m\u001b[38;5;132;01m{\u001b[39;00m\u001b[38;5;28mlen\u001b[39m(data)\u001b[38;5;132;01m}\u001b[39;00m\u001b[38;5;124m) \u001b[39m\u001b[38;5;124m\"\u001b[39m\n\u001b[0;32m    576\u001b[0m         \u001b[38;5;124m\"\u001b[39m\u001b[38;5;124mdoes not match length of index \u001b[39m\u001b[38;5;124m\"\u001b[39m\n\u001b[0;32m    577\u001b[0m         \u001b[38;5;124mf\u001b[39m\u001b[38;5;124m\"\u001b[39m\u001b[38;5;124m(\u001b[39m\u001b[38;5;132;01m{\u001b[39;00m\u001b[38;5;28mlen\u001b[39m(index)\u001b[38;5;132;01m}\u001b[39;00m\u001b[38;5;124m)\u001b[39m\u001b[38;5;124m\"\u001b[39m\n\u001b[0;32m    578\u001b[0m     )\n",
      "\u001b[1;31mValueError\u001b[0m: Length of values (6) does not match length of index (7)"
     ]
    }
   ],
   "source": [
    "daily_prodection = pd.Series(data = production_data[1:],index = prodection_day,name = 'production detail')"
   ]
  },
  {
   "cell_type": "code",
   "execution_count": null,
   "id": "ea3a5820-437c-4301-9c09-7762b08e904f",
   "metadata": {},
   "outputs": [],
   "source": [
    "my_series.name"
   ]
  },
  {
   "cell_type": "code",
   "execution_count": null,
   "id": "0537243c-675a-4c64-934a-abd2d1a023f7",
   "metadata": {},
   "outputs": [],
   "source": [
    "my_series.index"
   ]
  },
  {
   "cell_type": "code",
   "execution_count": null,
   "id": "bb800574-6ffe-4b50-8ac1-92fecb37f48e",
   "metadata": {},
   "outputs": [],
   "source": [
    "my_series.values # in here we dont use data we there values of series"
   ]
  },
  {
   "cell_type": "code",
   "execution_count": null,
   "id": "e7015de8-ed51-458a-a70c-4d002295c90a",
   "metadata": {},
   "outputs": [],
   "source": [
    "my_series.dtype"
   ]
  },
  {
   "cell_type": "code",
   "execution_count": null,
   "id": "899197c3-21c3-409e-bc75-3372da62f804",
   "metadata": {},
   "outputs": [],
   "source": [
    "my_series.shape"
   ]
  },
  {
   "cell_type": "code",
   "execution_count": null,
   "id": "198f70c6-fd9b-48f8-94e7-afbe146e8761",
   "metadata": {},
   "outputs": [],
   "source": [
    "my_series.ndim # dimentional of this serries"
   ]
  },
  {
   "cell_type": "code",
   "execution_count": null,
   "id": "8fe4661a-ccbb-4f56-bf50-36bdcfc21092",
   "metadata": {},
   "outputs": [],
   "source": [
    "len(my_series)"
   ]
  },
  {
   "cell_type": "markdown",
   "id": "2c7ec504-89ee-4199-9f89-3661291dfb3e",
   "metadata": {},
   "source": [
    "## DATAFRAMES"
   ]
  },
  {
   "cell_type": "markdown",
   "id": "46bb3751-1f24-417b-9396-e142bf2caa4a",
   "metadata": {},
   "source": [
    "pd.DataFrame(data, index, columns, dtype)"
   ]
  },
  {
   "cell_type": "code",
   "execution_count": null,
   "id": "9edf0bd9-de4f-448b-889e-546fcddab8a7",
   "metadata": {},
   "outputs": [],
   "source": [
    "cus_data = [\n",
    "    ['01','anish verma','anis@gmail.com','9818727396',50],\n",
    "    ['02','harsh verma','harsh@gmail.com','9818725396',70],\n",
    "    ['03','khushi verma','harsh@gmail.com','9818724396',90]\n",
    "]\n",
    "\n",
    "cus_column = [['COSTUMER ID','NAME','EMAIL','PHONE NO.','TOTAL PURCHASE']]"
   ]
  },
  {
   "cell_type": "code",
   "execution_count": null,
   "id": "9475d85c-7f22-4a4f-9920-beb9987913a3",
   "metadata": {},
   "outputs": [],
   "source": [
    "df = pd.DataFrame(data=cus_data,columns=cus_column)"
   ]
  },
  {
   "cell_type": "code",
   "execution_count": null,
   "id": "44695bb5-e455-42d8-872a-0164c822605d",
   "metadata": {},
   "outputs": [],
   "source": [
    "df"
   ]
  },
  {
   "cell_type": "code",
   "execution_count": null,
   "id": "7c05132d-fab5-44e9-8836-a46fc99d7f71",
   "metadata": {},
   "outputs": [],
   "source": [
    "cus_index = ['A','B','C']"
   ]
  },
  {
   "cell_type": "code",
   "execution_count": null,
   "id": "8341f385-46d7-4dd0-9481-35b324681e21",
   "metadata": {},
   "outputs": [],
   "source": [
    "df_ind = pd.DataFrame(data = cus_data,index = cus_index,columns =cus_column)"
   ]
  },
  {
   "cell_type": "code",
   "execution_count": null,
   "id": "2b9fa5de-45a1-4c54-ac6c-370258f4bfb2",
   "metadata": {},
   "outputs": [],
   "source": [
    "df_ind"
   ]
  },
  {
   "cell_type": "markdown",
   "id": "952aeb1f-1f49-4bb5-aa36-8fd00b9493ad",
   "metadata": {},
   "source": [
    "## Creating DataFrames from Dictionaries\n",
    "\n"
   ]
  },
  {
   "cell_type": "code",
   "execution_count": null,
   "id": "d3c786a0-ce95-4ff7-893a-e4d4d72b633d",
   "metadata": {},
   "outputs": [],
   "source": [
    "cus_dict = {\n",
    "    'COSTUMER ID ':['A','B','C','D'],\n",
    "    'NAME':['ANISH','HARSH','KHSUHI','ONI'],\n",
    "    'EMAIL':['anish@gmail.com','harsh@gmail.com','khushi@gmail.com','oninoni@gmail.com'],\n",
    "    'PHONE NO.':['9818727396','9818747396','9488727396','9818757396'],\n",
    "    'PURCHASE':[50,20,10,40]\n",
    "}"
   ]
  },
  {
   "cell_type": "code",
   "execution_count": null,
   "id": "0e0a4ee1-dc32-4cfe-a76b-ff4c0e1abe39",
   "metadata": {},
   "outputs": [],
   "source": [
    "new_df = pd.DataFrame(cus_dict,index = ['a','b','c','d'])"
   ]
  },
  {
   "cell_type": "code",
   "execution_count": null,
   "id": "c72a931e-d29f-4d72-965b-73de2256aafa",
   "metadata": {},
   "outputs": [],
   "source": [
    "new_df"
   ]
  },
  {
   "cell_type": "markdown",
   "id": "931b778c-af3f-4eb2-ad88-fb7a57f880ca",
   "metadata": {},
   "source": [
    "## READING DATA FROM SYSTEM FILE"
   ]
  },
  {
   "cell_type": "markdown",
   "id": "0633268b-72a8-4e2b-8fe0-17d3b1edcaf3",
   "metadata": {},
   "source": [
    "##### pd.read_csv(filepath_or_buffer, index_col=None, dtype=None)"
   ]
  },
  {
   "cell_type": "markdown",
   "id": "5fb0d81d-7117-4493-8c83-3b44196fe750",
   "metadata": {},
   "source": [
    "Let’s look at the function in more detail:\n",
    "\n",
    "pd.read_csv: This is a function provided by the pandas library specifically designed for reading data from CSV files.\n",
    "\n",
    "filepath_or_buffer: This is the path or URL of the CSV file you want to read. You should replace filepath_or_buffer with the actual file path or URL.\n",
    "\n",
    "index_col: This parameter is optional. It specifies which column(s) should be used as the index (row labels) of the resulting DataFrame. If not provided, pandas will automatically assign integer indices.\n",
    "\n",
    "dtype: This parameter is optional. It allows you to specify the data types for the columns in the DataFrame. If not provided, pandas will infer the data types."
   ]
  },
  {
   "cell_type": "code",
   "execution_count": null,
   "id": "39e03a7d-b856-469d-bf8f-59d51b1ae0ac",
   "metadata": {},
   "outputs": [],
   "source": [
    "df_read = pd.read_csv('anish.csv')"
   ]
  },
  {
   "cell_type": "code",
   "execution_count": null,
   "id": "cef64b78-4e27-41c4-8b0c-6ee4c92a9c11",
   "metadata": {},
   "outputs": [],
   "source": [
    "df_read"
   ]
  },
  {
   "cell_type": "code",
   "execution_count": null,
   "id": "40c556f5-66f0-4436-8425-e3e024294b3e",
   "metadata": {},
   "outputs": [],
   "source": [
    "new_read  = pd.read_csv(filepath_or_buffer = 'anish.csv',index_col ='name' )"
   ]
  },
  {
   "cell_type": "code",
   "execution_count": null,
   "id": "7a940282-238d-4af5-b0c8-4266906c4d8c",
   "metadata": {},
   "outputs": [],
   "source": [
    "new_read"
   ]
  },
  {
   "cell_type": "code",
   "execution_count": null,
   "id": "8112da87-6bd2-4af2-9426-986deb723a25",
   "metadata": {},
   "outputs": [],
   "source": [
    "read_carprice = pd.read_csv('carprices.csv')"
   ]
  },
  {
   "cell_type": "code",
   "execution_count": null,
   "id": "9da30071-acf6-45bf-8f55-7798efd118fd",
   "metadata": {},
   "outputs": [],
   "source": [
    "read_carprice"
   ]
  },
  {
   "cell_type": "code",
   "execution_count": null,
   "id": "91da61b7-5348-41b0-b677-b46845eb90d5",
   "metadata": {},
   "outputs": [],
   "source": [
    "read_movierating = pd.read_csv('User_Movie_Ratings.csv',index_col = None) # index_col/set_index both are same "
   ]
  },
  {
   "cell_type": "code",
   "execution_count": null,
   "id": "914d17dc-4976-4051-a843-639630edf022",
   "metadata": {},
   "outputs": [],
   "source": [
    "read_movierating"
   ]
  },
  {
   "cell_type": "code",
   "execution_count": null,
   "id": "b1af1b66-bb16-4c67-806b-a9d753fd434b",
   "metadata": {},
   "outputs": [],
   "source": []
  },
  {
   "cell_type": "code",
   "execution_count": null,
   "id": "9e98e138-72fb-4e22-baab-4908a8b7508b",
   "metadata": {},
   "outputs": [],
   "source": [
    "dfr = pd.read_clipboard()"
   ]
  },
  {
   "cell_type": "code",
   "execution_count": null,
   "id": "1cd3f892-3a98-41b6-aa12-79a1918bc041",
   "metadata": {},
   "outputs": [],
   "source": [
    "dfr.set_index('User')"
   ]
  },
  {
   "cell_type": "markdown",
   "id": "2887de7b-8f0d-41fb-9d86-606df3848bdc",
   "metadata": {},
   "source": [
    "#### head and tail"
   ]
  },
  {
   "cell_type": "code",
   "execution_count": null,
   "id": "9e835e04-e5d8-46cf-95a1-7463ef063319",
   "metadata": {},
   "outputs": [],
   "source": [
    "read_movierating.head()"
   ]
  },
  {
   "cell_type": "code",
   "execution_count": null,
   "id": "de10d6c1-0af0-4125-94c9-8e3e377104f9",
   "metadata": {},
   "outputs": [],
   "source": [
    "read_movierating.head(3)"
   ]
  },
  {
   "cell_type": "code",
   "execution_count": null,
   "id": "b9cd691a-129c-4bf9-981b-d03372c660ee",
   "metadata": {},
   "outputs": [],
   "source": [
    "# head show default the first 5 entry and element "
   ]
  },
  {
   "cell_type": "code",
   "execution_count": null,
   "id": "56b69b5c-2545-469c-8ca1-df389d2ca6c7",
   "metadata": {},
   "outputs": [],
   "source": [
    "read_movierating.tail()"
   ]
  },
  {
   "cell_type": "code",
   "execution_count": null,
   "id": "47622eab-eddb-4870-9af8-81b361f2c9ec",
   "metadata": {},
   "outputs": [],
   "source": [
    "read_movierating.tail(2)"
   ]
  },
  {
   "cell_type": "code",
   "execution_count": null,
   "id": "cd358829-ddc7-4215-985f-8d553027fefc",
   "metadata": {},
   "outputs": [],
   "source": [
    "# tail show default last 5 entry "
   ]
  },
  {
   "cell_type": "code",
   "execution_count": null,
   "id": "6eaee244-c6dd-46bb-b986-009fd9f66d1f",
   "metadata": {},
   "outputs": [],
   "source": [
    "read_carprice.axes"
   ]
  },
  {
   "cell_type": "code",
   "execution_count": null,
   "id": "15833d3a-adfb-4667-9f67-373cb3ec9315",
   "metadata": {},
   "outputs": [],
   "source": [
    "read_carprice.index"
   ]
  },
  {
   "cell_type": "code",
   "execution_count": null,
   "id": "8d0a6d3e-d9c4-4b35-9faf-bbc371bfebf7",
   "metadata": {},
   "outputs": [],
   "source": [
    "read_carprice.columns"
   ]
  },
  {
   "cell_type": "code",
   "execution_count": null,
   "id": "6ee6741c-394d-4599-a916-e583b7d363e4",
   "metadata": {},
   "outputs": [],
   "source": [
    "len(read_carprice)"
   ]
  },
  {
   "cell_type": "code",
   "execution_count": null,
   "id": "f732401e-97eb-48d5-8374-6064a8b2afc1",
   "metadata": {},
   "outputs": [],
   "source": [
    "read_carprice.shape"
   ]
  },
  {
   "cell_type": "code",
   "execution_count": null,
   "id": "e7909f9b-faef-4d79-9460-bb2a677a719d",
   "metadata": {},
   "outputs": [],
   "source": [
    "read_carprice.size"
   ]
  },
  {
   "cell_type": "code",
   "execution_count": null,
   "id": "9687d37a-8a34-4e59-8ffa-16f1314dc50f",
   "metadata": {},
   "outputs": [],
   "source": [
    "read_carprice.dtypes"
   ]
  },
  {
   "cell_type": "code",
   "execution_count": null,
   "id": "8be10189-ea41-40e3-b389-59d3718538d8",
   "metadata": {},
   "outputs": [],
   "source": [
    "read_carprice.info()"
   ]
  },
  {
   "cell_type": "code",
   "execution_count": null,
   "id": "bc5508a4-7c61-4939-9328-fd7977527eca",
   "metadata": {},
   "outputs": [],
   "source": [
    "read_carprice.keys()"
   ]
  },
  {
   "cell_type": "code",
   "execution_count": null,
   "id": "516d72c9-8d7a-4d86-9da1-6081fd63ad3a",
   "metadata": {},
   "outputs": [],
   "source": [
    "read_carprice.values"
   ]
  },
  {
   "cell_type": "code",
   "execution_count": null,
   "id": "79064fc6-0e8d-4df9-9792-a708c6bdd748",
   "metadata": {},
   "outputs": [],
   "source": [
    "read_movierating.transpose() # simple meaning is that it change the angle"
   ]
  },
  {
   "cell_type": "markdown",
   "id": "ab5a650b-581f-4918-a899-814475beb089",
   "metadata": {},
   "source": [
    "## Accessing Data From DataFrames"
   ]
  },
  {
   "cell_type": "markdown",
   "id": "91a40a72-952d-4266-b8b0-9dfb92c0be74",
   "metadata": {},
   "source": [
    "### Direct Access"
   ]
  },
  {
   "cell_type": "code",
   "execution_count": null,
   "id": "4e4a8a81-3c9a-4535-bc53-145c9db14c2f",
   "metadata": {},
   "outputs": [],
   "source": [
    "read_carprice.carname # variable.columns"
   ]
  },
  {
   "cell_type": "code",
   "execution_count": null,
   "id": "eb9c116a-7cd6-437a-8a20-c6acefb90f25",
   "metadata": {},
   "outputs": [],
   "source": [
    "read_movierating['Spiderman']"
   ]
  },
  {
   "cell_type": "code",
   "execution_count": null,
   "id": "1067b7b4-2d5c-489d-9422-eddc6ae45825",
   "metadata": {},
   "outputs": [],
   "source": [
    "read_movierating[['Annabelle','Thor']] # use double bracket"
   ]
  },
  {
   "cell_type": "code",
   "execution_count": null,
   "id": "07718516-0809-40c8-9963-9248e16db9f9",
   "metadata": {},
   "outputs": [],
   "source": [
    "read_movierating['Thor'][2] # read_movierating['column name'][index number it can be string or int]"
   ]
  },
  {
   "cell_type": "code",
   "execution_count": null,
   "id": "84c63100-6b77-4fc4-9381-15359ae4f32f",
   "metadata": {},
   "outputs": [],
   "source": [
    "excel = pd.read_excel('room_expenditure.xlsx',index_col = 'Room')"
   ]
  },
  {
   "cell_type": "code",
   "execution_count": null,
   "id": "c6a5ce60-39fe-4866-88ad-38df369b3b6a",
   "metadata": {},
   "outputs": [],
   "source": [
    "excel"
   ]
  },
  {
   "cell_type": "code",
   "execution_count": null,
   "id": "26757d47-53fb-42ff-8ebc-324840be66b9",
   "metadata": {},
   "outputs": [],
   "source": [
    "excel['Expenditure'][0:5]"
   ]
  },
  {
   "cell_type": "code",
   "execution_count": null,
   "id": "53015777-d246-43ca-8b5d-1f4ad62dcb5c",
   "metadata": {},
   "outputs": [],
   "source": [
    "excel['Expenditure']['A5']"
   ]
  },
  {
   "cell_type": "code",
   "execution_count": null,
   "id": "0367b149-a881-4dbc-a911-607fbc49e886",
   "metadata": {},
   "outputs": [],
   "source": [
    "excel[A1]"
   ]
  },
  {
   "cell_type": "code",
   "execution_count": null,
   "id": "6bba3e20-6840-4c3f-a5a1-ff12df61c3e9",
   "metadata": {},
   "outputs": [],
   "source": [
    "excel = excel.transpose()"
   ]
  },
  {
   "cell_type": "code",
   "execution_count": null,
   "id": "8b62676e-ef3e-47cd-80dc-cbbe84447f9a",
   "metadata": {},
   "outputs": [],
   "source": [
    "excel"
   ]
  },
  {
   "cell_type": "code",
   "execution_count": null,
   "id": "a390f05d-b8cf-488f-8f40-9a3df0962346",
   "metadata": {},
   "outputs": [],
   "source": [
    "excel['A1'] #Now we can use the ‘Room’ row values as column indices. \n",
    "\n"
   ]
  },
  {
   "cell_type": "markdown",
   "id": "ee76e480-9aa6-4bcc-b461-1dae971d0c0b",
   "metadata": {},
   "source": [
    "### The loc indexer (Label-based Indexing)"
   ]
  },
  {
   "cell_type": "markdown",
   "id": "23db6410-d629-4365-b25e-941ae2a223d9",
   "metadata": {},
   "source": [
    "1. .loc[] (Label-based Indexing)\n",
    "Uses labels (index names) to select rows and columns.\n",
    "\n",
    "Includes both start and end values in slicing.\n",
    "\n",
    "Syntax: df.loc[row_label, column_label]"
   ]
  },
  {
   "cell_type": "markdown",
   "id": "9257d601-4504-409a-9f01-4b4906ac1869",
   "metadata": {},
   "source": [
    "The syntax for using loc is typically df.loc[row_label, column_label], where row_label and column_label are the labels of the row and column you want to access, respectively. Consider the following example.\n",
    "\n"
   ]
  },
  {
   "cell_type": "code",
   "execution_count": null,
   "id": "1629fdbd-a5cb-4ac9-b86b-a581371cee59",
   "metadata": {},
   "outputs": [],
   "source": [
    "excel2 = pd.read_excel('room_expenditure.xlsx',index_col = None)"
   ]
  },
  {
   "cell_type": "code",
   "execution_count": null,
   "id": "308379f7-8543-485d-b5c4-b35ecb89da98",
   "metadata": {},
   "outputs": [],
   "source": [
    "excel2"
   ]
  },
  {
   "cell_type": "code",
   "execution_count": null,
   "id": "fe18661e-66fe-4120-9c75-9ab1e74258c4",
   "metadata": {},
   "outputs": [],
   "source": [
    "excel2.loc[0]"
   ]
  },
  {
   "cell_type": "code",
   "execution_count": null,
   "id": "19e2ad01-8536-4877-9109-1039e3991cfc",
   "metadata": {},
   "outputs": [],
   "source": [
    "excel2.loc[5,'Age']"
   ]
  },
  {
   "cell_type": "code",
   "execution_count": null,
   "id": "fca87e90-b26c-4f83-a78c-c1e88514d799",
   "metadata": {},
   "outputs": [],
   "source": [
    "excel2.loc[:,'Age']"
   ]
  },
  {
   "cell_type": "code",
   "execution_count": null,
   "id": "20401b8e-1caa-4409-90e4-bbdec9d5297b",
   "metadata": {},
   "outputs": [],
   "source": [
    "excel2[['Age','Expenditure']]"
   ]
  },
  {
   "cell_type": "code",
   "execution_count": null,
   "id": "320cd09f-d1c5-4a8d-802e-ff0cbebb54a0",
   "metadata": {},
   "outputs": [],
   "source": [
    "excel2.loc[0,['Age','Expenditure']]"
   ]
  },
  {
   "cell_type": "code",
   "execution_count": null,
   "id": "9f34cb41-c7b3-4277-bd6a-b4901e05740c",
   "metadata": {},
   "outputs": [],
   "source": [
    "excel2.loc[1:6,['Age','Expenditure']]"
   ]
  },
  {
   "cell_type": "code",
   "execution_count": null,
   "id": "d3d6c640-25ce-4efb-a7bf-c8097ee9a6fc",
   "metadata": {},
   "outputs": [],
   "source": [
    "excel2.loc[0:5,['Age','Expenditure']]"
   ]
  },
  {
   "cell_type": "markdown",
   "id": "e62182f5-be72-4eb0-948b-da43f1e49546",
   "metadata": {},
   "source": [
    "## iloc (Integer-based Indexing)"
   ]
  },
  {
   "cell_type": "markdown",
   "id": "557ce82d-a71b-4b18-ac13-3b9d6255d2c9",
   "metadata": {},
   "source": [
    "2. .iloc[] (Integer-based Indexing)\n",
    "Uses integer positions (0-based index) to select rows and columns.\n",
    "\n",
    "Excludes the end value in slicing (like Python’s range).\n",
    "\n",
    "Syntax: df.iloc[row_index, column_index]"
   ]
  },
  {
   "cell_type": "code",
   "execution_count": null,
   "id": "7ac7b244-af6b-4018-bf0f-3a49a3de8926",
   "metadata": {},
   "outputs": [],
   "source": [
    "excel2.iloc[0]"
   ]
  },
  {
   "cell_type": "code",
   "execution_count": null,
   "id": "f69988ed-3293-4d6f-bdd3-2112cf92b8c9",
   "metadata": {},
   "outputs": [],
   "source": [
    "excel2.iloc[0:5,0:2]"
   ]
  },
  {
   "cell_type": "code",
   "execution_count": null,
   "id": "6c64d3f7-f9af-4e75-8d5d-2e8406eed35f",
   "metadata": {},
   "outputs": [],
   "source": [
    "# if you  want specific row and specific column \n",
    "#use\n",
    "excel2.iloc[[1,3,4,6],[0,2,4]]"
   ]
  },
  {
   "cell_type": "code",
   "execution_count": null,
   "id": "4bdcad51-e6d0-46fd-9587-a774a2a9f682",
   "metadata": {},
   "outputs": [],
   "source": [
    "print(type(excel2.iloc[[1,3,4,6],[0,2,4]]))"
   ]
  },
  {
   "cell_type": "markdown",
   "id": "6e279af4-e954-4e2c-b826-138256191529",
   "metadata": {},
   "source": [
    "## Conditional (boolean) indexing\n",
    "\n"
   ]
  },
  {
   "cell_type": "code",
   "execution_count": null,
   "id": "8592128e-137f-4679-98c9-e52cd5d81e24",
   "metadata": {},
   "outputs": [],
   "source": [
    "excel2['Expenditure']>15"
   ]
  },
  {
   "cell_type": "code",
   "execution_count": null,
   "id": "3b7dcf46-d3f9-4215-a9e9-480627238c8c",
   "metadata": {},
   "outputs": [],
   "source": [
    "excel2[excel2['Expenditure']>15]"
   ]
  },
  {
   "cell_type": "code",
   "execution_count": null,
   "id": "672ed395-7e4d-4067-8d9f-f51dc40a7b2a",
   "metadata": {},
   "outputs": [],
   "source": [
    "excel2[[excel2['Expenditure']>15] & [excel2['Cuisine']=='Indian']]"
   ]
  },
  {
   "cell_type": "code",
   "execution_count": null,
   "id": "7e3e287a-2515-4694-8a3a-29cca0b4f310",
   "metadata": {},
   "outputs": [],
   "source": [
    "excel2[(excel2['Expenditure']>15) & (excel2['Cuisine']=='Indian')]"
   ]
  },
  {
   "cell_type": "markdown",
   "id": "43d8f177-ed71-4c4d-b830-664e3f337654",
   "metadata": {},
   "source": [
    "Using & (AND operator):\n",
    "\n",
    "Both conditions must be inside () parentheses to avoid operator precedence issues.\n",
    "\n"
   ]
  },
  {
   "cell_type": "code",
   "execution_count": null,
   "id": "3821483a-5c1d-465c-a649-47bd4ef0cca7",
   "metadata": {},
   "outputs": [],
   "source": [
    "excel2[excel2['Cuisine'].isin(['Indian'])]"
   ]
  },
  {
   "cell_type": "markdown",
   "id": "fcb75b87-57a7-4108-b8a5-3761d2f355ae",
   "metadata": {},
   "source": [
    "#### question"
   ]
  },
  {
   "cell_type": "code",
   "execution_count": null,
   "id": "e5d5f19e-9a2b-4aa5-86c0-3bc92471fde6",
   "metadata": {},
   "outputs": [],
   "source": [
    "cars = pd.read_csv('cars_dataset.csv',index_col = None)"
   ]
  },
  {
   "cell_type": "code",
   "execution_count": null,
   "id": "95cc2b21-50a1-40a1-92f2-f664b2c37184",
   "metadata": {},
   "outputs": [],
   "source": [
    "cars"
   ]
  },
  {
   "cell_type": "code",
   "execution_count": null,
   "id": "044a560f-794a-4327-934e-e06cd64b40a6",
   "metadata": {},
   "outputs": [],
   "source": [
    "cars.carname"
   ]
  },
  {
   "cell_type": "code",
   "execution_count": null,
   "id": "1ee26601-008a-4546-81f6-a1d0debdfa14",
   "metadata": {},
   "outputs": [],
   "source": [
    "cars['carname']"
   ]
  },
  {
   "cell_type": "code",
   "execution_count": null,
   "id": "34c68fb3-091c-4193-b301-5866ab4e28c5",
   "metadata": {},
   "outputs": [],
   "source": [
    "cars.get('carname')"
   ]
  },
  {
   "cell_type": "code",
   "execution_count": null,
   "id": "98d7f4ec-5cc3-4d22-a2d7-72069ede51a4",
   "metadata": {},
   "outputs": [],
   "source": [
    "cars[['carname','price']]"
   ]
  },
  {
   "cell_type": "code",
   "execution_count": null,
   "id": "4b8c829e-9498-4701-a489-7abd52fdc660",
   "metadata": {},
   "outputs": [],
   "source": [
    "cars.loc[:,['carname','price']]"
   ]
  },
  {
   "cell_type": "markdown",
   "id": "7b7882db-ed68-4049-81d5-e78253e8be12",
   "metadata": {},
   "source": [
    "#  Pandas Operations!"
   ]
  },
  {
   "cell_type": "markdown",
   "id": "e84bc33f-be63-4a70-9f2d-5d6dca2f10d7",
   "metadata": {},
   "source": [
    "## Series operations \n",
    "\n"
   ]
  },
  {
   "cell_type": "code",
   "execution_count": null,
   "id": "d2149006-0eb2-489c-9930-87db66d49501",
   "metadata": {},
   "outputs": [],
   "source": [
    "production_data = [1000, 1200, 1100, 950, 1050, 1430, 1760]"
   ]
  },
  {
   "cell_type": "code",
   "execution_count": null,
   "id": "ced19e72-d409-490d-b360-4ef4f6d733ad",
   "metadata": {},
   "outputs": [],
   "source": [
    "production_day = ['Day1', 'Day2', 'Day3', 'Day4', 'Day5', 'Day6', 'Day7']"
   ]
  },
  {
   "cell_type": "code",
   "execution_count": null,
   "id": "5919b1e8-08f7-4566-bd15-04ffce26f077",
   "metadata": {},
   "outputs": [],
   "source": [
    "production = pd.Series(production_day,production_data,name = 'daily production')"
   ]
  },
  {
   "cell_type": "code",
   "execution_count": null,
   "id": "197c1b54-07ee-47ad-827c-3f119c5c8135",
   "metadata": {},
   "outputs": [],
   "source": [
    "production"
   ]
  },
  {
   "cell_type": "markdown",
   "id": "8d588019-b47c-4c0a-9557-b41f80e49093",
   "metadata": {},
   "source": [
    "#### rename()"
   ]
  },
  {
   "cell_type": "code",
   "execution_count": null,
   "id": "482e185a-8c9f-4404-a989-3c0e3c07a72e",
   "metadata": {},
   "outputs": [],
   "source": [
    "production.rename(index = 'name is change')"
   ]
  },
  {
   "cell_type": "code",
   "execution_count": null,
   "id": "e5a7e020-d736-46be-865e-faee8bbad044",
   "metadata": {},
   "outputs": [],
   "source": [
    "# another way to change the name \n",
    "production.name = 'another way to change the name'"
   ]
  },
  {
   "cell_type": "code",
   "execution_count": null,
   "id": "e34a7bfb-5fb5-479b-8d2b-aafd18fe855c",
   "metadata": {},
   "outputs": [],
   "source": [
    "production"
   ]
  },
  {
   "cell_type": "markdown",
   "id": "d6cd90f9-552f-4b13-a2f8-05de821807c8",
   "metadata": {},
   "source": [
    "Let’s create a series using NumPy arrays."
   ]
  },
  {
   "cell_type": "code",
   "execution_count": null,
   "id": "05cedd7a-cdcc-4460-b3b3-57ca3032bba7",
   "metadata": {},
   "outputs": [],
   "source": [
    "import numpy as np"
   ]
  },
  {
   "cell_type": "code",
   "execution_count": null,
   "id": "b9d01e9a-7bea-41af-9007-694a4cff5c95",
   "metadata": {},
   "outputs": [],
   "source": [
    "array1 = np.array(['anish','khushi','harshu','panu'])"
   ]
  },
  {
   "cell_type": "code",
   "execution_count": null,
   "id": "b16dc5ed-992a-40be-9251-66f1dde82312",
   "metadata": {},
   "outputs": [],
   "source": [
    "array2 = np.array([100,120,130,140])"
   ]
  },
  {
   "cell_type": "code",
   "execution_count": null,
   "id": "d39e77e6-c30f-4c57-9a45-a429ce2a6077",
   "metadata": {},
   "outputs": [],
   "source": [
    "series2 = pd.Series(array1,array2,name = 'bhai bhen')"
   ]
  },
  {
   "cell_type": "code",
   "execution_count": null,
   "id": "d49863b7-8de1-4d50-a406-8b158ceabf1d",
   "metadata": {},
   "outputs": [],
   "source": [
    "print(series2)"
   ]
  },
  {
   "cell_type": "markdown",
   "id": "283c2c43-e745-4a90-be28-8f3ece64b22d",
   "metadata": {},
   "source": [
    "####  Applying condition"
   ]
  },
  {
   "cell_type": "code",
   "execution_count": null,
   "id": "6fe5185a-4a0d-4e88-8d84-bcd76a7fb2d1",
   "metadata": {},
   "outputs": [],
   "source": [
    "production_data = [1000, 1200, 1100, 950, 1050, 1430, 1760]"
   ]
  },
  {
   "cell_type": "code",
   "execution_count": null,
   "id": "65c93021-e4d6-495a-966b-0d02c6b174d2",
   "metadata": {},
   "outputs": [],
   "source": [
    "production_day = ['Day1', 'Day2', 'Day3', 'Day4', 'Day5', 'Day6', 'Day7']"
   ]
  },
  {
   "cell_type": "code",
   "execution_count": null,
   "id": "53358d04-b370-47dc-aed5-611892a49acc",
   "metadata": {},
   "outputs": [],
   "source": [
    "daily_production = pd.Series(production_data,prodection_day,name = 'daily production')"
   ]
  },
  {
   "cell_type": "code",
   "execution_count": null,
   "id": "8d92359b-dbfc-4d70-aef8-d8aa113e5af3",
   "metadata": {},
   "outputs": [],
   "source": [
    "daily_production"
   ]
  },
  {
   "cell_type": "code",
   "execution_count": null,
   "id": "5e599506-1521-43da-8ee3-cb2b2398b0c0",
   "metadata": {},
   "outputs": [],
   "source": [
    "daily_production[daily_production>1000]"
   ]
  },
  {
   "cell_type": "code",
   "execution_count": null,
   "id": "d34d58f2-d9bb-4dc9-9674-11b9a7b945b6",
   "metadata": {},
   "outputs": [],
   "source": [
    "daily_production[(daily_production > 1000) & (daily_production < 1500)]"
   ]
  },
  {
   "cell_type": "code",
   "execution_count": null,
   "id": "16510e67-21ea-4fee-b492-f1b6a7b399cf",
   "metadata": {},
   "outputs": [],
   "source": [
    "# another way "
   ]
  },
  {
   "cell_type": "code",
   "execution_count": null,
   "id": "4260801d-8c2f-40a0-a09a-52d19ea2f245",
   "metadata": {},
   "outputs": [],
   "source": [
    "show = (daily_production >100) & (daily_production<1500)"
   ]
  },
  {
   "cell_type": "code",
   "execution_count": null,
   "id": "c7a0f4b4-4b36-45ed-98c4-856d2990d482",
   "metadata": {},
   "outputs": [],
   "source": [
    "print(daily_production[show])"
   ]
  },
  {
   "cell_type": "markdown",
   "id": "dfa67051-14f9-4c95-9442-3afba38bc9ce",
   "metadata": {},
   "source": [
    "## DataFrame Operations"
   ]
  },
  {
   "cell_type": "code",
   "execution_count": null,
   "id": "15141ba7-3903-44db-8a35-1f6a3bf98b50",
   "metadata": {},
   "outputs": [],
   "source": [
    "room_exp = pd.read_excel('room_expenditure.xlsx')"
   ]
  },
  {
   "cell_type": "code",
   "execution_count": null,
   "id": "935fdb44-3c37-4c4d-bbcf-5eacb91ceb93",
   "metadata": {},
   "outputs": [],
   "source": [
    "room_exp"
   ]
  },
  {
   "cell_type": "code",
   "execution_count": null,
   "id": "c4b8c049-a071-40da-9521-20ff59d14dac",
   "metadata": {},
   "outputs": [],
   "source": [
    "# Converting floating point values to integers\n",
    "room_exp['Expenditure'].astype(int)"
   ]
  },
  {
   "cell_type": "code",
   "execution_count": null,
   "id": "66aac2a6-3a8c-4ad5-9fa4-f3d4a9775f85",
   "metadata": {},
   "outputs": [],
   "source": [
    "room_exp.dtypes"
   ]
  },
  {
   "cell_type": "code",
   "execution_count": null,
   "id": "43e84aa4-d9b7-4fb2-90be-3ad5ac6ff6e9",
   "metadata": {},
   "outputs": [],
   "source": [
    "newroom = room_exp.convert_dtypes()"
   ]
  },
  {
   "cell_type": "code",
   "execution_count": null,
   "id": "11ef8975-2d82-45ba-80b3-eef8710aa9f4",
   "metadata": {},
   "outputs": [],
   "source": [
    "newroom.dtypes"
   ]
  },
  {
   "cell_type": "code",
   "execution_count": null,
   "id": "b61fbd3c-3e2a-48f3-851a-b9e8053f0702",
   "metadata": {},
   "outputs": [],
   "source": [
    "newroom['Expenditure']+100"
   ]
  },
  {
   "cell_type": "code",
   "execution_count": null,
   "id": "afd02cc6-2c45-43cf-bd3f-e87c1f53f31e",
   "metadata": {},
   "outputs": [],
   "source": [
    "newroom"
   ]
  },
  {
   "cell_type": "code",
   "execution_count": null,
   "id": "6cf719ea-fb39-44b8-a75b-a87029026707",
   "metadata": {},
   "outputs": [],
   "source": [
    "newroom['Expenditure']-10"
   ]
  },
  {
   "cell_type": "code",
   "execution_count": null,
   "id": "673f54f5-6c6e-46b6-a86c-c2a9a775a958",
   "metadata": {},
   "outputs": [],
   "source": [
    "newroom.loc[0:5,['Expenditure']].add(100)"
   ]
  },
  {
   "cell_type": "markdown",
   "id": "6d57cf5f-3943-4118-86c7-1b8fc0f3575f",
   "metadata": {},
   "source": [
    "In Pandas' .loc[] indexing, the end index is inclusive, unlike .iloc[], where the end index is exclusive."
   ]
  },
  {
   "cell_type": "markdown",
   "id": "f659149e-be2a-477b-9c78-3a4d90aacb2f",
   "metadata": {},
   "source": [
    "The '.add()' method allows you to specify a fill_value argument. For instance, if there are NaN values, you can fill them with a value (like 0) before performing the addition. In this case, it can fill any NaN in the Age column with 0 before adding 5."
   ]
  },
  {
   "cell_type": "code",
   "execution_count": null,
   "id": "cc3f1f01-174e-4d88-abd3-f503672247fb",
   "metadata": {},
   "outputs": [],
   "source": [
    "newroom['Age'].add(5, fill_value=0)"
   ]
  },
  {
   "cell_type": "markdown",
   "id": "98c67aa1-deb5-462f-8d00-99d0349c4da9",
   "metadata": {},
   "source": [
    "Likewise, to perform subtraction we can use the sub() function as follows."
   ]
  },
  {
   "cell_type": "code",
   "execution_count": null,
   "id": "040879f8-260e-4ac7-9147-2d0e39fefa0e",
   "metadata": {},
   "outputs": [],
   "source": [
    "newroom['Age'].sub(10)"
   ]
  },
  {
   "cell_type": "code",
   "execution_count": null,
   "id": "8b5db8c1-b9b5-4c1b-ae1e-f01da3b04dc8",
   "metadata": {},
   "outputs": [],
   "source": [
    "newroom['Age'].div(5)"
   ]
  },
  {
   "cell_type": "code",
   "execution_count": null,
   "id": "d560de5f-d87c-468b-92da-e4c75b036d04",
   "metadata": {},
   "outputs": [],
   "source": [
    "newroom['Age'].mul(100)"
   ]
  },
  {
   "cell_type": "markdown",
   "id": "226b923a-a611-4c6b-9793-c70cdbe89308",
   "metadata": {},
   "source": [
    "We can also perform inter-column operations, meaning, adding or subtracting two columns. Consider the following example."
   ]
  },
  {
   "cell_type": "code",
   "execution_count": null,
   "id": "a26ba964-8458-4da6-b27b-b55f555696b1",
   "metadata": {},
   "outputs": [],
   "source": [
    "newroom['Age'] + newroom['Expenditure'] # in here twoo different column add each other "
   ]
  },
  {
   "cell_type": "code",
   "execution_count": null,
   "id": "37d5e0f0-01ea-41dd-a94e-a7a7447d881a",
   "metadata": {},
   "outputs": [],
   "source": [
    "newroom['Age']+room_exp['Expenditure'] # in her two different column from different files"
   ]
  },
  {
   "cell_type": "markdown",
   "id": "df8429f2-8742-4f7e-afda-3740c2c26661",
   "metadata": {},
   "source": [
    "we can perform inter-column addition between string columns.  However, the result obtained would be a dataframe object with the strings concatenated.  See the following example.\n",
    "\n"
   ]
  },
  {
   "cell_type": "code",
   "execution_count": null,
   "id": "5441a3e0-8eb3-4138-bcdb-a3f5888a58bc",
   "metadata": {},
   "outputs": [],
   "source": [
    "newroom['Name']+newroom['Cuisine']"
   ]
  },
  {
   "cell_type": "raw",
   "id": "22f8be57-1c70-4620-ac31-0178cfb5a92a",
   "metadata": {},
   "source": [
    "newroom['Full_Info'] = newroom['Name'] + ' ' + newroom['Cuisine']\n",
    "print(newroom[['Full_Info']])  # Display the new column in between space  this is my experiment \n"
   ]
  },
  {
   "cell_type": "code",
   "execution_count": null,
   "id": "961552bd-134e-4b83-b12d-04a82a43069a",
   "metadata": {},
   "outputs": [],
   "source": [
    "newroom.round()"
   ]
  },
  {
   "cell_type": "markdown",
   "id": "985c5bbb-25f8-49d5-b80c-ffe602cbf257",
   "metadata": {},
   "source": [
    "## Statistical Operations"
   ]
  },
  {
   "cell_type": "code",
   "execution_count": null,
   "id": "2f7cdd18-1d0f-4f49-b4de-2e33c6b04868",
   "metadata": {},
   "outputs": [],
   "source": [
    "newroom['Expenditure'].sum()"
   ]
  },
  {
   "cell_type": "code",
   "execution_count": null,
   "id": "a32d77b0-8896-4e94-87ec-efcf995b65dc",
   "metadata": {},
   "outputs": [],
   "source": [
    "newroom['Expenditure'].mean()"
   ]
  },
  {
   "cell_type": "code",
   "execution_count": null,
   "id": "f0039544-6d17-4c14-a87a-d737b4e0ac36",
   "metadata": {},
   "outputs": [],
   "source": [
    "newroom['Expenditure'].max()"
   ]
  },
  {
   "cell_type": "code",
   "execution_count": null,
   "id": "ab1f745b-ee4d-4ef6-8cd9-3fc27debf676",
   "metadata": {},
   "outputs": [],
   "source": [
    "newroom['Expenditure'].min()"
   ]
  },
  {
   "cell_type": "code",
   "execution_count": null,
   "id": "9e2b0d4a-b9dd-451d-a7f9-a489cf26d86e",
   "metadata": {},
   "outputs": [],
   "source": [
    "newroom['Expenditure'].idxmin() #The code df['Age'].idxmin() is used in pandas to find the index of the row where the minimum value occurs in the 'Age' column."
   ]
  },
  {
   "cell_type": "code",
   "execution_count": null,
   "id": "e357b85a-38fd-4b07-ac49-81e46b700bb0",
   "metadata": {},
   "outputs": [],
   "source": [
    "newroom['Expenditure'].idxmax() "
   ]
  },
  {
   "cell_type": "code",
   "execution_count": null,
   "id": "ff1c0f4d-b023-4cd6-ba3a-e9ea91e8d126",
   "metadata": {},
   "outputs": [],
   "source": [
    "newroom.describe()"
   ]
  },
  {
   "cell_type": "code",
   "execution_count": null,
   "id": "fc851437-4b56-46b6-83e6-aa572f9f499b",
   "metadata": {},
   "outputs": [],
   "source": [
    "newroom['Cuisine'].mode()"
   ]
  },
  {
   "cell_type": "code",
   "execution_count": null,
   "id": "b71a0c6f-fe2e-4338-9d41-e6da6f29cb32",
   "metadata": {},
   "outputs": [],
   "source": [
    "newroom.sort_values(['Expenditure'])"
   ]
  },
  {
   "cell_type": "code",
   "execution_count": null,
   "id": "8c701ccb-344f-4093-9a65-ae7448163779",
   "metadata": {},
   "outputs": [],
   "source": [
    "newroom.sort_values(['Expenditure'],ascending = False)"
   ]
  },
  {
   "cell_type": "code",
   "execution_count": null,
   "id": "ad2ebe30-01d0-4b7c-8e82-8f437fe6abd1",
   "metadata": {},
   "outputs": [],
   "source": [
    "newroom.sort_values(['Cuisine','Expenditure'],ascending=False) # sorted according string not integer here the string priroties"
   ]
  },
  {
   "cell_type": "code",
   "execution_count": null,
   "id": "d7c252dc-240f-4b30-a0c1-1f0de509e2b2",
   "metadata": {},
   "outputs": [],
   "source": [
    "newroom.sort_index()"
   ]
  },
  {
   "cell_type": "code",
   "execution_count": null,
   "id": "e9ee3fc2-e667-4728-8e6a-67449abb1f60",
   "metadata": {},
   "outputs": [],
   "source": [
    "newroom.sort_index(ascending = False)"
   ]
  },
  {
   "cell_type": "markdown",
   "id": "16a0ef72-45f3-4a9d-b6f1-b9767f3976e1",
   "metadata": {},
   "source": [
    "## Functions\n"
   ]
  },
  {
   "cell_type": "code",
   "execution_count": null,
   "id": "e147e5b7-b93a-4ad3-ad05-ed2e63491210",
   "metadata": {},
   "outputs": [],
   "source": [
    "newroom.round()"
   ]
  },
  {
   "cell_type": "markdown",
   "id": "c4c51fb5-06f7-421f-af73-b50f6fc578ac",
   "metadata": {},
   "source": [
    "### apply()"
   ]
  },
  {
   "cell_type": "code",
   "execution_count": null,
   "id": "bb012d1c-941d-4f65-bc22-c3412950f47a",
   "metadata": {},
   "outputs": [],
   "source": [
    "def  first_three_number(row):\n",
    "    row = row[0:3]\n",
    "    return row\n"
   ]
  },
  {
   "cell_type": "code",
   "execution_count": null,
   "id": "2897bbc4-c634-43f5-8095-f728a55e94fd",
   "metadata": {},
   "outputs": [],
   "source": [
    "def mean (row):\n",
    "    row = row *2\n",
    "    return row"
   ]
  },
  {
   "cell_type": "code",
   "execution_count": null,
   "id": "2f417c08-0832-4175-8882-a1d75edfc76e",
   "metadata": {},
   "outputs": [],
   "source": [
    "newroom.apply(first_three_number)"
   ]
  },
  {
   "cell_type": "code",
   "execution_count": null,
   "id": "5115bf72-56fb-48b1-bc94-ad3989811833",
   "metadata": {},
   "outputs": [],
   "source": [
    "newroom['Name'].apply(first_three_number)"
   ]
  },
  {
   "cell_type": "code",
   "execution_count": null,
   "id": "389c28df-7117-4f05-9692-fa88dd81dcb8",
   "metadata": {},
   "outputs": [],
   "source": [
    "newroom['Expenditure'].apply(mean)"
   ]
  },
  {
   "cell_type": "markdown",
   "id": "3045db30-90ab-4f87-af89-a648701441d8",
   "metadata": {},
   "source": [
    "# Group Operations"
   ]
  },
  {
   "cell_type": "code",
   "execution_count": null,
   "id": "f2a817a2-bfa9-4f16-a692-d39a6eb512ae",
   "metadata": {},
   "outputs": [],
   "source": [
    "newroom.groupby(['Cuisine'])"
   ]
  },
  {
   "cell_type": "code",
   "execution_count": null,
   "id": "2590a2ba-a273-4d89-aaef-d88a758f37c6",
   "metadata": {},
   "outputs": [],
   "source": [
    "newroom.groupby(by = ['Cuisine']).mean(numeric_only = True)"
   ]
  },
  {
   "cell_type": "code",
   "execution_count": null,
   "id": "c64640a6-6591-483e-aac5-ddfd306def24",
   "metadata": {},
   "outputs": [],
   "source": [
    "import numpy as np"
   ]
  },
  {
   "cell_type": "code",
   "execution_count": null,
   "id": "e04fcebc-e7e2-4cff-81f4-d75e4604cc5c",
   "metadata": {},
   "outputs": [],
   "source": [
    "newroom.groupby(by='Cuisine')['Expenditure'].apply(np.mean)"
   ]
  },
  {
   "cell_type": "code",
   "execution_count": null,
   "id": "07ccac89-b5a0-4473-b24b-45660bce0750",
   "metadata": {},
   "outputs": [],
   "source": [
    "grouped_df = newroom.groupby('Cuisine')\n",
    "\n",
    "summary_df = grouped_df.aggregate({'Expenditure': 'mean'})\n",
    "\n",
    "\n",
    "\n",
    "print(summary_df)"
   ]
  },
  {
   "cell_type": "markdown",
   "id": "aec01a68-6dd7-44ad-b36e-e1cb18c601df",
   "metadata": {},
   "source": [
    "## Other DataFrame Operations"
   ]
  },
  {
   "cell_type": "markdown",
   "id": "90e3f3a2-3a9c-41da-b33f-9a3adf577df3",
   "metadata": {},
   "source": [
    "### Deleting elements from dataframes"
   ]
  },
  {
   "cell_type": "code",
   "execution_count": 4,
   "id": "c8c34f8c-4745-43ff-9a91-768c58f77753",
   "metadata": {},
   "outputs": [],
   "source": [
    "room3 = pd.read_excel('room_expenditure.xlsx')"
   ]
  },
  {
   "cell_type": "code",
   "execution_count": 6,
   "id": "e5c46465-2f81-4d2a-98fc-9fa3a9614ed0",
   "metadata": {},
   "outputs": [
    {
     "data": {
      "text/html": [
       "<div>\n",
       "<style scoped>\n",
       "    .dataframe tbody tr th:only-of-type {\n",
       "        vertical-align: middle;\n",
       "    }\n",
       "\n",
       "    .dataframe tbody tr th {\n",
       "        vertical-align: top;\n",
       "    }\n",
       "\n",
       "    .dataframe thead th {\n",
       "        text-align: right;\n",
       "    }\n",
       "</style>\n",
       "<table border=\"1\" class=\"dataframe\">\n",
       "  <thead>\n",
       "    <tr style=\"text-align: right;\">\n",
       "      <th></th>\n",
       "      <th>Room</th>\n",
       "      <th>Name</th>\n",
       "      <th>Age</th>\n",
       "      <th>Cuisine</th>\n",
       "      <th>Expenditure</th>\n",
       "    </tr>\n",
       "  </thead>\n",
       "  <tbody>\n",
       "    <tr>\n",
       "      <th>0</th>\n",
       "      <td>A1</td>\n",
       "      <td>Shilpa</td>\n",
       "      <td>18</td>\n",
       "      <td>Indian</td>\n",
       "      <td>24.65</td>\n",
       "    </tr>\n",
       "    <tr>\n",
       "      <th>1</th>\n",
       "      <td>A2</td>\n",
       "      <td>Jaspreet</td>\n",
       "      <td>32</td>\n",
       "      <td>American</td>\n",
       "      <td>18.54</td>\n",
       "    </tr>\n",
       "    <tr>\n",
       "      <th>2</th>\n",
       "      <td>A3</td>\n",
       "      <td>Dominic</td>\n",
       "      <td>19</td>\n",
       "      <td>Indian</td>\n",
       "      <td>27.66</td>\n",
       "    </tr>\n",
       "    <tr>\n",
       "      <th>3</th>\n",
       "      <td>A4</td>\n",
       "      <td>Ahmad</td>\n",
       "      <td>22</td>\n",
       "      <td>American</td>\n",
       "      <td>19.54</td>\n",
       "    </tr>\n",
       "    <tr>\n",
       "      <th>4</th>\n",
       "      <td>A5</td>\n",
       "      <td>Joseph</td>\n",
       "      <td>28</td>\n",
       "      <td>Indian</td>\n",
       "      <td>17.32</td>\n",
       "    </tr>\n",
       "    <tr>\n",
       "      <th>5</th>\n",
       "      <td>A6</td>\n",
       "      <td>Saju</td>\n",
       "      <td>31</td>\n",
       "      <td>Indian</td>\n",
       "      <td>12.56</td>\n",
       "    </tr>\n",
       "    <tr>\n",
       "      <th>6</th>\n",
       "      <td>A7</td>\n",
       "      <td>Monica</td>\n",
       "      <td>48</td>\n",
       "      <td>Chinese</td>\n",
       "      <td>11.09</td>\n",
       "    </tr>\n",
       "    <tr>\n",
       "      <th>7</th>\n",
       "      <td>A8</td>\n",
       "      <td>Preeti</td>\n",
       "      <td>67</td>\n",
       "      <td>American</td>\n",
       "      <td>12.23</td>\n",
       "    </tr>\n",
       "    <tr>\n",
       "      <th>8</th>\n",
       "      <td>A9</td>\n",
       "      <td>Emma</td>\n",
       "      <td>24</td>\n",
       "      <td>Indian</td>\n",
       "      <td>18.88</td>\n",
       "    </tr>\n",
       "    <tr>\n",
       "      <th>9</th>\n",
       "      <td>A10</td>\n",
       "      <td>Gaurav</td>\n",
       "      <td>29</td>\n",
       "      <td>Chinese</td>\n",
       "      <td>14.43</td>\n",
       "    </tr>\n",
       "  </tbody>\n",
       "</table>\n",
       "</div>"
      ],
      "text/plain": [
       "  Room      Name  Age   Cuisine  Expenditure\n",
       "0   A1    Shilpa   18    Indian        24.65\n",
       "1   A2  Jaspreet   32  American        18.54\n",
       "2   A3   Dominic   19    Indian        27.66\n",
       "3   A4     Ahmad   22  American        19.54\n",
       "4   A5    Joseph   28    Indian        17.32\n",
       "5   A6      Saju   31    Indian        12.56\n",
       "6   A7    Monica   48   Chinese        11.09\n",
       "7   A8    Preeti   67  American        12.23\n",
       "8   A9      Emma   24    Indian        18.88\n",
       "9  A10    Gaurav   29   Chinese        14.43"
      ]
     },
     "execution_count": 6,
     "metadata": {},
     "output_type": "execute_result"
    }
   ],
   "source": [
    "room3"
   ]
  },
  {
   "cell_type": "code",
   "execution_count": 8,
   "id": "383b2119-1553-451b-9f49-9d8356304317",
   "metadata": {},
   "outputs": [],
   "source": [
    "room3.drop(labels = 'Room' ,axis = 1,inplace = True) # inplace argument for the permanent drop"
   ]
  },
  {
   "cell_type": "code",
   "execution_count": 12,
   "id": "8f44b53e-5422-4b56-aae8-40c3bc7a304c",
   "metadata": {},
   "outputs": [
    {
     "data": {
      "text/html": [
       "<div>\n",
       "<style scoped>\n",
       "    .dataframe tbody tr th:only-of-type {\n",
       "        vertical-align: middle;\n",
       "    }\n",
       "\n",
       "    .dataframe tbody tr th {\n",
       "        vertical-align: top;\n",
       "    }\n",
       "\n",
       "    .dataframe thead th {\n",
       "        text-align: right;\n",
       "    }\n",
       "</style>\n",
       "<table border=\"1\" class=\"dataframe\">\n",
       "  <thead>\n",
       "    <tr style=\"text-align: right;\">\n",
       "      <th></th>\n",
       "      <th>Name</th>\n",
       "      <th>Age</th>\n",
       "      <th>Cuisine</th>\n",
       "      <th>Expenditure</th>\n",
       "    </tr>\n",
       "  </thead>\n",
       "  <tbody>\n",
       "    <tr>\n",
       "      <th>0</th>\n",
       "      <td>Shilpa</td>\n",
       "      <td>18</td>\n",
       "      <td>Indian</td>\n",
       "      <td>24.65</td>\n",
       "    </tr>\n",
       "    <tr>\n",
       "      <th>1</th>\n",
       "      <td>Jaspreet</td>\n",
       "      <td>32</td>\n",
       "      <td>American</td>\n",
       "      <td>18.54</td>\n",
       "    </tr>\n",
       "    <tr>\n",
       "      <th>2</th>\n",
       "      <td>Dominic</td>\n",
       "      <td>19</td>\n",
       "      <td>Indian</td>\n",
       "      <td>27.66</td>\n",
       "    </tr>\n",
       "    <tr>\n",
       "      <th>3</th>\n",
       "      <td>Ahmad</td>\n",
       "      <td>22</td>\n",
       "      <td>American</td>\n",
       "      <td>19.54</td>\n",
       "    </tr>\n",
       "    <tr>\n",
       "      <th>4</th>\n",
       "      <td>Joseph</td>\n",
       "      <td>28</td>\n",
       "      <td>Indian</td>\n",
       "      <td>17.32</td>\n",
       "    </tr>\n",
       "    <tr>\n",
       "      <th>5</th>\n",
       "      <td>Saju</td>\n",
       "      <td>31</td>\n",
       "      <td>Indian</td>\n",
       "      <td>12.56</td>\n",
       "    </tr>\n",
       "    <tr>\n",
       "      <th>6</th>\n",
       "      <td>Monica</td>\n",
       "      <td>48</td>\n",
       "      <td>Chinese</td>\n",
       "      <td>11.09</td>\n",
       "    </tr>\n",
       "    <tr>\n",
       "      <th>7</th>\n",
       "      <td>Preeti</td>\n",
       "      <td>67</td>\n",
       "      <td>American</td>\n",
       "      <td>12.23</td>\n",
       "    </tr>\n",
       "    <tr>\n",
       "      <th>8</th>\n",
       "      <td>Emma</td>\n",
       "      <td>24</td>\n",
       "      <td>Indian</td>\n",
       "      <td>18.88</td>\n",
       "    </tr>\n",
       "    <tr>\n",
       "      <th>9</th>\n",
       "      <td>Gaurav</td>\n",
       "      <td>29</td>\n",
       "      <td>Chinese</td>\n",
       "      <td>14.43</td>\n",
       "    </tr>\n",
       "  </tbody>\n",
       "</table>\n",
       "</div>"
      ],
      "text/plain": [
       "       Name  Age   Cuisine  Expenditure\n",
       "0    Shilpa   18    Indian        24.65\n",
       "1  Jaspreet   32  American        18.54\n",
       "2   Dominic   19    Indian        27.66\n",
       "3     Ahmad   22  American        19.54\n",
       "4    Joseph   28    Indian        17.32\n",
       "5      Saju   31    Indian        12.56\n",
       "6    Monica   48   Chinese        11.09\n",
       "7    Preeti   67  American        12.23\n",
       "8      Emma   24    Indian        18.88\n",
       "9    Gaurav   29   Chinese        14.43"
      ]
     },
     "execution_count": 12,
     "metadata": {},
     "output_type": "execute_result"
    }
   ],
   "source": [
    "room3"
   ]
  },
  {
   "cell_type": "code",
   "execution_count": 14,
   "id": "bc2d04dd-b9bd-4429-81c0-ff67ab352559",
   "metadata": {},
   "outputs": [],
   "source": [
    "nwroom = room3.copy()"
   ]
  },
  {
   "cell_type": "code",
   "execution_count": 16,
   "id": "2d7be4e4-d538-41ec-b26d-b514a44cb2d6",
   "metadata": {},
   "outputs": [
    {
     "data": {
      "text/html": [
       "<div>\n",
       "<style scoped>\n",
       "    .dataframe tbody tr th:only-of-type {\n",
       "        vertical-align: middle;\n",
       "    }\n",
       "\n",
       "    .dataframe tbody tr th {\n",
       "        vertical-align: top;\n",
       "    }\n",
       "\n",
       "    .dataframe thead th {\n",
       "        text-align: right;\n",
       "    }\n",
       "</style>\n",
       "<table border=\"1\" class=\"dataframe\">\n",
       "  <thead>\n",
       "    <tr style=\"text-align: right;\">\n",
       "      <th></th>\n",
       "      <th>Name</th>\n",
       "      <th>Age</th>\n",
       "      <th>Cuisine</th>\n",
       "      <th>Expenditure</th>\n",
       "    </tr>\n",
       "  </thead>\n",
       "  <tbody>\n",
       "    <tr>\n",
       "      <th>0</th>\n",
       "      <td>Shilpa</td>\n",
       "      <td>18</td>\n",
       "      <td>Indian</td>\n",
       "      <td>24.65</td>\n",
       "    </tr>\n",
       "    <tr>\n",
       "      <th>1</th>\n",
       "      <td>Jaspreet</td>\n",
       "      <td>32</td>\n",
       "      <td>American</td>\n",
       "      <td>18.54</td>\n",
       "    </tr>\n",
       "    <tr>\n",
       "      <th>2</th>\n",
       "      <td>Dominic</td>\n",
       "      <td>19</td>\n",
       "      <td>Indian</td>\n",
       "      <td>27.66</td>\n",
       "    </tr>\n",
       "    <tr>\n",
       "      <th>3</th>\n",
       "      <td>Ahmad</td>\n",
       "      <td>22</td>\n",
       "      <td>American</td>\n",
       "      <td>19.54</td>\n",
       "    </tr>\n",
       "    <tr>\n",
       "      <th>4</th>\n",
       "      <td>Joseph</td>\n",
       "      <td>28</td>\n",
       "      <td>Indian</td>\n",
       "      <td>17.32</td>\n",
       "    </tr>\n",
       "    <tr>\n",
       "      <th>5</th>\n",
       "      <td>Saju</td>\n",
       "      <td>31</td>\n",
       "      <td>Indian</td>\n",
       "      <td>12.56</td>\n",
       "    </tr>\n",
       "    <tr>\n",
       "      <th>6</th>\n",
       "      <td>Monica</td>\n",
       "      <td>48</td>\n",
       "      <td>Chinese</td>\n",
       "      <td>11.09</td>\n",
       "    </tr>\n",
       "    <tr>\n",
       "      <th>7</th>\n",
       "      <td>Preeti</td>\n",
       "      <td>67</td>\n",
       "      <td>American</td>\n",
       "      <td>12.23</td>\n",
       "    </tr>\n",
       "    <tr>\n",
       "      <th>8</th>\n",
       "      <td>Emma</td>\n",
       "      <td>24</td>\n",
       "      <td>Indian</td>\n",
       "      <td>18.88</td>\n",
       "    </tr>\n",
       "    <tr>\n",
       "      <th>9</th>\n",
       "      <td>Gaurav</td>\n",
       "      <td>29</td>\n",
       "      <td>Chinese</td>\n",
       "      <td>14.43</td>\n",
       "    </tr>\n",
       "  </tbody>\n",
       "</table>\n",
       "</div>"
      ],
      "text/plain": [
       "       Name  Age   Cuisine  Expenditure\n",
       "0    Shilpa   18    Indian        24.65\n",
       "1  Jaspreet   32  American        18.54\n",
       "2   Dominic   19    Indian        27.66\n",
       "3     Ahmad   22  American        19.54\n",
       "4    Joseph   28    Indian        17.32\n",
       "5      Saju   31    Indian        12.56\n",
       "6    Monica   48   Chinese        11.09\n",
       "7    Preeti   67  American        12.23\n",
       "8      Emma   24    Indian        18.88\n",
       "9    Gaurav   29   Chinese        14.43"
      ]
     },
     "execution_count": 16,
     "metadata": {},
     "output_type": "execute_result"
    }
   ],
   "source": [
    "nwroom"
   ]
  },
  {
   "cell_type": "code",
   "execution_count": 18,
   "id": "7d2643b1-0419-43d2-8256-d44a0fc195a1",
   "metadata": {},
   "outputs": [],
   "source": [
    "nwroom.drop(labels = [3,7],axis = 0,inplace = True)"
   ]
  },
  {
   "cell_type": "code",
   "execution_count": 20,
   "id": "7ec81ff3-f7ed-4786-8b7e-c4236f71e112",
   "metadata": {},
   "outputs": [
    {
     "data": {
      "text/html": [
       "<div>\n",
       "<style scoped>\n",
       "    .dataframe tbody tr th:only-of-type {\n",
       "        vertical-align: middle;\n",
       "    }\n",
       "\n",
       "    .dataframe tbody tr th {\n",
       "        vertical-align: top;\n",
       "    }\n",
       "\n",
       "    .dataframe thead th {\n",
       "        text-align: right;\n",
       "    }\n",
       "</style>\n",
       "<table border=\"1\" class=\"dataframe\">\n",
       "  <thead>\n",
       "    <tr style=\"text-align: right;\">\n",
       "      <th></th>\n",
       "      <th>Name</th>\n",
       "      <th>Age</th>\n",
       "      <th>Cuisine</th>\n",
       "      <th>Expenditure</th>\n",
       "    </tr>\n",
       "  </thead>\n",
       "  <tbody>\n",
       "    <tr>\n",
       "      <th>0</th>\n",
       "      <td>Shilpa</td>\n",
       "      <td>18</td>\n",
       "      <td>Indian</td>\n",
       "      <td>24.65</td>\n",
       "    </tr>\n",
       "    <tr>\n",
       "      <th>1</th>\n",
       "      <td>Jaspreet</td>\n",
       "      <td>32</td>\n",
       "      <td>American</td>\n",
       "      <td>18.54</td>\n",
       "    </tr>\n",
       "    <tr>\n",
       "      <th>2</th>\n",
       "      <td>Dominic</td>\n",
       "      <td>19</td>\n",
       "      <td>Indian</td>\n",
       "      <td>27.66</td>\n",
       "    </tr>\n",
       "    <tr>\n",
       "      <th>4</th>\n",
       "      <td>Joseph</td>\n",
       "      <td>28</td>\n",
       "      <td>Indian</td>\n",
       "      <td>17.32</td>\n",
       "    </tr>\n",
       "    <tr>\n",
       "      <th>5</th>\n",
       "      <td>Saju</td>\n",
       "      <td>31</td>\n",
       "      <td>Indian</td>\n",
       "      <td>12.56</td>\n",
       "    </tr>\n",
       "    <tr>\n",
       "      <th>6</th>\n",
       "      <td>Monica</td>\n",
       "      <td>48</td>\n",
       "      <td>Chinese</td>\n",
       "      <td>11.09</td>\n",
       "    </tr>\n",
       "    <tr>\n",
       "      <th>8</th>\n",
       "      <td>Emma</td>\n",
       "      <td>24</td>\n",
       "      <td>Indian</td>\n",
       "      <td>18.88</td>\n",
       "    </tr>\n",
       "    <tr>\n",
       "      <th>9</th>\n",
       "      <td>Gaurav</td>\n",
       "      <td>29</td>\n",
       "      <td>Chinese</td>\n",
       "      <td>14.43</td>\n",
       "    </tr>\n",
       "  </tbody>\n",
       "</table>\n",
       "</div>"
      ],
      "text/plain": [
       "       Name  Age   Cuisine  Expenditure\n",
       "0    Shilpa   18    Indian        24.65\n",
       "1  Jaspreet   32  American        18.54\n",
       "2   Dominic   19    Indian        27.66\n",
       "4    Joseph   28    Indian        17.32\n",
       "5      Saju   31    Indian        12.56\n",
       "6    Monica   48   Chinese        11.09\n",
       "8      Emma   24    Indian        18.88\n",
       "9    Gaurav   29   Chinese        14.43"
      ]
     },
     "execution_count": 20,
     "metadata": {},
     "output_type": "execute_result"
    }
   ],
   "source": [
    "nwroom"
   ]
  },
  {
   "cell_type": "markdown",
   "id": "8e2aa5ec-d64f-4cde-ad11-88ff05d4327e",
   "metadata": {},
   "source": [
    "### Changing Elements from Dataframes\n",
    "\n"
   ]
  },
  {
   "cell_type": "code",
   "execution_count": 22,
   "id": "aa1549d2-4813-4686-9f24-c410c3b5f361",
   "metadata": {},
   "outputs": [],
   "source": [
    "nwroom.loc[3,'Cuisine'] = 'Indian' # add the new entry"
   ]
  },
  {
   "cell_type": "code",
   "execution_count": 24,
   "id": "83b75a89-4c21-4b2c-94e4-eb3bd9f1dc9b",
   "metadata": {},
   "outputs": [
    {
     "data": {
      "text/html": [
       "<div>\n",
       "<style scoped>\n",
       "    .dataframe tbody tr th:only-of-type {\n",
       "        vertical-align: middle;\n",
       "    }\n",
       "\n",
       "    .dataframe tbody tr th {\n",
       "        vertical-align: top;\n",
       "    }\n",
       "\n",
       "    .dataframe thead th {\n",
       "        text-align: right;\n",
       "    }\n",
       "</style>\n",
       "<table border=\"1\" class=\"dataframe\">\n",
       "  <thead>\n",
       "    <tr style=\"text-align: right;\">\n",
       "      <th></th>\n",
       "      <th>Name</th>\n",
       "      <th>Age</th>\n",
       "      <th>Cuisine</th>\n",
       "      <th>Expenditure</th>\n",
       "    </tr>\n",
       "  </thead>\n",
       "  <tbody>\n",
       "    <tr>\n",
       "      <th>0</th>\n",
       "      <td>Shilpa</td>\n",
       "      <td>18.0</td>\n",
       "      <td>Indian</td>\n",
       "      <td>24.65</td>\n",
       "    </tr>\n",
       "    <tr>\n",
       "      <th>1</th>\n",
       "      <td>Jaspreet</td>\n",
       "      <td>32.0</td>\n",
       "      <td>American</td>\n",
       "      <td>18.54</td>\n",
       "    </tr>\n",
       "    <tr>\n",
       "      <th>2</th>\n",
       "      <td>Dominic</td>\n",
       "      <td>19.0</td>\n",
       "      <td>Indian</td>\n",
       "      <td>27.66</td>\n",
       "    </tr>\n",
       "    <tr>\n",
       "      <th>4</th>\n",
       "      <td>Joseph</td>\n",
       "      <td>28.0</td>\n",
       "      <td>Indian</td>\n",
       "      <td>17.32</td>\n",
       "    </tr>\n",
       "    <tr>\n",
       "      <th>5</th>\n",
       "      <td>Saju</td>\n",
       "      <td>31.0</td>\n",
       "      <td>Indian</td>\n",
       "      <td>12.56</td>\n",
       "    </tr>\n",
       "    <tr>\n",
       "      <th>6</th>\n",
       "      <td>Monica</td>\n",
       "      <td>48.0</td>\n",
       "      <td>Chinese</td>\n",
       "      <td>11.09</td>\n",
       "    </tr>\n",
       "    <tr>\n",
       "      <th>8</th>\n",
       "      <td>Emma</td>\n",
       "      <td>24.0</td>\n",
       "      <td>Indian</td>\n",
       "      <td>18.88</td>\n",
       "    </tr>\n",
       "    <tr>\n",
       "      <th>9</th>\n",
       "      <td>Gaurav</td>\n",
       "      <td>29.0</td>\n",
       "      <td>Chinese</td>\n",
       "      <td>14.43</td>\n",
       "    </tr>\n",
       "    <tr>\n",
       "      <th>3</th>\n",
       "      <td>NaN</td>\n",
       "      <td>NaN</td>\n",
       "      <td>Indian</td>\n",
       "      <td>NaN</td>\n",
       "    </tr>\n",
       "  </tbody>\n",
       "</table>\n",
       "</div>"
      ],
      "text/plain": [
       "       Name   Age   Cuisine  Expenditure\n",
       "0    Shilpa  18.0    Indian        24.65\n",
       "1  Jaspreet  32.0  American        18.54\n",
       "2   Dominic  19.0    Indian        27.66\n",
       "4    Joseph  28.0    Indian        17.32\n",
       "5      Saju  31.0    Indian        12.56\n",
       "6    Monica  48.0   Chinese        11.09\n",
       "8      Emma  24.0    Indian        18.88\n",
       "9    Gaurav  29.0   Chinese        14.43\n",
       "3       NaN   NaN    Indian          NaN"
      ]
     },
     "execution_count": 24,
     "metadata": {},
     "output_type": "execute_result"
    }
   ],
   "source": [
    "nwroom"
   ]
  },
  {
   "cell_type": "code",
   "execution_count": 26,
   "id": "c43c7d32-2fae-41da-b0ad-7ffd47e19a4d",
   "metadata": {},
   "outputs": [],
   "source": [
    "nwroom.loc[3,['Name','Age','Expenditure']] = ['Anish',22,20.14]"
   ]
  },
  {
   "cell_type": "code",
   "execution_count": 28,
   "id": "9361e810-45e1-48ed-bf21-fb5d640575b9",
   "metadata": {},
   "outputs": [
    {
     "data": {
      "text/html": [
       "<div>\n",
       "<style scoped>\n",
       "    .dataframe tbody tr th:only-of-type {\n",
       "        vertical-align: middle;\n",
       "    }\n",
       "\n",
       "    .dataframe tbody tr th {\n",
       "        vertical-align: top;\n",
       "    }\n",
       "\n",
       "    .dataframe thead th {\n",
       "        text-align: right;\n",
       "    }\n",
       "</style>\n",
       "<table border=\"1\" class=\"dataframe\">\n",
       "  <thead>\n",
       "    <tr style=\"text-align: right;\">\n",
       "      <th></th>\n",
       "      <th>Name</th>\n",
       "      <th>Age</th>\n",
       "      <th>Cuisine</th>\n",
       "      <th>Expenditure</th>\n",
       "    </tr>\n",
       "  </thead>\n",
       "  <tbody>\n",
       "    <tr>\n",
       "      <th>0</th>\n",
       "      <td>Shilpa</td>\n",
       "      <td>18.0</td>\n",
       "      <td>Indian</td>\n",
       "      <td>24.65</td>\n",
       "    </tr>\n",
       "    <tr>\n",
       "      <th>1</th>\n",
       "      <td>Jaspreet</td>\n",
       "      <td>32.0</td>\n",
       "      <td>American</td>\n",
       "      <td>18.54</td>\n",
       "    </tr>\n",
       "    <tr>\n",
       "      <th>2</th>\n",
       "      <td>Dominic</td>\n",
       "      <td>19.0</td>\n",
       "      <td>Indian</td>\n",
       "      <td>27.66</td>\n",
       "    </tr>\n",
       "    <tr>\n",
       "      <th>4</th>\n",
       "      <td>Joseph</td>\n",
       "      <td>28.0</td>\n",
       "      <td>Indian</td>\n",
       "      <td>17.32</td>\n",
       "    </tr>\n",
       "    <tr>\n",
       "      <th>5</th>\n",
       "      <td>Saju</td>\n",
       "      <td>31.0</td>\n",
       "      <td>Indian</td>\n",
       "      <td>12.56</td>\n",
       "    </tr>\n",
       "    <tr>\n",
       "      <th>6</th>\n",
       "      <td>Monica</td>\n",
       "      <td>48.0</td>\n",
       "      <td>Chinese</td>\n",
       "      <td>11.09</td>\n",
       "    </tr>\n",
       "    <tr>\n",
       "      <th>8</th>\n",
       "      <td>Emma</td>\n",
       "      <td>24.0</td>\n",
       "      <td>Indian</td>\n",
       "      <td>18.88</td>\n",
       "    </tr>\n",
       "    <tr>\n",
       "      <th>9</th>\n",
       "      <td>Gaurav</td>\n",
       "      <td>29.0</td>\n",
       "      <td>Chinese</td>\n",
       "      <td>14.43</td>\n",
       "    </tr>\n",
       "    <tr>\n",
       "      <th>3</th>\n",
       "      <td>Anish</td>\n",
       "      <td>22.0</td>\n",
       "      <td>Indian</td>\n",
       "      <td>20.14</td>\n",
       "    </tr>\n",
       "  </tbody>\n",
       "</table>\n",
       "</div>"
      ],
      "text/plain": [
       "       Name   Age   Cuisine  Expenditure\n",
       "0    Shilpa  18.0    Indian        24.65\n",
       "1  Jaspreet  32.0  American        18.54\n",
       "2   Dominic  19.0    Indian        27.66\n",
       "4    Joseph  28.0    Indian        17.32\n",
       "5      Saju  31.0    Indian        12.56\n",
       "6    Monica  48.0   Chinese        11.09\n",
       "8      Emma  24.0    Indian        18.88\n",
       "9    Gaurav  29.0   Chinese        14.43\n",
       "3     Anish  22.0    Indian        20.14"
      ]
     },
     "execution_count": 28,
     "metadata": {},
     "output_type": "execute_result"
    }
   ],
   "source": [
    "nwroom"
   ]
  },
  {
   "cell_type": "code",
   "execution_count": 30,
   "id": "e1d362bc-8dd7-4221-a103-839e6c74a4fb",
   "metadata": {},
   "outputs": [],
   "source": [
    "nwroom.loc[2:6,'Expenditure'] = 0.00"
   ]
  },
  {
   "cell_type": "code",
   "execution_count": 32,
   "id": "3f5a7b47-c878-46ad-a9de-bc8db6911f63",
   "metadata": {},
   "outputs": [
    {
     "data": {
      "text/html": [
       "<div>\n",
       "<style scoped>\n",
       "    .dataframe tbody tr th:only-of-type {\n",
       "        vertical-align: middle;\n",
       "    }\n",
       "\n",
       "    .dataframe tbody tr th {\n",
       "        vertical-align: top;\n",
       "    }\n",
       "\n",
       "    .dataframe thead th {\n",
       "        text-align: right;\n",
       "    }\n",
       "</style>\n",
       "<table border=\"1\" class=\"dataframe\">\n",
       "  <thead>\n",
       "    <tr style=\"text-align: right;\">\n",
       "      <th></th>\n",
       "      <th>Name</th>\n",
       "      <th>Age</th>\n",
       "      <th>Cuisine</th>\n",
       "      <th>Expenditure</th>\n",
       "    </tr>\n",
       "  </thead>\n",
       "  <tbody>\n",
       "    <tr>\n",
       "      <th>0</th>\n",
       "      <td>Shilpa</td>\n",
       "      <td>18.0</td>\n",
       "      <td>Indian</td>\n",
       "      <td>24.65</td>\n",
       "    </tr>\n",
       "    <tr>\n",
       "      <th>1</th>\n",
       "      <td>Jaspreet</td>\n",
       "      <td>32.0</td>\n",
       "      <td>American</td>\n",
       "      <td>18.54</td>\n",
       "    </tr>\n",
       "    <tr>\n",
       "      <th>2</th>\n",
       "      <td>Dominic</td>\n",
       "      <td>19.0</td>\n",
       "      <td>Indian</td>\n",
       "      <td>0.00</td>\n",
       "    </tr>\n",
       "    <tr>\n",
       "      <th>4</th>\n",
       "      <td>Joseph</td>\n",
       "      <td>28.0</td>\n",
       "      <td>Indian</td>\n",
       "      <td>0.00</td>\n",
       "    </tr>\n",
       "    <tr>\n",
       "      <th>5</th>\n",
       "      <td>Saju</td>\n",
       "      <td>31.0</td>\n",
       "      <td>Indian</td>\n",
       "      <td>0.00</td>\n",
       "    </tr>\n",
       "    <tr>\n",
       "      <th>6</th>\n",
       "      <td>Monica</td>\n",
       "      <td>48.0</td>\n",
       "      <td>Chinese</td>\n",
       "      <td>0.00</td>\n",
       "    </tr>\n",
       "    <tr>\n",
       "      <th>8</th>\n",
       "      <td>Emma</td>\n",
       "      <td>24.0</td>\n",
       "      <td>Indian</td>\n",
       "      <td>18.88</td>\n",
       "    </tr>\n",
       "    <tr>\n",
       "      <th>9</th>\n",
       "      <td>Gaurav</td>\n",
       "      <td>29.0</td>\n",
       "      <td>Chinese</td>\n",
       "      <td>14.43</td>\n",
       "    </tr>\n",
       "    <tr>\n",
       "      <th>3</th>\n",
       "      <td>Anish</td>\n",
       "      <td>22.0</td>\n",
       "      <td>Indian</td>\n",
       "      <td>20.14</td>\n",
       "    </tr>\n",
       "  </tbody>\n",
       "</table>\n",
       "</div>"
      ],
      "text/plain": [
       "       Name   Age   Cuisine  Expenditure\n",
       "0    Shilpa  18.0    Indian        24.65\n",
       "1  Jaspreet  32.0  American        18.54\n",
       "2   Dominic  19.0    Indian         0.00\n",
       "4    Joseph  28.0    Indian         0.00\n",
       "5      Saju  31.0    Indian         0.00\n",
       "6    Monica  48.0   Chinese         0.00\n",
       "8      Emma  24.0    Indian        18.88\n",
       "9    Gaurav  29.0   Chinese        14.43\n",
       "3     Anish  22.0    Indian        20.14"
      ]
     },
     "execution_count": 32,
     "metadata": {},
     "output_type": "execute_result"
    }
   ],
   "source": [
    "nwroom"
   ]
  },
  {
   "cell_type": "code",
   "execution_count": 34,
   "id": "f07b98e7-982d-4e6d-9a0f-eeab113723e5",
   "metadata": {},
   "outputs": [],
   "source": [
    "nwroom['Cuisine']=nwroom['Cuisine'].replace({'Indian':'IND','American':'USA','Chinese':'CHN'})"
   ]
  },
  {
   "cell_type": "code",
   "execution_count": 36,
   "id": "670c183a-dbb3-4cbe-add9-22260cfd16db",
   "metadata": {},
   "outputs": [
    {
     "data": {
      "text/html": [
       "<div>\n",
       "<style scoped>\n",
       "    .dataframe tbody tr th:only-of-type {\n",
       "        vertical-align: middle;\n",
       "    }\n",
       "\n",
       "    .dataframe tbody tr th {\n",
       "        vertical-align: top;\n",
       "    }\n",
       "\n",
       "    .dataframe thead th {\n",
       "        text-align: right;\n",
       "    }\n",
       "</style>\n",
       "<table border=\"1\" class=\"dataframe\">\n",
       "  <thead>\n",
       "    <tr style=\"text-align: right;\">\n",
       "      <th></th>\n",
       "      <th>Name</th>\n",
       "      <th>Age</th>\n",
       "      <th>Cuisine</th>\n",
       "      <th>Expenditure</th>\n",
       "    </tr>\n",
       "  </thead>\n",
       "  <tbody>\n",
       "    <tr>\n",
       "      <th>0</th>\n",
       "      <td>Shilpa</td>\n",
       "      <td>18.0</td>\n",
       "      <td>IND</td>\n",
       "      <td>24.65</td>\n",
       "    </tr>\n",
       "    <tr>\n",
       "      <th>1</th>\n",
       "      <td>Jaspreet</td>\n",
       "      <td>32.0</td>\n",
       "      <td>USA</td>\n",
       "      <td>18.54</td>\n",
       "    </tr>\n",
       "    <tr>\n",
       "      <th>2</th>\n",
       "      <td>Dominic</td>\n",
       "      <td>19.0</td>\n",
       "      <td>IND</td>\n",
       "      <td>0.00</td>\n",
       "    </tr>\n",
       "    <tr>\n",
       "      <th>4</th>\n",
       "      <td>Joseph</td>\n",
       "      <td>28.0</td>\n",
       "      <td>IND</td>\n",
       "      <td>0.00</td>\n",
       "    </tr>\n",
       "    <tr>\n",
       "      <th>5</th>\n",
       "      <td>Saju</td>\n",
       "      <td>31.0</td>\n",
       "      <td>IND</td>\n",
       "      <td>0.00</td>\n",
       "    </tr>\n",
       "    <tr>\n",
       "      <th>6</th>\n",
       "      <td>Monica</td>\n",
       "      <td>48.0</td>\n",
       "      <td>CHN</td>\n",
       "      <td>0.00</td>\n",
       "    </tr>\n",
       "    <tr>\n",
       "      <th>8</th>\n",
       "      <td>Emma</td>\n",
       "      <td>24.0</td>\n",
       "      <td>IND</td>\n",
       "      <td>18.88</td>\n",
       "    </tr>\n",
       "    <tr>\n",
       "      <th>9</th>\n",
       "      <td>Gaurav</td>\n",
       "      <td>29.0</td>\n",
       "      <td>CHN</td>\n",
       "      <td>14.43</td>\n",
       "    </tr>\n",
       "    <tr>\n",
       "      <th>3</th>\n",
       "      <td>Anish</td>\n",
       "      <td>22.0</td>\n",
       "      <td>IND</td>\n",
       "      <td>20.14</td>\n",
       "    </tr>\n",
       "  </tbody>\n",
       "</table>\n",
       "</div>"
      ],
      "text/plain": [
       "       Name   Age Cuisine  Expenditure\n",
       "0    Shilpa  18.0     IND        24.65\n",
       "1  Jaspreet  32.0     USA        18.54\n",
       "2   Dominic  19.0     IND         0.00\n",
       "4    Joseph  28.0     IND         0.00\n",
       "5      Saju  31.0     IND         0.00\n",
       "6    Monica  48.0     CHN         0.00\n",
       "8      Emma  24.0     IND        18.88\n",
       "9    Gaurav  29.0     CHN        14.43\n",
       "3     Anish  22.0     IND        20.14"
      ]
     },
     "execution_count": 36,
     "metadata": {},
     "output_type": "execute_result"
    }
   ],
   "source": [
    "nwroom"
   ]
  },
  {
   "cell_type": "code",
   "execution_count": 60,
   "id": "f6e48ff7-c5e3-4e6e-90a6-f00cf584207f",
   "metadata": {},
   "outputs": [
    {
     "data": {
      "text/html": [
       "<div>\n",
       "<style scoped>\n",
       "    .dataframe tbody tr th:only-of-type {\n",
       "        vertical-align: middle;\n",
       "    }\n",
       "\n",
       "    .dataframe tbody tr th {\n",
       "        vertical-align: top;\n",
       "    }\n",
       "\n",
       "    .dataframe thead th {\n",
       "        text-align: right;\n",
       "    }\n",
       "</style>\n",
       "<table border=\"1\" class=\"dataframe\">\n",
       "  <thead>\n",
       "    <tr style=\"text-align: right;\">\n",
       "      <th></th>\n",
       "      <th>Name</th>\n",
       "      <th>Age</th>\n",
       "      <th>Cuisine</th>\n",
       "      <th>Expenditure</th>\n",
       "    </tr>\n",
       "  </thead>\n",
       "  <tbody>\n",
       "    <tr>\n",
       "      <th>0</th>\n",
       "      <td>Shilpa</td>\n",
       "      <td>18.0</td>\n",
       "      <td>IND</td>\n",
       "      <td>24.65</td>\n",
       "    </tr>\n",
       "    <tr>\n",
       "      <th>1</th>\n",
       "      <td>Jaspreet</td>\n",
       "      <td>32.0</td>\n",
       "      <td>USA</td>\n",
       "      <td>18.54</td>\n",
       "    </tr>\n",
       "    <tr>\n",
       "      <th>2</th>\n",
       "      <td>Dominic</td>\n",
       "      <td>19.0</td>\n",
       "      <td>IND</td>\n",
       "      <td>0.00</td>\n",
       "    </tr>\n",
       "    <tr>\n",
       "      <th>4</th>\n",
       "      <td>Joseph</td>\n",
       "      <td>28.0</td>\n",
       "      <td>IND</td>\n",
       "      <td>0.00</td>\n",
       "    </tr>\n",
       "    <tr>\n",
       "      <th>5</th>\n",
       "      <td>Saju</td>\n",
       "      <td>31.0</td>\n",
       "      <td>IND</td>\n",
       "      <td>0.00</td>\n",
       "    </tr>\n",
       "    <tr>\n",
       "      <th>6</th>\n",
       "      <td>Monica</td>\n",
       "      <td>48.0</td>\n",
       "      <td>CHN</td>\n",
       "      <td>0.00</td>\n",
       "    </tr>\n",
       "    <tr>\n",
       "      <th>8</th>\n",
       "      <td>Emma</td>\n",
       "      <td>24.0</td>\n",
       "      <td>IND</td>\n",
       "      <td>18.88</td>\n",
       "    </tr>\n",
       "    <tr>\n",
       "      <th>9</th>\n",
       "      <td>Gaurav</td>\n",
       "      <td>29.0</td>\n",
       "      <td>CHN</td>\n",
       "      <td>14.43</td>\n",
       "    </tr>\n",
       "    <tr>\n",
       "      <th>3</th>\n",
       "      <td>Anish</td>\n",
       "      <td>22.0</td>\n",
       "      <td>IND</td>\n",
       "      <td>20.14</td>\n",
       "    </tr>\n",
       "  </tbody>\n",
       "</table>\n",
       "</div>"
      ],
      "text/plain": [
       "       Name   Age Cuisine  Expenditure\n",
       "0    Shilpa  18.0     IND        24.65\n",
       "1  Jaspreet  32.0     USA        18.54\n",
       "2   Dominic  19.0     IND         0.00\n",
       "4    Joseph  28.0     IND         0.00\n",
       "5      Saju  31.0     IND         0.00\n",
       "6    Monica  48.0     CHN         0.00\n",
       "8      Emma  24.0     IND        18.88\n",
       "9    Gaurav  29.0     CHN        14.43\n",
       "3     Anish  22.0     IND        20.14"
      ]
     },
     "execution_count": 60,
     "metadata": {},
     "output_type": "execute_result"
    }
   ],
   "source": [
    "nwroom"
   ]
  },
  {
   "cell_type": "code",
   "execution_count": 46,
   "id": "b30364c8-a623-4cc6-b456-4ee2f2dffc99",
   "metadata": {},
   "outputs": [],
   "source": [
    "df = pd.DataFrame(nwroom)"
   ]
  },
  {
   "cell_type": "markdown",
   "id": "1c83652d-9ab7-4f9d-a4f3-364342f4c162",
   "metadata": {},
   "source": [
    "# drop with this sign    =     ~"
   ]
  },
  {
   "cell_type": "code",
   "execution_count": 54,
   "id": "82373463-5656-4568-bb1b-2d846fc09e55",
   "metadata": {},
   "outputs": [
    {
     "data": {
      "text/plain": [
       "Cuisine\n",
       "IND    6\n",
       "CHN    2\n",
       "USA    1\n",
       "Name: count, dtype: int64"
      ]
     },
     "execution_count": 54,
     "metadata": {},
     "output_type": "execute_result"
    }
   ],
   "source": [
    "df['Cuisine'].value_counts()"
   ]
  },
  {
   "cell_type": "code",
   "execution_count": 56,
   "id": "5759ed9c-1b35-4ca2-a1f7-ab6b140dfb60",
   "metadata": {},
   "outputs": [],
   "source": [
    "df = df[~df['Cuisine'].isin(['USA'])]"
   ]
  },
  {
   "cell_type": "code",
   "execution_count": 58,
   "id": "965c0208-5e4c-40d1-9c0b-334873356d11",
   "metadata": {},
   "outputs": [
    {
     "data": {
      "text/html": [
       "<div>\n",
       "<style scoped>\n",
       "    .dataframe tbody tr th:only-of-type {\n",
       "        vertical-align: middle;\n",
       "    }\n",
       "\n",
       "    .dataframe tbody tr th {\n",
       "        vertical-align: top;\n",
       "    }\n",
       "\n",
       "    .dataframe thead th {\n",
       "        text-align: right;\n",
       "    }\n",
       "</style>\n",
       "<table border=\"1\" class=\"dataframe\">\n",
       "  <thead>\n",
       "    <tr style=\"text-align: right;\">\n",
       "      <th></th>\n",
       "      <th>Name</th>\n",
       "      <th>Age</th>\n",
       "      <th>Cuisine</th>\n",
       "      <th>Expenditure</th>\n",
       "    </tr>\n",
       "  </thead>\n",
       "  <tbody>\n",
       "    <tr>\n",
       "      <th>0</th>\n",
       "      <td>Shilpa</td>\n",
       "      <td>18.0</td>\n",
       "      <td>IND</td>\n",
       "      <td>24.65</td>\n",
       "    </tr>\n",
       "    <tr>\n",
       "      <th>2</th>\n",
       "      <td>Dominic</td>\n",
       "      <td>19.0</td>\n",
       "      <td>IND</td>\n",
       "      <td>0.00</td>\n",
       "    </tr>\n",
       "    <tr>\n",
       "      <th>4</th>\n",
       "      <td>Joseph</td>\n",
       "      <td>28.0</td>\n",
       "      <td>IND</td>\n",
       "      <td>0.00</td>\n",
       "    </tr>\n",
       "    <tr>\n",
       "      <th>5</th>\n",
       "      <td>Saju</td>\n",
       "      <td>31.0</td>\n",
       "      <td>IND</td>\n",
       "      <td>0.00</td>\n",
       "    </tr>\n",
       "    <tr>\n",
       "      <th>6</th>\n",
       "      <td>Monica</td>\n",
       "      <td>48.0</td>\n",
       "      <td>CHN</td>\n",
       "      <td>0.00</td>\n",
       "    </tr>\n",
       "    <tr>\n",
       "      <th>8</th>\n",
       "      <td>Emma</td>\n",
       "      <td>24.0</td>\n",
       "      <td>IND</td>\n",
       "      <td>18.88</td>\n",
       "    </tr>\n",
       "    <tr>\n",
       "      <th>9</th>\n",
       "      <td>Gaurav</td>\n",
       "      <td>29.0</td>\n",
       "      <td>CHN</td>\n",
       "      <td>14.43</td>\n",
       "    </tr>\n",
       "    <tr>\n",
       "      <th>3</th>\n",
       "      <td>Anish</td>\n",
       "      <td>22.0</td>\n",
       "      <td>IND</td>\n",
       "      <td>20.14</td>\n",
       "    </tr>\n",
       "  </tbody>\n",
       "</table>\n",
       "</div>"
      ],
      "text/plain": [
       "      Name   Age Cuisine  Expenditure\n",
       "0   Shilpa  18.0     IND        24.65\n",
       "2  Dominic  19.0     IND         0.00\n",
       "4   Joseph  28.0     IND         0.00\n",
       "5     Saju  31.0     IND         0.00\n",
       "6   Monica  48.0     CHN         0.00\n",
       "8     Emma  24.0     IND        18.88\n",
       "9   Gaurav  29.0     CHN        14.43\n",
       "3    Anish  22.0     IND        20.14"
      ]
     },
     "execution_count": 58,
     "metadata": {},
     "output_type": "execute_result"
    }
   ],
   "source": [
    "df"
   ]
  },
  {
   "cell_type": "markdown",
   "id": "3793dc56-83b8-4a44-8129-f9c0640d986a",
   "metadata": {},
   "source": [
    "# Adding New Rows and Columns to Dataframes\n",
    "\n"
   ]
  },
  {
   "cell_type": "markdown",
   "id": "eda4662b-5056-4ddd-bc26-59077bd5c250",
   "metadata": {},
   "source": [
    "#### Creating a new column"
   ]
  },
  {
   "cell_type": "code",
   "execution_count": 248,
   "id": "05385e33-7a4d-41d0-b638-85fefa67cb13",
   "metadata": {},
   "outputs": [],
   "source": [
    "import numpy as np"
   ]
  },
  {
   "cell_type": "code",
   "execution_count": 254,
   "id": "227a6bfc-5990-44ff-bc1b-fdcde04fecd1",
   "metadata": {},
   "outputs": [],
   "source": [
    "#new_col = pd.Series(data = np.arange(0, len(nwroom), 1), name = 'NewColumn')"
   ]
  },
  {
   "cell_type": "code",
   "execution_count": 314,
   "id": "30e23162-2e4f-4432-b440-a334a0e329eb",
   "metadata": {},
   "outputs": [],
   "source": [
    "#pd.concat(objs = [nwroom, new_col], axis = 1) # this both two code is by upgrade"
   ]
  },
  {
   "cell_type": "markdown",
   "id": "bd7b5179-a185-4181-b73a-e3d453910240",
   "metadata": {},
   "source": [
    "#### now this is my experement to add a new columns "
   ]
  },
  {
   "cell_type": "code",
   "execution_count": 349,
   "id": "f5163493-b9ce-43d1-9172-9905f1a74ab6",
   "metadata": {},
   "outputs": [],
   "source": [
    "nwroom['Sales'] = [10, 20, 30, 40, 50,60,70,80,90] "
   ]
  },
  {
   "cell_type": "code",
   "execution_count": 351,
   "id": "c7a40404-ba2f-4f84-825c-5da29895a643",
   "metadata": {},
   "outputs": [
    {
     "data": {
      "text/html": [
       "<div>\n",
       "<style scoped>\n",
       "    .dataframe tbody tr th:only-of-type {\n",
       "        vertical-align: middle;\n",
       "    }\n",
       "\n",
       "    .dataframe tbody tr th {\n",
       "        vertical-align: top;\n",
       "    }\n",
       "\n",
       "    .dataframe thead th {\n",
       "        text-align: right;\n",
       "    }\n",
       "</style>\n",
       "<table border=\"1\" class=\"dataframe\">\n",
       "  <thead>\n",
       "    <tr style=\"text-align: right;\">\n",
       "      <th></th>\n",
       "      <th>Name</th>\n",
       "      <th>Age</th>\n",
       "      <th>Cuisine</th>\n",
       "      <th>Expenditure</th>\n",
       "      <th>Sales</th>\n",
       "    </tr>\n",
       "  </thead>\n",
       "  <tbody>\n",
       "    <tr>\n",
       "      <th>0</th>\n",
       "      <td>Shilpa</td>\n",
       "      <td>18.0</td>\n",
       "      <td>IND</td>\n",
       "      <td>24.65</td>\n",
       "      <td>10</td>\n",
       "    </tr>\n",
       "    <tr>\n",
       "      <th>1</th>\n",
       "      <td>Jaspreet</td>\n",
       "      <td>32.0</td>\n",
       "      <td>USA</td>\n",
       "      <td>18.54</td>\n",
       "      <td>20</td>\n",
       "    </tr>\n",
       "    <tr>\n",
       "      <th>2</th>\n",
       "      <td>Dominic</td>\n",
       "      <td>19.0</td>\n",
       "      <td>IND</td>\n",
       "      <td>0.00</td>\n",
       "      <td>30</td>\n",
       "    </tr>\n",
       "    <tr>\n",
       "      <th>4</th>\n",
       "      <td>Joseph</td>\n",
       "      <td>28.0</td>\n",
       "      <td>IND</td>\n",
       "      <td>0.00</td>\n",
       "      <td>40</td>\n",
       "    </tr>\n",
       "    <tr>\n",
       "      <th>5</th>\n",
       "      <td>Saju</td>\n",
       "      <td>31.0</td>\n",
       "      <td>IND</td>\n",
       "      <td>0.00</td>\n",
       "      <td>50</td>\n",
       "    </tr>\n",
       "    <tr>\n",
       "      <th>6</th>\n",
       "      <td>Monica</td>\n",
       "      <td>48.0</td>\n",
       "      <td>CHN</td>\n",
       "      <td>0.00</td>\n",
       "      <td>60</td>\n",
       "    </tr>\n",
       "    <tr>\n",
       "      <th>8</th>\n",
       "      <td>Emma</td>\n",
       "      <td>24.0</td>\n",
       "      <td>IND</td>\n",
       "      <td>18.88</td>\n",
       "      <td>70</td>\n",
       "    </tr>\n",
       "    <tr>\n",
       "      <th>9</th>\n",
       "      <td>Gaurav</td>\n",
       "      <td>29.0</td>\n",
       "      <td>CHN</td>\n",
       "      <td>14.43</td>\n",
       "      <td>80</td>\n",
       "    </tr>\n",
       "    <tr>\n",
       "      <th>3</th>\n",
       "      <td>Anish</td>\n",
       "      <td>22.0</td>\n",
       "      <td>IND</td>\n",
       "      <td>20.14</td>\n",
       "      <td>90</td>\n",
       "    </tr>\n",
       "  </tbody>\n",
       "</table>\n",
       "</div>"
      ],
      "text/plain": [
       "       Name   Age Cuisine  Expenditure  Sales\n",
       "0    Shilpa  18.0     IND        24.65     10\n",
       "1  Jaspreet  32.0     USA        18.54     20\n",
       "2   Dominic  19.0     IND         0.00     30\n",
       "4    Joseph  28.0     IND         0.00     40\n",
       "5      Saju  31.0     IND         0.00     50\n",
       "6    Monica  48.0     CHN         0.00     60\n",
       "8      Emma  24.0     IND        18.88     70\n",
       "9    Gaurav  29.0     CHN        14.43     80\n",
       "3     Anish  22.0     IND        20.14     90"
      ]
     },
     "execution_count": 351,
     "metadata": {},
     "output_type": "execute_result"
    }
   ],
   "source": [
    "nwroom"
   ]
  },
  {
   "cell_type": "code",
   "execution_count": 356,
   "id": "14933960-af31-43bf-9d5f-c9987a1c1805",
   "metadata": {},
   "outputs": [],
   "source": [
    "# nwroom.loc[len(nwroom)] = ['Atharva', 25, 'Italian', 64.34, 87, 118.7234, 1] code from upgrad but not working\n",
    "\n"
   ]
  },
  {
   "cell_type": "markdown",
   "id": "075a1e10-77ba-49f8-a12f-efa8a51c6023",
   "metadata": {},
   "source": [
    "# Renaming Rows and Columns\n",
    "\n"
   ]
  },
  {
   "cell_type": "code",
   "execution_count": 359,
   "id": "42a7f714-d542-429d-84d3-6a4c0fc13112",
   "metadata": {},
   "outputs": [],
   "source": [
    "room4 = pd.read_excel('room_expenditure.xlsx')"
   ]
  },
  {
   "cell_type": "code",
   "execution_count": 362,
   "id": "9091a658-bf37-4df7-936c-0f6095a5fdc9",
   "metadata": {},
   "outputs": [
    {
     "data": {
      "text/html": [
       "<div>\n",
       "<style scoped>\n",
       "    .dataframe tbody tr th:only-of-type {\n",
       "        vertical-align: middle;\n",
       "    }\n",
       "\n",
       "    .dataframe tbody tr th {\n",
       "        vertical-align: top;\n",
       "    }\n",
       "\n",
       "    .dataframe thead th {\n",
       "        text-align: right;\n",
       "    }\n",
       "</style>\n",
       "<table border=\"1\" class=\"dataframe\">\n",
       "  <thead>\n",
       "    <tr style=\"text-align: right;\">\n",
       "      <th></th>\n",
       "      <th>Room</th>\n",
       "      <th>Name</th>\n",
       "      <th>Age</th>\n",
       "      <th>Cuisine</th>\n",
       "      <th>Expenditure</th>\n",
       "    </tr>\n",
       "  </thead>\n",
       "  <tbody>\n",
       "    <tr>\n",
       "      <th>0</th>\n",
       "      <td>A1</td>\n",
       "      <td>Shilpa</td>\n",
       "      <td>18</td>\n",
       "      <td>Indian</td>\n",
       "      <td>24.65</td>\n",
       "    </tr>\n",
       "    <tr>\n",
       "      <th>1</th>\n",
       "      <td>A2</td>\n",
       "      <td>Jaspreet</td>\n",
       "      <td>32</td>\n",
       "      <td>American</td>\n",
       "      <td>18.54</td>\n",
       "    </tr>\n",
       "    <tr>\n",
       "      <th>2</th>\n",
       "      <td>A3</td>\n",
       "      <td>Dominic</td>\n",
       "      <td>19</td>\n",
       "      <td>Indian</td>\n",
       "      <td>27.66</td>\n",
       "    </tr>\n",
       "    <tr>\n",
       "      <th>3</th>\n",
       "      <td>A4</td>\n",
       "      <td>Ahmad</td>\n",
       "      <td>22</td>\n",
       "      <td>American</td>\n",
       "      <td>19.54</td>\n",
       "    </tr>\n",
       "    <tr>\n",
       "      <th>4</th>\n",
       "      <td>A5</td>\n",
       "      <td>Joseph</td>\n",
       "      <td>28</td>\n",
       "      <td>Indian</td>\n",
       "      <td>17.32</td>\n",
       "    </tr>\n",
       "    <tr>\n",
       "      <th>5</th>\n",
       "      <td>A6</td>\n",
       "      <td>Saju</td>\n",
       "      <td>31</td>\n",
       "      <td>Indian</td>\n",
       "      <td>12.56</td>\n",
       "    </tr>\n",
       "    <tr>\n",
       "      <th>6</th>\n",
       "      <td>A7</td>\n",
       "      <td>Monica</td>\n",
       "      <td>48</td>\n",
       "      <td>Chinese</td>\n",
       "      <td>11.09</td>\n",
       "    </tr>\n",
       "    <tr>\n",
       "      <th>7</th>\n",
       "      <td>A8</td>\n",
       "      <td>Preeti</td>\n",
       "      <td>67</td>\n",
       "      <td>American</td>\n",
       "      <td>12.23</td>\n",
       "    </tr>\n",
       "    <tr>\n",
       "      <th>8</th>\n",
       "      <td>A9</td>\n",
       "      <td>Emma</td>\n",
       "      <td>24</td>\n",
       "      <td>Indian</td>\n",
       "      <td>18.88</td>\n",
       "    </tr>\n",
       "    <tr>\n",
       "      <th>9</th>\n",
       "      <td>A10</td>\n",
       "      <td>Gaurav</td>\n",
       "      <td>29</td>\n",
       "      <td>Chinese</td>\n",
       "      <td>14.43</td>\n",
       "    </tr>\n",
       "  </tbody>\n",
       "</table>\n",
       "</div>"
      ],
      "text/plain": [
       "  Room      Name  Age   Cuisine  Expenditure\n",
       "0   A1    Shilpa   18    Indian        24.65\n",
       "1   A2  Jaspreet   32  American        18.54\n",
       "2   A3   Dominic   19    Indian        27.66\n",
       "3   A4     Ahmad   22  American        19.54\n",
       "4   A5    Joseph   28    Indian        17.32\n",
       "5   A6      Saju   31    Indian        12.56\n",
       "6   A7    Monica   48   Chinese        11.09\n",
       "7   A8    Preeti   67  American        12.23\n",
       "8   A9      Emma   24    Indian        18.88\n",
       "9  A10    Gaurav   29   Chinese        14.43"
      ]
     },
     "execution_count": 362,
     "metadata": {},
     "output_type": "execute_result"
    }
   ],
   "source": [
    "room4"
   ]
  },
  {
   "cell_type": "code",
   "execution_count": 374,
   "id": "b410b749-2f83-4063-90f6-f6161bf36de5",
   "metadata": {},
   "outputs": [],
   "source": [
    "room4.rename(index = {\n",
    "    0:'ZERO',\n",
    "    1:'ONE',\n",
    "    2:'TWO',\n",
    "    3:'THREE',\n",
    "    4:'FOUR',\n",
    "    5:'FIVE',\n",
    "    6:'SIX',\n",
    "    7:'SEVEN',\n",
    "    8:'EIGHT',\n",
    "    9:'NINE',\n",
    "},inplace = True)"
   ]
  },
  {
   "cell_type": "code",
   "execution_count": 376,
   "id": "c61842e1-514e-4b80-8b44-51e5befb145c",
   "metadata": {},
   "outputs": [
    {
     "data": {
      "text/html": [
       "<div>\n",
       "<style scoped>\n",
       "    .dataframe tbody tr th:only-of-type {\n",
       "        vertical-align: middle;\n",
       "    }\n",
       "\n",
       "    .dataframe tbody tr th {\n",
       "        vertical-align: top;\n",
       "    }\n",
       "\n",
       "    .dataframe thead th {\n",
       "        text-align: right;\n",
       "    }\n",
       "</style>\n",
       "<table border=\"1\" class=\"dataframe\">\n",
       "  <thead>\n",
       "    <tr style=\"text-align: right;\">\n",
       "      <th></th>\n",
       "      <th>Room</th>\n",
       "      <th>Name</th>\n",
       "      <th>Age</th>\n",
       "      <th>Cuisine</th>\n",
       "      <th>Expenditure</th>\n",
       "    </tr>\n",
       "  </thead>\n",
       "  <tbody>\n",
       "    <tr>\n",
       "      <th>ZERO</th>\n",
       "      <td>A1</td>\n",
       "      <td>Shilpa</td>\n",
       "      <td>18</td>\n",
       "      <td>Indian</td>\n",
       "      <td>24.65</td>\n",
       "    </tr>\n",
       "    <tr>\n",
       "      <th>ONE</th>\n",
       "      <td>A2</td>\n",
       "      <td>Jaspreet</td>\n",
       "      <td>32</td>\n",
       "      <td>American</td>\n",
       "      <td>18.54</td>\n",
       "    </tr>\n",
       "    <tr>\n",
       "      <th>TWO</th>\n",
       "      <td>A3</td>\n",
       "      <td>Dominic</td>\n",
       "      <td>19</td>\n",
       "      <td>Indian</td>\n",
       "      <td>27.66</td>\n",
       "    </tr>\n",
       "    <tr>\n",
       "      <th>THREE</th>\n",
       "      <td>A4</td>\n",
       "      <td>Ahmad</td>\n",
       "      <td>22</td>\n",
       "      <td>American</td>\n",
       "      <td>19.54</td>\n",
       "    </tr>\n",
       "    <tr>\n",
       "      <th>FOUR</th>\n",
       "      <td>A5</td>\n",
       "      <td>Joseph</td>\n",
       "      <td>28</td>\n",
       "      <td>Indian</td>\n",
       "      <td>17.32</td>\n",
       "    </tr>\n",
       "    <tr>\n",
       "      <th>FIVE</th>\n",
       "      <td>A6</td>\n",
       "      <td>Saju</td>\n",
       "      <td>31</td>\n",
       "      <td>Indian</td>\n",
       "      <td>12.56</td>\n",
       "    </tr>\n",
       "    <tr>\n",
       "      <th>SIX</th>\n",
       "      <td>A7</td>\n",
       "      <td>Monica</td>\n",
       "      <td>48</td>\n",
       "      <td>Chinese</td>\n",
       "      <td>11.09</td>\n",
       "    </tr>\n",
       "    <tr>\n",
       "      <th>SEVEN</th>\n",
       "      <td>A8</td>\n",
       "      <td>Preeti</td>\n",
       "      <td>67</td>\n",
       "      <td>American</td>\n",
       "      <td>12.23</td>\n",
       "    </tr>\n",
       "    <tr>\n",
       "      <th>EIGHT</th>\n",
       "      <td>A9</td>\n",
       "      <td>Emma</td>\n",
       "      <td>24</td>\n",
       "      <td>Indian</td>\n",
       "      <td>18.88</td>\n",
       "    </tr>\n",
       "    <tr>\n",
       "      <th>NINE</th>\n",
       "      <td>A10</td>\n",
       "      <td>Gaurav</td>\n",
       "      <td>29</td>\n",
       "      <td>Chinese</td>\n",
       "      <td>14.43</td>\n",
       "    </tr>\n",
       "  </tbody>\n",
       "</table>\n",
       "</div>"
      ],
      "text/plain": [
       "      Room      Name  Age   Cuisine  Expenditure\n",
       "ZERO    A1    Shilpa   18    Indian        24.65\n",
       "ONE     A2  Jaspreet   32  American        18.54\n",
       "TWO     A3   Dominic   19    Indian        27.66\n",
       "THREE   A4     Ahmad   22  American        19.54\n",
       "FOUR    A5    Joseph   28    Indian        17.32\n",
       "FIVE    A6      Saju   31    Indian        12.56\n",
       "SIX     A7    Monica   48   Chinese        11.09\n",
       "SEVEN   A8    Preeti   67  American        12.23\n",
       "EIGHT   A9      Emma   24    Indian        18.88\n",
       "NINE   A10    Gaurav   29   Chinese        14.43"
      ]
     },
     "execution_count": 376,
     "metadata": {},
     "output_type": "execute_result"
    }
   ],
   "source": [
    "room4"
   ]
  },
  {
   "cell_type": "markdown",
   "id": "931744b4-2e23-4af7-a435-38a8be6be3a2",
   "metadata": {},
   "source": [
    "\n",
    "# concatinate and join and merge"
   ]
  },
  {
   "cell_type": "code",
   "execution_count": 381,
   "id": "c63b42bc-8108-43f5-bf0e-9013748544fb",
   "metadata": {},
   "outputs": [],
   "source": [
    "#do this from rhaul sir classes"
   ]
  },
  {
   "cell_type": "code",
   "execution_count": null,
   "id": "21b99a83-72a0-4286-a765-acfe5328d172",
   "metadata": {},
   "outputs": [],
   "source": []
  },
  {
   "cell_type": "code",
   "execution_count": null,
   "id": "00ddd4a1-e698-409b-8f5c-906c8eb8201f",
   "metadata": {},
   "outputs": [],
   "source": []
  },
  {
   "cell_type": "code",
   "execution_count": null,
   "id": "8ca9501b-a32f-48bd-9e6a-e6629d916854",
   "metadata": {},
   "outputs": [],
   "source": []
  },
  {
   "cell_type": "code",
   "execution_count": null,
   "id": "6dd696c8-d93c-42e9-847c-90beadca44dc",
   "metadata": {},
   "outputs": [],
   "source": []
  },
  {
   "cell_type": "code",
   "execution_count": null,
   "id": "370c41dc-9d38-4442-9825-609c7b4ae55a",
   "metadata": {},
   "outputs": [],
   "source": []
  },
  {
   "cell_type": "code",
   "execution_count": null,
   "id": "4eefcce2-3a19-4c4c-aea4-f74e956c1ee4",
   "metadata": {},
   "outputs": [],
   "source": []
  },
  {
   "cell_type": "code",
   "execution_count": null,
   "id": "9032f2c0-b83b-4eda-b2e1-89e5a1e2195c",
   "metadata": {},
   "outputs": [],
   "source": []
  },
  {
   "cell_type": "code",
   "execution_count": null,
   "id": "dae4725c-3f09-4691-83ed-9a71adbda848",
   "metadata": {},
   "outputs": [],
   "source": []
  },
  {
   "cell_type": "code",
   "execution_count": null,
   "id": "cf891c96-029a-45b2-8b0d-35d5a4e0bc93",
   "metadata": {},
   "outputs": [],
   "source": []
  }
 ],
 "metadata": {
  "kernelspec": {
   "display_name": "Python [conda env:base] *",
   "language": "python",
   "name": "conda-base-py"
  },
  "language_info": {
   "codemirror_mode": {
    "name": "ipython",
    "version": 3
   },
   "file_extension": ".py",
   "mimetype": "text/x-python",
   "name": "python",
   "nbconvert_exporter": "python",
   "pygments_lexer": "ipython3",
   "version": "3.12.7"
  }
 },
 "nbformat": 4,
 "nbformat_minor": 5
}
