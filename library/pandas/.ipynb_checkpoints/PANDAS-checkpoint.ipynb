{
 "cells": [
  {
   "cell_type": "markdown",
   "id": "4da56fbe-ea8d-4699-be18-c9b2515a276a",
   "metadata": {},
   "source": [
    "# Pandas!"
   ]
  },
  {
   "cell_type": "code",
   "execution_count": 9,
   "id": "8e1ecf46-ce62-494e-bdaa-5ccd6780ff97",
   "metadata": {},
   "outputs": [],
   "source": [
    "import pandas as pd"
   ]
  },
  {
   "cell_type": "markdown",
   "id": "c53d88c4-25a2-40aa-8d0c-6a02a5247225",
   "metadata": {},
   "source": [
    "1. Series\n",
    "A Series is a one-dimensional labeled array.\n",
    "\n",
    "It can hold any data type (integers, floats, strings, etc.).\n",
    "\n",
    "It has an index that labels each element.\n",
    "\n",
    "Think of it as a column in an Excel sheet or a single list with labels."
   ]
  },
  {
   "cell_type": "code",
   "execution_count": 16,
   "id": "661e56bb-7a47-463b-8250-a99da4a2d2a2",
   "metadata": {},
   "outputs": [],
   "source": [
    "# my_series = pd.Series(data,indeex,name)"
   ]
  },
  {
   "cell_type": "code",
   "execution_count": 18,
   "id": "62a4bc5a-b4fb-4cb3-818d-9b552fd401c1",
   "metadata": {},
   "outputs": [],
   "source": [
    "new_Series = pd.Series(dtype = int)"
   ]
  },
  {
   "cell_type": "code",
   "execution_count": 20,
   "id": "24e9ab66-de47-4125-b3d5-c50e89b7711b",
   "metadata": {},
   "outputs": [
    {
     "data": {
      "text/plain": [
       "Series([], dtype: int64)"
      ]
     },
     "execution_count": 20,
     "metadata": {},
     "output_type": "execute_result"
    }
   ],
   "source": [
    "new_Series"
   ]
  },
  {
   "cell_type": "markdown",
   "id": "8a2d5b55-e259-4dff-bd32-634606ce042a",
   "metadata": {},
   "source": [
    "In this example, we're creating an empty series using Pandas. It's like reserving a spot for data, but for now, it's empty. We're telling Pandas that we want it to be a series of whole numbers (dtype = 'int'). It's like setting up a container in advance, even though we haven't put anything in it yet. This can be useful when we plan to add data later on.\n",
    "\n"
   ]
  },
  {
   "cell_type": "markdown",
   "id": "af6f490d-4f14-4d41-bf8b-b7d0e53fe21f",
   "metadata": {},
   "source": [
    "#### example"
   ]
  },
  {
   "cell_type": "code",
   "execution_count": 26,
   "id": "d59361f1-371d-4ac5-bae3-b23be8cc1399",
   "metadata": {},
   "outputs": [],
   "source": [
    "production_data =  [1000,1100,1200,1300,1400,1500,1600]"
   ]
  },
  {
   "cell_type": "code",
   "execution_count": 24,
   "id": "a1199f27-8608-4c1e-ba72-c150c811880a",
   "metadata": {},
   "outputs": [],
   "source": [
    "prodection_day = ['day1','day2','day3','day4','day5','day6','day7',]"
   ]
  },
  {
   "cell_type": "code",
   "execution_count": 36,
   "id": "88a0d7c4-edb9-4272-9a6d-6718703c3b94",
   "metadata": {},
   "outputs": [],
   "source": [
    "my_series = pd.Series(data = production_data,index=prodection_day,name='production details')"
   ]
  },
  {
   "cell_type": "code",
   "execution_count": 30,
   "id": "b81de239-1e7a-4889-9038-e38bc38647d7",
   "metadata": {},
   "outputs": [
    {
     "data": {
      "text/plain": [
       "day1    1000\n",
       "day2    1100\n",
       "day3    1200\n",
       "day4    1300\n",
       "day5    1400\n",
       "day6    1500\n",
       "day7    1600\n",
       "Name: production details, dtype: int64"
      ]
     },
     "execution_count": 30,
     "metadata": {},
     "output_type": "execute_result"
    }
   ],
   "source": [
    "my_series"
   ]
  },
  {
   "cell_type": "code",
   "execution_count": 38,
   "id": "61a432db-7ba5-4467-b3fb-a873bb674281",
   "metadata": {},
   "outputs": [
    {
     "ename": "ValueError",
     "evalue": "Length of values (6) does not match length of index (7)",
     "output_type": "error",
     "traceback": [
      "\u001b[1;31m---------------------------------------------------------------------------\u001b[0m",
      "\u001b[1;31mValueError\u001b[0m                                Traceback (most recent call last)",
      "Cell \u001b[1;32mIn[38], line 1\u001b[0m\n\u001b[1;32m----> 1\u001b[0m daily_prodection \u001b[38;5;241m=\u001b[39m pd\u001b[38;5;241m.\u001b[39mSeries(data \u001b[38;5;241m=\u001b[39m production_data[\u001b[38;5;241m1\u001b[39m:],index \u001b[38;5;241m=\u001b[39m prodection_day,name \u001b[38;5;241m=\u001b[39m \u001b[38;5;124m'\u001b[39m\u001b[38;5;124mproduction detail\u001b[39m\u001b[38;5;124m'\u001b[39m)\n",
      "File \u001b[1;32m~\\anaconda3\\Lib\\site-packages\\pandas\\core\\series.py:575\u001b[0m, in \u001b[0;36mSeries.__init__\u001b[1;34m(self, data, index, dtype, name, copy, fastpath)\u001b[0m\n\u001b[0;32m    573\u001b[0m     index \u001b[38;5;241m=\u001b[39m default_index(\u001b[38;5;28mlen\u001b[39m(data))\n\u001b[0;32m    574\u001b[0m \u001b[38;5;28;01melif\u001b[39;00m is_list_like(data):\n\u001b[1;32m--> 575\u001b[0m     com\u001b[38;5;241m.\u001b[39mrequire_length_match(data, index)\n\u001b[0;32m    577\u001b[0m \u001b[38;5;66;03m# create/copy the manager\u001b[39;00m\n\u001b[0;32m    578\u001b[0m \u001b[38;5;28;01mif\u001b[39;00m \u001b[38;5;28misinstance\u001b[39m(data, (SingleBlockManager, SingleArrayManager)):\n",
      "File \u001b[1;32m~\\anaconda3\\Lib\\site-packages\\pandas\\core\\common.py:573\u001b[0m, in \u001b[0;36mrequire_length_match\u001b[1;34m(data, index)\u001b[0m\n\u001b[0;32m    569\u001b[0m \u001b[38;5;250m\u001b[39m\u001b[38;5;124;03m\"\"\"\u001b[39;00m\n\u001b[0;32m    570\u001b[0m \u001b[38;5;124;03mCheck the length of data matches the length of the index.\u001b[39;00m\n\u001b[0;32m    571\u001b[0m \u001b[38;5;124;03m\"\"\"\u001b[39;00m\n\u001b[0;32m    572\u001b[0m \u001b[38;5;28;01mif\u001b[39;00m \u001b[38;5;28mlen\u001b[39m(data) \u001b[38;5;241m!=\u001b[39m \u001b[38;5;28mlen\u001b[39m(index):\n\u001b[1;32m--> 573\u001b[0m     \u001b[38;5;28;01mraise\u001b[39;00m \u001b[38;5;167;01mValueError\u001b[39;00m(\n\u001b[0;32m    574\u001b[0m         \u001b[38;5;124m\"\u001b[39m\u001b[38;5;124mLength of values \u001b[39m\u001b[38;5;124m\"\u001b[39m\n\u001b[0;32m    575\u001b[0m         \u001b[38;5;124mf\u001b[39m\u001b[38;5;124m\"\u001b[39m\u001b[38;5;124m(\u001b[39m\u001b[38;5;132;01m{\u001b[39;00m\u001b[38;5;28mlen\u001b[39m(data)\u001b[38;5;132;01m}\u001b[39;00m\u001b[38;5;124m) \u001b[39m\u001b[38;5;124m\"\u001b[39m\n\u001b[0;32m    576\u001b[0m         \u001b[38;5;124m\"\u001b[39m\u001b[38;5;124mdoes not match length of index \u001b[39m\u001b[38;5;124m\"\u001b[39m\n\u001b[0;32m    577\u001b[0m         \u001b[38;5;124mf\u001b[39m\u001b[38;5;124m\"\u001b[39m\u001b[38;5;124m(\u001b[39m\u001b[38;5;132;01m{\u001b[39;00m\u001b[38;5;28mlen\u001b[39m(index)\u001b[38;5;132;01m}\u001b[39;00m\u001b[38;5;124m)\u001b[39m\u001b[38;5;124m\"\u001b[39m\n\u001b[0;32m    578\u001b[0m     )\n",
      "\u001b[1;31mValueError\u001b[0m: Length of values (6) does not match length of index (7)"
     ]
    }
   ],
   "source": [
    "daily_prodection = pd.Series(data = production_data[1:],index = prodection_day,name = 'production detail')"
   ]
  },
  {
   "cell_type": "code",
   "execution_count": 40,
   "id": "ea3a5820-437c-4301-9c09-7762b08e904f",
   "metadata": {},
   "outputs": [
    {
     "data": {
      "text/plain": [
       "'production details'"
      ]
     },
     "execution_count": 40,
     "metadata": {},
     "output_type": "execute_result"
    }
   ],
   "source": [
    "my_series.name"
   ]
  },
  {
   "cell_type": "code",
   "execution_count": 42,
   "id": "0537243c-675a-4c64-934a-abd2d1a023f7",
   "metadata": {},
   "outputs": [
    {
     "data": {
      "text/plain": [
       "Index(['day1', 'day2', 'day3', 'day4', 'day5', 'day6', 'day7'], dtype='object')"
      ]
     },
     "execution_count": 42,
     "metadata": {},
     "output_type": "execute_result"
    }
   ],
   "source": [
    "my_series.index"
   ]
  },
  {
   "cell_type": "code",
   "execution_count": 50,
   "id": "bb800574-6ffe-4b50-8ac1-92fecb37f48e",
   "metadata": {},
   "outputs": [
    {
     "data": {
      "text/plain": [
       "array([1000, 1100, 1200, 1300, 1400, 1500, 1600])"
      ]
     },
     "execution_count": 50,
     "metadata": {},
     "output_type": "execute_result"
    }
   ],
   "source": [
    "my_series.values # in here we dont use data we there values of series"
   ]
  },
  {
   "cell_type": "code",
   "execution_count": 52,
   "id": "e7015de8-ed51-458a-a70c-4d002295c90a",
   "metadata": {},
   "outputs": [
    {
     "data": {
      "text/plain": [
       "dtype('int64')"
      ]
     },
     "execution_count": 52,
     "metadata": {},
     "output_type": "execute_result"
    }
   ],
   "source": [
    "my_series.dtype"
   ]
  },
  {
   "cell_type": "code",
   "execution_count": 54,
   "id": "899197c3-21c3-409e-bc75-3372da62f804",
   "metadata": {},
   "outputs": [
    {
     "data": {
      "text/plain": [
       "(7,)"
      ]
     },
     "execution_count": 54,
     "metadata": {},
     "output_type": "execute_result"
    }
   ],
   "source": [
    "my_series.shape"
   ]
  },
  {
   "cell_type": "code",
   "execution_count": 60,
   "id": "198f70c6-fd9b-48f8-94e7-afbe146e8761",
   "metadata": {},
   "outputs": [
    {
     "data": {
      "text/plain": [
       "1"
      ]
     },
     "execution_count": 60,
     "metadata": {},
     "output_type": "execute_result"
    }
   ],
   "source": [
    "my_series.ndim # dimentional of this serries"
   ]
  },
  {
   "cell_type": "code",
   "execution_count": 68,
   "id": "8fe4661a-ccbb-4f56-bf50-36bdcfc21092",
   "metadata": {},
   "outputs": [
    {
     "data": {
      "text/plain": [
       "7"
      ]
     },
     "execution_count": 68,
     "metadata": {},
     "output_type": "execute_result"
    }
   ],
   "source": [
    "len(my_series)"
   ]
  },
  {
   "cell_type": "code",
   "execution_count": null,
   "id": "6575cc99-d4cf-4999-9f44-60cf46c3add3",
   "metadata": {},
   "outputs": [],
   "source": []
  },
  {
   "cell_type": "code",
   "execution_count": null,
   "id": "9edf0bd9-de4f-448b-889e-546fcddab8a7",
   "metadata": {},
   "outputs": [],
   "source": []
  },
  {
   "cell_type": "code",
   "execution_count": null,
   "id": "9475d85c-7f22-4a4f-9920-beb9987913a3",
   "metadata": {},
   "outputs": [],
   "source": []
  },
  {
   "cell_type": "code",
   "execution_count": null,
   "id": "44695bb5-e455-42d8-872a-0164c822605d",
   "metadata": {},
   "outputs": [],
   "source": []
  },
  {
   "cell_type": "code",
   "execution_count": null,
   "id": "7c05132d-fab5-44e9-8836-a46fc99d7f71",
   "metadata": {},
   "outputs": [],
   "source": []
  },
  {
   "cell_type": "code",
   "execution_count": null,
   "id": "8341f385-46d7-4dd0-9481-35b324681e21",
   "metadata": {},
   "outputs": [],
   "source": []
  },
  {
   "cell_type": "code",
   "execution_count": null,
   "id": "2b9fa5de-45a1-4c54-ac6c-370258f4bfb2",
   "metadata": {},
   "outputs": [],
   "source": []
  },
  {
   "cell_type": "code",
   "execution_count": null,
   "id": "a6f7fed1-4200-4c01-b373-89346f10522b",
   "metadata": {},
   "outputs": [],
   "source": []
  },
  {
   "cell_type": "code",
   "execution_count": null,
   "id": "d3c786a0-ce95-4ff7-893a-e4d4d72b633d",
   "metadata": {},
   "outputs": [],
   "source": []
  },
  {
   "cell_type": "code",
   "execution_count": null,
   "id": "0e0a4ee1-dc32-4cfe-a76b-ff4c0e1abe39",
   "metadata": {},
   "outputs": [],
   "source": []
  },
  {
   "cell_type": "code",
   "execution_count": null,
   "id": "c72a931e-d29f-4d72-965b-73de2256aafa",
   "metadata": {},
   "outputs": [],
   "source": []
  },
  {
   "cell_type": "code",
   "execution_count": null,
   "id": "bc84da48-4ed1-45d8-8a2c-21c77f717517",
   "metadata": {},
   "outputs": [],
   "source": []
  },
  {
   "cell_type": "code",
   "execution_count": null,
   "id": "39e03a7d-b856-469d-bf8f-59d51b1ae0ac",
   "metadata": {},
   "outputs": [],
   "source": []
  },
  {
   "cell_type": "code",
   "execution_count": null,
   "id": "cef64b78-4e27-41c4-8b0c-6ee4c92a9c11",
   "metadata": {},
   "outputs": [],
   "source": []
  },
  {
   "cell_type": "code",
   "execution_count": null,
   "id": "40c556f5-66f0-4436-8425-e3e024294b3e",
   "metadata": {},
   "outputs": [],
   "source": []
  },
  {
   "cell_type": "code",
   "execution_count": null,
   "id": "7a940282-238d-4af5-b0c8-4266906c4d8c",
   "metadata": {},
   "outputs": [],
   "source": []
  },
  {
   "cell_type": "code",
   "execution_count": null,
   "id": "8112da87-6bd2-4af2-9426-986deb723a25",
   "metadata": {},
   "outputs": [],
   "source": []
  },
  {
   "cell_type": "code",
   "execution_count": null,
   "id": "9da30071-acf6-45bf-8f55-7798efd118fd",
   "metadata": {},
   "outputs": [],
   "source": []
  }
 ],
 "metadata": {
  "kernelspec": {
   "display_name": "Python [conda env:base] *",
   "language": "python",
   "name": "conda-base-py"
  },
  "language_info": {
   "codemirror_mode": {
    "name": "ipython",
    "version": 3
   },
   "file_extension": ".py",
   "mimetype": "text/x-python",
   "name": "python",
   "nbconvert_exporter": "python",
   "pygments_lexer": "ipython3",
   "version": "3.12.7"
  }
 },
 "nbformat": 4,
 "nbformat_minor": 5
}
