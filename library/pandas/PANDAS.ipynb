{
 "cells": [
  {
   "cell_type": "markdown",
   "id": "4da56fbe-ea8d-4699-be18-c9b2515a276a",
   "metadata": {},
   "source": [
    "# Pandas!"
   ]
  },
  {
   "cell_type": "code",
   "execution_count": 3,
   "id": "8e1ecf46-ce62-494e-bdaa-5ccd6780ff97",
   "metadata": {},
   "outputs": [],
   "source": [
    "import pandas as pd"
   ]
  },
  {
   "cell_type": "markdown",
   "id": "c53d88c4-25a2-40aa-8d0c-6a02a5247225",
   "metadata": {},
   "source": [
    "1. Series\n",
    "A Series is a one-dimensional labeled array.\n",
    "\n",
    "It can hold any data type (integers, floats, strings, etc.).\n",
    "\n",
    "It has an index that labels each element.\n",
    "\n",
    "Think of it as a column in an Excel sheet or a single list with labels."
   ]
  },
  {
   "cell_type": "markdown",
   "id": "77ebfe8e-a605-4836-9949-d9e5e37cdcf3",
   "metadata": {},
   "source": [
    "## series"
   ]
  },
  {
   "cell_type": "code",
   "execution_count": 5,
   "id": "661e56bb-7a47-463b-8250-a99da4a2d2a2",
   "metadata": {},
   "outputs": [],
   "source": [
    "# my_series = pd.Series(data,indeex,name)"
   ]
  },
  {
   "cell_type": "code",
   "execution_count": 6,
   "id": "62a4bc5a-b4fb-4cb3-818d-9b552fd401c1",
   "metadata": {},
   "outputs": [],
   "source": [
    "new_Series = pd.Series(dtype = int)"
   ]
  },
  {
   "cell_type": "code",
   "execution_count": 7,
   "id": "24e9ab66-de47-4125-b3d5-c50e89b7711b",
   "metadata": {},
   "outputs": [
    {
     "data": {
      "text/plain": [
       "Series([], dtype: int64)"
      ]
     },
     "execution_count": 7,
     "metadata": {},
     "output_type": "execute_result"
    }
   ],
   "source": [
    "new_Series"
   ]
  },
  {
   "cell_type": "markdown",
   "id": "8a2d5b55-e259-4dff-bd32-634606ce042a",
   "metadata": {},
   "source": [
    "In this example, we're creating an empty series using Pandas. It's like reserving a spot for data, but for now, it's empty. We're telling Pandas that we want it to be a series of whole numbers (dtype = 'int'). It's like setting up a container in advance, even though we haven't put anything in it yet. This can be useful when we plan to add data later on.\n",
    "\n"
   ]
  },
  {
   "cell_type": "markdown",
   "id": "af6f490d-4f14-4d41-bf8b-b7d0e53fe21f",
   "metadata": {},
   "source": [
    "#### example"
   ]
  },
  {
   "cell_type": "code",
   "execution_count": 35,
   "id": "d59361f1-371d-4ac5-bae3-b23be8cc1399",
   "metadata": {},
   "outputs": [],
   "source": [
    "production_data =  [1000,1100,1200,1300,1400,1500,1600]"
   ]
  },
  {
   "cell_type": "code",
   "execution_count": 37,
   "id": "a1199f27-8608-4c1e-ba72-c150c811880a",
   "metadata": {},
   "outputs": [],
   "source": [
    "prodection_day = ['day1','day2','day3','day4','day5','day6','day7',]"
   ]
  },
  {
   "cell_type": "code",
   "execution_count": 12,
   "id": "88a0d7c4-edb9-4272-9a6d-6718703c3b94",
   "metadata": {},
   "outputs": [],
   "source": [
    "my_series = pd.Series(data = production_data,index=prodection_day,name='production details')"
   ]
  },
  {
   "cell_type": "code",
   "execution_count": 13,
   "id": "b81de239-1e7a-4889-9038-e38bc38647d7",
   "metadata": {},
   "outputs": [
    {
     "data": {
      "text/plain": [
       "day1    1000\n",
       "day2    1100\n",
       "day3    1200\n",
       "day4    1300\n",
       "day5    1400\n",
       "day6    1500\n",
       "day7    1600\n",
       "Name: production details, dtype: int64"
      ]
     },
     "execution_count": 13,
     "metadata": {},
     "output_type": "execute_result"
    }
   ],
   "source": [
    "my_series"
   ]
  },
  {
   "cell_type": "code",
   "execution_count": 39,
   "id": "61a432db-7ba5-4467-b3fb-a873bb674281",
   "metadata": {},
   "outputs": [
    {
     "ename": "ValueError",
     "evalue": "Length of values (6) does not match length of index (7)",
     "output_type": "error",
     "traceback": [
      "\u001b[1;31m---------------------------------------------------------------------------\u001b[0m",
      "\u001b[1;31mValueError\u001b[0m                                Traceback (most recent call last)",
      "Cell \u001b[1;32mIn[39], line 1\u001b[0m\n\u001b[1;32m----> 1\u001b[0m daily_prodection \u001b[38;5;241m=\u001b[39m pd\u001b[38;5;241m.\u001b[39mSeries(data \u001b[38;5;241m=\u001b[39m production_data[\u001b[38;5;241m1\u001b[39m:],index \u001b[38;5;241m=\u001b[39m prodection_day,name \u001b[38;5;241m=\u001b[39m \u001b[38;5;124m'\u001b[39m\u001b[38;5;124mproduction detail\u001b[39m\u001b[38;5;124m'\u001b[39m)\n",
      "File \u001b[1;32m~\\anaconda3\\Lib\\site-packages\\pandas\\core\\series.py:575\u001b[0m, in \u001b[0;36mSeries.__init__\u001b[1;34m(self, data, index, dtype, name, copy, fastpath)\u001b[0m\n\u001b[0;32m    573\u001b[0m     index \u001b[38;5;241m=\u001b[39m default_index(\u001b[38;5;28mlen\u001b[39m(data))\n\u001b[0;32m    574\u001b[0m \u001b[38;5;28;01melif\u001b[39;00m is_list_like(data):\n\u001b[1;32m--> 575\u001b[0m     com\u001b[38;5;241m.\u001b[39mrequire_length_match(data, index)\n\u001b[0;32m    577\u001b[0m \u001b[38;5;66;03m# create/copy the manager\u001b[39;00m\n\u001b[0;32m    578\u001b[0m \u001b[38;5;28;01mif\u001b[39;00m \u001b[38;5;28misinstance\u001b[39m(data, (SingleBlockManager, SingleArrayManager)):\n",
      "File \u001b[1;32m~\\anaconda3\\Lib\\site-packages\\pandas\\core\\common.py:573\u001b[0m, in \u001b[0;36mrequire_length_match\u001b[1;34m(data, index)\u001b[0m\n\u001b[0;32m    569\u001b[0m \u001b[38;5;250m\u001b[39m\u001b[38;5;124;03m\"\"\"\u001b[39;00m\n\u001b[0;32m    570\u001b[0m \u001b[38;5;124;03mCheck the length of data matches the length of the index.\u001b[39;00m\n\u001b[0;32m    571\u001b[0m \u001b[38;5;124;03m\"\"\"\u001b[39;00m\n\u001b[0;32m    572\u001b[0m \u001b[38;5;28;01mif\u001b[39;00m \u001b[38;5;28mlen\u001b[39m(data) \u001b[38;5;241m!=\u001b[39m \u001b[38;5;28mlen\u001b[39m(index):\n\u001b[1;32m--> 573\u001b[0m     \u001b[38;5;28;01mraise\u001b[39;00m \u001b[38;5;167;01mValueError\u001b[39;00m(\n\u001b[0;32m    574\u001b[0m         \u001b[38;5;124m\"\u001b[39m\u001b[38;5;124mLength of values \u001b[39m\u001b[38;5;124m\"\u001b[39m\n\u001b[0;32m    575\u001b[0m         \u001b[38;5;124mf\u001b[39m\u001b[38;5;124m\"\u001b[39m\u001b[38;5;124m(\u001b[39m\u001b[38;5;132;01m{\u001b[39;00m\u001b[38;5;28mlen\u001b[39m(data)\u001b[38;5;132;01m}\u001b[39;00m\u001b[38;5;124m) \u001b[39m\u001b[38;5;124m\"\u001b[39m\n\u001b[0;32m    576\u001b[0m         \u001b[38;5;124m\"\u001b[39m\u001b[38;5;124mdoes not match length of index \u001b[39m\u001b[38;5;124m\"\u001b[39m\n\u001b[0;32m    577\u001b[0m         \u001b[38;5;124mf\u001b[39m\u001b[38;5;124m\"\u001b[39m\u001b[38;5;124m(\u001b[39m\u001b[38;5;132;01m{\u001b[39;00m\u001b[38;5;28mlen\u001b[39m(index)\u001b[38;5;132;01m}\u001b[39;00m\u001b[38;5;124m)\u001b[39m\u001b[38;5;124m\"\u001b[39m\n\u001b[0;32m    578\u001b[0m     )\n",
      "\u001b[1;31mValueError\u001b[0m: Length of values (6) does not match length of index (7)"
     ]
    }
   ],
   "source": [
    "daily_prodection = pd.Series(data = production_data[1:],index = prodection_day,name = 'production detail')"
   ]
  },
  {
   "cell_type": "code",
   "execution_count": null,
   "id": "ea3a5820-437c-4301-9c09-7762b08e904f",
   "metadata": {},
   "outputs": [],
   "source": [
    "my_series.name"
   ]
  },
  {
   "cell_type": "code",
   "execution_count": null,
   "id": "0537243c-675a-4c64-934a-abd2d1a023f7",
   "metadata": {},
   "outputs": [],
   "source": [
    "my_series.index"
   ]
  },
  {
   "cell_type": "code",
   "execution_count": null,
   "id": "bb800574-6ffe-4b50-8ac1-92fecb37f48e",
   "metadata": {},
   "outputs": [],
   "source": [
    "my_series.values # in here we dont use data we there values of series"
   ]
  },
  {
   "cell_type": "code",
   "execution_count": null,
   "id": "e7015de8-ed51-458a-a70c-4d002295c90a",
   "metadata": {},
   "outputs": [],
   "source": [
    "my_series.dtype"
   ]
  },
  {
   "cell_type": "code",
   "execution_count": null,
   "id": "899197c3-21c3-409e-bc75-3372da62f804",
   "metadata": {},
   "outputs": [],
   "source": [
    "my_series.shape"
   ]
  },
  {
   "cell_type": "code",
   "execution_count": null,
   "id": "198f70c6-fd9b-48f8-94e7-afbe146e8761",
   "metadata": {},
   "outputs": [],
   "source": [
    "my_series.ndim # dimentional of this serries"
   ]
  },
  {
   "cell_type": "code",
   "execution_count": null,
   "id": "8fe4661a-ccbb-4f56-bf50-36bdcfc21092",
   "metadata": {},
   "outputs": [],
   "source": [
    "len(my_series)"
   ]
  },
  {
   "cell_type": "markdown",
   "id": "2c7ec504-89ee-4199-9f89-3661291dfb3e",
   "metadata": {},
   "source": [
    "## DATAFRAMES"
   ]
  },
  {
   "cell_type": "markdown",
   "id": "46bb3751-1f24-417b-9396-e142bf2caa4a",
   "metadata": {},
   "source": [
    "pd.DataFrame(data, index, columns, dtype)"
   ]
  },
  {
   "cell_type": "code",
   "execution_count": null,
   "id": "9edf0bd9-de4f-448b-889e-546fcddab8a7",
   "metadata": {},
   "outputs": [],
   "source": [
    "cus_data = [\n",
    "    ['01','anish verma','anis@gmail.com','9818727396',50],\n",
    "    ['02','harsh verma','harsh@gmail.com','9818725396',70],\n",
    "    ['03','khushi verma','harsh@gmail.com','9818724396',90]\n",
    "]\n",
    "\n",
    "cus_column = [['COSTUMER ID','NAME','EMAIL','PHONE NO.','TOTAL PURCHASE']]"
   ]
  },
  {
   "cell_type": "code",
   "execution_count": null,
   "id": "9475d85c-7f22-4a4f-9920-beb9987913a3",
   "metadata": {},
   "outputs": [],
   "source": [
    "df = pd.DataFrame(data=cus_data,columns=cus_column)"
   ]
  },
  {
   "cell_type": "code",
   "execution_count": null,
   "id": "44695bb5-e455-42d8-872a-0164c822605d",
   "metadata": {},
   "outputs": [],
   "source": [
    "df"
   ]
  },
  {
   "cell_type": "code",
   "execution_count": null,
   "id": "7c05132d-fab5-44e9-8836-a46fc99d7f71",
   "metadata": {},
   "outputs": [],
   "source": [
    "cus_index = ['A','B','C']"
   ]
  },
  {
   "cell_type": "code",
   "execution_count": null,
   "id": "8341f385-46d7-4dd0-9481-35b324681e21",
   "metadata": {},
   "outputs": [],
   "source": [
    "df_ind = pd.DataFrame(data = cus_data,index = cus_index,columns =cus_column)"
   ]
  },
  {
   "cell_type": "code",
   "execution_count": null,
   "id": "2b9fa5de-45a1-4c54-ac6c-370258f4bfb2",
   "metadata": {},
   "outputs": [],
   "source": [
    "df_ind"
   ]
  },
  {
   "cell_type": "markdown",
   "id": "952aeb1f-1f49-4bb5-aa36-8fd00b9493ad",
   "metadata": {},
   "source": [
    "## Creating DataFrames from Dictionaries\n",
    "\n"
   ]
  },
  {
   "cell_type": "code",
   "execution_count": null,
   "id": "d3c786a0-ce95-4ff7-893a-e4d4d72b633d",
   "metadata": {},
   "outputs": [],
   "source": [
    "cus_dict = {\n",
    "    'COSTUMER ID ':['A','B','C','D'],\n",
    "    'NAME':['ANISH','HARSH','KHSUHI','ONI'],\n",
    "    'EMAIL':['anish@gmail.com','harsh@gmail.com','khushi@gmail.com','oninoni@gmail.com'],\n",
    "    'PHONE NO.':['9818727396','9818747396','9488727396','9818757396'],\n",
    "    'PURCHASE':[50,20,10,40]\n",
    "}"
   ]
  },
  {
   "cell_type": "code",
   "execution_count": null,
   "id": "0e0a4ee1-dc32-4cfe-a76b-ff4c0e1abe39",
   "metadata": {},
   "outputs": [],
   "source": [
    "new_df = pd.DataFrame(cus_dict,index = ['a','b','c','d'])"
   ]
  },
  {
   "cell_type": "code",
   "execution_count": null,
   "id": "c72a931e-d29f-4d72-965b-73de2256aafa",
   "metadata": {},
   "outputs": [],
   "source": [
    "new_df"
   ]
  },
  {
   "cell_type": "markdown",
   "id": "931b778c-af3f-4eb2-ad88-fb7a57f880ca",
   "metadata": {},
   "source": [
    "## READING DATA FROM SYSTEM FILE"
   ]
  },
  {
   "cell_type": "markdown",
   "id": "0633268b-72a8-4e2b-8fe0-17d3b1edcaf3",
   "metadata": {},
   "source": [
    "##### pd.read_csv(filepath_or_buffer, index_col=None, dtype=None)"
   ]
  },
  {
   "cell_type": "markdown",
   "id": "5fb0d81d-7117-4493-8c83-3b44196fe750",
   "metadata": {},
   "source": [
    "Let’s look at the function in more detail:\n",
    "\n",
    "pd.read_csv: This is a function provided by the pandas library specifically designed for reading data from CSV files.\n",
    "\n",
    "filepath_or_buffer: This is the path or URL of the CSV file you want to read. You should replace filepath_or_buffer with the actual file path or URL.\n",
    "\n",
    "index_col: This parameter is optional. It specifies which column(s) should be used as the index (row labels) of the resulting DataFrame. If not provided, pandas will automatically assign integer indices.\n",
    "\n",
    "dtype: This parameter is optional. It allows you to specify the data types for the columns in the DataFrame. If not provided, pandas will infer the data types."
   ]
  },
  {
   "cell_type": "code",
   "execution_count": null,
   "id": "39e03a7d-b856-469d-bf8f-59d51b1ae0ac",
   "metadata": {},
   "outputs": [],
   "source": [
    "df_read = pd.read_csv('anish.csv')"
   ]
  },
  {
   "cell_type": "code",
   "execution_count": null,
   "id": "cef64b78-4e27-41c4-8b0c-6ee4c92a9c11",
   "metadata": {},
   "outputs": [],
   "source": [
    "df_read"
   ]
  },
  {
   "cell_type": "code",
   "execution_count": null,
   "id": "40c556f5-66f0-4436-8425-e3e024294b3e",
   "metadata": {},
   "outputs": [],
   "source": [
    "new_read  = pd.read_csv(filepath_or_buffer = 'anish.csv',index_col ='name' )"
   ]
  },
  {
   "cell_type": "code",
   "execution_count": null,
   "id": "7a940282-238d-4af5-b0c8-4266906c4d8c",
   "metadata": {},
   "outputs": [],
   "source": [
    "new_read"
   ]
  },
  {
   "cell_type": "code",
   "execution_count": 53,
   "id": "8112da87-6bd2-4af2-9426-986deb723a25",
   "metadata": {},
   "outputs": [],
   "source": [
    "read_carprice = pd.read_csv('carprices.csv')"
   ]
  },
  {
   "cell_type": "code",
   "execution_count": 57,
   "id": "9da30071-acf6-45bf-8f55-7798efd118fd",
   "metadata": {},
   "outputs": [
    {
     "data": {
      "text/html": [
       "<div>\n",
       "<style scoped>\n",
       "    .dataframe tbody tr th:only-of-type {\n",
       "        vertical-align: middle;\n",
       "    }\n",
       "\n",
       "    .dataframe tbody tr th {\n",
       "        vertical-align: top;\n",
       "    }\n",
       "\n",
       "    .dataframe thead th {\n",
       "        text-align: right;\n",
       "    }\n",
       "</style>\n",
       "<table border=\"1\" class=\"dataframe\">\n",
       "  <thead>\n",
       "    <tr style=\"text-align: right;\">\n",
       "      <th></th>\n",
       "      <th>car_ID</th>\n",
       "      <th>symboling</th>\n",
       "      <th>carname</th>\n",
       "      <th>doornumber</th>\n",
       "      <th>carbody</th>\n",
       "      <th>enginelocation</th>\n",
       "      <th>wheelbase</th>\n",
       "      <th>carlength</th>\n",
       "      <th>carwidth</th>\n",
       "      <th>carheight</th>\n",
       "      <th>...</th>\n",
       "      <th>cylindernumber</th>\n",
       "      <th>enginesize</th>\n",
       "      <th>boreratio</th>\n",
       "      <th>stroke</th>\n",
       "      <th>compressionratio</th>\n",
       "      <th>horsepower</th>\n",
       "      <th>peakrpm</th>\n",
       "      <th>citympg</th>\n",
       "      <th>highwaympg</th>\n",
       "      <th>price</th>\n",
       "    </tr>\n",
       "  </thead>\n",
       "  <tbody>\n",
       "    <tr>\n",
       "      <th>0</th>\n",
       "      <td>1</td>\n",
       "      <td>3</td>\n",
       "      <td>alfa-romero giulia</td>\n",
       "      <td>two</td>\n",
       "      <td>convertible</td>\n",
       "      <td>front</td>\n",
       "      <td>88.6</td>\n",
       "      <td>168.8</td>\n",
       "      <td>64.1</td>\n",
       "      <td>48.8</td>\n",
       "      <td>...</td>\n",
       "      <td>four</td>\n",
       "      <td>130</td>\n",
       "      <td>3.47</td>\n",
       "      <td>2.68</td>\n",
       "      <td>9.0</td>\n",
       "      <td>111</td>\n",
       "      <td>5000</td>\n",
       "      <td>21</td>\n",
       "      <td>27</td>\n",
       "      <td>13495.0</td>\n",
       "    </tr>\n",
       "    <tr>\n",
       "      <th>1</th>\n",
       "      <td>2</td>\n",
       "      <td>3</td>\n",
       "      <td>alfa-romero stelvio</td>\n",
       "      <td>two</td>\n",
       "      <td>convertible</td>\n",
       "      <td>front</td>\n",
       "      <td>88.6</td>\n",
       "      <td>168.8</td>\n",
       "      <td>64.1</td>\n",
       "      <td>48.8</td>\n",
       "      <td>...</td>\n",
       "      <td>four</td>\n",
       "      <td>130</td>\n",
       "      <td>3.47</td>\n",
       "      <td>2.68</td>\n",
       "      <td>9.0</td>\n",
       "      <td>111</td>\n",
       "      <td>5000</td>\n",
       "      <td>21</td>\n",
       "      <td>27</td>\n",
       "      <td>16500.0</td>\n",
       "    </tr>\n",
       "    <tr>\n",
       "      <th>2</th>\n",
       "      <td>3</td>\n",
       "      <td>1</td>\n",
       "      <td>alfa-romero Quadrifoglio</td>\n",
       "      <td>two</td>\n",
       "      <td>hatchback</td>\n",
       "      <td>front</td>\n",
       "      <td>94.5</td>\n",
       "      <td>171.2</td>\n",
       "      <td>65.5</td>\n",
       "      <td>52.4</td>\n",
       "      <td>...</td>\n",
       "      <td>six</td>\n",
       "      <td>152</td>\n",
       "      <td>2.68</td>\n",
       "      <td>3.47</td>\n",
       "      <td>9.0</td>\n",
       "      <td>154</td>\n",
       "      <td>5000</td>\n",
       "      <td>19</td>\n",
       "      <td>26</td>\n",
       "      <td>16500.0</td>\n",
       "    </tr>\n",
       "    <tr>\n",
       "      <th>3</th>\n",
       "      <td>4</td>\n",
       "      <td>2</td>\n",
       "      <td>audi 100 ls</td>\n",
       "      <td>four</td>\n",
       "      <td>sedan</td>\n",
       "      <td>front</td>\n",
       "      <td>99.8</td>\n",
       "      <td>176.6</td>\n",
       "      <td>66.2</td>\n",
       "      <td>54.3</td>\n",
       "      <td>...</td>\n",
       "      <td>four</td>\n",
       "      <td>109</td>\n",
       "      <td>3.19</td>\n",
       "      <td>3.40</td>\n",
       "      <td>10.0</td>\n",
       "      <td>102</td>\n",
       "      <td>5500</td>\n",
       "      <td>24</td>\n",
       "      <td>30</td>\n",
       "      <td>13950.0</td>\n",
       "    </tr>\n",
       "    <tr>\n",
       "      <th>4</th>\n",
       "      <td>5</td>\n",
       "      <td>2</td>\n",
       "      <td>audi 100ls</td>\n",
       "      <td>four</td>\n",
       "      <td>sedan</td>\n",
       "      <td>front</td>\n",
       "      <td>99.4</td>\n",
       "      <td>176.6</td>\n",
       "      <td>66.4</td>\n",
       "      <td>54.3</td>\n",
       "      <td>...</td>\n",
       "      <td>five</td>\n",
       "      <td>136</td>\n",
       "      <td>3.19</td>\n",
       "      <td>3.40</td>\n",
       "      <td>8.0</td>\n",
       "      <td>115</td>\n",
       "      <td>5500</td>\n",
       "      <td>18</td>\n",
       "      <td>22</td>\n",
       "      <td>17450.0</td>\n",
       "    </tr>\n",
       "    <tr>\n",
       "      <th>...</th>\n",
       "      <td>...</td>\n",
       "      <td>...</td>\n",
       "      <td>...</td>\n",
       "      <td>...</td>\n",
       "      <td>...</td>\n",
       "      <td>...</td>\n",
       "      <td>...</td>\n",
       "      <td>...</td>\n",
       "      <td>...</td>\n",
       "      <td>...</td>\n",
       "      <td>...</td>\n",
       "      <td>...</td>\n",
       "      <td>...</td>\n",
       "      <td>...</td>\n",
       "      <td>...</td>\n",
       "      <td>...</td>\n",
       "      <td>...</td>\n",
       "      <td>...</td>\n",
       "      <td>...</td>\n",
       "      <td>...</td>\n",
       "      <td>...</td>\n",
       "    </tr>\n",
       "    <tr>\n",
       "      <th>200</th>\n",
       "      <td>201</td>\n",
       "      <td>-1</td>\n",
       "      <td>volvo 145e (sw)</td>\n",
       "      <td>four</td>\n",
       "      <td>sedan</td>\n",
       "      <td>front</td>\n",
       "      <td>109.1</td>\n",
       "      <td>188.8</td>\n",
       "      <td>68.9</td>\n",
       "      <td>55.5</td>\n",
       "      <td>...</td>\n",
       "      <td>four</td>\n",
       "      <td>141</td>\n",
       "      <td>3.78</td>\n",
       "      <td>3.15</td>\n",
       "      <td>9.5</td>\n",
       "      <td>114</td>\n",
       "      <td>5400</td>\n",
       "      <td>23</td>\n",
       "      <td>28</td>\n",
       "      <td>16845.0</td>\n",
       "    </tr>\n",
       "    <tr>\n",
       "      <th>201</th>\n",
       "      <td>202</td>\n",
       "      <td>-1</td>\n",
       "      <td>volvo 144ea</td>\n",
       "      <td>four</td>\n",
       "      <td>sedan</td>\n",
       "      <td>front</td>\n",
       "      <td>109.1</td>\n",
       "      <td>188.8</td>\n",
       "      <td>68.8</td>\n",
       "      <td>55.5</td>\n",
       "      <td>...</td>\n",
       "      <td>four</td>\n",
       "      <td>141</td>\n",
       "      <td>3.78</td>\n",
       "      <td>3.15</td>\n",
       "      <td>8.7</td>\n",
       "      <td>160</td>\n",
       "      <td>5300</td>\n",
       "      <td>19</td>\n",
       "      <td>25</td>\n",
       "      <td>19045.0</td>\n",
       "    </tr>\n",
       "    <tr>\n",
       "      <th>202</th>\n",
       "      <td>203</td>\n",
       "      <td>-1</td>\n",
       "      <td>volvo 244dl</td>\n",
       "      <td>four</td>\n",
       "      <td>sedan</td>\n",
       "      <td>front</td>\n",
       "      <td>109.1</td>\n",
       "      <td>188.8</td>\n",
       "      <td>68.9</td>\n",
       "      <td>55.5</td>\n",
       "      <td>...</td>\n",
       "      <td>six</td>\n",
       "      <td>173</td>\n",
       "      <td>3.58</td>\n",
       "      <td>2.87</td>\n",
       "      <td>8.8</td>\n",
       "      <td>134</td>\n",
       "      <td>5500</td>\n",
       "      <td>18</td>\n",
       "      <td>23</td>\n",
       "      <td>21485.0</td>\n",
       "    </tr>\n",
       "    <tr>\n",
       "      <th>203</th>\n",
       "      <td>204</td>\n",
       "      <td>-1</td>\n",
       "      <td>volvo 246</td>\n",
       "      <td>four</td>\n",
       "      <td>sedan</td>\n",
       "      <td>front</td>\n",
       "      <td>109.1</td>\n",
       "      <td>188.8</td>\n",
       "      <td>68.9</td>\n",
       "      <td>55.5</td>\n",
       "      <td>...</td>\n",
       "      <td>six</td>\n",
       "      <td>145</td>\n",
       "      <td>3.01</td>\n",
       "      <td>3.40</td>\n",
       "      <td>23.0</td>\n",
       "      <td>106</td>\n",
       "      <td>4800</td>\n",
       "      <td>26</td>\n",
       "      <td>27</td>\n",
       "      <td>22470.0</td>\n",
       "    </tr>\n",
       "    <tr>\n",
       "      <th>204</th>\n",
       "      <td>205</td>\n",
       "      <td>-1</td>\n",
       "      <td>volvo 264gl</td>\n",
       "      <td>four</td>\n",
       "      <td>sedan</td>\n",
       "      <td>front</td>\n",
       "      <td>109.1</td>\n",
       "      <td>188.8</td>\n",
       "      <td>68.9</td>\n",
       "      <td>55.5</td>\n",
       "      <td>...</td>\n",
       "      <td>four</td>\n",
       "      <td>141</td>\n",
       "      <td>3.78</td>\n",
       "      <td>3.15</td>\n",
       "      <td>9.5</td>\n",
       "      <td>114</td>\n",
       "      <td>5400</td>\n",
       "      <td>19</td>\n",
       "      <td>25</td>\n",
       "      <td>22625.0</td>\n",
       "    </tr>\n",
       "  </tbody>\n",
       "</table>\n",
       "<p>205 rows × 21 columns</p>\n",
       "</div>"
      ],
      "text/plain": [
       "     car_ID  symboling                   carname doornumber      carbody  \\\n",
       "0         1          3        alfa-romero giulia        two  convertible   \n",
       "1         2          3       alfa-romero stelvio        two  convertible   \n",
       "2         3          1  alfa-romero Quadrifoglio        two    hatchback   \n",
       "3         4          2               audi 100 ls       four        sedan   \n",
       "4         5          2                audi 100ls       four        sedan   \n",
       "..      ...        ...                       ...        ...          ...   \n",
       "200     201         -1           volvo 145e (sw)       four        sedan   \n",
       "201     202         -1               volvo 144ea       four        sedan   \n",
       "202     203         -1               volvo 244dl       four        sedan   \n",
       "203     204         -1                 volvo 246       four        sedan   \n",
       "204     205         -1               volvo 264gl       four        sedan   \n",
       "\n",
       "    enginelocation  wheelbase  carlength  carwidth  carheight  ...  \\\n",
       "0            front       88.6      168.8      64.1       48.8  ...   \n",
       "1            front       88.6      168.8      64.1       48.8  ...   \n",
       "2            front       94.5      171.2      65.5       52.4  ...   \n",
       "3            front       99.8      176.6      66.2       54.3  ...   \n",
       "4            front       99.4      176.6      66.4       54.3  ...   \n",
       "..             ...        ...        ...       ...        ...  ...   \n",
       "200          front      109.1      188.8      68.9       55.5  ...   \n",
       "201          front      109.1      188.8      68.8       55.5  ...   \n",
       "202          front      109.1      188.8      68.9       55.5  ...   \n",
       "203          front      109.1      188.8      68.9       55.5  ...   \n",
       "204          front      109.1      188.8      68.9       55.5  ...   \n",
       "\n",
       "     cylindernumber enginesize  boreratio  stroke  compressionratio  \\\n",
       "0              four        130       3.47    2.68               9.0   \n",
       "1              four        130       3.47    2.68               9.0   \n",
       "2               six        152       2.68    3.47               9.0   \n",
       "3              four        109       3.19    3.40              10.0   \n",
       "4              five        136       3.19    3.40               8.0   \n",
       "..              ...        ...        ...     ...               ...   \n",
       "200            four        141       3.78    3.15               9.5   \n",
       "201            four        141       3.78    3.15               8.7   \n",
       "202             six        173       3.58    2.87               8.8   \n",
       "203             six        145       3.01    3.40              23.0   \n",
       "204            four        141       3.78    3.15               9.5   \n",
       "\n",
       "     horsepower  peakrpm  citympg  highwaympg    price  \n",
       "0           111     5000       21          27  13495.0  \n",
       "1           111     5000       21          27  16500.0  \n",
       "2           154     5000       19          26  16500.0  \n",
       "3           102     5500       24          30  13950.0  \n",
       "4           115     5500       18          22  17450.0  \n",
       "..          ...      ...      ...         ...      ...  \n",
       "200         114     5400       23          28  16845.0  \n",
       "201         160     5300       19          25  19045.0  \n",
       "202         134     5500       18          23  21485.0  \n",
       "203         106     4800       26          27  22470.0  \n",
       "204         114     5400       19          25  22625.0  \n",
       "\n",
       "[205 rows x 21 columns]"
      ]
     },
     "execution_count": 57,
     "metadata": {},
     "output_type": "execute_result"
    }
   ],
   "source": [
    "read_carprice"
   ]
  },
  {
   "cell_type": "code",
   "execution_count": 49,
   "id": "91da61b7-5348-41b0-b677-b46845eb90d5",
   "metadata": {},
   "outputs": [],
   "source": [
    "read_movierating = pd.read_csv('User_Movie_Ratings.csv',index_col = None) # index_col/set_index both are same "
   ]
  },
  {
   "cell_type": "code",
   "execution_count": 51,
   "id": "914d17dc-4976-4051-a843-639630edf022",
   "metadata": {},
   "outputs": [
    {
     "data": {
      "text/html": [
       "<div>\n",
       "<style scoped>\n",
       "    .dataframe tbody tr th:only-of-type {\n",
       "        vertical-align: middle;\n",
       "    }\n",
       "\n",
       "    .dataframe tbody tr th {\n",
       "        vertical-align: top;\n",
       "    }\n",
       "\n",
       "    .dataframe thead th {\n",
       "        text-align: right;\n",
       "    }\n",
       "</style>\n",
       "<table border=\"1\" class=\"dataframe\">\n",
       "  <thead>\n",
       "    <tr style=\"text-align: right;\">\n",
       "      <th></th>\n",
       "      <th>User</th>\n",
       "      <th>Thor</th>\n",
       "      <th>Justice League</th>\n",
       "      <th>Spiderman</th>\n",
       "      <th>The Notebook</th>\n",
       "      <th>Casablanca</th>\n",
       "      <th>Beauty and the Beast</th>\n",
       "      <th>Dolittle</th>\n",
       "      <th>The Kissing Booth</th>\n",
       "      <th>Annabelle</th>\n",
       "      <th>Insidious</th>\n",
       "    </tr>\n",
       "  </thead>\n",
       "  <tbody>\n",
       "    <tr>\n",
       "      <th>0</th>\n",
       "      <td>Arnold</td>\n",
       "      <td>6</td>\n",
       "      <td>5</td>\n",
       "      <td>6</td>\n",
       "      <td>4</td>\n",
       "      <td>5</td>\n",
       "      <td>4</td>\n",
       "      <td>9</td>\n",
       "      <td>8</td>\n",
       "      <td>2</td>\n",
       "      <td>1</td>\n",
       "    </tr>\n",
       "    <tr>\n",
       "      <th>1</th>\n",
       "      <td>Ben</td>\n",
       "      <td>9</td>\n",
       "      <td>10</td>\n",
       "      <td>8</td>\n",
       "      <td>3</td>\n",
       "      <td>1</td>\n",
       "      <td>1</td>\n",
       "      <td>2</td>\n",
       "      <td>5</td>\n",
       "      <td>7</td>\n",
       "      <td>8</td>\n",
       "    </tr>\n",
       "    <tr>\n",
       "      <th>2</th>\n",
       "      <td>Catherine</td>\n",
       "      <td>10</td>\n",
       "      <td>8</td>\n",
       "      <td>9</td>\n",
       "      <td>5</td>\n",
       "      <td>6</td>\n",
       "      <td>7</td>\n",
       "      <td>8</td>\n",
       "      <td>5</td>\n",
       "      <td>9</td>\n",
       "      <td>9</td>\n",
       "    </tr>\n",
       "    <tr>\n",
       "      <th>3</th>\n",
       "      <td>Disha</td>\n",
       "      <td>6</td>\n",
       "      <td>7</td>\n",
       "      <td>7</td>\n",
       "      <td>10</td>\n",
       "      <td>9</td>\n",
       "      <td>10</td>\n",
       "      <td>7</td>\n",
       "      <td>6</td>\n",
       "      <td>5</td>\n",
       "      <td>6</td>\n",
       "    </tr>\n",
       "    <tr>\n",
       "      <th>4</th>\n",
       "      <td>Euclid</td>\n",
       "      <td>7</td>\n",
       "      <td>4</td>\n",
       "      <td>3</td>\n",
       "      <td>5</td>\n",
       "      <td>8</td>\n",
       "      <td>5</td>\n",
       "      <td>9</td>\n",
       "      <td>10</td>\n",
       "      <td>8</td>\n",
       "      <td>7</td>\n",
       "    </tr>\n",
       "    <tr>\n",
       "      <th>5</th>\n",
       "      <td>Farhaan</td>\n",
       "      <td>6</td>\n",
       "      <td>5</td>\n",
       "      <td>9</td>\n",
       "      <td>4</td>\n",
       "      <td>4</td>\n",
       "      <td>7</td>\n",
       "      <td>9</td>\n",
       "      <td>9</td>\n",
       "      <td>5</td>\n",
       "      <td>4</td>\n",
       "    </tr>\n",
       "    <tr>\n",
       "      <th>6</th>\n",
       "      <td>Gaurav</td>\n",
       "      <td>8</td>\n",
       "      <td>8</td>\n",
       "      <td>9</td>\n",
       "      <td>3</td>\n",
       "      <td>1</td>\n",
       "      <td>1</td>\n",
       "      <td>7</td>\n",
       "      <td>5</td>\n",
       "      <td>7</td>\n",
       "      <td>7</td>\n",
       "    </tr>\n",
       "    <tr>\n",
       "      <th>7</th>\n",
       "      <td>Hilbert</td>\n",
       "      <td>6</td>\n",
       "      <td>5</td>\n",
       "      <td>8</td>\n",
       "      <td>6</td>\n",
       "      <td>5</td>\n",
       "      <td>8</td>\n",
       "      <td>10</td>\n",
       "      <td>9</td>\n",
       "      <td>2</td>\n",
       "      <td>1</td>\n",
       "    </tr>\n",
       "    <tr>\n",
       "      <th>8</th>\n",
       "      <td>Indira</td>\n",
       "      <td>10</td>\n",
       "      <td>7</td>\n",
       "      <td>9</td>\n",
       "      <td>5</td>\n",
       "      <td>6</td>\n",
       "      <td>4</td>\n",
       "      <td>2</td>\n",
       "      <td>1</td>\n",
       "      <td>6</td>\n",
       "      <td>8</td>\n",
       "    </tr>\n",
       "    <tr>\n",
       "      <th>9</th>\n",
       "      <td>Jason</td>\n",
       "      <td>10</td>\n",
       "      <td>9</td>\n",
       "      <td>9</td>\n",
       "      <td>7</td>\n",
       "      <td>4</td>\n",
       "      <td>6</td>\n",
       "      <td>1</td>\n",
       "      <td>1</td>\n",
       "      <td>5</td>\n",
       "      <td>4</td>\n",
       "    </tr>\n",
       "    <tr>\n",
       "      <th>10</th>\n",
       "      <td>Kenny</td>\n",
       "      <td>3</td>\n",
       "      <td>2</td>\n",
       "      <td>5</td>\n",
       "      <td>9</td>\n",
       "      <td>8</td>\n",
       "      <td>8</td>\n",
       "      <td>4</td>\n",
       "      <td>1</td>\n",
       "      <td>1</td>\n",
       "      <td>3</td>\n",
       "    </tr>\n",
       "    <tr>\n",
       "      <th>11</th>\n",
       "      <td>Lambert</td>\n",
       "      <td>5</td>\n",
       "      <td>6</td>\n",
       "      <td>4</td>\n",
       "      <td>10</td>\n",
       "      <td>9</td>\n",
       "      <td>8</td>\n",
       "      <td>1</td>\n",
       "      <td>2</td>\n",
       "      <td>10</td>\n",
       "      <td>9</td>\n",
       "    </tr>\n",
       "    <tr>\n",
       "      <th>12</th>\n",
       "      <td>Manish</td>\n",
       "      <td>7</td>\n",
       "      <td>6</td>\n",
       "      <td>6</td>\n",
       "      <td>5</td>\n",
       "      <td>6</td>\n",
       "      <td>8</td>\n",
       "      <td>7</td>\n",
       "      <td>6</td>\n",
       "      <td>6</td>\n",
       "      <td>5</td>\n",
       "    </tr>\n",
       "    <tr>\n",
       "      <th>13</th>\n",
       "      <td>Niti</td>\n",
       "      <td>3</td>\n",
       "      <td>3</td>\n",
       "      <td>2</td>\n",
       "      <td>7</td>\n",
       "      <td>8</td>\n",
       "      <td>7</td>\n",
       "      <td>10</td>\n",
       "      <td>9</td>\n",
       "      <td>4</td>\n",
       "      <td>5</td>\n",
       "    </tr>\n",
       "    <tr>\n",
       "      <th>14</th>\n",
       "      <td>Oliver</td>\n",
       "      <td>4</td>\n",
       "      <td>5</td>\n",
       "      <td>4</td>\n",
       "      <td>2</td>\n",
       "      <td>2</td>\n",
       "      <td>1</td>\n",
       "      <td>7</td>\n",
       "      <td>6</td>\n",
       "      <td>1</td>\n",
       "      <td>2</td>\n",
       "    </tr>\n",
       "    <tr>\n",
       "      <th>15</th>\n",
       "      <td>Pranav</td>\n",
       "      <td>8</td>\n",
       "      <td>9</td>\n",
       "      <td>8</td>\n",
       "      <td>4</td>\n",
       "      <td>1</td>\n",
       "      <td>2</td>\n",
       "      <td>3</td>\n",
       "      <td>1</td>\n",
       "      <td>8</td>\n",
       "      <td>7</td>\n",
       "    </tr>\n",
       "    <tr>\n",
       "      <th>16</th>\n",
       "      <td>Qader</td>\n",
       "      <td>8</td>\n",
       "      <td>7</td>\n",
       "      <td>8</td>\n",
       "      <td>5</td>\n",
       "      <td>4</td>\n",
       "      <td>6</td>\n",
       "      <td>3</td>\n",
       "      <td>4</td>\n",
       "      <td>6</td>\n",
       "      <td>5</td>\n",
       "    </tr>\n",
       "    <tr>\n",
       "      <th>17</th>\n",
       "      <td>Ravi</td>\n",
       "      <td>8</td>\n",
       "      <td>7</td>\n",
       "      <td>9</td>\n",
       "      <td>10</td>\n",
       "      <td>9</td>\n",
       "      <td>8</td>\n",
       "      <td>8</td>\n",
       "      <td>8</td>\n",
       "      <td>9</td>\n",
       "      <td>10</td>\n",
       "    </tr>\n",
       "    <tr>\n",
       "      <th>18</th>\n",
       "      <td>Sushant</td>\n",
       "      <td>5</td>\n",
       "      <td>8</td>\n",
       "      <td>6</td>\n",
       "      <td>1</td>\n",
       "      <td>1</td>\n",
       "      <td>2</td>\n",
       "      <td>7</td>\n",
       "      <td>8</td>\n",
       "      <td>6</td>\n",
       "      <td>5</td>\n",
       "    </tr>\n",
       "    <tr>\n",
       "      <th>19</th>\n",
       "      <td>Tavneet</td>\n",
       "      <td>1</td>\n",
       "      <td>1</td>\n",
       "      <td>4</td>\n",
       "      <td>7</td>\n",
       "      <td>6</td>\n",
       "      <td>8</td>\n",
       "      <td>9</td>\n",
       "      <td>10</td>\n",
       "      <td>1</td>\n",
       "      <td>5</td>\n",
       "    </tr>\n",
       "  </tbody>\n",
       "</table>\n",
       "</div>"
      ],
      "text/plain": [
       "         User  Thor  Justice League  Spiderman  The Notebook  Casablanca  \\\n",
       "0      Arnold     6               5          6             4           5   \n",
       "1         Ben     9              10          8             3           1   \n",
       "2   Catherine    10               8          9             5           6   \n",
       "3       Disha     6               7          7            10           9   \n",
       "4      Euclid     7               4          3             5           8   \n",
       "5     Farhaan     6               5          9             4           4   \n",
       "6      Gaurav     8               8          9             3           1   \n",
       "7     Hilbert     6               5          8             6           5   \n",
       "8      Indira    10               7          9             5           6   \n",
       "9       Jason    10               9          9             7           4   \n",
       "10      Kenny     3               2          5             9           8   \n",
       "11    Lambert     5               6          4            10           9   \n",
       "12     Manish     7               6          6             5           6   \n",
       "13       Niti     3               3          2             7           8   \n",
       "14     Oliver     4               5          4             2           2   \n",
       "15     Pranav     8               9          8             4           1   \n",
       "16      Qader     8               7          8             5           4   \n",
       "17       Ravi     8               7          9            10           9   \n",
       "18    Sushant     5               8          6             1           1   \n",
       "19    Tavneet     1               1          4             7           6   \n",
       "\n",
       "    Beauty and the Beast  Dolittle  The Kissing Booth  Annabelle  Insidious  \n",
       "0                      4         9                  8          2          1  \n",
       "1                      1         2                  5          7          8  \n",
       "2                      7         8                  5          9          9  \n",
       "3                     10         7                  6          5          6  \n",
       "4                      5         9                 10          8          7  \n",
       "5                      7         9                  9          5          4  \n",
       "6                      1         7                  5          7          7  \n",
       "7                      8        10                  9          2          1  \n",
       "8                      4         2                  1          6          8  \n",
       "9                      6         1                  1          5          4  \n",
       "10                     8         4                  1          1          3  \n",
       "11                     8         1                  2         10          9  \n",
       "12                     8         7                  6          6          5  \n",
       "13                     7        10                  9          4          5  \n",
       "14                     1         7                  6          1          2  \n",
       "15                     2         3                  1          8          7  \n",
       "16                     6         3                  4          6          5  \n",
       "17                     8         8                  8          9         10  \n",
       "18                     2         7                  8          6          5  \n",
       "19                     8         9                 10          1          5  "
      ]
     },
     "execution_count": 51,
     "metadata": {},
     "output_type": "execute_result"
    }
   ],
   "source": [
    "read_movierating"
   ]
  },
  {
   "cell_type": "code",
   "execution_count": null,
   "id": "b1af1b66-bb16-4c67-806b-a9d753fd434b",
   "metadata": {},
   "outputs": [],
   "source": []
  },
  {
   "cell_type": "code",
   "execution_count": null,
   "id": "9e98e138-72fb-4e22-baab-4908a8b7508b",
   "metadata": {},
   "outputs": [],
   "source": [
    "dfr = pd.read_clipboard()"
   ]
  },
  {
   "cell_type": "code",
   "execution_count": null,
   "id": "1cd3f892-3a98-41b6-aa12-79a1918bc041",
   "metadata": {},
   "outputs": [],
   "source": [
    "dfr.set_index('User')"
   ]
  },
  {
   "cell_type": "markdown",
   "id": "2887de7b-8f0d-41fb-9d86-606df3848bdc",
   "metadata": {},
   "source": [
    "#### head and tail"
   ]
  },
  {
   "cell_type": "code",
   "execution_count": null,
   "id": "9e835e04-e5d8-46cf-95a1-7463ef063319",
   "metadata": {},
   "outputs": [],
   "source": [
    "read_movierating.head()"
   ]
  },
  {
   "cell_type": "code",
   "execution_count": null,
   "id": "de10d6c1-0af0-4125-94c9-8e3e377104f9",
   "metadata": {},
   "outputs": [],
   "source": [
    "read_movierating.head(3)"
   ]
  },
  {
   "cell_type": "code",
   "execution_count": null,
   "id": "b9cd691a-129c-4bf9-981b-d03372c660ee",
   "metadata": {},
   "outputs": [],
   "source": [
    "# head show default the first 5 entry and element "
   ]
  },
  {
   "cell_type": "code",
   "execution_count": null,
   "id": "56b69b5c-2545-469c-8ca1-df389d2ca6c7",
   "metadata": {},
   "outputs": [],
   "source": [
    "read_movierating.tail()"
   ]
  },
  {
   "cell_type": "code",
   "execution_count": null,
   "id": "47622eab-eddb-4870-9af8-81b361f2c9ec",
   "metadata": {},
   "outputs": [],
   "source": [
    "read_movierating.tail(2)"
   ]
  },
  {
   "cell_type": "code",
   "execution_count": null,
   "id": "cd358829-ddc7-4215-985f-8d553027fefc",
   "metadata": {},
   "outputs": [],
   "source": [
    "# tail show default last 5 entry "
   ]
  },
  {
   "cell_type": "code",
   "execution_count": null,
   "id": "6eaee244-c6dd-46bb-b986-009fd9f66d1f",
   "metadata": {},
   "outputs": [],
   "source": [
    "read_carprice.axes"
   ]
  },
  {
   "cell_type": "code",
   "execution_count": null,
   "id": "15833d3a-adfb-4667-9f67-373cb3ec9315",
   "metadata": {},
   "outputs": [],
   "source": [
    "read_carprice.index"
   ]
  },
  {
   "cell_type": "code",
   "execution_count": null,
   "id": "8d0a6d3e-d9c4-4b35-9faf-bbc371bfebf7",
   "metadata": {},
   "outputs": [],
   "source": [
    "read_carprice.columns"
   ]
  },
  {
   "cell_type": "code",
   "execution_count": null,
   "id": "6ee6741c-394d-4599-a916-e583b7d363e4",
   "metadata": {},
   "outputs": [],
   "source": [
    "len(read_carprice)"
   ]
  },
  {
   "cell_type": "code",
   "execution_count": null,
   "id": "f732401e-97eb-48d5-8374-6064a8b2afc1",
   "metadata": {},
   "outputs": [],
   "source": [
    "read_carprice.shape"
   ]
  },
  {
   "cell_type": "code",
   "execution_count": null,
   "id": "e7909f9b-faef-4d79-9460-bb2a677a719d",
   "metadata": {},
   "outputs": [],
   "source": [
    "read_carprice.size"
   ]
  },
  {
   "cell_type": "code",
   "execution_count": null,
   "id": "9687d37a-8a34-4e59-8ffa-16f1314dc50f",
   "metadata": {},
   "outputs": [],
   "source": [
    "read_carprice.dtypes"
   ]
  },
  {
   "cell_type": "code",
   "execution_count": null,
   "id": "8be10189-ea41-40e3-b389-59d3718538d8",
   "metadata": {},
   "outputs": [],
   "source": [
    "read_carprice.info()"
   ]
  },
  {
   "cell_type": "code",
   "execution_count": null,
   "id": "bc5508a4-7c61-4939-9328-fd7977527eca",
   "metadata": {},
   "outputs": [],
   "source": [
    "read_carprice.keys()"
   ]
  },
  {
   "cell_type": "code",
   "execution_count": null,
   "id": "516d72c9-8d7a-4d86-9da1-6081fd63ad3a",
   "metadata": {},
   "outputs": [],
   "source": [
    "read_carprice.values"
   ]
  },
  {
   "cell_type": "code",
   "execution_count": null,
   "id": "79064fc6-0e8d-4df9-9792-a708c6bdd748",
   "metadata": {},
   "outputs": [],
   "source": [
    "read_movierating.transpose() # simple meaning is that it change the angle"
   ]
  },
  {
   "cell_type": "markdown",
   "id": "ab5a650b-581f-4918-a899-814475beb089",
   "metadata": {},
   "source": [
    "## Accessing Data From DataFrames"
   ]
  },
  {
   "cell_type": "markdown",
   "id": "91a40a72-952d-4266-b8b0-9dfb92c0be74",
   "metadata": {},
   "source": [
    "### Direct Access"
   ]
  },
  {
   "cell_type": "code",
   "execution_count": null,
   "id": "4e4a8a81-3c9a-4535-bc53-145c9db14c2f",
   "metadata": {},
   "outputs": [],
   "source": [
    "read_carprice.carname # variable.columns"
   ]
  },
  {
   "cell_type": "code",
   "execution_count": null,
   "id": "eb9c116a-7cd6-437a-8a20-c6acefb90f25",
   "metadata": {},
   "outputs": [],
   "source": [
    "read_movierating['Spiderman']"
   ]
  },
  {
   "cell_type": "code",
   "execution_count": null,
   "id": "1067b7b4-2d5c-489d-9422-eddc6ae45825",
   "metadata": {},
   "outputs": [],
   "source": [
    "read_movierating[['Annabelle','Thor']] # use double bracket"
   ]
  },
  {
   "cell_type": "code",
   "execution_count": null,
   "id": "07718516-0809-40c8-9963-9248e16db9f9",
   "metadata": {},
   "outputs": [],
   "source": [
    "read_movierating['Thor'][2] # read_movierating['column name'][index number it can be string or int]"
   ]
  },
  {
   "cell_type": "code",
   "execution_count": null,
   "id": "84c63100-6b77-4fc4-9381-15359ae4f32f",
   "metadata": {},
   "outputs": [],
   "source": [
    "excel = pd.read_excel('room_expenditure.xlsx',index_col = 'Room')"
   ]
  },
  {
   "cell_type": "code",
   "execution_count": null,
   "id": "c6a5ce60-39fe-4866-88ad-38df369b3b6a",
   "metadata": {},
   "outputs": [],
   "source": [
    "excel"
   ]
  },
  {
   "cell_type": "code",
   "execution_count": null,
   "id": "26757d47-53fb-42ff-8ebc-324840be66b9",
   "metadata": {},
   "outputs": [],
   "source": [
    "excel['Expenditure'][0:5]"
   ]
  },
  {
   "cell_type": "code",
   "execution_count": null,
   "id": "53015777-d246-43ca-8b5d-1f4ad62dcb5c",
   "metadata": {},
   "outputs": [],
   "source": [
    "excel['Expenditure']['A5']"
   ]
  },
  {
   "cell_type": "code",
   "execution_count": null,
   "id": "0367b149-a881-4dbc-a911-607fbc49e886",
   "metadata": {},
   "outputs": [],
   "source": [
    "excel[A1]"
   ]
  },
  {
   "cell_type": "code",
   "execution_count": null,
   "id": "6bba3e20-6840-4c3f-a5a1-ff12df61c3e9",
   "metadata": {},
   "outputs": [],
   "source": [
    "excel = excel.transpose()"
   ]
  },
  {
   "cell_type": "code",
   "execution_count": null,
   "id": "8b62676e-ef3e-47cd-80dc-cbbe84447f9a",
   "metadata": {},
   "outputs": [],
   "source": [
    "excel"
   ]
  },
  {
   "cell_type": "code",
   "execution_count": null,
   "id": "a390f05d-b8cf-488f-8f40-9a3df0962346",
   "metadata": {},
   "outputs": [],
   "source": [
    "excel['A1'] #Now we can use the ‘Room’ row values as column indices. \n",
    "\n"
   ]
  },
  {
   "cell_type": "markdown",
   "id": "ee76e480-9aa6-4bcc-b461-1dae971d0c0b",
   "metadata": {},
   "source": [
    "### The loc indexer (Label-based Indexing)"
   ]
  },
  {
   "cell_type": "markdown",
   "id": "23db6410-d629-4365-b25e-941ae2a223d9",
   "metadata": {},
   "source": [
    "1. .loc[] (Label-based Indexing)\n",
    "Uses labels (index names) to select rows and columns.\n",
    "\n",
    "Includes both start and end values in slicing.\n",
    "\n",
    "Syntax: df.loc[row_label, column_label]"
   ]
  },
  {
   "cell_type": "markdown",
   "id": "9257d601-4504-409a-9f01-4b4906ac1869",
   "metadata": {},
   "source": [
    "The syntax for using loc is typically df.loc[row_label, column_label], where row_label and column_label are the labels of the row and column you want to access, respectively. Consider the following example.\n",
    "\n"
   ]
  },
  {
   "cell_type": "code",
   "execution_count": 114,
   "id": "1629fdbd-a5cb-4ac9-b86b-a581371cee59",
   "metadata": {},
   "outputs": [],
   "source": [
    "excel2 = pd.read_excel('room_expenditure.xlsx',index_col = None)"
   ]
  },
  {
   "cell_type": "code",
   "execution_count": 116,
   "id": "308379f7-8543-485d-b5c4-b35ecb89da98",
   "metadata": {},
   "outputs": [
    {
     "data": {
      "text/html": [
       "<div>\n",
       "<style scoped>\n",
       "    .dataframe tbody tr th:only-of-type {\n",
       "        vertical-align: middle;\n",
       "    }\n",
       "\n",
       "    .dataframe tbody tr th {\n",
       "        vertical-align: top;\n",
       "    }\n",
       "\n",
       "    .dataframe thead th {\n",
       "        text-align: right;\n",
       "    }\n",
       "</style>\n",
       "<table border=\"1\" class=\"dataframe\">\n",
       "  <thead>\n",
       "    <tr style=\"text-align: right;\">\n",
       "      <th></th>\n",
       "      <th>Room</th>\n",
       "      <th>Name</th>\n",
       "      <th>Age</th>\n",
       "      <th>Cuisine</th>\n",
       "      <th>Expenditure</th>\n",
       "    </tr>\n",
       "  </thead>\n",
       "  <tbody>\n",
       "    <tr>\n",
       "      <th>0</th>\n",
       "      <td>A1</td>\n",
       "      <td>Shilpa</td>\n",
       "      <td>18</td>\n",
       "      <td>Indian</td>\n",
       "      <td>24.65</td>\n",
       "    </tr>\n",
       "    <tr>\n",
       "      <th>1</th>\n",
       "      <td>A2</td>\n",
       "      <td>Jaspreet</td>\n",
       "      <td>32</td>\n",
       "      <td>American</td>\n",
       "      <td>18.54</td>\n",
       "    </tr>\n",
       "    <tr>\n",
       "      <th>2</th>\n",
       "      <td>A3</td>\n",
       "      <td>Dominic</td>\n",
       "      <td>19</td>\n",
       "      <td>Indian</td>\n",
       "      <td>27.66</td>\n",
       "    </tr>\n",
       "    <tr>\n",
       "      <th>3</th>\n",
       "      <td>A4</td>\n",
       "      <td>Ahmad</td>\n",
       "      <td>22</td>\n",
       "      <td>American</td>\n",
       "      <td>19.54</td>\n",
       "    </tr>\n",
       "    <tr>\n",
       "      <th>4</th>\n",
       "      <td>A5</td>\n",
       "      <td>Joseph</td>\n",
       "      <td>28</td>\n",
       "      <td>Indian</td>\n",
       "      <td>17.32</td>\n",
       "    </tr>\n",
       "    <tr>\n",
       "      <th>5</th>\n",
       "      <td>A6</td>\n",
       "      <td>Saju</td>\n",
       "      <td>31</td>\n",
       "      <td>Indian</td>\n",
       "      <td>12.56</td>\n",
       "    </tr>\n",
       "    <tr>\n",
       "      <th>6</th>\n",
       "      <td>A7</td>\n",
       "      <td>Monica</td>\n",
       "      <td>48</td>\n",
       "      <td>Chinese</td>\n",
       "      <td>11.09</td>\n",
       "    </tr>\n",
       "    <tr>\n",
       "      <th>7</th>\n",
       "      <td>A8</td>\n",
       "      <td>Preeti</td>\n",
       "      <td>67</td>\n",
       "      <td>American</td>\n",
       "      <td>12.23</td>\n",
       "    </tr>\n",
       "    <tr>\n",
       "      <th>8</th>\n",
       "      <td>A9</td>\n",
       "      <td>Emma</td>\n",
       "      <td>24</td>\n",
       "      <td>Indian</td>\n",
       "      <td>18.88</td>\n",
       "    </tr>\n",
       "    <tr>\n",
       "      <th>9</th>\n",
       "      <td>A10</td>\n",
       "      <td>Gaurav</td>\n",
       "      <td>29</td>\n",
       "      <td>Chinese</td>\n",
       "      <td>14.43</td>\n",
       "    </tr>\n",
       "  </tbody>\n",
       "</table>\n",
       "</div>"
      ],
      "text/plain": [
       "  Room      Name  Age   Cuisine  Expenditure\n",
       "0   A1    Shilpa   18    Indian        24.65\n",
       "1   A2  Jaspreet   32  American        18.54\n",
       "2   A3   Dominic   19    Indian        27.66\n",
       "3   A4     Ahmad   22  American        19.54\n",
       "4   A5    Joseph   28    Indian        17.32\n",
       "5   A6      Saju   31    Indian        12.56\n",
       "6   A7    Monica   48   Chinese        11.09\n",
       "7   A8    Preeti   67  American        12.23\n",
       "8   A9      Emma   24    Indian        18.88\n",
       "9  A10    Gaurav   29   Chinese        14.43"
      ]
     },
     "execution_count": 116,
     "metadata": {},
     "output_type": "execute_result"
    }
   ],
   "source": [
    "excel2"
   ]
  },
  {
   "cell_type": "code",
   "execution_count": 84,
   "id": "fe18661e-66fe-4120-9c75-9ab1e74258c4",
   "metadata": {},
   "outputs": [
    {
     "data": {
      "text/plain": [
       "Room               A1\n",
       "Name           Shilpa\n",
       "Age                18\n",
       "Cuisine        Indian\n",
       "Expenditure     24.65\n",
       "Name: 0, dtype: object"
      ]
     },
     "execution_count": 84,
     "metadata": {},
     "output_type": "execute_result"
    }
   ],
   "source": [
    "excel2.loc[0]"
   ]
  },
  {
   "cell_type": "code",
   "execution_count": 65,
   "id": "19e2ad01-8536-4877-9109-1039e3991cfc",
   "metadata": {},
   "outputs": [
    {
     "data": {
      "text/plain": [
       "np.int64(31)"
      ]
     },
     "execution_count": 65,
     "metadata": {},
     "output_type": "execute_result"
    }
   ],
   "source": [
    "excel2.loc[5,'Age']"
   ]
  },
  {
   "cell_type": "code",
   "execution_count": 67,
   "id": "fca87e90-b26c-4f83-a78c-c1e88514d799",
   "metadata": {},
   "outputs": [
    {
     "data": {
      "text/plain": [
       "0    18\n",
       "1    32\n",
       "2    19\n",
       "3    22\n",
       "4    28\n",
       "5    31\n",
       "6    48\n",
       "7    67\n",
       "8    24\n",
       "9    29\n",
       "Name: Age, dtype: int64"
      ]
     },
     "execution_count": 67,
     "metadata": {},
     "output_type": "execute_result"
    }
   ],
   "source": [
    "excel2.loc[:,'Age']"
   ]
  },
  {
   "cell_type": "code",
   "execution_count": 69,
   "id": "20401b8e-1caa-4409-90e4-bbdec9d5297b",
   "metadata": {},
   "outputs": [
    {
     "data": {
      "text/html": [
       "<div>\n",
       "<style scoped>\n",
       "    .dataframe tbody tr th:only-of-type {\n",
       "        vertical-align: middle;\n",
       "    }\n",
       "\n",
       "    .dataframe tbody tr th {\n",
       "        vertical-align: top;\n",
       "    }\n",
       "\n",
       "    .dataframe thead th {\n",
       "        text-align: right;\n",
       "    }\n",
       "</style>\n",
       "<table border=\"1\" class=\"dataframe\">\n",
       "  <thead>\n",
       "    <tr style=\"text-align: right;\">\n",
       "      <th></th>\n",
       "      <th>Age</th>\n",
       "      <th>Expenditure</th>\n",
       "    </tr>\n",
       "  </thead>\n",
       "  <tbody>\n",
       "    <tr>\n",
       "      <th>0</th>\n",
       "      <td>18</td>\n",
       "      <td>24.65</td>\n",
       "    </tr>\n",
       "    <tr>\n",
       "      <th>1</th>\n",
       "      <td>32</td>\n",
       "      <td>18.54</td>\n",
       "    </tr>\n",
       "    <tr>\n",
       "      <th>2</th>\n",
       "      <td>19</td>\n",
       "      <td>27.66</td>\n",
       "    </tr>\n",
       "    <tr>\n",
       "      <th>3</th>\n",
       "      <td>22</td>\n",
       "      <td>19.54</td>\n",
       "    </tr>\n",
       "    <tr>\n",
       "      <th>4</th>\n",
       "      <td>28</td>\n",
       "      <td>17.32</td>\n",
       "    </tr>\n",
       "    <tr>\n",
       "      <th>5</th>\n",
       "      <td>31</td>\n",
       "      <td>12.56</td>\n",
       "    </tr>\n",
       "    <tr>\n",
       "      <th>6</th>\n",
       "      <td>48</td>\n",
       "      <td>11.09</td>\n",
       "    </tr>\n",
       "    <tr>\n",
       "      <th>7</th>\n",
       "      <td>67</td>\n",
       "      <td>12.23</td>\n",
       "    </tr>\n",
       "    <tr>\n",
       "      <th>8</th>\n",
       "      <td>24</td>\n",
       "      <td>18.88</td>\n",
       "    </tr>\n",
       "    <tr>\n",
       "      <th>9</th>\n",
       "      <td>29</td>\n",
       "      <td>14.43</td>\n",
       "    </tr>\n",
       "  </tbody>\n",
       "</table>\n",
       "</div>"
      ],
      "text/plain": [
       "   Age  Expenditure\n",
       "0   18        24.65\n",
       "1   32        18.54\n",
       "2   19        27.66\n",
       "3   22        19.54\n",
       "4   28        17.32\n",
       "5   31        12.56\n",
       "6   48        11.09\n",
       "7   67        12.23\n",
       "8   24        18.88\n",
       "9   29        14.43"
      ]
     },
     "execution_count": 69,
     "metadata": {},
     "output_type": "execute_result"
    }
   ],
   "source": [
    "excel2[['Age','Expenditure']]"
   ]
  },
  {
   "cell_type": "code",
   "execution_count": 88,
   "id": "320cd09f-d1c5-4a8d-802e-ff0cbebb54a0",
   "metadata": {},
   "outputs": [
    {
     "data": {
      "text/plain": [
       "Age               18\n",
       "Expenditure    24.65\n",
       "Name: 0, dtype: object"
      ]
     },
     "execution_count": 88,
     "metadata": {},
     "output_type": "execute_result"
    }
   ],
   "source": [
    "excel2.loc[0,['Age','Expenditure']]"
   ]
  },
  {
   "cell_type": "code",
   "execution_count": 122,
   "id": "9f34cb41-c7b3-4277-bd6a-b4901e05740c",
   "metadata": {},
   "outputs": [
    {
     "data": {
      "text/html": [
       "<div>\n",
       "<style scoped>\n",
       "    .dataframe tbody tr th:only-of-type {\n",
       "        vertical-align: middle;\n",
       "    }\n",
       "\n",
       "    .dataframe tbody tr th {\n",
       "        vertical-align: top;\n",
       "    }\n",
       "\n",
       "    .dataframe thead th {\n",
       "        text-align: right;\n",
       "    }\n",
       "</style>\n",
       "<table border=\"1\" class=\"dataframe\">\n",
       "  <thead>\n",
       "    <tr style=\"text-align: right;\">\n",
       "      <th></th>\n",
       "      <th>Age</th>\n",
       "      <th>Expenditure</th>\n",
       "    </tr>\n",
       "  </thead>\n",
       "  <tbody>\n",
       "    <tr>\n",
       "      <th>1</th>\n",
       "      <td>32</td>\n",
       "      <td>18.54</td>\n",
       "    </tr>\n",
       "    <tr>\n",
       "      <th>2</th>\n",
       "      <td>19</td>\n",
       "      <td>27.66</td>\n",
       "    </tr>\n",
       "    <tr>\n",
       "      <th>3</th>\n",
       "      <td>22</td>\n",
       "      <td>19.54</td>\n",
       "    </tr>\n",
       "    <tr>\n",
       "      <th>4</th>\n",
       "      <td>28</td>\n",
       "      <td>17.32</td>\n",
       "    </tr>\n",
       "    <tr>\n",
       "      <th>5</th>\n",
       "      <td>31</td>\n",
       "      <td>12.56</td>\n",
       "    </tr>\n",
       "    <tr>\n",
       "      <th>6</th>\n",
       "      <td>48</td>\n",
       "      <td>11.09</td>\n",
       "    </tr>\n",
       "  </tbody>\n",
       "</table>\n",
       "</div>"
      ],
      "text/plain": [
       "   Age  Expenditure\n",
       "1   32        18.54\n",
       "2   19        27.66\n",
       "3   22        19.54\n",
       "4   28        17.32\n",
       "5   31        12.56\n",
       "6   48        11.09"
      ]
     },
     "execution_count": 122,
     "metadata": {},
     "output_type": "execute_result"
    }
   ],
   "source": [
    "excel2.loc[1:6,['Age','Expenditure']]"
   ]
  },
  {
   "cell_type": "code",
   "execution_count": 148,
   "id": "d3d6c640-25ce-4efb-a7bf-c8097ee9a6fc",
   "metadata": {},
   "outputs": [
    {
     "data": {
      "text/html": [
       "<div>\n",
       "<style scoped>\n",
       "    .dataframe tbody tr th:only-of-type {\n",
       "        vertical-align: middle;\n",
       "    }\n",
       "\n",
       "    .dataframe tbody tr th {\n",
       "        vertical-align: top;\n",
       "    }\n",
       "\n",
       "    .dataframe thead th {\n",
       "        text-align: right;\n",
       "    }\n",
       "</style>\n",
       "<table border=\"1\" class=\"dataframe\">\n",
       "  <thead>\n",
       "    <tr style=\"text-align: right;\">\n",
       "      <th></th>\n",
       "      <th>Age</th>\n",
       "      <th>Expenditure</th>\n",
       "    </tr>\n",
       "  </thead>\n",
       "  <tbody>\n",
       "    <tr>\n",
       "      <th>0</th>\n",
       "      <td>18</td>\n",
       "      <td>24.65</td>\n",
       "    </tr>\n",
       "    <tr>\n",
       "      <th>1</th>\n",
       "      <td>32</td>\n",
       "      <td>18.54</td>\n",
       "    </tr>\n",
       "    <tr>\n",
       "      <th>2</th>\n",
       "      <td>19</td>\n",
       "      <td>27.66</td>\n",
       "    </tr>\n",
       "    <tr>\n",
       "      <th>3</th>\n",
       "      <td>22</td>\n",
       "      <td>19.54</td>\n",
       "    </tr>\n",
       "    <tr>\n",
       "      <th>4</th>\n",
       "      <td>28</td>\n",
       "      <td>17.32</td>\n",
       "    </tr>\n",
       "    <tr>\n",
       "      <th>5</th>\n",
       "      <td>31</td>\n",
       "      <td>12.56</td>\n",
       "    </tr>\n",
       "  </tbody>\n",
       "</table>\n",
       "</div>"
      ],
      "text/plain": [
       "   Age  Expenditure\n",
       "0   18        24.65\n",
       "1   32        18.54\n",
       "2   19        27.66\n",
       "3   22        19.54\n",
       "4   28        17.32\n",
       "5   31        12.56"
      ]
     },
     "execution_count": 148,
     "metadata": {},
     "output_type": "execute_result"
    }
   ],
   "source": [
    "excel2.loc[0:5,['Age','Expenditure']]"
   ]
  },
  {
   "cell_type": "markdown",
   "id": "e62182f5-be72-4eb0-948b-da43f1e49546",
   "metadata": {},
   "source": [
    "## iloc (Integer-based Indexing)"
   ]
  },
  {
   "cell_type": "markdown",
   "id": "557ce82d-a71b-4b18-ac13-3b9d6255d2c9",
   "metadata": {},
   "source": [
    "2. .iloc[] (Integer-based Indexing)\n",
    "Uses integer positions (0-based index) to select rows and columns.\n",
    "\n",
    "Excludes the end value in slicing (like Python’s range).\n",
    "\n",
    "Syntax: df.iloc[row_index, column_index]"
   ]
  },
  {
   "cell_type": "code",
   "execution_count": 159,
   "id": "7ac7b244-af6b-4018-bf0f-3a49a3de8926",
   "metadata": {},
   "outputs": [
    {
     "data": {
      "text/plain": [
       "Room               A1\n",
       "Name           Shilpa\n",
       "Age                18\n",
       "Cuisine        Indian\n",
       "Expenditure     24.65\n",
       "Name: 0, dtype: object"
      ]
     },
     "execution_count": 159,
     "metadata": {},
     "output_type": "execute_result"
    }
   ],
   "source": [
    "excel2.iloc[0]"
   ]
  },
  {
   "cell_type": "code",
   "execution_count": 163,
   "id": "f69988ed-3293-4d6f-bdd3-2112cf92b8c9",
   "metadata": {},
   "outputs": [
    {
     "data": {
      "text/html": [
       "<div>\n",
       "<style scoped>\n",
       "    .dataframe tbody tr th:only-of-type {\n",
       "        vertical-align: middle;\n",
       "    }\n",
       "\n",
       "    .dataframe tbody tr th {\n",
       "        vertical-align: top;\n",
       "    }\n",
       "\n",
       "    .dataframe thead th {\n",
       "        text-align: right;\n",
       "    }\n",
       "</style>\n",
       "<table border=\"1\" class=\"dataframe\">\n",
       "  <thead>\n",
       "    <tr style=\"text-align: right;\">\n",
       "      <th></th>\n",
       "      <th>Room</th>\n",
       "      <th>Name</th>\n",
       "    </tr>\n",
       "  </thead>\n",
       "  <tbody>\n",
       "    <tr>\n",
       "      <th>0</th>\n",
       "      <td>A1</td>\n",
       "      <td>Shilpa</td>\n",
       "    </tr>\n",
       "    <tr>\n",
       "      <th>1</th>\n",
       "      <td>A2</td>\n",
       "      <td>Jaspreet</td>\n",
       "    </tr>\n",
       "    <tr>\n",
       "      <th>2</th>\n",
       "      <td>A3</td>\n",
       "      <td>Dominic</td>\n",
       "    </tr>\n",
       "    <tr>\n",
       "      <th>3</th>\n",
       "      <td>A4</td>\n",
       "      <td>Ahmad</td>\n",
       "    </tr>\n",
       "    <tr>\n",
       "      <th>4</th>\n",
       "      <td>A5</td>\n",
       "      <td>Joseph</td>\n",
       "    </tr>\n",
       "  </tbody>\n",
       "</table>\n",
       "</div>"
      ],
      "text/plain": [
       "  Room      Name\n",
       "0   A1    Shilpa\n",
       "1   A2  Jaspreet\n",
       "2   A3   Dominic\n",
       "3   A4     Ahmad\n",
       "4   A5    Joseph"
      ]
     },
     "execution_count": 163,
     "metadata": {},
     "output_type": "execute_result"
    }
   ],
   "source": [
    "excel2.iloc[0:5,0:2]"
   ]
  },
  {
   "cell_type": "code",
   "execution_count": 169,
   "id": "6c64d3f7-f9af-4e75-8d5d-2e8406eed35f",
   "metadata": {},
   "outputs": [
    {
     "data": {
      "text/html": [
       "<div>\n",
       "<style scoped>\n",
       "    .dataframe tbody tr th:only-of-type {\n",
       "        vertical-align: middle;\n",
       "    }\n",
       "\n",
       "    .dataframe tbody tr th {\n",
       "        vertical-align: top;\n",
       "    }\n",
       "\n",
       "    .dataframe thead th {\n",
       "        text-align: right;\n",
       "    }\n",
       "</style>\n",
       "<table border=\"1\" class=\"dataframe\">\n",
       "  <thead>\n",
       "    <tr style=\"text-align: right;\">\n",
       "      <th></th>\n",
       "      <th>Room</th>\n",
       "      <th>Age</th>\n",
       "      <th>Expenditure</th>\n",
       "    </tr>\n",
       "  </thead>\n",
       "  <tbody>\n",
       "    <tr>\n",
       "      <th>1</th>\n",
       "      <td>A2</td>\n",
       "      <td>32</td>\n",
       "      <td>18.54</td>\n",
       "    </tr>\n",
       "    <tr>\n",
       "      <th>3</th>\n",
       "      <td>A4</td>\n",
       "      <td>22</td>\n",
       "      <td>19.54</td>\n",
       "    </tr>\n",
       "    <tr>\n",
       "      <th>4</th>\n",
       "      <td>A5</td>\n",
       "      <td>28</td>\n",
       "      <td>17.32</td>\n",
       "    </tr>\n",
       "    <tr>\n",
       "      <th>6</th>\n",
       "      <td>A7</td>\n",
       "      <td>48</td>\n",
       "      <td>11.09</td>\n",
       "    </tr>\n",
       "  </tbody>\n",
       "</table>\n",
       "</div>"
      ],
      "text/plain": [
       "  Room  Age  Expenditure\n",
       "1   A2   32        18.54\n",
       "3   A4   22        19.54\n",
       "4   A5   28        17.32\n",
       "6   A7   48        11.09"
      ]
     },
     "execution_count": 169,
     "metadata": {},
     "output_type": "execute_result"
    }
   ],
   "source": [
    "# if you  want specific row and specific column \n",
    "#use\n",
    "excel2.iloc[[1,3,4,6],[0,2,4]]"
   ]
  },
  {
   "cell_type": "code",
   "execution_count": 171,
   "id": "4bdcad51-e6d0-46fd-9587-a774a2a9f682",
   "metadata": {},
   "outputs": [
    {
     "name": "stdout",
     "output_type": "stream",
     "text": [
      "<class 'pandas.core.frame.DataFrame'>\n"
     ]
    }
   ],
   "source": [
    "print(type(excel2.iloc[[1,3,4,6],[0,2,4]]))"
   ]
  },
  {
   "cell_type": "markdown",
   "id": "6e279af4-e954-4e2c-b826-138256191529",
   "metadata": {},
   "source": [
    "## Conditional (boolean) indexing\n",
    "\n"
   ]
  },
  {
   "cell_type": "code",
   "execution_count": 176,
   "id": "8592128e-137f-4679-98c9-e52cd5d81e24",
   "metadata": {},
   "outputs": [
    {
     "data": {
      "text/plain": [
       "0     True\n",
       "1     True\n",
       "2     True\n",
       "3     True\n",
       "4     True\n",
       "5    False\n",
       "6    False\n",
       "7    False\n",
       "8     True\n",
       "9    False\n",
       "Name: Expenditure, dtype: bool"
      ]
     },
     "execution_count": 176,
     "metadata": {},
     "output_type": "execute_result"
    }
   ],
   "source": [
    "excel2['Expenditure']>15"
   ]
  },
  {
   "cell_type": "code",
   "execution_count": 178,
   "id": "3b7dcf46-d3f9-4215-a9e9-480627238c8c",
   "metadata": {},
   "outputs": [
    {
     "data": {
      "text/html": [
       "<div>\n",
       "<style scoped>\n",
       "    .dataframe tbody tr th:only-of-type {\n",
       "        vertical-align: middle;\n",
       "    }\n",
       "\n",
       "    .dataframe tbody tr th {\n",
       "        vertical-align: top;\n",
       "    }\n",
       "\n",
       "    .dataframe thead th {\n",
       "        text-align: right;\n",
       "    }\n",
       "</style>\n",
       "<table border=\"1\" class=\"dataframe\">\n",
       "  <thead>\n",
       "    <tr style=\"text-align: right;\">\n",
       "      <th></th>\n",
       "      <th>Room</th>\n",
       "      <th>Name</th>\n",
       "      <th>Age</th>\n",
       "      <th>Cuisine</th>\n",
       "      <th>Expenditure</th>\n",
       "    </tr>\n",
       "  </thead>\n",
       "  <tbody>\n",
       "    <tr>\n",
       "      <th>0</th>\n",
       "      <td>A1</td>\n",
       "      <td>Shilpa</td>\n",
       "      <td>18</td>\n",
       "      <td>Indian</td>\n",
       "      <td>24.65</td>\n",
       "    </tr>\n",
       "    <tr>\n",
       "      <th>1</th>\n",
       "      <td>A2</td>\n",
       "      <td>Jaspreet</td>\n",
       "      <td>32</td>\n",
       "      <td>American</td>\n",
       "      <td>18.54</td>\n",
       "    </tr>\n",
       "    <tr>\n",
       "      <th>2</th>\n",
       "      <td>A3</td>\n",
       "      <td>Dominic</td>\n",
       "      <td>19</td>\n",
       "      <td>Indian</td>\n",
       "      <td>27.66</td>\n",
       "    </tr>\n",
       "    <tr>\n",
       "      <th>3</th>\n",
       "      <td>A4</td>\n",
       "      <td>Ahmad</td>\n",
       "      <td>22</td>\n",
       "      <td>American</td>\n",
       "      <td>19.54</td>\n",
       "    </tr>\n",
       "    <tr>\n",
       "      <th>4</th>\n",
       "      <td>A5</td>\n",
       "      <td>Joseph</td>\n",
       "      <td>28</td>\n",
       "      <td>Indian</td>\n",
       "      <td>17.32</td>\n",
       "    </tr>\n",
       "    <tr>\n",
       "      <th>8</th>\n",
       "      <td>A9</td>\n",
       "      <td>Emma</td>\n",
       "      <td>24</td>\n",
       "      <td>Indian</td>\n",
       "      <td>18.88</td>\n",
       "    </tr>\n",
       "  </tbody>\n",
       "</table>\n",
       "</div>"
      ],
      "text/plain": [
       "  Room      Name  Age   Cuisine  Expenditure\n",
       "0   A1    Shilpa   18    Indian        24.65\n",
       "1   A2  Jaspreet   32  American        18.54\n",
       "2   A3   Dominic   19    Indian        27.66\n",
       "3   A4     Ahmad   22  American        19.54\n",
       "4   A5    Joseph   28    Indian        17.32\n",
       "8   A9      Emma   24    Indian        18.88"
      ]
     },
     "execution_count": 178,
     "metadata": {},
     "output_type": "execute_result"
    }
   ],
   "source": [
    "excel2[excel2['Expenditure']>15]"
   ]
  },
  {
   "cell_type": "code",
   "execution_count": 184,
   "id": "672ed395-7e4d-4067-8d9f-f51dc40a7b2a",
   "metadata": {},
   "outputs": [
    {
     "ename": "TypeError",
     "evalue": "unsupported operand type(s) for &: 'list' and 'list'",
     "output_type": "error",
     "traceback": [
      "\u001b[1;31m---------------------------------------------------------------------------\u001b[0m",
      "\u001b[1;31mTypeError\u001b[0m                                 Traceback (most recent call last)",
      "Cell \u001b[1;32mIn[184], line 1\u001b[0m\n\u001b[1;32m----> 1\u001b[0m excel2[[excel2[\u001b[38;5;124m'\u001b[39m\u001b[38;5;124mExpenditure\u001b[39m\u001b[38;5;124m'\u001b[39m]\u001b[38;5;241m>\u001b[39m\u001b[38;5;241m15\u001b[39m] \u001b[38;5;241m&\u001b[39m [excel2[\u001b[38;5;124m'\u001b[39m\u001b[38;5;124mCuisine\u001b[39m\u001b[38;5;124m'\u001b[39m]\u001b[38;5;241m==\u001b[39m\u001b[38;5;124m'\u001b[39m\u001b[38;5;124mIndian\u001b[39m\u001b[38;5;124m'\u001b[39m]]\n",
      "\u001b[1;31mTypeError\u001b[0m: unsupported operand type(s) for &: 'list' and 'list'"
     ]
    }
   ],
   "source": [
    "excel2[[excel2['Expenditure']>15] & [excel2['Cuisine']=='Indian']]"
   ]
  },
  {
   "cell_type": "code",
   "execution_count": 187,
   "id": "7e3e287a-2515-4694-8a3a-29cca0b4f310",
   "metadata": {},
   "outputs": [
    {
     "data": {
      "text/html": [
       "<div>\n",
       "<style scoped>\n",
       "    .dataframe tbody tr th:only-of-type {\n",
       "        vertical-align: middle;\n",
       "    }\n",
       "\n",
       "    .dataframe tbody tr th {\n",
       "        vertical-align: top;\n",
       "    }\n",
       "\n",
       "    .dataframe thead th {\n",
       "        text-align: right;\n",
       "    }\n",
       "</style>\n",
       "<table border=\"1\" class=\"dataframe\">\n",
       "  <thead>\n",
       "    <tr style=\"text-align: right;\">\n",
       "      <th></th>\n",
       "      <th>Room</th>\n",
       "      <th>Name</th>\n",
       "      <th>Age</th>\n",
       "      <th>Cuisine</th>\n",
       "      <th>Expenditure</th>\n",
       "    </tr>\n",
       "  </thead>\n",
       "  <tbody>\n",
       "    <tr>\n",
       "      <th>0</th>\n",
       "      <td>A1</td>\n",
       "      <td>Shilpa</td>\n",
       "      <td>18</td>\n",
       "      <td>Indian</td>\n",
       "      <td>24.65</td>\n",
       "    </tr>\n",
       "    <tr>\n",
       "      <th>2</th>\n",
       "      <td>A3</td>\n",
       "      <td>Dominic</td>\n",
       "      <td>19</td>\n",
       "      <td>Indian</td>\n",
       "      <td>27.66</td>\n",
       "    </tr>\n",
       "    <tr>\n",
       "      <th>4</th>\n",
       "      <td>A5</td>\n",
       "      <td>Joseph</td>\n",
       "      <td>28</td>\n",
       "      <td>Indian</td>\n",
       "      <td>17.32</td>\n",
       "    </tr>\n",
       "    <tr>\n",
       "      <th>8</th>\n",
       "      <td>A9</td>\n",
       "      <td>Emma</td>\n",
       "      <td>24</td>\n",
       "      <td>Indian</td>\n",
       "      <td>18.88</td>\n",
       "    </tr>\n",
       "  </tbody>\n",
       "</table>\n",
       "</div>"
      ],
      "text/plain": [
       "  Room     Name  Age Cuisine  Expenditure\n",
       "0   A1   Shilpa   18  Indian        24.65\n",
       "2   A3  Dominic   19  Indian        27.66\n",
       "4   A5   Joseph   28  Indian        17.32\n",
       "8   A9     Emma   24  Indian        18.88"
      ]
     },
     "execution_count": 187,
     "metadata": {},
     "output_type": "execute_result"
    }
   ],
   "source": [
    "excel2[(excel2['Expenditure']>15) & (excel2['Cuisine']=='Indian')]"
   ]
  },
  {
   "cell_type": "markdown",
   "id": "43d8f177-ed71-4c4d-b830-664e3f337654",
   "metadata": {},
   "source": [
    "Using & (AND operator):\n",
    "\n",
    "Both conditions must be inside () parentheses to avoid operator precedence issues.\n",
    "\n"
   ]
  },
  {
   "cell_type": "code",
   "execution_count": 196,
   "id": "3821483a-5c1d-465c-a649-47bd4ef0cca7",
   "metadata": {},
   "outputs": [
    {
     "data": {
      "text/html": [
       "<div>\n",
       "<style scoped>\n",
       "    .dataframe tbody tr th:only-of-type {\n",
       "        vertical-align: middle;\n",
       "    }\n",
       "\n",
       "    .dataframe tbody tr th {\n",
       "        vertical-align: top;\n",
       "    }\n",
       "\n",
       "    .dataframe thead th {\n",
       "        text-align: right;\n",
       "    }\n",
       "</style>\n",
       "<table border=\"1\" class=\"dataframe\">\n",
       "  <thead>\n",
       "    <tr style=\"text-align: right;\">\n",
       "      <th></th>\n",
       "      <th>Room</th>\n",
       "      <th>Name</th>\n",
       "      <th>Age</th>\n",
       "      <th>Cuisine</th>\n",
       "      <th>Expenditure</th>\n",
       "    </tr>\n",
       "  </thead>\n",
       "  <tbody>\n",
       "    <tr>\n",
       "      <th>0</th>\n",
       "      <td>A1</td>\n",
       "      <td>Shilpa</td>\n",
       "      <td>18</td>\n",
       "      <td>Indian</td>\n",
       "      <td>24.65</td>\n",
       "    </tr>\n",
       "    <tr>\n",
       "      <th>2</th>\n",
       "      <td>A3</td>\n",
       "      <td>Dominic</td>\n",
       "      <td>19</td>\n",
       "      <td>Indian</td>\n",
       "      <td>27.66</td>\n",
       "    </tr>\n",
       "    <tr>\n",
       "      <th>4</th>\n",
       "      <td>A5</td>\n",
       "      <td>Joseph</td>\n",
       "      <td>28</td>\n",
       "      <td>Indian</td>\n",
       "      <td>17.32</td>\n",
       "    </tr>\n",
       "    <tr>\n",
       "      <th>5</th>\n",
       "      <td>A6</td>\n",
       "      <td>Saju</td>\n",
       "      <td>31</td>\n",
       "      <td>Indian</td>\n",
       "      <td>12.56</td>\n",
       "    </tr>\n",
       "    <tr>\n",
       "      <th>8</th>\n",
       "      <td>A9</td>\n",
       "      <td>Emma</td>\n",
       "      <td>24</td>\n",
       "      <td>Indian</td>\n",
       "      <td>18.88</td>\n",
       "    </tr>\n",
       "  </tbody>\n",
       "</table>\n",
       "</div>"
      ],
      "text/plain": [
       "  Room     Name  Age Cuisine  Expenditure\n",
       "0   A1   Shilpa   18  Indian        24.65\n",
       "2   A3  Dominic   19  Indian        27.66\n",
       "4   A5   Joseph   28  Indian        17.32\n",
       "5   A6     Saju   31  Indian        12.56\n",
       "8   A9     Emma   24  Indian        18.88"
      ]
     },
     "execution_count": 196,
     "metadata": {},
     "output_type": "execute_result"
    }
   ],
   "source": [
    "excel2[excel2['Cuisine'].isin(['Indian'])]"
   ]
  },
  {
   "cell_type": "markdown",
   "id": "fcb75b87-57a7-4108-b8a5-3761d2f355ae",
   "metadata": {},
   "source": [
    "#### question"
   ]
  },
  {
   "cell_type": "code",
   "execution_count": 17,
   "id": "e5d5f19e-9a2b-4aa5-86c0-3bc92471fde6",
   "metadata": {},
   "outputs": [],
   "source": [
    "cars = pd.read_csv('cars_dataset.csv',index_col = None)"
   ]
  },
  {
   "cell_type": "code",
   "execution_count": 19,
   "id": "95cc2b21-50a1-40a1-92f2-f664b2c37184",
   "metadata": {},
   "outputs": [
    {
     "data": {
      "text/html": [
       "<div>\n",
       "<style scoped>\n",
       "    .dataframe tbody tr th:only-of-type {\n",
       "        vertical-align: middle;\n",
       "    }\n",
       "\n",
       "    .dataframe tbody tr th {\n",
       "        vertical-align: top;\n",
       "    }\n",
       "\n",
       "    .dataframe thead th {\n",
       "        text-align: right;\n",
       "    }\n",
       "</style>\n",
       "<table border=\"1\" class=\"dataframe\">\n",
       "  <thead>\n",
       "    <tr style=\"text-align: right;\">\n",
       "      <th></th>\n",
       "      <th>car_ID</th>\n",
       "      <th>symboling</th>\n",
       "      <th>carname</th>\n",
       "      <th>doornumber</th>\n",
       "      <th>carbody</th>\n",
       "      <th>enginelocation</th>\n",
       "      <th>wheelbase</th>\n",
       "      <th>carlength</th>\n",
       "      <th>carwidth</th>\n",
       "      <th>carheight</th>\n",
       "      <th>...</th>\n",
       "      <th>cylindernumber</th>\n",
       "      <th>enginesize</th>\n",
       "      <th>boreratio</th>\n",
       "      <th>stroke</th>\n",
       "      <th>compressionratio</th>\n",
       "      <th>horsepower</th>\n",
       "      <th>peakrpm</th>\n",
       "      <th>citympg</th>\n",
       "      <th>highwaympg</th>\n",
       "      <th>price</th>\n",
       "    </tr>\n",
       "  </thead>\n",
       "  <tbody>\n",
       "    <tr>\n",
       "      <th>0</th>\n",
       "      <td>1</td>\n",
       "      <td>3</td>\n",
       "      <td>alfa-romero giulia</td>\n",
       "      <td>two</td>\n",
       "      <td>convertible</td>\n",
       "      <td>front</td>\n",
       "      <td>88.6</td>\n",
       "      <td>168.8</td>\n",
       "      <td>64.1</td>\n",
       "      <td>48.8</td>\n",
       "      <td>...</td>\n",
       "      <td>four</td>\n",
       "      <td>130</td>\n",
       "      <td>3.47</td>\n",
       "      <td>2.68</td>\n",
       "      <td>9.0</td>\n",
       "      <td>111</td>\n",
       "      <td>5000</td>\n",
       "      <td>21</td>\n",
       "      <td>27</td>\n",
       "      <td>13495.0</td>\n",
       "    </tr>\n",
       "    <tr>\n",
       "      <th>1</th>\n",
       "      <td>2</td>\n",
       "      <td>3</td>\n",
       "      <td>alfa-romero stelvio</td>\n",
       "      <td>two</td>\n",
       "      <td>convertible</td>\n",
       "      <td>front</td>\n",
       "      <td>88.6</td>\n",
       "      <td>168.8</td>\n",
       "      <td>64.1</td>\n",
       "      <td>48.8</td>\n",
       "      <td>...</td>\n",
       "      <td>four</td>\n",
       "      <td>130</td>\n",
       "      <td>3.47</td>\n",
       "      <td>2.68</td>\n",
       "      <td>9.0</td>\n",
       "      <td>111</td>\n",
       "      <td>5000</td>\n",
       "      <td>21</td>\n",
       "      <td>27</td>\n",
       "      <td>16500.0</td>\n",
       "    </tr>\n",
       "    <tr>\n",
       "      <th>2</th>\n",
       "      <td>3</td>\n",
       "      <td>1</td>\n",
       "      <td>alfa-romero Quadrifoglio</td>\n",
       "      <td>two</td>\n",
       "      <td>hatchback</td>\n",
       "      <td>front</td>\n",
       "      <td>94.5</td>\n",
       "      <td>171.2</td>\n",
       "      <td>65.5</td>\n",
       "      <td>52.4</td>\n",
       "      <td>...</td>\n",
       "      <td>six</td>\n",
       "      <td>152</td>\n",
       "      <td>2.68</td>\n",
       "      <td>3.47</td>\n",
       "      <td>9.0</td>\n",
       "      <td>154</td>\n",
       "      <td>5000</td>\n",
       "      <td>19</td>\n",
       "      <td>26</td>\n",
       "      <td>16500.0</td>\n",
       "    </tr>\n",
       "    <tr>\n",
       "      <th>3</th>\n",
       "      <td>4</td>\n",
       "      <td>2</td>\n",
       "      <td>audi 100 ls</td>\n",
       "      <td>four</td>\n",
       "      <td>sedan</td>\n",
       "      <td>front</td>\n",
       "      <td>99.8</td>\n",
       "      <td>176.6</td>\n",
       "      <td>66.2</td>\n",
       "      <td>54.3</td>\n",
       "      <td>...</td>\n",
       "      <td>four</td>\n",
       "      <td>109</td>\n",
       "      <td>3.19</td>\n",
       "      <td>3.40</td>\n",
       "      <td>10.0</td>\n",
       "      <td>102</td>\n",
       "      <td>5500</td>\n",
       "      <td>24</td>\n",
       "      <td>30</td>\n",
       "      <td>13950.0</td>\n",
       "    </tr>\n",
       "    <tr>\n",
       "      <th>4</th>\n",
       "      <td>5</td>\n",
       "      <td>2</td>\n",
       "      <td>audi 100ls</td>\n",
       "      <td>four</td>\n",
       "      <td>sedan</td>\n",
       "      <td>front</td>\n",
       "      <td>99.4</td>\n",
       "      <td>176.6</td>\n",
       "      <td>66.4</td>\n",
       "      <td>54.3</td>\n",
       "      <td>...</td>\n",
       "      <td>five</td>\n",
       "      <td>136</td>\n",
       "      <td>3.19</td>\n",
       "      <td>3.40</td>\n",
       "      <td>8.0</td>\n",
       "      <td>115</td>\n",
       "      <td>5500</td>\n",
       "      <td>18</td>\n",
       "      <td>22</td>\n",
       "      <td>17450.0</td>\n",
       "    </tr>\n",
       "    <tr>\n",
       "      <th>...</th>\n",
       "      <td>...</td>\n",
       "      <td>...</td>\n",
       "      <td>...</td>\n",
       "      <td>...</td>\n",
       "      <td>...</td>\n",
       "      <td>...</td>\n",
       "      <td>...</td>\n",
       "      <td>...</td>\n",
       "      <td>...</td>\n",
       "      <td>...</td>\n",
       "      <td>...</td>\n",
       "      <td>...</td>\n",
       "      <td>...</td>\n",
       "      <td>...</td>\n",
       "      <td>...</td>\n",
       "      <td>...</td>\n",
       "      <td>...</td>\n",
       "      <td>...</td>\n",
       "      <td>...</td>\n",
       "      <td>...</td>\n",
       "      <td>...</td>\n",
       "    </tr>\n",
       "    <tr>\n",
       "      <th>142</th>\n",
       "      <td>197</td>\n",
       "      <td>-2</td>\n",
       "      <td>volvo 244dl</td>\n",
       "      <td>four</td>\n",
       "      <td>sedan</td>\n",
       "      <td>front</td>\n",
       "      <td>104.3</td>\n",
       "      <td>188.8</td>\n",
       "      <td>67.2</td>\n",
       "      <td>56.2</td>\n",
       "      <td>...</td>\n",
       "      <td>four</td>\n",
       "      <td>141</td>\n",
       "      <td>3.78</td>\n",
       "      <td>3.15</td>\n",
       "      <td>9.5</td>\n",
       "      <td>114</td>\n",
       "      <td>5400</td>\n",
       "      <td>24</td>\n",
       "      <td>28</td>\n",
       "      <td>15985.0</td>\n",
       "    </tr>\n",
       "    <tr>\n",
       "      <th>143</th>\n",
       "      <td>198</td>\n",
       "      <td>-1</td>\n",
       "      <td>volvo 245</td>\n",
       "      <td>four</td>\n",
       "      <td>wagon</td>\n",
       "      <td>front</td>\n",
       "      <td>104.3</td>\n",
       "      <td>188.8</td>\n",
       "      <td>67.2</td>\n",
       "      <td>57.5</td>\n",
       "      <td>...</td>\n",
       "      <td>four</td>\n",
       "      <td>141</td>\n",
       "      <td>3.78</td>\n",
       "      <td>3.15</td>\n",
       "      <td>9.5</td>\n",
       "      <td>114</td>\n",
       "      <td>5400</td>\n",
       "      <td>24</td>\n",
       "      <td>28</td>\n",
       "      <td>16515.0</td>\n",
       "    </tr>\n",
       "    <tr>\n",
       "      <th>144</th>\n",
       "      <td>199</td>\n",
       "      <td>-2</td>\n",
       "      <td>volvo 264gl</td>\n",
       "      <td>four</td>\n",
       "      <td>sedan</td>\n",
       "      <td>front</td>\n",
       "      <td>104.3</td>\n",
       "      <td>188.8</td>\n",
       "      <td>67.2</td>\n",
       "      <td>56.2</td>\n",
       "      <td>...</td>\n",
       "      <td>four</td>\n",
       "      <td>130</td>\n",
       "      <td>3.62</td>\n",
       "      <td>3.15</td>\n",
       "      <td>7.5</td>\n",
       "      <td>162</td>\n",
       "      <td>5100</td>\n",
       "      <td>17</td>\n",
       "      <td>22</td>\n",
       "      <td>18420.0</td>\n",
       "    </tr>\n",
       "    <tr>\n",
       "      <th>145</th>\n",
       "      <td>200</td>\n",
       "      <td>-1</td>\n",
       "      <td>volvo diesel</td>\n",
       "      <td>four</td>\n",
       "      <td>wagon</td>\n",
       "      <td>front</td>\n",
       "      <td>104.3</td>\n",
       "      <td>188.8</td>\n",
       "      <td>67.2</td>\n",
       "      <td>57.5</td>\n",
       "      <td>...</td>\n",
       "      <td>four</td>\n",
       "      <td>130</td>\n",
       "      <td>3.62</td>\n",
       "      <td>3.15</td>\n",
       "      <td>7.5</td>\n",
       "      <td>162</td>\n",
       "      <td>5100</td>\n",
       "      <td>17</td>\n",
       "      <td>22</td>\n",
       "      <td>18950.0</td>\n",
       "    </tr>\n",
       "    <tr>\n",
       "      <th>146</th>\n",
       "      <td>204</td>\n",
       "      <td>-1</td>\n",
       "      <td>volvo 246</td>\n",
       "      <td>four</td>\n",
       "      <td>sedan</td>\n",
       "      <td>front</td>\n",
       "      <td>109.1</td>\n",
       "      <td>188.8</td>\n",
       "      <td>68.9</td>\n",
       "      <td>55.5</td>\n",
       "      <td>...</td>\n",
       "      <td>six</td>\n",
       "      <td>145</td>\n",
       "      <td>3.01</td>\n",
       "      <td>3.40</td>\n",
       "      <td>23.0</td>\n",
       "      <td>106</td>\n",
       "      <td>4800</td>\n",
       "      <td>26</td>\n",
       "      <td>27</td>\n",
       "      <td>22470.0</td>\n",
       "    </tr>\n",
       "  </tbody>\n",
       "</table>\n",
       "<p>147 rows × 21 columns</p>\n",
       "</div>"
      ],
      "text/plain": [
       "     car_ID  symboling                   carname doornumber      carbody  \\\n",
       "0         1          3        alfa-romero giulia        two  convertible   \n",
       "1         2          3       alfa-romero stelvio        two  convertible   \n",
       "2         3          1  alfa-romero Quadrifoglio        two    hatchback   \n",
       "3         4          2               audi 100 ls       four        sedan   \n",
       "4         5          2                audi 100ls       four        sedan   \n",
       "..      ...        ...                       ...        ...          ...   \n",
       "142     197         -2               volvo 244dl       four        sedan   \n",
       "143     198         -1                 volvo 245       four        wagon   \n",
       "144     199         -2               volvo 264gl       four        sedan   \n",
       "145     200         -1              volvo diesel       four        wagon   \n",
       "146     204         -1                 volvo 246       four        sedan   \n",
       "\n",
       "    enginelocation  wheelbase  carlength  carwidth  carheight  ...  \\\n",
       "0            front       88.6      168.8      64.1       48.8  ...   \n",
       "1            front       88.6      168.8      64.1       48.8  ...   \n",
       "2            front       94.5      171.2      65.5       52.4  ...   \n",
       "3            front       99.8      176.6      66.2       54.3  ...   \n",
       "4            front       99.4      176.6      66.4       54.3  ...   \n",
       "..             ...        ...        ...       ...        ...  ...   \n",
       "142          front      104.3      188.8      67.2       56.2  ...   \n",
       "143          front      104.3      188.8      67.2       57.5  ...   \n",
       "144          front      104.3      188.8      67.2       56.2  ...   \n",
       "145          front      104.3      188.8      67.2       57.5  ...   \n",
       "146          front      109.1      188.8      68.9       55.5  ...   \n",
       "\n",
       "     cylindernumber enginesize  boreratio  stroke  compressionratio  \\\n",
       "0              four        130       3.47    2.68               9.0   \n",
       "1              four        130       3.47    2.68               9.0   \n",
       "2               six        152       2.68    3.47               9.0   \n",
       "3              four        109       3.19    3.40              10.0   \n",
       "4              five        136       3.19    3.40               8.0   \n",
       "..              ...        ...        ...     ...               ...   \n",
       "142            four        141       3.78    3.15               9.5   \n",
       "143            four        141       3.78    3.15               9.5   \n",
       "144            four        130       3.62    3.15               7.5   \n",
       "145            four        130       3.62    3.15               7.5   \n",
       "146             six        145       3.01    3.40              23.0   \n",
       "\n",
       "     horsepower  peakrpm  citympg  highwaympg    price  \n",
       "0           111     5000       21          27  13495.0  \n",
       "1           111     5000       21          27  16500.0  \n",
       "2           154     5000       19          26  16500.0  \n",
       "3           102     5500       24          30  13950.0  \n",
       "4           115     5500       18          22  17450.0  \n",
       "..          ...      ...      ...         ...      ...  \n",
       "142         114     5400       24          28  15985.0  \n",
       "143         114     5400       24          28  16515.0  \n",
       "144         162     5100       17          22  18420.0  \n",
       "145         162     5100       17          22  18950.0  \n",
       "146         106     4800       26          27  22470.0  \n",
       "\n",
       "[147 rows x 21 columns]"
      ]
     },
     "execution_count": 19,
     "metadata": {},
     "output_type": "execute_result"
    }
   ],
   "source": [
    "cars"
   ]
  },
  {
   "cell_type": "code",
   "execution_count": 207,
   "id": "044a560f-794a-4327-934e-e06cd64b40a6",
   "metadata": {},
   "outputs": [
    {
     "data": {
      "text/plain": [
       "0            alfa-romero giulia\n",
       "1           alfa-romero stelvio\n",
       "2      alfa-romero Quadrifoglio\n",
       "3                   audi 100 ls\n",
       "4                    audi 100ls\n",
       "                 ...           \n",
       "142                 volvo 244dl\n",
       "143                   volvo 245\n",
       "144                 volvo 264gl\n",
       "145                volvo diesel\n",
       "146                   volvo 246\n",
       "Name: carname, Length: 147, dtype: object"
      ]
     },
     "execution_count": 207,
     "metadata": {},
     "output_type": "execute_result"
    }
   ],
   "source": [
    "cars.carname"
   ]
  },
  {
   "cell_type": "code",
   "execution_count": 215,
   "id": "1ee26601-008a-4546-81f6-a1d0debdfa14",
   "metadata": {},
   "outputs": [
    {
     "data": {
      "text/plain": [
       "0            alfa-romero giulia\n",
       "1           alfa-romero stelvio\n",
       "2      alfa-romero Quadrifoglio\n",
       "3                   audi 100 ls\n",
       "4                    audi 100ls\n",
       "                 ...           \n",
       "142                 volvo 244dl\n",
       "143                   volvo 245\n",
       "144                 volvo 264gl\n",
       "145                volvo diesel\n",
       "146                   volvo 246\n",
       "Name: carname, Length: 147, dtype: object"
      ]
     },
     "execution_count": 215,
     "metadata": {},
     "output_type": "execute_result"
    }
   ],
   "source": [
    "cars['carname']"
   ]
  },
  {
   "cell_type": "code",
   "execution_count": 219,
   "id": "34c68fb3-091c-4193-b301-5866ab4e28c5",
   "metadata": {},
   "outputs": [
    {
     "data": {
      "text/plain": [
       "0            alfa-romero giulia\n",
       "1           alfa-romero stelvio\n",
       "2      alfa-romero Quadrifoglio\n",
       "3                   audi 100 ls\n",
       "4                    audi 100ls\n",
       "                 ...           \n",
       "142                 volvo 244dl\n",
       "143                   volvo 245\n",
       "144                 volvo 264gl\n",
       "145                volvo diesel\n",
       "146                   volvo 246\n",
       "Name: carname, Length: 147, dtype: object"
      ]
     },
     "execution_count": 219,
     "metadata": {},
     "output_type": "execute_result"
    }
   ],
   "source": [
    "cars.get('carname')"
   ]
  },
  {
   "cell_type": "code",
   "execution_count": 225,
   "id": "98d7f4ec-5cc3-4d22-a2d7-72069ede51a4",
   "metadata": {},
   "outputs": [
    {
     "data": {
      "text/html": [
       "<div>\n",
       "<style scoped>\n",
       "    .dataframe tbody tr th:only-of-type {\n",
       "        vertical-align: middle;\n",
       "    }\n",
       "\n",
       "    .dataframe tbody tr th {\n",
       "        vertical-align: top;\n",
       "    }\n",
       "\n",
       "    .dataframe thead th {\n",
       "        text-align: right;\n",
       "    }\n",
       "</style>\n",
       "<table border=\"1\" class=\"dataframe\">\n",
       "  <thead>\n",
       "    <tr style=\"text-align: right;\">\n",
       "      <th></th>\n",
       "      <th>carname</th>\n",
       "      <th>price</th>\n",
       "    </tr>\n",
       "  </thead>\n",
       "  <tbody>\n",
       "    <tr>\n",
       "      <th>0</th>\n",
       "      <td>alfa-romero giulia</td>\n",
       "      <td>13495.0</td>\n",
       "    </tr>\n",
       "    <tr>\n",
       "      <th>1</th>\n",
       "      <td>alfa-romero stelvio</td>\n",
       "      <td>16500.0</td>\n",
       "    </tr>\n",
       "    <tr>\n",
       "      <th>2</th>\n",
       "      <td>alfa-romero Quadrifoglio</td>\n",
       "      <td>16500.0</td>\n",
       "    </tr>\n",
       "    <tr>\n",
       "      <th>3</th>\n",
       "      <td>audi 100 ls</td>\n",
       "      <td>13950.0</td>\n",
       "    </tr>\n",
       "    <tr>\n",
       "      <th>4</th>\n",
       "      <td>audi 100ls</td>\n",
       "      <td>17450.0</td>\n",
       "    </tr>\n",
       "    <tr>\n",
       "      <th>...</th>\n",
       "      <td>...</td>\n",
       "      <td>...</td>\n",
       "    </tr>\n",
       "    <tr>\n",
       "      <th>142</th>\n",
       "      <td>volvo 244dl</td>\n",
       "      <td>15985.0</td>\n",
       "    </tr>\n",
       "    <tr>\n",
       "      <th>143</th>\n",
       "      <td>volvo 245</td>\n",
       "      <td>16515.0</td>\n",
       "    </tr>\n",
       "    <tr>\n",
       "      <th>144</th>\n",
       "      <td>volvo 264gl</td>\n",
       "      <td>18420.0</td>\n",
       "    </tr>\n",
       "    <tr>\n",
       "      <th>145</th>\n",
       "      <td>volvo diesel</td>\n",
       "      <td>18950.0</td>\n",
       "    </tr>\n",
       "    <tr>\n",
       "      <th>146</th>\n",
       "      <td>volvo 246</td>\n",
       "      <td>22470.0</td>\n",
       "    </tr>\n",
       "  </tbody>\n",
       "</table>\n",
       "<p>147 rows × 2 columns</p>\n",
       "</div>"
      ],
      "text/plain": [
       "                      carname    price\n",
       "0          alfa-romero giulia  13495.0\n",
       "1         alfa-romero stelvio  16500.0\n",
       "2    alfa-romero Quadrifoglio  16500.0\n",
       "3                 audi 100 ls  13950.0\n",
       "4                  audi 100ls  17450.0\n",
       "..                        ...      ...\n",
       "142               volvo 244dl  15985.0\n",
       "143                 volvo 245  16515.0\n",
       "144               volvo 264gl  18420.0\n",
       "145              volvo diesel  18950.0\n",
       "146                 volvo 246  22470.0\n",
       "\n",
       "[147 rows x 2 columns]"
      ]
     },
     "execution_count": 225,
     "metadata": {},
     "output_type": "execute_result"
    }
   ],
   "source": [
    "cars[['carname','price']]"
   ]
  },
  {
   "cell_type": "code",
   "execution_count": 23,
   "id": "4b8c829e-9498-4701-a489-7abd52fdc660",
   "metadata": {},
   "outputs": [
    {
     "data": {
      "text/html": [
       "<div>\n",
       "<style scoped>\n",
       "    .dataframe tbody tr th:only-of-type {\n",
       "        vertical-align: middle;\n",
       "    }\n",
       "\n",
       "    .dataframe tbody tr th {\n",
       "        vertical-align: top;\n",
       "    }\n",
       "\n",
       "    .dataframe thead th {\n",
       "        text-align: right;\n",
       "    }\n",
       "</style>\n",
       "<table border=\"1\" class=\"dataframe\">\n",
       "  <thead>\n",
       "    <tr style=\"text-align: right;\">\n",
       "      <th></th>\n",
       "      <th>carname</th>\n",
       "      <th>price</th>\n",
       "    </tr>\n",
       "  </thead>\n",
       "  <tbody>\n",
       "    <tr>\n",
       "      <th>0</th>\n",
       "      <td>alfa-romero giulia</td>\n",
       "      <td>13495.0</td>\n",
       "    </tr>\n",
       "    <tr>\n",
       "      <th>1</th>\n",
       "      <td>alfa-romero stelvio</td>\n",
       "      <td>16500.0</td>\n",
       "    </tr>\n",
       "    <tr>\n",
       "      <th>2</th>\n",
       "      <td>alfa-romero Quadrifoglio</td>\n",
       "      <td>16500.0</td>\n",
       "    </tr>\n",
       "    <tr>\n",
       "      <th>3</th>\n",
       "      <td>audi 100 ls</td>\n",
       "      <td>13950.0</td>\n",
       "    </tr>\n",
       "    <tr>\n",
       "      <th>4</th>\n",
       "      <td>audi 100ls</td>\n",
       "      <td>17450.0</td>\n",
       "    </tr>\n",
       "    <tr>\n",
       "      <th>...</th>\n",
       "      <td>...</td>\n",
       "      <td>...</td>\n",
       "    </tr>\n",
       "    <tr>\n",
       "      <th>142</th>\n",
       "      <td>volvo 244dl</td>\n",
       "      <td>15985.0</td>\n",
       "    </tr>\n",
       "    <tr>\n",
       "      <th>143</th>\n",
       "      <td>volvo 245</td>\n",
       "      <td>16515.0</td>\n",
       "    </tr>\n",
       "    <tr>\n",
       "      <th>144</th>\n",
       "      <td>volvo 264gl</td>\n",
       "      <td>18420.0</td>\n",
       "    </tr>\n",
       "    <tr>\n",
       "      <th>145</th>\n",
       "      <td>volvo diesel</td>\n",
       "      <td>18950.0</td>\n",
       "    </tr>\n",
       "    <tr>\n",
       "      <th>146</th>\n",
       "      <td>volvo 246</td>\n",
       "      <td>22470.0</td>\n",
       "    </tr>\n",
       "  </tbody>\n",
       "</table>\n",
       "<p>147 rows × 2 columns</p>\n",
       "</div>"
      ],
      "text/plain": [
       "                      carname    price\n",
       "0          alfa-romero giulia  13495.0\n",
       "1         alfa-romero stelvio  16500.0\n",
       "2    alfa-romero Quadrifoglio  16500.0\n",
       "3                 audi 100 ls  13950.0\n",
       "4                  audi 100ls  17450.0\n",
       "..                        ...      ...\n",
       "142               volvo 244dl  15985.0\n",
       "143                 volvo 245  16515.0\n",
       "144               volvo 264gl  18420.0\n",
       "145              volvo diesel  18950.0\n",
       "146                 volvo 246  22470.0\n",
       "\n",
       "[147 rows x 2 columns]"
      ]
     },
     "execution_count": 23,
     "metadata": {},
     "output_type": "execute_result"
    }
   ],
   "source": [
    "cars.loc[:,['carname','price']]"
   ]
  },
  {
   "cell_type": "markdown",
   "id": "7b7882db-ed68-4049-81d5-e78253e8be12",
   "metadata": {},
   "source": [
    "#  Pandas Operations!"
   ]
  },
  {
   "cell_type": "markdown",
   "id": "e84bc33f-be63-4a70-9f2d-5d6dca2f10d7",
   "metadata": {},
   "source": [
    "## Series operations \n",
    "\n"
   ]
  },
  {
   "cell_type": "code",
   "execution_count": 41,
   "id": "d2149006-0eb2-489c-9930-87db66d49501",
   "metadata": {},
   "outputs": [],
   "source": [
    "production_data = [1000, 1200, 1100, 950, 1050, 1430, 1760]"
   ]
  },
  {
   "cell_type": "code",
   "execution_count": 43,
   "id": "ced19e72-d409-490d-b360-4ef4f6d733ad",
   "metadata": {},
   "outputs": [],
   "source": [
    "production_day = ['Day1', 'Day2', 'Day3', 'Day4', 'Day5', 'Day6', 'Day7']"
   ]
  },
  {
   "cell_type": "code",
   "execution_count": 45,
   "id": "5919b1e8-08f7-4566-bd15-04ffce26f077",
   "metadata": {},
   "outputs": [],
   "source": [
    "production = pd.Series(production_day,production_data,name = 'daily production')"
   ]
  },
  {
   "cell_type": "code",
   "execution_count": 49,
   "id": "197c1b54-07ee-47ad-827c-3f119c5c8135",
   "metadata": {},
   "outputs": [
    {
     "data": {
      "text/plain": [
       "1000    Day1\n",
       "1200    Day2\n",
       "1100    Day3\n",
       "950     Day4\n",
       "1050    Day5\n",
       "1430    Day6\n",
       "1760    Day7\n",
       "Name: daily production, dtype: object"
      ]
     },
     "execution_count": 49,
     "metadata": {},
     "output_type": "execute_result"
    }
   ],
   "source": [
    "production"
   ]
  },
  {
   "cell_type": "markdown",
   "id": "8d588019-b47c-4c0a-9557-b41f80e49093",
   "metadata": {},
   "source": [
    "#### rename()"
   ]
  },
  {
   "cell_type": "code",
   "execution_count": 55,
   "id": "482e185a-8c9f-4404-a989-3c0e3c07a72e",
   "metadata": {},
   "outputs": [
    {
     "data": {
      "text/plain": [
       "1000    Day1\n",
       "1200    Day2\n",
       "1100    Day3\n",
       "950     Day4\n",
       "1050    Day5\n",
       "1430    Day6\n",
       "1760    Day7\n",
       "Name: name is change, dtype: object"
      ]
     },
     "execution_count": 55,
     "metadata": {},
     "output_type": "execute_result"
    }
   ],
   "source": [
    "production.rename(index = 'name is change')"
   ]
  },
  {
   "cell_type": "code",
   "execution_count": 60,
   "id": "e5a7e020-d736-46be-865e-faee8bbad044",
   "metadata": {},
   "outputs": [],
   "source": [
    "# another way to change the name \n",
    "production.name = 'another way to change the name'"
   ]
  },
  {
   "cell_type": "code",
   "execution_count": 62,
   "id": "e34a7bfb-5fb5-479b-8d2b-aafd18fe855c",
   "metadata": {},
   "outputs": [
    {
     "data": {
      "text/plain": [
       "1000    Day1\n",
       "1200    Day2\n",
       "1100    Day3\n",
       "950     Day4\n",
       "1050    Day5\n",
       "1430    Day6\n",
       "1760    Day7\n",
       "Name: another way to change the name, dtype: object"
      ]
     },
     "execution_count": 62,
     "metadata": {},
     "output_type": "execute_result"
    }
   ],
   "source": [
    "production"
   ]
  },
  {
   "cell_type": "markdown",
   "id": "d6cd90f9-552f-4b13-a2f8-05de821807c8",
   "metadata": {},
   "source": [
    "Let’s create a series using NumPy arrays."
   ]
  },
  {
   "cell_type": "code",
   "execution_count": 67,
   "id": "05cedd7a-cdcc-4460-b3b3-57ca3032bba7",
   "metadata": {},
   "outputs": [],
   "source": [
    "import numpy as np"
   ]
  },
  {
   "cell_type": "code",
   "execution_count": 69,
   "id": "b9d01e9a-7bea-41af-9007-694a4cff5c95",
   "metadata": {},
   "outputs": [],
   "source": [
    "array1 = np.array(['anish','khushi','harshu','panu'])"
   ]
  },
  {
   "cell_type": "code",
   "execution_count": 71,
   "id": "b16dc5ed-992a-40be-9251-66f1dde82312",
   "metadata": {},
   "outputs": [],
   "source": [
    "array2 = np.array([100,120,130,140])"
   ]
  },
  {
   "cell_type": "code",
   "execution_count": 73,
   "id": "d39e77e6-c30f-4c57-9a45-a429ce2a6077",
   "metadata": {},
   "outputs": [],
   "source": [
    "series2 = pd.Series(array1,array2,name = 'bhai bhen')"
   ]
  },
  {
   "cell_type": "code",
   "execution_count": 77,
   "id": "d49863b7-8de1-4d50-a406-8b158ceabf1d",
   "metadata": {},
   "outputs": [
    {
     "name": "stdout",
     "output_type": "stream",
     "text": [
      "100     anish\n",
      "120    khushi\n",
      "130    harshu\n",
      "140      panu\n",
      "Name: bhai bhen, dtype: object\n"
     ]
    }
   ],
   "source": [
    "print(series2)"
   ]
  },
  {
   "cell_type": "markdown",
   "id": "283c2c43-e745-4a90-be28-8f3ece64b22d",
   "metadata": {},
   "source": [
    "####  Applying condition"
   ]
  },
  {
   "cell_type": "code",
   "execution_count": 79,
   "id": "6fe5185a-4a0d-4e88-8d84-bcd76a7fb2d1",
   "metadata": {},
   "outputs": [],
   "source": [
    "production_data = [1000, 1200, 1100, 950, 1050, 1430, 1760]"
   ]
  },
  {
   "cell_type": "code",
   "execution_count": 81,
   "id": "65c93021-e4d6-495a-966b-0d02c6b174d2",
   "metadata": {},
   "outputs": [],
   "source": [
    "production_day = ['Day1', 'Day2', 'Day3', 'Day4', 'Day5', 'Day6', 'Day7']"
   ]
  },
  {
   "cell_type": "code",
   "execution_count": 91,
   "id": "53358d04-b370-47dc-aed5-611892a49acc",
   "metadata": {},
   "outputs": [],
   "source": [
    "daily_production = pd.Series(production_data,prodection_day,name = 'daily production')"
   ]
  },
  {
   "cell_type": "code",
   "execution_count": 93,
   "id": "8d92359b-dbfc-4d70-aef8-d8aa113e5af3",
   "metadata": {},
   "outputs": [
    {
     "data": {
      "text/plain": [
       "day1    1000\n",
       "day2    1200\n",
       "day3    1100\n",
       "day4     950\n",
       "day5    1050\n",
       "day6    1430\n",
       "day7    1760\n",
       "Name: daily production, dtype: int64"
      ]
     },
     "execution_count": 93,
     "metadata": {},
     "output_type": "execute_result"
    }
   ],
   "source": [
    "daily_production"
   ]
  },
  {
   "cell_type": "code",
   "execution_count": 99,
   "id": "5e599506-1521-43da-8ee3-cb2b2398b0c0",
   "metadata": {},
   "outputs": [
    {
     "data": {
      "text/plain": [
       "day2    1200\n",
       "day3    1100\n",
       "day5    1050\n",
       "day6    1430\n",
       "day7    1760\n",
       "Name: daily production, dtype: int64"
      ]
     },
     "execution_count": 99,
     "metadata": {},
     "output_type": "execute_result"
    }
   ],
   "source": [
    "daily_production[daily_production>1000]"
   ]
  },
  {
   "cell_type": "code",
   "execution_count": 103,
   "id": "d34d58f2-d9bb-4dc9-9674-11b9a7b945b6",
   "metadata": {},
   "outputs": [
    {
     "data": {
      "text/plain": [
       "day2    1200\n",
       "day3    1100\n",
       "day5    1050\n",
       "day6    1430\n",
       "Name: daily production, dtype: int64"
      ]
     },
     "execution_count": 103,
     "metadata": {},
     "output_type": "execute_result"
    }
   ],
   "source": [
    "daily_production[(daily_production > 1000) & (daily_production < 1500)]"
   ]
  },
  {
   "cell_type": "code",
   "execution_count": null,
   "id": "16510e67-21ea-4fee-b492-f1b6a7b399cf",
   "metadata": {},
   "outputs": [],
   "source": [
    "# another way "
   ]
  },
  {
   "cell_type": "code",
   "execution_count": 105,
   "id": "4260801d-8c2f-40a0-a09a-52d19ea2f245",
   "metadata": {},
   "outputs": [],
   "source": [
    "show = (daily_production >100) & (daily_production<1500)"
   ]
  },
  {
   "cell_type": "code",
   "execution_count": 111,
   "id": "c7a0f4b4-4b36-45ed-98c4-856d2990d482",
   "metadata": {},
   "outputs": [
    {
     "name": "stdout",
     "output_type": "stream",
     "text": [
      "day1    1000\n",
      "day2    1200\n",
      "day3    1100\n",
      "day4     950\n",
      "day5    1050\n",
      "day6    1430\n",
      "Name: daily production, dtype: int64\n"
     ]
    }
   ],
   "source": [
    "print(daily_production[show])"
   ]
  },
  {
   "cell_type": "markdown",
   "id": "dfa67051-14f9-4c95-9442-3afba38bc9ce",
   "metadata": {},
   "source": [
    "## DataFrame Operations"
   ]
  },
  {
   "cell_type": "code",
   "execution_count": 5,
   "id": "15141ba7-3903-44db-8a35-1f6a3bf98b50",
   "metadata": {},
   "outputs": [],
   "source": [
    "room_exp = pd.read_excel('room_expenditure.xlsx')"
   ]
  },
  {
   "cell_type": "code",
   "execution_count": 7,
   "id": "935fdb44-3c37-4c4d-bbcf-5eacb91ceb93",
   "metadata": {},
   "outputs": [
    {
     "data": {
      "text/html": [
       "<div>\n",
       "<style scoped>\n",
       "    .dataframe tbody tr th:only-of-type {\n",
       "        vertical-align: middle;\n",
       "    }\n",
       "\n",
       "    .dataframe tbody tr th {\n",
       "        vertical-align: top;\n",
       "    }\n",
       "\n",
       "    .dataframe thead th {\n",
       "        text-align: right;\n",
       "    }\n",
       "</style>\n",
       "<table border=\"1\" class=\"dataframe\">\n",
       "  <thead>\n",
       "    <tr style=\"text-align: right;\">\n",
       "      <th></th>\n",
       "      <th>Room</th>\n",
       "      <th>Name</th>\n",
       "      <th>Age</th>\n",
       "      <th>Cuisine</th>\n",
       "      <th>Expenditure</th>\n",
       "    </tr>\n",
       "  </thead>\n",
       "  <tbody>\n",
       "    <tr>\n",
       "      <th>0</th>\n",
       "      <td>A1</td>\n",
       "      <td>Shilpa</td>\n",
       "      <td>18</td>\n",
       "      <td>Indian</td>\n",
       "      <td>24.65</td>\n",
       "    </tr>\n",
       "    <tr>\n",
       "      <th>1</th>\n",
       "      <td>A2</td>\n",
       "      <td>Jaspreet</td>\n",
       "      <td>32</td>\n",
       "      <td>American</td>\n",
       "      <td>18.54</td>\n",
       "    </tr>\n",
       "    <tr>\n",
       "      <th>2</th>\n",
       "      <td>A3</td>\n",
       "      <td>Dominic</td>\n",
       "      <td>19</td>\n",
       "      <td>Indian</td>\n",
       "      <td>27.66</td>\n",
       "    </tr>\n",
       "    <tr>\n",
       "      <th>3</th>\n",
       "      <td>A4</td>\n",
       "      <td>Ahmad</td>\n",
       "      <td>22</td>\n",
       "      <td>American</td>\n",
       "      <td>19.54</td>\n",
       "    </tr>\n",
       "    <tr>\n",
       "      <th>4</th>\n",
       "      <td>A5</td>\n",
       "      <td>Joseph</td>\n",
       "      <td>28</td>\n",
       "      <td>Indian</td>\n",
       "      <td>17.32</td>\n",
       "    </tr>\n",
       "    <tr>\n",
       "      <th>5</th>\n",
       "      <td>A6</td>\n",
       "      <td>Saju</td>\n",
       "      <td>31</td>\n",
       "      <td>Indian</td>\n",
       "      <td>12.56</td>\n",
       "    </tr>\n",
       "    <tr>\n",
       "      <th>6</th>\n",
       "      <td>A7</td>\n",
       "      <td>Monica</td>\n",
       "      <td>48</td>\n",
       "      <td>Chinese</td>\n",
       "      <td>11.09</td>\n",
       "    </tr>\n",
       "    <tr>\n",
       "      <th>7</th>\n",
       "      <td>A8</td>\n",
       "      <td>Preeti</td>\n",
       "      <td>67</td>\n",
       "      <td>American</td>\n",
       "      <td>12.23</td>\n",
       "    </tr>\n",
       "    <tr>\n",
       "      <th>8</th>\n",
       "      <td>A9</td>\n",
       "      <td>Emma</td>\n",
       "      <td>24</td>\n",
       "      <td>Indian</td>\n",
       "      <td>18.88</td>\n",
       "    </tr>\n",
       "    <tr>\n",
       "      <th>9</th>\n",
       "      <td>A10</td>\n",
       "      <td>Gaurav</td>\n",
       "      <td>29</td>\n",
       "      <td>Chinese</td>\n",
       "      <td>14.43</td>\n",
       "    </tr>\n",
       "  </tbody>\n",
       "</table>\n",
       "</div>"
      ],
      "text/plain": [
       "  Room      Name  Age   Cuisine  Expenditure\n",
       "0   A1    Shilpa   18    Indian        24.65\n",
       "1   A2  Jaspreet   32  American        18.54\n",
       "2   A3   Dominic   19    Indian        27.66\n",
       "3   A4     Ahmad   22  American        19.54\n",
       "4   A5    Joseph   28    Indian        17.32\n",
       "5   A6      Saju   31    Indian        12.56\n",
       "6   A7    Monica   48   Chinese        11.09\n",
       "7   A8    Preeti   67  American        12.23\n",
       "8   A9      Emma   24    Indian        18.88\n",
       "9  A10    Gaurav   29   Chinese        14.43"
      ]
     },
     "execution_count": 7,
     "metadata": {},
     "output_type": "execute_result"
    }
   ],
   "source": [
    "room_exp"
   ]
  },
  {
   "cell_type": "code",
   "execution_count": 188,
   "id": "c4b8c049-a071-40da-9521-20ff59d14dac",
   "metadata": {},
   "outputs": [
    {
     "data": {
      "text/plain": [
       "0    24\n",
       "1    18\n",
       "2    27\n",
       "3    19\n",
       "4    17\n",
       "5    12\n",
       "6    11\n",
       "7    12\n",
       "8    18\n",
       "9    14\n",
       "Name: Expenditure, dtype: int64"
      ]
     },
     "execution_count": 188,
     "metadata": {},
     "output_type": "execute_result"
    }
   ],
   "source": [
    "# Converting floating point values to integers\n",
    "room_exp['Expenditure'].astype(int)"
   ]
  },
  {
   "cell_type": "code",
   "execution_count": 190,
   "id": "66aac2a6-3a8c-4ad5-9fa4-f3d4a9775f85",
   "metadata": {},
   "outputs": [
    {
     "data": {
      "text/plain": [
       "Room            object\n",
       "Name            object\n",
       "Age              int64\n",
       "Cuisine         object\n",
       "Expenditure    float64\n",
       "dtype: object"
      ]
     },
     "execution_count": 190,
     "metadata": {},
     "output_type": "execute_result"
    }
   ],
   "source": [
    "room_exp.dtypes"
   ]
  },
  {
   "cell_type": "code",
   "execution_count": 9,
   "id": "43e84aa4-d9b7-4fb2-90be-3ad5ac6ff6e9",
   "metadata": {},
   "outputs": [],
   "source": [
    "newroom = room_exp.convert_dtypes()"
   ]
  },
  {
   "cell_type": "code",
   "execution_count": 194,
   "id": "11ef8975-2d82-45ba-80b3-eef8710aa9f4",
   "metadata": {},
   "outputs": [
    {
     "data": {
      "text/plain": [
       "Room           string[python]\n",
       "Name           string[python]\n",
       "Age                     Int64\n",
       "Cuisine        string[python]\n",
       "Expenditure           Float64\n",
       "dtype: object"
      ]
     },
     "execution_count": 194,
     "metadata": {},
     "output_type": "execute_result"
    }
   ],
   "source": [
    "newroom.dtypes"
   ]
  },
  {
   "cell_type": "code",
   "execution_count": 198,
   "id": "b61fbd3c-3e2a-48f3-851a-b9e8053f0702",
   "metadata": {},
   "outputs": [
    {
     "data": {
      "text/plain": [
       "0    124.65\n",
       "1    118.54\n",
       "2    127.66\n",
       "3    119.54\n",
       "4    117.32\n",
       "5    112.56\n",
       "6    111.09\n",
       "7    112.23\n",
       "8    118.88\n",
       "9    114.43\n",
       "Name: Expenditure, dtype: Float64"
      ]
     },
     "execution_count": 198,
     "metadata": {},
     "output_type": "execute_result"
    }
   ],
   "source": [
    "newroom['Expenditure']+100"
   ]
  },
  {
   "cell_type": "code",
   "execution_count": 200,
   "id": "afd02cc6-2c45-43cf-bd3f-e87c1f53f31e",
   "metadata": {},
   "outputs": [
    {
     "data": {
      "text/html": [
       "<div>\n",
       "<style scoped>\n",
       "    .dataframe tbody tr th:only-of-type {\n",
       "        vertical-align: middle;\n",
       "    }\n",
       "\n",
       "    .dataframe tbody tr th {\n",
       "        vertical-align: top;\n",
       "    }\n",
       "\n",
       "    .dataframe thead th {\n",
       "        text-align: right;\n",
       "    }\n",
       "</style>\n",
       "<table border=\"1\" class=\"dataframe\">\n",
       "  <thead>\n",
       "    <tr style=\"text-align: right;\">\n",
       "      <th></th>\n",
       "      <th>Room</th>\n",
       "      <th>Name</th>\n",
       "      <th>Age</th>\n",
       "      <th>Cuisine</th>\n",
       "      <th>Expenditure</th>\n",
       "    </tr>\n",
       "  </thead>\n",
       "  <tbody>\n",
       "    <tr>\n",
       "      <th>0</th>\n",
       "      <td>A1</td>\n",
       "      <td>Shilpa</td>\n",
       "      <td>18</td>\n",
       "      <td>Indian</td>\n",
       "      <td>24.65</td>\n",
       "    </tr>\n",
       "    <tr>\n",
       "      <th>1</th>\n",
       "      <td>A2</td>\n",
       "      <td>Jaspreet</td>\n",
       "      <td>32</td>\n",
       "      <td>American</td>\n",
       "      <td>18.54</td>\n",
       "    </tr>\n",
       "    <tr>\n",
       "      <th>2</th>\n",
       "      <td>A3</td>\n",
       "      <td>Dominic</td>\n",
       "      <td>19</td>\n",
       "      <td>Indian</td>\n",
       "      <td>27.66</td>\n",
       "    </tr>\n",
       "    <tr>\n",
       "      <th>3</th>\n",
       "      <td>A4</td>\n",
       "      <td>Ahmad</td>\n",
       "      <td>22</td>\n",
       "      <td>American</td>\n",
       "      <td>19.54</td>\n",
       "    </tr>\n",
       "    <tr>\n",
       "      <th>4</th>\n",
       "      <td>A5</td>\n",
       "      <td>Joseph</td>\n",
       "      <td>28</td>\n",
       "      <td>Indian</td>\n",
       "      <td>17.32</td>\n",
       "    </tr>\n",
       "    <tr>\n",
       "      <th>5</th>\n",
       "      <td>A6</td>\n",
       "      <td>Saju</td>\n",
       "      <td>31</td>\n",
       "      <td>Indian</td>\n",
       "      <td>12.56</td>\n",
       "    </tr>\n",
       "    <tr>\n",
       "      <th>6</th>\n",
       "      <td>A7</td>\n",
       "      <td>Monica</td>\n",
       "      <td>48</td>\n",
       "      <td>Chinese</td>\n",
       "      <td>11.09</td>\n",
       "    </tr>\n",
       "    <tr>\n",
       "      <th>7</th>\n",
       "      <td>A8</td>\n",
       "      <td>Preeti</td>\n",
       "      <td>67</td>\n",
       "      <td>American</td>\n",
       "      <td>12.23</td>\n",
       "    </tr>\n",
       "    <tr>\n",
       "      <th>8</th>\n",
       "      <td>A9</td>\n",
       "      <td>Emma</td>\n",
       "      <td>24</td>\n",
       "      <td>Indian</td>\n",
       "      <td>18.88</td>\n",
       "    </tr>\n",
       "    <tr>\n",
       "      <th>9</th>\n",
       "      <td>A10</td>\n",
       "      <td>Gaurav</td>\n",
       "      <td>29</td>\n",
       "      <td>Chinese</td>\n",
       "      <td>14.43</td>\n",
       "    </tr>\n",
       "  </tbody>\n",
       "</table>\n",
       "</div>"
      ],
      "text/plain": [
       "  Room      Name  Age   Cuisine  Expenditure\n",
       "0   A1    Shilpa   18    Indian        24.65\n",
       "1   A2  Jaspreet   32  American        18.54\n",
       "2   A3   Dominic   19    Indian        27.66\n",
       "3   A4     Ahmad   22  American        19.54\n",
       "4   A5    Joseph   28    Indian        17.32\n",
       "5   A6      Saju   31    Indian        12.56\n",
       "6   A7    Monica   48   Chinese        11.09\n",
       "7   A8    Preeti   67  American        12.23\n",
       "8   A9      Emma   24    Indian        18.88\n",
       "9  A10    Gaurav   29   Chinese        14.43"
      ]
     },
     "execution_count": 200,
     "metadata": {},
     "output_type": "execute_result"
    }
   ],
   "source": [
    "newroom"
   ]
  },
  {
   "cell_type": "code",
   "execution_count": 202,
   "id": "6cf719ea-fb39-44b8-a75b-a87029026707",
   "metadata": {},
   "outputs": [
    {
     "data": {
      "text/plain": [
       "0    14.65\n",
       "1     8.54\n",
       "2    17.66\n",
       "3     9.54\n",
       "4     7.32\n",
       "5     2.56\n",
       "6     1.09\n",
       "7     2.23\n",
       "8     8.88\n",
       "9     4.43\n",
       "Name: Expenditure, dtype: Float64"
      ]
     },
     "execution_count": 202,
     "metadata": {},
     "output_type": "execute_result"
    }
   ],
   "source": [
    "newroom['Expenditure']-10"
   ]
  },
  {
   "cell_type": "code",
   "execution_count": 214,
   "id": "673f54f5-6c6e-46b6-a86c-c2a9a775a958",
   "metadata": {},
   "outputs": [
    {
     "data": {
      "text/html": [
       "<div>\n",
       "<style scoped>\n",
       "    .dataframe tbody tr th:only-of-type {\n",
       "        vertical-align: middle;\n",
       "    }\n",
       "\n",
       "    .dataframe tbody tr th {\n",
       "        vertical-align: top;\n",
       "    }\n",
       "\n",
       "    .dataframe thead th {\n",
       "        text-align: right;\n",
       "    }\n",
       "</style>\n",
       "<table border=\"1\" class=\"dataframe\">\n",
       "  <thead>\n",
       "    <tr style=\"text-align: right;\">\n",
       "      <th></th>\n",
       "      <th>Expenditure</th>\n",
       "    </tr>\n",
       "  </thead>\n",
       "  <tbody>\n",
       "    <tr>\n",
       "      <th>0</th>\n",
       "      <td>124.65</td>\n",
       "    </tr>\n",
       "    <tr>\n",
       "      <th>1</th>\n",
       "      <td>118.54</td>\n",
       "    </tr>\n",
       "    <tr>\n",
       "      <th>2</th>\n",
       "      <td>127.66</td>\n",
       "    </tr>\n",
       "    <tr>\n",
       "      <th>3</th>\n",
       "      <td>119.54</td>\n",
       "    </tr>\n",
       "    <tr>\n",
       "      <th>4</th>\n",
       "      <td>117.32</td>\n",
       "    </tr>\n",
       "    <tr>\n",
       "      <th>5</th>\n",
       "      <td>112.56</td>\n",
       "    </tr>\n",
       "  </tbody>\n",
       "</table>\n",
       "</div>"
      ],
      "text/plain": [
       "   Expenditure\n",
       "0       124.65\n",
       "1       118.54\n",
       "2       127.66\n",
       "3       119.54\n",
       "4       117.32\n",
       "5       112.56"
      ]
     },
     "execution_count": 214,
     "metadata": {},
     "output_type": "execute_result"
    }
   ],
   "source": [
    "newroom.loc[0:5,['Expenditure']].add(100)"
   ]
  },
  {
   "cell_type": "markdown",
   "id": "6d57cf5f-3943-4118-86c7-1b8fc0f3575f",
   "metadata": {},
   "source": [
    "In Pandas' .loc[] indexing, the end index is inclusive, unlike .iloc[], where the end index is exclusive."
   ]
  },
  {
   "cell_type": "markdown",
   "id": "f659149e-be2a-477b-9c78-3a4d90aacb2f",
   "metadata": {},
   "source": [
    "The '.add()' method allows you to specify a fill_value argument. For instance, if there are NaN values, you can fill them with a value (like 0) before performing the addition. In this case, it can fill any NaN in the Age column with 0 before adding 5."
   ]
  },
  {
   "cell_type": "code",
   "execution_count": 217,
   "id": "cc3f1f01-174e-4d88-abd3-f503672247fb",
   "metadata": {},
   "outputs": [
    {
     "data": {
      "text/plain": [
       "0    23\n",
       "1    37\n",
       "2    24\n",
       "3    27\n",
       "4    33\n",
       "5    36\n",
       "6    53\n",
       "7    72\n",
       "8    29\n",
       "9    34\n",
       "Name: Age, dtype: Int64"
      ]
     },
     "execution_count": 217,
     "metadata": {},
     "output_type": "execute_result"
    }
   ],
   "source": [
    "newroom['Age'].add(5, fill_value=0)"
   ]
  },
  {
   "cell_type": "markdown",
   "id": "98c67aa1-deb5-462f-8d00-99d0349c4da9",
   "metadata": {},
   "source": [
    "Likewise, to perform subtraction we can use the sub() function as follows."
   ]
  },
  {
   "cell_type": "code",
   "execution_count": 225,
   "id": "040879f8-260e-4ac7-9147-2d0e39fefa0e",
   "metadata": {},
   "outputs": [
    {
     "data": {
      "text/plain": [
       "0     8\n",
       "1    22\n",
       "2     9\n",
       "3    12\n",
       "4    18\n",
       "5    21\n",
       "6    38\n",
       "7    57\n",
       "8    14\n",
       "9    19\n",
       "Name: Age, dtype: Int64"
      ]
     },
     "execution_count": 225,
     "metadata": {},
     "output_type": "execute_result"
    }
   ],
   "source": [
    "newroom['Age'].sub(10)"
   ]
  },
  {
   "cell_type": "code",
   "execution_count": 231,
   "id": "8b5db8c1-b9b5-4c1b-ae1e-f01da3b04dc8",
   "metadata": {},
   "outputs": [
    {
     "data": {
      "text/plain": [
       "0     3.6\n",
       "1     6.4\n",
       "2     3.8\n",
       "3     4.4\n",
       "4     5.6\n",
       "5     6.2\n",
       "6     9.6\n",
       "7    13.4\n",
       "8     4.8\n",
       "9     5.8\n",
       "Name: Age, dtype: Float64"
      ]
     },
     "execution_count": 231,
     "metadata": {},
     "output_type": "execute_result"
    }
   ],
   "source": [
    "newroom['Age'].div(5)"
   ]
  },
  {
   "cell_type": "code",
   "execution_count": 233,
   "id": "d560de5f-d87c-468b-92da-e4c75b036d04",
   "metadata": {},
   "outputs": [
    {
     "data": {
      "text/plain": [
       "0    1800\n",
       "1    3200\n",
       "2    1900\n",
       "3    2200\n",
       "4    2800\n",
       "5    3100\n",
       "6    4800\n",
       "7    6700\n",
       "8    2400\n",
       "9    2900\n",
       "Name: Age, dtype: Int64"
      ]
     },
     "execution_count": 233,
     "metadata": {},
     "output_type": "execute_result"
    }
   ],
   "source": [
    "newroom['Age'].mul(100)"
   ]
  },
  {
   "cell_type": "markdown",
   "id": "226b923a-a611-4c6b-9793-c70cdbe89308",
   "metadata": {},
   "source": [
    "We can also perform inter-column operations, meaning, adding or subtracting two columns. Consider the following example."
   ]
  },
  {
   "cell_type": "code",
   "execution_count": 238,
   "id": "a26ba964-8458-4da6-b27b-b55f555696b1",
   "metadata": {},
   "outputs": [
    {
     "data": {
      "text/plain": [
       "0    42.65\n",
       "1    50.54\n",
       "2    46.66\n",
       "3    41.54\n",
       "4    45.32\n",
       "5    43.56\n",
       "6    59.09\n",
       "7    79.23\n",
       "8    42.88\n",
       "9    43.43\n",
       "dtype: Float64"
      ]
     },
     "execution_count": 238,
     "metadata": {},
     "output_type": "execute_result"
    }
   ],
   "source": [
    "newroom['Age'] + newroom['Expenditure'] # in here twoo different column add each other "
   ]
  },
  {
   "cell_type": "code",
   "execution_count": 240,
   "id": "37d5e0f0-01ea-41dd-a94e-a7a7447d881a",
   "metadata": {},
   "outputs": [
    {
     "data": {
      "text/plain": [
       "0    42.65\n",
       "1    50.54\n",
       "2    46.66\n",
       "3    41.54\n",
       "4    45.32\n",
       "5    43.56\n",
       "6    59.09\n",
       "7    79.23\n",
       "8    42.88\n",
       "9    43.43\n",
       "dtype: Float64"
      ]
     },
     "execution_count": 240,
     "metadata": {},
     "output_type": "execute_result"
    }
   ],
   "source": [
    "newroom['Age']+room_exp['Expenditure'] # in her two different column from different files"
   ]
  },
  {
   "cell_type": "markdown",
   "id": "df8429f2-8742-4f7e-afda-3740c2c26661",
   "metadata": {},
   "source": [
    "we can perform inter-column addition between string columns.  However, the result obtained would be a dataframe object with the strings concatenated.  See the following example.\n",
    "\n"
   ]
  },
  {
   "cell_type": "code",
   "execution_count": 251,
   "id": "5441a3e0-8eb3-4138-bcdb-a3f5888a58bc",
   "metadata": {},
   "outputs": [
    {
     "data": {
      "text/plain": [
       "0        ShilpaIndian\n",
       "1    JaspreetAmerican\n",
       "2       DominicIndian\n",
       "3       AhmadAmerican\n",
       "4        JosephIndian\n",
       "5          SajuIndian\n",
       "6       MonicaChinese\n",
       "7      PreetiAmerican\n",
       "8          EmmaIndian\n",
       "9       GauravChinese\n",
       "dtype: string"
      ]
     },
     "execution_count": 251,
     "metadata": {},
     "output_type": "execute_result"
    }
   ],
   "source": [
    "newroom['Name']+newroom['Cuisine']"
   ]
  },
  {
   "cell_type": "raw",
   "id": "22f8be57-1c70-4620-ac31-0178cfb5a92a",
   "metadata": {},
   "source": [
    "newroom['Full_Info'] = newroom['Name'] + ' ' + newroom['Cuisine']\n",
    "print(newroom[['Full_Info']])  # Display the new column in between space  this is my experiment \n"
   ]
  },
  {
   "cell_type": "code",
   "execution_count": 268,
   "id": "961552bd-134e-4b83-b12d-04a82a43069a",
   "metadata": {},
   "outputs": [
    {
     "data": {
      "text/html": [
       "<div>\n",
       "<style scoped>\n",
       "    .dataframe tbody tr th:only-of-type {\n",
       "        vertical-align: middle;\n",
       "    }\n",
       "\n",
       "    .dataframe tbody tr th {\n",
       "        vertical-align: top;\n",
       "    }\n",
       "\n",
       "    .dataframe thead th {\n",
       "        text-align: right;\n",
       "    }\n",
       "</style>\n",
       "<table border=\"1\" class=\"dataframe\">\n",
       "  <thead>\n",
       "    <tr style=\"text-align: right;\">\n",
       "      <th></th>\n",
       "      <th>Room</th>\n",
       "      <th>Name</th>\n",
       "      <th>Age</th>\n",
       "      <th>Cuisine</th>\n",
       "      <th>Expenditure</th>\n",
       "    </tr>\n",
       "  </thead>\n",
       "  <tbody>\n",
       "    <tr>\n",
       "      <th>0</th>\n",
       "      <td>A1</td>\n",
       "      <td>Shilpa</td>\n",
       "      <td>18</td>\n",
       "      <td>Indian</td>\n",
       "      <td>25.0</td>\n",
       "    </tr>\n",
       "    <tr>\n",
       "      <th>1</th>\n",
       "      <td>A2</td>\n",
       "      <td>Jaspreet</td>\n",
       "      <td>32</td>\n",
       "      <td>American</td>\n",
       "      <td>19.0</td>\n",
       "    </tr>\n",
       "    <tr>\n",
       "      <th>2</th>\n",
       "      <td>A3</td>\n",
       "      <td>Dominic</td>\n",
       "      <td>19</td>\n",
       "      <td>Indian</td>\n",
       "      <td>28.0</td>\n",
       "    </tr>\n",
       "    <tr>\n",
       "      <th>3</th>\n",
       "      <td>A4</td>\n",
       "      <td>Ahmad</td>\n",
       "      <td>22</td>\n",
       "      <td>American</td>\n",
       "      <td>20.0</td>\n",
       "    </tr>\n",
       "    <tr>\n",
       "      <th>4</th>\n",
       "      <td>A5</td>\n",
       "      <td>Joseph</td>\n",
       "      <td>28</td>\n",
       "      <td>Indian</td>\n",
       "      <td>17.0</td>\n",
       "    </tr>\n",
       "    <tr>\n",
       "      <th>5</th>\n",
       "      <td>A6</td>\n",
       "      <td>Saju</td>\n",
       "      <td>31</td>\n",
       "      <td>Indian</td>\n",
       "      <td>13.0</td>\n",
       "    </tr>\n",
       "    <tr>\n",
       "      <th>6</th>\n",
       "      <td>A7</td>\n",
       "      <td>Monica</td>\n",
       "      <td>48</td>\n",
       "      <td>Chinese</td>\n",
       "      <td>11.0</td>\n",
       "    </tr>\n",
       "    <tr>\n",
       "      <th>7</th>\n",
       "      <td>A8</td>\n",
       "      <td>Preeti</td>\n",
       "      <td>67</td>\n",
       "      <td>American</td>\n",
       "      <td>12.0</td>\n",
       "    </tr>\n",
       "    <tr>\n",
       "      <th>8</th>\n",
       "      <td>A9</td>\n",
       "      <td>Emma</td>\n",
       "      <td>24</td>\n",
       "      <td>Indian</td>\n",
       "      <td>19.0</td>\n",
       "    </tr>\n",
       "    <tr>\n",
       "      <th>9</th>\n",
       "      <td>A10</td>\n",
       "      <td>Gaurav</td>\n",
       "      <td>29</td>\n",
       "      <td>Chinese</td>\n",
       "      <td>14.0</td>\n",
       "    </tr>\n",
       "  </tbody>\n",
       "</table>\n",
       "</div>"
      ],
      "text/plain": [
       "  Room      Name  Age   Cuisine  Expenditure\n",
       "0   A1    Shilpa   18    Indian         25.0\n",
       "1   A2  Jaspreet   32  American         19.0\n",
       "2   A3   Dominic   19    Indian         28.0\n",
       "3   A4     Ahmad   22  American         20.0\n",
       "4   A5    Joseph   28    Indian         17.0\n",
       "5   A6      Saju   31    Indian         13.0\n",
       "6   A7    Monica   48   Chinese         11.0\n",
       "7   A8    Preeti   67  American         12.0\n",
       "8   A9      Emma   24    Indian         19.0\n",
       "9  A10    Gaurav   29   Chinese         14.0"
      ]
     },
     "execution_count": 268,
     "metadata": {},
     "output_type": "execute_result"
    }
   ],
   "source": [
    "newroom.round()"
   ]
  },
  {
   "cell_type": "markdown",
   "id": "985c5bbb-25f8-49d5-b80c-ffe602cbf257",
   "metadata": {},
   "source": [
    "## Statistical Operations"
   ]
  },
  {
   "cell_type": "code",
   "execution_count": 279,
   "id": "2f7cdd18-1d0f-4f49-b4de-2e33c6b04868",
   "metadata": {},
   "outputs": [
    {
     "data": {
      "text/plain": [
       "np.float64(176.9)"
      ]
     },
     "execution_count": 279,
     "metadata": {},
     "output_type": "execute_result"
    }
   ],
   "source": [
    "newroom['Expenditure'].sum()"
   ]
  },
  {
   "cell_type": "code",
   "execution_count": 281,
   "id": "a32d77b0-8896-4e94-87ec-efcf995b65dc",
   "metadata": {},
   "outputs": [
    {
     "data": {
      "text/plain": [
       "np.float64(17.69)"
      ]
     },
     "execution_count": 281,
     "metadata": {},
     "output_type": "execute_result"
    }
   ],
   "source": [
    "newroom['Expenditure'].mean()"
   ]
  },
  {
   "cell_type": "code",
   "execution_count": 283,
   "id": "f0039544-6d17-4c14-a87a-d737b4e0ac36",
   "metadata": {},
   "outputs": [
    {
     "data": {
      "text/plain": [
       "np.float64(27.66)"
      ]
     },
     "execution_count": 283,
     "metadata": {},
     "output_type": "execute_result"
    }
   ],
   "source": [
    "newroom['Expenditure'].max()"
   ]
  },
  {
   "cell_type": "code",
   "execution_count": 285,
   "id": "ab1f745b-ee4d-4ef6-8cd9-3fc27debf676",
   "metadata": {},
   "outputs": [
    {
     "data": {
      "text/plain": [
       "np.float64(11.09)"
      ]
     },
     "execution_count": 285,
     "metadata": {},
     "output_type": "execute_result"
    }
   ],
   "source": [
    "newroom['Expenditure'].min()"
   ]
  },
  {
   "cell_type": "code",
   "execution_count": 21,
   "id": "9e2b0d4a-b9dd-451d-a7f9-a489cf26d86e",
   "metadata": {},
   "outputs": [
    {
     "data": {
      "text/plain": [
       "6"
      ]
     },
     "execution_count": 21,
     "metadata": {},
     "output_type": "execute_result"
    }
   ],
   "source": [
    "newroom['Expenditure'].idxmin() #The code df['Age'].idxmin() is used in pandas to find the index of the row where the minimum value occurs in the 'Age' column."
   ]
  },
  {
   "cell_type": "code",
   "execution_count": 23,
   "id": "e357b85a-38fd-4b07-ac49-81e46b700bb0",
   "metadata": {},
   "outputs": [
    {
     "data": {
      "text/plain": [
       "2"
      ]
     },
     "execution_count": 23,
     "metadata": {},
     "output_type": "execute_result"
    }
   ],
   "source": [
    "newroom['Expenditure'].idxmax() "
   ]
  },
  {
   "cell_type": "code",
   "execution_count": 27,
   "id": "ff1c0f4d-b023-4cd6-ba3a-e9ea91e8d126",
   "metadata": {},
   "outputs": [
    {
     "data": {
      "text/html": [
       "<div>\n",
       "<style scoped>\n",
       "    .dataframe tbody tr th:only-of-type {\n",
       "        vertical-align: middle;\n",
       "    }\n",
       "\n",
       "    .dataframe tbody tr th {\n",
       "        vertical-align: top;\n",
       "    }\n",
       "\n",
       "    .dataframe thead th {\n",
       "        text-align: right;\n",
       "    }\n",
       "</style>\n",
       "<table border=\"1\" class=\"dataframe\">\n",
       "  <thead>\n",
       "    <tr style=\"text-align: right;\">\n",
       "      <th></th>\n",
       "      <th>Age</th>\n",
       "      <th>Expenditure</th>\n",
       "    </tr>\n",
       "  </thead>\n",
       "  <tbody>\n",
       "    <tr>\n",
       "      <th>count</th>\n",
       "      <td>10.0</td>\n",
       "      <td>10.0</td>\n",
       "    </tr>\n",
       "    <tr>\n",
       "      <th>mean</th>\n",
       "      <td>31.8</td>\n",
       "      <td>17.69</td>\n",
       "    </tr>\n",
       "    <tr>\n",
       "      <th>std</th>\n",
       "      <td>15.039208</td>\n",
       "      <td>5.414554</td>\n",
       "    </tr>\n",
       "    <tr>\n",
       "      <th>min</th>\n",
       "      <td>18.0</td>\n",
       "      <td>11.09</td>\n",
       "    </tr>\n",
       "    <tr>\n",
       "      <th>25%</th>\n",
       "      <td>22.5</td>\n",
       "      <td>13.0275</td>\n",
       "    </tr>\n",
       "    <tr>\n",
       "      <th>50%</th>\n",
       "      <td>28.5</td>\n",
       "      <td>17.93</td>\n",
       "    </tr>\n",
       "    <tr>\n",
       "      <th>75%</th>\n",
       "      <td>31.75</td>\n",
       "      <td>19.375</td>\n",
       "    </tr>\n",
       "    <tr>\n",
       "      <th>max</th>\n",
       "      <td>67.0</td>\n",
       "      <td>27.66</td>\n",
       "    </tr>\n",
       "  </tbody>\n",
       "</table>\n",
       "</div>"
      ],
      "text/plain": [
       "             Age  Expenditure\n",
       "count       10.0         10.0\n",
       "mean        31.8        17.69\n",
       "std    15.039208     5.414554\n",
       "min         18.0        11.09\n",
       "25%         22.5      13.0275\n",
       "50%         28.5        17.93\n",
       "75%        31.75       19.375\n",
       "max         67.0        27.66"
      ]
     },
     "execution_count": 27,
     "metadata": {},
     "output_type": "execute_result"
    }
   ],
   "source": [
    "newroom.describe()"
   ]
  },
  {
   "cell_type": "code",
   "execution_count": 35,
   "id": "fc851437-4b56-46b6-83e6-aa572f9f499b",
   "metadata": {},
   "outputs": [
    {
     "data": {
      "text/plain": [
       "0    Indian\n",
       "Name: Cuisine, dtype: string"
      ]
     },
     "execution_count": 35,
     "metadata": {},
     "output_type": "execute_result"
    }
   ],
   "source": [
    "newroom['Cuisine'].mode()"
   ]
  },
  {
   "cell_type": "code",
   "execution_count": 37,
   "id": "b71a0c6f-fe2e-4338-9d41-e6da6f29cb32",
   "metadata": {},
   "outputs": [
    {
     "data": {
      "text/html": [
       "<div>\n",
       "<style scoped>\n",
       "    .dataframe tbody tr th:only-of-type {\n",
       "        vertical-align: middle;\n",
       "    }\n",
       "\n",
       "    .dataframe tbody tr th {\n",
       "        vertical-align: top;\n",
       "    }\n",
       "\n",
       "    .dataframe thead th {\n",
       "        text-align: right;\n",
       "    }\n",
       "</style>\n",
       "<table border=\"1\" class=\"dataframe\">\n",
       "  <thead>\n",
       "    <tr style=\"text-align: right;\">\n",
       "      <th></th>\n",
       "      <th>Room</th>\n",
       "      <th>Name</th>\n",
       "      <th>Age</th>\n",
       "      <th>Cuisine</th>\n",
       "      <th>Expenditure</th>\n",
       "    </tr>\n",
       "  </thead>\n",
       "  <tbody>\n",
       "    <tr>\n",
       "      <th>6</th>\n",
       "      <td>A7</td>\n",
       "      <td>Monica</td>\n",
       "      <td>48</td>\n",
       "      <td>Chinese</td>\n",
       "      <td>11.09</td>\n",
       "    </tr>\n",
       "    <tr>\n",
       "      <th>7</th>\n",
       "      <td>A8</td>\n",
       "      <td>Preeti</td>\n",
       "      <td>67</td>\n",
       "      <td>American</td>\n",
       "      <td>12.23</td>\n",
       "    </tr>\n",
       "    <tr>\n",
       "      <th>5</th>\n",
       "      <td>A6</td>\n",
       "      <td>Saju</td>\n",
       "      <td>31</td>\n",
       "      <td>Indian</td>\n",
       "      <td>12.56</td>\n",
       "    </tr>\n",
       "    <tr>\n",
       "      <th>9</th>\n",
       "      <td>A10</td>\n",
       "      <td>Gaurav</td>\n",
       "      <td>29</td>\n",
       "      <td>Chinese</td>\n",
       "      <td>14.43</td>\n",
       "    </tr>\n",
       "    <tr>\n",
       "      <th>4</th>\n",
       "      <td>A5</td>\n",
       "      <td>Joseph</td>\n",
       "      <td>28</td>\n",
       "      <td>Indian</td>\n",
       "      <td>17.32</td>\n",
       "    </tr>\n",
       "    <tr>\n",
       "      <th>1</th>\n",
       "      <td>A2</td>\n",
       "      <td>Jaspreet</td>\n",
       "      <td>32</td>\n",
       "      <td>American</td>\n",
       "      <td>18.54</td>\n",
       "    </tr>\n",
       "    <tr>\n",
       "      <th>8</th>\n",
       "      <td>A9</td>\n",
       "      <td>Emma</td>\n",
       "      <td>24</td>\n",
       "      <td>Indian</td>\n",
       "      <td>18.88</td>\n",
       "    </tr>\n",
       "    <tr>\n",
       "      <th>3</th>\n",
       "      <td>A4</td>\n",
       "      <td>Ahmad</td>\n",
       "      <td>22</td>\n",
       "      <td>American</td>\n",
       "      <td>19.54</td>\n",
       "    </tr>\n",
       "    <tr>\n",
       "      <th>0</th>\n",
       "      <td>A1</td>\n",
       "      <td>Shilpa</td>\n",
       "      <td>18</td>\n",
       "      <td>Indian</td>\n",
       "      <td>24.65</td>\n",
       "    </tr>\n",
       "    <tr>\n",
       "      <th>2</th>\n",
       "      <td>A3</td>\n",
       "      <td>Dominic</td>\n",
       "      <td>19</td>\n",
       "      <td>Indian</td>\n",
       "      <td>27.66</td>\n",
       "    </tr>\n",
       "  </tbody>\n",
       "</table>\n",
       "</div>"
      ],
      "text/plain": [
       "  Room      Name  Age   Cuisine  Expenditure\n",
       "6   A7    Monica   48   Chinese        11.09\n",
       "7   A8    Preeti   67  American        12.23\n",
       "5   A6      Saju   31    Indian        12.56\n",
       "9  A10    Gaurav   29   Chinese        14.43\n",
       "4   A5    Joseph   28    Indian        17.32\n",
       "1   A2  Jaspreet   32  American        18.54\n",
       "8   A9      Emma   24    Indian        18.88\n",
       "3   A4     Ahmad   22  American        19.54\n",
       "0   A1    Shilpa   18    Indian        24.65\n",
       "2   A3   Dominic   19    Indian        27.66"
      ]
     },
     "execution_count": 37,
     "metadata": {},
     "output_type": "execute_result"
    }
   ],
   "source": [
    "newroom.sort_values(['Expenditure'])"
   ]
  },
  {
   "cell_type": "code",
   "execution_count": 49,
   "id": "8c701ccb-344f-4093-9a65-ae7448163779",
   "metadata": {},
   "outputs": [
    {
     "data": {
      "text/html": [
       "<div>\n",
       "<style scoped>\n",
       "    .dataframe tbody tr th:only-of-type {\n",
       "        vertical-align: middle;\n",
       "    }\n",
       "\n",
       "    .dataframe tbody tr th {\n",
       "        vertical-align: top;\n",
       "    }\n",
       "\n",
       "    .dataframe thead th {\n",
       "        text-align: right;\n",
       "    }\n",
       "</style>\n",
       "<table border=\"1\" class=\"dataframe\">\n",
       "  <thead>\n",
       "    <tr style=\"text-align: right;\">\n",
       "      <th></th>\n",
       "      <th>Room</th>\n",
       "      <th>Name</th>\n",
       "      <th>Age</th>\n",
       "      <th>Cuisine</th>\n",
       "      <th>Expenditure</th>\n",
       "    </tr>\n",
       "  </thead>\n",
       "  <tbody>\n",
       "    <tr>\n",
       "      <th>2</th>\n",
       "      <td>A3</td>\n",
       "      <td>Dominic</td>\n",
       "      <td>19</td>\n",
       "      <td>Indian</td>\n",
       "      <td>27.66</td>\n",
       "    </tr>\n",
       "    <tr>\n",
       "      <th>0</th>\n",
       "      <td>A1</td>\n",
       "      <td>Shilpa</td>\n",
       "      <td>18</td>\n",
       "      <td>Indian</td>\n",
       "      <td>24.65</td>\n",
       "    </tr>\n",
       "    <tr>\n",
       "      <th>3</th>\n",
       "      <td>A4</td>\n",
       "      <td>Ahmad</td>\n",
       "      <td>22</td>\n",
       "      <td>American</td>\n",
       "      <td>19.54</td>\n",
       "    </tr>\n",
       "    <tr>\n",
       "      <th>8</th>\n",
       "      <td>A9</td>\n",
       "      <td>Emma</td>\n",
       "      <td>24</td>\n",
       "      <td>Indian</td>\n",
       "      <td>18.88</td>\n",
       "    </tr>\n",
       "    <tr>\n",
       "      <th>1</th>\n",
       "      <td>A2</td>\n",
       "      <td>Jaspreet</td>\n",
       "      <td>32</td>\n",
       "      <td>American</td>\n",
       "      <td>18.54</td>\n",
       "    </tr>\n",
       "    <tr>\n",
       "      <th>4</th>\n",
       "      <td>A5</td>\n",
       "      <td>Joseph</td>\n",
       "      <td>28</td>\n",
       "      <td>Indian</td>\n",
       "      <td>17.32</td>\n",
       "    </tr>\n",
       "    <tr>\n",
       "      <th>9</th>\n",
       "      <td>A10</td>\n",
       "      <td>Gaurav</td>\n",
       "      <td>29</td>\n",
       "      <td>Chinese</td>\n",
       "      <td>14.43</td>\n",
       "    </tr>\n",
       "    <tr>\n",
       "      <th>5</th>\n",
       "      <td>A6</td>\n",
       "      <td>Saju</td>\n",
       "      <td>31</td>\n",
       "      <td>Indian</td>\n",
       "      <td>12.56</td>\n",
       "    </tr>\n",
       "    <tr>\n",
       "      <th>7</th>\n",
       "      <td>A8</td>\n",
       "      <td>Preeti</td>\n",
       "      <td>67</td>\n",
       "      <td>American</td>\n",
       "      <td>12.23</td>\n",
       "    </tr>\n",
       "    <tr>\n",
       "      <th>6</th>\n",
       "      <td>A7</td>\n",
       "      <td>Monica</td>\n",
       "      <td>48</td>\n",
       "      <td>Chinese</td>\n",
       "      <td>11.09</td>\n",
       "    </tr>\n",
       "  </tbody>\n",
       "</table>\n",
       "</div>"
      ],
      "text/plain": [
       "  Room      Name  Age   Cuisine  Expenditure\n",
       "2   A3   Dominic   19    Indian        27.66\n",
       "0   A1    Shilpa   18    Indian        24.65\n",
       "3   A4     Ahmad   22  American        19.54\n",
       "8   A9      Emma   24    Indian        18.88\n",
       "1   A2  Jaspreet   32  American        18.54\n",
       "4   A5    Joseph   28    Indian        17.32\n",
       "9  A10    Gaurav   29   Chinese        14.43\n",
       "5   A6      Saju   31    Indian        12.56\n",
       "7   A8    Preeti   67  American        12.23\n",
       "6   A7    Monica   48   Chinese        11.09"
      ]
     },
     "execution_count": 49,
     "metadata": {},
     "output_type": "execute_result"
    }
   ],
   "source": [
    "newroom.sort_values(['Expenditure'],ascending = False)"
   ]
  },
  {
   "cell_type": "code",
   "execution_count": 55,
   "id": "ad2ebe30-01d0-4b7c-8e82-8f437fe6abd1",
   "metadata": {},
   "outputs": [
    {
     "data": {
      "text/html": [
       "<div>\n",
       "<style scoped>\n",
       "    .dataframe tbody tr th:only-of-type {\n",
       "        vertical-align: middle;\n",
       "    }\n",
       "\n",
       "    .dataframe tbody tr th {\n",
       "        vertical-align: top;\n",
       "    }\n",
       "\n",
       "    .dataframe thead th {\n",
       "        text-align: right;\n",
       "    }\n",
       "</style>\n",
       "<table border=\"1\" class=\"dataframe\">\n",
       "  <thead>\n",
       "    <tr style=\"text-align: right;\">\n",
       "      <th></th>\n",
       "      <th>Room</th>\n",
       "      <th>Name</th>\n",
       "      <th>Age</th>\n",
       "      <th>Cuisine</th>\n",
       "      <th>Expenditure</th>\n",
       "    </tr>\n",
       "  </thead>\n",
       "  <tbody>\n",
       "    <tr>\n",
       "      <th>2</th>\n",
       "      <td>A3</td>\n",
       "      <td>Dominic</td>\n",
       "      <td>19</td>\n",
       "      <td>Indian</td>\n",
       "      <td>27.66</td>\n",
       "    </tr>\n",
       "    <tr>\n",
       "      <th>0</th>\n",
       "      <td>A1</td>\n",
       "      <td>Shilpa</td>\n",
       "      <td>18</td>\n",
       "      <td>Indian</td>\n",
       "      <td>24.65</td>\n",
       "    </tr>\n",
       "    <tr>\n",
       "      <th>8</th>\n",
       "      <td>A9</td>\n",
       "      <td>Emma</td>\n",
       "      <td>24</td>\n",
       "      <td>Indian</td>\n",
       "      <td>18.88</td>\n",
       "    </tr>\n",
       "    <tr>\n",
       "      <th>4</th>\n",
       "      <td>A5</td>\n",
       "      <td>Joseph</td>\n",
       "      <td>28</td>\n",
       "      <td>Indian</td>\n",
       "      <td>17.32</td>\n",
       "    </tr>\n",
       "    <tr>\n",
       "      <th>5</th>\n",
       "      <td>A6</td>\n",
       "      <td>Saju</td>\n",
       "      <td>31</td>\n",
       "      <td>Indian</td>\n",
       "      <td>12.56</td>\n",
       "    </tr>\n",
       "    <tr>\n",
       "      <th>9</th>\n",
       "      <td>A10</td>\n",
       "      <td>Gaurav</td>\n",
       "      <td>29</td>\n",
       "      <td>Chinese</td>\n",
       "      <td>14.43</td>\n",
       "    </tr>\n",
       "    <tr>\n",
       "      <th>6</th>\n",
       "      <td>A7</td>\n",
       "      <td>Monica</td>\n",
       "      <td>48</td>\n",
       "      <td>Chinese</td>\n",
       "      <td>11.09</td>\n",
       "    </tr>\n",
       "    <tr>\n",
       "      <th>3</th>\n",
       "      <td>A4</td>\n",
       "      <td>Ahmad</td>\n",
       "      <td>22</td>\n",
       "      <td>American</td>\n",
       "      <td>19.54</td>\n",
       "    </tr>\n",
       "    <tr>\n",
       "      <th>1</th>\n",
       "      <td>A2</td>\n",
       "      <td>Jaspreet</td>\n",
       "      <td>32</td>\n",
       "      <td>American</td>\n",
       "      <td>18.54</td>\n",
       "    </tr>\n",
       "    <tr>\n",
       "      <th>7</th>\n",
       "      <td>A8</td>\n",
       "      <td>Preeti</td>\n",
       "      <td>67</td>\n",
       "      <td>American</td>\n",
       "      <td>12.23</td>\n",
       "    </tr>\n",
       "  </tbody>\n",
       "</table>\n",
       "</div>"
      ],
      "text/plain": [
       "  Room      Name  Age   Cuisine  Expenditure\n",
       "2   A3   Dominic   19    Indian        27.66\n",
       "0   A1    Shilpa   18    Indian        24.65\n",
       "8   A9      Emma   24    Indian        18.88\n",
       "4   A5    Joseph   28    Indian        17.32\n",
       "5   A6      Saju   31    Indian        12.56\n",
       "9  A10    Gaurav   29   Chinese        14.43\n",
       "6   A7    Monica   48   Chinese        11.09\n",
       "3   A4     Ahmad   22  American        19.54\n",
       "1   A2  Jaspreet   32  American        18.54\n",
       "7   A8    Preeti   67  American        12.23"
      ]
     },
     "execution_count": 55,
     "metadata": {},
     "output_type": "execute_result"
    }
   ],
   "source": [
    "newroom.sort_values(['Cuisine','Expenditure'],ascending=False) # sorted according string not integer here the string priroties"
   ]
  },
  {
   "cell_type": "code",
   "execution_count": 57,
   "id": "d7c252dc-240f-4b30-a0c1-1f0de509e2b2",
   "metadata": {},
   "outputs": [
    {
     "data": {
      "text/html": [
       "<div>\n",
       "<style scoped>\n",
       "    .dataframe tbody tr th:only-of-type {\n",
       "        vertical-align: middle;\n",
       "    }\n",
       "\n",
       "    .dataframe tbody tr th {\n",
       "        vertical-align: top;\n",
       "    }\n",
       "\n",
       "    .dataframe thead th {\n",
       "        text-align: right;\n",
       "    }\n",
       "</style>\n",
       "<table border=\"1\" class=\"dataframe\">\n",
       "  <thead>\n",
       "    <tr style=\"text-align: right;\">\n",
       "      <th></th>\n",
       "      <th>Room</th>\n",
       "      <th>Name</th>\n",
       "      <th>Age</th>\n",
       "      <th>Cuisine</th>\n",
       "      <th>Expenditure</th>\n",
       "    </tr>\n",
       "  </thead>\n",
       "  <tbody>\n",
       "    <tr>\n",
       "      <th>0</th>\n",
       "      <td>A1</td>\n",
       "      <td>Shilpa</td>\n",
       "      <td>18</td>\n",
       "      <td>Indian</td>\n",
       "      <td>24.65</td>\n",
       "    </tr>\n",
       "    <tr>\n",
       "      <th>1</th>\n",
       "      <td>A2</td>\n",
       "      <td>Jaspreet</td>\n",
       "      <td>32</td>\n",
       "      <td>American</td>\n",
       "      <td>18.54</td>\n",
       "    </tr>\n",
       "    <tr>\n",
       "      <th>2</th>\n",
       "      <td>A3</td>\n",
       "      <td>Dominic</td>\n",
       "      <td>19</td>\n",
       "      <td>Indian</td>\n",
       "      <td>27.66</td>\n",
       "    </tr>\n",
       "    <tr>\n",
       "      <th>3</th>\n",
       "      <td>A4</td>\n",
       "      <td>Ahmad</td>\n",
       "      <td>22</td>\n",
       "      <td>American</td>\n",
       "      <td>19.54</td>\n",
       "    </tr>\n",
       "    <tr>\n",
       "      <th>4</th>\n",
       "      <td>A5</td>\n",
       "      <td>Joseph</td>\n",
       "      <td>28</td>\n",
       "      <td>Indian</td>\n",
       "      <td>17.32</td>\n",
       "    </tr>\n",
       "    <tr>\n",
       "      <th>5</th>\n",
       "      <td>A6</td>\n",
       "      <td>Saju</td>\n",
       "      <td>31</td>\n",
       "      <td>Indian</td>\n",
       "      <td>12.56</td>\n",
       "    </tr>\n",
       "    <tr>\n",
       "      <th>6</th>\n",
       "      <td>A7</td>\n",
       "      <td>Monica</td>\n",
       "      <td>48</td>\n",
       "      <td>Chinese</td>\n",
       "      <td>11.09</td>\n",
       "    </tr>\n",
       "    <tr>\n",
       "      <th>7</th>\n",
       "      <td>A8</td>\n",
       "      <td>Preeti</td>\n",
       "      <td>67</td>\n",
       "      <td>American</td>\n",
       "      <td>12.23</td>\n",
       "    </tr>\n",
       "    <tr>\n",
       "      <th>8</th>\n",
       "      <td>A9</td>\n",
       "      <td>Emma</td>\n",
       "      <td>24</td>\n",
       "      <td>Indian</td>\n",
       "      <td>18.88</td>\n",
       "    </tr>\n",
       "    <tr>\n",
       "      <th>9</th>\n",
       "      <td>A10</td>\n",
       "      <td>Gaurav</td>\n",
       "      <td>29</td>\n",
       "      <td>Chinese</td>\n",
       "      <td>14.43</td>\n",
       "    </tr>\n",
       "  </tbody>\n",
       "</table>\n",
       "</div>"
      ],
      "text/plain": [
       "  Room      Name  Age   Cuisine  Expenditure\n",
       "0   A1    Shilpa   18    Indian        24.65\n",
       "1   A2  Jaspreet   32  American        18.54\n",
       "2   A3   Dominic   19    Indian        27.66\n",
       "3   A4     Ahmad   22  American        19.54\n",
       "4   A5    Joseph   28    Indian        17.32\n",
       "5   A6      Saju   31    Indian        12.56\n",
       "6   A7    Monica   48   Chinese        11.09\n",
       "7   A8    Preeti   67  American        12.23\n",
       "8   A9      Emma   24    Indian        18.88\n",
       "9  A10    Gaurav   29   Chinese        14.43"
      ]
     },
     "execution_count": 57,
     "metadata": {},
     "output_type": "execute_result"
    }
   ],
   "source": [
    "newroom.sort_index()"
   ]
  },
  {
   "cell_type": "code",
   "execution_count": 59,
   "id": "e9ee3fc2-e667-4728-8e6a-67449abb1f60",
   "metadata": {},
   "outputs": [
    {
     "data": {
      "text/html": [
       "<div>\n",
       "<style scoped>\n",
       "    .dataframe tbody tr th:only-of-type {\n",
       "        vertical-align: middle;\n",
       "    }\n",
       "\n",
       "    .dataframe tbody tr th {\n",
       "        vertical-align: top;\n",
       "    }\n",
       "\n",
       "    .dataframe thead th {\n",
       "        text-align: right;\n",
       "    }\n",
       "</style>\n",
       "<table border=\"1\" class=\"dataframe\">\n",
       "  <thead>\n",
       "    <tr style=\"text-align: right;\">\n",
       "      <th></th>\n",
       "      <th>Room</th>\n",
       "      <th>Name</th>\n",
       "      <th>Age</th>\n",
       "      <th>Cuisine</th>\n",
       "      <th>Expenditure</th>\n",
       "    </tr>\n",
       "  </thead>\n",
       "  <tbody>\n",
       "    <tr>\n",
       "      <th>9</th>\n",
       "      <td>A10</td>\n",
       "      <td>Gaurav</td>\n",
       "      <td>29</td>\n",
       "      <td>Chinese</td>\n",
       "      <td>14.43</td>\n",
       "    </tr>\n",
       "    <tr>\n",
       "      <th>8</th>\n",
       "      <td>A9</td>\n",
       "      <td>Emma</td>\n",
       "      <td>24</td>\n",
       "      <td>Indian</td>\n",
       "      <td>18.88</td>\n",
       "    </tr>\n",
       "    <tr>\n",
       "      <th>7</th>\n",
       "      <td>A8</td>\n",
       "      <td>Preeti</td>\n",
       "      <td>67</td>\n",
       "      <td>American</td>\n",
       "      <td>12.23</td>\n",
       "    </tr>\n",
       "    <tr>\n",
       "      <th>6</th>\n",
       "      <td>A7</td>\n",
       "      <td>Monica</td>\n",
       "      <td>48</td>\n",
       "      <td>Chinese</td>\n",
       "      <td>11.09</td>\n",
       "    </tr>\n",
       "    <tr>\n",
       "      <th>5</th>\n",
       "      <td>A6</td>\n",
       "      <td>Saju</td>\n",
       "      <td>31</td>\n",
       "      <td>Indian</td>\n",
       "      <td>12.56</td>\n",
       "    </tr>\n",
       "    <tr>\n",
       "      <th>4</th>\n",
       "      <td>A5</td>\n",
       "      <td>Joseph</td>\n",
       "      <td>28</td>\n",
       "      <td>Indian</td>\n",
       "      <td>17.32</td>\n",
       "    </tr>\n",
       "    <tr>\n",
       "      <th>3</th>\n",
       "      <td>A4</td>\n",
       "      <td>Ahmad</td>\n",
       "      <td>22</td>\n",
       "      <td>American</td>\n",
       "      <td>19.54</td>\n",
       "    </tr>\n",
       "    <tr>\n",
       "      <th>2</th>\n",
       "      <td>A3</td>\n",
       "      <td>Dominic</td>\n",
       "      <td>19</td>\n",
       "      <td>Indian</td>\n",
       "      <td>27.66</td>\n",
       "    </tr>\n",
       "    <tr>\n",
       "      <th>1</th>\n",
       "      <td>A2</td>\n",
       "      <td>Jaspreet</td>\n",
       "      <td>32</td>\n",
       "      <td>American</td>\n",
       "      <td>18.54</td>\n",
       "    </tr>\n",
       "    <tr>\n",
       "      <th>0</th>\n",
       "      <td>A1</td>\n",
       "      <td>Shilpa</td>\n",
       "      <td>18</td>\n",
       "      <td>Indian</td>\n",
       "      <td>24.65</td>\n",
       "    </tr>\n",
       "  </tbody>\n",
       "</table>\n",
       "</div>"
      ],
      "text/plain": [
       "  Room      Name  Age   Cuisine  Expenditure\n",
       "9  A10    Gaurav   29   Chinese        14.43\n",
       "8   A9      Emma   24    Indian        18.88\n",
       "7   A8    Preeti   67  American        12.23\n",
       "6   A7    Monica   48   Chinese        11.09\n",
       "5   A6      Saju   31    Indian        12.56\n",
       "4   A5    Joseph   28    Indian        17.32\n",
       "3   A4     Ahmad   22  American        19.54\n",
       "2   A3   Dominic   19    Indian        27.66\n",
       "1   A2  Jaspreet   32  American        18.54\n",
       "0   A1    Shilpa   18    Indian        24.65"
      ]
     },
     "execution_count": 59,
     "metadata": {},
     "output_type": "execute_result"
    }
   ],
   "source": [
    "newroom.sort_index(ascending = False)"
   ]
  },
  {
   "cell_type": "markdown",
   "id": "16a0ef72-45f3-4a9d-b6f1-b9767f3976e1",
   "metadata": {},
   "source": [
    "## Functions\n"
   ]
  },
  {
   "cell_type": "code",
   "execution_count": 64,
   "id": "e147e5b7-b93a-4ad3-ad05-ed2e63491210",
   "metadata": {},
   "outputs": [
    {
     "data": {
      "text/html": [
       "<div>\n",
       "<style scoped>\n",
       "    .dataframe tbody tr th:only-of-type {\n",
       "        vertical-align: middle;\n",
       "    }\n",
       "\n",
       "    .dataframe tbody tr th {\n",
       "        vertical-align: top;\n",
       "    }\n",
       "\n",
       "    .dataframe thead th {\n",
       "        text-align: right;\n",
       "    }\n",
       "</style>\n",
       "<table border=\"1\" class=\"dataframe\">\n",
       "  <thead>\n",
       "    <tr style=\"text-align: right;\">\n",
       "      <th></th>\n",
       "      <th>Room</th>\n",
       "      <th>Name</th>\n",
       "      <th>Age</th>\n",
       "      <th>Cuisine</th>\n",
       "      <th>Expenditure</th>\n",
       "    </tr>\n",
       "  </thead>\n",
       "  <tbody>\n",
       "    <tr>\n",
       "      <th>0</th>\n",
       "      <td>A1</td>\n",
       "      <td>Shilpa</td>\n",
       "      <td>18</td>\n",
       "      <td>Indian</td>\n",
       "      <td>25.0</td>\n",
       "    </tr>\n",
       "    <tr>\n",
       "      <th>1</th>\n",
       "      <td>A2</td>\n",
       "      <td>Jaspreet</td>\n",
       "      <td>32</td>\n",
       "      <td>American</td>\n",
       "      <td>19.0</td>\n",
       "    </tr>\n",
       "    <tr>\n",
       "      <th>2</th>\n",
       "      <td>A3</td>\n",
       "      <td>Dominic</td>\n",
       "      <td>19</td>\n",
       "      <td>Indian</td>\n",
       "      <td>28.0</td>\n",
       "    </tr>\n",
       "    <tr>\n",
       "      <th>3</th>\n",
       "      <td>A4</td>\n",
       "      <td>Ahmad</td>\n",
       "      <td>22</td>\n",
       "      <td>American</td>\n",
       "      <td>20.0</td>\n",
       "    </tr>\n",
       "    <tr>\n",
       "      <th>4</th>\n",
       "      <td>A5</td>\n",
       "      <td>Joseph</td>\n",
       "      <td>28</td>\n",
       "      <td>Indian</td>\n",
       "      <td>17.0</td>\n",
       "    </tr>\n",
       "    <tr>\n",
       "      <th>5</th>\n",
       "      <td>A6</td>\n",
       "      <td>Saju</td>\n",
       "      <td>31</td>\n",
       "      <td>Indian</td>\n",
       "      <td>13.0</td>\n",
       "    </tr>\n",
       "    <tr>\n",
       "      <th>6</th>\n",
       "      <td>A7</td>\n",
       "      <td>Monica</td>\n",
       "      <td>48</td>\n",
       "      <td>Chinese</td>\n",
       "      <td>11.0</td>\n",
       "    </tr>\n",
       "    <tr>\n",
       "      <th>7</th>\n",
       "      <td>A8</td>\n",
       "      <td>Preeti</td>\n",
       "      <td>67</td>\n",
       "      <td>American</td>\n",
       "      <td>12.0</td>\n",
       "    </tr>\n",
       "    <tr>\n",
       "      <th>8</th>\n",
       "      <td>A9</td>\n",
       "      <td>Emma</td>\n",
       "      <td>24</td>\n",
       "      <td>Indian</td>\n",
       "      <td>19.0</td>\n",
       "    </tr>\n",
       "    <tr>\n",
       "      <th>9</th>\n",
       "      <td>A10</td>\n",
       "      <td>Gaurav</td>\n",
       "      <td>29</td>\n",
       "      <td>Chinese</td>\n",
       "      <td>14.0</td>\n",
       "    </tr>\n",
       "  </tbody>\n",
       "</table>\n",
       "</div>"
      ],
      "text/plain": [
       "  Room      Name  Age   Cuisine  Expenditure\n",
       "0   A1    Shilpa   18    Indian         25.0\n",
       "1   A2  Jaspreet   32  American         19.0\n",
       "2   A3   Dominic   19    Indian         28.0\n",
       "3   A4     Ahmad   22  American         20.0\n",
       "4   A5    Joseph   28    Indian         17.0\n",
       "5   A6      Saju   31    Indian         13.0\n",
       "6   A7    Monica   48   Chinese         11.0\n",
       "7   A8    Preeti   67  American         12.0\n",
       "8   A9      Emma   24    Indian         19.0\n",
       "9  A10    Gaurav   29   Chinese         14.0"
      ]
     },
     "execution_count": 64,
     "metadata": {},
     "output_type": "execute_result"
    }
   ],
   "source": [
    "newroom.round()"
   ]
  },
  {
   "cell_type": "markdown",
   "id": "c4c51fb5-06f7-421f-af73-b50f6fc578ac",
   "metadata": {},
   "source": [
    "### apply()"
   ]
  },
  {
   "cell_type": "code",
   "execution_count": 69,
   "id": "bb012d1c-941d-4f65-bc22-c3412950f47a",
   "metadata": {},
   "outputs": [],
   "source": [
    "def  first_three_number(row):\n",
    "    row = row[0:3]\n",
    "    return row\n"
   ]
  },
  {
   "cell_type": "code",
   "execution_count": 111,
   "id": "2897bbc4-c634-43f5-8095-f728a55e94fd",
   "metadata": {},
   "outputs": [],
   "source": [
    "def mean (row):\n",
    "    row = row *2\n",
    "    return row"
   ]
  },
  {
   "cell_type": "code",
   "execution_count": 71,
   "id": "2f417c08-0832-4175-8882-a1d75edfc76e",
   "metadata": {},
   "outputs": [
    {
     "data": {
      "text/html": [
       "<div>\n",
       "<style scoped>\n",
       "    .dataframe tbody tr th:only-of-type {\n",
       "        vertical-align: middle;\n",
       "    }\n",
       "\n",
       "    .dataframe tbody tr th {\n",
       "        vertical-align: top;\n",
       "    }\n",
       "\n",
       "    .dataframe thead th {\n",
       "        text-align: right;\n",
       "    }\n",
       "</style>\n",
       "<table border=\"1\" class=\"dataframe\">\n",
       "  <thead>\n",
       "    <tr style=\"text-align: right;\">\n",
       "      <th></th>\n",
       "      <th>Room</th>\n",
       "      <th>Name</th>\n",
       "      <th>Age</th>\n",
       "      <th>Cuisine</th>\n",
       "      <th>Expenditure</th>\n",
       "    </tr>\n",
       "  </thead>\n",
       "  <tbody>\n",
       "    <tr>\n",
       "      <th>0</th>\n",
       "      <td>A1</td>\n",
       "      <td>Shilpa</td>\n",
       "      <td>18</td>\n",
       "      <td>Indian</td>\n",
       "      <td>24.65</td>\n",
       "    </tr>\n",
       "    <tr>\n",
       "      <th>1</th>\n",
       "      <td>A2</td>\n",
       "      <td>Jaspreet</td>\n",
       "      <td>32</td>\n",
       "      <td>American</td>\n",
       "      <td>18.54</td>\n",
       "    </tr>\n",
       "    <tr>\n",
       "      <th>2</th>\n",
       "      <td>A3</td>\n",
       "      <td>Dominic</td>\n",
       "      <td>19</td>\n",
       "      <td>Indian</td>\n",
       "      <td>27.66</td>\n",
       "    </tr>\n",
       "  </tbody>\n",
       "</table>\n",
       "</div>"
      ],
      "text/plain": [
       "  Room      Name  Age   Cuisine  Expenditure\n",
       "0   A1    Shilpa   18    Indian        24.65\n",
       "1   A2  Jaspreet   32  American        18.54\n",
       "2   A3   Dominic   19    Indian        27.66"
      ]
     },
     "execution_count": 71,
     "metadata": {},
     "output_type": "execute_result"
    }
   ],
   "source": [
    "newroom.apply(first_three_number)"
   ]
  },
  {
   "cell_type": "code",
   "execution_count": 75,
   "id": "5115bf72-56fb-48b1-bc94-ad3989811833",
   "metadata": {},
   "outputs": [
    {
     "data": {
      "text/plain": [
       "0    Shi\n",
       "1    Jas\n",
       "2    Dom\n",
       "3    Ahm\n",
       "4    Jos\n",
       "5    Saj\n",
       "6    Mon\n",
       "7    Pre\n",
       "8    Emm\n",
       "9    Gau\n",
       "Name: Name, dtype: object"
      ]
     },
     "execution_count": 75,
     "metadata": {},
     "output_type": "execute_result"
    }
   ],
   "source": [
    "newroom['Name'].apply(first_three_number)"
   ]
  },
  {
   "cell_type": "code",
   "execution_count": 113,
   "id": "389c28df-7117-4f05-9692-fa88dd81dcb8",
   "metadata": {},
   "outputs": [
    {
     "data": {
      "text/plain": [
       "0    49.30\n",
       "1    37.08\n",
       "2    55.32\n",
       "3    39.08\n",
       "4    34.64\n",
       "5    25.12\n",
       "6    22.18\n",
       "7    24.46\n",
       "8    37.76\n",
       "9    28.86\n",
       "Name: Expenditure, dtype: float64"
      ]
     },
     "execution_count": 113,
     "metadata": {},
     "output_type": "execute_result"
    }
   ],
   "source": [
    "newroom['Expenditure'].apply(mean)"
   ]
  },
  {
   "cell_type": "markdown",
   "id": "3045db30-90ab-4f87-af89-a648701441d8",
   "metadata": {},
   "source": [
    "# Group Operations"
   ]
  },
  {
   "cell_type": "code",
   "execution_count": 116,
   "id": "f2a817a2-bfa9-4f16-a692-d39a6eb512ae",
   "metadata": {},
   "outputs": [
    {
     "data": {
      "text/plain": [
       "<pandas.core.groupby.generic.DataFrameGroupBy object at 0x000001C92CDE7440>"
      ]
     },
     "execution_count": 116,
     "metadata": {},
     "output_type": "execute_result"
    }
   ],
   "source": [
    "newroom.groupby(['Cuisine'])"
   ]
  },
  {
   "cell_type": "code",
   "execution_count": 132,
   "id": "2590a2ba-a273-4d89-aaef-d88a758f37c6",
   "metadata": {},
   "outputs": [
    {
     "data": {
      "text/html": [
       "<div>\n",
       "<style scoped>\n",
       "    .dataframe tbody tr th:only-of-type {\n",
       "        vertical-align: middle;\n",
       "    }\n",
       "\n",
       "    .dataframe tbody tr th {\n",
       "        vertical-align: top;\n",
       "    }\n",
       "\n",
       "    .dataframe thead th {\n",
       "        text-align: right;\n",
       "    }\n",
       "</style>\n",
       "<table border=\"1\" class=\"dataframe\">\n",
       "  <thead>\n",
       "    <tr style=\"text-align: right;\">\n",
       "      <th></th>\n",
       "      <th>Age</th>\n",
       "      <th>Expenditure</th>\n",
       "    </tr>\n",
       "    <tr>\n",
       "      <th>Cuisine</th>\n",
       "      <th></th>\n",
       "      <th></th>\n",
       "    </tr>\n",
       "  </thead>\n",
       "  <tbody>\n",
       "    <tr>\n",
       "      <th>American</th>\n",
       "      <td>40.333333</td>\n",
       "      <td>16.77</td>\n",
       "    </tr>\n",
       "    <tr>\n",
       "      <th>Chinese</th>\n",
       "      <td>38.5</td>\n",
       "      <td>12.76</td>\n",
       "    </tr>\n",
       "    <tr>\n",
       "      <th>Indian</th>\n",
       "      <td>24.0</td>\n",
       "      <td>20.214</td>\n",
       "    </tr>\n",
       "  </tbody>\n",
       "</table>\n",
       "</div>"
      ],
      "text/plain": [
       "                Age  Expenditure\n",
       "Cuisine                         \n",
       "American  40.333333        16.77\n",
       "Chinese        38.5        12.76\n",
       "Indian         24.0       20.214"
      ]
     },
     "execution_count": 132,
     "metadata": {},
     "output_type": "execute_result"
    }
   ],
   "source": [
    "newroom.groupby(by = ['Cuisine']).mean(numeric_only = True)"
   ]
  },
  {
   "cell_type": "code",
   "execution_count": 138,
   "id": "c64640a6-6591-483e-aac5-ddfd306def24",
   "metadata": {},
   "outputs": [],
   "source": [
    "import numpy as np"
   ]
  },
  {
   "cell_type": "code",
   "execution_count": 140,
   "id": "e04fcebc-e7e2-4cff-81f4-d75e4604cc5c",
   "metadata": {},
   "outputs": [
    {
     "data": {
      "text/plain": [
       "Cuisine\n",
       "American    16.770\n",
       "Chinese     12.760\n",
       "Indian      20.214\n",
       "Name: Expenditure, dtype: float64"
      ]
     },
     "execution_count": 140,
     "metadata": {},
     "output_type": "execute_result"
    }
   ],
   "source": [
    "newroom.groupby(by='Cuisine')['Expenditure'].apply(np.mean)"
   ]
  },
  {
   "cell_type": "code",
   "execution_count": 142,
   "id": "07ccac89-b5a0-4473-b24b-45660bce0750",
   "metadata": {},
   "outputs": [
    {
     "name": "stdout",
     "output_type": "stream",
     "text": [
      "          Expenditure\n",
      "Cuisine              \n",
      "American        16.77\n",
      "Chinese         12.76\n",
      "Indian         20.214\n"
     ]
    }
   ],
   "source": [
    "grouped_df = newroom.groupby('Cuisine')\n",
    "\n",
    "summary_df = grouped_df.aggregate({'Expenditure': 'mean'})\n",
    "\n",
    "\n",
    "\n",
    "print(summary_df)"
   ]
  },
  {
   "cell_type": "code",
   "execution_count": null,
   "id": "75adb9be-5bbd-4322-a9b7-71d9496e9c57",
   "metadata": {},
   "outputs": [],
   "source": []
  },
  {
   "cell_type": "code",
   "execution_count": null,
   "id": "c881941c-bec1-4593-9621-a85e88654a89",
   "metadata": {},
   "outputs": [],
   "source": []
  },
  {
   "cell_type": "code",
   "execution_count": null,
   "id": "c8c34f8c-4745-43ff-9a91-768c58f77753",
   "metadata": {},
   "outputs": [],
   "source": []
  },
  {
   "cell_type": "code",
   "execution_count": null,
   "id": "e5c46465-2f81-4d2a-98fc-9fa3a9614ed0",
   "metadata": {},
   "outputs": [],
   "source": []
  },
  {
   "cell_type": "code",
   "execution_count": null,
   "id": "383b2119-1553-451b-9f49-9d8356304317",
   "metadata": {},
   "outputs": [],
   "source": []
  },
  {
   "cell_type": "code",
   "execution_count": null,
   "id": "8f44b53e-5422-4b56-aae8-40c3bc7a304c",
   "metadata": {},
   "outputs": [],
   "source": []
  },
  {
   "cell_type": "code",
   "execution_count": null,
   "id": "bc2d04dd-b9bd-4429-81c0-ff67ab352559",
   "metadata": {},
   "outputs": [],
   "source": []
  },
  {
   "cell_type": "code",
   "execution_count": null,
   "id": "2d7be4e4-d538-41ec-b26d-b514a44cb2d6",
   "metadata": {},
   "outputs": [],
   "source": []
  },
  {
   "cell_type": "code",
   "execution_count": null,
   "id": "7d2643b1-0419-43d2-8256-d44a0fc195a1",
   "metadata": {},
   "outputs": [],
   "source": []
  },
  {
   "cell_type": "code",
   "execution_count": null,
   "id": "7ec81ff3-f7ed-4786-8b7e-c4236f71e112",
   "metadata": {},
   "outputs": [],
   "source": []
  },
  {
   "cell_type": "code",
   "execution_count": null,
   "id": "8f4a2878-18ba-4766-8c9d-d057fd158a1a",
   "metadata": {},
   "outputs": [],
   "source": []
  },
  {
   "cell_type": "code",
   "execution_count": null,
   "id": "aa1549d2-4813-4686-9f24-c410c3b5f361",
   "metadata": {},
   "outputs": [],
   "source": []
  },
  {
   "cell_type": "code",
   "execution_count": null,
   "id": "83b75a89-4c21-4b2c-94e4-eb3bd9f1dc9b",
   "metadata": {},
   "outputs": [],
   "source": []
  },
  {
   "cell_type": "code",
   "execution_count": null,
   "id": "c43c7d32-2fae-41da-b0ad-7ffd47e19a4d",
   "metadata": {},
   "outputs": [],
   "source": []
  },
  {
   "cell_type": "code",
   "execution_count": null,
   "id": "9361e810-45e1-48ed-bf21-fb5d640575b9",
   "metadata": {},
   "outputs": [],
   "source": []
  },
  {
   "cell_type": "code",
   "execution_count": null,
   "id": "e1d362bc-8dd7-4221-a103-839e6c74a4fb",
   "metadata": {},
   "outputs": [],
   "source": []
  },
  {
   "cell_type": "code",
   "execution_count": null,
   "id": "3f5a7b47-c878-46ad-a9de-bc8db6911f63",
   "metadata": {},
   "outputs": [],
   "source": []
  },
  {
   "cell_type": "code",
   "execution_count": null,
   "id": "f07b98e7-982d-4e6d-9a0f-eeab113723e5",
   "metadata": {},
   "outputs": [],
   "source": []
  },
  {
   "cell_type": "code",
   "execution_count": null,
   "id": "670c183a-dbb3-4cbe-add9-22260cfd16db",
   "metadata": {},
   "outputs": [],
   "source": []
  },
  {
   "cell_type": "code",
   "execution_count": null,
   "id": "1071e605-816c-4322-9f1f-af43a2a4c915",
   "metadata": {},
   "outputs": [],
   "source": []
  },
  {
   "cell_type": "code",
   "execution_count": null,
   "id": "ca2dc6c2-3cf4-400b-b553-6a002b27c3dc",
   "metadata": {},
   "outputs": [],
   "source": []
  },
  {
   "cell_type": "code",
   "execution_count": null,
   "id": "05385e33-7a4d-41d0-b638-85fefa67cb13",
   "metadata": {},
   "outputs": [],
   "source": []
  },
  {
   "cell_type": "code",
   "execution_count": null,
   "id": "227a6bfc-5990-44ff-bc1b-fdcde04fecd1",
   "metadata": {},
   "outputs": [],
   "source": []
  },
  {
   "cell_type": "code",
   "execution_count": null,
   "id": "30e23162-2e4f-4432-b440-a334a0e329eb",
   "metadata": {},
   "outputs": [],
   "source": []
  },
  {
   "cell_type": "code",
   "execution_count": null,
   "id": "d7393141-8a72-4c27-8d45-7894d936344e",
   "metadata": {},
   "outputs": [],
   "source": []
  },
  {
   "cell_type": "code",
   "execution_count": null,
   "id": "1231fcec-d06b-4a79-aa8e-d1bf5bca888f",
   "metadata": {},
   "outputs": [],
   "source": []
  },
  {
   "cell_type": "code",
   "execution_count": null,
   "id": "18ff32e6-7928-49c1-ba49-c55175a16447",
   "metadata": {},
   "outputs": [],
   "source": []
  },
  {
   "cell_type": "code",
   "execution_count": null,
   "id": "a2e8c139-a868-43d3-9b95-e6ea9e815666",
   "metadata": {},
   "outputs": [],
   "source": []
  },
  {
   "cell_type": "code",
   "execution_count": null,
   "id": "c2be4736-2c60-447d-9740-8bfd1b41d66b",
   "metadata": {},
   "outputs": [],
   "source": []
  },
  {
   "cell_type": "code",
   "execution_count": null,
   "id": "2094ad4a-7e46-425c-a375-f91a26d742be",
   "metadata": {},
   "outputs": [],
   "source": []
  },
  {
   "cell_type": "code",
   "execution_count": null,
   "id": "5541c682-8f81-415d-a724-a6d4cf270fed",
   "metadata": {},
   "outputs": [],
   "source": []
  },
  {
   "cell_type": "code",
   "execution_count": null,
   "id": "23681e4c-300a-4acf-9f25-9797607ea5a8",
   "metadata": {},
   "outputs": [],
   "source": []
  },
  {
   "cell_type": "code",
   "execution_count": null,
   "id": "f5163493-b9ce-43d1-9172-9905f1a74ab6",
   "metadata": {},
   "outputs": [],
   "source": []
  },
  {
   "cell_type": "code",
   "execution_count": null,
   "id": "c7a40404-ba2f-4f84-825c-5da29895a643",
   "metadata": {},
   "outputs": [],
   "source": []
  },
  {
   "cell_type": "code",
   "execution_count": null,
   "id": "14933960-af31-43bf-9d5f-c9987a1c1805",
   "metadata": {},
   "outputs": [],
   "source": []
  },
  {
   "cell_type": "code",
   "execution_count": null,
   "id": "3b4be7e7-344d-43ef-9c26-99a51d4fb5e5",
   "metadata": {},
   "outputs": [],
   "source": []
  },
  {
   "cell_type": "code",
   "execution_count": null,
   "id": "42a7f714-d542-429d-84d3-6a4c0fc13112",
   "metadata": {},
   "outputs": [],
   "source": []
  },
  {
   "cell_type": "code",
   "execution_count": null,
   "id": "9091a658-bf37-4df7-936c-0f6095a5fdc9",
   "metadata": {},
   "outputs": [],
   "source": []
  },
  {
   "cell_type": "code",
   "execution_count": null,
   "id": "b410b749-2f83-4063-90f6-f6161bf36de5",
   "metadata": {},
   "outputs": [],
   "source": []
  },
  {
   "cell_type": "code",
   "execution_count": null,
   "id": "c61842e1-514e-4b80-8b44-51e5befb145c",
   "metadata": {},
   "outputs": [],
   "source": []
  },
  {
   "cell_type": "code",
   "execution_count": null,
   "id": "a5de51b8-6ae1-4cb5-96cb-2d9675174059",
   "metadata": {},
   "outputs": [],
   "source": []
  },
  {
   "cell_type": "code",
   "execution_count": null,
   "id": "c63b42bc-8108-43f5-bf0e-9013748544fb",
   "metadata": {},
   "outputs": [],
   "source": []
  },
  {
   "cell_type": "code",
   "execution_count": null,
   "id": "21b99a83-72a0-4286-a765-acfe5328d172",
   "metadata": {},
   "outputs": [],
   "source": []
  },
  {
   "cell_type": "code",
   "execution_count": null,
   "id": "00ddd4a1-e698-409b-8f5c-906c8eb8201f",
   "metadata": {},
   "outputs": [],
   "source": []
  },
  {
   "cell_type": "code",
   "execution_count": null,
   "id": "8ca9501b-a32f-48bd-9e6a-e6629d916854",
   "metadata": {},
   "outputs": [],
   "source": []
  },
  {
   "cell_type": "code",
   "execution_count": null,
   "id": "6dd696c8-d93c-42e9-847c-90beadca44dc",
   "metadata": {},
   "outputs": [],
   "source": []
  },
  {
   "cell_type": "code",
   "execution_count": null,
   "id": "370c41dc-9d38-4442-9825-609c7b4ae55a",
   "metadata": {},
   "outputs": [],
   "source": []
  },
  {
   "cell_type": "code",
   "execution_count": null,
   "id": "4eefcce2-3a19-4c4c-aea4-f74e956c1ee4",
   "metadata": {},
   "outputs": [],
   "source": []
  },
  {
   "cell_type": "code",
   "execution_count": null,
   "id": "9032f2c0-b83b-4eda-b2e1-89e5a1e2195c",
   "metadata": {},
   "outputs": [],
   "source": []
  },
  {
   "cell_type": "code",
   "execution_count": null,
   "id": "dae4725c-3f09-4691-83ed-9a71adbda848",
   "metadata": {},
   "outputs": [],
   "source": []
  },
  {
   "cell_type": "code",
   "execution_count": null,
   "id": "cf891c96-029a-45b2-8b0d-35d5a4e0bc93",
   "metadata": {},
   "outputs": [],
   "source": []
  }
 ],
 "metadata": {
  "kernelspec": {
   "display_name": "Python [conda env:base] *",
   "language": "python",
   "name": "conda-base-py"
  },
  "language_info": {
   "codemirror_mode": {
    "name": "ipython",
    "version": 3
   },
   "file_extension": ".py",
   "mimetype": "text/x-python",
   "name": "python",
   "nbconvert_exporter": "python",
   "pygments_lexer": "ipython3",
   "version": "3.12.7"
  }
 },
 "nbformat": 4,
 "nbformat_minor": 5
}
