{
 "cells": [
  {
   "cell_type": "code",
   "execution_count": 1,
   "id": "d3c6fd98-bceb-478b-83c9-b1cfbe824c6f",
   "metadata": {},
   "outputs": [],
   "source": [
    "import pandas as pd "
   ]
  },
  {
   "cell_type": "markdown",
   "id": "5245afbb-7075-481a-8d29-8cd439103d36",
   "metadata": {},
   "source": [
    "# use encoding "
   ]
  },
  {
   "cell_type": "code",
   "execution_count": 3,
   "id": "a70204f3-7444-4327-9a49-6df6d131d0ab",
   "metadata": {},
   "outputs": [],
   "source": [
    "df = pd.read_csv(\"User_Movie_Ratings (2).csv\",encoding='latin1')"
   ]
  },
  {
   "cell_type": "markdown",
   "id": "df8e86d8-d716-43b6-9077-1f0e6ee94e4b",
   "metadata": {},
   "source": [
    "# USE MAX ROW AND COLUMN "
   ]
  },
  {
   "cell_type": "code",
   "execution_count": 5,
   "id": "cc2eb4d5-8f29-4efe-9560-5286a251eec0",
   "metadata": {},
   "outputs": [],
   "source": [
    "pd.set_option('display.max_columns',None)"
   ]
  },
  {
   "cell_type": "code",
   "execution_count": 6,
   "id": "b59a1346-d959-412a-b7ad-9c008d82bf57",
   "metadata": {},
   "outputs": [],
   "source": [
    "pd.set_option('display.max_row',None)"
   ]
  },
  {
   "cell_type": "code",
   "execution_count": 7,
   "id": "3179ae64-19fe-4a50-bb1b-818db36c75c2",
   "metadata": {},
   "outputs": [
    {
     "data": {
      "text/plain": [
       "(20, 11)"
      ]
     },
     "execution_count": 7,
     "metadata": {},
     "output_type": "execute_result"
    }
   ],
   "source": [
    "df.shape"
   ]
  },
  {
   "cell_type": "code",
   "execution_count": 8,
   "id": "1e26ed09-6929-4d5a-a0c9-74413fef0d83",
   "metadata": {},
   "outputs": [
    {
     "data": {
      "text/plain": [
       "User                    object\n",
       "Thor                     int64\n",
       "Justice League           int64\n",
       "Spiderman                int64\n",
       "The Notebook             int64\n",
       "Casablanca               int64\n",
       "Beauty and the Beast     int64\n",
       "Dolittle                 int64\n",
       "The Kissing Booth        int64\n",
       "Annabelle                int64\n",
       "Insidious                int64\n",
       "dtype: object"
      ]
     },
     "execution_count": 8,
     "metadata": {},
     "output_type": "execute_result"
    }
   ],
   "source": [
    "df.dtypes"
   ]
  },
  {
   "cell_type": "code",
   "execution_count": 9,
   "id": "fda374c1-b699-4ded-b0cf-9ad7c06f0653",
   "metadata": {},
   "outputs": [
    {
     "data": {
      "text/plain": [
       "2"
      ]
     },
     "execution_count": 9,
     "metadata": {},
     "output_type": "execute_result"
    }
   ],
   "source": [
    "df.ndim"
   ]
  },
  {
   "cell_type": "markdown",
   "id": "0b1ee22f-e188-426b-a998-277ea84a59af",
   "metadata": {},
   "source": [
    "# EXPORT THE DATAFRAME TO ANY EXTENSION"
   ]
  },
  {
   "cell_type": "code",
   "execution_count": 16,
   "id": "bb2fd3ff-fb90-4ad4-b311-848f0f5b052d",
   "metadata": {},
   "outputs": [],
   "source": [
    "df.to_excel('anish.xlsx')"
   ]
  },
  {
   "cell_type": "code",
   "execution_count": null,
   "id": "6e146e92-1a58-4ffe-917a-8d3a60a93039",
   "metadata": {},
   "outputs": [],
   "source": []
  },
  {
   "cell_type": "code",
   "execution_count": null,
   "id": "7fee563b-b848-47ae-b91a-2fc85c99bd4f",
   "metadata": {},
   "outputs": [],
   "source": []
  },
  {
   "cell_type": "code",
   "execution_count": null,
   "id": "7e23b0ff-0059-4e5a-b6b0-3202d1196f2a",
   "metadata": {},
   "outputs": [],
   "source": []
  },
  {
   "cell_type": "code",
   "execution_count": null,
   "id": "e6191cc2-dfec-4fad-a137-f98bd3fa188d",
   "metadata": {},
   "outputs": [],
   "source": []
  },
  {
   "cell_type": "code",
   "execution_count": null,
   "id": "eca869a4-fc1e-4bfa-941d-7532810faf00",
   "metadata": {},
   "outputs": [],
   "source": []
  },
  {
   "cell_type": "code",
   "execution_count": null,
   "id": "98d7c47b-5a79-48a3-bf0f-71efcdb29ded",
   "metadata": {},
   "outputs": [],
   "source": []
  },
  {
   "cell_type": "code",
   "execution_count": null,
   "id": "cf4541e3-c70e-45df-a449-e1703a4746a1",
   "metadata": {},
   "outputs": [],
   "source": []
  },
  {
   "cell_type": "code",
   "execution_count": null,
   "id": "27959f50-3a3f-42ee-a7fd-376d7849c441",
   "metadata": {},
   "outputs": [],
   "source": []
  }
 ],
 "metadata": {
  "kernelspec": {
   "display_name": "Python [conda env:base] *",
   "language": "python",
   "name": "conda-base-py"
  },
  "language_info": {
   "codemirror_mode": {
    "name": "ipython",
    "version": 3
   },
   "file_extension": ".py",
   "mimetype": "text/x-python",
   "name": "python",
   "nbconvert_exporter": "python",
   "pygments_lexer": "ipython3",
   "version": "3.12.7"
  }
 },
 "nbformat": 4,
 "nbformat_minor": 5
}
