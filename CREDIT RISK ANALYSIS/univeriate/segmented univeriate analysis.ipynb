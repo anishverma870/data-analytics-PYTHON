{
 "cells": [
  {
   "cell_type": "code",
   "execution_count": 1,
   "id": "cfdd0459-311b-45fc-bb18-1966f726da9a",
   "metadata": {},
   "outputs": [],
   "source": [
    "import numpy as np \n",
    "import pandas as pd\n",
    "import seaborn as sns\n",
    "import matplotlib.pyplot as plt"
   ]
  },
  {
   "cell_type": "code",
   "execution_count": 51,
   "id": "b81ea704-83c9-4e8f-9db4-3de72e562a18",
   "metadata": {},
   "outputs": [],
   "source": [
    "mumbai = pd.read_csv('EDA_nas.csv')\n",
    "pd.set_option('display.max_columns',None)"
   ]
  },
  {
   "cell_type": "code",
   "execution_count": 53,
   "id": "a6c0edab-87a6-441c-a15a-a8c5bddd162e",
   "metadata": {},
   "outputs": [
    {
     "data": {
      "text/html": [
       "<div>\n",
       "<style scoped>\n",
       "    .dataframe tbody tr th:only-of-type {\n",
       "        vertical-align: middle;\n",
       "    }\n",
       "\n",
       "    .dataframe tbody tr th {\n",
       "        vertical-align: top;\n",
       "    }\n",
       "\n",
       "    .dataframe thead th {\n",
       "        text-align: right;\n",
       "    }\n",
       "</style>\n",
       "<table border=\"1\" class=\"dataframe\">\n",
       "  <thead>\n",
       "    <tr style=\"text-align: right;\">\n",
       "      <th></th>\n",
       "      <th>STUID</th>\n",
       "      <th>State</th>\n",
       "      <th>District</th>\n",
       "      <th>Gender</th>\n",
       "      <th>Age</th>\n",
       "      <th>Category</th>\n",
       "      <th>Same.language</th>\n",
       "      <th>Siblings</th>\n",
       "      <th>Handicap</th>\n",
       "      <th>Father.edu</th>\n",
       "      <th>Mother.edu</th>\n",
       "      <th>Father.occupation</th>\n",
       "      <th>Mother.occupation</th>\n",
       "      <th>Below.poverty</th>\n",
       "      <th>Use.calculator</th>\n",
       "      <th>Use.computer</th>\n",
       "      <th>Use.Internet</th>\n",
       "      <th>Use.dictionary</th>\n",
       "      <th>Read.other.books</th>\n",
       "      <th>X..Books</th>\n",
       "      <th>Distance</th>\n",
       "      <th>Computer.use</th>\n",
       "      <th>Library.use</th>\n",
       "      <th>Like.school</th>\n",
       "      <th>Subjects</th>\n",
       "      <th>Give.Lang.HW</th>\n",
       "      <th>Give.Math.HW</th>\n",
       "      <th>Give.Scie.HW</th>\n",
       "      <th>Give.SoSc.HW</th>\n",
       "      <th>Correct.Lang.HW</th>\n",
       "      <th>Correct.Math.HW</th>\n",
       "      <th>Correct.Scie.HW</th>\n",
       "      <th>Correct.SocS.HW</th>\n",
       "      <th>Help.in.Study</th>\n",
       "      <th>Private.tuition</th>\n",
       "      <th>English.is.difficult</th>\n",
       "      <th>Read.English</th>\n",
       "      <th>Dictionary.to.learn</th>\n",
       "      <th>Answer.English.WB</th>\n",
       "      <th>Answer.English.aloud</th>\n",
       "      <th>Maths.is.difficult</th>\n",
       "      <th>Solve.Maths</th>\n",
       "      <th>Solve.Maths.in.groups</th>\n",
       "      <th>Draw.geometry</th>\n",
       "      <th>Explain.answers</th>\n",
       "      <th>SocSci.is.difficult</th>\n",
       "      <th>Historical.excursions</th>\n",
       "      <th>Participate.in.SocSci</th>\n",
       "      <th>Small.groups.in.SocSci</th>\n",
       "      <th>Express.SocSci.views</th>\n",
       "      <th>Science.is.difficult</th>\n",
       "      <th>Observe.experiments</th>\n",
       "      <th>Conduct.experiments</th>\n",
       "      <th>Solve.science.problems</th>\n",
       "      <th>Express.science.views</th>\n",
       "      <th>Watch.TV</th>\n",
       "      <th>Read.magazine</th>\n",
       "      <th>Read.a.book</th>\n",
       "      <th>Play.games</th>\n",
       "      <th>Help.in.household</th>\n",
       "      <th>Maths..</th>\n",
       "      <th>Reading..</th>\n",
       "      <th>Science..</th>\n",
       "      <th>Social..</th>\n",
       "    </tr>\n",
       "  </thead>\n",
       "  <tbody>\n",
       "    <tr>\n",
       "      <th>0</th>\n",
       "      <td>26011001001</td>\n",
       "      <td>Maharashtra</td>\n",
       "      <td>1</td>\n",
       "      <td>Girl</td>\n",
       "      <td>13 years</td>\n",
       "      <td>3.0</td>\n",
       "      <td>2.0</td>\n",
       "      <td>1 sibling</td>\n",
       "      <td>No</td>\n",
       "      <td>Illiterate</td>\n",
       "      <td>Illiterate</td>\n",
       "      <td>Farmer</td>\n",
       "      <td>Farmer</td>\n",
       "      <td>Yes</td>\n",
       "      <td>NaN</td>\n",
       "      <td>NaN</td>\n",
       "      <td>NaN</td>\n",
       "      <td>NaN</td>\n",
       "      <td>No</td>\n",
       "      <td>NaN</td>\n",
       "      <td>Up to 1 km</td>\n",
       "      <td>Once in a week</td>\n",
       "      <td>Once or twice in a month</td>\n",
       "      <td>Yes</td>\n",
       "      <td>Mathematics</td>\n",
       "      <td>1-2 times a week</td>\n",
       "      <td>1-2 times a week</td>\n",
       "      <td>1-2 times a week</td>\n",
       "      <td>1-2 times a week</td>\n",
       "      <td>1-2 times a week</td>\n",
       "      <td>1-2 times a week</td>\n",
       "      <td>1-2 times a week</td>\n",
       "      <td>1-2 times a week</td>\n",
       "      <td>Yes</td>\n",
       "      <td>No</td>\n",
       "      <td>Agree</td>\n",
       "      <td>No</td>\n",
       "      <td>Disagree</td>\n",
       "      <td>Agree</td>\n",
       "      <td>Agree</td>\n",
       "      <td>Disagree</td>\n",
       "      <td>Agree</td>\n",
       "      <td>Agree</td>\n",
       "      <td>Agree</td>\n",
       "      <td>Agree</td>\n",
       "      <td>Disagree</td>\n",
       "      <td>Agree</td>\n",
       "      <td>Agree</td>\n",
       "      <td>Agree</td>\n",
       "      <td>Agree</td>\n",
       "      <td>Disagree</td>\n",
       "      <td>Agree</td>\n",
       "      <td>Agree</td>\n",
       "      <td>Agree</td>\n",
       "      <td>Agree</td>\n",
       "      <td>Every day</td>\n",
       "      <td>Never</td>\n",
       "      <td>Once a month</td>\n",
       "      <td>Once a week</td>\n",
       "      <td>Every day</td>\n",
       "      <td>NaN</td>\n",
       "      <td>33.33</td>\n",
       "      <td>NaN</td>\n",
       "      <td>NaN</td>\n",
       "    </tr>\n",
       "    <tr>\n",
       "      <th>1</th>\n",
       "      <td>26011001002</td>\n",
       "      <td>Maharashtra</td>\n",
       "      <td>1</td>\n",
       "      <td>Girl</td>\n",
       "      <td>15 years</td>\n",
       "      <td>3.0</td>\n",
       "      <td>2.0</td>\n",
       "      <td>3 siblings</td>\n",
       "      <td>No</td>\n",
       "      <td>NaN</td>\n",
       "      <td>Illiterate</td>\n",
       "      <td>Farmer</td>\n",
       "      <td>Farmer</td>\n",
       "      <td>Yes</td>\n",
       "      <td>NaN</td>\n",
       "      <td>NaN</td>\n",
       "      <td>NaN</td>\n",
       "      <td>NaN</td>\n",
       "      <td>No</td>\n",
       "      <td>NaN</td>\n",
       "      <td>Up to 1 km</td>\n",
       "      <td>Once in a week</td>\n",
       "      <td>Never use</td>\n",
       "      <td>Yes</td>\n",
       "      <td>Mathematics</td>\n",
       "      <td>1-2 times a week</td>\n",
       "      <td>1-2 times a week</td>\n",
       "      <td>1-2 times a week</td>\n",
       "      <td>1-2 times a week</td>\n",
       "      <td>1-2 times a week</td>\n",
       "      <td>1-2 times a week</td>\n",
       "      <td>1-2 times a week</td>\n",
       "      <td>1-2 times a week</td>\n",
       "      <td>Yes</td>\n",
       "      <td>No</td>\n",
       "      <td>Disagree</td>\n",
       "      <td>No</td>\n",
       "      <td>Disagree</td>\n",
       "      <td>Agree</td>\n",
       "      <td>Agree</td>\n",
       "      <td>Disagree</td>\n",
       "      <td>Agree</td>\n",
       "      <td>Agree</td>\n",
       "      <td>Agree</td>\n",
       "      <td>Agree</td>\n",
       "      <td>Agree</td>\n",
       "      <td>Agree</td>\n",
       "      <td>Disagree</td>\n",
       "      <td>Agree</td>\n",
       "      <td>Neither</td>\n",
       "      <td>Disagree</td>\n",
       "      <td>Agree</td>\n",
       "      <td>Agree</td>\n",
       "      <td>Agree</td>\n",
       "      <td>Agree</td>\n",
       "      <td>Once a week</td>\n",
       "      <td>Never</td>\n",
       "      <td>Never</td>\n",
       "      <td>Once a week</td>\n",
       "      <td>Every day</td>\n",
       "      <td>NaN</td>\n",
       "      <td>62.07</td>\n",
       "      <td>NaN</td>\n",
       "      <td>NaN</td>\n",
       "    </tr>\n",
       "    <tr>\n",
       "      <th>2</th>\n",
       "      <td>26011001003</td>\n",
       "      <td>Maharashtra</td>\n",
       "      <td>1</td>\n",
       "      <td>Girl</td>\n",
       "      <td>14 years</td>\n",
       "      <td>3.0</td>\n",
       "      <td>2.0</td>\n",
       "      <td>3 siblings</td>\n",
       "      <td>No</td>\n",
       "      <td>Degree &amp; above</td>\n",
       "      <td>Illiterate</td>\n",
       "      <td>Farmer</td>\n",
       "      <td>Farmer</td>\n",
       "      <td>No</td>\n",
       "      <td>NaN</td>\n",
       "      <td>NaN</td>\n",
       "      <td>NaN</td>\n",
       "      <td>NaN</td>\n",
       "      <td>No</td>\n",
       "      <td>NaN</td>\n",
       "      <td>Up to 1 km</td>\n",
       "      <td>Once in a week</td>\n",
       "      <td>Once or twice in a month</td>\n",
       "      <td>Yes</td>\n",
       "      <td>Mathematics</td>\n",
       "      <td>1-2 times a week</td>\n",
       "      <td>1-2 times a week</td>\n",
       "      <td>1-2 times a week</td>\n",
       "      <td>1-2 times a week</td>\n",
       "      <td>1-2 times a week</td>\n",
       "      <td>1-2 times a week</td>\n",
       "      <td>1-2 times a week</td>\n",
       "      <td>1-2 times a week</td>\n",
       "      <td>Yes</td>\n",
       "      <td>Yes</td>\n",
       "      <td>Disagree</td>\n",
       "      <td>No</td>\n",
       "      <td>Disagree</td>\n",
       "      <td>Agree</td>\n",
       "      <td>Agree</td>\n",
       "      <td>Disagree</td>\n",
       "      <td>Agree</td>\n",
       "      <td>Agree</td>\n",
       "      <td>Agree</td>\n",
       "      <td>Agree</td>\n",
       "      <td>Agree</td>\n",
       "      <td>Agree</td>\n",
       "      <td>Disagree</td>\n",
       "      <td>Agree</td>\n",
       "      <td>Agree</td>\n",
       "      <td>Disagree</td>\n",
       "      <td>Agree</td>\n",
       "      <td>Agree</td>\n",
       "      <td>Agree</td>\n",
       "      <td>Agree</td>\n",
       "      <td>Every day</td>\n",
       "      <td>Once a month</td>\n",
       "      <td>Once a month</td>\n",
       "      <td>Once a week</td>\n",
       "      <td>Every day</td>\n",
       "      <td>NaN</td>\n",
       "      <td>41.38</td>\n",
       "      <td>NaN</td>\n",
       "      <td>NaN</td>\n",
       "    </tr>\n",
       "    <tr>\n",
       "      <th>3</th>\n",
       "      <td>26011001004</td>\n",
       "      <td>Maharashtra</td>\n",
       "      <td>1</td>\n",
       "      <td>Boy</td>\n",
       "      <td>13 years</td>\n",
       "      <td>3.0</td>\n",
       "      <td>2.0</td>\n",
       "      <td>3 siblings</td>\n",
       "      <td>No</td>\n",
       "      <td>Secondary</td>\n",
       "      <td>Secondary</td>\n",
       "      <td>Farmer</td>\n",
       "      <td>Farmer</td>\n",
       "      <td>No</td>\n",
       "      <td>NaN</td>\n",
       "      <td>NaN</td>\n",
       "      <td>NaN</td>\n",
       "      <td>NaN</td>\n",
       "      <td>Yes</td>\n",
       "      <td>1-10 books</td>\n",
       "      <td>Up to 1 km</td>\n",
       "      <td>Once in a week</td>\n",
       "      <td>Once in a week</td>\n",
       "      <td>Yes</td>\n",
       "      <td>Mathematics</td>\n",
       "      <td>1-2 times a week</td>\n",
       "      <td>1-2 times a week</td>\n",
       "      <td>1-2 times a week</td>\n",
       "      <td>1-2 times a week</td>\n",
       "      <td>1-2 times a week</td>\n",
       "      <td>1-2 times a week</td>\n",
       "      <td>1-2 times a week</td>\n",
       "      <td>1-2 times a week</td>\n",
       "      <td>Yes</td>\n",
       "      <td>Yes</td>\n",
       "      <td>Agree</td>\n",
       "      <td>No</td>\n",
       "      <td>Disagree</td>\n",
       "      <td>Agree</td>\n",
       "      <td>Agree</td>\n",
       "      <td>Agree</td>\n",
       "      <td>Disagree</td>\n",
       "      <td>Agree</td>\n",
       "      <td>Agree</td>\n",
       "      <td>Agree</td>\n",
       "      <td>Agree</td>\n",
       "      <td>Agree</td>\n",
       "      <td>Agree</td>\n",
       "      <td>Agree</td>\n",
       "      <td>Agree</td>\n",
       "      <td>Agree</td>\n",
       "      <td>Agree</td>\n",
       "      <td>Agree</td>\n",
       "      <td>Agree</td>\n",
       "      <td>Agree</td>\n",
       "      <td>Every day</td>\n",
       "      <td>Every day</td>\n",
       "      <td>Never</td>\n",
       "      <td>Every day</td>\n",
       "      <td>Every day</td>\n",
       "      <td>29.82</td>\n",
       "      <td>NaN</td>\n",
       "      <td>NaN</td>\n",
       "      <td>NaN</td>\n",
       "    </tr>\n",
       "    <tr>\n",
       "      <th>4</th>\n",
       "      <td>26011001005</td>\n",
       "      <td>Maharashtra</td>\n",
       "      <td>1</td>\n",
       "      <td>Girl</td>\n",
       "      <td>14 years</td>\n",
       "      <td>3.0</td>\n",
       "      <td>2.0</td>\n",
       "      <td>2 siblings</td>\n",
       "      <td>No</td>\n",
       "      <td>Primary</td>\n",
       "      <td>Illiterate</td>\n",
       "      <td>Farmer</td>\n",
       "      <td>Farmer</td>\n",
       "      <td>Yes</td>\n",
       "      <td>NaN</td>\n",
       "      <td>NaN</td>\n",
       "      <td>NaN</td>\n",
       "      <td>NaN</td>\n",
       "      <td>Yes</td>\n",
       "      <td>1-10 books</td>\n",
       "      <td>Up to 1 km</td>\n",
       "      <td>Once in a week</td>\n",
       "      <td>Never use</td>\n",
       "      <td>Yes</td>\n",
       "      <td>Mathematics</td>\n",
       "      <td>1-2 times a week</td>\n",
       "      <td>1-2 times a week</td>\n",
       "      <td>1-2 times a week</td>\n",
       "      <td>1-2 times a week</td>\n",
       "      <td>1-2 times a week</td>\n",
       "      <td>3-4 times a week</td>\n",
       "      <td>3-4 times a week</td>\n",
       "      <td>3-4 times a week</td>\n",
       "      <td>Yes</td>\n",
       "      <td>Yes</td>\n",
       "      <td>Disagree</td>\n",
       "      <td>No</td>\n",
       "      <td>Disagree</td>\n",
       "      <td>Agree</td>\n",
       "      <td>Agree</td>\n",
       "      <td>Disagree</td>\n",
       "      <td>Neither</td>\n",
       "      <td>Agree</td>\n",
       "      <td>Neither</td>\n",
       "      <td>Agree</td>\n",
       "      <td>Agree</td>\n",
       "      <td>Neither</td>\n",
       "      <td>Disagree</td>\n",
       "      <td>Neither</td>\n",
       "      <td>Neither</td>\n",
       "      <td>Disagree</td>\n",
       "      <td>Agree</td>\n",
       "      <td>Agree</td>\n",
       "      <td>Disagree</td>\n",
       "      <td>Neither</td>\n",
       "      <td>Never</td>\n",
       "      <td>Never</td>\n",
       "      <td>Once a month</td>\n",
       "      <td>Once a week</td>\n",
       "      <td>Every day</td>\n",
       "      <td>NaN</td>\n",
       "      <td>NaN</td>\n",
       "      <td>27.27</td>\n",
       "      <td>NaN</td>\n",
       "    </tr>\n",
       "  </tbody>\n",
       "</table>\n",
       "</div>"
      ],
      "text/plain": [
       "         STUID        State  District Gender       Age  Category  \\\n",
       "0  26011001001  Maharashtra         1   Girl  13 years       3.0   \n",
       "1  26011001002  Maharashtra         1   Girl  15 years       3.0   \n",
       "2  26011001003  Maharashtra         1   Girl  14 years       3.0   \n",
       "3  26011001004  Maharashtra         1    Boy  13 years       3.0   \n",
       "4  26011001005  Maharashtra         1   Girl  14 years       3.0   \n",
       "\n",
       "   Same.language    Siblings Handicap      Father.edu  Mother.edu  \\\n",
       "0            2.0   1 sibling       No      Illiterate  Illiterate   \n",
       "1            2.0  3 siblings       No             NaN  Illiterate   \n",
       "2            2.0  3 siblings       No  Degree & above  Illiterate   \n",
       "3            2.0  3 siblings       No       Secondary   Secondary   \n",
       "4            2.0  2 siblings       No         Primary  Illiterate   \n",
       "\n",
       "  Father.occupation Mother.occupation Below.poverty Use.calculator  \\\n",
       "0            Farmer            Farmer           Yes            NaN   \n",
       "1            Farmer            Farmer           Yes            NaN   \n",
       "2            Farmer            Farmer            No            NaN   \n",
       "3            Farmer            Farmer            No            NaN   \n",
       "4            Farmer            Farmer           Yes            NaN   \n",
       "\n",
       "  Use.computer Use.Internet Use.dictionary Read.other.books    X..Books  \\\n",
       "0          NaN          NaN            NaN               No         NaN   \n",
       "1          NaN          NaN            NaN               No         NaN   \n",
       "2          NaN          NaN            NaN               No         NaN   \n",
       "3          NaN          NaN            NaN              Yes  1-10 books   \n",
       "4          NaN          NaN            NaN              Yes  1-10 books   \n",
       "\n",
       "     Distance    Computer.use               Library.use Like.school  \\\n",
       "0  Up to 1 km  Once in a week  Once or twice in a month         Yes   \n",
       "1  Up to 1 km  Once in a week                 Never use         Yes   \n",
       "2  Up to 1 km  Once in a week  Once or twice in a month         Yes   \n",
       "3  Up to 1 km  Once in a week            Once in a week         Yes   \n",
       "4  Up to 1 km  Once in a week                 Never use         Yes   \n",
       "\n",
       "      Subjects      Give.Lang.HW      Give.Math.HW      Give.Scie.HW  \\\n",
       "0  Mathematics  1-2 times a week  1-2 times a week  1-2 times a week   \n",
       "1  Mathematics  1-2 times a week  1-2 times a week  1-2 times a week   \n",
       "2  Mathematics  1-2 times a week  1-2 times a week  1-2 times a week   \n",
       "3  Mathematics  1-2 times a week  1-2 times a week  1-2 times a week   \n",
       "4  Mathematics  1-2 times a week  1-2 times a week  1-2 times a week   \n",
       "\n",
       "       Give.SoSc.HW   Correct.Lang.HW   Correct.Math.HW   Correct.Scie.HW  \\\n",
       "0  1-2 times a week  1-2 times a week  1-2 times a week  1-2 times a week   \n",
       "1  1-2 times a week  1-2 times a week  1-2 times a week  1-2 times a week   \n",
       "2  1-2 times a week  1-2 times a week  1-2 times a week  1-2 times a week   \n",
       "3  1-2 times a week  1-2 times a week  1-2 times a week  1-2 times a week   \n",
       "4  1-2 times a week  1-2 times a week  3-4 times a week  3-4 times a week   \n",
       "\n",
       "    Correct.SocS.HW Help.in.Study Private.tuition English.is.difficult  \\\n",
       "0  1-2 times a week           Yes              No                Agree   \n",
       "1  1-2 times a week           Yes              No             Disagree   \n",
       "2  1-2 times a week           Yes             Yes             Disagree   \n",
       "3  1-2 times a week           Yes             Yes                Agree   \n",
       "4  3-4 times a week           Yes             Yes             Disagree   \n",
       "\n",
       "  Read.English Dictionary.to.learn Answer.English.WB Answer.English.aloud  \\\n",
       "0           No            Disagree             Agree                Agree   \n",
       "1           No            Disagree             Agree                Agree   \n",
       "2           No            Disagree             Agree                Agree   \n",
       "3           No            Disagree             Agree                Agree   \n",
       "4           No            Disagree             Agree                Agree   \n",
       "\n",
       "  Maths.is.difficult Solve.Maths Solve.Maths.in.groups Draw.geometry  \\\n",
       "0           Disagree       Agree                 Agree         Agree   \n",
       "1           Disagree       Agree                 Agree         Agree   \n",
       "2           Disagree       Agree                 Agree         Agree   \n",
       "3              Agree    Disagree                 Agree         Agree   \n",
       "4           Disagree     Neither                 Agree       Neither   \n",
       "\n",
       "  Explain.answers SocSci.is.difficult Historical.excursions  \\\n",
       "0           Agree            Disagree                 Agree   \n",
       "1           Agree               Agree                 Agree   \n",
       "2           Agree               Agree                 Agree   \n",
       "3           Agree               Agree                 Agree   \n",
       "4           Agree               Agree               Neither   \n",
       "\n",
       "  Participate.in.SocSci Small.groups.in.SocSci Express.SocSci.views  \\\n",
       "0                 Agree                  Agree                Agree   \n",
       "1              Disagree                  Agree              Neither   \n",
       "2              Disagree                  Agree                Agree   \n",
       "3                 Agree                  Agree                Agree   \n",
       "4              Disagree                Neither              Neither   \n",
       "\n",
       "  Science.is.difficult Observe.experiments Conduct.experiments  \\\n",
       "0             Disagree               Agree               Agree   \n",
       "1             Disagree               Agree               Agree   \n",
       "2             Disagree               Agree               Agree   \n",
       "3                Agree               Agree               Agree   \n",
       "4             Disagree               Agree               Agree   \n",
       "\n",
       "  Solve.science.problems Express.science.views     Watch.TV Read.magazine  \\\n",
       "0                  Agree                 Agree    Every day         Never   \n",
       "1                  Agree                 Agree  Once a week         Never   \n",
       "2                  Agree                 Agree    Every day  Once a month   \n",
       "3                  Agree                 Agree    Every day     Every day   \n",
       "4               Disagree               Neither        Never         Never   \n",
       "\n",
       "    Read.a.book   Play.games Help.in.household  Maths..  Reading..  Science..  \\\n",
       "0  Once a month  Once a week         Every day      NaN      33.33        NaN   \n",
       "1         Never  Once a week         Every day      NaN      62.07        NaN   \n",
       "2  Once a month  Once a week         Every day      NaN      41.38        NaN   \n",
       "3         Never    Every day         Every day    29.82        NaN        NaN   \n",
       "4  Once a month  Once a week         Every day      NaN        NaN      27.27   \n",
       "\n",
       "   Social..  \n",
       "0       NaN  \n",
       "1       NaN  \n",
       "2       NaN  \n",
       "3       NaN  \n",
       "4       NaN  "
      ]
     },
     "execution_count": 53,
     "metadata": {},
     "output_type": "execute_result"
    }
   ],
   "source": [
    "mumbai.head(5)"
   ]
  },
  {
   "cell_type": "code",
   "execution_count": 21,
   "id": "8f67d00a-5c12-43f0-b18c-5862fb2b51e3",
   "metadata": {},
   "outputs": [
    {
     "data": {
      "text/plain": [
       "Index(['STUID', 'State', 'District', 'Gender', 'Age', 'Category',\n",
       "       'Same.language', 'Siblings', 'Handicap', 'Father.edu', 'Mother.edu',\n",
       "       'Father.occupation', 'Mother.occupation', 'Below.poverty',\n",
       "       'Use.calculator', 'Use.computer', 'Use.Internet', 'Use.dictionary',\n",
       "       'Read.other.books', 'X..Books', 'Distance', 'Computer.use',\n",
       "       'Library.use', 'Like.school', 'Subjects', 'Give.Lang.HW',\n",
       "       'Give.Math.HW', 'Give.Scie.HW', 'Give.SoSc.HW', 'Correct.Lang.HW',\n",
       "       'Correct.Math.HW', 'Correct.Scie.HW', 'Correct.SocS.HW',\n",
       "       'Help.in.Study', 'Private.tuition', 'English.is.difficult',\n",
       "       'Read.English', 'Dictionary.to.learn', 'Answer.English.WB',\n",
       "       'Answer.English.aloud', 'Maths.is.difficult', 'Solve.Maths',\n",
       "       'Solve.Maths.in.groups', 'Draw.geometry', 'Explain.answers',\n",
       "       'SocSci.is.difficult', 'Historical.excursions', 'Participate.in.SocSci',\n",
       "       'Small.groups.in.SocSci', 'Express.SocSci.views',\n",
       "       'Science.is.difficult', 'Observe.experiments', 'Conduct.experiments',\n",
       "       'Solve.science.problems', 'Express.science.views', 'Watch.TV',\n",
       "       'Read.magazine', 'Read.a.book', 'Play.games', 'Help.in.household',\n",
       "       'Maths..', 'Reading..', 'Science..', 'Social..'],\n",
       "      dtype='object')"
      ]
     },
     "execution_count": 21,
     "metadata": {},
     "output_type": "execute_result"
    }
   ],
   "source": [
    "mumbai.columns"
   ]
  },
  {
   "cell_type": "code",
   "execution_count": 19,
   "id": "2b03acc4-f5b5-4c6e-bfa5-1148388fb945",
   "metadata": {},
   "outputs": [
    {
     "data": {
      "text/plain": [
       "Watch.TV\n",
       "Every day       36.357915\n",
       "Never           35.638589\n",
       "Once a month    36.786127\n",
       "Once a week     36.467112\n",
       "Name: Science.., dtype: float64"
      ]
     },
     "execution_count": 19,
     "metadata": {},
     "output_type": "execute_result"
    }
   ],
   "source": [
    "# What is the impact of the variable ‘Watch.TV’ on Science marks?\n",
    "mumbai.groupby('Watch.TV')['Science..'].mean()"
   ]
  },
  {
   "cell_type": "code",
   "execution_count": 25,
   "id": "a6d0da14-b91a-40f5-9c4e-ddc897b541cf",
   "metadata": {},
   "outputs": [
    {
     "data": {
      "text/plain": [
       "Father.edu\n",
       "Degree & above    34.879193\n",
       "Illiterate        29.126754\n",
       "Primary           32.561137\n",
       "Secondary         32.230393\n",
       "Sr secondary      32.493415\n",
       "Name: Maths.., dtype: float64"
      ]
     },
     "execution_count": 25,
     "metadata": {},
     "output_type": "execute_result"
    }
   ],
   "source": [
    "# What is the impact of the father’s education on the student’s maths marks?\n",
    "mumbai.groupby('Father.edu')['Maths..'].mean()\n"
   ]
  },
  {
   "cell_type": "code",
   "execution_count": 29,
   "id": "aa9dacf1-579c-4968-84d1-c5ed697de563",
   "metadata": {},
   "outputs": [
    {
     "data": {
      "text/plain": [
       "Play.games\n",
       "Every day       54.780136\n",
       "Never           49.107484\n",
       "Once a month    51.951193\n",
       "Once a week     59.627034\n",
       "Name: Reading.., dtype: float64"
      ]
     },
     "execution_count": 29,
     "metadata": {},
     "output_type": "execute_result"
    }
   ],
   "source": [
    "# What is the impact of ‘Play.games’ on Reading marks?\n",
    "\n",
    "mumbai.groupby('Play.games')['Reading..'].mean()"
   ]
  },
  {
   "cell_type": "code",
   "execution_count": 35,
   "id": "6a5a76fa-3543-4db9-83f2-0c7c74e381de",
   "metadata": {},
   "outputs": [
    {
     "data": {
      "text/plain": [
       "State        Father.occupation\n",
       "Maharashtra  Business             32.865930\n",
       "             Clerk                33.518826\n",
       "             Farmer               31.817781\n",
       "             Labourer             30.391537\n",
       "             Professional         33.614800\n",
       "             Skilled Worker       32.323519\n",
       "             Teacher/Lecturer     34.958667\n",
       "             Unemployed           29.893993\n",
       "Name: Maths.., dtype: float64"
      ]
     },
     "execution_count": 35,
     "metadata": {},
     "output_type": "execute_result"
    }
   ],
   "source": [
    "# In Madhya Pradesh, which level of the father’s occupation is most likely to improve the percentage in Maths?\n",
    "\n",
    "mumbai.groupby(['State','Father.occupation'])['Maths..'].mean()"
   ]
  },
  {
   "cell_type": "code",
   "execution_count": 73,
   "id": "6e30b4d4-b731-44a1-96cf-a8490ee6e963",
   "metadata": {},
   "outputs": [
    {
     "data": {
      "text/plain": [
       "<Axes: xlabel='Mother.occupation'>"
      ]
     },
     "execution_count": 73,
     "metadata": {},
     "output_type": "execute_result"
    },
    {
     "data": {
      "image/png": "[encoded data removed]",
      "text/plain": [
       "<Figure size 640x480 with 1 Axes>"
      ]
     },
     "metadata": {},
     "output_type": "display_data"
    }
   ],
   "source": [
    "mumbai.groupby('Mother.occupation')[['Maths..'\t,'Reading..',\t'Science..',\t'Social..']].mean().plot.bar()"
   ]
  },
  {
   "cell_type": "code",
   "execution_count": 75,
   "id": "c5fa5308-3ea1-4300-96ad-eb75a98dc549",
   "metadata": {},
   "outputs": [
    {
     "data": {
      "text/plain": [
       "<Axes: xlabel='Father.occupation'>"
      ]
     },
     "execution_count": 75,
     "metadata": {},
     "output_type": "execute_result"
    },
    {
     "data": {
      "image/png": "[encoded data removed]",
      "text/plain": [
       "<Figure size 640x480 with 1 Axes>"
      ]
     },
     "metadata": {},
     "output_type": "display_data"
    }
   ],
   "source": [
    "mumbai.groupby('Father.occupation')[['Maths..'\t,'Reading..',\t'Science..',\t'Social..']].mean().plot.bar()"
   ]
  },
  {
   "cell_type": "code",
   "execution_count": 77,
   "id": "be193245-b1b9-4cf2-a988-c5b7b3f35d11",
   "metadata": {},
   "outputs": [
    {
     "data": {
      "text/plain": [
       "<Axes: xlabel='Father.edu'>"
      ]
     },
     "execution_count": 77,
     "metadata": {},
     "output_type": "execute_result"
    },
    {
     "data": {
      "image/png": "[encoded data removed]",
      "text/plain": [
       "<Figure size 640x480 with 1 Axes>"
      ]
     },
     "metadata": {},
     "output_type": "display_data"
    }
   ],
   "source": [
    "mumbai.groupby('Father.edu')[['Maths..'\t,'Reading..',\t'Science..',\t'Social..']].mean().plot.bar()"
   ]
  },
  {
   "cell_type": "code",
   "execution_count": 79,
   "id": "f7be73ee-0352-4b0b-bae3-70d64f2097c2",
   "metadata": {},
   "outputs": [
    {
     "data": {
      "text/plain": [
       "<Axes: xlabel='Mother.edu'>"
      ]
     },
     "execution_count": 79,
     "metadata": {},
     "output_type": "execute_result"
    },
    {
     "data": {
      "image/png": "[encoded data removed]",
      "text/plain": [
       "<Figure size 640x480 with 1 Axes>"
      ]
     },
     "metadata": {},
     "output_type": "display_data"
    }
   ],
   "source": [
    "mumbai.groupby('Mother.edu')[['Maths..'\t,'Reading..',\t'Science..',\t'Social..']].mean().plot.bar()"
   ]
  },
  {
   "cell_type": "code",
   "execution_count": 124,
   "id": "92500941-120f-4d4b-9627-411fe94e7abc",
   "metadata": {},
   "outputs": [
    {
     "data": {
      "text/plain": [
       "<pandas.core.groupby.generic.SeriesGroupBy object at 0x0000027B39CEC440>"
      ]
     },
     "execution_count": 124,
     "metadata": {},
     "output_type": "execute_result"
    }
   ],
   "source": [
    "mumbai.groupby('Mother.edu')['Reading..']"
   ]
  },
  {
   "cell_type": "code",
   "execution_count": 110,
   "id": "cde38af4-e8a1-47d7-b384-fe7fcc6d1526",
   "metadata": {},
   "outputs": [
    {
     "data": {
      "text/plain": [
       "Mother.edu\n",
       "Degree & above    Axes(0.125,0.11;0.775x0.77)\n",
       "Illiterate        Axes(0.125,0.11;0.775x0.77)\n",
       "Primary           Axes(0.125,0.11;0.775x0.77)\n",
       "Secondary         Axes(0.125,0.11;0.775x0.77)\n",
       "Sr secondary      Axes(0.125,0.11;0.775x0.77)\n",
       "Name: Reading.., dtype: object"
      ]
     },
     "execution_count": 110,
     "metadata": {},
     "output_type": "execute_result"
    }
   ],
   "source": []
  }
 ],
 "metadata": {
  "kernelspec": {
   "display_name": "Python [conda env:base] *",
   "language": "python",
   "name": "conda-base-py"
  },
  "language_info": {
   "codemirror_mode": {
    "name": "ipython",
    "version": 3
   },
   "file_extension": ".py",
   "mimetype": "text/x-python",
   "name": "python",
   "nbconvert_exporter": "python",
   "pygments_lexer": "ipython3",
   "version": "3.12.7"
  }
 },
 "nbformat": 4,
 "nbformat_minor": 5
}
