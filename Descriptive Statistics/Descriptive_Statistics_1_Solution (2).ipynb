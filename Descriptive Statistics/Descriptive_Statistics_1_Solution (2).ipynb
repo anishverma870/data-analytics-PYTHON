{
 "cells": [
  {
   "cell_type": "code",
   "execution_count": null,
   "id": "a18e4771",
   "metadata": {},
   "outputs": [],
   "source": [
    "###########################################################################"
   ]
  },
  {
   "cell_type": "code",
   "execution_count": null,
   "id": "024b27a7",
   "metadata": {},
   "outputs": [],
   "source": [
    "# Introduction\n",
    "\n",
    "# This Jupyter notebook is part of your learning experience in the study of descriptive statistics\n",
    "# You will work with a simple data set that contains employee specifics of a certain company\n",
    "\n",
    "# In this exercise, you will perform the following tasks:\n",
    "# 1 - Load and study the data\n",
    "# 2 - Visualise the distributions of ratings and compensations\n",
    "# 3 - Subset the data based on thresholds"
   ]
  },
  {
   "cell_type": "code",
   "execution_count": null,
   "id": "7e40a24f",
   "metadata": {},
   "outputs": [],
   "source": [
    "###########################################################################"
   ]
  },
  {
   "cell_type": "code",
   "execution_count": null,
   "id": "a9409726",
   "metadata": {},
   "outputs": [],
   "source": [
    "# Task 1 - Load and study the data\n",
    "\n",
    "# Load the data and study its features such as:\n",
    "# The number of employees\n",
    "# The number of features\n",
    "# The types of features"
   ]
  },
  {
   "cell_type": "code",
   "execution_count": null,
   "id": "695547fd",
   "metadata": {},
   "outputs": [],
   "source": [
    "# Load \"numpy\" and \"pandas\" for manipulating numbers and data frames\n",
    "# Load \"matplotlib.pyplot\" and \"seaborn\" for data visualisation\n",
    "import numpy as np\n",
    "import pandas as pd\n",
    "import matplotlib.pyplot as plt\n",
    "import seaborn as sns"
   ]
  },
  {
   "cell_type": "code",
   "execution_count": null,
   "id": "5a5b41da",
   "metadata": {},
   "outputs": [],
   "source": [
    "# Read in the \"Employee_Specifics.csv\" file as a Pandas Data Frame\n",
    "# Note: Make sure the code and the data are in the same folder or specify the appropriate path\n",
    "df = pd.read_csv('Employee_Specifics.csv', index_col = 0)"
   ]
  },
  {
   "cell_type": "code",
   "execution_count": null,
   "id": "dd087c02",
   "metadata": {},
   "outputs": [],
   "source": [
    "# Take a brief look at the data using \".head()\"\n",
    "df.head()"
   ]
  },
  {
   "cell_type": "code",
   "execution_count": null,
   "id": "ce4a5fa6",
   "metadata": {},
   "outputs": [],
   "source": [
    "# Study the description of the data\n",
    "# Note: Make sure the code and the data description are in the same folder or specify the appropriate path\n",
    "with open('Employee_Specifics_Feature_Description.txt', 'r') as f:\n",
    "    print(f.read())"
   ]
  },
  {
   "cell_type": "code",
   "execution_count": null,
   "id": "fb53d005",
   "metadata": {},
   "outputs": [],
   "source": [
    "# Get the dimensions of the data frame using \".shape\"\n",
    "df.shape"
   ]
  },
  {
   "cell_type": "code",
   "execution_count": null,
   "id": "1387d873",
   "metadata": {},
   "outputs": [],
   "source": [
    "# Get the row names of the data frame using \".index\"\n",
    "df.index"
   ]
  },
  {
   "cell_type": "code",
   "execution_count": null,
   "id": "9a4799ef",
   "metadata": {},
   "outputs": [],
   "source": [
    "# Get the column names of the data frame using \".columns\"\n",
    "df.columns"
   ]
  },
  {
   "cell_type": "code",
   "execution_count": null,
   "id": "19ba056d",
   "metadata": {},
   "outputs": [],
   "source": [
    "# Look at basic information about the data frame using \".info()\"\n",
    "df.info()"
   ]
  },
  {
   "cell_type": "code",
   "execution_count": null,
   "id": "c8722d6f",
   "metadata": {},
   "outputs": [],
   "source": [
    "# Observations\n",
    "\n",
    "# There are 20 rows and 4 columns in the data\n",
    "# Each row contains the employee specifics of a certain employee in the company\n",
    "\n",
    "# The features in the data set are:\n",
    "# The names of the employees\n",
    "# Their respective departments\n",
    "# Their compensations in rupees\n",
    "# Their ratings on a scale of 1 to 5"
   ]
  },
  {
   "cell_type": "code",
   "execution_count": null,
   "id": "3cb352cb",
   "metadata": {},
   "outputs": [],
   "source": [
    "###########################################################################"
   ]
  },
  {
   "cell_type": "code",
   "execution_count": null,
   "id": "99dfa35c",
   "metadata": {},
   "outputs": [],
   "source": [
    "# Task 2 - Visualise the distributions of ratings and compensations\n",
    "\n",
    "# We will now visualise the distributions of employee ratings and compensations\n",
    "\n",
    "# We will create the following plots:\n",
    "# A scatter plot of employee rating and employee compensation\n",
    "# A count plot of employee rating\n",
    "# A histogram of employee compensation\n",
    "\n",
    "# We will use these plots to decide rating and compensation thresholds"
   ]
  },
  {
   "cell_type": "code",
   "execution_count": null,
   "id": "be3503c4",
   "metadata": {},
   "outputs": [],
   "source": [
    "# Create a scatter plot of the \"Rating\" and \"Compensation\" features\n",
    "plt.figure(figsize = (8, 4), dpi= 100)\n",
    "sns.scatterplot(data = df, x = 'Rating', y = 'Compensation', alpha = 0.5, color = 'blue', edgecolor = 'linen')\n",
    "plt.title('Scatter Plot of Employee Rating and Employee Compensation')\n",
    "plt.xlabel('Employe Rating out of 5')\n",
    "plt.ylabel('Employee Compensation in rupees');\n",
    "# We observe that in general, as employee ratings increase, their compensation increases as well\n",
    "# But there are quite a few employees with higher ratings who are getting lower compensations"
   ]
  },
  {
   "cell_type": "code",
   "execution_count": null,
   "id": "835307e7",
   "metadata": {},
   "outputs": [],
   "source": [
    "# Create a count plot of the \"Rating\" feature\n",
    "plt.figure(figsize = (6, 3), dpi= 100)\n",
    "sns.countplot(data = df, x = 'Rating', alpha = 0.5, edgecolor = 'linen')\n",
    "plt.title('Count Plot of Employee Rating')\n",
    "plt.xlabel('Employee Rating')\n",
    "plt.ylabel('Count');\n",
    "# We see that most employees either have a 4 or a 5 rating, with 4 being the most frequent or typical\n",
    "# It would make sense to define any rating more than 4 as high; in this case, that would be a 5 rating"
   ]
  },
  {
   "cell_type": "code",
   "execution_count": null,
   "id": "57d5a385",
   "metadata": {},
   "outputs": [],
   "source": [
    "# Create a histogram of the \"Compensation\" feature\n",
    "plt.figure(figsize = (6, 3), dpi= 100)\n",
    "sns.histplot(data = df, x = 'Compensation', color = 'orange', edgecolor = 'linen', alpha = 0.5, bins = 10)\n",
    "plt.title('Histogram of Employee Compensation')\n",
    "plt.xlabel('Employee Compensation in rupees')\n",
    "plt.ylabel('Count');\n",
    "# We see that the compensations are not uniform, which is not necessarily a discrepancy\n",
    "# But we do observe that there are a few employees with compensations on either extremities of the histogram\n",
    "# Based on the histogram, any compensation less than 7,00,000 rupees could be considered as a lower compensation"
   ]
  },
  {
   "cell_type": "code",
   "execution_count": null,
   "id": "d7a807e7",
   "metadata": {},
   "outputs": [],
   "source": [
    "# Observations\n",
    "\n",
    "# Generally, as the employee ratings increase, there is an increase in the employee compensations\n",
    "# However, the employee compensation values are more spread out for higher employee ratings\n",
    "# An employee rating of 5 (which is the only rating greater than 4) can be considered as a high rating\n",
    "# An employee compensation less than 7,00,000 rupees can be considered as a lower compensation"
   ]
  },
  {
   "cell_type": "code",
   "execution_count": null,
   "id": "09749d13",
   "metadata": {},
   "outputs": [],
   "source": [
    "###########################################################################"
   ]
  },
  {
   "cell_type": "code",
   "execution_count": null,
   "id": "7733004b",
   "metadata": {},
   "outputs": [],
   "source": [
    "# Task 3 - Subset the data based on thresholds\n",
    "\n",
    "# We will now subset the original data frame based on the following conditions:\n",
    "# Employees with ratings greater than 4\n",
    "# Employees with compensations less than 7,00,000 rupees\n",
    "# Employees with ratings greater than 4 and with compensations less than 7,00,000 rupees"
   ]
  },
  {
   "cell_type": "code",
   "execution_count": null,
   "id": "eda55292",
   "metadata": {},
   "outputs": [],
   "source": [
    "# Subset the original data frame to contain only the entries with:\n",
    "# Employee rating greater than 4\n",
    "df[df['Rating'] > 4]"
   ]
  },
  {
   "cell_type": "code",
   "execution_count": null,
   "id": "fd51d629",
   "metadata": {},
   "outputs": [],
   "source": [
    "# Subest the original data frame to contain only the entries with:\n",
    "# Compensation less than 7,00,000 rupees\n",
    "df[df['Compensation'] < 700000]"
   ]
  },
  {
   "cell_type": "code",
   "execution_count": null,
   "id": "72569a3a",
   "metadata": {},
   "outputs": [],
   "source": [
    "# Subest the original data frame to contain only the entries with:\n",
    "# Employee rating greater than 4\n",
    "# Compensation less than 7,00,000 rupees\n",
    "df[(df['Rating'] > 4) & (df['Compensation'] < 700000)]"
   ]
  },
  {
   "cell_type": "code",
   "execution_count": null,
   "id": "d14114a8",
   "metadata": {},
   "outputs": [],
   "source": [
    "# Observations\n",
    "\n",
    "# The only employee seemingly facing a discrepancy in compensation as compared to rating is Aneesha\n",
    "# She has a rating of 5 but only has a compensation of 6,11,783 rupees"
   ]
  },
  {
   "cell_type": "code",
   "execution_count": null,
   "id": "13858ceb",
   "metadata": {},
   "outputs": [],
   "source": [
    "###########################################################################"
   ]
  },
  {
   "cell_type": "code",
   "execution_count": null,
   "id": "2a3e6234",
   "metadata": {},
   "outputs": [],
   "source": [
    "# Conclusions\n",
    "\n",
    "# From the given data, we can use simple visualisations to get a sense of how data are distributed\n",
    "# We can conduct preliminary analyses simply by subsetting data sets using well thought out thresholds and conditions"
   ]
  },
  {
   "cell_type": "code",
   "execution_count": null,
   "id": "72fd191c",
   "metadata": {},
   "outputs": [],
   "source": [
    "###########################################################################"
   ]
  }
 ],
 "metadata": {
  "kernelspec": {
   "display_name": "Python 3",
   "language": "python",
   "name": "python3"
  },
  "language_info": {
   "codemirror_mode": {
    "name": "ipython",
    "version": 3
   },
   "file_extension": ".py",
   "mimetype": "text/x-python",
   "name": "python",
   "nbconvert_exporter": "python",
   "pygments_lexer": "ipython3",
   "version": "3.8.8"
  }
 },
 "nbformat": 4,
 "nbformat_minor": 5
}
