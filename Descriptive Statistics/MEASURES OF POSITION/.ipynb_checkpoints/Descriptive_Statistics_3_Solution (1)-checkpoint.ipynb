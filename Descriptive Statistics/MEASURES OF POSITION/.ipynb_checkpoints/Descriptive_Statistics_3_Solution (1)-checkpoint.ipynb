{
 "cells": [
  {
   "cell_type": "code",
   "execution_count": null,
   "id": "d3a97cbd",
   "metadata": {},
   "outputs": [],
   "source": [
    "###########################################################################"
   ]
  },
  {
   "cell_type": "code",
   "execution_count": null,
   "id": "e0cf27a3",
   "metadata": {},
   "outputs": [],
   "source": [
    "# Introduction\n",
    "\n",
    "# This Jupyter notebook is part of your learning experience in the study of quantiles\n",
    "# You will work with a simple data set that contains the scores of job applicants in an entrance test\n",
    "\n",
    "# In this exercise, you will perform the following tasks:\n",
    "# 1 - Load and study the data\n",
    "# 2 - View the distributions of the various features in the data set and break them into categories using quantiles\n",
    "# 3 - Subset the data using the quantiles decided to separate the applicants into three categories"
   ]
  },
  {
   "cell_type": "code",
   "execution_count": null,
   "id": "3d168ba5",
   "metadata": {},
   "outputs": [],
   "source": [
    "###########################################################################"
   ]
  },
  {
   "cell_type": "code",
   "execution_count": null,
   "id": "ed5fba2d",
   "metadata": {},
   "outputs": [],
   "source": [
    "# Task 1 - Load and study the data\n",
    "\n",
    "# Load the data and study its features such as:\n",
    "# The number of applicants\n",
    "# The number of features\n",
    "# The types of features"
   ]
  },
  {
   "cell_type": "code",
   "execution_count": null,
   "id": "33884073",
   "metadata": {},
   "outputs": [],
   "source": [
    "# Load \"numpy\" and \"pandas\" for manipulating numbers and data frames\n",
    "# Load \"matplotlib.pyplot\" and \"seaborn\" for data visualisation\n",
    "import numpy as np\n",
    "import pandas as pd\n",
    "import matplotlib.pyplot as plt\n",
    "import seaborn as sns"
   ]
  },
  {
   "cell_type": "code",
   "execution_count": null,
   "id": "6da1963a",
   "metadata": {},
   "outputs": [],
   "source": [
    "# Read in the \"Interview_First_Stage_Exam.csv\" file as a Pandas Data Frame\n",
    "# Note: Make sure the code and the data are in the same folder or specify the appropriate path\n",
    "df = pd.read_csv('Interview_First_Stage_Exam.csv', index_col = 0)"
   ]
  },
  {
   "cell_type": "code",
   "execution_count": null,
   "id": "85e9af90",
   "metadata": {},
   "outputs": [],
   "source": [
    "# Take a brief look at the data using \".head()\"\n",
    "df.head()"
   ]
  },
  {
   "cell_type": "code",
   "execution_count": null,
   "id": "cfbc165c",
   "metadata": {},
   "outputs": [],
   "source": [
    "# Study the description of the data\n",
    "# Note: Make sure the code and the data description are in the same folder or specify the appropriate path\n",
    "with open('Interview_First_Stage_Exam_Feature_Description.txt', 'r') as f:\n",
    "    print(f.read())"
   ]
  },
  {
   "cell_type": "code",
   "execution_count": null,
   "id": "ee1f5ee7",
   "metadata": {},
   "outputs": [],
   "source": [
    "# Get the dimensions of the data frame using \".shape\"\n",
    "df.shape"
   ]
  },
  {
   "cell_type": "code",
   "execution_count": null,
   "id": "8cbf5ba2",
   "metadata": {},
   "outputs": [],
   "source": [
    "# Get the row names of the data frame using \".index\"\n",
    "df.index"
   ]
  },
  {
   "cell_type": "code",
   "execution_count": null,
   "id": "fa9b402e",
   "metadata": {},
   "outputs": [],
   "source": [
    "# Get the column names of the data frame using \".columns\"\n",
    "df.columns"
   ]
  },
  {
   "cell_type": "code",
   "execution_count": null,
   "id": "15f98552",
   "metadata": {},
   "outputs": [],
   "source": [
    "# Look at basic information about the data frame using \".info()\"\n",
    "df.info()"
   ]
  },
  {
   "cell_type": "code",
   "execution_count": null,
   "id": "5a37ea5c",
   "metadata": {},
   "outputs": [],
   "source": [
    "# Observations\n",
    "\n",
    "# There are 50 rows and 4 columns in the data\n",
    "# Each row contains the marks obtained out of 100 by a specific applicant in English, Mathematics and Programming\n",
    "\n",
    "# The features in the data set are:\n",
    "# The names of the applicants\n",
    "# Their marks obtained out of 100 in English\n",
    "# Their marks obtained out of 100 in mathematics\n",
    "# Their marks obtained out of 100 in programming"
   ]
  },
  {
   "cell_type": "code",
   "execution_count": null,
   "id": "6f1006e3",
   "metadata": {},
   "outputs": [],
   "source": [
    "###########################################################################"
   ]
  },
  {
   "cell_type": "code",
   "execution_count": null,
   "id": "ad7b435d",
   "metadata": {},
   "outputs": [],
   "source": [
    "# Task 2 - View the distributions of the various features in the data set and break them into categories using quantiles\n",
    "\n",
    "# We will now look at the distributions of the marks obtained by the applicants in the three subjects\n",
    "# We will also use quantiles to divide the distribution into groups"
   ]
  },
  {
   "cell_type": "code",
   "execution_count": null,
   "id": "ea900fa4",
   "metadata": {},
   "outputs": [],
   "source": [
    "# Calculate the median \"English\" feature using \".median()\"\n",
    "df['English'].median()"
   ]
  },
  {
   "cell_type": "code",
   "execution_count": null,
   "id": "350911bf",
   "metadata": {},
   "outputs": [],
   "source": [
    "# Create a histogram of the \"English\" feature and also show the median\n",
    "plt.figure(figsize = (6, 3), dpi= 100)\n",
    "sns.histplot(data = df, x = 'English', color = 'orange', edgecolor = 'linen', alpha = 0.5, bins = 10)\n",
    "plt.vlines(x = df['English'].median(), ymin = 0, ymax = 8, colors = 'red')\n",
    "plt.title('Histogram of Marks Obtained in English')\n",
    "plt.xlabel('Marks Obtained in English out of 100')\n",
    "plt.ylabel('Count');"
   ]
  },
  {
   "cell_type": "code",
   "execution_count": null,
   "id": "d1d3fcf0",
   "metadata": {},
   "outputs": [],
   "source": [
    "# Calculate the median \"English\" feature using \".quantile()\"\n",
    "# Note: The median is the 0.5th quantile, so pass in 0.5 as a parameter to the \".quantile()\" function\n",
    "df['English'].quantile(0.5)"
   ]
  },
  {
   "cell_type": "code",
   "execution_count": null,
   "id": "18f4c7a0",
   "metadata": {},
   "outputs": [],
   "source": [
    "# Calculate the quartiles of the \"English\" feature using \".quantile()\"\n",
    "# Note: The three quartiles are equal to the 0.25th, 0.5th and 0.75th quantiles\n",
    "# Note: You can pass a list of numbers to the \".quantile()\" function\n",
    "df['English'].quantile([0.25, 0.5, 0.75])"
   ]
  },
  {
   "cell_type": "code",
   "execution_count": null,
   "id": "9488b6bf",
   "metadata": {},
   "outputs": [],
   "source": [
    "# Create a histogram of the \"English\" feature and also show the quartiles\n",
    "plt.figure(figsize = (6, 3), dpi= 100)\n",
    "sns.histplot(data = df, x = 'English', color = 'orange', edgecolor = 'linen', alpha = 0.5, bins = 10)\n",
    "plt.vlines(x = df['English'].quantile([0.25, 0.5, 0.75]), ymin = 0, ymax = 8, colors = 'red')\n",
    "plt.title('Histogram of Marks Obtained in English')\n",
    "plt.xlabel('Marks Obtained in English out of 100')\n",
    "plt.ylabel('Count');"
   ]
  },
  {
   "cell_type": "code",
   "execution_count": null,
   "id": "729d1570",
   "metadata": {},
   "outputs": [],
   "source": [
    "# Create a box plot of the \"English\" feature\n",
    "plt.figure(figsize = (6, 3), dpi= 100)\n",
    "sns.boxplot(data = df, x = 'English', color = 'linen')\n",
    "plt.title('Box Plot of Marks Obtained in English')\n",
    "plt.xlabel('Marks Obtained in English out of 100');"
   ]
  },
  {
   "cell_type": "code",
   "execution_count": null,
   "id": "a7e12b6a",
   "metadata": {},
   "outputs": [],
   "source": [
    "# Calculate the quartiles of the \"Mathematics\" feature using \".quantile()\"\n",
    "# Note: The three quartiles are equal to the 0.25th, 0.5th and 0.75th quantiles\n",
    "# Note: You can pass a list of numbers to the \".quantile()\" function\n",
    "df['Mathematics'].quantile([0.25, 0.5, 0.75])"
   ]
  },
  {
   "cell_type": "code",
   "execution_count": null,
   "id": "5cc3cbf6",
   "metadata": {},
   "outputs": [],
   "source": [
    "# Create a histogram of the \"Mathematics\" feature and also show the quartiles\n",
    "plt.figure(figsize = (6, 3), dpi= 100)\n",
    "sns.histplot(data = df, x = 'Mathematics', color = 'orange', edgecolor = 'linen', alpha = 0.5, bins = 10)\n",
    "plt.vlines(x = df['Mathematics'].quantile([0.25, 0.5, 0.75]), ymin = 0, ymax = 8, colors = 'red')\n",
    "plt.title('Histogram of Marks Obtained in Mathematics')\n",
    "plt.xlabel('Marks Obtained in Mathematics out of 100')\n",
    "plt.ylabel('Count');"
   ]
  },
  {
   "cell_type": "code",
   "execution_count": null,
   "id": "ec1ad4ec",
   "metadata": {},
   "outputs": [],
   "source": [
    "# Create a box plot of the \"Mathematics\" feature\n",
    "plt.figure(figsize = (6, 3), dpi= 100)\n",
    "sns.boxplot(data = df, x = 'Mathematics', color = 'linen')\n",
    "plt.title('Box Plot of Marks Obtained in Mathematics')\n",
    "plt.xlabel('Marks Obtained in Mathematics out of 100');"
   ]
  },
  {
   "cell_type": "code",
   "execution_count": null,
   "id": "4f60f49f",
   "metadata": {},
   "outputs": [],
   "source": [
    "# Calculate the quartiles of the \"Programming\" feature using \".quantile()\"\n",
    "# Note: The three quartiles are equal to the 0.25th, 0.5th and 0.75th quantiles\n",
    "# Note: You can pass a list of numbers to the \".quantile()\" function\n",
    "df['Programming'].quantile([0.25, 0.5, 0.75])"
   ]
  },
  {
   "cell_type": "code",
   "execution_count": null,
   "id": "654de782",
   "metadata": {},
   "outputs": [],
   "source": [
    "# Create a histogram of the \"Programming\" feature and also show the quartiles\n",
    "plt.figure(figsize = (6, 3), dpi= 100)\n",
    "sns.histplot(data = df, x = 'Programming', color = 'orange', edgecolor = 'linen', alpha = 0.5, bins = 10)\n",
    "plt.vlines(x = df['Programming'].quantile([0.25, 0.5, 0.75]), ymin = 0, ymax = 10, colors = 'red')\n",
    "plt.title('Histogram of Marks Obtained in Programming')\n",
    "plt.xlabel('Marks Obtained in Programming out of 100')\n",
    "plt.ylabel('Count');"
   ]
  },
  {
   "cell_type": "code",
   "execution_count": null,
   "id": "8e730f54",
   "metadata": {},
   "outputs": [],
   "source": [
    "# Create a box plot of the \"Programming\" feature\n",
    "plt.figure(figsize = (6, 3), dpi= 100)\n",
    "sns.boxplot(data = df, x = 'Programming', color = 'linen')\n",
    "plt.title('Box Plot of Marks Obtained in Programming')\n",
    "plt.xlabel('Marks Obtained in Programming out of 100');"
   ]
  },
  {
   "cell_type": "code",
   "execution_count": null,
   "id": "d7dd5afb",
   "metadata": {},
   "outputs": [],
   "source": [
    "# Create a figure with all the relevant plots\n",
    "plt.figure(figsize = (12, 6))\n",
    "\n",
    "plt.subplot(3, 2, 1)\n",
    "sns.histplot(data = df, x = 'English', color = 'orange', edgecolor = 'linen', alpha = 0.5, bins = 10)\n",
    "plt.vlines(x = df['English'].quantile([0.25, 0.5, 0.75]), ymin = 0, ymax = 8, colors = 'red')\n",
    "plt.title('English')\n",
    "plt.xlabel('')\n",
    "plt.ylabel('')\n",
    "\n",
    "plt.subplot(3, 2, 2)\n",
    "sns.boxplot(data = df, x = 'English', color = 'linen')\n",
    "plt.title('English')\n",
    "plt.xlabel('')\n",
    "\n",
    "plt.subplot(3, 2, 3)\n",
    "sns.histplot(data = df, x = 'Mathematics', color = 'orange', edgecolor = 'linen', alpha = 0.5, bins = 10)\n",
    "plt.vlines(x = df['Mathematics'].quantile([0.25, 0.5, 0.75]), ymin = 0, ymax = 8, colors = 'red')\n",
    "plt.title('Mathematics')\n",
    "plt.xlabel('')\n",
    "plt.ylabel('')\n",
    "\n",
    "plt.subplot(3, 2, 4)\n",
    "sns.boxplot(data = df, x = 'Mathematics', color = 'linen')\n",
    "plt.title('Mathematics')\n",
    "plt.xlabel('')\n",
    "\n",
    "plt.subplot(3, 2, 5)\n",
    "sns.histplot(data = df, x = 'Programming', color = 'orange', edgecolor = 'linen', alpha = 0.5, bins = 10)\n",
    "plt.vlines(x = df['Programming'].quantile([0.25, 0.5, 0.75]), ymin = 0, ymax = 10, colors = 'red')\n",
    "plt.title('Programming')\n",
    "plt.xlabel('')\n",
    "plt.ylabel('')\n",
    "\n",
    "plt.subplot(3, 2, 6)\n",
    "sns.boxplot(data = df, x = 'Programming', color = 'linen')\n",
    "plt.title('Programming')\n",
    "plt.xlabel('')\n",
    "\n",
    "plt.tight_layout();"
   ]
  },
  {
   "cell_type": "code",
   "execution_count": null,
   "id": "634a8715",
   "metadata": {},
   "outputs": [],
   "source": [
    "# Observations\n",
    "\n",
    "# By observing the distance between the lower and upper quartiles of a distribution, we get a sense of its range\n",
    "# The spread of marks in the mathematics test is the greatest and it is least for the programming test\n",
    "# The lower and upper quartiles for English are 42.5 and 76.5\n",
    "# The lower and upper quartiles for mathematics are 37.25 and 77.25\n",
    "# The lower and upper quartiles for programming are 49 and 75"
   ]
  },
  {
   "cell_type": "code",
   "execution_count": null,
   "id": "4fc64e6f",
   "metadata": {},
   "outputs": [],
   "source": [
    "###########################################################################"
   ]
  },
  {
   "cell_type": "code",
   "execution_count": null,
   "id": "5c37e4f9",
   "metadata": {},
   "outputs": [],
   "source": [
    "# Task 3 - Subset the data using the quantiles decided to separate the applicants into three categories\n",
    "\n",
    "# We will now use the lower and upper quartiles as thresholds for the interview process\n",
    "# We will store the lower and upper cut-off marks in a data frame"
   ]
  },
  {
   "cell_type": "code",
   "execution_count": null,
   "id": "d745d5e2",
   "metadata": {},
   "outputs": [],
   "source": [
    "# Create a Pandas Series called \"lower\" to store the lower cut-off marks for all the subjects\n",
    "# Note: Set the \"index\" parameter of the series to the list of the column names of the data frame except the first column\n",
    "# Note: The \"data\" parameter of the series needs to be a list of the relevant values\n",
    "lower = pd.Series(index = df.columns[1:],\n",
    "                  data = [df['English'].quantile(0.25), df['Mathematics'].quantile(0.25), df['Programming'].quantile(0.25)])"
   ]
  },
  {
   "cell_type": "code",
   "execution_count": null,
   "id": "db655396",
   "metadata": {},
   "outputs": [],
   "source": [
    "# Print the \"lower\" series\n",
    "lower"
   ]
  },
  {
   "cell_type": "code",
   "execution_count": null,
   "id": "c56a0179",
   "metadata": {},
   "outputs": [],
   "source": [
    "# Create a Pandas Series called \"upper\" to store the upper cut-off marks for all the subjects\n",
    "# Note: Set the \"index\" parameter of the series to the list of the column names of the data frame except the first column\n",
    "# Note: The \"data\" parameter of the series needs to be a list of the relevant values\n",
    "upper = pd.Series(index = df.columns[1:],\n",
    "                  data = [df['English'].quantile(0.75), df['Mathematics'].quantile(0.75), df['Programming'].quantile(0.75)])"
   ]
  },
  {
   "cell_type": "code",
   "execution_count": null,
   "id": "db76f7fb",
   "metadata": {},
   "outputs": [],
   "source": [
    "# Print the \"upper\" series\n",
    "upper"
   ]
  },
  {
   "cell_type": "code",
   "execution_count": null,
   "id": "460cf4e3",
   "metadata": {},
   "outputs": [],
   "source": [
    "# Combine the \"lower\" and \"upper\" series into a single data frame called \"cutoff\"\n",
    "# Note: Set the \"index\" parameter of the data frame to the list of the column names of the data frame except the first column\n",
    "# Note: The \"data\" parameter must be set in the form of a Python Dictionary using the series \"lower\" and \"upper\"\n",
    "cutoff = pd.DataFrame(index = df.columns[1:], data = {'Lower' : lower, 'Upper' : upper})"
   ]
  },
  {
   "cell_type": "code",
   "execution_count": null,
   "id": "4c6d6812",
   "metadata": {},
   "outputs": [],
   "source": [
    "# Print the \"cutoff\" data frame\n",
    "cutoff"
   ]
  },
  {
   "cell_type": "code",
   "execution_count": null,
   "id": "cf9d9595",
   "metadata": {},
   "outputs": [],
   "source": [
    "# Use the upper cut-off values to get the details of applicants who will directly go to the final stage of the interview\n",
    "# Note: A candidate must have scored greater than or equal to the upper cut-off marks for each of the subjects\n",
    "# Store the resulting subsetted data frame as \"final\"\n",
    "final = df[(df['English'] >= 76.5) & (df['Mathematics'] >= 77.25) & (df['Programming'] >= 75)]"
   ]
  },
  {
   "cell_type": "code",
   "execution_count": null,
   "id": "2603e627",
   "metadata": {},
   "outputs": [],
   "source": [
    "# Print the \"Name\" feature of the \"final\" data frame\n",
    "# These are the specifics of the candidates who will directly proceed to the final stage of the interview\n",
    "final['Name']"
   ]
  },
  {
   "cell_type": "code",
   "execution_count": null,
   "id": "0cadbed0",
   "metadata": {},
   "outputs": [],
   "source": [
    "# Use the lower and upper cut-off values to get the details of applicants who will go to the second stage of the interview\n",
    "# Note: A candidate must have scored greater than or equal to the lower cut-off marks for each of the subjects\n",
    "# Note: The candidate must have scored less than the upper cut-off marks for each of the subjects\n",
    "# Store the resulting subsetted data frame as \"second\"\n",
    "second = df[(df['English'] >= 42.5) & (df['English'] < 76.5) &\n",
    "            (df['Mathematics'] >= 37.25) & (df['Mathematics'] < 77.25) &\n",
    "            (df['Programming'] >= 49) & (df['Programming'] < 75)]"
   ]
  },
  {
   "cell_type": "code",
   "execution_count": null,
   "id": "e57fc147",
   "metadata": {},
   "outputs": [],
   "source": [
    "# Print the \"Name\" feature of the \"second\" data frame\n",
    "# These are the specifics of the candidates who will proceed to the second stage of the interview\n",
    "second['Name']"
   ]
  },
  {
   "cell_type": "code",
   "execution_count": null,
   "id": "2d7c764a",
   "metadata": {},
   "outputs": [],
   "source": [
    "# Use the lower cut-off values to get the details of applicants who will be rejected this time and need to apply again\n",
    "# Note: A candidate must have scored less than the upper cut-off marks for each of the subjects\n",
    "# Store the resulting subsetted data frame as \"reject\"\n",
    "reject = df[(df['English'] < 42.5) & (df['Mathematics'] < 37.25) & (df['Programming'] < 49)]"
   ]
  },
  {
   "cell_type": "code",
   "execution_count": null,
   "id": "cf134cee",
   "metadata": {},
   "outputs": [],
   "source": [
    "# Print the \"Name\" feature of the \"reject\" data frame\n",
    "# These are the specifics of the candidates whol will need to apply again another time\n",
    "reject['Name']"
   ]
  },
  {
   "cell_type": "code",
   "execution_count": null,
   "id": "83c3e802",
   "metadata": {},
   "outputs": [],
   "source": [
    "# Observations\n",
    "\n",
    "# We can derive quantile values from a given distribution\n",
    "# The quantile values are wholly dependent on the given distribution\n",
    "# The quartiles help us divide the distributions into four equal parts\n",
    "# We can use the lower and upper quartiles as thresholds for the interview process"
   ]
  },
  {
   "cell_type": "code",
   "execution_count": null,
   "id": "5e533437",
   "metadata": {},
   "outputs": [],
   "source": [
    "###########################################################################"
   ]
  },
  {
   "cell_type": "code",
   "execution_count": null,
   "id": "6b29f0cb",
   "metadata": {},
   "outputs": [],
   "source": [
    "# Conclusions\n",
    "\n",
    "# From the given data, we can use simple visualisations to get a sense of how data are distributed\n",
    "# We can use various quantile measures to break the distributions into equal parts\n",
    "# We can use the first and the third quartiles as lower and upper cut-offs for the interview process"
   ]
  },
  {
   "cell_type": "code",
   "execution_count": null,
   "id": "1b6265d1",
   "metadata": {},
   "outputs": [],
   "source": [
    "###########################################################################"
   ]
  }
 ],
 "metadata": {
  "kernelspec": {
   "display_name": "Python 3",
   "language": "python",
   "name": "python3"
  },
  "language_info": {
   "codemirror_mode": {
    "name": "ipython",
    "version": 3
   },
   "file_extension": ".py",
   "mimetype": "text/x-python",
   "name": "python",
   "nbconvert_exporter": "python",
   "pygments_lexer": "ipython3",
   "version": "3.8.8"
  }
 },
 "nbformat": 4,
 "nbformat_minor": 5
}
