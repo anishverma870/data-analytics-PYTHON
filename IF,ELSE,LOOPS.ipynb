{
 "cells": [
  {
   "cell_type": "markdown",
   "id": "838748ae-c289-4503-81a3-48586435b400",
   "metadata": {},
   "source": [
    "# CONDITIONALS "
   ]
  },
  {
   "cell_type": "code",
   "execution_count": null,
   "id": "dc003699-84f0-4b92-9e6b-c72037561591",
   "metadata": {},
   "outputs": [],
   "source": [
    "#if statement\n",
    "#if-else statement\n",
    "#if-elif-else statement\n",
    "#match-case statement (introduced in Python 3.10)"
   ]
  },
  {
   "cell_type": "code",
   "execution_count": 5,
   "id": "24cf02e3-e388-4151-adf4-3d03ef0fe6a5",
   "metadata": {},
   "outputs": [
    {
     "name": "stdout",
     "output_type": "stream",
     "text": [
      "its cold\n"
     ]
    }
   ],
   "source": [
    "temp = 19\n",
    "\n",
    "if temp > 20:\n",
    "    print('temperature is hot ')\n",
    "else: \n",
    "    print('its cold')\n"
   ]
  },
  {
   "cell_type": "markdown",
   "id": "c0e74589-c4a9-4312-9035-8c7672434732",
   "metadata": {},
   "source": [
    "### Compound conditions"
   ]
  },
  {
   "cell_type": "code",
   "execution_count": 6,
   "id": "71d06ad4-e557-4f2c-9677-6b9f669bc796",
   "metadata": {},
   "outputs": [
    {
     "name": "stdout",
     "output_type": "stream",
     "text": [
      "its getting hot\n"
     ]
    }
   ],
   "source": [
    "is_sunny = True\n",
    "temp = 28\n",
    "if is_sunny and temp > 20 :\n",
    "    print('its getting hot')"
   ]
  },
  {
   "cell_type": "markdown",
   "id": "2b470456-e068-4cfb-980b-5b1aa01d3b49",
   "metadata": {},
   "source": [
    "#### Conditions on variables"
   ]
  },
  {
   "cell_type": "code",
   "execution_count": 13,
   "id": "5a548f30-035f-40a9-a547-8a16df7a0948",
   "metadata": {},
   "outputs": [
    {
     "name": "stdin",
     "output_type": "stream",
     "text": [
      "enter the name  anish\n"
     ]
    },
    {
     "name": "stdout",
     "output_type": "stream",
     "text": [
      "the char are less the 10 char\n"
     ]
    }
   ],
   "source": [
    "name = str(input('enter the name '))\n",
    "if len (name ) >= 10 :\n",
    "    print('the char are more then and equal to 10')\n",
    "else :\n",
    "    print('the char are less the 10 char')"
   ]
  },
  {
   "cell_type": "code",
   "execution_count": null,
   "id": "28f9c495-0d92-4870-8398-b8ff6b5d3bc6",
   "metadata": {},
   "outputs": [],
   "source": []
  },
  {
   "cell_type": "code",
   "execution_count": null,
   "id": "22c75aab-d6a4-42d3-a56a-471d9e4bd7d3",
   "metadata": {},
   "outputs": [],
   "source": []
  },
  {
   "cell_type": "code",
   "execution_count": null,
   "id": "92e67d66-1c74-4053-b88f-68f89898560c",
   "metadata": {},
   "outputs": [],
   "source": []
  },
  {
   "cell_type": "code",
   "execution_count": null,
   "id": "6368126d-1763-4ab7-b2fd-34271eaf23be",
   "metadata": {},
   "outputs": [],
   "source": []
  },
  {
   "cell_type": "code",
   "execution_count": null,
   "id": "6d5e3867-4052-4682-952a-4c456d0c0bfd",
   "metadata": {},
   "outputs": [],
   "source": []
  },
  {
   "cell_type": "code",
   "execution_count": null,
   "id": "c2a054a9-586f-48ef-a318-ab1affeef58b",
   "metadata": {},
   "outputs": [],
   "source": []
  },
  {
   "cell_type": "code",
   "execution_count": null,
   "id": "9d604128-b71b-43ea-a277-e1eb9b6c00fd",
   "metadata": {},
   "outputs": [],
   "source": []
  },
  {
   "cell_type": "code",
   "execution_count": null,
   "id": "ea043086-f8ba-484e-8d60-f5d7c8ca00ca",
   "metadata": {},
   "outputs": [],
   "source": []
  },
  {
   "cell_type": "code",
   "execution_count": null,
   "id": "759e9272-bc15-4a51-b272-d8d8f91c55b0",
   "metadata": {},
   "outputs": [],
   "source": []
  },
  {
   "cell_type": "code",
   "execution_count": null,
   "id": "f687cee1-692b-4e9a-9102-17926201e59c",
   "metadata": {},
   "outputs": [],
   "source": []
  }
 ],
 "metadata": {
  "kernelspec": {
   "display_name": "Python 3 (ipykernel)",
   "language": "python",
   "name": "python3"
  },
  "language_info": {
   "codemirror_mode": {
    "name": "ipython",
    "version": 3
   },
   "file_extension": ".py",
   "mimetype": "text/x-python",
   "name": "python",
   "nbconvert_exporter": "python",
   "pygments_lexer": "ipython3",
   "version": "3.12.7"
  }
 },
 "nbformat": 4,
 "nbformat_minor": 5
}
