{
 "cells": [
  {
   "cell_type": "markdown",
   "id": "838748ae-c289-4503-81a3-48586435b400",
   "metadata": {},
   "source": [
    "# CONDITIONALS "
   ]
  },
  {
   "cell_type": "code",
   "execution_count": null,
   "id": "dc003699-84f0-4b92-9e6b-c72037561591",
   "metadata": {},
   "outputs": [],
   "source": [
    "#if statement\n",
    "#if-else statement\n",
    "#if-elif-else statement\n",
    "#match-case statement (introduced in Python 3.10)"
   ]
  },
  {
   "cell_type": "code",
   "execution_count": 5,
   "id": "24cf02e3-e388-4151-adf4-3d03ef0fe6a5",
   "metadata": {},
   "outputs": [
    {
     "name": "stdout",
     "output_type": "stream",
     "text": [
      "its cold\n"
     ]
    }
   ],
   "source": [
    "temp = 19\n",
    "\n",
    "if temp > 20:\n",
    "    print('temperature is hot ')\n",
    "else: \n",
    "    print('its cold')\n"
   ]
  },
  {
   "cell_type": "markdown",
   "id": "c0e74589-c4a9-4312-9035-8c7672434732",
   "metadata": {},
   "source": [
    "### Compound conditions"
   ]
  },
  {
   "cell_type": "code",
   "execution_count": 6,
   "id": "71d06ad4-e557-4f2c-9677-6b9f669bc796",
   "metadata": {},
   "outputs": [
    {
     "name": "stdout",
     "output_type": "stream",
     "text": [
      "its getting hot\n"
     ]
    }
   ],
   "source": [
    "is_sunny = True\n",
    "temp = 28\n",
    "if is_sunny and temp > 20 :\n",
    "    print('its getting hot')"
   ]
  },
  {
   "cell_type": "markdown",
   "id": "2b470456-e068-4cfb-980b-5b1aa01d3b49",
   "metadata": {},
   "source": [
    "#### Conditions on variables"
   ]
  },
  {
   "cell_type": "code",
   "execution_count": 13,
   "id": "5a548f30-035f-40a9-a547-8a16df7a0948",
   "metadata": {},
   "outputs": [
    {
     "name": "stdin",
     "output_type": "stream",
     "text": [
      "enter the name  anish\n"
     ]
    },
    {
     "name": "stdout",
     "output_type": "stream",
     "text": [
      "the char are less the 10 char\n"
     ]
    }
   ],
   "source": [
    "name = str(input('enter the name '))\n",
    "if len (name ) >= 10 :\n",
    "    print('the char are more then and equal to 10')\n",
    "else :\n",
    "    print('the char are less the 10 char')"
   ]
  },
  {
   "cell_type": "markdown",
   "id": "a877a4e4-262c-4391-8567-1a5240bc1cd4",
   "metadata": {},
   "source": [
    "### NESTED IF STATEMENTS"
   ]
  },
  {
   "cell_type": "code",
   "execution_count": 3,
   "id": "22c75aab-d6a4-42d3-a56a-471d9e4bd7d3",
   "metadata": {},
   "outputs": [
    {
     "name": "stdin",
     "output_type": "stream",
     "text": [
      "enter your credit score  700\n",
      "enter your income 200\n"
     ]
    },
    {
     "name": "stdout",
     "output_type": "stream",
     "text": [
      "inceficient balance\n"
     ]
    }
   ],
   "source": [
    "credit_score = int(input('enter your credit score '))\n",
    "income = int(input('enter your income'))\n",
    "if credit_score >= 600 :\n",
    "    if income > 20000:\n",
    "        print(\"credit card approved \")\n",
    "    else:\n",
    "        print('inceficient income')\n",
    "else:\n",
    "    print('incefeceint credit score')"
   ]
  },
  {
   "cell_type": "markdown",
   "id": "944aee73-bebb-4ad3-ba68-ca7df9fbc384",
   "metadata": {},
   "source": [
    "## MATCH CASE STATEMENT"
   ]
  },
  {
   "cell_type": "code",
   "execution_count": 7,
   "id": "6368126d-1763-4ab7-b2fd-34271eaf23be",
   "metadata": {},
   "outputs": [
    {
     "name": "stdin",
     "output_type": "stream",
     "text": [
      " 6\n"
     ]
    },
    {
     "name": "stdout",
     "output_type": "stream",
     "text": [
      "saturday\n"
     ]
    }
   ],
   "source": [
    "weeks_day = int(input())\n",
    "match weeks_day :\n",
    "    case 1 :\n",
    "        print('monday')\n",
    "    case 2 :\n",
    "        print(\"tuesday\")\n",
    "    case 3 :\n",
    "        print('wednesday')\n",
    "    case 4 :\n",
    "        print('thursday')\n",
    "    case 5 :\n",
    "        print('friday ')\n",
    "    case 6 :\n",
    "        print('saturday')\n",
    "    case 7 :\n",
    "        print('sunday')"
   ]
  },
  {
   "cell_type": "markdown",
   "id": "f8f02311-68ca-4457-bf28-cd4bbe4a47aa",
   "metadata": {},
   "source": [
    "### ELIF STATEMENT "
   ]
  },
  {
   "cell_type": "code",
   "execution_count": 11,
   "id": "c2a054a9-586f-48ef-a318-ab1affeef58b",
   "metadata": {},
   "outputs": [
    {
     "name": "stdin",
     "output_type": "stream",
     "text": [
      " 41111111\n"
     ]
    },
    {
     "name": "stdout",
     "output_type": "stream",
     "text": [
      "the tax applied  6166666.649999999\n"
     ]
    }
   ],
   "source": [
    "salary = int(input())\n",
    "if salary <= 20000 :\n",
    "    print(\"no tax are applied\")\n",
    "elif salary >20000 and salary <=30000 :\n",
    "    print('the tax are applied',salary * 0.05)\n",
    "elif salary > 30000 and salary <=40000 :\n",
    "    print('the tax are applied ',salary * 0.10)\n",
    "elif salary > 40000 :\n",
    "    print('the tax applied ',salary * 0.15)\n",
    "else:\n",
    "    print(\"enter your salry\")"
   ]
  },
  {
   "cell_type": "markdown",
   "id": "4c7892c1-bd38-4cf7-90ff-39e25220f39e",
   "metadata": {},
   "source": [
    "# LOOPS"
   ]
  },
  {
   "cell_type": "markdown",
   "id": "7456532a-fe76-4984-a95f-04400d3314df",
   "metadata": {},
   "source": [
    "### while loop"
   ]
  },
  {
   "cell_type": "markdown",
   "id": "762c8796-c90d-4711-98c8-2ac5c5a638d3",
   "metadata": {},
   "source": [
    "The while loop\n",
    "\n",
    "A while loop in Python repeatedly executes a target statement as long as a given condition remains true. It's one of the simplest forms of looping structures in Python and serves as the basis for more complex iterations. The general form of a while loop is:"
   ]
  },
  {
   "cell_type": "code",
   "execution_count": null,
   "id": "f687cee1-692b-4e9a-9102-17926201e59c",
   "metadata": {},
   "outputs": [],
   "source": [
    "while condition: \n",
    "\n",
    "    # execute code block "
   ]
  },
  {
   "cell_type": "code",
   "execution_count": 3,
   "id": "279a7dd5-9aa6-465e-8524-d8b10b0003d4",
   "metadata": {},
   "outputs": [
    {
     "name": "stdout",
     "output_type": "stream",
     "text": [
      "4\n",
      "3\n",
      "2\n",
      "1\n",
      "0\n"
     ]
    }
   ],
   "source": [
    "\n",
    "num = 5\n",
    "while num > 0 :\n",
    "    num = num - 1\n",
    "    print(num)"
   ]
  },
  {
   "cell_type": "code",
   "execution_count": 13,
   "id": "d28cb5c0-77ce-4fb0-a9b7-831942facd90",
   "metadata": {},
   "outputs": [
    {
     "name": "stdout",
     "output_type": "stream",
     "text": [
      "a b c d e f g h i j k l m n o p q r s t u v w x y z "
     ]
    }
   ],
   "source": [
    "# while loop for the write the alphabets \n",
    "alpha = \"a\"\n",
    "while alpha <= \"z\" :\n",
    "    print(alpha ,end=\" \")\n",
    "    alpha = chr(ord(alpha )+ 1)"
   ]
  },
  {
   "cell_type": "code",
   "execution_count": 20,
   "id": "f65104d0-b12e-4f92-874b-51a5f2e11a97",
   "metadata": {},
   "outputs": [
    {
     "name": "stdout",
     "output_type": "stream",
     "text": [
      "a\n",
      "n\n",
      "i\n",
      "s\n",
      "h\n"
     ]
    }
   ],
   "source": [
    "my_str = 'anish'\n",
    "index = 0\n",
    "while index < len(my_str):\n",
    "    \n",
    "    print(my_str[index])\n",
    "    index = index + 1\n",
    "      "
   ]
  },
  {
   "cell_type": "code",
   "execution_count": 19,
   "id": "687a3dc2-9f45-4cb1-a2cb-a892c9a1eed9",
   "metadata": {},
   "outputs": [
    {
     "name": "stdout",
     "output_type": "stream",
     "text": [
      "a\n",
      "n\n",
      "i\n",
      "s\n",
      "h\n"
     ]
    }
   ],
   "source": [
    "my_str = 'anish'\n",
    "index = 0\n",
    "\n",
    "while index < len(my_str):\n",
    "    print(my_str[index])  # Print before incrementing index\n",
    "    index = index + 1  # Move to the next character\n"
   ]
  },
  {
   "cell_type": "code",
   "execution_count": null,
   "id": "f632ff4f-8911-4556-952e-1105d05617bb",
   "metadata": {},
   "outputs": [],
   "source": []
  },
  {
   "cell_type": "code",
   "execution_count": null,
   "id": "defd19ff-8d1d-456a-8a84-a27016b9ef42",
   "metadata": {},
   "outputs": [],
   "source": []
  },
  {
   "cell_type": "code",
   "execution_count": null,
   "id": "fe95ecdb-e7cb-490d-84fe-1ea8b964ae4f",
   "metadata": {},
   "outputs": [],
   "source": []
  },
  {
   "cell_type": "code",
   "execution_count": null,
   "id": "46abdc5a-5d7b-45a8-a37b-b2ecb95eca9b",
   "metadata": {},
   "outputs": [],
   "source": []
  },
  {
   "cell_type": "code",
   "execution_count": null,
   "id": "b06bd3df-fce7-4b24-b654-8039fcfaefce",
   "metadata": {},
   "outputs": [],
   "source": []
  },
  {
   "cell_type": "code",
   "execution_count": null,
   "id": "45e6dce2-7200-4bf7-bbd3-e8b775fe0066",
   "metadata": {},
   "outputs": [],
   "source": []
  },
  {
   "cell_type": "code",
   "execution_count": null,
   "id": "b1960472-c6b6-476c-991b-05d5425e9746",
   "metadata": {},
   "outputs": [],
   "source": []
  },
  {
   "cell_type": "code",
   "execution_count": null,
   "id": "6aa9f652-f31a-42c5-9e39-1d2df4a370cf",
   "metadata": {},
   "outputs": [],
   "source": []
  },
  {
   "cell_type": "code",
   "execution_count": null,
   "id": "1ef10b72-536a-49b0-8194-3c9993cd8df4",
   "metadata": {},
   "outputs": [],
   "source": []
  },
  {
   "cell_type": "code",
   "execution_count": null,
   "id": "d7000507-3972-4df8-8321-db52170d34e1",
   "metadata": {},
   "outputs": [],
   "source": []
  }
 ],
 "metadata": {
  "kernelspec": {
   "display_name": "Python 3 (ipykernel)",
   "language": "python",
   "name": "python3"
  },
  "language_info": {
   "codemirror_mode": {
    "name": "ipython",
    "version": 3
   },
   "file_extension": ".py",
   "mimetype": "text/x-python",
   "name": "python",
   "nbconvert_exporter": "python",
   "pygments_lexer": "ipython3",
   "version": "3.12.7"
  }
 },
 "nbformat": 4,
 "nbformat_minor": 5
}
