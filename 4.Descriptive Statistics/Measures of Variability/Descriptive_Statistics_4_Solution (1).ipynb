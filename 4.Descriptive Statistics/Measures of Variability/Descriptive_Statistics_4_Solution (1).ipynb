{
  "cells": [
    {
      "cell_type": "code",
      "execution_count": 35,
      "id": "8a95012e",
      "metadata": {
        "id": "8a95012e"
      },
      "outputs": [],
      "source": [
        "###########################################################################"
      ]
    },
    {
      "cell_type": "code",
      "execution_count": 36,
      "id": "bf9f4933",
      "metadata": {
        "id": "bf9f4933"
      },
      "outputs": [],
      "source": [
        "# Introduction\n",
        "\n",
        "# This Jupyter notebook is part of your learning experience in the study of variability\n",
        "# You will work with a simple data set that contains the investment returns of different agencies\n",
        "\n",
        "# In this exercise, you will perform the following tasks:\n",
        "# 1 - Load and study the data\n",
        "# 2 - View the distributions of the various features in the data set and also calculate various measures of dispersion\n",
        "# 3 - Create a data frame to compare the variability in the investment returns of the different agencies"
      ]
    },
    {
      "cell_type": "code",
      "execution_count": 37,
      "id": "bdfe4e95",
      "metadata": {
        "id": "bdfe4e95"
      },
      "outputs": [],
      "source": [
        "###########################################################################"
      ]
    },
    {
      "cell_type": "code",
      "execution_count": 38,
      "id": "da15f289",
      "metadata": {
        "id": "da15f289"
      },
      "outputs": [],
      "source": [
        "# Task 1 - Load and study the data\n",
        "\n",
        "# Load the data and study its features such as:\n",
        "# The years for which investment returns have been recorded\n",
        "# The number of agencies whose data is available"
      ]
    },
    {
      "cell_type": "code",
      "execution_count": 39,
      "id": "33884073",
      "metadata": {
        "id": "33884073"
      },
      "outputs": [],
      "source": [
        "# Load \"numpy\" and \"pandas\" for manipulating numbers and data frames\n",
        "# Load \"matplotlib.pyplot\" and \"seaborn\" for data visualisation\n",
        "import numpy as np\n",
        "import pandas as pd\n",
        "import matplotlib.pyplot as plt\n",
        "import seaborn as sns"
      ]
    },
    {
      "cell_type": "code",
      "execution_count": 40,
      "id": "6da1963a",
      "metadata": {
        "id": "6da1963a"
      },
      "outputs": [],
      "source": [
        "# Read in the \"Investment_Returns.csv\" file as a Pandas Data Frame\n",
        "# Note: Make sure the code and the data are in the same folder or specify the appropriate path\n",
        "df = pd.read_csv('Investment_Returns.csv', index_col = 0)"
      ]
    },
    {
      "cell_type": "code",
      "execution_count": 41,
      "id": "85e9af90",
      "metadata": {
        "colab": {
          "base_uri": "https://localhost:8080/",
          "height": 238
        },
        "id": "85e9af90",
        "outputId": "ed72401b-de4f-4d14-de7c-a1e8796d02d3"
      },
      "outputs": [
        {
          "output_type": "execute_result",
          "data": {
            "text/plain": [
              "      George and Wallace  Imperial Traders  High Rise\n",
              "Year                                                 \n",
              "2001                12.6              -5.6        8.5\n",
              "2002                 7.4               8.7        6.3\n",
              "2003               -12.6              13.0       -3.2\n",
              "2004                -5.8              -6.4       -3.9\n",
              "2005                 9.2              10.7        6.0"
            ],
            "text/html": [
              "\n",
              "  <div id=\"df-06574837-1284-4996-8739-591b4bf29c90\" class=\"colab-df-container\">\n",
              "    <div>\n",
              "<style scoped>\n",
              "    .dataframe tbody tr th:only-of-type {\n",
              "        vertical-align: middle;\n",
              "    }\n",
              "\n",
              "    .dataframe tbody tr th {\n",
              "        vertical-align: top;\n",
              "    }\n",
              "\n",
              "    .dataframe thead th {\n",
              "        text-align: right;\n",
              "    }\n",
              "</style>\n",
              "<table border=\"1\" class=\"dataframe\">\n",
              "  <thead>\n",
              "    <tr style=\"text-align: right;\">\n",
              "      <th></th>\n",
              "      <th>George and Wallace</th>\n",
              "      <th>Imperial Traders</th>\n",
              "      <th>High Rise</th>\n",
              "    </tr>\n",
              "    <tr>\n",
              "      <th>Year</th>\n",
              "      <th></th>\n",
              "      <th></th>\n",
              "      <th></th>\n",
              "    </tr>\n",
              "  </thead>\n",
              "  <tbody>\n",
              "    <tr>\n",
              "      <th>2001</th>\n",
              "      <td>12.6</td>\n",
              "      <td>-5.6</td>\n",
              "      <td>8.5</td>\n",
              "    </tr>\n",
              "    <tr>\n",
              "      <th>2002</th>\n",
              "      <td>7.4</td>\n",
              "      <td>8.7</td>\n",
              "      <td>6.3</td>\n",
              "    </tr>\n",
              "    <tr>\n",
              "      <th>2003</th>\n",
              "      <td>-12.6</td>\n",
              "      <td>13.0</td>\n",
              "      <td>-3.2</td>\n",
              "    </tr>\n",
              "    <tr>\n",
              "      <th>2004</th>\n",
              "      <td>-5.8</td>\n",
              "      <td>-6.4</td>\n",
              "      <td>-3.9</td>\n",
              "    </tr>\n",
              "    <tr>\n",
              "      <th>2005</th>\n",
              "      <td>9.2</td>\n",
              "      <td>10.7</td>\n",
              "      <td>6.0</td>\n",
              "    </tr>\n",
              "  </tbody>\n",
              "</table>\n",
              "</div>\n",
              "    <div class=\"colab-df-buttons\">\n",
              "\n",
              "  <div class=\"colab-df-container\">\n",
              "    <button class=\"colab-df-convert\" onclick=\"convertToInteractive('df-06574837-1284-4996-8739-591b4bf29c90')\"\n",
              "            title=\"Convert this dataframe to an interactive table.\"\n",
              "            style=\"display:none;\">\n",
              "\n",
              "  <svg xmlns=\"http://www.w3.org/2000/svg\" height=\"24px\" viewBox=\"0 -960 960 960\">\n",
              "    <path d=\"M120-120v-720h720v720H120Zm60-500h600v-160H180v160Zm220 220h160v-160H400v160Zm0 220h160v-160H400v160ZM180-400h160v-160H180v160Zm440 0h160v-160H620v160ZM180-180h160v-160H180v160Zm440 0h160v-160H620v160Z\"/>\n",
              "  </svg>\n",
              "    </button>\n",
              "\n",
              "  <style>\n",
              "    .colab-df-container {\n",
              "      display:flex;\n",
              "      gap: 12px;\n",
              "    }\n",
              "\n",
              "    .colab-df-convert {\n",
              "      background-color: #E8F0FE;\n",
              "      border: none;\n",
              "      border-radius: 50%;\n",
              "      cursor: pointer;\n",
              "      display: none;\n",
              "      fill: #1967D2;\n",
              "      height: 32px;\n",
              "      padding: 0 0 0 0;\n",
              "      width: 32px;\n",
              "    }\n",
              "\n",
              "    .colab-df-convert:hover {\n",
              "      background-color: #E2EBFA;\n",
              "      box-shadow: 0px 1px 2px rgba(60, 64, 67, 0.3), 0px 1px 3px 1px rgba(60, 64, 67, 0.15);\n",
              "      fill: #174EA6;\n",
              "    }\n",
              "\n",
              "    .colab-df-buttons div {\n",
              "      margin-bottom: 4px;\n",
              "    }\n",
              "\n",
              "    [theme=dark] .colab-df-convert {\n",
              "      background-color: #3B4455;\n",
              "      fill: #D2E3FC;\n",
              "    }\n",
              "\n",
              "    [theme=dark] .colab-df-convert:hover {\n",
              "      background-color: #434B5C;\n",
              "      box-shadow: 0px 1px 3px 1px rgba(0, 0, 0, 0.15);\n",
              "      filter: drop-shadow(0px 1px 2px rgba(0, 0, 0, 0.3));\n",
              "      fill: #FFFFFF;\n",
              "    }\n",
              "  </style>\n",
              "\n",
              "    <script>\n",
              "      const buttonEl =\n",
              "        document.querySelector('#df-06574837-1284-4996-8739-591b4bf29c90 button.colab-df-convert');\n",
              "      buttonEl.style.display =\n",
              "        google.colab.kernel.accessAllowed ? 'block' : 'none';\n",
              "\n",
              "      async function convertToInteractive(key) {\n",
              "        const element = document.querySelector('#df-06574837-1284-4996-8739-591b4bf29c90');\n",
              "        const dataTable =\n",
              "          await google.colab.kernel.invokeFunction('convertToInteractive',\n",
              "                                                    [key], {});\n",
              "        if (!dataTable) return;\n",
              "\n",
              "        const docLinkHtml = 'Like what you see? Visit the ' +\n",
              "          '<a target=\"_blank\" href=https://colab.research.google.com/notebooks/data_table.ipynb>data table notebook</a>'\n",
              "          + ' to learn more about interactive tables.';\n",
              "        element.innerHTML = '';\n",
              "        dataTable['output_type'] = 'display_data';\n",
              "        await google.colab.output.renderOutput(dataTable, element);\n",
              "        const docLink = document.createElement('div');\n",
              "        docLink.innerHTML = docLinkHtml;\n",
              "        element.appendChild(docLink);\n",
              "      }\n",
              "    </script>\n",
              "  </div>\n",
              "\n",
              "\n",
              "<div id=\"df-99cec0d3-d1af-4d62-a61a-639b1ec9c7b8\">\n",
              "  <button class=\"colab-df-quickchart\" onclick=\"quickchart('df-99cec0d3-d1af-4d62-a61a-639b1ec9c7b8')\"\n",
              "            title=\"Suggest charts\"\n",
              "            style=\"display:none;\">\n",
              "\n",
              "<svg xmlns=\"http://www.w3.org/2000/svg\" height=\"24px\"viewBox=\"0 0 24 24\"\n",
              "     width=\"24px\">\n",
              "    <g>\n",
              "        <path d=\"M19 3H5c-1.1 0-2 .9-2 2v14c0 1.1.9 2 2 2h14c1.1 0 2-.9 2-2V5c0-1.1-.9-2-2-2zM9 17H7v-7h2v7zm4 0h-2V7h2v10zm4 0h-2v-4h2v4z\"/>\n",
              "    </g>\n",
              "</svg>\n",
              "  </button>\n",
              "\n",
              "<style>\n",
              "  .colab-df-quickchart {\n",
              "      --bg-color: #E8F0FE;\n",
              "      --fill-color: #1967D2;\n",
              "      --hover-bg-color: #E2EBFA;\n",
              "      --hover-fill-color: #174EA6;\n",
              "      --disabled-fill-color: #AAA;\n",
              "      --disabled-bg-color: #DDD;\n",
              "  }\n",
              "\n",
              "  [theme=dark] .colab-df-quickchart {\n",
              "      --bg-color: #3B4455;\n",
              "      --fill-color: #D2E3FC;\n",
              "      --hover-bg-color: #434B5C;\n",
              "      --hover-fill-color: #FFFFFF;\n",
              "      --disabled-bg-color: #3B4455;\n",
              "      --disabled-fill-color: #666;\n",
              "  }\n",
              "\n",
              "  .colab-df-quickchart {\n",
              "    background-color: var(--bg-color);\n",
              "    border: none;\n",
              "    border-radius: 50%;\n",
              "    cursor: pointer;\n",
              "    display: none;\n",
              "    fill: var(--fill-color);\n",
              "    height: 32px;\n",
              "    padding: 0;\n",
              "    width: 32px;\n",
              "  }\n",
              "\n",
              "  .colab-df-quickchart:hover {\n",
              "    background-color: var(--hover-bg-color);\n",
              "    box-shadow: 0 1px 2px rgba(60, 64, 67, 0.3), 0 1px 3px 1px rgba(60, 64, 67, 0.15);\n",
              "    fill: var(--button-hover-fill-color);\n",
              "  }\n",
              "\n",
              "  .colab-df-quickchart-complete:disabled,\n",
              "  .colab-df-quickchart-complete:disabled:hover {\n",
              "    background-color: var(--disabled-bg-color);\n",
              "    fill: var(--disabled-fill-color);\n",
              "    box-shadow: none;\n",
              "  }\n",
              "\n",
              "  .colab-df-spinner {\n",
              "    border: 2px solid var(--fill-color);\n",
              "    border-color: transparent;\n",
              "    border-bottom-color: var(--fill-color);\n",
              "    animation:\n",
              "      spin 1s steps(1) infinite;\n",
              "  }\n",
              "\n",
              "  @keyframes spin {\n",
              "    0% {\n",
              "      border-color: transparent;\n",
              "      border-bottom-color: var(--fill-color);\n",
              "      border-left-color: var(--fill-color);\n",
              "    }\n",
              "    20% {\n",
              "      border-color: transparent;\n",
              "      border-left-color: var(--fill-color);\n",
              "      border-top-color: var(--fill-color);\n",
              "    }\n",
              "    30% {\n",
              "      border-color: transparent;\n",
              "      border-left-color: var(--fill-color);\n",
              "      border-top-color: var(--fill-color);\n",
              "      border-right-color: var(--fill-color);\n",
              "    }\n",
              "    40% {\n",
              "      border-color: transparent;\n",
              "      border-right-color: var(--fill-color);\n",
              "      border-top-color: var(--fill-color);\n",
              "    }\n",
              "    60% {\n",
              "      border-color: transparent;\n",
              "      border-right-color: var(--fill-color);\n",
              "    }\n",
              "    80% {\n",
              "      border-color: transparent;\n",
              "      border-right-color: var(--fill-color);\n",
              "      border-bottom-color: var(--fill-color);\n",
              "    }\n",
              "    90% {\n",
              "      border-color: transparent;\n",
              "      border-bottom-color: var(--fill-color);\n",
              "    }\n",
              "  }\n",
              "</style>\n",
              "\n",
              "  <script>\n",
              "    async function quickchart(key) {\n",
              "      const quickchartButtonEl =\n",
              "        document.querySelector('#' + key + ' button');\n",
              "      quickchartButtonEl.disabled = true;  // To prevent multiple clicks.\n",
              "      quickchartButtonEl.classList.add('colab-df-spinner');\n",
              "      try {\n",
              "        const charts = await google.colab.kernel.invokeFunction(\n",
              "            'suggestCharts', [key], {});\n",
              "      } catch (error) {\n",
              "        console.error('Error during call to suggestCharts:', error);\n",
              "      }\n",
              "      quickchartButtonEl.classList.remove('colab-df-spinner');\n",
              "      quickchartButtonEl.classList.add('colab-df-quickchart-complete');\n",
              "    }\n",
              "    (() => {\n",
              "      let quickchartButtonEl =\n",
              "        document.querySelector('#df-99cec0d3-d1af-4d62-a61a-639b1ec9c7b8 button');\n",
              "      quickchartButtonEl.style.display =\n",
              "        google.colab.kernel.accessAllowed ? 'block' : 'none';\n",
              "    })();\n",
              "  </script>\n",
              "</div>\n",
              "\n",
              "    </div>\n",
              "  </div>\n"
            ],
            "application/vnd.google.colaboratory.intrinsic+json": {
              "type": "dataframe",
              "variable_name": "df",
              "summary": "{\n  \"name\": \"df\",\n  \"rows\": 20,\n  \"fields\": [\n    {\n      \"column\": \"Year\",\n      \"properties\": {\n        \"dtype\": \"number\",\n        \"std\": 5,\n        \"min\": 2001,\n        \"max\": 2020,\n        \"num_unique_values\": 20,\n        \"samples\": [\n          2001,\n          2018,\n          2016\n        ],\n        \"semantic_type\": \"\",\n        \"description\": \"\"\n      }\n    },\n    {\n      \"column\": \"George and Wallace\",\n      \"properties\": {\n        \"dtype\": \"number\",\n        \"std\": 9.492711885829488,\n        \"min\": -17.3,\n        \"max\": 18.2,\n        \"num_unique_values\": 19,\n        \"samples\": [\n          12.6,\n          -17.3,\n          3.3\n        ],\n        \"semantic_type\": \"\",\n        \"description\": \"\"\n      }\n    },\n    {\n      \"column\": \"Imperial Traders\",\n      \"properties\": {\n        \"dtype\": \"number\",\n        \"std\": 7.9790515199423755,\n        \"min\": -11.7,\n        \"max\": 13.6,\n        \"num_unique_values\": 20,\n        \"samples\": [\n          -5.6,\n          7.2,\n          9.0\n        ],\n        \"semantic_type\": \"\",\n        \"description\": \"\"\n      }\n    },\n    {\n      \"column\": \"High Rise\",\n      \"properties\": {\n        \"dtype\": \"number\",\n        \"std\": 5.298261879840257,\n        \"min\": -4.7,\n        \"max\": 9.4,\n        \"num_unique_values\": 19,\n        \"samples\": [\n          8.5,\n          7.4,\n          -4.3\n        ],\n        \"semantic_type\": \"\",\n        \"description\": \"\"\n      }\n    }\n  ]\n}"
            }
          },
          "metadata": {},
          "execution_count": 41
        }
      ],
      "source": [
        "# Take a brief look at the data using \".head()\"\n",
        "df.head()"
      ]
    },
    {
      "cell_type": "code",
      "execution_count": 42,
      "id": "8cbf5ba2",
      "metadata": {
        "colab": {
          "base_uri": "https://localhost:8080/"
        },
        "id": "8cbf5ba2",
        "outputId": "5152dc37-2498-434a-fe93-829900be5e09"
      },
      "outputs": [
        {
          "output_type": "stream",
          "name": "stdout",
          "text": [
            "The \"Investment_Returns.csv\" data is a completely fabricated data set for use only on the upGrad platform.\n",
            "\n",
            "Any resemblance to entities past, present or future is merely a coincidence.\n",
            "\n",
            "Feature Description:\n",
            "Year = year for which a particular investment return was calculated\n",
            "George and Wallace = percent return in investment via the company \"George and Wallace\"\n",
            "Imperial Traders = percent return in investment via the company \"Imperial Traders\"\n",
            "High Rise = percent return in investment via the company \"High Rise\"\n"
          ]
        }
      ],
      "source": [
        "# Study the description of the data\n",
        "# Note: Make sure the code and the data description are in the same folder or specify the appropriate path\n",
        "with open('Investment_Returns_Feature_Description.txt', 'r') as f:\n",
        "    print(f.read())"
      ]
    },
    {
      "cell_type": "code",
      "execution_count": 43,
      "id": "fa9b402e",
      "metadata": {
        "colab": {
          "base_uri": "https://localhost:8080/"
        },
        "id": "fa9b402e",
        "outputId": "08fb3004-5fa7-47a8-8b59-d5b9dc92a009"
      },
      "outputs": [
        {
          "output_type": "execute_result",
          "data": {
            "text/plain": [
              "(20, 3)"
            ]
          },
          "metadata": {},
          "execution_count": 43
        }
      ],
      "source": [
        "# Get the dimensions of the data frame using \".shape\"\n",
        "df.shape"
      ]
    },
    {
      "cell_type": "code",
      "execution_count": 44,
      "id": "8bf44620",
      "metadata": {
        "colab": {
          "base_uri": "https://localhost:8080/"
        },
        "id": "8bf44620",
        "outputId": "c676150c-dc81-4fe1-a291-dea87867ddb6"
      },
      "outputs": [
        {
          "output_type": "execute_result",
          "data": {
            "text/plain": [
              "Index([2001, 2002, 2003, 2004, 2005, 2006, 2007, 2008, 2009, 2010, 2011, 2012,\n",
              "       2013, 2014, 2015, 2016, 2017, 2018, 2019, 2020],\n",
              "      dtype='int64', name='Year')"
            ]
          },
          "metadata": {},
          "execution_count": 44
        }
      ],
      "source": [
        "# Get the row names of the data frame using \".index\"\n",
        "df.index"
      ]
    },
    {
      "cell_type": "code",
      "execution_count": 45,
      "id": "ef109aa2",
      "metadata": {
        "colab": {
          "base_uri": "https://localhost:8080/"
        },
        "id": "ef109aa2",
        "outputId": "132e7a57-ec8f-4adc-c3ec-27bb72349b80"
      },
      "outputs": [
        {
          "output_type": "execute_result",
          "data": {
            "text/plain": [
              "Index(['George and Wallace', 'Imperial Traders', 'High Rise'], dtype='object')"
            ]
          },
          "metadata": {},
          "execution_count": 45
        }
      ],
      "source": [
        "# Get the column names of the data frame using \".columns\"\n",
        "df.columns"
      ]
    },
    {
      "cell_type": "code",
      "execution_count": 46,
      "id": "03f1299b",
      "metadata": {
        "colab": {
          "base_uri": "https://localhost:8080/"
        },
        "id": "03f1299b",
        "outputId": "59ba5685-89e4-423c-896d-201b70578b7e"
      },
      "outputs": [
        {
          "output_type": "stream",
          "name": "stdout",
          "text": [
            "<class 'pandas.core.frame.DataFrame'>\n",
            "Index: 20 entries, 2001 to 2020\n",
            "Data columns (total 3 columns):\n",
            " #   Column              Non-Null Count  Dtype  \n",
            "---  ------              --------------  -----  \n",
            " 0   George and Wallace  20 non-null     float64\n",
            " 1   Imperial Traders    20 non-null     float64\n",
            " 2   High Rise           20 non-null     float64\n",
            "dtypes: float64(3)\n",
            "memory usage: 640.0 bytes\n"
          ]
        }
      ],
      "source": [
        "# Look at basic information about the data frame using \".info()\"\n",
        "df.info()"
      ]
    },
    {
      "cell_type": "code",
      "execution_count": 47,
      "id": "a2410b63",
      "metadata": {
        "id": "a2410b63"
      },
      "outputs": [],
      "source": [
        "# Observations\n",
        "\n",
        "# There are 20 rows and 3 columns in the data\n",
        "# Each row contains the investment return percentages of three different agencies for a certain year\n",
        "\n",
        "# The features in the data set are:\n",
        "# The investment return percentage from the agency \"George and Wallace\" for the years 2001 to 2020\n",
        "# The investment return percentage from the agency \"Imperial Traders\" for the years 2001 to 2020\n",
        "# The investment return percentage from the agency \"High Rise\" for the years 2001 to 2020"
      ]
    },
    {
      "cell_type": "code",
      "execution_count": 48,
      "id": "6f1006e3",
      "metadata": {
        "id": "6f1006e3"
      },
      "outputs": [],
      "source": [
        "###########################################################################"
      ]
    },
    {
      "cell_type": "code",
      "execution_count": 49,
      "id": "8d53af90",
      "metadata": {
        "id": "8d53af90"
      },
      "outputs": [],
      "source": [
        "# Task 2 - View the distributions of the various features in the data set and also calculate various measures of dispersion\n",
        "\n",
        "# We will now calculate relevant statistical measures of central tendency and dispersion for each of the agencies\n",
        "# We will also view their investment returns distributions to get a sense of the spread of the values"
      ]
    },
    {
      "cell_type": "code",
      "execution_count": 50,
      "id": "58fb4d09",
      "metadata": {
        "colab": {
          "base_uri": "https://localhost:8080/"
        },
        "id": "58fb4d09",
        "outputId": "bd4ca7ef-97ff-4d3f-a1d0-b614de6421b6"
      },
      "outputs": [
        {
          "output_type": "execute_result",
          "data": {
            "text/plain": [
              "4.0"
            ]
          },
          "metadata": {},
          "execution_count": 50
        }
      ],
      "source": [
        "# Calculate the mean of the \"George and Wallace\" feature using \".mean()\"\n",
        "df['George and Wallace'].mean()"
      ]
    },
    {
      "cell_type": "code",
      "execution_count": 51,
      "id": "a5cbd83b",
      "metadata": {
        "colab": {
          "base_uri": "https://localhost:8080/"
        },
        "id": "a5cbd83b",
        "outputId": "43ed0287-c72b-4576-a04b-cc4f58a663de"
      },
      "outputs": [
        {
          "output_type": "execute_result",
          "data": {
            "text/plain": [
              "5.45"
            ]
          },
          "metadata": {},
          "execution_count": 51
        }
      ],
      "source": [
        "# Calculate the median of the \"George and Wallace\" feature using \".median()\"\n",
        "df['George and Wallace'].median()"
      ]
    },
    {
      "cell_type": "code",
      "execution_count": 52,
      "id": "350911bf",
      "metadata": {
        "colab": {
          "base_uri": "https://localhost:8080/",
          "height": 333
        },
        "id": "350911bf",
        "outputId": "ef2709e1-2f44-4b35-f4a4-22444dd62d94"
      },
      "outputs": [
        {
          "output_type": "display_data",
          "data": {
            "text/plain": [
              "<Figure size 600x300 with 1 Axes>"
            ],
            "image/png": "[encoded data removed]"
          },
          "metadata": {}
        }
      ],
      "source": [
        "# Create a histogram of the \"George and Wallace\" feature and also show the mean and the median\n",
        "plt.figure(figsize = (6, 3), dpi= 100)\n",
        "sns.histplot(data = df, x = 'George and Wallace', color = 'orange', edgecolor = 'linen', alpha = 0.5, bins = 5)\n",
        "plt.vlines(x = df['George and Wallace'].mean(), ymin = 0, ymax = 6, colors = 'blue', label = 'Mean')\n",
        "plt.vlines(x = df['George and Wallace'].median(), ymin = 0, ymax = 6, colors = 'red', label = 'Median')\n",
        "plt.xlim(-20, 20)\n",
        "plt.title('Histogram of Investment Returns for George and Wallace')\n",
        "plt.xlabel('Percent Return in Investment')\n",
        "plt.ylabel('Count')\n",
        "plt.legend();"
      ]
    },
    {
      "cell_type": "code",
      "execution_count": 53,
      "id": "4fe64008",
      "metadata": {
        "colab": {
          "base_uri": "https://localhost:8080/"
        },
        "id": "4fe64008",
        "outputId": "573e0b2b-868c-41d8-d9d2-c620c0f910dd"
      },
      "outputs": [
        {
          "output_type": "execute_result",
          "data": {
            "text/plain": [
              "35.5"
            ]
          },
          "metadata": {},
          "execution_count": 53
        }
      ],
      "source": [
        "# Calculate the range of the \"George and Wallace\" feature using \".min()\" and \".max\"\n",
        "# Note: The range is equal to the difference between the maximum and minimum value in a data series\n",
        "df['George and Wallace'].max() - df['George and Wallace'].min()"
      ]
    },
    {
      "cell_type": "code",
      "execution_count": 54,
      "id": "d1d3fcf0",
      "metadata": {
        "colab": {
          "base_uri": "https://localhost:8080/"
        },
        "id": "d1d3fcf0",
        "outputId": "22cf8439-aab4-4094-c007-51ff491409e6"
      },
      "outputs": [
        {
          "output_type": "execute_result",
          "data": {
            "text/plain": [
              "7.58"
            ]
          },
          "metadata": {},
          "execution_count": 54
        }
      ],
      "source": [
        "# Calculate the mean deviation about the mean for the \"George and Wallace\" feature\n",
        "abs(df['George and Wallace'] - df['George and Wallace'].mean()).mean()"
      ]
    },
    {
      "cell_type": "code",
      "execution_count": 55,
      "id": "b16e3047",
      "metadata": {
        "colab": {
          "base_uri": "https://localhost:8080/"
        },
        "id": "b16e3047",
        "outputId": "92342347-0286-4076-d960-9ee344778674"
      },
      "outputs": [
        {
          "output_type": "execute_result",
          "data": {
            "text/plain": [
              "90.11157894736843"
            ]
          },
          "metadata": {},
          "execution_count": 55
        }
      ],
      "source": [
        "# Calculate the variance for the \"George and Wallace\" feature using \".var()\"\n",
        "df['George and Wallace'].var()"
      ]
    },
    {
      "cell_type": "code",
      "execution_count": 56,
      "id": "7bfc3ce2",
      "metadata": {
        "colab": {
          "base_uri": "https://localhost:8080/"
        },
        "id": "7bfc3ce2",
        "outputId": "c44e5f08-e814-4732-fdbb-f1009a35de7c"
      },
      "outputs": [
        {
          "output_type": "execute_result",
          "data": {
            "text/plain": [
              "9.492711885829488"
            ]
          },
          "metadata": {},
          "execution_count": 56
        }
      ],
      "source": [
        "# Calculate the standard deviation for the \"George and Wallace\" feature using \".std()\"\n",
        "df['George and Wallace'].std()"
      ]
    },
    {
      "cell_type": "code",
      "execution_count": 57,
      "id": "83844746",
      "metadata": {
        "colab": {
          "base_uri": "https://localhost:8080/"
        },
        "id": "83844746",
        "outputId": "2a816395-64bc-47c8-9b08-643bf84cb5b2"
      },
      "outputs": [
        {
          "output_type": "execute_result",
          "data": {
            "text/plain": [
              "4.0"
            ]
          },
          "metadata": {},
          "execution_count": 57
        }
      ],
      "source": [
        "# Calculate the mean of the \"Imperial Traders\" feature using \".mean()\"\n",
        "df['Imperial Traders'].mean()"
      ]
    },
    {
      "cell_type": "code",
      "execution_count": 58,
      "id": "16090702",
      "metadata": {
        "colab": {
          "base_uri": "https://localhost:8080/"
        },
        "id": "16090702",
        "outputId": "18122741-b9dd-401d-e8df-275659e27f27"
      },
      "outputs": [
        {
          "output_type": "execute_result",
          "data": {
            "text/plain": [
              "7.65"
            ]
          },
          "metadata": {},
          "execution_count": 58
        }
      ],
      "source": [
        "# Calculate the median of the \"Imperial Traders\" feature using \".median()\"\n",
        "df['Imperial Traders'].median()"
      ]
    },
    {
      "cell_type": "code",
      "execution_count": 59,
      "id": "3a31d843",
      "metadata": {
        "colab": {
          "base_uri": "https://localhost:8080/",
          "height": 333
        },
        "id": "3a31d843",
        "outputId": "eccfd2ce-ccfb-4b2b-a369-7d68ffe84d27"
      },
      "outputs": [
        {
          "output_type": "display_data",
          "data": {
            "text/plain": [
              "<Figure size 600x300 with 1 Axes>"
            ],
            "image/png": "[encoded data removed]"
          },
          "metadata": {}
        }
      ],
      "source": [
        "# Create a histogram of the \"Imperial Traders\" feature and also show the mean and the median\n",
        "plt.figure(figsize = (6, 3), dpi= 100)\n",
        "sns.histplot(data = df, x = 'Imperial Traders', color = 'orange', edgecolor = 'linen', alpha = 0.5, bins = 5)\n",
        "plt.vlines(x = df['Imperial Traders'].mean(), ymin = 0, ymax = 9, colors = 'blue', label = 'Mean')\n",
        "plt.vlines(x = df['Imperial Traders'].median(), ymin = 0, ymax = 9, colors = 'red', label = 'Median')\n",
        "plt.xlim(-20, 20)\n",
        "plt.title('Histogram of Investment Returns for Imperial Traders')\n",
        "plt.xlabel('Percent Return in Investment')\n",
        "plt.ylabel('Count')\n",
        "plt.legend();"
      ]
    },
    {
      "cell_type": "code",
      "execution_count": 60,
      "id": "fde0b601",
      "metadata": {
        "colab": {
          "base_uri": "https://localhost:8080/"
        },
        "id": "fde0b601",
        "outputId": "cd17be68-0f1a-40e1-a69f-2a92f08d6651"
      },
      "outputs": [
        {
          "output_type": "execute_result",
          "data": {
            "text/plain": [
              "25.299999999999997"
            ]
          },
          "metadata": {},
          "execution_count": 60
        }
      ],
      "source": [
        "# Calculate the range of the \"Imperial Traders\" feature using \".min()\" and \".max\"\n",
        "# Note: The range is equal to the difference between the maximum and minimum value in a data series\n",
        "df['Imperial Traders'].max() - df['Imperial Traders'].min()"
      ]
    },
    {
      "cell_type": "code",
      "execution_count": 61,
      "id": "9948e37a",
      "metadata": {
        "colab": {
          "base_uri": "https://localhost:8080/"
        },
        "id": "9948e37a",
        "outputId": "49c4991b-5d1f-4f1d-ffd0-e0521368b66d"
      },
      "outputs": [
        {
          "output_type": "execute_result",
          "data": {
            "text/plain": [
              "63.66526315789473"
            ]
          },
          "metadata": {},
          "execution_count": 61
        }
      ],
      "source": [
        "# Calculate the variance for the \"Imperial Traders\" feature using \".var()\"\n",
        "df['Imperial Traders'].var()"
      ]
    },
    {
      "cell_type": "code",
      "execution_count": 62,
      "id": "d17938fb",
      "metadata": {
        "colab": {
          "base_uri": "https://localhost:8080/"
        },
        "id": "d17938fb",
        "outputId": "71c40d7d-737d-4f7d-c804-1fc44b99e967"
      },
      "outputs": [
        {
          "output_type": "execute_result",
          "data": {
            "text/plain": [
              "7.9790515199423755"
            ]
          },
          "metadata": {},
          "execution_count": 62
        }
      ],
      "source": [
        "# Calculate the standard deviation for the \"Imperial Traders\" feature using \".std()\"\n",
        "df['Imperial Traders'].std()"
      ]
    },
    {
      "cell_type": "code",
      "execution_count": 63,
      "id": "28770622",
      "metadata": {
        "colab": {
          "base_uri": "https://localhost:8080/"
        },
        "id": "28770622",
        "outputId": "880dc3b6-4608-41f9-f94d-848fdbb46bc2"
      },
      "outputs": [
        {
          "output_type": "execute_result",
          "data": {
            "text/plain": [
              "3.999999999999999"
            ]
          },
          "metadata": {},
          "execution_count": 63
        }
      ],
      "source": [
        "# Calculate the mean of the \"High Rise\" feature using \".mean()\"\n",
        "df['High Rise'].mean()"
      ]
    },
    {
      "cell_type": "code",
      "execution_count": 64,
      "id": "69a2d63e",
      "metadata": {
        "colab": {
          "base_uri": "https://localhost:8080/"
        },
        "id": "69a2d63e",
        "outputId": "e34afdf9-fafd-4395-ce81-97628f63c8d7"
      },
      "outputs": [
        {
          "output_type": "execute_result",
          "data": {
            "text/plain": [
              "7.2299999999999995"
            ]
          },
          "metadata": {},
          "execution_count": 64
        }
      ],
      "source": [
        "# Calculate the mean deviation about the mean for the \"Imperial Traders\" feature\n",
        "abs(df['Imperial Traders'] - df['Imperial Traders'].mean()).mean()"
      ]
    },
    {
      "cell_type": "code",
      "execution_count": 65,
      "id": "6db3d4e2",
      "metadata": {
        "colab": {
          "base_uri": "https://localhost:8080/"
        },
        "id": "6db3d4e2",
        "outputId": "eee7b926-65fa-4295-bba8-858b1d46e448"
      },
      "outputs": [
        {
          "output_type": "execute_result",
          "data": {
            "text/plain": [
              "6.55"
            ]
          },
          "metadata": {},
          "execution_count": 65
        }
      ],
      "source": [
        "# Calculate the median of the \"High Rise\" feature using \".median()\"\n",
        "df['High Rise'].median()"
      ]
    },
    {
      "cell_type": "code",
      "execution_count": 66,
      "id": "72da461a",
      "metadata": {
        "colab": {
          "base_uri": "https://localhost:8080/",
          "height": 333
        },
        "id": "72da461a",
        "outputId": "da38206a-df3c-4523-fbe5-0c523d94b221"
      },
      "outputs": [
        {
          "output_type": "display_data",
          "data": {
            "text/plain": [
              "<Figure size 600x300 with 1 Axes>"
            ],
            "image/png": "[encoded data removed]"
          },
          "metadata": {}
        }
      ],
      "source": [
        "# Create a histogram of the \"High Rise\" feature and also show the mean and the median\n",
        "plt.figure(figsize = (6, 3), dpi= 100)\n",
        "sns.histplot(data = df, x = 'High Rise', color = 'orange', edgecolor = 'linen', alpha = 0.5, bins = 5)\n",
        "plt.vlines(x = df['High Rise'].mean(), ymin = 0, ymax = 10, colors = 'blue', label = 'Mean')\n",
        "plt.vlines(x = df['High Rise'].median(), ymin = 0, ymax = 10, colors = 'red', label = 'Median')\n",
        "plt.xlim(-20, 20)\n",
        "plt.title('Histogram of Investment Returns for High Rise')\n",
        "plt.xlabel('Percent Return in Investment')\n",
        "plt.ylabel('Count')\n",
        "plt.legend();"
      ]
    },
    {
      "cell_type": "code",
      "execution_count": 67,
      "id": "92d46853",
      "metadata": {
        "colab": {
          "base_uri": "https://localhost:8080/"
        },
        "id": "92d46853",
        "outputId": "7a702529-f325-4e12-e773-32809d1d6b07"
      },
      "outputs": [
        {
          "output_type": "execute_result",
          "data": {
            "text/plain": [
              "14.100000000000001"
            ]
          },
          "metadata": {},
          "execution_count": 67
        }
      ],
      "source": [
        "# Calculate the range of the \"High Rise\" feature using \".min()\" and \".max\"\n",
        "# Note: The range is equal to the difference between the maximum and minimum value in a data series\n",
        "df['High Rise'].max() - df['High Rise'].min()"
      ]
    },
    {
      "cell_type": "code",
      "execution_count": 68,
      "id": "d05d99a5",
      "metadata": {
        "colab": {
          "base_uri": "https://localhost:8080/"
        },
        "id": "d05d99a5",
        "outputId": "f7619a8f-2cae-4073-9f45-8b26a0f9c172"
      },
      "outputs": [
        {
          "output_type": "execute_result",
          "data": {
            "text/plain": [
              "4.64"
            ]
          },
          "metadata": {},
          "execution_count": 68
        }
      ],
      "source": [
        "# Calculate the mean deviation about the mean for the \"High Rise\" feature\n",
        "abs(df['High Rise'] - df['High Rise'].mean()).mean()"
      ]
    },
    {
      "cell_type": "code",
      "execution_count": 69,
      "id": "d6584f9f",
      "metadata": {
        "colab": {
          "base_uri": "https://localhost:8080/"
        },
        "id": "d6584f9f",
        "outputId": "a86f5bd6-da56-463c-a1b3-40b3c9283c00"
      },
      "outputs": [
        {
          "output_type": "execute_result",
          "data": {
            "text/plain": [
              "28.071578947368415"
            ]
          },
          "metadata": {},
          "execution_count": 69
        }
      ],
      "source": [
        "# Calculate the variance for the \"High Rise\" feature using \".var()\"\n",
        "df['High Rise'].var()"
      ]
    },
    {
      "cell_type": "code",
      "execution_count": 70,
      "id": "b79aee63",
      "metadata": {
        "colab": {
          "base_uri": "https://localhost:8080/"
        },
        "id": "b79aee63",
        "outputId": "7c57a202-2355-460d-fc41-1ce2cb5d2e3e"
      },
      "outputs": [
        {
          "output_type": "execute_result",
          "data": {
            "text/plain": [
              "5.298261879840257"
            ]
          },
          "metadata": {},
          "execution_count": 70
        }
      ],
      "source": [
        "# Calculate the standard deviation for the \"High Rise\" feature using \".std()\"\n",
        "df['High Rise'].std()"
      ]
    },
    {
      "cell_type": "code",
      "execution_count": 71,
      "id": "6c7ef6a0",
      "metadata": {
        "colab": {
          "base_uri": "https://localhost:8080/",
          "height": 325
        },
        "id": "6c7ef6a0",
        "outputId": "3f217892-9790-4770-ab17-8395b4554013"
      },
      "outputs": [
        {
          "output_type": "display_data",
          "data": {
            "text/plain": [
              "<Figure size 1200x400 with 3 Axes>"
            ],
            "image/png": "[encoded data removed]"
          },
          "metadata": {}
        }
      ],
      "source": [
        "# Create a figure with all the relevant plots\n",
        "plt.figure(figsize = (12, 4))\n",
        "\n",
        "plt.subplot(1, 3, 1)\n",
        "sns.histplot(data = df, x = 'George and Wallace', color = 'orange', edgecolor = 'linen', alpha = 0.5, bins = 5)\n",
        "plt.vlines(x = df['George and Wallace'].mean(), ymin = 0, ymax = 6, colors = 'blue', label = 'Mean')\n",
        "plt.vlines(x = df['George and Wallace'].median(), ymin = 0, ymax = 6, colors = 'red', label = 'Median')\n",
        "plt.xlim(-20, 20)\n",
        "plt.title('George and Wallace')\n",
        "plt.xlabel('Percent Return in Investment')\n",
        "plt.ylabel('Count')\n",
        "\n",
        "plt.subplot(1, 3, 2)\n",
        "sns.histplot(data = df, x = 'Imperial Traders', color = 'orange', edgecolor = 'linen', alpha = 0.5, bins = 5)\n",
        "plt.vlines(x = df['Imperial Traders'].mean(), ymin = 0, ymax = 9, colors = 'blue', label = 'Mean')\n",
        "plt.vlines(x = df['Imperial Traders'].median(), ymin = 0, ymax = 9, colors = 'red', label = 'Median')\n",
        "plt.xlim(-20, 20)\n",
        "plt.title('Imperial Traders')\n",
        "plt.xlabel('Percent Return in Investment')\n",
        "plt.ylabel('Count')\n",
        "\n",
        "plt.subplot(1, 3, 3)\n",
        "sns.histplot(data = df, x = 'High Rise', color = 'orange', edgecolor = 'linen', alpha = 0.5, bins = 5)\n",
        "plt.vlines(x = df['High Rise'].mean(), ymin = 0, ymax = 10, colors = 'blue', label = 'Mean')\n",
        "plt.vlines(x = df['High Rise'].median(), ymin = 0, ymax = 10, colors = 'red', label = 'Median')\n",
        "plt.xlim(-20, 20)\n",
        "plt.title('High Rise')\n",
        "plt.xlabel('Percent Return in Investment')\n",
        "plt.ylabel('Count')\n",
        "\n",
        "plt.legend(loc = (1.05, 0.85))\n",
        "\n",
        "plt.tight_layout();"
      ]
    },
    {
      "cell_type": "code",
      "execution_count": 72,
      "id": "ec18abe5",
      "metadata": {
        "id": "ec18abe5"
      },
      "outputs": [],
      "source": [
        "# Observations\n",
        "\n",
        "# The mean investment return percentage of all three agencies is 4 %\n",
        "\n",
        "# The median investment return percentages for the three agencies are as follows:\n",
        "# George and Wallace = 5.45 %\n",
        "# Imperial Traders = 7.65 %\n",
        "# High Rise = 6.55 %\n",
        "\n",
        "# We can use many different measures of dispersion or variability to get a sense of how stable a certain investment is\n",
        "# The standard deviations for the three agencies are as follows:\n",
        "# George and Wallace = 9.49 %\n",
        "# Imperial Traders = 7.98 %\n",
        "# High Rise = 5.3 %\n",
        "\n",
        "# Since the central tendencies of the three different agencies are similar, we can use variability as a measure of stability"
      ]
    },
    {
      "cell_type": "code",
      "execution_count": 73,
      "id": "ebe2af63",
      "metadata": {
        "id": "ebe2af63"
      },
      "outputs": [],
      "source": [
        "###########################################################################"
      ]
    },
    {
      "cell_type": "code",
      "execution_count": 74,
      "id": "81c87cd0",
      "metadata": {
        "id": "81c87cd0"
      },
      "outputs": [],
      "source": [
        "# Task 3 - Create a data frame to compare the variability in the investment returns of the different agencies\n",
        "\n",
        "# We will now compile all the relevant statistical measures for the three agencies into one data frame\n",
        "# We will then assess which agency to invest in based on returns and stability"
      ]
    },
    {
      "cell_type": "code",
      "execution_count": 75,
      "id": "e53a6e5c",
      "metadata": {
        "id": "e53a6e5c"
      },
      "outputs": [],
      "source": [
        "# Create a data frame to compare the mean, median and variations for the three companies and store it as \"variations\"\n",
        "# Note: Create three different temporary Pandas Series to store the details for the three different agencies\n",
        "# Note: The \"index\" parameter for these series can be set to \"['Mean', 'Median', 'Range', 'MAD', 'Variance', 'SD']\"\n",
        "# Note: The \"data\" parameter of the three series needs to be a list of the relevant values\n",
        "# Note: The same index needs to be used for the \"index\" parameter of the final data frame \"variations\"\n",
        "# Note: The \"data\" parameter of the data frame \"variations\" needs to be passed in as a dictionary\n",
        "temp_index = ['Mean', 'Median', 'Range', 'MAD', 'Variance', 'SD']\n",
        "\n",
        "temp1 = pd.Series(index = temp_index,\n",
        "                  data = [df['George and Wallace'].mean(),\n",
        "                          df['George and Wallace'].median(),\n",
        "                          df['George and Wallace'].max() - df['George and Wallace'].min(),\n",
        "                          abs(df['George and Wallace'] - df['George and Wallace'].mean()).mean(),\n",
        "                          df['George and Wallace'].var(),\n",
        "                          df['George and Wallace'].std()])\n",
        "\n",
        "temp2 = pd.Series(index = temp_index,\n",
        "                  data = [df['Imperial Traders'].mean(),\n",
        "                          df['Imperial Traders'].median(),\n",
        "                          df['Imperial Traders'].max() - df['Imperial Traders'].min(),\n",
        "                          abs(df['Imperial Traders'] - df['Imperial Traders'].mean()).mean(),\n",
        "                          df['Imperial Traders'].var(),\n",
        "                          df['Imperial Traders'].std()])\n",
        "\n",
        "temp3 = pd.Series(index = temp_index,\n",
        "                  data = [df['High Rise'].mean(),\n",
        "                          df['High Rise'].median(),\n",
        "                          df['High Rise'].max() - df['High Rise'].min(),\n",
        "                          abs(df['High Rise'] - df['High Rise'].mean()).mean(),\n",
        "                          df['High Rise'].var(),\n",
        "                          df['High Rise'].std()])\n",
        "\n",
        "variations = pd.DataFrame(index = temp_index,\n",
        "                          data = {'George and Wallace' : temp1, 'Imperial Traders' : temp2, 'High Rise' : temp3})"
      ]
    },
    {
      "cell_type": "code",
      "execution_count": 76,
      "id": "cf8ca32c",
      "metadata": {
        "colab": {
          "base_uri": "https://localhost:8080/",
          "height": 238
        },
        "id": "cf8ca32c",
        "outputId": "92c6d5d9-f237-4c3e-e976-7f81e28f02a1"
      },
      "outputs": [
        {
          "output_type": "execute_result",
          "data": {
            "text/plain": [
              "          George and Wallace  Imperial Traders  High Rise\n",
              "Mean                4.000000          4.000000   4.000000\n",
              "Median              5.450000          7.650000   6.550000\n",
              "Range              35.500000         25.300000  14.100000\n",
              "MAD                 7.580000          7.230000   4.640000\n",
              "Variance           90.111579         63.665263  28.071579\n",
              "SD                  9.492712          7.979052   5.298262"
            ],
            "text/html": [
              "\n",
              "  <div id=\"df-a2b9cb82-1cb0-418a-8026-57245f94f351\" class=\"colab-df-container\">\n",
              "    <div>\n",
              "<style scoped>\n",
              "    .dataframe tbody tr th:only-of-type {\n",
              "        vertical-align: middle;\n",
              "    }\n",
              "\n",
              "    .dataframe tbody tr th {\n",
              "        vertical-align: top;\n",
              "    }\n",
              "\n",
              "    .dataframe thead th {\n",
              "        text-align: right;\n",
              "    }\n",
              "</style>\n",
              "<table border=\"1\" class=\"dataframe\">\n",
              "  <thead>\n",
              "    <tr style=\"text-align: right;\">\n",
              "      <th></th>\n",
              "      <th>George and Wallace</th>\n",
              "      <th>Imperial Traders</th>\n",
              "      <th>High Rise</th>\n",
              "    </tr>\n",
              "  </thead>\n",
              "  <tbody>\n",
              "    <tr>\n",
              "      <th>Mean</th>\n",
              "      <td>4.000000</td>\n",
              "      <td>4.000000</td>\n",
              "      <td>4.000000</td>\n",
              "    </tr>\n",
              "    <tr>\n",
              "      <th>Median</th>\n",
              "      <td>5.450000</td>\n",
              "      <td>7.650000</td>\n",
              "      <td>6.550000</td>\n",
              "    </tr>\n",
              "    <tr>\n",
              "      <th>Range</th>\n",
              "      <td>35.500000</td>\n",
              "      <td>25.300000</td>\n",
              "      <td>14.100000</td>\n",
              "    </tr>\n",
              "    <tr>\n",
              "      <th>MAD</th>\n",
              "      <td>7.580000</td>\n",
              "      <td>7.230000</td>\n",
              "      <td>4.640000</td>\n",
              "    </tr>\n",
              "    <tr>\n",
              "      <th>Variance</th>\n",
              "      <td>90.111579</td>\n",
              "      <td>63.665263</td>\n",
              "      <td>28.071579</td>\n",
              "    </tr>\n",
              "    <tr>\n",
              "      <th>SD</th>\n",
              "      <td>9.492712</td>\n",
              "      <td>7.979052</td>\n",
              "      <td>5.298262</td>\n",
              "    </tr>\n",
              "  </tbody>\n",
              "</table>\n",
              "</div>\n",
              "    <div class=\"colab-df-buttons\">\n",
              "\n",
              "  <div class=\"colab-df-container\">\n",
              "    <button class=\"colab-df-convert\" onclick=\"convertToInteractive('df-a2b9cb82-1cb0-418a-8026-57245f94f351')\"\n",
              "            title=\"Convert this dataframe to an interactive table.\"\n",
              "            style=\"display:none;\">\n",
              "\n",
              "  <svg xmlns=\"http://www.w3.org/2000/svg\" height=\"24px\" viewBox=\"0 -960 960 960\">\n",
              "    <path d=\"M120-120v-720h720v720H120Zm60-500h600v-160H180v160Zm220 220h160v-160H400v160Zm0 220h160v-160H400v160ZM180-400h160v-160H180v160Zm440 0h160v-160H620v160ZM180-180h160v-160H180v160Zm440 0h160v-160H620v160Z\"/>\n",
              "  </svg>\n",
              "    </button>\n",
              "\n",
              "  <style>\n",
              "    .colab-df-container {\n",
              "      display:flex;\n",
              "      gap: 12px;\n",
              "    }\n",
              "\n",
              "    .colab-df-convert {\n",
              "      background-color: #E8F0FE;\n",
              "      border: none;\n",
              "      border-radius: 50%;\n",
              "      cursor: pointer;\n",
              "      display: none;\n",
              "      fill: #1967D2;\n",
              "      height: 32px;\n",
              "      padding: 0 0 0 0;\n",
              "      width: 32px;\n",
              "    }\n",
              "\n",
              "    .colab-df-convert:hover {\n",
              "      background-color: #E2EBFA;\n",
              "      box-shadow: 0px 1px 2px rgba(60, 64, 67, 0.3), 0px 1px 3px 1px rgba(60, 64, 67, 0.15);\n",
              "      fill: #174EA6;\n",
              "    }\n",
              "\n",
              "    .colab-df-buttons div {\n",
              "      margin-bottom: 4px;\n",
              "    }\n",
              "\n",
              "    [theme=dark] .colab-df-convert {\n",
              "      background-color: #3B4455;\n",
              "      fill: #D2E3FC;\n",
              "    }\n",
              "\n",
              "    [theme=dark] .colab-df-convert:hover {\n",
              "      background-color: #434B5C;\n",
              "      box-shadow: 0px 1px 3px 1px rgba(0, 0, 0, 0.15);\n",
              "      filter: drop-shadow(0px 1px 2px rgba(0, 0, 0, 0.3));\n",
              "      fill: #FFFFFF;\n",
              "    }\n",
              "  </style>\n",
              "\n",
              "    <script>\n",
              "      const buttonEl =\n",
              "        document.querySelector('#df-a2b9cb82-1cb0-418a-8026-57245f94f351 button.colab-df-convert');\n",
              "      buttonEl.style.display =\n",
              "        google.colab.kernel.accessAllowed ? 'block' : 'none';\n",
              "\n",
              "      async function convertToInteractive(key) {\n",
              "        const element = document.querySelector('#df-a2b9cb82-1cb0-418a-8026-57245f94f351');\n",
              "        const dataTable =\n",
              "          await google.colab.kernel.invokeFunction('convertToInteractive',\n",
              "                                                    [key], {});\n",
              "        if (!dataTable) return;\n",
              "\n",
              "        const docLinkHtml = 'Like what you see? Visit the ' +\n",
              "          '<a target=\"_blank\" href=https://colab.research.google.com/notebooks/data_table.ipynb>data table notebook</a>'\n",
              "          + ' to learn more about interactive tables.';\n",
              "        element.innerHTML = '';\n",
              "        dataTable['output_type'] = 'display_data';\n",
              "        await google.colab.output.renderOutput(dataTable, element);\n",
              "        const docLink = document.createElement('div');\n",
              "        docLink.innerHTML = docLinkHtml;\n",
              "        element.appendChild(docLink);\n",
              "      }\n",
              "    </script>\n",
              "  </div>\n",
              "\n",
              "\n",
              "<div id=\"df-df14debb-62df-48fc-a7d1-9e3cb7c9b442\">\n",
              "  <button class=\"colab-df-quickchart\" onclick=\"quickchart('df-df14debb-62df-48fc-a7d1-9e3cb7c9b442')\"\n",
              "            title=\"Suggest charts\"\n",
              "            style=\"display:none;\">\n",
              "\n",
              "<svg xmlns=\"http://www.w3.org/2000/svg\" height=\"24px\"viewBox=\"0 0 24 24\"\n",
              "     width=\"24px\">\n",
              "    <g>\n",
              "        <path d=\"M19 3H5c-1.1 0-2 .9-2 2v14c0 1.1.9 2 2 2h14c1.1 0 2-.9 2-2V5c0-1.1-.9-2-2-2zM9 17H7v-7h2v7zm4 0h-2V7h2v10zm4 0h-2v-4h2v4z\"/>\n",
              "    </g>\n",
              "</svg>\n",
              "  </button>\n",
              "\n",
              "<style>\n",
              "  .colab-df-quickchart {\n",
              "      --bg-color: #E8F0FE;\n",
              "      --fill-color: #1967D2;\n",
              "      --hover-bg-color: #E2EBFA;\n",
              "      --hover-fill-color: #174EA6;\n",
              "      --disabled-fill-color: #AAA;\n",
              "      --disabled-bg-color: #DDD;\n",
              "  }\n",
              "\n",
              "  [theme=dark] .colab-df-quickchart {\n",
              "      --bg-color: #3B4455;\n",
              "      --fill-color: #D2E3FC;\n",
              "      --hover-bg-color: #434B5C;\n",
              "      --hover-fill-color: #FFFFFF;\n",
              "      --disabled-bg-color: #3B4455;\n",
              "      --disabled-fill-color: #666;\n",
              "  }\n",
              "\n",
              "  .colab-df-quickchart {\n",
              "    background-color: var(--bg-color);\n",
              "    border: none;\n",
              "    border-radius: 50%;\n",
              "    cursor: pointer;\n",
              "    display: none;\n",
              "    fill: var(--fill-color);\n",
              "    height: 32px;\n",
              "    padding: 0;\n",
              "    width: 32px;\n",
              "  }\n",
              "\n",
              "  .colab-df-quickchart:hover {\n",
              "    background-color: var(--hover-bg-color);\n",
              "    box-shadow: 0 1px 2px rgba(60, 64, 67, 0.3), 0 1px 3px 1px rgba(60, 64, 67, 0.15);\n",
              "    fill: var(--button-hover-fill-color);\n",
              "  }\n",
              "\n",
              "  .colab-df-quickchart-complete:disabled,\n",
              "  .colab-df-quickchart-complete:disabled:hover {\n",
              "    background-color: var(--disabled-bg-color);\n",
              "    fill: var(--disabled-fill-color);\n",
              "    box-shadow: none;\n",
              "  }\n",
              "\n",
              "  .colab-df-spinner {\n",
              "    border: 2px solid var(--fill-color);\n",
              "    border-color: transparent;\n",
              "    border-bottom-color: var(--fill-color);\n",
              "    animation:\n",
              "      spin 1s steps(1) infinite;\n",
              "  }\n",
              "\n",
              "  @keyframes spin {\n",
              "    0% {\n",
              "      border-color: transparent;\n",
              "      border-bottom-color: var(--fill-color);\n",
              "      border-left-color: var(--fill-color);\n",
              "    }\n",
              "    20% {\n",
              "      border-color: transparent;\n",
              "      border-left-color: var(--fill-color);\n",
              "      border-top-color: var(--fill-color);\n",
              "    }\n",
              "    30% {\n",
              "      border-color: transparent;\n",
              "      border-left-color: var(--fill-color);\n",
              "      border-top-color: var(--fill-color);\n",
              "      border-right-color: var(--fill-color);\n",
              "    }\n",
              "    40% {\n",
              "      border-color: transparent;\n",
              "      border-right-color: var(--fill-color);\n",
              "      border-top-color: var(--fill-color);\n",
              "    }\n",
              "    60% {\n",
              "      border-color: transparent;\n",
              "      border-right-color: var(--fill-color);\n",
              "    }\n",
              "    80% {\n",
              "      border-color: transparent;\n",
              "      border-right-color: var(--fill-color);\n",
              "      border-bottom-color: var(--fill-color);\n",
              "    }\n",
              "    90% {\n",
              "      border-color: transparent;\n",
              "      border-bottom-color: var(--fill-color);\n",
              "    }\n",
              "  }\n",
              "</style>\n",
              "\n",
              "  <script>\n",
              "    async function quickchart(key) {\n",
              "      const quickchartButtonEl =\n",
              "        document.querySelector('#' + key + ' button');\n",
              "      quickchartButtonEl.disabled = true;  // To prevent multiple clicks.\n",
              "      quickchartButtonEl.classList.add('colab-df-spinner');\n",
              "      try {\n",
              "        const charts = await google.colab.kernel.invokeFunction(\n",
              "            'suggestCharts', [key], {});\n",
              "      } catch (error) {\n",
              "        console.error('Error during call to suggestCharts:', error);\n",
              "      }\n",
              "      quickchartButtonEl.classList.remove('colab-df-spinner');\n",
              "      quickchartButtonEl.classList.add('colab-df-quickchart-complete');\n",
              "    }\n",
              "    (() => {\n",
              "      let quickchartButtonEl =\n",
              "        document.querySelector('#df-df14debb-62df-48fc-a7d1-9e3cb7c9b442 button');\n",
              "      quickchartButtonEl.style.display =\n",
              "        google.colab.kernel.accessAllowed ? 'block' : 'none';\n",
              "    })();\n",
              "  </script>\n",
              "</div>\n",
              "\n",
              "  <div id=\"id_74b85982-088c-4ed8-adbb-16bc259a416a\">\n",
              "    <style>\n",
              "      .colab-df-generate {\n",
              "        background-color: #E8F0FE;\n",
              "        border: none;\n",
              "        border-radius: 50%;\n",
              "        cursor: pointer;\n",
              "        display: none;\n",
              "        fill: #1967D2;\n",
              "        height: 32px;\n",
              "        padding: 0 0 0 0;\n",
              "        width: 32px;\n",
              "      }\n",
              "\n",
              "      .colab-df-generate:hover {\n",
              "        background-color: #E2EBFA;\n",
              "        box-shadow: 0px 1px 2px rgba(60, 64, 67, 0.3), 0px 1px 3px 1px rgba(60, 64, 67, 0.15);\n",
              "        fill: #174EA6;\n",
              "      }\n",
              "\n",
              "      [theme=dark] .colab-df-generate {\n",
              "        background-color: #3B4455;\n",
              "        fill: #D2E3FC;\n",
              "      }\n",
              "\n",
              "      [theme=dark] .colab-df-generate:hover {\n",
              "        background-color: #434B5C;\n",
              "        box-shadow: 0px 1px 3px 1px rgba(0, 0, 0, 0.15);\n",
              "        filter: drop-shadow(0px 1px 2px rgba(0, 0, 0, 0.3));\n",
              "        fill: #FFFFFF;\n",
              "      }\n",
              "    </style>\n",
              "    <button class=\"colab-df-generate\" onclick=\"generateWithVariable('variations')\"\n",
              "            title=\"Generate code using this dataframe.\"\n",
              "            style=\"display:none;\">\n",
              "\n",
              "  <svg xmlns=\"http://www.w3.org/2000/svg\" height=\"24px\"viewBox=\"0 0 24 24\"\n",
              "       width=\"24px\">\n",
              "    <path d=\"M7,19H8.4L18.45,9,17,7.55,7,17.6ZM5,21V16.75L18.45,3.32a2,2,0,0,1,2.83,0l1.4,1.43a1.91,1.91,0,0,1,.58,1.4,1.91,1.91,0,0,1-.58,1.4L9.25,21ZM18.45,9,17,7.55Zm-12,3A5.31,5.31,0,0,0,4.9,8.1,5.31,5.31,0,0,0,1,6.5,5.31,5.31,0,0,0,4.9,4.9,5.31,5.31,0,0,0,6.5,1,5.31,5.31,0,0,0,8.1,4.9,5.31,5.31,0,0,0,12,6.5,5.46,5.46,0,0,0,6.5,12Z\"/>\n",
              "  </svg>\n",
              "    </button>\n",
              "    <script>\n",
              "      (() => {\n",
              "      const buttonEl =\n",
              "        document.querySelector('#id_74b85982-088c-4ed8-adbb-16bc259a416a button.colab-df-generate');\n",
              "      buttonEl.style.display =\n",
              "        google.colab.kernel.accessAllowed ? 'block' : 'none';\n",
              "\n",
              "      buttonEl.onclick = () => {\n",
              "        google.colab.notebook.generateWithVariable('variations');\n",
              "      }\n",
              "      })();\n",
              "    </script>\n",
              "  </div>\n",
              "\n",
              "    </div>\n",
              "  </div>\n"
            ],
            "application/vnd.google.colaboratory.intrinsic+json": {
              "type": "dataframe",
              "variable_name": "variations",
              "summary": "{\n  \"name\": \"variations\",\n  \"rows\": 6,\n  \"fields\": [\n    {\n      \"column\": \"George and Wallace\",\n      \"properties\": {\n        \"dtype\": \"number\",\n        \"std\": 33.81166484547951,\n        \"min\": 4.0,\n        \"max\": 90.11157894736843,\n        \"num_unique_values\": 6,\n        \"samples\": [\n          4.0,\n          5.45,\n          9.492711885829488\n        ],\n        \"semantic_type\": \"\",\n        \"description\": \"\"\n      }\n    },\n    {\n      \"column\": \"Imperial Traders\",\n      \"properties\": {\n        \"dtype\": \"number\",\n        \"std\": 23.012769285870153,\n        \"min\": 4.0,\n        \"max\": 63.66526315789473,\n        \"num_unique_values\": 6,\n        \"samples\": [\n          4.0,\n          7.65,\n          7.9790515199423755\n        ],\n        \"semantic_type\": \"\",\n        \"description\": \"\"\n      }\n    },\n    {\n      \"column\": \"High Rise\",\n      \"properties\": {\n        \"dtype\": \"number\",\n        \"std\": 9.390966738987544,\n        \"min\": 3.999999999999999,\n        \"max\": 28.071578947368415,\n        \"num_unique_values\": 6,\n        \"samples\": [\n          3.999999999999999,\n          6.55,\n          5.298261879840257\n        ],\n        \"semantic_type\": \"\",\n        \"description\": \"\"\n      }\n    }\n  ]\n}"
            }
          },
          "metadata": {},
          "execution_count": 76
        }
      ],
      "source": [
        "# View the \"variations\" data frame\n",
        "variations"
      ]
    },
    {
      "cell_type": "code",
      "execution_count": 77,
      "id": "71883fba",
      "metadata": {
        "id": "71883fba"
      },
      "outputs": [],
      "source": [
        "# Observations\n",
        "\n",
        "# The mean investment returns for the three agencies are equal to 4 %\n",
        "# The median investment return percentage for \"George and Wallace\" is the lowest at 5.45 %\n",
        "# The median investment return percentage for \"Imperial Traders\" is the highest at 7.65 %\n",
        "# The lowest variability in investment returns is shown by \"High Rise\" at 5.3 % standard deviation\n",
        "# The highest variablitiy in investment returns is shown by \"George and Wallace\" at 7.98 % standard deviation\n",
        "\n",
        "# Since \"George and Wallace\" has the least median investment return percentage and the highest variability, it can be rejected\n",
        "# The agency \"Imperial Traders\" offers a slightly higher median percentage with a higher variability than \"High Rise\"\n",
        "# The difference in the median percentages of \"Imperial Traders\" and \"High Rise\" is about 1 %\n",
        "# The difference in their standard deviation values is about 2.5 %\n",
        "\n",
        "# As an investor, stability is quite important for longer periods of investment\n",
        "# Keeping this in mind, we could recommend investing in the agency \"High Rise\""
      ]
    },
    {
      "cell_type": "code",
      "execution_count": 78,
      "id": "5e533437",
      "metadata": {
        "id": "5e533437"
      },
      "outputs": [],
      "source": [
        "###########################################################################"
      ]
    },
    {
      "cell_type": "code",
      "execution_count": 79,
      "id": "1c89aa88",
      "metadata": {
        "id": "1c89aa88"
      },
      "outputs": [],
      "source": [
        "# Conclusions\n",
        "\n",
        "# From the given data, we can use simple visualisations to get a sense of how data are distributed\n",
        "# We can use central tendency measures such as the mean and the median to get a sense of the representative value for a group\n",
        "# We can use various measures of variability such as range, mean absolute deviation and standard deviation\n",
        "# These measures help us get a sense of how variable or how stable a group of data is\n",
        "# By looking at these different statistical measures, we can make informed real world decisions"
      ]
    },
    {
      "cell_type": "code",
      "execution_count": 80,
      "id": "92f388c2",
      "metadata": {
        "id": "92f388c2"
      },
      "outputs": [],
      "source": [
        "###########################################################################"
      ]
    }
  ],
  "metadata": {
    "kernelspec": {
      "display_name": "Python 3",
      "language": "python",
      "name": "python3"
    },
    "language_info": {
      "codemirror_mode": {
        "name": "ipython",
        "version": 3
      },
      "file_extension": ".py",
      "mimetype": "text/x-python",
      "name": "python",
      "nbconvert_exporter": "python",
      "pygments_lexer": "ipython3",
      "version": "3.8.8"
    },
    "colab": {
      "provenance": []
    }
  },
  "nbformat": 4,
  "nbformat_minor": 5
}