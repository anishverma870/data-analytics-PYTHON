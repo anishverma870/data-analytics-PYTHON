{
 "cells": [
  {
   "cell_type": "code",
   "execution_count": null,
   "id": "8a95012e",
   "metadata": {},
   "outputs": [],
   "source": [
    "###########################################################################"
   ]
  },
  {
   "cell_type": "code",
   "execution_count": null,
   "id": "5f70457e-fe22-4f85-86e1-f592a29cf014",
   "metadata": {},
   "outputs": [],
   "source": [
    "# Introduction\n",
    "\n",
    "# This Jupyter notebook is part of your learning experience in the study of correlation\n",
    "# You will work with a simple data set that contains the expenditures and profits of a certain company\n",
    "\n",
    "# In this exercise, you will perform the following tasks:\n",
    "# 1 - Load and study the data\n",
    "# 2 - Visualise the relations between different types of company expenditures and the company's profits\n",
    "# 3 - Generate a correlation matrix for the given data and identify how to improve the company's spending trends"
   ]
  },
  {
   "cell_type": "markdown",
   "id": "1fb7e649-46fe-450d-88d3-75e19c33567c",
   "metadata": {},
   "source": [
    "###########################################################################"
   ]
  },
  {
   "cell_type": "code",
   "execution_count": null,
   "id": "da15f289",
   "metadata": {},
   "outputs": [],
   "source": [
    "# Task 1 - Load and study the data\n",
    "\n",
    "# Load the data and study its features such as:\n",
    "# The various types of expenditures that the company makes\n",
    "# The months for which the specifics of the company's expenditures and profits are available\n",
    "# The profits earned by the company"
   ]
  },
  {
   "cell_type": "code",
   "execution_count": 1,
   "id": "33884073",
   "metadata": {},
   "outputs": [],
   "source": [
    "# Load \"numpy\" and \"pandas\" for manipulating numbers and data frames\n",
    "# Load \"matplotlib.pyplot\" and \"seaborn\" for data visualisation\n",
    "# Load \"scipy\" for scientific and mathematical methods\n",
    "import numpy as np\n",
    "import pandas as pd\n",
    "import matplotlib.pyplot as plt\n",
    "import seaborn as sns\n",
    "import scipy"
   ]
  },
  {
   "cell_type": "code",
   "execution_count": 7,
   "id": "6da1963a",
   "metadata": {},
   "outputs": [],
   "source": [
    "# Read in the \"Company_Expenditure.csv\" file as a Pandas Data Frame\n",
    "# Note: Make sure the code and the data are in the same folder or specify the appropriate path\n",
    "df = pd.read_csv(\"Employee_Specifics (1) by upgrad stats.csv\", index_col = 0)"
   ]
  },
  {
   "cell_type": "code",
   "execution_count": 9,
   "id": "85e9af90",
   "metadata": {},
   "outputs": [
    {
     "data": {
      "text/html": [
       "<div>\n",
       "<style scoped>\n",
       "    .dataframe tbody tr th:only-of-type {\n",
       "        vertical-align: middle;\n",
       "    }\n",
       "\n",
       "    .dataframe tbody tr th {\n",
       "        vertical-align: top;\n",
       "    }\n",
       "\n",
       "    .dataframe thead th {\n",
       "        text-align: right;\n",
       "    }\n",
       "</style>\n",
       "<table border=\"1\" class=\"dataframe\">\n",
       "  <thead>\n",
       "    <tr style=\"text-align: right;\">\n",
       "      <th></th>\n",
       "      <th>Name</th>\n",
       "      <th>Department</th>\n",
       "      <th>Compensation</th>\n",
       "      <th>Rating</th>\n",
       "    </tr>\n",
       "    <tr>\n",
       "      <th>Employee ID</th>\n",
       "      <th></th>\n",
       "      <th></th>\n",
       "      <th></th>\n",
       "      <th></th>\n",
       "    </tr>\n",
       "  </thead>\n",
       "  <tbody>\n",
       "    <tr>\n",
       "      <th>18726</th>\n",
       "      <td>Tom</td>\n",
       "      <td>Sales</td>\n",
       "      <td>865212</td>\n",
       "      <td>4</td>\n",
       "    </tr>\n",
       "    <tr>\n",
       "      <th>20016</th>\n",
       "      <td>Gautam</td>\n",
       "      <td>Content</td>\n",
       "      <td>734732</td>\n",
       "      <td>5</td>\n",
       "    </tr>\n",
       "    <tr>\n",
       "      <th>31054</th>\n",
       "      <td>Devaki</td>\n",
       "      <td>Sales</td>\n",
       "      <td>781113</td>\n",
       "      <td>3</td>\n",
       "    </tr>\n",
       "    <tr>\n",
       "      <th>35363</th>\n",
       "      <td>Oliver</td>\n",
       "      <td>Technology</td>\n",
       "      <td>800212</td>\n",
       "      <td>4</td>\n",
       "    </tr>\n",
       "    <tr>\n",
       "      <th>37629</th>\n",
       "      <td>Manisha</td>\n",
       "      <td>Editing</td>\n",
       "      <td>754871</td>\n",
       "      <td>4</td>\n",
       "    </tr>\n",
       "  </tbody>\n",
       "</table>\n",
       "</div>"
      ],
      "text/plain": [
       "                Name  Department  Compensation  Rating\n",
       "Employee ID                                           \n",
       "18726            Tom       Sales        865212       4\n",
       "20016         Gautam     Content        734732       5\n",
       "31054         Devaki       Sales        781113       3\n",
       "35363         Oliver  Technology        800212       4\n",
       "37629        Manisha     Editing        754871       4"
      ]
     },
     "execution_count": 9,
     "metadata": {},
     "output_type": "execute_result"
    }
   ],
   "source": [
    "# Take a brief look at the data using \".head()\"\n",
    "df.head()"
   ]
  },
  {
   "cell_type": "code",
   "execution_count": 25,
   "id": "8cbf5ba2",
   "metadata": {},
   "outputs": [
    {
     "ename": "FileNotFoundError",
     "evalue": "[Errno 2] No such file or directory: 'Company_Expenditure_Feature_Description.txt'",
     "output_type": "error",
     "traceback": [
      "\u001b[1;31m---------------------------------------------------------------------------\u001b[0m",
      "\u001b[1;31mFileNotFoundError\u001b[0m                         Traceback (most recent call last)",
      "Cell \u001b[1;32mIn[25], line 3\u001b[0m\n\u001b[0;32m      1\u001b[0m \u001b[38;5;66;03m# Study the description of the data\u001b[39;00m\n\u001b[0;32m      2\u001b[0m \u001b[38;5;66;03m# Note: Make sure the code and the data description are in the same folder or specify the appropriate path\u001b[39;00m\n\u001b[1;32m----> 3\u001b[0m \u001b[38;5;28;01mwith\u001b[39;00m \u001b[38;5;28mopen\u001b[39m(\u001b[38;5;124m'\u001b[39m\u001b[38;5;124mCompany_Expenditure_Feature_Description.txt\u001b[39m\u001b[38;5;124m'\u001b[39m, \u001b[38;5;124m'\u001b[39m\u001b[38;5;124mr\u001b[39m\u001b[38;5;124m'\u001b[39m) \u001b[38;5;28;01mas\u001b[39;00m f:\n\u001b[0;32m      4\u001b[0m     \u001b[38;5;28mprint\u001b[39m(f\u001b[38;5;241m.\u001b[39mread())\n",
      "File \u001b[1;32m~\\anaconda3\\Lib\\site-packages\\IPython\\core\\interactiveshell.py:324\u001b[0m, in \u001b[0;36m_modified_open\u001b[1;34m(file, *args, **kwargs)\u001b[0m\n\u001b[0;32m    317\u001b[0m \u001b[38;5;28;01mif\u001b[39;00m file \u001b[38;5;129;01min\u001b[39;00m {\u001b[38;5;241m0\u001b[39m, \u001b[38;5;241m1\u001b[39m, \u001b[38;5;241m2\u001b[39m}:\n\u001b[0;32m    318\u001b[0m     \u001b[38;5;28;01mraise\u001b[39;00m \u001b[38;5;167;01mValueError\u001b[39;00m(\n\u001b[0;32m    319\u001b[0m         \u001b[38;5;124mf\u001b[39m\u001b[38;5;124m\"\u001b[39m\u001b[38;5;124mIPython won\u001b[39m\u001b[38;5;124m'\u001b[39m\u001b[38;5;124mt let you open fd=\u001b[39m\u001b[38;5;132;01m{\u001b[39;00mfile\u001b[38;5;132;01m}\u001b[39;00m\u001b[38;5;124m by default \u001b[39m\u001b[38;5;124m\"\u001b[39m\n\u001b[0;32m    320\u001b[0m         \u001b[38;5;124m\"\u001b[39m\u001b[38;5;124mas it is likely to crash IPython. If you know what you are doing, \u001b[39m\u001b[38;5;124m\"\u001b[39m\n\u001b[0;32m    321\u001b[0m         \u001b[38;5;124m\"\u001b[39m\u001b[38;5;124myou can use builtins\u001b[39m\u001b[38;5;124m'\u001b[39m\u001b[38;5;124m open.\u001b[39m\u001b[38;5;124m\"\u001b[39m\n\u001b[0;32m    322\u001b[0m     )\n\u001b[1;32m--> 324\u001b[0m \u001b[38;5;28;01mreturn\u001b[39;00m io_open(file, \u001b[38;5;241m*\u001b[39margs, \u001b[38;5;241m*\u001b[39m\u001b[38;5;241m*\u001b[39mkwargs)\n",
      "\u001b[1;31mFileNotFoundError\u001b[0m: [Errno 2] No such file or directory: 'Company_Expenditure_Feature_Description.txt'"
     ]
    }
   ],
   "source": [
    "# Study the description of the data\n",
    "# Note: Make sure the code and the data description are in the same folder or specify the appropriate path\n",
    "with open('Company_Expenditure_Feature_Description.txt', 'r') as f:\n",
    "    print(f.read())"
   ]
  },
  {
   "cell_type": "code",
   "execution_count": 17,
   "id": "fa9b402e",
   "metadata": {},
   "outputs": [
    {
     "data": {
      "text/plain": [
       "(20, 4)"
      ]
     },
     "execution_count": 17,
     "metadata": {},
     "output_type": "execute_result"
    }
   ],
   "source": [
    "# Get the dimensions of the data frame using \".shape\"\n",
    "df.shape"
   ]
  },
  {
   "cell_type": "code",
   "execution_count": 19,
   "id": "8bf44620",
   "metadata": {},
   "outputs": [
    {
     "data": {
      "text/plain": [
       "Index([18726, 20016, 31054, 35363, 37629, 37654, 38801, 40196, 41126, 42871,\n",
       "       43328, 50898, 52432, 53648, 67754, 70105, 72186, 76683, 80157, 87657],\n",
       "      dtype='int64', name='Employee ID')"
      ]
     },
     "execution_count": 19,
     "metadata": {},
     "output_type": "execute_result"
    }
   ],
   "source": [
    "# Get the row names of the data frame using \".index\"\n",
    "df.index"
   ]
  },
  {
   "cell_type": "code",
   "execution_count": 21,
   "id": "ef109aa2",
   "metadata": {},
   "outputs": [
    {
     "data": {
      "text/plain": [
       "Index(['Name', 'Department', 'Compensation', 'Rating'], dtype='object')"
      ]
     },
     "execution_count": 21,
     "metadata": {},
     "output_type": "execute_result"
    }
   ],
   "source": [
    "# Get the column names of the data frame using \".columns\"\n",
    "df.columns"
   ]
  },
  {
   "cell_type": "code",
   "execution_count": 23,
   "id": "03f1299b",
   "metadata": {},
   "outputs": [
    {
     "name": "stdout",
     "output_type": "stream",
     "text": [
      "<class 'pandas.core.frame.DataFrame'>\n",
      "Index: 20 entries, 18726 to 87657\n",
      "Data columns (total 4 columns):\n",
      " #   Column        Non-Null Count  Dtype \n",
      "---  ------        --------------  ----- \n",
      " 0   Name          20 non-null     object\n",
      " 1   Department    20 non-null     object\n",
      " 2   Compensation  20 non-null     int64 \n",
      " 3   Rating        20 non-null     int64 \n",
      "dtypes: int64(2), object(2)\n",
      "memory usage: 800.0+ bytes\n"
     ]
    }
   ],
   "source": [
    "# Look at basic information about the data frame using \".info()\"\n",
    "df.info()"
   ]
  },
  {
   "cell_type": "code",
   "execution_count": 33,
   "id": "77983bfa-9adf-4aa1-bfd6-5c99bee87043",
   "metadata": {},
   "outputs": [
    {
     "data": {
      "text/plain": [
       "Rating\n",
       "4    9\n",
       "5    8\n",
       "3    2\n",
       "2    1\n",
       "Name: count, dtype: int64"
      ]
     },
     "execution_count": 33,
     "metadata": {},
     "output_type": "execute_result"
    }
   ],
   "source": [
    "# In the given data set, what is the rating of the majority of the employees?\n",
    "df['Rating'].value_counts()"
   ]
  },
  {
   "cell_type": "code",
   "execution_count": 37,
   "id": "54aa0efa-4177-477c-b8a0-b205bb75f89b",
   "metadata": {},
   "outputs": [
    {
     "name": "stdout",
     "output_type": "stream",
     "text": [
      "                Name Department  Compensation  Rating\n",
      "Employee ID                                          \n",
      "43328        Aneesha      Sales        611783       5\n"
     ]
    }
   ],
   "source": [
    "# Based on the code that you have executed, which of these employees has a rating of 5 but a compensation less than ₹7,00,000?##\n",
    "filtered_df = df[(df['Rating'] == 5) & (df['Compensation'] < 700000)]\n",
    "\n",
    "# Show result\n",
    "print(filtered_df)"
   ]
  },
  {
   "cell_type": "code",
   "execution_count": 58,
   "id": "eed994f7-e74c-4b10-887e-dc5618897aad",
   "metadata": {},
   "outputs": [
    {
     "data": {
      "image/png": "[encoded data removed]",
      "text/plain": [
       "<Figure size 640x480 with 1 Axes>"
      ]
     },
     "metadata": {},
     "output_type": "display_data"
    }
   ],
   "source": [
    "# creating a scatter plot of rating and composeshion for feature \n",
    "sns.scatterplot(data= df , x='Rating',y='Compensation' )\n",
    "plt.title('RATING AND COMPENSATION',size  = 30,color  =  'red',loc='center')\n",
    "plt.xlabel('RATING',color = 'blue',size = 25)\n",
    "plt.ylabel('COMPENSATION',color = 'g',size = 25)\n",
    "plt.show()"
   ]
  },
  {
   "cell_type": "code",
   "execution_count": 108,
   "id": "18827b0c-f5cb-451d-aa31-e7af11e75550",
   "metadata": {},
   "outputs": [],
   "source": [
    "import warnings\n",
    "warnings.filterwarnings('ignore')"
   ]
  },
  {
   "cell_type": "code",
   "execution_count": 110,
   "id": "02f2b434-8474-492d-9f98-4b5f041e5997",
   "metadata": {},
   "outputs": [
    {
     "data": {
      "image/png": "[encoded data removed]",
      "text/plain": [
       "<Figure size 640x480 with 1 Axes>"
      ]
     },
     "metadata": {},
     "output_type": "display_data"
    }
   ],
   "source": [
    "# bar \n",
    "color = ['b','orange','green','red']\n",
    "sns.countplot(data= df,x='Rating',edgecolor ='linen',alpha = 0.5 ,palette=color)\n",
    "plt.title('BAR PLOT RATING AND COMPENSATION',size  = 30,color  =  'red',loc='center')\n",
    "plt.xlabel('RATING',color = 'blue',size = 25)\n",
    "plt.ylabel('COMPENSATION',color = 'g',size = 25)\n",
    "plt.show()"
   ]
  },
  {
   "cell_type": "code",
   "execution_count": 116,
   "id": "d30b3b60-8ed9-410d-88b7-31c8813b89e6",
   "metadata": {},
   "outputs": [
    {
     "data": {
      "text/plain": [
       "<Axes: xlabel='Compensation', ylabel='Count'>"
      ]
     },
     "execution_count": 116,
     "metadata": {},
     "output_type": "execute_result"
    },
    {
     "data": {
      "image/png": "[encoded data removed]",
      "text/plain": [
       "<Figure size 640x480 with 1 Axes>"
      ]
     },
     "metadata": {},
     "output_type": "display_data"
    }
   ],
   "source": [
    "# hist\n",
    "sns.histplot(data=df,x='Compensation',edgecolor = 'red',alpha = 0.5,color = 'brown',bins=10)"
   ]
  },
  {
   "cell_type": "code",
   "execution_count": 62,
   "id": "943e98d0-9f17-4c24-8579-75d65183ec72",
   "metadata": {},
   "outputs": [
    {
     "data": {
      "text/html": [
       "<div>\n",
       "<style scoped>\n",
       "    .dataframe tbody tr th:only-of-type {\n",
       "        vertical-align: middle;\n",
       "    }\n",
       "\n",
       "    .dataframe tbody tr th {\n",
       "        vertical-align: top;\n",
       "    }\n",
       "\n",
       "    .dataframe thead th {\n",
       "        text-align: right;\n",
       "    }\n",
       "</style>\n",
       "<table border=\"1\" class=\"dataframe\">\n",
       "  <thead>\n",
       "    <tr style=\"text-align: right;\">\n",
       "      <th></th>\n",
       "      <th>Name</th>\n",
       "      <th>Department</th>\n",
       "      <th>Compensation</th>\n",
       "      <th>Rating</th>\n",
       "    </tr>\n",
       "    <tr>\n",
       "      <th>Employee ID</th>\n",
       "      <th></th>\n",
       "      <th></th>\n",
       "      <th></th>\n",
       "      <th></th>\n",
       "    </tr>\n",
       "  </thead>\n",
       "  <tbody>\n",
       "    <tr>\n",
       "      <th>20016</th>\n",
       "      <td>Gautam</td>\n",
       "      <td>Content</td>\n",
       "      <td>734732</td>\n",
       "      <td>5</td>\n",
       "    </tr>\n",
       "    <tr>\n",
       "      <th>37654</th>\n",
       "      <td>Jenny</td>\n",
       "      <td>Content</td>\n",
       "      <td>1176526</td>\n",
       "      <td>5</td>\n",
       "    </tr>\n",
       "    <tr>\n",
       "      <th>40196</th>\n",
       "      <td>Rohan</td>\n",
       "      <td>Content</td>\n",
       "      <td>991872</td>\n",
       "      <td>5</td>\n",
       "    </tr>\n",
       "    <tr>\n",
       "      <th>43328</th>\n",
       "      <td>Aneesha</td>\n",
       "      <td>Sales</td>\n",
       "      <td>611783</td>\n",
       "      <td>5</td>\n",
       "    </tr>\n",
       "    <tr>\n",
       "      <th>53648</th>\n",
       "      <td>Richa</td>\n",
       "      <td>Technology</td>\n",
       "      <td>1261175</td>\n",
       "      <td>5</td>\n",
       "    </tr>\n",
       "    <tr>\n",
       "      <th>70105</th>\n",
       "      <td>Donald</td>\n",
       "      <td>Sales</td>\n",
       "      <td>1376907</td>\n",
       "      <td>5</td>\n",
       "    </tr>\n",
       "    <tr>\n",
       "      <th>72186</th>\n",
       "      <td>Ganesh</td>\n",
       "      <td>Content</td>\n",
       "      <td>1510872</td>\n",
       "      <td>5</td>\n",
       "    </tr>\n",
       "    <tr>\n",
       "      <th>80157</th>\n",
       "      <td>Nishanth</td>\n",
       "      <td>Sales</td>\n",
       "      <td>1011783</td>\n",
       "      <td>5</td>\n",
       "    </tr>\n",
       "  </tbody>\n",
       "</table>\n",
       "</div>"
      ],
      "text/plain": [
       "                 Name  Department  Compensation  Rating\n",
       "Employee ID                                            \n",
       "20016          Gautam     Content        734732       5\n",
       "37654           Jenny     Content       1176526       5\n",
       "40196           Rohan     Content        991872       5\n",
       "43328         Aneesha       Sales        611783       5\n",
       "53648           Richa  Technology       1261175       5\n",
       "70105          Donald       Sales       1376907       5\n",
       "72186          Ganesh     Content       1510872       5\n",
       "80157        Nishanth       Sales       1011783       5"
      ]
     },
     "execution_count": 62,
     "metadata": {},
     "output_type": "execute_result"
    }
   ],
   "source": [
    "#find the employe who have the rating more then 4\n",
    "df[df['Rating']>4]"
   ]
  },
  {
   "cell_type": "code",
   "execution_count": 66,
   "id": "5b19ef54-2b4f-4d89-9edc-a8b28d0f4cc8",
   "metadata": {},
   "outputs": [
    {
     "data": {
      "text/html": [
       "<div>\n",
       "<style scoped>\n",
       "    .dataframe tbody tr th:only-of-type {\n",
       "        vertical-align: middle;\n",
       "    }\n",
       "\n",
       "    .dataframe tbody tr th {\n",
       "        vertical-align: top;\n",
       "    }\n",
       "\n",
       "    .dataframe thead th {\n",
       "        text-align: right;\n",
       "    }\n",
       "</style>\n",
       "<table border=\"1\" class=\"dataframe\">\n",
       "  <thead>\n",
       "    <tr style=\"text-align: right;\">\n",
       "      <th></th>\n",
       "      <th>Name</th>\n",
       "      <th>Department</th>\n",
       "      <th>Compensation</th>\n",
       "      <th>Rating</th>\n",
       "    </tr>\n",
       "    <tr>\n",
       "      <th>Employee ID</th>\n",
       "      <th></th>\n",
       "      <th></th>\n",
       "      <th></th>\n",
       "      <th></th>\n",
       "    </tr>\n",
       "  </thead>\n",
       "  <tbody>\n",
       "    <tr>\n",
       "      <th>42871</th>\n",
       "      <td>Zohaib</td>\n",
       "      <td>Editing</td>\n",
       "      <td>409821</td>\n",
       "      <td>2</td>\n",
       "    </tr>\n",
       "    <tr>\n",
       "      <th>43328</th>\n",
       "      <td>Aneesha</td>\n",
       "      <td>Sales</td>\n",
       "      <td>611783</td>\n",
       "      <td>5</td>\n",
       "    </tr>\n",
       "    <tr>\n",
       "      <th>67754</th>\n",
       "      <td>Habib</td>\n",
       "      <td>Sales</td>\n",
       "      <td>655730</td>\n",
       "      <td>4</td>\n",
       "    </tr>\n",
       "    <tr>\n",
       "      <th>87657</th>\n",
       "      <td>Gerald</td>\n",
       "      <td>Content</td>\n",
       "      <td>585037</td>\n",
       "      <td>3</td>\n",
       "    </tr>\n",
       "  </tbody>\n",
       "</table>\n",
       "</div>"
      ],
      "text/plain": [
       "                Name Department  Compensation  Rating\n",
       "Employee ID                                          \n",
       "42871         Zohaib    Editing        409821       2\n",
       "43328        Aneesha      Sales        611783       5\n",
       "67754          Habib      Sales        655730       4\n",
       "87657         Gerald    Content        585037       3"
      ]
     },
     "execution_count": 66,
     "metadata": {},
     "output_type": "execute_result"
    }
   ],
   "source": [
    "# the employee  who have salary less then 700000\n",
    "df[df['Compensation']<700000]"
   ]
  },
  {
   "cell_type": "code",
   "execution_count": 80,
   "id": "23a4c6f8-f0aa-4ba5-9e4d-de38610473b9",
   "metadata": {},
   "outputs": [
    {
     "data": {
      "text/html": [
       "<div>\n",
       "<style scoped>\n",
       "    .dataframe tbody tr th:only-of-type {\n",
       "        vertical-align: middle;\n",
       "    }\n",
       "\n",
       "    .dataframe tbody tr th {\n",
       "        vertical-align: top;\n",
       "    }\n",
       "\n",
       "    .dataframe thead th {\n",
       "        text-align: right;\n",
       "    }\n",
       "</style>\n",
       "<table border=\"1\" class=\"dataframe\">\n",
       "  <thead>\n",
       "    <tr style=\"text-align: right;\">\n",
       "      <th></th>\n",
       "      <th>Name</th>\n",
       "      <th>Department</th>\n",
       "      <th>Compensation</th>\n",
       "      <th>Rating</th>\n",
       "    </tr>\n",
       "    <tr>\n",
       "      <th>Employee ID</th>\n",
       "      <th></th>\n",
       "      <th></th>\n",
       "      <th></th>\n",
       "      <th></th>\n",
       "    </tr>\n",
       "  </thead>\n",
       "  <tbody>\n",
       "    <tr>\n",
       "      <th>43328</th>\n",
       "      <td>Aneesha</td>\n",
       "      <td>Sales</td>\n",
       "      <td>611783</td>\n",
       "      <td>5</td>\n",
       "    </tr>\n",
       "  </tbody>\n",
       "</table>\n",
       "</div>"
      ],
      "text/plain": [
       "                Name Department  Compensation  Rating\n",
       "Employee ID                                          \n",
       "43328        Aneesha      Sales        611783       5"
      ]
     },
     "execution_count": 80,
     "metadata": {},
     "output_type": "execute_result"
    }
   ],
   "source": [
    "df[(df['Rating']>4) & (df['Compensation']<700000)]"
   ]
  },
  {
   "cell_type": "code",
   "execution_count": null,
   "id": "327c0120-c084-43b7-a154-e9741c7bc8aa",
   "metadata": {},
   "outputs": [],
   "source": []
  },
  {
   "cell_type": "code",
   "execution_count": null,
   "id": "216aa6c2-3787-40fd-a3f2-7c3c3a51a5ac",
   "metadata": {},
   "outputs": [],
   "source": []
  },
  {
   "cell_type": "code",
   "execution_count": null,
   "id": "a2410b63",
   "metadata": {},
   "outputs": [],
   "source": [
    "# Observations\n",
    "\n",
    "# There are 24 rows and 4 columns in the data\n",
    "# Each row contains the specifics of the expenditures and the profits of the company in rupees for a certain month\n",
    "\n",
    "# The features in the data set are:\n",
    "# The amount spent by the company on marketing from Jan 2007 to Dec 2008\n",
    "# The amount spent by the company on human resources from Jan 2007 to Dec 2008\n",
    "# The amount spent by the company on infrastructure from Jan 2007 to Dec 2008\n",
    "# The profits earned by the company from Jan 2007 to Dec 2008"
   ]
  },
  {
   "cell_type": "code",
   "execution_count": null,
   "id": "6f1006e3",
   "metadata": {},
   "outputs": [],
   "source": [
    "###########################################################################"
   ]
  },
  {
   "cell_type": "code",
   "execution_count": null,
   "id": "8d53af90",
   "metadata": {},
   "outputs": [],
   "source": [
    "# Task 2 - Visualise the relation between different types of company expenditures and the company's profits\n",
    "\n",
    "# We will now visualize how various types of expenditures are related to the profits earned by the company\n",
    "# We will primarily do this using scatter plots"
   ]
  },
  {
   "cell_type": "code",
   "execution_count": null,
   "id": "58fb4d09",
   "metadata": {},
   "outputs": [],
   "source": [
    "# Create a scatter plot of the \"Marketing\" and the \"Profits\" features\n",
    "plt.figure(figsize = (8, 4), dpi= 100)\n",
    "sns.scatterplot(data = df, x = 'Marketing', y = 'Profits', alpha = 0.5, color = 'blue', edgecolor = 'linen')\n",
    "plt.title('Scatter Plot of Marketing Expenditure and Profits')\n",
    "plt.xlabel('Marketing Expenditure in rupees')\n",
    "plt.ylabel('Profits in rupees');"
   ]
  },
  {
   "cell_type": "code",
   "execution_count": null,
   "id": "a5cbd83b",
   "metadata": {},
   "outputs": [],
   "source": [
    "# Create a scatter plot of the \"Human Resources\" and the \"Profits\" features\n",
    "plt.figure(figsize = (8, 4), dpi= 100)\n",
    "sns.scatterplot(data = df, x = 'Human Resources', y = 'Profits', alpha = 0.5, color = 'blue', edgecolor = 'linen')\n",
    "plt.title('Scatter Plot of Human Resources Expenditure and Profits')\n",
    "plt.xlabel('Human Resources Expenditure in rupees')\n",
    "plt.ylabel('Profits in rupees');"
   ]
  },
  {
   "cell_type": "code",
   "execution_count": null,
   "id": "350911bf",
   "metadata": {},
   "outputs": [],
   "source": [
    "# Create a scatter plot of the \"Infrastructure\" and the \"Profits\" features\n",
    "plt.figure(figsize = (8, 4), dpi= 100)\n",
    "sns.scatterplot(data = df, x = 'Infrastructure', y = 'Profits', alpha = 0.5, color = 'blue', edgecolor = 'linen')\n",
    "plt.title('Scatter Plot of Infrastructure Expenditure and Profits')\n",
    "plt.xlabel('Infrastructure Expenditure in rupees')\n",
    "plt.ylabel('Profits in rupees');"
   ]
  },
  {
   "cell_type": "code",
   "execution_count": null,
   "id": "c6ca0247",
   "metadata": {},
   "outputs": [],
   "source": [
    "# Create a pair plot of all the features in the data frame\n",
    "sns.pairplot(df);"
   ]
  },
  {
   "cell_type": "code",
   "execution_count": null,
   "id": "ec18abe5",
   "metadata": {},
   "outputs": [],
   "source": [
    "# Observations\n",
    "\n",
    "# There is a clear positive trend between marketing expenditure and profits\n",
    "# There is some kind of positive trend between infrastructure expenditure and profits\n",
    "# There doesn't seem to be any discernible trend between human resources expenditure and profits"
   ]
  },
  {
   "cell_type": "code",
   "execution_count": null,
   "id": "ebe2af63",
   "metadata": {},
   "outputs": [],
   "source": [
    "###########################################################################"
   ]
  },
  {
   "cell_type": "code",
   "execution_count": null,
   "id": "81c87cd0",
   "metadata": {},
   "outputs": [],
   "source": [
    "# Task 3 - Generate a correlation matrix for the given data and identify how to improve the company's spending trends\n",
    "\n",
    "# We will now quantify the relation between the various types of expenditures and the company's profits using correlation\n",
    "# We will primarily be using Pearson's correlation coefficient as a measure of correlation between features"
   ]
  },
  {
   "cell_type": "code",
   "execution_count": null,
   "id": "e53a6e5c",
   "metadata": {},
   "outputs": [],
   "source": [
    "# Calculate Pearson's correlation coefficient between the \"Marketing\" and the \"Profits\" features using \"scipy\"\n",
    "# Note: Use the command \"scipy.stats.pearsonr(feature1, feature2)\" to find the correlation between \"feature1\" and \"feature2\"\n",
    "# Note: The first value in the tuple that is returned is the Pearson's correltaion coefficient for these two features\n",
    "# Note: You can ignore the second value in the tuple for now as it has more importance in inferential statistics\n",
    "scipy.stats.pearsonr(df['Marketing'], df['Profits'])[0]"
   ]
  },
  {
   "cell_type": "code",
   "execution_count": null,
   "id": "cf8ca32c",
   "metadata": {},
   "outputs": [],
   "source": [
    "# Calculate Pearson's correlation coefficient between the \"Human Resources\" and the \"Profits\" features using \"scipy\"\n",
    "scipy.stats.pearsonr(df['Human Resources'], df['Profits'])[0]"
   ]
  },
  {
   "cell_type": "code",
   "execution_count": null,
   "id": "4989e33f",
   "metadata": {},
   "outputs": [],
   "source": [
    "# Calculate Pearson's correlation coefficient between the \"Infrastructure\" and the \"Profits\" features using \"scipy\"\n",
    "scipy.stats.pearsonr(df['Infrastructure'], df['Profits'])[0]"
   ]
  },
  {
   "cell_type": "code",
   "execution_count": null,
   "id": "37b5cdf1",
   "metadata": {},
   "outputs": [],
   "source": [
    "# Calculate Pearson's correlation coefficient between the \"Marketing\" and the \"Profits\" features using \"numpy\"\n",
    "# Note: Use the command \"np.corrcoef(feature1, feature2)\" to find the correlation between \"feature1\" and \"feature2\"\n",
    "\n",
    "# A correlation matrix is returned which contains the following:\n",
    "# Element (0, 0) contains correlation of \"Marketing\" with itself\n",
    "# Element (0, 1) contains correlation of \"Marketing\" with \"Profits\"\n",
    "# Element (1, 0) contains correlation of \"Profits\" with \"Marketing\"\n",
    "# ELement (1, 1) contains correlation of \"Profits\" with itself\n",
    "\n",
    "# Note: Any feature will always be fully positively correlated with itself, so that value will be 1, and can be ignored\n",
    "# Note: Correlation between two features is a commutative operation\n",
    "\n",
    "# Elements (0, 1) and (1, 0) contain the correlation value between the \"Marketing\" and the \"Profits\" features\n",
    "# Extract either the second element of the first row or the first element of the second row\n",
    "np.corrcoef(df['Marketing'], df['Profits'])[0][1]"
   ]
  },
  {
   "cell_type": "code",
   "execution_count": null,
   "id": "5b5475aa",
   "metadata": {},
   "outputs": [],
   "source": [
    "# Calculate Pearson's correlation coefficient between the \"Human Resources\" and the \"Profits\" features using \"numpy\"\n",
    "np.corrcoef(df['Human Resources'], df['Profits'])[0][1]"
   ]
  },
  {
   "cell_type": "code",
   "execution_count": null,
   "id": "7f978a62",
   "metadata": {},
   "outputs": [],
   "source": [
    "# Calculate Pearson's correlation coefficient between the \"Infrastructure\" and the \"Profits\" features using \"numpy\"\n",
    "np.corrcoef(df['Infrastructure'], df['Profits'])[0][1]"
   ]
  },
  {
   "cell_type": "code",
   "execution_count": null,
   "id": "82d8efad",
   "metadata": {},
   "outputs": [],
   "source": [
    "# Calculate the correlation matrix for the data frame using \"pandas\"\n",
    "# Note: Use the \"df.corr()\" command\n",
    "df.corr()"
   ]
  },
  {
   "cell_type": "code",
   "execution_count": null,
   "id": "867e3fb8",
   "metadata": {},
   "outputs": [],
   "source": [
    "# Create a heat map of all the features in the data frame\n",
    "sns.heatmap(df.corr(), annot = True, cmap = 'Reds');"
   ]
  },
  {
   "cell_type": "code",
   "execution_count": null,
   "id": "42d71ac1",
   "metadata": {},
   "outputs": [],
   "source": [
    "# Print a sorted series of the correlation values of all expenditure features with the \"Profits\" feature\n",
    "# Note: Extract the \"Profits\" column from the data frame returned by the \"df.corr()\" command and slice it\n",
    "# Note: Since we know that \"Profits\" will be fully positively correlated with \"Profits\", we can skip that value\n",
    "# Note: Sort the correlation values in descending order\n",
    "df.corr()['Profits'][:-1].sort_values(ascending = False)"
   ]
  },
  {
   "cell_type": "code",
   "execution_count": null,
   "id": "71883fba",
   "metadata": {},
   "outputs": [],
   "source": [
    "# Observations\n",
    "\n",
    "# As you go through the following line of inference, please remember that correlation does not imply causation\n",
    "\n",
    "# The \"Marketing\" feature has a very high degree of positive correlation with the \"Profits\" feature\n",
    "# The correlation value is about 0.94\n",
    "# It appears that if the company spends more on marketing, their profits will be more\n",
    "# The correlation value is very high, and the company need not change the way they spend on marketing\n",
    "\n",
    "# The \"Infrastructure\" feature is moderately positively correlated with the \"Profits\" feature\n",
    "# The correlation value is about 0.52\n",
    "# There appears to be some amount of positive correlation between the amount spent on infrastructure and the profits\n",
    "# Since the correlation value is moderately positive, the company could try to improve the way they spend on infrastructure\n",
    "\n",
    "# The \"Human Resources\" feature doesn't seem to be correlated with the \"Profits\" feature\n",
    "# The correlation value is about -0.05\n",
    "# There appears to be almost no correlation between the amount spend on human resources and the profits\n",
    "# The correlation value is nearly 0, and this should alarm the company management\n",
    "# The company could choose to conduct a thorough audit and review of the way the spend on human resources"
   ]
  },
  {
   "cell_type": "code",
   "execution_count": null,
   "id": "5e533437",
   "metadata": {},
   "outputs": [],
   "source": [
    "###########################################################################"
   ]
  },
  {
   "cell_type": "code",
   "execution_count": null,
   "id": "1c89aa88",
   "metadata": {},
   "outputs": [],
   "source": [
    "# Conclusions\n",
    "\n",
    "# The correlation coefficient is a very useful exploratory statistic\n",
    "# It helps to quickly identify relationships between features\n",
    "# Correlation does not imply causation, but causation surely implies correlation\n",
    "# If correlation values are not as expected, then we can use that as a sign that more investigation is required\n",
    "# Such analyses helps in many different real world scenarios for decision making"
   ]
  },
  {
   "cell_type": "code",
   "execution_count": null,
   "id": "92f388c2",
   "metadata": {},
   "outputs": [],
   "source": [
    "###########################################################################"
   ]
  }
 ],
 "metadata": {
  "kernelspec": {
   "display_name": "Python [conda env:base] *",
   "language": "python",
   "name": "conda-base-py"
  },
  "language_info": {
   "codemirror_mode": {
    "name": "ipython",
    "version": 3
   },
   "file_extension": ".py",
   "mimetype": "text/x-python",
   "name": "python",
   "nbconvert_exporter": "python",
   "pygments_lexer": "ipython3",
   "version": "3.12.7"
  }
 },
 "nbformat": 4,
 "nbformat_minor": 5
}
