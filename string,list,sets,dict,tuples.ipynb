{
 "cells": [
  {
   "cell_type": "markdown",
   "id": "d49ddc90-44a1-492d-bf23-8062742599a4",
   "metadata": {},
   "source": [
    "#string are immutable in nature it can't be change "
   ]
  },
  {
   "cell_type": "markdown",
   "id": "05d6f24f-748b-4c50-a8d5-26c295354abc",
   "metadata": {},
   "source": [
    "#split function in string"
   ]
  },
  {
   "cell_type": "code",
   "execution_count": 2,
   "id": "353c140b-05ec-4e66-9c4f-acf3a24547b4",
   "metadata": {},
   "outputs": [
    {
     "name": "stdout",
     "output_type": "stream",
     "text": [
      "I\n"
     ]
    }
   ],
   "source": [
    "my_str=  'I find Python programming very interesting!'\n",
    "print(my_str.split()[0]) # .split() = is use for slipt the words ,[] = use for indexing."
   ]
  },
  {
   "cell_type": "markdown",
   "id": "fec51cd7-96f8-4ed5-a067-51d6201b4f1c",
   "metadata": {},
   "source": [
    "#indexing"
   ]
  },
  {
   "cell_type": "code",
   "execution_count": 6,
   "id": "bc0e6cb3-a337-4db7-9e12-fd338a12ad1b",
   "metadata": {},
   "outputs": [
    {
     "name": "stdout",
     "output_type": "stream",
     "text": [
      "h\n",
      "e\n",
      "l\n",
      "l\n",
      "o\n"
     ]
    }
   ],
   "source": [
    "string = \"hello\"\n",
    "print(string[0])\n",
    "print(string[1])\n",
    "print(string[2])\n",
    "print(string[3])\n",
    "print(string[4])"
   ]
  },
  {
   "cell_type": "markdown",
   "id": "643d38dd-8bd9-41b4-800c-20d673ddf9d1",
   "metadata": {},
   "source": [
    "#Slicing strings\n",
    "Slicing lets you extract a substring from a string using the slice operator [:]. \n",
    "We can also perform slicing operations on strings to get a substring of the string over the given range. Here is the syntax for slicing.\n",
    "\n"
   ]
  },
  {
   "cell_type": "code",
   "execution_count": null,
   "id": "bd16f96f-8966-490f-aa05-8556bfdedf2d",
   "metadata": {},
   "outputs": [],
   "source": [
    "string[start:stop:step] # this how slicing work"
   ]
  },
  {
   "cell_type": "code",
   "execution_count": 15,
   "id": "9bd42927-44df-4a97-b3ed-0229e2f4d1b7",
   "metadata": {},
   "outputs": [
    {
     "name": "stdout",
     "output_type": "stream",
     "text": [
      "python\n",
      "pytho\n",
      "python\n",
      "ython\n"
     ]
    }
   ],
   "source": [
    "lang = \"python\"\n",
    "print(lang[0:6]) # the index are limited but in python we pass the over end location like lang[0:100000]\n",
    "print(lang[0:5])\n",
    "print(lang[:6]) #if you dont pass the starting it will take first one by deafault\n",
    "print(lang[1:]) # same if you dont pass the end it will take the last one \n"
   ]
  },
  {
   "cell_type": "code",
   "execution_count": 39,
   "id": "2b76b94b-167b-46ec-a1e5-1ecb8aa72476",
   "metadata": {},
   "outputs": [
    {
     "name": "stdout",
     "output_type": "stream",
     "text": [
      "anishverma\n",
      "aihem\n",
      "asea\n"
     ]
    }
   ],
   "source": [
    "#now using the step \n",
    "lang1 = \"anishverma\"\n",
    "print(lang1[0::1]) # print(lang1[0::1]) the step how to move possitive 1 show left to right and how many step taken like 1\n",
    "print(lang1[0: :2]) # in step section 2 is mention for taken jump once\n",
    "print(lang1[0: :3]) # in step section 3 is mention for taken a jump twice"
   ]
  },
  {
   "cell_type": "code",
   "execution_count": 43,
   "id": "65749408-4c50-40c1-acf6-8a5450632de4",
   "metadata": {},
   "outputs": [
    {
     "name": "stdout",
     "output_type": "stream",
     "text": [
      "C:\\Users\\anish\\OneDrive\\Documents\\GitHub\\practice\n"
     ]
    }
   ],
   "source": [
    "import os\n",
    "cwd = os.getcwd()\n",
    "print(cwd)"
   ]
  },
  {
   "cell_type": "markdown",
   "id": "f9543b2f-6161-4116-ae83-b28d1257cfbf",
   "metadata": {},
   "source": [
    "#reverse slicing "
   ]
  },
  {
   "cell_type": "code",
   "execution_count": 44,
   "id": "989eacd0-8285-4a2e-bdb7-6c08fddde756",
   "metadata": {},
   "outputs": [
    {
     "name": "stdout",
     "output_type": "stream",
     "text": [
      "nohtyp\n"
     ]
    }
   ],
   "source": [
    "name = \"python\"\n",
    "print(name[ : :-1]) #in step section i pass -1 because its start from right to left "
   ]
  },
  {
   "cell_type": "code",
   "execution_count": 49,
   "id": "c258b309-033a-44f9-a260-b789e62b4330",
   "metadata": {},
   "outputs": [
    {
     "name": "stdout",
     "output_type": "stream",
     "text": [
      "nohty\n"
     ]
    }
   ],
   "source": [
    "nam = \"python\"\n",
    "print(nam[5:0:-1])"
   ]
  },
  {
   "cell_type": "code",
   "execution_count": 50,
   "id": "0dba6c06-456d-4d60-83fb-0434574030cd",
   "metadata": {},
   "outputs": [
    {
     "name": "stdout",
     "output_type": "stream",
     "text": [
      "n\n"
     ]
    }
   ],
   "source": [
    "# for count from right to left we use negetive number like -1,-2,and -3\n",
    "name = \"anish\"\n",
    "#if i want to show only n \n",
    "print(name[-4])"
   ]
  },
  {
   "cell_type": "markdown",
   "id": "c6b64078-0344-4a4d-8d04-e1c3de5786e4",
   "metadata": {},
   "source": [
    "#operation on string "
   ]
  },
  {
   "cell_type": "markdown",
   "id": "387e570d-dae3-4dcc-8e07-3db9b2fa23be",
   "metadata": {},
   "source": [
    "    LENGTH"
   ]
  },
  {
   "cell_type": "code",
   "execution_count": 51,
   "id": "1d6a0d01-30e8-4e11-99ae-e131d6110f68",
   "metadata": {},
   "outputs": [
    {
     "name": "stdout",
     "output_type": "stream",
     "text": [
      "the length of my name is : 10\n"
     ]
    }
   ],
   "source": [
    "lenth = \"anishverma\"\n",
    "string_len = len(lenth)\n",
    "print(\"the length of my name is :\",string_len)"
   ]
  },
  {
   "cell_type": "markdown",
   "id": "6e8c57b1-cda3-4cf2-bc46-6a30ea5adc3e",
   "metadata": {},
   "source": [
    "#MEMBERSHIP OPERATER"
   ]
  },
  {
   "cell_type": "code",
   "execution_count": 53,
   "id": "a7cf4ff4-f8aa-425e-a2c4-7097d02ffd73",
   "metadata": {},
   "outputs": [
    {
     "name": "stdout",
     "output_type": "stream",
     "text": [
      "are anish in mem ? True\n"
     ]
    }
   ],
   "source": [
    "mem = \"hi my name is anish verma \"\n",
    "result = \"anish\" in mem\n",
    "print(\"are anish in mem ?\",result)"
   ]
  },
  {
   "cell_type": "markdown",
   "id": "d6bdd0b4-34c6-4920-b5d1-6d9f9997bfa0",
   "metadata": {},
   "source": [
    "#find and index"
   ]
  },
  {
   "cell_type": "code",
   "execution_count": 57,
   "id": "aa85ccad-950f-4f0e-b656-4628d577dcea",
   "metadata": {},
   "outputs": [
    {
     "name": "stdout",
     "output_type": "stream",
     "text": [
      "the first index of o is = 4\n",
      "the index start from = 5\n"
     ]
    }
   ],
   "source": [
    "find = \"helloworld\"\n",
    "index_o = find.index(\"o\") #We use the .index() method to find the index of the character 'o' in the string my_string. In this case, it will return the index of the first 'o' in the string.\n",
    "find_world = find.find(\"world\") #We use the .find() method to find the index of the substring 'World' in the string my_string.\n",
    "print(\"the first index of o is =\",index_o)\n",
    "print(\"the index start from =\",find_world)"
   ]
  },
  {
   "cell_type": "markdown",
   "id": "d0d4266c-1d7b-4246-9f22-ec682ce258c0",
   "metadata": {},
   "source": [
    "#COUNTING"
   ]
  },
  {
   "cell_type": "code",
   "execution_count": 58,
   "id": "29f1a916-a1a4-4262-af60-6e1b52cbd053",
   "metadata": {},
   "outputs": [
    {
     "name": "stdout",
     "output_type": "stream",
     "text": [
      "3\n"
     ]
    }
   ],
   "source": [
    "count1 = \"hello world i am anish verma \"\n",
    "count_a = count1.count(\"a\") # count function count the char how many time its use in string\n",
    "print(count_a)"
   ]
  },
  {
   "cell_type": "markdown",
   "id": "2af978ee-ed69-49a5-83ba-c181d770bff9",
   "metadata": {},
   "source": [
    "#ASCII VALUE"
   ]
  },
  {
   "cell_type": "code",
   "execution_count": 62,
   "id": "8dfef734-1401-466d-9990-a2117b71a7ab",
   "metadata": {},
   "outputs": [
    {
     "name": "stdout",
     "output_type": "stream",
     "text": [
      "the ascii vale of 'o'?= 111\n",
      "the ascii value of 'a'?= 97\n",
      "the ascii value of 'A'?= 65\n"
     ]
    }
   ],
   "source": [
    "asc_1 = ord (\"o\")\n",
    "asc_2 = ord(\"a\")\n",
    "asc_3 = ord(\"A\")\n",
    "\n",
    "print(\"the ascii vale of 'o'?=\",asc_1)\n",
    "print(\"the ascii value of 'a'?=\",asc_2)\n",
    "print(\"the ascii value of 'A'?=\",asc_3)"
   ]
  },
  {
   "cell_type": "markdown",
   "id": "3fa5a3cb-eb8c-46d1-a9f1-084b054baafb",
   "metadata": {},
   "source": [
    "Concatenating strings"
   ]
  },
  {
   "cell_type": "code",
   "execution_count": 63,
   "id": "992f54b3-f05d-47c3-9ee5-f791d5c65016",
   "metadata": {},
   "outputs": [
    {
     "name": "stdout",
     "output_type": "stream",
     "text": [
      "anish verma\n"
     ]
    }
   ],
   "source": [
    "name = \"anish\"\n",
    "ser_name = \"verma\"\n",
    "full_name = name + \" \" +ser_name\n",
    "print(full_name)"
   ]
  },
  {
   "cell_type": "markdown",
   "id": "86401661-a218-4e92-922f-9851ca8a4096",
   "metadata": {},
   "source": [
    "STRIP"
   ]
  },
  {
   "cell_type": "code",
   "execution_count": 64,
   "id": "7b4779a1-98af-4e5b-93dd-0c78a28a6aaa",
   "metadata": {},
   "outputs": [
    {
     "name": "stdout",
     "output_type": "stream",
     "text": [
      "hi my name is anish verma      \n",
      "       hi my name is anish verma\n",
      "hi my name is anish verma\n"
     ]
    }
   ],
   "source": [
    "strip = \"       hi my name is anish verma      \"\n",
    "left_strip = strip.lstrip()\n",
    "right_strip = strip.rstrip()\n",
    "full_strip = strip.strip()\n",
    "print(left_strip)\n",
    "print(right_strip)\n",
    "print(full_strip)"
   ]
  },
  {
   "cell_type": "markdown",
   "id": "d310abb8-3dbb-40bb-8f43-de750b2e0683",
   "metadata": {},
   "source": [
    "REPLACE FUNCTION"
   ]
  },
  {
   "cell_type": "code",
   "execution_count": 65,
   "id": "d199ab87-ba04-43fc-839f-5148ec4fe2f8",
   "metadata": {},
   "outputs": [
    {
     "name": "stdout",
     "output_type": "stream",
     "text": [
      "hi my name is anish verma .\n",
      "hi$my$name$is$anish$sharma$.\n"
     ]
    }
   ],
   "source": [
    "my_string = \"hi my name is anish sharma .\"\n",
    "replace_string = my_string.replace(\"sharma\",\"verma\")\n",
    "replace_space = my_string.replace(\" \",\"$\")\n",
    "print(replace_string)\n",
    "print(replace_space)"
   ]
  },
  {
   "cell_type": "markdown",
   "id": "7a48b1b4-c691-4ed9-aa40-8c35ad89c169",
   "metadata": {},
   "source": [
    "SPLIT THE STRING"
   ]
  },
  {
   "cell_type": "code",
   "execution_count": 66,
   "id": "28768a95-1256-49a7-a87f-9c9c0505d8ac",
   "metadata": {},
   "outputs": [
    {
     "name": "stdout",
     "output_type": "stream",
     "text": [
      "['hi', 'my', 'name', 'is', 'anish', 'verma', ',', 'i', 'am', 'bca', 'student']\n"
     ]
    }
   ],
   "source": [
    "my_string = \"hi my name is anish verma , i am bca student \"\n",
    "split_string = my_string.split()\n",
    "print(split_string)"
   ]
  },
  {
   "cell_type": "markdown",
   "id": "0bcaba96-c28e-496c-b53c-74d4c36e0948",
   "metadata": {},
   "source": [
    "title function = this function capitalize the first letter of the word"
   ]
  },
  {
   "cell_type": "code",
   "execution_count": 67,
   "id": "76b82f04-7b04-4371-82dc-f8e59d185b7f",
   "metadata": {},
   "outputs": [
    {
     "name": "stdout",
     "output_type": "stream",
     "text": [
      "Hi My Name Is Anish Verma \n"
     ]
    }
   ],
   "source": [
    "my_string = \"hi my name is anish verma \"\n",
    "title_string = my_string.title()\n",
    "print(title_string)"
   ]
  },
  {
   "cell_type": "code",
   "execution_count": null,
   "id": "919444a1-cd63-4f99-8316-4d0ea4cc3fc7",
   "metadata": {},
   "outputs": [],
   "source": []
  },
  {
   "cell_type": "code",
   "execution_count": null,
   "id": "4c353dc1-f216-4b60-95ac-9638afcc244a",
   "metadata": {},
   "outputs": [],
   "source": []
  },
  {
   "cell_type": "markdown",
   "id": "f238b43a-7236-485f-8bad-5fe28a032374",
   "metadata": {
    "editable": true,
    "slideshow": {
     "slide_type": ""
    },
    "tags": []
   },
   "source": [
    "LIST\n",
    "Lists in Python are one of the most versatile data structures available. They store an ordered collection of items, which might be of different types. Unlike strings, lists are mutable, which means that their contents can be modified, without having to create a new list. This feature makes them very useful for handling datasets, performing various operations like sorting and searching, and implementing data structures like stacks and queues."
   ]
  },
  {
   "cell_type": "code",
   "execution_count": null,
   "id": "23c464f8-d4dc-4763-86e2-683baac4260d",
   "metadata": {},
   "outputs": [],
   "source": [
    "#Creating an empty list\n",
    "#An empty list is a list that contains no items. Below, the list fruits is an example of an empty list.\n",
    "NAME = []"
   ]
  },
  {
   "cell_type": "code",
   "execution_count": 18,
   "id": "762670f2-dbd6-41fa-93de-a081ab04f007",
   "metadata": {},
   "outputs": [
    {
     "name": "stdout",
     "output_type": "stream",
     "text": [
      "['anish', 'lucky', 'samad', 'kaif']\n",
      "[9, 5, 4, 6, 7, 2, 1]\n"
     ]
    }
   ],
   "source": [
    "name = ['anish','lucky','samad','kaif']\n",
    "num = [9,5,4,6,7,2,1]\n",
    "\n",
    "name_list = list(name)\n",
    "print(name_list)\n",
    "print(list(num))"
   ]
  },
  {
   "cell_type": "code",
   "execution_count": null,
   "id": "0b85d7d5-3e06-4cf3-a111-10b63121d49d",
   "metadata": {},
   "outputs": [],
   "source": [
    "#created nested list"
   ]
  },
  {
   "cell_type": "code",
   "execution_count": 39,
   "id": "458be6b4-507d-47f2-a0a9-d49c92c13208",
   "metadata": {},
   "outputs": [
    {
     "name": "stdout",
     "output_type": "stream",
     "text": [
      "[[1, 2], [3, 4], [5, 6], [7, 8]]\n"
     ]
    }
   ],
   "source": [
    "num = [[1,2],[3,4],[5,6],[7,8]]\n",
    "\n",
    "print(num)"
   ]
  },
  {
   "cell_type": "markdown",
   "id": "5bab7991-e85b-4396-87a5-b74068b61f1e",
   "metadata": {},
   "source": [
    "mixed list "
   ]
  },
  {
   "cell_type": "code",
   "execution_count": 42,
   "id": "66536b4f-8aa8-4943-a7af-f3e5dd9b599c",
   "metadata": {},
   "outputs": [
    {
     "name": "stdout",
     "output_type": "stream",
     "text": [
      "<class 'list'>\n",
      "<class 'str'>\n",
      "<class 'int'>\n",
      "<class 'float'>\n",
      "<class 'bool'>\n",
      "<class 'list'>\n"
     ]
    }
   ],
   "source": [
    "mixed_type = ['anish',120,3.15, True ,[2,5] ]\n",
    "print(type(mixed_type))\n",
    "print(type(mixed_type[0]))\n",
    "print(type(mixed_type[1]))\n",
    "print(type(mixed_type[2]))\n",
    "print(type(mixed_type[3]))\n",
    "print(type(mixed_type[4]))"
   ]
  },
  {
   "cell_type": "markdown",
   "id": "45b2c07c-6c74-4cb3-95f5-0f80c3bfde80",
   "metadata": {},
   "source": [
    "Slicing elements from a list\n",
    "\n",
    "List slicing allows you to extract a specific range of elements from a list. This is done using the syntax [start:stop:step], where start represents the index for the beginning of the slice, stop is the endpoint (not included in the slice), and step is the interval between elements. This technique is crucial for data manipulation and subset extraction without modifying the original list."
   ]
  },
  {
   "cell_type": "code",
   "execution_count": 43,
   "id": "597accee-a871-4458-b684-d83cc7415a22",
   "metadata": {},
   "outputs": [
    {
     "name": "stdout",
     "output_type": "stream",
     "text": [
      "['a', 'n', 'i']\n"
     ]
    }
   ],
   "source": [
    "name = ['a','n','i','s','h']\n",
    "name_slic = name[0:3]\n",
    "print(name_slic)"
   ]
  },
  {
   "cell_type": "markdown",
   "id": "67391149-7150-4b43-aba1-a5288720f8cb",
   "metadata": {},
   "source": [
    "nested slicing"
   ]
  },
  {
   "cell_type": "code",
   "execution_count": 45,
   "id": "0bea354c-e35a-4f22-b774-9a20720d8223",
   "metadata": {},
   "outputs": [
    {
     "name": "stdout",
     "output_type": "stream",
     "text": [
      "[3, 4]\n"
     ]
    }
   ],
   "source": [
    "nested = [[1,2],[3,4],[5,6],[7,8]]\n",
    "nested_slicing = nested[1][0:2]\n",
    "print(nested_slicing)"
   ]
  },
  {
   "cell_type": "code",
   "execution_count": 50,
   "id": "0000e277-aad5-495e-80c5-66ad4d6a5b25",
   "metadata": {},
   "outputs": [
    {
     "name": "stdout",
     "output_type": "stream",
     "text": [
      "[4, 5, 9]\n",
      "lucky\n"
     ]
    }
   ],
   "source": [
    "#another example \n",
    "nested_list = [['ansih','lucky','samad'],[1,2,3,4,5,9],3.145789,[True]]\n",
    "nst_slic = nested_list [0][1]\n",
    "nst_slic1 = nested_list [1][3:]\n",
    "print(nst_slic1)\n",
    "print(nst_slic)"
   ]
  },
  {
   "cell_type": "code",
   "execution_count": null,
   "id": "b2665d6a-9187-488d-b396-67bee990fbab",
   "metadata": {},
   "outputs": [],
   "source": []
  },
  {
   "cell_type": "code",
   "execution_count": null,
   "id": "7ee14f3b-f3d5-4f4f-8c3c-c6ed25c2bc5f",
   "metadata": {},
   "outputs": [],
   "source": []
  },
  {
   "cell_type": "code",
   "execution_count": null,
   "id": "ba8ddac5-4ac7-4543-a1db-7db09257bf16",
   "metadata": {},
   "outputs": [],
   "source": []
  },
  {
   "cell_type": "code",
   "execution_count": null,
   "id": "a5288b48-97f5-4e61-84f1-cf382005e011",
   "metadata": {},
   "outputs": [],
   "source": []
  },
  {
   "cell_type": "code",
   "execution_count": null,
   "id": "89284383-1b69-405e-8e10-c5a4e2952543",
   "metadata": {},
   "outputs": [],
   "source": []
  },
  {
   "cell_type": "code",
   "execution_count": null,
   "id": "55cf1dad-c6e2-4575-a732-25f2a0a87482",
   "metadata": {},
   "outputs": [],
   "source": []
  },
  {
   "cell_type": "code",
   "execution_count": null,
   "id": "73c3452e-b8c1-42e1-84df-1456c13541ec",
   "metadata": {},
   "outputs": [],
   "source": []
  },
  {
   "cell_type": "code",
   "execution_count": null,
   "id": "98518c5a-f420-4a66-86e2-8b371ad1c4ea",
   "metadata": {},
   "outputs": [],
   "source": []
  }
 ],
 "metadata": {
  "kernelspec": {
   "display_name": "Python 3 (ipykernel)",
   "language": "python",
   "name": "python3"
  },
  "language_info": {
   "codemirror_mode": {
    "name": "ipython",
    "version": 3
   },
   "file_extension": ".py",
   "mimetype": "text/x-python",
   "name": "python",
   "nbconvert_exporter": "python",
   "pygments_lexer": "ipython3",
   "version": "3.12.7"
  }
 },
 "nbformat": 4,
 "nbformat_minor": 5
}
