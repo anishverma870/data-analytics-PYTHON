{
 "cells": [
  {
   "cell_type": "code",
   "execution_count": 1,
   "id": "3bbe3ec7-6762-4f1b-bdbf-50ee4694ea69",
   "metadata": {},
   "outputs": [],
   "source": [
    "import numpy as np \n",
    "import pandas as pd\n",
    "import matplotlib.pyplot as plt\n",
    "import seaborn as sn"
   ]
  },
  {
   "cell_type": "code",
   "execution_count": 3,
   "id": "ea14bf85-ffba-44a9-8b03-79c680a6e73b",
   "metadata": {},
   "outputs": [],
   "source": [
    "elecar = pd.read_csv(\"IEA-EV-dataEV salesHistoricalCars.csv\")"
   ]
  },
  {
   "cell_type": "code",
   "execution_count": 7,
   "id": "7cb85702-80fc-465a-9ac4-57dbfa2913c3",
   "metadata": {},
   "outputs": [
    {
     "data": {
      "text/html": [
       "<div>\n",
       "<style scoped>\n",
       "    .dataframe tbody tr th:only-of-type {\n",
       "        vertical-align: middle;\n",
       "    }\n",
       "\n",
       "    .dataframe tbody tr th {\n",
       "        vertical-align: top;\n",
       "    }\n",
       "\n",
       "    .dataframe thead th {\n",
       "        text-align: right;\n",
       "    }\n",
       "</style>\n",
       "<table border=\"1\" class=\"dataframe\">\n",
       "  <thead>\n",
       "    <tr style=\"text-align: right;\">\n",
       "      <th></th>\n",
       "      <th>region</th>\n",
       "      <th>category</th>\n",
       "      <th>parameter</th>\n",
       "      <th>mode</th>\n",
       "      <th>powertrain</th>\n",
       "      <th>year</th>\n",
       "      <th>unit</th>\n",
       "      <th>value</th>\n",
       "    </tr>\n",
       "  </thead>\n",
       "  <tbody>\n",
       "    <tr>\n",
       "      <th>0</th>\n",
       "      <td>Australia</td>\n",
       "      <td>Historical</td>\n",
       "      <td>EV sales</td>\n",
       "      <td>Cars</td>\n",
       "      <td>BEV</td>\n",
       "      <td>2011</td>\n",
       "      <td>Vehicles</td>\n",
       "      <td>49.00000</td>\n",
       "    </tr>\n",
       "    <tr>\n",
       "      <th>1</th>\n",
       "      <td>Australia</td>\n",
       "      <td>Historical</td>\n",
       "      <td>EV stock share</td>\n",
       "      <td>Cars</td>\n",
       "      <td>EV</td>\n",
       "      <td>2011</td>\n",
       "      <td>percent</td>\n",
       "      <td>0.00039</td>\n",
       "    </tr>\n",
       "    <tr>\n",
       "      <th>2</th>\n",
       "      <td>Australia</td>\n",
       "      <td>Historical</td>\n",
       "      <td>EV sales share</td>\n",
       "      <td>Cars</td>\n",
       "      <td>EV</td>\n",
       "      <td>2011</td>\n",
       "      <td>percent</td>\n",
       "      <td>0.00650</td>\n",
       "    </tr>\n",
       "    <tr>\n",
       "      <th>3</th>\n",
       "      <td>Australia</td>\n",
       "      <td>Historical</td>\n",
       "      <td>EV stock</td>\n",
       "      <td>Cars</td>\n",
       "      <td>BEV</td>\n",
       "      <td>2011</td>\n",
       "      <td>Vehicles</td>\n",
       "      <td>49.00000</td>\n",
       "    </tr>\n",
       "    <tr>\n",
       "      <th>4</th>\n",
       "      <td>Australia</td>\n",
       "      <td>Historical</td>\n",
       "      <td>EV stock</td>\n",
       "      <td>Cars</td>\n",
       "      <td>BEV</td>\n",
       "      <td>2012</td>\n",
       "      <td>Vehicles</td>\n",
       "      <td>220.00000</td>\n",
       "    </tr>\n",
       "  </tbody>\n",
       "</table>\n",
       "</div>"
      ],
      "text/plain": [
       "      region    category       parameter  mode powertrain  year      unit  \\\n",
       "0  Australia  Historical        EV sales  Cars        BEV  2011  Vehicles   \n",
       "1  Australia  Historical  EV stock share  Cars         EV  2011   percent   \n",
       "2  Australia  Historical  EV sales share  Cars         EV  2011   percent   \n",
       "3  Australia  Historical        EV stock  Cars        BEV  2011  Vehicles   \n",
       "4  Australia  Historical        EV stock  Cars        BEV  2012  Vehicles   \n",
       "\n",
       "       value  \n",
       "0   49.00000  \n",
       "1    0.00039  \n",
       "2    0.00650  \n",
       "3   49.00000  \n",
       "4  220.00000  "
      ]
     },
     "execution_count": 7,
     "metadata": {},
     "output_type": "execute_result"
    }
   ],
   "source": [
    "elecar.head(5)"
   ]
  },
  {
   "cell_type": "code",
   "execution_count": 9,
   "id": "c516bad6-b3af-4c16-a64b-d770d5911e60",
   "metadata": {},
   "outputs": [
    {
     "data": {
      "text/plain": [
       "region        0.0\n",
       "category      0.0\n",
       "parameter     0.0\n",
       "mode          0.0\n",
       "powertrain    0.0\n",
       "year          0.0\n",
       "unit          0.0\n",
       "value         0.0\n",
       "dtype: float64"
      ]
     },
     "execution_count": 9,
     "metadata": {},
     "output_type": "execute_result"
    }
   ],
   "source": [
    "elecar.isna().mean()*100"
   ]
  },
  {
   "cell_type": "code",
   "execution_count": 13,
   "id": "648ef8ae-dfa1-4722-8d11-74db9a18aadf",
   "metadata": {},
   "outputs": [
    {
     "data": {
      "text/plain": [
       "region         object\n",
       "category       object\n",
       "parameter      object\n",
       "mode           object\n",
       "powertrain     object\n",
       "year            int64\n",
       "unit           object\n",
       "value         float64\n",
       "dtype: object"
      ]
     },
     "execution_count": 13,
     "metadata": {},
     "output_type": "execute_result"
    }
   ],
   "source": [
    "elecar.dtypes"
   ]
  },
  {
   "cell_type": "code",
   "execution_count": 15,
   "id": "2a071786-72f1-4266-816a-1b5fe45840ff",
   "metadata": {},
   "outputs": [
    {
     "data": {
      "text/plain": [
       "(3798, 8)"
      ]
     },
     "execution_count": 15,
     "metadata": {},
     "output_type": "execute_result"
    }
   ],
   "source": [
    "elecar.shape"
   ]
  },
  {
   "cell_type": "code",
   "execution_count": 23,
   "id": "87341627-4d02-4cd3-af0d-383869b3d18b",
   "metadata": {},
   "outputs": [],
   "source": [
    "for x in elecar.columns:\n",
    "    elecar[x].value_counts()"
   ]
  },
  {
   "cell_type": "code",
   "execution_count": 25,
   "id": "d834070a-ce12-4e6c-a3d4-e41627414579",
   "metadata": {},
   "outputs": [
    {
     "name": "stdout",
     "output_type": "stream",
     "text": [
      "\n",
      "Value counts for column: region\n",
      "region\n",
      "World                   154\n",
      "Europe                  154\n",
      "USA                     144\n",
      "China                   132\n",
      "Rest of the world       124\n",
      "EU27                    112\n",
      "Germany                 109\n",
      "Belgium                 107\n",
      "France                  105\n",
      "Japan                   104\n",
      "India                   104\n",
      "Netherlands             103\n",
      "Norway                  102\n",
      "Denmark                 101\n",
      "Sweden                  100\n",
      "United Kingdom          100\n",
      "Canada                   97\n",
      "Iceland                  96\n",
      "Italy                    96\n",
      "Switzerland              95\n",
      "Spain                    94\n",
      "New Zealand              92\n",
      "Korea                    92\n",
      "Austria                  90\n",
      "Portugal                 85\n",
      "Finland                  82\n",
      "Australia                82\n",
      "Israel                   78\n",
      "Chile                    77\n",
      "Poland                   75\n",
      "Brazil                   73\n",
      "Mexico                   70\n",
      "South Africa             69\n",
      "Turkiye                  64\n",
      "Greece                   62\n",
      "Colombia                 27\n",
      "Hungary                  27\n",
      "Costa Rica               27\n",
      "Ireland                  27\n",
      "Latvia                   27\n",
      "Bulgaria                 25\n",
      "Estonia                  25\n",
      "Czech Republic           24\n",
      "Slovenia                 24\n",
      "Slovakia                 23\n",
      "Romania                  19\n",
      "Lithuania                19\n",
      "Seychelles               18\n",
      "United Arab Emirates     18\n",
      "Croatia                  15\n",
      "Luxembourg               15\n",
      "Cyprus                   14\n",
      "Name: count, dtype: int64\n",
      "\n",
      "Value counts for column: category\n",
      "category\n",
      "Historical    3798\n",
      "Name: count, dtype: int64\n",
      "\n",
      "Value counts for column: parameter\n",
      "parameter\n",
      "EV sales                         1342\n",
      "EV stock                         1145\n",
      "EV sales share                    603\n",
      "EV stock share                    465\n",
      "Oil displacement Mbd               84\n",
      "Oil displacement, million lge      84\n",
      "Electricity demand                 75\n",
      "Name: count, dtype: int64\n",
      "\n",
      "Value counts for column: mode\n",
      "mode\n",
      "Cars    3798\n",
      "Name: count, dtype: int64\n",
      "\n",
      "Value counts for column: powertrain\n",
      "powertrain\n",
      "EV      1311\n",
      "BEV     1078\n",
      "PHEV     922\n",
      "FCEV     487\n",
      "Name: count, dtype: int64\n",
      "\n",
      "Value counts for column: year\n",
      "year\n",
      "2021    338\n",
      "2022    336\n",
      "2023    332\n",
      "2020    321\n",
      "2019    319\n",
      "2018    301\n",
      "2017    294\n",
      "2016    289\n",
      "2015    287\n",
      "2014    238\n",
      "2013    223\n",
      "2012    203\n",
      "2011    182\n",
      "2010    135\n",
      "Name: count, dtype: int64\n",
      "\n",
      "Value counts for column: unit\n",
      "unit\n",
      "Vehicles                         2487\n",
      "percent                          1068\n",
      "Milion barrels per day             84\n",
      "Oil displacement, million lge      84\n",
      "GWh                                75\n",
      "Name: count, dtype: int64\n",
      "\n",
      "Value counts for column: value\n",
      "value\n",
      "1.000000e+00    47\n",
      "2.000000e+00    35\n",
      "3.000000e+00    32\n",
      "1.200000e+03    27\n",
      "1.400000e+03    25\n",
      "                ..\n",
      "8.600000e-01     1\n",
      "6.700000e+00     1\n",
      "4.000000e-04     1\n",
      "5.400000e-03     1\n",
      "9.500000e+06     1\n",
      "Name: count, Length: 814, dtype: int64\n"
     ]
    }
   ],
   "source": [
    "for x in elecar.columns:\n",
    "    print(f\"\\nValue counts for column: {x}\")\n",
    "    print(elecar[x].value_counts())\n"
   ]
  },
  {
   "cell_type": "code",
   "execution_count": null,
   "id": "b65e3f3e-4ff1-4b90-b77d-0fd0a7f3d0ad",
   "metadata": {},
   "outputs": [],
   "source": []
  },
  {
   "cell_type": "code",
   "execution_count": null,
   "id": "a6f5dd73-6654-4cf2-8a50-5f08a7f575a6",
   "metadata": {},
   "outputs": [],
   "source": []
  },
  {
   "cell_type": "code",
   "execution_count": null,
   "id": "6886e7ca-0bfc-454c-9ab8-5518c5902b72",
   "metadata": {},
   "outputs": [],
   "source": []
  },
  {
   "cell_type": "code",
   "execution_count": null,
   "id": "a118787f-d638-4d78-a0d4-b8b92058c34a",
   "metadata": {},
   "outputs": [],
   "source": []
  },
  {
   "cell_type": "code",
   "execution_count": null,
   "id": "5b35e7b7-fa9a-4297-9697-21581cdd376d",
   "metadata": {},
   "outputs": [],
   "source": []
  },
  {
   "cell_type": "code",
   "execution_count": null,
   "id": "0e2c0c82-8988-4c93-8559-bda99a92faa7",
   "metadata": {},
   "outputs": [],
   "source": []
  },
  {
   "cell_type": "code",
   "execution_count": null,
   "id": "aa9b9bb4-10df-45a6-9555-ac8005c587bf",
   "metadata": {},
   "outputs": [],
   "source": []
  },
  {
   "cell_type": "code",
   "execution_count": null,
   "id": "7839df6b-f138-4792-a198-d29a482bf920",
   "metadata": {},
   "outputs": [],
   "source": []
  },
  {
   "cell_type": "code",
   "execution_count": null,
   "id": "6ba6452a-50ac-43ad-a960-623cce29e099",
   "metadata": {},
   "outputs": [],
   "source": []
  },
  {
   "cell_type": "code",
   "execution_count": null,
   "id": "6af00bb3-08b1-43ae-b25a-fea960b42285",
   "metadata": {},
   "outputs": [],
   "source": []
  },
  {
   "cell_type": "code",
   "execution_count": null,
   "id": "a03f387f-eb4a-4110-92d2-5e76450b5ad2",
   "metadata": {},
   "outputs": [],
   "source": []
  },
  {
   "cell_type": "code",
   "execution_count": null,
   "id": "14e5e406-4282-40c3-af8e-05bdb1023d43",
   "metadata": {},
   "outputs": [],
   "source": []
  },
  {
   "cell_type": "code",
   "execution_count": null,
   "id": "8aacc683-68dd-4aa9-90fa-a8ed4f009a51",
   "metadata": {},
   "outputs": [],
   "source": []
  },
  {
   "cell_type": "code",
   "execution_count": null,
   "id": "15cbd09b-555e-478f-88bc-695434498531",
   "metadata": {},
   "outputs": [],
   "source": []
  },
  {
   "cell_type": "code",
   "execution_count": null,
   "id": "185f937a-299f-43f3-8b33-b358d4cd0222",
   "metadata": {},
   "outputs": [],
   "source": []
  },
  {
   "cell_type": "code",
   "execution_count": null,
   "id": "ee1751e6-ab77-4de6-baa6-bb3e1884300a",
   "metadata": {},
   "outputs": [],
   "source": []
  }
 ],
 "metadata": {
  "kernelspec": {
   "display_name": "Python [conda env:base] *",
   "language": "python",
   "name": "conda-base-py"
  },
  "language_info": {
   "codemirror_mode": {
    "name": "ipython",
    "version": 3
   },
   "file_extension": ".py",
   "mimetype": "text/x-python",
   "name": "python",
   "nbconvert_exporter": "python",
   "pygments_lexer": "ipython3",
   "version": "3.12.7"
  }
 },
 "nbformat": 4,
 "nbformat_minor": 5
}
